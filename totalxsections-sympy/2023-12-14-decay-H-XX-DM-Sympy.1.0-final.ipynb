{
 "cells": [
  {
   "cell_type": "code",
   "execution_count": 1,
   "metadata": {},
   "outputs": [],
   "source": [
    "# SYMPY code for ee-Z-WW (s-channel) amplitude and total cross-section"
   ]
  },
  {
   "cell_type": "code",
   "execution_count": 2,
   "metadata": {},
   "outputs": [],
   "source": [
    "#!python -m pip install sympy"
   ]
  },
  {
   "cell_type": "code",
   "execution_count": 3,
   "metadata": {},
   "outputs": [
    {
     "name": "stdout",
     "output_type": "stream",
     "text": [
      "Reading heppackv0.py (March 2023)\n",
      "\n",
      "Done\n"
     ]
    }
   ],
   "source": [
    "from sympy import *\n",
    "import prof_berger.heppackv0 as hep \n",
    "import numpy as np\n"
   ]
  },
  {
   "attachments": {},
   "cell_type": "markdown",
   "metadata": {},
   "source": [
    "### Auxiliary Functions"
   ]
  },
  {
   "cell_type": "code",
   "execution_count": 4,
   "metadata": {},
   "outputs": [],
   "source": [
    "from sympy import symbols, sqrt, assuming, Q\n",
    "\n",
    "def find_symbol(expr, target: str):\n",
    "    symb_lst = list(expr.free_symbols)\n",
    "    names_lst = []\n",
    "    if len(symb_lst) > 0: \n",
    "        for symbol in expr.free_symbols:\n",
    "            \n",
    "            names_lst.append(symbol.name)\n",
    "\n",
    "            if symbol.name in target:\n",
    "                return symbol\n",
    "            \n",
    "            else:\n",
    "                pass\n",
    "        \n",
    "        # print(f\"Symbol {target} not found. \\n The symbols in the expression are {expr.free_symbols}\")\n",
    "                #pass\n",
    "        # print(f\"Symbol {target} not found. \\n The symbols in the expression are {expr.free_symbols}\")\n",
    "        # return None\n",
    "        return symbols(target, real=True, positive=True)\n",
    "    # symbol not found, create the same\n",
    "    else:\n",
    "        return symbols(target, real=True, positive=True)\n",
    "\n",
    "# Unify the symbols of different expressions\n",
    "def unify_symbols(expr1, expr2):\n",
    "    symbols_expr1 = set([x.name for x in expr1.free_symbols])\n",
    "    symbols_expr2 = set([x.name for x in expr2.free_symbols])\n",
    "\n",
    "    common_symbols = symbols_expr1.intersection(symbols_expr2)\n",
    "    #print(common_symbols)\n",
    "\n",
    "    symbol_mapping = {}\n",
    "    for symbol in common_symbols:\n",
    "        new_symbol = Symbol(symbol)\n",
    "        symbol_mapping[symbol] = new_symbol\n",
    "\n",
    "    #print(symbol_mapping)\n",
    "    expr1 = expr1.subs(symbol_mapping)\n",
    "    expr2 = expr2.subs(symbol_mapping)\n",
    "\n",
    "    return expr1, expr2\n",
    "\n",
    "# Define LaTeX expressions\n",
    "# Parse the LaTeX expressions - EXAMPLE\n",
    "# Unify symbols with the same text names\n",
    "#unified_expr1, unified_expr2 = unify_symbols(expr1, expr2)\n",
    "#dl.replace(dl.args[1].args[0], n)\n",
    "#print(\"Unified Expression 1:\", unified_expr1)\n",
    "#print(\"Unified Expression 2:\", unified_expr2)"
   ]
  },
  {
   "attachments": {},
   "cell_type": "markdown",
   "metadata": {},
   "source": [
    "# Steps for SYMPY calculation"
   ]
  },
  {
   "attachments": {},
   "cell_type": "markdown",
   "metadata": {},
   "source": [
    "--> The following calculations were based on Prof. Christoph Berger work and functions for HEP calculation on Sympy."
   ]
  },
  {
   "attachments": {},
   "cell_type": "markdown",
   "metadata": {},
   "source": [
    "-> Modifications by me, for the original, see his notebooks. https://profchristophberger.com/lehrbuch-elementarteilchenphysik/python/"
   ]
  },
  {
   "attachments": {},
   "cell_type": "markdown",
   "metadata": {},
   "source": [
    "---\n",
    "---\n",
    "---\n",
    "\n",
    "## Process: $ H(q) \\to W^-_0(k_1)+W^+_0(k_2)$"
   ]
  },
  {
   "attachments": {},
   "cell_type": "markdown",
   "metadata": {},
   "source": [
    "### Symbols, vectors and constants\n"
   ]
  },
  {
   "cell_type": "code",
   "execution_count": 5,
   "metadata": {},
   "outputs": [],
   "source": [
    "## latex symbols doesn't need \"$\" \n",
    "theta, phi = symbols('theta phi', real=True, positive=True)\n",
    "\n",
    "s, t, u, p, s0, t0, u0, Gamma = symbols('s t u p s_0 t_0 u_0 Gamma', real=True, positive=True)\n",
    "\n",
    "Mmed, mf= symbols(r'M_{med} m_f', real=True, positive=True)\n",
    "\n",
    "## Extra terms\n",
    "\n",
    "Etot, E1, E2, m1, m2 = symbols(r'E_tot E_1 E_2 m_1 m_2', real=True, positive=True)\n",
    "\n",
    "# Electroweak constants\n",
    "#cv, ca, gz, gw, thetaw, gz_theta, gw_theta = symbols(r'c_v c_a g_Z g_W theta_W g_Z_theta g_W_theta', real=True, positive=True )\n",
    "\n",
    "\n",
    "#E1, E2, E3, E4, theta2, theta3, Mi, Mf, gx = symbols(r'E_1  E_2 E_3 E_4 theta_2 theta_3 M_i M_f g_{\\chi}', real=True, positive=True)\n"
   ]
  },
  {
   "attachments": {},
   "cell_type": "markdown",
   "metadata": {},
   "source": [
    "---\n",
    "# Decay width Z -> WW"
   ]
  },
  {
   "cell_type": "code",
   "execution_count": 6,
   "metadata": {},
   "outputs": [
    {
     "data": {
      "image/png": "[encoded data removed]",
      "text/latex": [
       "$\\displaystyle \\pi$"
      ],
      "text/plain": [
       "π"
      ]
     },
     "execution_count": 6,
     "metadata": {},
     "output_type": "execute_result"
    }
   ],
   "source": [
    "pi"
   ]
  },
  {
   "cell_type": "code",
   "execution_count": 7,
   "metadata": {},
   "outputs": [],
   "source": [
    "# 2 -> 2 process, p1, p2 -> q -> k1, k2\n",
    "#p1 = Matrix([sqrt(s)/2, 0, 0, 0])\n",
    "#p2 = Matrix([sqrt(s)/2, 0, pi, pi])\n",
    "\n",
    "# vectors defined  as E, m, theta, phi\n",
    "\n",
    "#k = Matrix([sqrt(s), Mmed, 0, 0])\n",
    "#p3 = Matrix([(Mmed**2)/2, mf, theta, 0])\n",
    "#p4 = Matrix([(Mmed**2)/2, mf, -theta, phi])\n",
    "\n",
    "\n",
    "## Por conservação de momento de uma partícula decaindo em repouso, teremos que:\n",
    "# k = (M, 0, 0, 0)\n",
    "# M = E1 + E2\n",
    "# E2 = M - E1\n",
    "\n",
    "\n",
    "k = Matrix([0, Mmed, 0, 0])\n",
    "\n",
    "p3 = Matrix([E1, mf,  theta,  0])\n",
    "p4 = Matrix([Mmed - E1, mf, -theta,  pi])\n",
    "\n",
    "# ki=[Mi,Mi,0,0]\n",
    "# pout=[E1,Mf,0,0]\n",
    "# kf=[E3,0,theta3,0]\n",
    "# pf=[E2,0,theta2,0]\n"
   ]
  },
  {
   "cell_type": "code",
   "execution_count": 8,
   "metadata": {},
   "outputs": [],
   "source": [
    "# def Vvertex(ki, p3, p4, h3, h4, hk, gx, conjugate = False):\n",
    "\n",
    "\n",
    "\n",
    "#     ## Vertex(mu, nu, lamb) * eps(ki, mu) * eps(p3, nu) * eps(p4, lamb)\n",
    "#     # k - incoming\n",
    "#     # p3 - out\n",
    "#     # p4 - out\n",
    "#     ## Followin Quigg book (Gauge Theories of Strong, Weak and Electromagnetic Interactions, 2ed 2013), page 131\n",
    "#     p = hep.fourvec(ki)   # mu, GeV \n",
    "#     q = hep.fourvec(- p3) # nu, GeV\n",
    "#     k = hep.fourvec(- p4) # gamma,  GeV\n",
    "\n",
    "#     t1 =  p - q # GeV\n",
    "#     t2 =  k - p # GeV\n",
    "#     t3 =  q - k # GeV\n",
    "\n",
    "\n",
    "#     if conjugate:\n",
    "#         eps3 = hep.pol(- p3, h3) # 0\n",
    "#         eps4 = hep.pol(- p4, h4) # 0\n",
    "#         epsk = hep.polbar(ki, hk) # 0\n",
    "#         Im = - I\n",
    "\n",
    "#     else: \n",
    "#         eps3 = hep.polbar(- p3, h3) # 0\n",
    "#         eps4 = hep.polbar(- p4, h4) # 0\n",
    "#         epsk = hep.pol(ki, hk) # 0\n",
    "#         Im =  I\n",
    "\n",
    "#     #gµν  (p – q)λ + gλµ  (k – p)ν + gνλ  (q – k)µ    e(k, µ) e(3, ν) e(4, λ)\n",
    "#     epst1 =  hep.dotprod4(t1, eps4)   * hep.dotprod4(eps3, epsk)  # GeV\n",
    "#     epst2 =  hep.dotprod4(t2, eps3)   * hep.dotprod4(eps4, epsk)  # GeV\n",
    "#     epst3 =  hep.dotprod4(eps3, eps4) * hep.dotprod4(t3, epsk)    # GeV\n",
    "\n",
    "#     res = epst1 + epst2 + epst3 # GeV\n",
    "        \n",
    "\n",
    "#     return Im * gx * simplify(res) # Matrix(elms)\n"
   ]
  },
  {
   "cell_type": "code",
   "execution_count": 23,
   "metadata": {},
   "outputs": [],
   "source": [
    "def get_amp_squared_Gamma(prop, u3, p3, u4, p4):\n",
    "    Tems_func = hep.decaimento_Gamma(prop, u3, p3, u4, p4) \n",
    "    # Summing over outgoing and averaging over incoming helicities we thus get for the average of squared amplitudes\n",
    "    # Some auxiliar variables\n",
    "    beta, xi = symbols(r'beta xi', real=True, positive=True)\n",
    "    \n",
    "    sum_terms = 0\n",
    "    for T in Tems_func:\n",
    "        s = find_symbol(T, r's')\n",
    "        mf = find_symbol(T, r'm_f')\n",
    "\n",
    "        res = T\n",
    "        res = T.subs(sqrt(E1 - Mmed + mf), xi) #.subs(sqrt(-sqrt(s) + 2*mf), beta)\n",
    "        sum_terms +=  res * conjugate(res) ## Summing Squared\n",
    "\n",
    "    # Summing over outgoing and averaging over incoming helicities we thus get for the average of squared amplitudes\n",
    "    squared_result = sum_terms #/ 4 # Averaging over the incoming helicities\n",
    "    \n",
    "    # # Summing over outgoing and averaging over incoming helicities we thus get for the average of squared amplitudes\n",
    "    # Tres_DM = Tres / 4 # Averaging over the incoming helicities\n",
    "\n",
    "    # get back to the original form\n",
    "    squared_result = nsimplify(expand(squared_result)).subs(xi, sqrt(E1 - Mmed + mf))# .subs(beta, sqrt(-sqrt(s) + 2*mf))  ## simplify\n",
    "\n",
    "    # last simplification\n",
    "    #amp_squared = simplify(squared_result)\n",
    "    #amp_squared = collect(collect(amp_squared, s), mf)\n",
    "\n",
    "    return simplify(squared_result)"
   ]
  },
  {
   "cell_type": "code",
   "execution_count": 24,
   "metadata": {},
   "outputs": [],
   "source": [
    "def Gamma_decay(amp_squared):\n",
    "    # O prefator cinemático para gama é \n",
    "    prefact_decay = (1/(16*pi*Mmed))*sqrt(1 - (mf + mf)**2/Mmed**2)*sqrt(1 - (mf - mf)**2/Mmed**2)\n",
    "    # Portanto, teremos que \n",
    "\n",
    "    Gamma_expr = prefact_decay  * amp_squared #/4#/ (12) # averagin over the initial states\n",
    "\n",
    "    return Gamma_expr"
   ]
  },
  {
   "cell_type": "code",
   "execution_count": 10,
   "metadata": {},
   "outputs": [],
   "source": [
    "MW, v, MH, MZ, lamb, GF, gw, e, thetaw= symbols(r'M_W \\nu M_H M_Z \\lambda G_F g_W e theta_W', real=True, positive=True)"
   ]
  },
  {
   "cell_type": "markdown",
   "metadata": {},
   "source": [
    "# H -> ff"
   ]
  },
  {
   "cell_type": "code",
   "execution_count": 25,
   "metadata": {},
   "outputs": [
    {
     "data": {
      "image/png": "[encoded data removed]",
      "text/latex": [
       "$\\displaystyle 2 g_{s\\psi}^{2} \\left(E_{1} - M_{med} + m_{f}\\right) \\left(2 E_{1} \\sin^{4}{\\left(\\frac{\\theta}{2} \\right)} + E_{1} \\sin^{2}{\\left(\\theta \\right)} + 2 E_{1} \\cos^{4}{\\left(\\frac{\\theta}{2} \\right)} + 2 m_{f} \\sin^{4}{\\left(\\frac{\\theta}{2} \\right)} + m_{f} \\sin^{2}{\\left(\\theta \\right)} + 2 m_{f} \\cos^{4}{\\left(\\frac{\\theta}{2} \\right)}\\right)$"
      ],
      "text/plain": [
       "         2                      ⎛        4⎛θ⎞         2              4⎛θ⎞     \n",
       "2⋅g_s\\psi ⋅(E₁ - M_{med} + m_f)⋅⎜2⋅E₁⋅sin ⎜─⎟ + E₁⋅sin (θ) + 2⋅E₁⋅cos ⎜─⎟ + 2⋅\n",
       "                                ⎝         ⎝2⎠                         ⎝2⎠     \n",
       "\n",
       "       4⎛θ⎞          2               4⎛θ⎞⎞\n",
       "m_f⋅sin ⎜─⎟ + m_f⋅sin (θ) + 2⋅m_f⋅cos ⎜─⎟⎟\n",
       "        ⎝2⎠                           ⎝2⎠⎠"
      ]
     },
     "execution_count": 25,
     "metadata": {},
     "output_type": "execute_result"
    }
   ],
   "source": [
    "amp_sqr = get_amp_squared_Gamma('scalar', 'ubar', -p3, 'v', -p4) \n",
    "amp_sqr"
   ]
  },
  {
   "cell_type": "code",
   "execution_count": 16,
   "metadata": {},
   "outputs": [
    {
     "data": {
      "text/plain": [
       "'- pol Matrix([[0], [sqrt(2)*(-sin(theta/2)**2 + cos(theta/2)**2)/2], [sqrt(2)*I/2], [sqrt(2)*sin(theta/2)*cos(theta/2)]])'"
      ]
     },
     "metadata": {},
     "output_type": "display_data"
    },
    {
     "data": {
      "text/plain": [
       "'- pol Matrix([[0], [sqrt(2)*(-sin(theta/2)**2 + cos(theta/2)**2)/2], [sqrt(2)*I/2], [sqrt(2)*sin(theta/2)*cos(theta/2)]])'"
      ]
     },
     "metadata": {},
     "output_type": "display_data"
    },
    {
     "data": {
      "text/plain": [
       "'- pol Matrix([[0], [sqrt(2)*(-sin(theta/2)**2 + cos(theta/2)**2)/2], [sqrt(2)*I/2], [sqrt(2)*sin(theta/2)*cos(theta/2)]])'"
      ]
     },
     "metadata": {},
     "output_type": "display_data"
    },
    {
     "data": {
      "text/plain": [
       "'- pol Matrix([[0], [sqrt(2)*(-sin(theta/2)**2 + cos(theta/2)**2)/2], [sqrt(2)*I/2], [sqrt(2)*sin(theta/2)*cos(theta/2)]])'"
      ]
     },
     "metadata": {},
     "output_type": "display_data"
    },
    {
     "data": {
      "text/plain": [
       "'0 pol Matrix([[-sqrt(E_1**2 - m_f**2)/m_f], [-E_1*sin(theta)/m_f], [0], [E_1*cos(theta)/m_f]])'"
      ]
     },
     "metadata": {},
     "output_type": "display_data"
    },
    {
     "data": {
      "text/plain": [
       "'0 pol Matrix([[-sqrt(E_1**2 - m_f**2)/m_f], [-E_1*sin(theta)/m_f], [0], [E_1*cos(theta)/m_f]])'"
      ]
     },
     "metadata": {},
     "output_type": "display_data"
    },
    {
     "data": {
      "text/plain": [
       "'0 pol Matrix([[-sqrt(E_1**2 - m_f**2)/m_f], [-E_1*sin(theta)/m_f], [0], [E_1*cos(theta)/m_f]])'"
      ]
     },
     "metadata": {},
     "output_type": "display_data"
    },
    {
     "data": {
      "text/plain": [
       "'0 pol Matrix([[-sqrt(E_1**2 - m_f**2)/m_f], [-E_1*sin(theta)/m_f], [0], [E_1*cos(theta)/m_f]])'"
      ]
     },
     "metadata": {},
     "output_type": "display_data"
    },
    {
     "data": {
      "text/plain": [
       "'+ pol Matrix([[0], [sqrt(2)*(-sin(theta/2)**2 + cos(theta/2)**2)/2], [-sqrt(2)*I/2], [sqrt(2)*sin(theta/2)*cos(theta/2)]])'"
      ]
     },
     "metadata": {},
     "output_type": "display_data"
    },
    {
     "data": {
      "text/plain": [
       "'+ pol Matrix([[0], [sqrt(2)*(-sin(theta/2)**2 + cos(theta/2)**2)/2], [-sqrt(2)*I/2], [sqrt(2)*sin(theta/2)*cos(theta/2)]])'"
      ]
     },
     "metadata": {},
     "output_type": "display_data"
    },
    {
     "data": {
      "text/plain": [
       "'+ pol Matrix([[0], [sqrt(2)*(-sin(theta/2)**2 + cos(theta/2)**2)/2], [-sqrt(2)*I/2], [sqrt(2)*sin(theta/2)*cos(theta/2)]])'"
      ]
     },
     "metadata": {},
     "output_type": "display_data"
    },
    {
     "data": {
      "text/plain": [
       "'+ pol Matrix([[0], [sqrt(2)*(-sin(theta/2)**2 + cos(theta/2)**2)/2], [-sqrt(2)*I/2], [sqrt(2)*sin(theta/2)*cos(theta/2)]])'"
      ]
     },
     "metadata": {},
     "output_type": "display_data"
    },
    {
     "data": {
      "image/png": "[encoded data removed]",
      "text/latex": [
       "$\\displaystyle \\frac{4 g_{s\\psi}^{2} \\sqrt{E_{1}^{2} - m_{f}^{2}} \\sqrt{E_{1}^{2} - 2 E_{1} M_{med} + M_{med}^{2} - m_{f}^{2}} \\overline{\\sqrt{E_{1}^{2} - m_{f}^{2}}} \\overline{\\sqrt{E_{1}^{2} - 2 E_{1} M_{med} + M_{med}^{2} - m_{f}^{2}}}}{m_{f}^{4}}$"
      ],
      "text/plain": [
       "                                                                     _________\n",
       "              ____________    ______________________________________    ______\n",
       "         2   ╱   2      2    ╱   2                         2      2    ╱   2  \n",
       "4⋅g_s\\psi ⋅╲╱  E₁  - m_f  ⋅╲╱  E₁  - 2⋅E₁⋅M_{med} + M_{med}  - m_f  ⋅╲╱  E₁  -\n",
       "──────────────────────────────────────────────────────────────────────────────\n",
       "                                                                4             \n",
       "                                                             m_f              \n",
       "\n",
       "______ _________________________________________\n",
       "______    ______________________________________\n",
       "    2    ╱   2                         2      2 \n",
       " m_f  ⋅╲╱  E₁  - 2⋅E₁⋅M_{med} + M_{med}  - m_f  \n",
       "────────────────────────────────────────────────\n",
       "                                                \n",
       "                                                "
      ]
     },
     "execution_count": 16,
     "metadata": {},
     "output_type": "execute_result"
    }
   ],
   "source": [
    "amp_sqr = get_amp_squared_Gamma('scalar', 'polbar', -p3, 'pol', -p4) \n",
    "amp_sqr"
   ]
  },
  {
   "cell_type": "code",
   "execution_count": null,
   "metadata": {},
   "outputs": [],
   "source": []
  },
  {
   "cell_type": "code",
   "execution_count": null,
   "metadata": {},
   "outputs": [],
   "source": []
  },
  {
   "cell_type": "code",
   "execution_count": 14,
   "metadata": {},
   "outputs": [],
   "source": [
    "#hep.decaimento_Gamma('scalar', 'polbar', p3, 'polbar', p4) "
   ]
  },
  {
   "cell_type": "code",
   "execution_count": 29,
   "metadata": {},
   "outputs": [
    {
     "data": {
      "image/png": "[encoded data removed]",
      "text/latex": [
       "$\\displaystyle 4 g_{s\\psi}^{2} \\left(E_{1}^{2} - E_{1} M_{med} + 2 E_{1} m_{f} - M_{med} m_{f} + m_{f}^{2}\\right)$"
      ],
      "text/plain": [
       "         2 ⎛  2                                            2⎞\n",
       "4⋅g_s\\psi ⋅⎝E₁  - E₁⋅M_{med} + 2⋅E₁⋅m_f - M_{med}⋅m_f + m_f ⎠"
      ]
     },
     "execution_count": 29,
     "metadata": {},
     "output_type": "execute_result"
    }
   ],
   "source": [
    "#gw = ( e * mf )/ ( sqrt(2)*  MW * sin(thetaw))\n",
    "#mhiggs = -MH**2 + 8*mf**2\n",
    "list(amp_sqr.free_symbols)[0]\n",
    "# gHps = (2*MW**2)/(MH/ sqrt(2*lamb))\n",
    "# gHps\n",
    "\n",
    "simplify(expand(amp_sqr.subs(theta, pi)))"
   ]
  },
  {
   "cell_type": "code",
   "execution_count": 33,
   "metadata": {},
   "outputs": [],
   "source": [
    "GM = Gamma_decay(amp_sqr).subs(theta, pi)"
   ]
  },
  {
   "cell_type": "code",
   "execution_count": 36,
   "metadata": {},
   "outputs": [
    {
     "data": {
      "image/png": "[encoded data removed]",
      "text/latex": [
       "$\\displaystyle - \\frac{g_{s\\psi}^{2} \\left(M_{med}^{2} - 4 m_{f}^{2}\\right)^{\\frac{3}{2}}}{16 \\pi M_{med}^{2}}$"
      ],
      "text/plain": [
       "                             3/2 \n",
       "        2 ⎛       2        2⎞    \n",
       "-g_s\\psi ⋅⎝M_{med}  - 4⋅m_f ⎠    \n",
       "─────────────────────────────────\n",
       "                      2          \n",
       "          16⋅π⋅M_{med}           "
      ]
     },
     "execution_count": 36,
     "metadata": {},
     "output_type": "execute_result"
    }
   ],
   "source": [
    "## Se E1 = E2, 2E = M, logo\n",
    "simplify(GM.subs(E1, Mmed/2))"
   ]
  },
  {
   "cell_type": "code",
   "execution_count": null,
   "metadata": {},
   "outputs": [],
   "source": [
    "## que é a mesma expressão que tinhamos pro decaimento do fermion e também de outros processos, o que significa que a lógica do código esta correta. Basta avaliar mais cuidadosamente a cinemática definida nos vetores iniciais \n",
    "\n",
    "\n",
    "# TODO: Implementar scalar, fermion e vector decay para o caso do mediador escalar. \n",
    "# TODO: Automatizar a criação das expressões\n",
    "# TODO: Usar as expressões automáticas para a criação de novos plots\n",
    "# TODO: Validar os cálculos da materia escura fermionica e escalar com o mediador vetorial com esse novo processo.\n",
    "# TODO: Criar uma ferramenta no streamlit [opcional]\n",
    "# TODO: Publicar!"
   ]
  },
  {
   "cell_type": "code",
   "execution_count": 20,
   "metadata": {},
   "outputs": [
    {
     "name": "stdout",
     "output_type": "stream",
     "text": [
      "def _lambdifygenerated(s, M_med, m_f, Dummy_22):\n",
      "    return (1/192)*Dummy_22**2*(M_med**2 - 4*m_f**2)**(3/2)/(pi*m_f**2)\n",
      "\n"
     ]
    }
   ],
   "source": [
    "# Obtendo o código fonte da função\n",
    "codigo_fonte = {}\n",
    "\n",
    "\n",
    "#codigo_fonte['SM'] = sigma_SM_func\n",
    "codigo_fonte['DM'] = Gamma_func\n",
    "#codigo_fonte['DM_noqq'] = sigma_DM_noqq_func\n",
    "\n",
    "import inspect\n",
    "for name, func in codigo_fonte.items():\n",
    "\n",
    "    print(inspect.getsource(func))"
   ]
  },
  {
   "cell_type": "code",
   "execution_count": 121,
   "metadata": {},
   "outputs": [],
   "source": [
    "#Gamma_vec = nsimplify(expand(Gamma_vec))\n",
    "\n",
    "## Some functions to give a pretier expression\n",
    "Gamma_vec =  together((nsimplify(expand(Gamma_vec))))"
   ]
  },
  {
   "cell_type": "code",
   "execution_count": 128,
   "metadata": {},
   "outputs": [
    {
     "data": {
      "image/png": "[encoded data removed]",
      "text/latex": [
       "$\\displaystyle \\frac{g_{\\chi}^{2} s \\sqrt{\\left(M_{Z^\\prime}\\right)^{2} - 4 m_{f}^{2}} \\left(- \\left(M_{Z^\\prime}\\right)^{2} - 4 m_{f}^{2} + 2 s - 2 \\sqrt{- \\left(M_{Z^\\prime}\\right)^{2} + s} \\sqrt{- 4 m_{f}^{2} + s}\\right)}{16 \\pi \\left(M_{Z^\\prime}\\right)^{2} m_{f}^{2}}$"
      ],
      "text/plain": [
       "               ___________________________ ⎛                                  \n",
       "        2     ╱              2          2  ⎜               2          2       \n",
       "g_{\\chi} ⋅s⋅╲╱  M_{Z__\\prime}  - 4⋅m_{f}  ⋅⎝- M_{Z__\\prime}  - 4⋅m_{f}  + 2⋅s \n",
       "──────────────────────────────────────────────────────────────────────────────\n",
       "                                                                     2      2 \n",
       "                                                   16⋅π⋅M_{Z__\\prime} ⋅m_{f}  \n",
       "\n",
       "       ______________________    ________________⎞\n",
       "      ╱                2        ╱          2     ⎟\n",
       "- 2⋅╲╱  - M_{Z__\\prime}  + s ⋅╲╱  - 4⋅m_{f}  + s ⎠\n",
       "──────────────────────────────────────────────────\n",
       "                                                  \n",
       "                                                  "
      ]
     },
     "execution_count": 128,
     "metadata": {},
     "output_type": "execute_result"
    }
   ],
   "source": [
    "together(collect(expand(Gamma_vec), s )).subs(xi, sqrt(MZp **2 - 4))"
   ]
  },
  {
   "attachments": {},
   "cell_type": "markdown",
   "metadata": {},
   "source": [
    "###  "
   ]
  }
 ],
 "metadata": {
  "kernelspec": {
   "display_name": "Python 3",
   "language": "python",
   "name": "python3"
  },
  "language_info": {
   "codemirror_mode": {
    "name": "ipython",
    "version": 3
   },
   "file_extension": ".py",
   "mimetype": "text/x-python",
   "name": "python",
   "nbconvert_exporter": "python",
   "pygments_lexer": "ipython3",
   "version": "3.10.12"
  },
  "orig_nbformat": 4
 },
 "nbformat": 4,
 "nbformat_minor": 2
}
