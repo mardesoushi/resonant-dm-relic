{
 "cells": [
  {
   "cell_type": "code",
   "execution_count": 1,
   "metadata": {},
   "outputs": [
    {
     "name": "stdout",
     "output_type": "stream",
     "text": [
      "Reading heppackv0.py\n",
      "\n",
      "Done\n"
     ]
    }
   ],
   "source": [
    "from sympy import *\n",
    "import heppackv0 as hep"
   ]
  },
  {
   "cell_type": "code",
   "execution_count": 2,
   "metadata": {},
   "outputs": [],
   "source": [
    "E1,M1,m,g=symbols('E1 M1 m g',positive=True)\n",
    "theta,c1,c2=symbols('theta c1 c2',real=True)"
   ]
  },
  {
   "cell_type": "markdown",
   "metadata": {},
   "source": [
    "###   Production of longitudinal $W$-Bosons, investigation of amplitudes violating unitarity.\n",
    "\n",
    "###  1) Standard weak interaction\n",
    "<img src=\"AbbeeWWnb-1.pdf\" width=\"200\"/>\n",
    "\n",
    "$$e^-_+(k_1)+e^+_+(p_1)\\to W^-_0(k_2)+W^+_0(p_2)$$ "
   ]
  },
  {
   "cell_type": "code",
   "execution_count": 3,
   "metadata": {},
   "outputs": [],
   "source": [
    "k1=[E1,m,0,0]\n",
    "p1=[E1,m,pi,pi]\n",
    "k2=[E1,M1,theta,0]\n",
    "p2=[E1,M1,pi-theta,pi]"
   ]
  },
  {
   "cell_type": "markdown",
   "metadata": {},
   "source": [
    "The amplitude is calculated from\n",
    "\n",
    "$-\\imath T_{fi}=\\bar{v}(p_1)\\frac{-\\imath g}{\\sqrt{2}}\\gamma^\\mu\\frac{1-\\gamma_5}{2}\\epsilon_\\mu^*(p_2)\n",
    "\\frac{\\imath\\,\\not{q}}{q^2}\\epsilon^*_\\nu(k_2)\\frac{-\\imath g}{\\sqrt{2}}\\gamma^\\nu\\frac{1-\\gamma_5}{2}u(k_1)$\n",
    "\n",
    "$T_{fi}=\\frac{g^2}{2}\\bar{v}(p_1)\\frac{1+\\gamma_5}{2}\\not{\\!\\epsilon}^*(p_2)\\frac{\\not{q}}{q^2}\n",
    "\\not{\\!\\epsilon}^*(k_2)\\frac{1-\\gamma_5}{2}u(k_1)$\n",
    "\n",
    "valid for all helicities of the fermions and bosons."
   ]
  },
  {
   "cell_type": "code",
   "execution_count": 4,
   "metadata": {},
   "outputs": [],
   "source": [
    "kin=hep.fourvec(k1)\n",
    "kout=hep.fourvec(k2)"
   ]
  },
  {
   "cell_type": "code",
   "execution_count": 5,
   "metadata": {},
   "outputs": [],
   "source": [
    "qdag=hep.dag(kout)-hep.dag(kin)"
   ]
  },
  {
   "cell_type": "code",
   "execution_count": 6,
   "metadata": {},
   "outputs": [],
   "source": [
    "epsk2dag=hep.dag(hep.polbar(k2,0))\n",
    "epsp2dag=hep.dag(hep.polbar(p2,0))"
   ]
  },
  {
   "cell_type": "code",
   "execution_count": 7,
   "metadata": {},
   "outputs": [],
   "source": [
    "core=epsp2dag*qdag*epsk2dag"
   ]
  },
  {
   "cell_type": "markdown",
   "metadata": {},
   "source": [
    "Evaluate $(q^2 2/g^2) T_{fi}$ for the helicities quoted above after line [2]"
   ]
  },
  {
   "cell_type": "code",
   "execution_count": 8,
   "metadata": {},
   "outputs": [
    {
     "data": {
      "image/png": "[encoded data removed]",
      "text/latex": [
       "$$\\left[\\begin{matrix}- \\frac{m \\left(4 E_{1}^{2} \\sqrt{E_{1}^{2} - M_{1}^{2}} \\sin^{2}{\\left (\\frac{\\theta}{2} \\right )} \\sin^{2}{\\left (\\theta \\right )} + 2 E_{1}^{2} \\sqrt{E_{1}^{2} - M_{1}^{2}} \\sin^{2}{\\left (\\theta \\right )} \\cos{\\left (\\theta \\right )} - 2 E_{1}^{2} \\sqrt{E_{1}^{2} - M_{1}^{2}} \\sin^{2}{\\left (\\theta \\right )} + 2 E_{1}^{2} \\sqrt{E_{1}^{2} - m^{2}} \\sin^{2}{\\left (\\theta \\right )} - 2 M_{1}^{2} \\sqrt{E_{1}^{2} - M_{1}^{2}} \\sin^{2}{\\left (\\frac{\\theta}{2} \\right )} + M_{1}^{2} \\sqrt{E_{1}^{2} - M_{1}^{2}} - M_{1}^{2} \\sqrt{E_{1}^{2} - m^{2}}\\right)}{M_{1}^{2}}\\end{matrix}\\right]$$"
      ],
      "text/plain": [
       "⎡   ⎛         ___________                            ___________              \n",
       "⎢   ⎜    2   ╱   2     2     2⎛θ⎞    2          2   ╱   2     2     2         \n",
       "⎢-m⋅⎜4⋅E₁ ⋅╲╱  E₁  - M₁  ⋅sin ⎜─⎟⋅sin (θ) + 2⋅E₁ ⋅╲╱  E₁  - M₁  ⋅sin (θ)⋅cos(θ\n",
       "⎢   ⎝                         ⎝2⎠                                             \n",
       "⎢─────────────────────────────────────────────────────────────────────────────\n",
       "⎢                                                                             \n",
       "⎣                                                                             \n",
       "\n",
       "             ___________                    __________                    ____\n",
       "        2   ╱   2     2     2          2   ╱   2    2     2          2   ╱   2\n",
       ") - 2⋅E₁ ⋅╲╱  E₁  - M₁  ⋅sin (θ) + 2⋅E₁ ⋅╲╱  E₁  - m  ⋅sin (θ) - 2⋅M₁ ⋅╲╱  E₁ \n",
       "                                                                              \n",
       "──────────────────────────────────────────────────────────────────────────────\n",
       "                              2                                               \n",
       "                            M₁                                                \n",
       "\n",
       "_______                  ___________          __________⎞ ⎤\n",
       "     2     2⎛θ⎞     2   ╱   2     2      2   ╱   2    2 ⎟ ⎥\n",
       " - M₁  ⋅sin ⎜─⎟ + M₁ ⋅╲╱  E₁  - M₁   - M₁ ⋅╲╱  E₁  - m  ⎟ ⎥\n",
       "            ⎝2⎠                                         ⎠ ⎥\n",
       "──────────────────────────────────────────────────────────⎥\n",
       "                                                          ⎥\n",
       "                                                          ⎦"
      ]
     },
     "execution_count": 8,
     "metadata": {},
     "output_type": "execute_result"
    }
   ],
   "source": [
    "T1v1=simplify(hep.vbar(p1,1)*hep.projpl*core*hep.projm*hep.u(k1,1));T1v1"
   ]
  },
  {
   "cell_type": "markdown",
   "metadata": {},
   "source": [
    "multiply by $M_1^2=M_W^2$ and divide by $m$ in order to get the high energy limit of the long expression in brackets."
   ]
  },
  {
   "cell_type": "code",
   "execution_count": 9,
   "metadata": {},
   "outputs": [
    {
     "data": {
      "image/png": "[encoded data removed]",
      "text/latex": [
       "$$\\left[\\begin{matrix}- 2 E_{1}^{3} \\sin^{2}{\\left (\\theta \\right )}\\end{matrix}\\right]$$"
      ],
      "text/plain": [
       "⎡     3    2   ⎤\n",
       "⎣-2⋅E₁ ⋅sin (θ)⎦"
      ]
     },
     "execution_count": 9,
     "metadata": {},
     "output_type": "execute_result"
    }
   ],
   "source": [
    "T1v2=simplify((T1v1*M1**2/m).subs(m,0).subs(M1,0));T1v2"
   ]
  },
  {
   "cell_type": "markdown",
   "metadata": {},
   "source": [
    "Divide by $q^2=-2E_1^2(1-\\cos\\theta)$ and restore the factors $m,M_1^2,g^2/2$. Sympy cannot simplify\n",
    "$\\sin^2\\theta/(1-\\cos\\theta)$ to $(1+\\cos\\theta)$, therefore next line inserted by hand."
   ]
  },
  {
   "cell_type": "code",
   "execution_count": 10,
   "metadata": {},
   "outputs": [
    {
     "data": {
      "image/png": "[encoded data removed]",
      "text/latex": [
       "$$\\frac{E_{1} g^{2} m \\left(\\cos{\\left (\\theta \\right )} + 1\\right)}{2 M_{1}^{2}}$$"
      ],
      "text/plain": [
       "    2               \n",
       "E₁⋅g ⋅m⋅(cos(θ) + 1)\n",
       "────────────────────\n",
       "           2        \n",
       "       2⋅M₁         "
      ]
     },
     "execution_count": 10,
     "metadata": {},
     "output_type": "execute_result"
    }
   ],
   "source": [
    "T1=g**2/2*m/M1**2*E1*(1+cos(theta));T1"
   ]
  },
  {
   "cell_type": "code",
   "execution_count": 11,
   "metadata": {},
   "outputs": [
    {
     "data": {
      "image/png": "[encoded data removed]",
      "text/latex": [
       "$$\\frac{E_{1} g^{2} m}{2 M_{1}^{2}}$$"
      ],
      "text/plain": [
       "    2  \n",
       "E₁⋅g ⋅m\n",
       "───────\n",
       "     2 \n",
       " 2⋅M₁  "
      ]
     },
     "execution_count": 11,
     "metadata": {},
     "output_type": "execute_result"
    }
   ],
   "source": [
    "T10=g**2*m*E1/2/M1**2;T10"
   ]
  },
  {
   "cell_type": "markdown",
   "metadata": {},
   "source": [
    "Amplitude grows $\\sim E_1$. The isotropic part $T_{1,0}=g^2 mE_1/2M_1^2$ may be cancelled by a scalar particle $s$-channel\n",
    "amplitude.\n",
    "\n",
    "### 2) New particle in $s$-channel\n",
    "<img src=\"AbbeeWWnb-2.pdf\" width=\"200\"/>\n",
    "\n",
    "$$e^-_+(k_1)+e^+_+(p_1)\\to W^-_0(k_2)+W^+_0(p_2)$$\n",
    "\n",
    "\n",
    "$-\\imath T_{fi}=\\bar{v}(k_1)u(p_1)(-\\imath g_{\\phi ee})\n",
    "\\frac{-\\imath}{s-M_\\phi^2}\n",
    "(-\\imath g_{\\phi WW}) g^{\\mu\\nu}\\epsilon^*_\\mu(k_2)\\epsilon^*_\\nu(p_2)$\n",
    "\n",
    "$T_{fi}=-g_{\\phi ee}g_{\\phi WW}\\bar{v}(k_1)u(p_1)\\epsilon^*(k_2)\\cdot\\epsilon^*(p_2)/(s-M_\\phi^2)$"
   ]
  },
  {
   "cell_type": "code",
   "execution_count": 12,
   "metadata": {},
   "outputs": [
    {
     "data": {
      "image/png": "[encoded data removed]",
      "text/latex": [
       "$$\\left[\\begin{matrix}2 \\sqrt{E_{1} - m} \\sqrt{E_{1} + m} \\left(\\frac{2 E_{1}^{2}}{M_{1}^{2}} - 1\\right)\\end{matrix}\\right]$$"
      ],
      "text/plain": [
       "⎡                        ⎛    2    ⎞⎤\n",
       "⎢    ________   ________ ⎜2⋅E₁     ⎟⎥\n",
       "⎢2⋅╲╱ E₁ - m ⋅╲╱ E₁ + m ⋅⎜───── - 1⎟⎥\n",
       "⎢                        ⎜   2     ⎟⎥\n",
       "⎣                        ⎝ M₁      ⎠⎦"
      ]
     },
     "execution_count": 12,
     "metadata": {},
     "output_type": "execute_result"
    }
   ],
   "source": [
    "T2v1=hep.vbar(k1,1)*hep.u(p1,1)*hep.dotprod4(hep.polbar(k2,0),hep.polbar(p2,0));T2v1"
   ]
  },
  {
   "cell_type": "markdown",
   "metadata": {},
   "source": [
    "Divide by propagator $4E_1^2-M_\\phi^2$  and get the high energy limit of the amplitude Amplitude without sign an couplings"
   ]
  },
  {
   "cell_type": "code",
   "execution_count": 13,
   "metadata": {},
   "outputs": [
    {
     "data": {
      "image/png": "[encoded data removed]",
      "text/latex": [
       "$$\\frac{E_{1}}{M_{1}^{2}}$$"
      ],
      "text/plain": [
       " E₁\n",
       "───\n",
       "  2\n",
       "M₁ "
      ]
     },
     "execution_count": 13,
     "metadata": {},
     "output_type": "execute_result"
    }
   ],
   "source": [
    "T2v2=E1/M1**2;T2v2"
   ]
  },
  {
   "cell_type": "markdown",
   "metadata": {},
   "source": [
    "$T_2=-g_{\\phi ee}g_{\\phi WW}E_1/M_1^2$. \n",
    "\n",
    "$T_{1,0}+T_2=0$ for $g_{\\phi ee}g_{\\phi WW}=T_{1,0}/T_{2,v2}$\n",
    "\n",
    "$c_{12}=g_{\\phi ee}g_{\\phi WW}$"
   ]
  },
  {
   "cell_type": "code",
   "execution_count": 14,
   "metadata": {},
   "outputs": [
    {
     "data": {
      "image/png": "[encoded data removed]",
      "text/latex": [
       "$$\\frac{g^{2} m}{2}$$"
      ],
      "text/plain": [
       " 2  \n",
       "g ⋅m\n",
       "────\n",
       " 2  "
      ]
     },
     "execution_count": 14,
     "metadata": {},
     "output_type": "execute_result"
    }
   ],
   "source": [
    "c12=simplify(T10/T2v2);c12"
   ]
  },
  {
   "cell_type": "markdown",
   "metadata": {},
   "source": [
    "$T_2$ determines only  the product of the scalar couplings. The study of $W^-\\phi^0$ production helps to calculate\n",
    "$g_{\\phi ee}$ and $g_{\\phi WW}$ separately."
   ]
  },
  {
   "cell_type": "markdown",
   "metadata": {},
   "source": [
    "### 3) $\\bar{\\nu} e\\to W^-\\phi^0$ via  $s$-channel\n",
    "<img src=\"AbbeeWWnb-3.pdf\" width=\"200\"/>\n",
    "$$e^-_+(k_1)+\\bar{\\nu}(p_\\nu)\\to W^-_0(p_2)+\\phi^0(k_2)$$\n",
    "\n",
    "$-\\imath T_{fi}=\\bar{v}(p_\\nu)\\frac{-\\imath g}{\\sqrt{2}}\\gamma^\\mu\\frac{1-\\gamma_5}{2}u(k_1)\n",
    "(-\\imath)\\frac{g_{\\mu\\nu}-q_\\mu q_\\nu /M_W^2}{s-M_W^2}\n",
    "(-\\imath g_{\\phi WW}) g^{\\nu\\sigma}\\epsilon^*_\\sigma(p_2)$\n",
    "\n",
    "$T_{fi}=-\\frac{g}{\\sqrt{2}}j^\\mu_w\n",
    "\\frac{g_{\\mu\\nu}-q_\\mu q_\\nu /M_W^2}{s-M_W^2}\n",
    "g_{\\phi WW}\\epsilon^{*\\nu}(p_2)$\n",
    "\n",
    "with the weak current $j_w$ given by\n",
    "\n",
    "$j^\\mu_w=\\bar{v}(p_\\nu)\\gamma^\\mu\\frac{1-\\gamma_5}{2}u(k_1)$"
   ]
  },
  {
   "cell_type": "code",
   "execution_count": 15,
   "metadata": {},
   "outputs": [],
   "source": [
    "pnu=[E1,0,pi,pi]"
   ]
  },
  {
   "cell_type": "code",
   "execution_count": 16,
   "metadata": {},
   "outputs": [
    {
     "data": {
      "image/png": "[encoded data removed]",
      "text/latex": [
       "$$\\left [ \\sqrt{E_{1}} \\left(\\sqrt{E_{1} - m} - \\sqrt{E_{1} + m}\\right), \\quad 0, \\quad 0, \\quad \\sqrt{E_{1}} \\left(- \\sqrt{E_{1} - m} + \\sqrt{E_{1} + m}\\right)\\right ]$$"
      ],
      "text/plain": [
       "⎡  ____ ⎛  ________     ________⎞          ____ ⎛    ________     ________⎞⎤\n",
       "⎣╲╱ E₁ ⋅⎝╲╱ E₁ - m  - ╲╱ E₁ + m ⎠, 0, 0, ╲╱ E₁ ⋅⎝- ╲╱ E₁ - m  + ╲╱ E₁ + m ⎠⎦"
      ]
     },
     "execution_count": 16,
     "metadata": {},
     "output_type": "execute_result"
    }
   ],
   "source": [
    "jweak=hep.vbuw(pnu,1,k1,1);jweak"
   ]
  },
  {
   "cell_type": "markdown",
   "metadata": {},
   "source": [
    "With $\\sqrt{E_1+m}\\to \\sqrt{E_1}\\left(1+\\frac{m}{2E_1}\\right)$ this reduces at high energies to"
   ]
  },
  {
   "cell_type": "code",
   "execution_count": 17,
   "metadata": {},
   "outputs": [
    {
     "data": {
      "image/png": "[encoded data removed]",
      "text/latex": [
       "$$\\left [ - m, \\quad 0, \\quad 0, \\quad m\\right ]$$"
      ],
      "text/plain": [
       "[-m, 0, 0, m]"
      ]
     },
     "execution_count": 17,
     "metadata": {},
     "output_type": "execute_result"
    }
   ],
   "source": [
    "jweak=[-m,0,0,m];jweak"
   ]
  },
  {
   "cell_type": "markdown",
   "metadata": {},
   "source": [
    "which does not depend on $E_1$. Therefore $j_w^\\mu g_{\\mu\\nu}\\epsilon^{*\\nu}/s$ is $\\sim 1/E_1$\n",
    "whereas the second term in the propagator makes the amplitude grow $\\sim E_1$."
   ]
  },
  {
   "cell_type": "code",
   "execution_count": 18,
   "metadata": {},
   "outputs": [
    {
     "data": {
      "image/png": "[encoded data removed]",
      "text/latex": [
       "$$\\left [ 2 E_{1}, \\quad 0, \\quad 0, \\quad 0\\right ]$$"
      ],
      "text/plain": [
       "[2⋅E₁, 0, 0, 0]"
      ]
     },
     "execution_count": 18,
     "metadata": {},
     "output_type": "execute_result"
    }
   ],
   "source": [
    "qvec=[2*E1,0,0,0];qvec"
   ]
  },
  {
   "cell_type": "code",
   "execution_count": 19,
   "metadata": {},
   "outputs": [
    {
     "data": {
      "image/png": "[encoded data removed]",
      "text/latex": [
       "$$\\frac{4 E_{1}^{2} m \\sqrt{E_{1}^{2} - M_{1}^{2}}}{M_{1}^{3}}$$"
      ],
      "text/plain": [
       "           ___________\n",
       "    2     ╱   2     2 \n",
       "4⋅E₁ ⋅m⋅╲╱  E₁  - M₁  \n",
       "──────────────────────\n",
       "           3          \n",
       "         M₁           "
      ]
     },
     "execution_count": 19,
     "metadata": {},
     "output_type": "execute_result"
    }
   ],
   "source": [
    "-hep.dotprod4(jweak,qvec)*hep.dotprod4(qvec,hep.polbar(p2,0))/M1**2"
   ]
  },
  {
   "cell_type": "code",
   "execution_count": 20,
   "metadata": {},
   "outputs": [
    {
     "data": {
      "image/png": "[encoded data removed]",
      "text/latex": [
       "$$\\frac{\\sqrt{2} E_{1} g m}{2 M_{1}^{3}}$$"
      ],
      "text/plain": [
       "√2⋅E₁⋅g⋅m\n",
       "─────────\n",
       "      3  \n",
       "  2⋅M₁   "
      ]
     },
     "execution_count": 20,
     "metadata": {},
     "output_type": "execute_result"
    }
   ],
   "source": [
    "f3=g/sqrt(2)*m*E1/M1**3;f3"
   ]
  },
  {
   "cell_type": "markdown",
   "metadata": {},
   "source": [
    "$c_2=g_{\\phi WW}$"
   ]
  },
  {
   "cell_type": "code",
   "execution_count": 21,
   "metadata": {},
   "outputs": [
    {
     "data": {
      "image/png": "[encoded data removed]",
      "text/latex": [
       "$$- \\frac{\\sqrt{2} E_{1} c_{2} g m}{2 M_{1}^{3}}$$"
      ],
      "text/plain": [
       "-√2⋅E₁⋅c₂⋅g⋅m \n",
       "──────────────\n",
       "        3     \n",
       "    2⋅M₁      "
      ]
     },
     "execution_count": 21,
     "metadata": {},
     "output_type": "execute_result"
    }
   ],
   "source": [
    "T3=-f3*c2;T3"
   ]
  },
  {
   "cell_type": "markdown",
   "metadata": {},
   "source": [
    "### 4) $\\bar{\\nu} e\\to W^-\\phi^0$ via $t$-channel\n",
    "<img src=\"AbbeeWWnb-4.pdf\" width=\"200\"/>\n",
    "$$e^-_+(k_1)+\\bar{\\nu}(p_\\nu)\\to \\phi^0(k_2)+W^-_0(p_2)$$\n",
    "\n",
    "$-\\imath T_{fi}=\\bar{v}(p_\\nu)\\frac{-\\imath g}{\\sqrt{2}}\\gamma^\\nu\\frac{1-\\gamma_5}{2}\n",
    "\\epsilon^*_\\nu(p_2)\\frac{\\imath\\,\\not{q}}{q^2}(-\\imath g_{\\phi ee})u(k_1)$\n",
    "\n",
    "$T_{fi}=\\frac{g}{\\sqrt{2}}g_{\\phi ee}\\bar{v}(p_\\nu)\\frac{1+\\gamma_5}{2}\n",
    "\\not{\\!\\epsilon}^*(p_2)\\frac{\\,\\not{q}}{q^2}u(k_1)$"
   ]
  },
  {
   "cell_type": "code",
   "execution_count": 22,
   "metadata": {},
   "outputs": [],
   "source": [
    "core1=epsp2dag*qdag"
   ]
  },
  {
   "cell_type": "code",
   "execution_count": 23,
   "metadata": {},
   "outputs": [
    {
     "data": {
      "image/png": "[encoded data removed]",
      "text/latex": [
       "$$\\left[\\begin{matrix}\\frac{\\sqrt{E_{1}} \\left(E_{1} \\left(- \\sqrt{E_{1}^{2} - M_{1}^{2}} + \\sqrt{E_{1}^{2} - m^{2}} \\cos{\\left (\\theta \\right )}\\right) + \\sqrt{E_{1}^{2} - M_{1}^{2}} \\left(\\sqrt{E_{1}^{2} - M_{1}^{2}} \\cos{\\left (\\theta \\right )} - \\sqrt{E_{1}^{2} - m^{2}}\\right)\\right) \\left(\\sqrt{E_{1} - m} + \\sqrt{E_{1} + m}\\right)}{M_{1}}\\end{matrix}\\right]$$"
      ],
      "text/plain": [
       "⎡       ⎛   ⎛     ___________      __________       ⎞      ___________ ⎛   ___\n",
       "⎢  ____ ⎜   ⎜    ╱   2     2      ╱   2    2        ⎟     ╱   2     2  ⎜  ╱   \n",
       "⎢╲╱ E₁ ⋅⎝E₁⋅⎝- ╲╱  E₁  - M₁   + ╲╱  E₁  - m  ⋅cos(θ)⎠ + ╲╱  E₁  - M₁  ⋅⎝╲╱  E₁\n",
       "⎢─────────────────────────────────────────────────────────────────────────────\n",
       "⎣                                                                   M₁        \n",
       "\n",
       "________             __________⎞⎞                          ⎤\n",
       "2     2             ╱   2    2 ⎟⎟ ⎛  ________     ________⎞⎥\n",
       "  - M₁  ⋅cos(θ) - ╲╱  E₁  - m  ⎠⎠⋅⎝╲╱ E₁ - m  + ╲╱ E₁ + m ⎠⎥\n",
       "───────────────────────────────────────────────────────────⎥\n",
       "                                                           ⎦"
      ]
     },
     "execution_count": 23,
     "metadata": {},
     "output_type": "execute_result"
    }
   ],
   "source": [
    "T4v1=simplify(hep.vbar(pnu,1)*hep.projpl*core1*hep.u(k1,1));T4v1"
   ]
  },
  {
   "cell_type": "code",
   "execution_count": 24,
   "metadata": {},
   "outputs": [
    {
     "data": {
      "image/png": "[encoded data removed]",
      "text/latex": [
       "$$4 E_{1}^{3} \\left(\\cos{\\left (\\theta \\right )} - 1\\right)$$"
      ],
      "text/plain": [
       "    3             \n",
       "4⋅E₁ ⋅(cos(θ) - 1)"
      ]
     },
     "execution_count": 24,
     "metadata": {},
     "output_type": "execute_result"
    }
   ],
   "source": [
    "T4v2=simplify((M1*T4v1[0]).subs(m,0).subs(M1,0));T4v2"
   ]
  },
  {
   "cell_type": "code",
   "execution_count": 25,
   "metadata": {},
   "outputs": [
    {
     "data": {
      "image/png": "[encoded data removed]",
      "text/latex": [
       "$$\\frac{\\sqrt{2} E_{1} g}{M_{1}}$$"
      ],
      "text/plain": [
       "√2⋅E₁⋅g\n",
       "───────\n",
       "   M₁  "
      ]
     },
     "execution_count": 25,
     "metadata": {},
     "output_type": "execute_result"
    }
   ],
   "source": [
    "f4=simplify(T4v2*g/sqrt(2)/M1/(-2*E1**2*(1-cos(theta))));f4"
   ]
  },
  {
   "cell_type": "markdown",
   "metadata": {},
   "source": [
    "$c1=g_{\\phi ee}$"
   ]
  },
  {
   "cell_type": "code",
   "execution_count": 26,
   "metadata": {},
   "outputs": [
    {
     "data": {
      "image/png": "[encoded data removed]",
      "text/latex": [
       "$$\\frac{\\sqrt{2} E_{1} c_{1} g}{M_{1}}$$"
      ],
      "text/plain": [
       "√2⋅E₁⋅c₁⋅g\n",
       "──────────\n",
       "    M₁    "
      ]
     },
     "execution_count": 26,
     "metadata": {},
     "output_type": "execute_result"
    }
   ],
   "source": [
    "T4=f4*c1;T4"
   ]
  },
  {
   "cell_type": "markdown",
   "metadata": {},
   "source": [
    "Unitarity condition reads now $T_3+T_4\\to 0$ for $E_1\\to \\infty$ resulting in $f_4 g_{\\phi ee}-f_3g_{\\phi WW}$=0.\n",
    "\n",
    "Therefore $g_{\\phi WW}^2=c_{12}f_3/f_4$"
   ]
  },
  {
   "cell_type": "code",
   "execution_count": 27,
   "metadata": {},
   "outputs": [
    {
     "data": {
      "image/png": "[encoded data removed]",
      "text/latex": [
       "$$\\frac{g m}{2 M_{1}}$$"
      ],
      "text/plain": [
       "g⋅m \n",
       "────\n",
       "2⋅M₁"
      ]
     },
     "execution_count": 27,
     "metadata": {},
     "output_type": "execute_result"
    }
   ],
   "source": [
    "c1=simplify(sqrt(f3/f4*c12));c1"
   ]
  },
  {
   "cell_type": "code",
   "execution_count": 28,
   "metadata": {},
   "outputs": [
    {
     "data": {
      "image/png": "[encoded data removed]",
      "text/latex": [
       "$$M_{1} g$$"
      ],
      "text/plain": [
       "M₁⋅g"
      ]
     },
     "execution_count": 28,
     "metadata": {},
     "output_type": "execute_result"
    }
   ],
   "source": [
    "c2=simplify(f4/f3*c1);c2"
   ]
  },
  {
   "cell_type": "markdown",
   "metadata": {},
   "source": [
    "The final result\n",
    "\n",
    "$g_{\\phi ee}=\\large{\\frac{gm}{2M_W}}$\n",
    "\n",
    "$g_{\\phi WW}=gM_W$\n",
    "\n",
    "agrees with the couplings determined from spontaneous symmetry breaking. This is certainly not an accident."
   ]
  },
  {
   "cell_type": "code",
   "execution_count": null,
   "metadata": {},
   "outputs": [],
   "source": []
  }
 ],
 "metadata": {
  "kernelspec": {
   "display_name": "Python 3",
   "language": "python",
   "name": "python3"
  },
  "language_info": {
   "codemirror_mode": {
    "name": "ipython",
    "version": 3
   },
   "file_extension": ".py",
   "mimetype": "text/x-python",
   "name": "python",
   "nbconvert_exporter": "python",
   "pygments_lexer": "ipython3",
   "version": "3.7.2"
  }
 },
 "nbformat": 4,
 "nbformat_minor": 2
}
