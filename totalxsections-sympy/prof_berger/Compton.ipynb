{
 "cells": [
  {
   "cell_type": "markdown",
   "metadata": {},
   "source": [
    "#### A long notebook on Photon electron scattering as treated in chapter 3.2 of the book"
   ]
  },
  {
   "cell_type": "code",
   "execution_count": 1,
   "metadata": {},
   "outputs": [
    {
     "name": "stdout",
     "output_type": "stream",
     "text": [
      "Reading heppackv0.py (March 2023)\n",
      "\n",
      "Done\n"
     ]
    }
   ],
   "source": [
    "from sympy import *\n",
    "import heppackv0 as hep"
   ]
  },
  {
   "cell_type": "markdown",
   "metadata": {},
   "source": [
    "## 1) Kinematics\n",
    "\n",
    "Amplitudes and cross section for Compton scattering, $\\gamma+e\\rightarrow\\gamma+e$.\n",
    "Energy momentum conservation reads $k_i+p_i=k_f+p_f$. The CM system is used where $p,\\theta$ denote the photon energy and scattering angle, $E,m$ electron energy and mass. "
   ]
  },
  {
   "cell_type": "code",
   "execution_count": 2,
   "metadata": {},
   "outputs": [],
   "source": [
    "theta,t,t0,u,u0,x,y,z=symbols('theta t t0 u u0 x y z',real=True)\n",
    "s,s0,E,p,m =symbols('s s0 E p m',positive=True)"
   ]
  },
  {
   "cell_type": "code",
   "execution_count": 3,
   "metadata": {},
   "outputs": [],
   "source": [
    "ki=[p,0,0,0]\n",
    "pin=[E,m,pi,pi]\n",
    "kf=[p,0,theta,0]\n",
    "pf=[E,m,pi-theta,pi]"
   ]
  },
  {
   "cell_type": "markdown",
   "metadata": {},
   "source": [
    "CM energy squared $s=(k_i+p_i)^2$ and $s_0=s-m^2$  are expressed by CM variables:"
   ]
  },
  {
   "cell_type": "code",
   "execution_count": 4,
   "metadata": {},
   "outputs": [
    {
     "data": {
      "image/png": "[encoded data removed]",
      "text/latex": [
       "$\\displaystyle m^{2} + 2 p \\left(E + \\sqrt{E^{2} - m^{2}}\\right)$"
      ],
      "text/plain": [
       "         ⎛       _________⎞\n",
       " 2       ⎜      ╱  2    2 ⎟\n",
       "m  + 2⋅p⋅⎝E + ╲╱  E  - m  ⎠"
      ]
     },
     "execution_count": 4,
     "metadata": {},
     "output_type": "execute_result"
    }
   ],
   "source": [
    "sCM=m**2+2*hep.dotprod4(hep.fourvec(ki),hep.fourvec(pin));sCM"
   ]
  },
  {
   "cell_type": "code",
   "execution_count": 5,
   "metadata": {},
   "outputs": [
    {
     "name": "stdout",
     "output_type": "stream",
     "text": [
      "sCM= \n"
     ]
    },
    {
     "data": {
      "image/png": "[encoded data removed]",
      "text/latex": [
       "$\\displaystyle m^{2} + 2 p \\left(E + p\\right)$"
      ],
      "text/plain": [
       " 2              \n",
       "m  + 2⋅p⋅(E + p)"
      ]
     },
     "execution_count": 5,
     "metadata": {},
     "output_type": "execute_result"
    }
   ],
   "source": [
    "sCM=m**2+2*p*(E+p);print('sCM= ');sCM"
   ]
  },
  {
   "cell_type": "code",
   "execution_count": 6,
   "metadata": {},
   "outputs": [
    {
     "data": {
      "image/png": "[encoded data removed]",
      "text/latex": [
       "$\\displaystyle 2 p \\left(E + p\\right)$"
      ],
      "text/plain": [
       "2⋅p⋅(E + p)"
      ]
     },
     "execution_count": 6,
     "metadata": {},
     "output_type": "execute_result"
    }
   ],
   "source": [
    "s0CM=2*p*(E+p);s0CM"
   ]
  },
  {
   "cell_type": "markdown",
   "metadata": {},
   "source": [
    "It is not easy to express the scattering amplitudes by invariants. I found it best to \n",
    "express $p$ and $E$ by $s$ and $s_0$ and write all amplitudes as function of $s_0$,\n",
    "$u_0=(k_i-p_f)^2-m^2$ and $t=(k_i-k_f)^2$ where the latter is mainly used as abbreviation\n",
    "$t=-u_0-s_0$. One thus obtains rather simple expressions for $\\sin(\\theta/2)$ and\n",
    "$\\cos(\\theta/2)$"
   ]
  },
  {
   "cell_type": "code",
   "execution_count": 7,
   "metadata": {},
   "outputs": [
    {
     "data": {
      "image/png": "[encoded data removed]",
      "text/latex": [
       "$\\displaystyle \\frac{s_{0}}{2 \\sqrt{s}}$"
      ],
      "text/plain": [
       " s₀ \n",
       "────\n",
       "2⋅√s"
      ]
     },
     "execution_count": 7,
     "metadata": {},
     "output_type": "execute_result"
    }
   ],
   "source": [
    "pCM=s0/2/sqrt(s);pCM"
   ]
  },
  {
   "cell_type": "code",
   "execution_count": 8,
   "metadata": {},
   "outputs": [
    {
     "data": {
      "image/png": "[encoded data removed]",
      "text/latex": [
       "$\\displaystyle \\frac{\\frac{m^{2}}{2} + \\frac{s}{2}}{\\sqrt{s}}$"
      ],
      "text/plain": [
       " 2    \n",
       "m    s\n",
       "── + ─\n",
       "2    2\n",
       "──────\n",
       "  √s  "
      ]
     },
     "execution_count": 8,
     "metadata": {},
     "output_type": "execute_result"
    }
   ],
   "source": [
    "ECM=(s+m**2)/2/sqrt(s);ECM"
   ]
  },
  {
   "cell_type": "code",
   "execution_count": 9,
   "metadata": {},
   "outputs": [
    {
     "data": {
      "image/png": "[encoded data removed]",
      "text/latex": [
       "$\\displaystyle - \\frac{s_{0}^{2} \\sin^{2}{\\left(\\frac{\\theta}{2} \\right)}}{s}$"
      ],
      "text/plain": [
       "   2    2⎛θ⎞ \n",
       "-s₀ ⋅sin ⎜─⎟ \n",
       "         ⎝2⎠ \n",
       "─────────────\n",
       "      s      "
      ]
     },
     "execution_count": 9,
     "metadata": {},
     "output_type": "execute_result"
    }
   ],
   "source": [
    "tCM=-4*pCM**2*sin(theta/2)**2;tCM"
   ]
  },
  {
   "cell_type": "code",
   "execution_count": 10,
   "metadata": {},
   "outputs": [
    {
     "data": {
      "image/png": "[encoded data removed]",
      "text/latex": [
       "$\\displaystyle \\left[ - \\frac{\\sqrt{s} \\sqrt{- t}}{s_{0}}, \\  \\frac{\\sqrt{s} \\sqrt{- t}}{s_{0}}\\right]$"
      ],
      "text/plain": [
       "⎡      ____        ____⎤\n",
       "⎢-√s⋅╲╱ -t    √s⋅╲╱ -t ⎥\n",
       "⎢───────────, ─────────⎥\n",
       "⎣     s₀          s₀   ⎦"
      ]
     },
     "execution_count": 10,
     "metadata": {},
     "output_type": "execute_result"
    }
   ],
   "source": [
    "solve(t+4*pCM**2*sin(theta/2)**2,sin(theta/2))\n"
   ]
  },
  {
   "cell_type": "code",
   "execution_count": 11,
   "metadata": {},
   "outputs": [
    {
     "name": "stdout",
     "output_type": "stream",
     "text": [
      "sinthetahalf=\n"
     ]
    },
    {
     "data": {
      "image/png": "[encoded data removed]",
      "text/latex": [
       "$\\displaystyle \\frac{\\sqrt{s} \\sqrt{- t}}{s_{0}}$"
      ],
      "text/plain": [
       "     ____\n",
       "√s⋅╲╱ -t \n",
       "─────────\n",
       "    s₀   "
      ]
     },
     "execution_count": 11,
     "metadata": {},
     "output_type": "execute_result"
    }
   ],
   "source": [
    "sinthetahalf=sqrt(-t*s)/s0;print('sinthetahalf=');sinthetahalf"
   ]
  },
  {
   "cell_type": "code",
   "execution_count": 12,
   "metadata": {},
   "outputs": [
    {
     "data": {
      "image/png": "[encoded data removed]",
      "text/latex": [
       "$\\displaystyle \\sqrt{1 + \\frac{t \\left(m^{2} + s_{0}\\right)}{s_{0}^{2}}}$"
      ],
      "text/plain": [
       "      _________________\n",
       "     ╱       ⎛ 2     ⎞ \n",
       "    ╱      t⋅⎝m  + s₀⎠ \n",
       "   ╱   1 + ─────────── \n",
       "  ╱              2     \n",
       "╲╱             s₀      "
      ]
     },
     "execution_count": 12,
     "metadata": {},
     "output_type": "execute_result"
    }
   ],
   "source": [
    "costhetahalf=sqrt(1-sinthetahalf**2).subs(s,s0+m**2);costhetahalf"
   ]
  },
  {
   "cell_type": "code",
   "execution_count": 13,
   "metadata": {},
   "outputs": [
    {
     "name": "stdout",
     "output_type": "stream",
     "text": [
      "costhetahalf=\n"
     ]
    },
    {
     "data": {
      "image/png": "[encoded data removed]",
      "text/latex": [
       "$\\displaystyle \\frac{\\sqrt{m^{2} t - s_{0} u_{0}}}{s_{0}}$"
      ],
      "text/plain": [
       "   ______________\n",
       "  ╱  2           \n",
       "╲╱  m ⋅t - s₀⋅u₀ \n",
       "─────────────────\n",
       "        s₀       "
      ]
     },
     "execution_count": 13,
     "metadata": {},
     "output_type": "execute_result"
    }
   ],
   "source": [
    "costhetahalf=sqrt(m**2*t-u0*s0)/s0;print('costhetahalf=');costhetahalf"
   ]
  },
  {
   "cell_type": "markdown",
   "metadata": {},
   "source": [
    "## 2) The amplitudes\n",
    "\n",
    "The scattering amplitude is determined by the sum of the $s$ channel and $u$ channel Feynman graph:\n",
    "\n",
    "$$T_{{fi}}=e^{2}\\bar{u}(p_f,s_f)\\left(\\not\\!\\varepsilon_f^*\\frac{\\not\\! p_i+\\not\\! k_i+m}{(p_i+k_i)^{2}-m^{2}}\\not\\!\\varepsilon_i+\\not\\!\\varepsilon_i\\frac{\\not\\! p_i-\\not\\! k_f+m}{(p_i-k_f)^{2}-m^{2}}\\not\\!\\varepsilon_f^*\\right)u(p,s_i)$$\n",
    "\n",
    "The direct evaluation in the notebook is cumbersome. heppackv0.py contains the necessary procedure for calculating the 16 helicity amplitudes $T_{fi}=T_{\\lambda_3 \\lambda_4;\\lambda_1 \\lambda_2}$. 8 of these amplitudes are independent, here the 8 amplitudes for incoming photons with helicity $\\lambda_1=-1$. The helicity of the incoming\n",
    "and outgoing electrons are $\\lambda_2$ and $\\lambda_4$ respectively-\n",
    "\n",
    "We evaluate generally the $s$ channel helicity amplitude \n",
    "$T^s_{\\lambda_3\\lambda_4;\\lambda_1\\lambda_2}$ and $u$ channel helicity amplitude $T^u_{\\lambda_3\\lambda_4;\\lambda_1\\lambda_2}$ separately by first calculating only the numerator and then dividing respectively by $s_0$ and $u_0$. \n",
    "In most cases $T^s_{\\lambda_1\\lambda_2;\\lambda_3\\lambda_4}=0$. \n",
    "\n",
    "### 2.1) $T1=T_{--;--}$"
   ]
  },
  {
   "cell_type": "code",
   "execution_count": 14,
   "metadata": {
    "scrolled": true
   },
   "outputs": [
    {
     "data": {
      "image/png": "[encoded data removed]",
      "text/latex": [
       "$\\displaystyle 4 \\left(E^{2} + E p - m^{2} + p \\sqrt{E^{2} - m^{2}} - \\sqrt{E - m} \\sqrt{E + m} \\sqrt{E^{2} - m^{2}}\\right) \\cos{\\left(\\frac{\\theta}{2} \\right)}$"
      ],
      "text/plain": [
       "  ⎛                     _________                          _________⎞       \n",
       "  ⎜ 2          2       ╱  2    2      _______   _______   ╱  2    2 ⎟    ⎛θ⎞\n",
       "4⋅⎝E  + E⋅p - m  + p⋅╲╱  E  - m   - ╲╱ E - m ⋅╲╱ E + m ⋅╲╱  E  - m  ⎠⋅cos⎜─⎟\n",
       "                                                                         ⎝2⎠"
      ]
     },
     "execution_count": 14,
     "metadata": {},
     "output_type": "execute_result"
    }
   ],
   "source": [
    "T1Sv1=simplify(hep.Ncompts(ki, -1, pin, -1, kf, -1, pf, -1));T1Sv1"
   ]
  },
  {
   "cell_type": "code",
   "execution_count": 15,
   "metadata": {},
   "outputs": [
    {
     "data": {
      "image/png": "[encoded data removed]",
      "text/latex": [
       "$\\displaystyle 4 \\left(E p + p^{2}\\right) \\cos{\\left(\\frac{\\theta}{2} \\right)}$"
      ],
      "text/plain": [
       "  ⎛       2⎞    ⎛θ⎞\n",
       "4⋅⎝E⋅p + p ⎠⋅cos⎜─⎟\n",
       "                ⎝2⎠"
      ]
     },
     "execution_count": 15,
     "metadata": {},
     "output_type": "execute_result"
    }
   ],
   "source": [
    "T1Sv1=4*cos(theta/2)*(p**2+E*p);T1Sv1"
   ]
  },
  {
   "cell_type": "markdown",
   "metadata": {},
   "source": [
    "which is obviously $2s_0\\cos(\\theta/2)$. Dividing by $s_0$ yields"
   ]
  },
  {
   "cell_type": "code",
   "execution_count": 16,
   "metadata": {},
   "outputs": [
    {
     "data": {
      "image/png": "[encoded data removed]",
      "text/latex": [
       "$\\displaystyle 2 \\cos{\\left(\\frac{\\theta}{2} \\right)}$"
      ],
      "text/plain": [
       "     ⎛θ⎞\n",
       "2⋅cos⎜─⎟\n",
       "     ⎝2⎠"
      ]
     },
     "execution_count": 16,
     "metadata": {},
     "output_type": "execute_result"
    }
   ],
   "source": [
    "T1S=2*cos(theta/2);T1S"
   ]
  },
  {
   "cell_type": "code",
   "execution_count": 17,
   "metadata": {},
   "outputs": [
    {
     "data": {
      "image/png": "[encoded data removed]",
      "text/latex": [
       "$\\displaystyle 4 \\left(- E^{2} + E p + m^{2} - p \\sqrt{E^{2} - m^{2}} - \\sqrt{E - m} \\sqrt{E + m} \\sqrt{E^{2} - m^{2}}\\right) \\sin^{2}{\\left(\\frac{\\theta}{2} \\right)} \\cos{\\left(\\frac{\\theta}{2} \\right)}$"
      ],
      "text/plain": [
       "  ⎛                       _________                          _________⎞       \n",
       "  ⎜   2          2       ╱  2    2      _______   _______   ╱  2    2 ⎟    2⎛θ\n",
       "4⋅⎝- E  + E⋅p + m  - p⋅╲╱  E  - m   - ╲╱ E - m ⋅╲╱ E + m ⋅╲╱  E  - m  ⎠⋅sin ⎜─\n",
       "                                                                            ⎝2\n",
       "\n",
       "        \n",
       "⎞    ⎛θ⎞\n",
       "⎟⋅cos⎜─⎟\n",
       "⎠    ⎝2⎠"
      ]
     },
     "execution_count": 17,
     "metadata": {},
     "output_type": "execute_result"
    }
   ],
   "source": [
    "T1Uv1=simplify(hep.Ncomptu(ki, -1, pin, -1, kf, -1, pf, -1));T1Uv1"
   ]
  },
  {
   "cell_type": "code",
   "execution_count": 18,
   "metadata": {},
   "outputs": [
    {
     "data": {
      "image/png": "[encoded data removed]",
      "text/latex": [
       "$\\displaystyle \\left(4 E p - 12 p^{2}\\right) \\sin^{2}{\\left(\\frac{\\theta}{2} \\right)} \\cos{\\left(\\frac{\\theta}{2} \\right)}$"
      ],
      "text/plain": [
       "⎛            2⎞    2⎛θ⎞    ⎛θ⎞\n",
       "⎝4⋅E⋅p - 12⋅p ⎠⋅sin ⎜─⎟⋅cos⎜─⎟\n",
       "                    ⎝2⎠    ⎝2⎠"
      ]
     },
     "execution_count": 18,
     "metadata": {},
     "output_type": "execute_result"
    }
   ],
   "source": [
    "T1Uv1=4*(E*p-3*p**2)*sin(theta/2)**2*cos(theta/2);T1Uv1"
   ]
  },
  {
   "cell_type": "code",
   "execution_count": 19,
   "metadata": {},
   "outputs": [
    {
     "data": {
      "image/png": "[encoded data removed]",
      "text/latex": [
       "$\\displaystyle \\frac{t \\left(- m^{2} - s + 3 s_{0}\\right) \\cos{\\left(\\frac{\\theta}{2} \\right)}}{s_{0}}$"
      ],
      "text/plain": [
       "  ⎛   2           ⎞    ⎛θ⎞\n",
       "t⋅⎝- m  - s + 3⋅s₀⎠⋅cos⎜─⎟\n",
       "                       ⎝2⎠\n",
       "──────────────────────────\n",
       "            s₀            "
      ]
     },
     "execution_count": 19,
     "metadata": {},
     "output_type": "execute_result"
    }
   ],
   "source": [
    "simplify(T1Uv1.subs(p,pCM).subs(E,ECM).subs(sin(theta/2),sinthetahalf))"
   ]
  },
  {
   "cell_type": "code",
   "execution_count": 20,
   "metadata": {},
   "outputs": [
    {
     "data": {
      "image/png": "[encoded data removed]",
      "text/latex": [
       "$\\displaystyle \\frac{2 t \\left(- m^{2} + s_{0}\\right) \\cos{\\left(\\frac{\\theta}{2} \\right)}}{s_{0} u_{0}}$"
      ],
      "text/plain": [
       "    ⎛   2     ⎞    ⎛θ⎞\n",
       "2⋅t⋅⎝- m  + s₀⎠⋅cos⎜─⎟\n",
       "                   ⎝2⎠\n",
       "──────────────────────\n",
       "        s₀⋅u₀         "
      ]
     },
     "execution_count": 20,
     "metadata": {},
     "output_type": "execute_result"
    }
   ],
   "source": [
    "T1U=2*t*(s0-m**2)*cos(theta/2)/s0/u0;T1U"
   ]
  },
  {
   "cell_type": "code",
   "execution_count": 21,
   "metadata": {},
   "outputs": [
    {
     "data": {
      "image/png": "[encoded data removed]",
      "text/latex": [
       "$\\displaystyle \\frac{2 \\sqrt{m^{2} t - s_{0} u_{0}} \\left(s_{0} u_{0} - t \\left(m^{2} - s_{0}\\right)\\right)}{s_{0}^{2} u_{0}}$"
      ],
      "text/plain": [
       "     ______________                      \n",
       "    ╱  2            ⎛          ⎛ 2     ⎞⎞\n",
       "2⋅╲╱  m ⋅t - s₀⋅u₀ ⋅⎝s₀⋅u₀ - t⋅⎝m  - s₀⎠⎠\n",
       "─────────────────────────────────────────\n",
       "                    2                    \n",
       "                  s₀ ⋅u₀                 "
      ]
     },
     "execution_count": 21,
     "metadata": {},
     "output_type": "execute_result"
    }
   ],
   "source": [
    "simplify((T1S+T1U).subs(cos(theta/2),costhetahalf))"
   ]
  },
  {
   "cell_type": "code",
   "execution_count": 22,
   "metadata": {},
   "outputs": [
    {
     "name": "stdout",
     "output_type": "stream",
     "text": [
      "T1= \n"
     ]
    },
    {
     "data": {
      "image/png": "[encoded data removed]",
      "text/latex": [
       "$\\displaystyle - \\frac{2 \\left(m^{2} t + s_{0}^{2}\\right) \\sqrt{m^{2} t - s_{0} u_{0}}}{s_{0}^{2} u_{0}}$"
      ],
      "text/plain": [
       "                   ______________ \n",
       "   ⎛ 2       2⎞   ╱  2            \n",
       "-2⋅⎝m ⋅t + s₀ ⎠⋅╲╱  m ⋅t - s₀⋅u₀  \n",
       "──────────────────────────────────\n",
       "                2                 \n",
       "              s₀ ⋅u₀              "
      ]
     },
     "execution_count": 22,
     "metadata": {},
     "output_type": "execute_result"
    }
   ],
   "source": [
    "T1=-2*sqrt(m**2*t-s0*u0)*(m**2*t+s0**2)/s0**2/u0;print('T1= ');T1"
   ]
  },
  {
   "cell_type": "code",
   "execution_count": 23,
   "metadata": {},
   "outputs": [
    {
     "data": {
      "image/png": "[encoded data removed]",
      "text/latex": [
       "$\\displaystyle \\frac{4 \\left(m^{2} t + s_{0}^{2}\\right)^{2} \\left(m^{2} t - s_{0} u_{0}\\right)}{s_{0}^{4} u_{0}^{2}}$"
      ],
      "text/plain": [
       "              2               \n",
       "  ⎛ 2       2⎞  ⎛ 2          ⎞\n",
       "4⋅⎝m ⋅t + s₀ ⎠ ⋅⎝m ⋅t - s₀⋅u₀⎠\n",
       "──────────────────────────────\n",
       "             4   2            \n",
       "           s₀ ⋅u₀             "
      ]
     },
     "execution_count": 23,
     "metadata": {},
     "output_type": "execute_result"
    }
   ],
   "source": [
    "T1sq=simplify(T1**2);T1sq"
   ]
  },
  {
   "cell_type": "markdown",
   "metadata": {},
   "source": [
    "The ampltude $T(--;--)$ can be written as $T(--;--)=t_1+t_2$ where $t_1$ depends only implicitly on $m$ and $t_2$ is proportional to $m^2$, i.e. $t_2=0$ in the high energy approximation or for $m=0$."
   ]
  },
  {
   "cell_type": "code",
   "execution_count": 24,
   "metadata": {},
   "outputs": [
    {
     "data": {
      "image/png": "[encoded data removed]",
      "text/latex": [
       "$\\displaystyle - \\frac{2 \\sqrt{s_{0}} \\sqrt{- u_{0}}}{u_{0}}$"
      ],
      "text/plain": [
       "     ____   _____ \n",
       "-2⋅╲╱ s₀ ⋅╲╱ -u₀  \n",
       "──────────────────\n",
       "        u₀        "
      ]
     },
     "execution_count": 24,
     "metadata": {},
     "output_type": "execute_result"
    }
   ],
   "source": [
    "t_1=T1.subs(m,0);t_1"
   ]
  },
  {
   "cell_type": "code",
   "execution_count": 25,
   "metadata": {},
   "outputs": [
    {
     "data": {
      "image/png": "[encoded data removed]",
      "text/latex": [
       "$\\displaystyle - \\frac{4 s_{0}}{u_{0}}$"
      ],
      "text/plain": [
       "-4⋅s₀ \n",
       "──────\n",
       "  u₀  "
      ]
     },
     "execution_count": 25,
     "metadata": {},
     "output_type": "execute_result"
    }
   ],
   "source": [
    "t_1sq=t_1**2;t_1sq"
   ]
  },
  {
   "cell_type": "markdown",
   "metadata": {},
   "source": [
    "Next we calculate $T1sq-t_1^2$ and name it for notational simplicity t_2sq although it is not a real square and can be negative. "
   ]
  },
  {
   "cell_type": "code",
   "execution_count": 26,
   "metadata": {},
   "outputs": [
    {
     "data": {
      "image/png": "[encoded data removed]",
      "text/latex": [
       "$\\displaystyle \\frac{4 \\left(s_{0}^{5} u_{0} + \\left(m^{2} t + s_{0}^{2}\\right)^{2} \\left(m^{2} t - s_{0} u_{0}\\right)\\right)}{s_{0}^{4} u_{0}^{2}}$"
      ],
      "text/plain": [
       "  ⎛                     2               ⎞\n",
       "  ⎜  5      ⎛ 2       2⎞  ⎛ 2          ⎞⎟\n",
       "4⋅⎝s₀ ⋅u₀ + ⎝m ⋅t + s₀ ⎠ ⋅⎝m ⋅t - s₀⋅u₀⎠⎠\n",
       "─────────────────────────────────────────\n",
       "                   4   2                 \n",
       "                 s₀ ⋅u₀                  "
      ]
     },
     "execution_count": 26,
     "metadata": {},
     "output_type": "execute_result"
    }
   ],
   "source": [
    "t_2sq=simplify(T1sq+4*s0/u0);t_2sq"
   ]
  },
  {
   "cell_type": "code",
   "execution_count": 27,
   "metadata": {},
   "outputs": [
    {
     "data": {
      "image/png": "[encoded data removed]",
      "text/latex": [
       "$\\displaystyle 0$"
      ],
      "text/plain": [
       "0"
      ]
     },
     "execution_count": 27,
     "metadata": {},
     "output_type": "execute_result"
    }
   ],
   "source": [
    "t_2sq.subs(m,0)"
   ]
  },
  {
   "cell_type": "markdown",
   "metadata": {},
   "source": [
    "### 2.2) $T2=T_{-+;--}$ :"
   ]
  },
  {
   "cell_type": "code",
   "execution_count": 28,
   "metadata": {},
   "outputs": [
    {
     "data": {
      "image/png": "[encoded data removed]",
      "text/latex": [
       "$\\displaystyle 0$"
      ],
      "text/plain": [
       "0"
      ]
     },
     "execution_count": 28,
     "metadata": {},
     "output_type": "execute_result"
    }
   ],
   "source": [
    "T2S=simplify(hep.Ncompts(ki, -1, pin, -1, kf, -1, pf, 1));T2S"
   ]
  },
  {
   "cell_type": "code",
   "execution_count": 29,
   "metadata": {},
   "outputs": [
    {
     "data": {
      "image/png": "[encoded data removed]",
      "text/latex": [
       "$\\displaystyle - 4 m p \\sin{\\left(\\frac{\\theta}{2} \\right)} \\cos^{2}{\\left(\\frac{\\theta}{2} \\right)}$"
      ],
      "text/plain": [
       "          ⎛θ⎞    2⎛θ⎞\n",
       "-4⋅m⋅p⋅sin⎜─⎟⋅cos ⎜─⎟\n",
       "          ⎝2⎠     ⎝2⎠"
      ]
     },
     "execution_count": 29,
     "metadata": {},
     "output_type": "execute_result"
    }
   ],
   "source": [
    "T2U=simplify(hep.Ncomptu(ki, -1, pin, -1, kf, -1, pf, 1));T2U"
   ]
  },
  {
   "cell_type": "code",
   "execution_count": 30,
   "metadata": {},
   "outputs": [
    {
     "data": {
      "image/png": "[encoded data removed]",
      "text/latex": [
       "$\\displaystyle - \\frac{2 m \\sqrt{- t} \\left(m^{2} t - s_{0} u_{0}\\right)}{s_{0}^{2}}$"
      ],
      "text/plain": [
       "       ____ ⎛ 2          ⎞ \n",
       "-2⋅m⋅╲╱ -t ⋅⎝m ⋅t - s₀⋅u₀⎠ \n",
       "───────────────────────────\n",
       "              2            \n",
       "            s₀             "
      ]
     },
     "execution_count": 30,
     "metadata": {},
     "output_type": "execute_result"
    }
   ],
   "source": [
    "T2v1=T2U.subs(p,pCM).subs(sin(theta/2),sinthetahalf).subs(cos(theta/2),costhetahalf);T2v1"
   ]
  },
  {
   "cell_type": "code",
   "execution_count": 31,
   "metadata": {},
   "outputs": [
    {
     "data": {
      "image/png": "[encoded data removed]",
      "text/latex": [
       "$\\displaystyle - \\frac{2 m \\sqrt{- t} \\left(m^{2} t - s_{0} u_{0}\\right)}{s_{0}^{2} u_{0}}$"
      ],
      "text/plain": [
       "       ____ ⎛ 2          ⎞ \n",
       "-2⋅m⋅╲╱ -t ⋅⎝m ⋅t - s₀⋅u₀⎠ \n",
       "───────────────────────────\n",
       "             2             \n",
       "           s₀ ⋅u₀          "
      ]
     },
     "execution_count": 31,
     "metadata": {},
     "output_type": "execute_result"
    }
   ],
   "source": [
    "T2=T2v1/u0;T2"
   ]
  },
  {
   "cell_type": "code",
   "execution_count": 32,
   "metadata": {},
   "outputs": [
    {
     "data": {
      "image/png": "[encoded data removed]",
      "text/latex": [
       "$\\displaystyle - \\frac{4 m^{2} t \\left(m^{2} t - s_{0} u_{0}\\right)^{2}}{s_{0}^{4} u_{0}^{2}}$"
      ],
      "text/plain": [
       "                      2 \n",
       "    2   ⎛ 2          ⎞  \n",
       "-4⋅m ⋅t⋅⎝m ⋅t - s₀⋅u₀⎠  \n",
       "────────────────────────\n",
       "          4   2         \n",
       "        s₀ ⋅u₀          "
      ]
     },
     "execution_count": 32,
     "metadata": {},
     "output_type": "execute_result"
    }
   ],
   "source": [
    "T2sq=T2**2;T2sq"
   ]
  },
  {
   "cell_type": "markdown",
   "metadata": {},
   "source": [
    "### 2.3) $T3=T_{++;--}$ :"
   ]
  },
  {
   "cell_type": "code",
   "execution_count": 33,
   "metadata": {},
   "outputs": [
    {
     "data": {
      "image/png": "[encoded data removed]",
      "text/latex": [
       "$\\displaystyle - 4 m p \\sin{\\left(\\frac{\\theta}{2} \\right)}$"
      ],
      "text/plain": [
       "          ⎛θ⎞\n",
       "-4⋅m⋅p⋅sin⎜─⎟\n",
       "          ⎝2⎠"
      ]
     },
     "execution_count": 33,
     "metadata": {},
     "output_type": "execute_result"
    }
   ],
   "source": [
    "T3Sv1=simplify(hep.Ncompts(ki, -1, pin, -1, kf, 1, pf, 1));T3Sv1"
   ]
  },
  {
   "cell_type": "code",
   "execution_count": 34,
   "metadata": {},
   "outputs": [
    {
     "data": {
      "image/png": "[encoded data removed]",
      "text/latex": [
       "$\\displaystyle - 2 m \\sqrt{- t}$"
      ],
      "text/plain": [
       "       ____\n",
       "-2⋅m⋅╲╱ -t "
      ]
     },
     "execution_count": 34,
     "metadata": {},
     "output_type": "execute_result"
    }
   ],
   "source": [
    "tmp=simplify(T3Sv1.subs(p,pCM).subs(sin(theta/2),sinthetahalf));tmp"
   ]
  },
  {
   "cell_type": "code",
   "execution_count": 35,
   "metadata": {},
   "outputs": [
    {
     "data": {
      "image/png": "[encoded data removed]",
      "text/latex": [
       "$\\displaystyle - \\frac{2 m \\sqrt{- t}}{s_{0}}$"
      ],
      "text/plain": [
       "       ____ \n",
       "-2⋅m⋅╲╱ -t  \n",
       "────────────\n",
       "     s₀     "
      ]
     },
     "execution_count": 35,
     "metadata": {},
     "output_type": "execute_result"
    }
   ],
   "source": [
    "T3S=tmp/s0;T3S"
   ]
  },
  {
   "cell_type": "code",
   "execution_count": 36,
   "metadata": {},
   "outputs": [
    {
     "data": {
      "image/png": "[encoded data removed]",
      "text/latex": [
       "$\\displaystyle - 4 m p \\sin{\\left(\\frac{\\theta}{2} \\right)} \\cos^{2}{\\left(\\frac{\\theta}{2} \\right)}$"
      ],
      "text/plain": [
       "          ⎛θ⎞    2⎛θ⎞\n",
       "-4⋅m⋅p⋅sin⎜─⎟⋅cos ⎜─⎟\n",
       "          ⎝2⎠     ⎝2⎠"
      ]
     },
     "execution_count": 36,
     "metadata": {},
     "output_type": "execute_result"
    }
   ],
   "source": [
    "T3Uv1=simplify(hep.Ncomptu(ki, -1, pin, -1, kf, 1, pf, 1));T3Uv1"
   ]
  },
  {
   "cell_type": "code",
   "execution_count": 37,
   "metadata": {},
   "outputs": [
    {
     "data": {
      "image/png": "[encoded data removed]",
      "text/latex": [
       "$\\displaystyle - \\frac{2 m s_{0} \\sin{\\left(\\frac{\\theta}{2} \\right)} \\cos^{2}{\\left(\\frac{\\theta}{2} \\right)}}{\\sqrt{s}}$"
      ],
      "text/plain": [
       "           ⎛θ⎞    2⎛θ⎞ \n",
       "-2⋅m⋅s₀⋅sin⎜─⎟⋅cos ⎜─⎟ \n",
       "           ⎝2⎠     ⎝2⎠ \n",
       "───────────────────────\n",
       "           √s          "
      ]
     },
     "execution_count": 37,
     "metadata": {},
     "output_type": "execute_result"
    }
   ],
   "source": [
    "tmp=simplify(T3Uv1.subs(p,pCM));tmp"
   ]
  },
  {
   "cell_type": "code",
   "execution_count": 38,
   "metadata": {},
   "outputs": [
    {
     "data": {
      "image/png": "[encoded data removed]",
      "text/latex": [
       "$\\displaystyle - \\frac{2 m \\sqrt{- t} \\left(m^{2} t - s_{0} u_{0}\\right)}{s_{0}^{2} u_{0}}$"
      ],
      "text/plain": [
       "       ____ ⎛ 2          ⎞ \n",
       "-2⋅m⋅╲╱ -t ⋅⎝m ⋅t - s₀⋅u₀⎠ \n",
       "───────────────────────────\n",
       "             2             \n",
       "           s₀ ⋅u₀          "
      ]
     },
     "execution_count": 38,
     "metadata": {},
     "output_type": "execute_result"
    }
   ],
   "source": [
    "T3U=tmp.subs(sin(theta/2),sinthetahalf).subs(cos(theta/2),costhetahalf)/u0;T3U"
   ]
  },
  {
   "cell_type": "code",
   "execution_count": 39,
   "metadata": {},
   "outputs": [
    {
     "data": {
      "image/png": "[encoded data removed]",
      "text/latex": [
       "$\\displaystyle \\frac{2 m^{3} \\left(- t\\right)^{\\frac{3}{2}}}{s_{0}^{2} u_{0}}$"
      ],
      "text/plain": [
       "   3     3/2\n",
       "2⋅m ⋅(-t)   \n",
       "────────────\n",
       "     2      \n",
       "   s₀ ⋅u₀   "
      ]
     },
     "execution_count": 39,
     "metadata": {},
     "output_type": "execute_result"
    }
   ],
   "source": [
    "T3=simplify(T3S+T3U);T3"
   ]
  },
  {
   "cell_type": "code",
   "execution_count": 40,
   "metadata": {},
   "outputs": [
    {
     "data": {
      "image/png": "[encoded data removed]",
      "text/latex": [
       "$\\displaystyle - \\frac{4 m^{6} t^{3}}{s_{0}^{4} u_{0}^{2}}$"
      ],
      "text/plain": [
       "    6  3 \n",
       "-4⋅m ⋅t  \n",
       "─────────\n",
       "   4   2 \n",
       " s₀ ⋅u₀  "
      ]
     },
     "execution_count": 40,
     "metadata": {},
     "output_type": "execute_result"
    }
   ],
   "source": [
    "T3sq=T3**2;T3sq"
   ]
  },
  {
   "cell_type": "markdown",
   "metadata": {},
   "source": [
    "### 2.4) $T4=T_{+-;--}$ :"
   ]
  },
  {
   "cell_type": "code",
   "execution_count": 41,
   "metadata": {
    "scrolled": true
   },
   "outputs": [
    {
     "data": {
      "image/png": "[encoded data removed]",
      "text/latex": [
       "$\\displaystyle 0$"
      ],
      "text/plain": [
       "0"
      ]
     },
     "execution_count": 41,
     "metadata": {},
     "output_type": "execute_result"
    }
   ],
   "source": [
    "T4S=simplify(hep.Ncompts(ki, -1, pin, -1, kf, 1, pf, -1));T4S"
   ]
  },
  {
   "cell_type": "code",
   "execution_count": 42,
   "metadata": {
    "scrolled": false
   },
   "outputs": [
    {
     "data": {
      "image/png": "[encoded data removed]",
      "text/latex": [
       "$\\displaystyle 4 \\left(- E^{2} + E p + m^{2} + p \\sqrt{E^{2} - m^{2}} - \\sqrt{E - m} \\sqrt{E + m} \\sqrt{E^{2} - m^{2}}\\right) \\sin^{2}{\\left(\\frac{\\theta}{2} \\right)} \\cos{\\left(\\frac{\\theta}{2} \\right)}$"
      ],
      "text/plain": [
       "  ⎛                       _________                          _________⎞       \n",
       "  ⎜   2          2       ╱  2    2      _______   _______   ╱  2    2 ⎟    2⎛θ\n",
       "4⋅⎝- E  + E⋅p + m  + p⋅╲╱  E  - m   - ╲╱ E - m ⋅╲╱ E + m ⋅╲╱  E  - m  ⎠⋅sin ⎜─\n",
       "                                                                            ⎝2\n",
       "\n",
       "        \n",
       "⎞    ⎛θ⎞\n",
       "⎟⋅cos⎜─⎟\n",
       "⎠    ⎝2⎠"
      ]
     },
     "execution_count": 42,
     "metadata": {},
     "output_type": "execute_result"
    }
   ],
   "source": [
    "T4U=simplify(hep.Ncomptu(ki, -1, pin, -1, kf, 1, pf, -1));T4U"
   ]
  },
  {
   "cell_type": "markdown",
   "metadata": {},
   "source": [
    "The factot inside the brackets is easiest reduced by hand to $Ep-p^2=\\frac{m^2s_0}{2s}$ leading to "
   ]
  },
  {
   "cell_type": "code",
   "execution_count": 43,
   "metadata": {
    "scrolled": true
   },
   "outputs": [
    {
     "data": {
      "image/png": "[encoded data removed]",
      "text/latex": [
       "$\\displaystyle - \\frac{2 m^{2} t \\sqrt{m^{2} t - s_{0} u_{0}}}{s_{0}^{2} u_{0}}$"
      ],
      "text/plain": [
       "           ______________ \n",
       "    2     ╱  2            \n",
       "-2⋅m ⋅t⋅╲╱  m ⋅t - s₀⋅u₀  \n",
       "──────────────────────────\n",
       "            2             \n",
       "          s₀ ⋅u₀          "
      ]
     },
     "execution_count": 43,
     "metadata": {},
     "output_type": "execute_result"
    }
   ],
   "source": [
    "T4=2*m**2*s0/s*sinthetahalf**2*costhetahalf/u0;T4"
   ]
  },
  {
   "cell_type": "code",
   "execution_count": 44,
   "metadata": {
    "scrolled": true
   },
   "outputs": [
    {
     "data": {
      "image/png": "[encoded data removed]",
      "text/latex": [
       "$\\displaystyle \\frac{4 m^{4} t^{2} \\left(m^{2} t - s_{0} u_{0}\\right)}{s_{0}^{4} u_{0}^{2}}$"
      ],
      "text/plain": [
       "   4  2 ⎛ 2          ⎞\n",
       "4⋅m ⋅t ⋅⎝m ⋅t - s₀⋅u₀⎠\n",
       "──────────────────────\n",
       "         4   2        \n",
       "       s₀ ⋅u₀         "
      ]
     },
     "execution_count": 44,
     "metadata": {},
     "output_type": "execute_result"
    }
   ],
   "source": [
    "T4sq=T4**2;T4sq"
   ]
  },
  {
   "cell_type": "markdown",
   "metadata": {},
   "source": [
    "Finally the 4 squared small terms for incoming lefthanded photons are collected:"
   ]
  },
  {
   "cell_type": "code",
   "execution_count": 45,
   "metadata": {
    "scrolled": true
   },
   "outputs": [
    {
     "data": {
      "image/png": "[encoded data removed]",
      "text/latex": [
       "$\\displaystyle \\frac{4 m^{2} t \\left(2 m^{2} t + s_{0}^{2} - 2 s_{0} u_{0} - u_{0}^{2}\\right)}{s_{0}^{2} u_{0}^{2}}$"
      ],
      "text/plain": [
       "   2   ⎛   2       2               2⎞\n",
       "4⋅m ⋅t⋅⎝2⋅m ⋅t + s₀  - 2⋅s₀⋅u₀ - u₀ ⎠\n",
       "─────────────────────────────────────\n",
       "                 2   2               \n",
       "               s₀ ⋅u₀                "
      ]
     },
     "execution_count": 45,
     "metadata": {},
     "output_type": "execute_result"
    }
   ],
   "source": [
    "small1=simplify(t_2sq+T2sq+T3sq+T4sq);small1"
   ]
  },
  {
   "cell_type": "markdown",
   "metadata": {},
   "source": [
    "### 2.5)  $T5=T_{--;-+}$ :\n",
    "\n",
    "Now the 4 amplitudes for incoming electrons with helicity $+1/2$ are calculated:"
   ]
  },
  {
   "cell_type": "code",
   "execution_count": 46,
   "metadata": {
    "scrolled": true
   },
   "outputs": [
    {
     "data": {
      "image/png": "[encoded data removed]",
      "text/latex": [
       "$\\displaystyle 0$"
      ],
      "text/plain": [
       "0"
      ]
     },
     "execution_count": 46,
     "metadata": {},
     "output_type": "execute_result"
    }
   ],
   "source": [
    "T5S=simplify(hep.Ncompts(ki, -1, pin, 1, kf, -1, pf, -1));T5S"
   ]
  },
  {
   "cell_type": "code",
   "execution_count": 47,
   "metadata": {
    "scrolled": false
   },
   "outputs": [
    {
     "data": {
      "image/png": "[encoded data removed]",
      "text/latex": [
       "$\\displaystyle 2 m p \\left(\\cos{\\left(\\theta \\right)} + 1\\right) \\sin{\\left(\\frac{\\theta}{2} \\right)}$"
      ],
      "text/plain": [
       "                      ⎛θ⎞\n",
       "2⋅m⋅p⋅(cos(θ) + 1)⋅sin⎜─⎟\n",
       "                      ⎝2⎠"
      ]
     },
     "execution_count": 47,
     "metadata": {},
     "output_type": "execute_result"
    }
   ],
   "source": [
    "T5U=simplify(hep.Ncomptu(ki, -1, pin, 1, kf, -1, pf, -1));T5U"
   ]
  },
  {
   "cell_type": "code",
   "execution_count": 48,
   "metadata": {
    "scrolled": false
   },
   "outputs": [
    {
     "data": {
      "image/png": "[encoded data removed]",
      "text/latex": [
       "$\\displaystyle - 4 m p \\sin{\\left(\\frac{\\theta}{2} \\right)} \\cos^{2}{\\left(\\frac{\\theta}{2} \\right)}$"
      ],
      "text/plain": [
       "          ⎛θ⎞    2⎛θ⎞\n",
       "-4⋅m⋅p⋅sin⎜─⎟⋅cos ⎜─⎟\n",
       "          ⎝2⎠     ⎝2⎠"
      ]
     },
     "execution_count": 48,
     "metadata": {},
     "output_type": "execute_result"
    }
   ],
   "source": [
    "T2U"
   ]
  },
  {
   "cell_type": "code",
   "execution_count": 49,
   "metadata": {
    "scrolled": false
   },
   "outputs": [
    {
     "data": {
      "image/png": "[encoded data removed]",
      "text/latex": [
       "$\\displaystyle \\frac{2 m \\sqrt{- t} \\left(m^{2} t - s_{0} u_{0}\\right)}{s_{0}^{2} u_{0}}$"
      ],
      "text/plain": [
       "      ____ ⎛ 2          ⎞\n",
       "2⋅m⋅╲╱ -t ⋅⎝m ⋅t - s₀⋅u₀⎠\n",
       "─────────────────────────\n",
       "            2            \n",
       "          s₀ ⋅u₀         "
      ]
     },
     "execution_count": 49,
     "metadata": {},
     "output_type": "execute_result"
    }
   ],
   "source": [
    "T5=-T2;T5"
   ]
  },
  {
   "cell_type": "code",
   "execution_count": 50,
   "metadata": {
    "scrolled": true
   },
   "outputs": [
    {
     "data": {
      "image/png": "[encoded data removed]",
      "text/latex": [
       "$\\displaystyle - \\frac{4 m^{2} t \\left(m^{2} t - s_{0} u_{0}\\right)^{2}}{s_{0}^{4} u_{0}^{2}}$"
      ],
      "text/plain": [
       "                      2 \n",
       "    2   ⎛ 2          ⎞  \n",
       "-4⋅m ⋅t⋅⎝m ⋅t - s₀⋅u₀⎠  \n",
       "────────────────────────\n",
       "          4   2         \n",
       "        s₀ ⋅u₀          "
      ]
     },
     "execution_count": 50,
     "metadata": {},
     "output_type": "execute_result"
    }
   ],
   "source": [
    "T5sq=T5**2;T5sq"
   ]
  },
  {
   "cell_type": "markdown",
   "metadata": {},
   "source": [
    "### 2.6) $T6=T_{-+;-+}$ :"
   ]
  },
  {
   "cell_type": "code",
   "execution_count": 51,
   "metadata": {},
   "outputs": [
    {
     "data": {
      "image/png": "[encoded data removed]",
      "text/latex": [
       "$\\displaystyle 0$"
      ],
      "text/plain": [
       "0"
      ]
     },
     "execution_count": 51,
     "metadata": {},
     "output_type": "execute_result"
    }
   ],
   "source": [
    "T6S=hep.Ncompts(ki, -1, pin, 1, kf, -1, pf, 1);T6S"
   ]
  },
  {
   "cell_type": "code",
   "execution_count": 52,
   "metadata": {
    "scrolled": false
   },
   "outputs": [
    {
     "data": {
      "image/png": "[encoded data removed]",
      "text/latex": [
       "$\\displaystyle 2 \\left(E^{2} \\cos{\\left(\\theta \\right)} + E^{2} - E p \\cos{\\left(\\theta \\right)} - E p - m^{2} \\cos{\\left(\\theta \\right)} - m^{2} - p \\sqrt{E^{2} - m^{2}} \\cos{\\left(\\theta \\right)} - p \\sqrt{E^{2} - m^{2}} - \\sqrt{E - m} \\sqrt{E + m} \\sqrt{E^{2} - m^{2}} \\cos{\\left(\\theta \\right)} - \\sqrt{E - m} \\sqrt{E + m} \\sqrt{E^{2} - m^{2}}\\right) \\cos{\\left(\\frac{\\theta}{2} \\right)}$"
      ],
      "text/plain": [
       "  ⎛                                                          _________        \n",
       "  ⎜ 2           2                       2           2       ╱  2    2         \n",
       "2⋅⎝E ⋅cos(θ) + E  - E⋅p⋅cos(θ) - E⋅p - m ⋅cos(θ) - m  - p⋅╲╱  E  - m  ⋅cos(θ) \n",
       "                                                                              \n",
       "\n",
       "       _________                          _________                           \n",
       "      ╱  2    2      _______   _______   ╱  2    2             _______   _____\n",
       "- p⋅╲╱  E  - m   - ╲╱ E - m ⋅╲╱ E + m ⋅╲╱  E  - m  ⋅cos(θ) - ╲╱ E - m ⋅╲╱ E + \n",
       "                                                                              \n",
       "\n",
       "      _________⎞       \n",
       "__   ╱  2    2 ⎟    ⎛θ⎞\n",
       "m ⋅╲╱  E  - m  ⎠⋅cos⎜─⎟\n",
       "                    ⎝2⎠"
      ]
     },
     "execution_count": 52,
     "metadata": {},
     "output_type": "execute_result"
    }
   ],
   "source": [
    "T6Uv1=hep.Ncomptu(ki, -1, pin, 1, kf, -1, pf, 1);T6Uv1"
   ]
  },
  {
   "cell_type": "markdown",
   "metadata": {},
   "source": [
    "Sympy insists of converting expressions containing trigonometric functions of\n",
    "$\\theta/2$ into functions of $\\theta$. I dont know how to avoid this. Therefore use brute force:"
   ]
  },
  {
   "cell_type": "code",
   "execution_count": 53,
   "metadata": {},
   "outputs": [
    {
     "data": {
      "image/png": "[encoded data removed]",
      "text/latex": [
       "$\\displaystyle 4 \\left(E^{2} - E p - m^{2} - p \\sqrt{E^{2} - m^{2}} - \\sqrt{E - m} \\sqrt{E + m} \\sqrt{E^{2} - m^{2}}\\right) \\cos^{3}{\\left(\\frac{\\theta}{2} \\right)}$"
      ],
      "text/plain": [
       "  ⎛                     _________                          _________⎞        \n",
       "  ⎜ 2          2       ╱  2    2      _______   _______   ╱  2    2 ⎟    3⎛θ⎞\n",
       "4⋅⎝E  - E⋅p - m  - p⋅╲╱  E  - m   - ╲╱ E - m ⋅╲╱ E + m ⋅╲╱  E  - m  ⎠⋅cos ⎜─⎟\n",
       "                                                                          ⎝2⎠"
      ]
     },
     "execution_count": 53,
     "metadata": {},
     "output_type": "execute_result"
    }
   ],
   "source": [
    "T6Uv2=simplify(T6Uv1.subs(cos(theta),2*cos(theta/2)**2-1));T6Uv2"
   ]
  },
  {
   "cell_type": "code",
   "execution_count": 54,
   "metadata": {
    "scrolled": true
   },
   "outputs": [
    {
     "data": {
      "image/png": "[encoded data removed]",
      "text/latex": [
       "$\\displaystyle \\left(- 4 E p - 4 p^{2}\\right) \\cos^{3}{\\left(\\frac{\\theta}{2} \\right)}$"
      ],
      "text/plain": [
       "⎛            2⎞    3⎛θ⎞\n",
       "⎝-4⋅E⋅p - 4⋅p ⎠⋅cos ⎜─⎟\n",
       "                    ⎝2⎠"
      ]
     },
     "execution_count": 54,
     "metadata": {},
     "output_type": "execute_result"
    }
   ],
   "source": [
    "T6U=-4*(p**2+E*p)*cos(theta/2)**3;T6U"
   ]
  },
  {
   "cell_type": "code",
   "execution_count": 55,
   "metadata": {
    "scrolled": true
   },
   "outputs": [
    {
     "data": {
      "image/png": "[encoded data removed]",
      "text/latex": [
       "$\\displaystyle \\frac{\\left(m^{2} t - s_{0} u_{0}\\right)^{\\frac{3}{2}} \\left(- m^{2} - s - s_{0}\\right)}{s s_{0}^{2}}$"
      ],
      "text/plain": [
       "              3/2                \n",
       "⎛ 2          ⎞    ⎛   2         ⎞\n",
       "⎝m ⋅t - s₀⋅u₀⎠   ⋅⎝- m  - s - s₀⎠\n",
       "─────────────────────────────────\n",
       "                  2              \n",
       "              s⋅s₀               "
      ]
     },
     "execution_count": 55,
     "metadata": {},
     "output_type": "execute_result"
    }
   ],
   "source": [
    "tmp=simplify(T6U.subs(p,pCM).subs(E,ECM).subs(cos(theta/2),costhetahalf));tmp"
   ]
  },
  {
   "cell_type": "code",
   "execution_count": 56,
   "metadata": {
    "scrolled": true
   },
   "outputs": [
    {
     "data": {
      "image/png": "[encoded data removed]",
      "text/latex": [
       "$\\displaystyle - \\frac{2 \\left(m^{2} t - s_{0} u_{0}\\right)^{\\frac{3}{2}}}{s_{0}^{2} u_{0}}$"
      ],
      "text/plain": [
       "                 3/2 \n",
       "   ⎛ 2          ⎞    \n",
       "-2⋅⎝m ⋅t - s₀⋅u₀⎠    \n",
       "─────────────────────\n",
       "          2          \n",
       "        s₀ ⋅u₀       "
      ]
     },
     "execution_count": 56,
     "metadata": {},
     "output_type": "execute_result"
    }
   ],
   "source": [
    "T6=-(sqrt(m**2*t-s0*u0))**3*2/s0**2/u0;T6"
   ]
  },
  {
   "cell_type": "code",
   "execution_count": 57,
   "metadata": {},
   "outputs": [
    {
     "data": {
      "image/png": "[encoded data removed]",
      "text/latex": [
       "$\\displaystyle \\frac{4 \\left(m^{2} t - s_{0} u_{0}\\right)^{3}}{s_{0}^{4} u_{0}^{2}}$"
      ],
      "text/plain": [
       "                3\n",
       "  ⎛ 2          ⎞ \n",
       "4⋅⎝m ⋅t - s₀⋅u₀⎠ \n",
       "─────────────────\n",
       "       4   2     \n",
       "     s₀ ⋅u₀      "
      ]
     },
     "execution_count": 57,
     "metadata": {},
     "output_type": "execute_result"
    }
   ],
   "source": [
    "T6sq=T6**2;T6sq"
   ]
  },
  {
   "cell_type": "markdown",
   "metadata": {},
   "source": [
    "Like T1 this amplitude consists of 2 terms, which can be separated by setting $m=0$"
   ]
  },
  {
   "cell_type": "code",
   "execution_count": 58,
   "metadata": {
    "scrolled": true
   },
   "outputs": [
    {
     "data": {
      "image/png": "[encoded data removed]",
      "text/latex": [
       "$\\displaystyle - \\frac{2 \\left(- u_{0}\\right)^{\\frac{3}{2}}}{\\sqrt{s_{0}} u_{0}}$"
      ],
      "text/plain": [
       "        3/2 \n",
       "-2⋅(-u₀)    \n",
       "────────────\n",
       "   ____     \n",
       " ╲╱ s₀ ⋅u₀  "
      ]
     },
     "execution_count": 58,
     "metadata": {},
     "output_type": "execute_result"
    }
   ],
   "source": [
    "t_3=T6.subs(m,0);t_3"
   ]
  },
  {
   "cell_type": "code",
   "execution_count": 59,
   "metadata": {},
   "outputs": [
    {
     "data": {
      "image/png": "[encoded data removed]",
      "text/latex": [
       "$\\displaystyle - \\frac{4 u_{0}}{s_{0}}$"
      ],
      "text/plain": [
       "-4⋅u₀ \n",
       "──────\n",
       "  s₀  "
      ]
     },
     "execution_count": 59,
     "metadata": {},
     "output_type": "execute_result"
    }
   ],
   "source": [
    "t_3sq=t_3**2;t_3sq"
   ]
  },
  {
   "cell_type": "code",
   "execution_count": 60,
   "metadata": {},
   "outputs": [
    {
     "name": "stdout",
     "output_type": "stream",
     "text": [
      "t_4sq is not a real square\n"
     ]
    },
    {
     "data": {
      "image/png": "[encoded data removed]",
      "text/latex": [
       "$\\displaystyle \\frac{4 m^{6} t^{3}}{s_{0}^{4} u_{0}^{2}} - \\frac{12 m^{4} t^{2}}{s_{0}^{3} u_{0}} + \\frac{12 m^{2} t}{s_{0}^{2}}$"
      ],
      "text/plain": [
       "   6  3       4  2       2  \n",
       "4⋅m ⋅t    12⋅m ⋅t    12⋅m ⋅t\n",
       "─────── - ──────── + ───────\n",
       "  4   2      3           2  \n",
       "s₀ ⋅u₀     s₀ ⋅u₀      s₀   "
      ]
     },
     "execution_count": 60,
     "metadata": {},
     "output_type": "execute_result"
    }
   ],
   "source": [
    "t_4sq=expand(T6**2+4*u0/s0);print('t_4sq is not a real square');t_4sq"
   ]
  },
  {
   "cell_type": "markdown",
   "metadata": {},
   "source": [
    "### 2.7) $T7=T_{++;-+}$ :"
   ]
  },
  {
   "cell_type": "code",
   "execution_count": 61,
   "metadata": {},
   "outputs": [
    {
     "data": {
      "image/png": "[encoded data removed]",
      "text/latex": [
       "$\\displaystyle 0$"
      ],
      "text/plain": [
       "0"
      ]
     },
     "execution_count": 61,
     "metadata": {},
     "output_type": "execute_result"
    }
   ],
   "source": [
    "T7S=expand_trig(hep.Ncompts(ki, -1, pin, 1, kf, 1, pf, 1));T7S"
   ]
  },
  {
   "cell_type": "code",
   "execution_count": 62,
   "metadata": {},
   "outputs": [
    {
     "data": {
      "image/png": "[encoded data removed]",
      "text/latex": [
       "$\\displaystyle 2 \\left(E^{2} \\cos{\\left(\\theta \\right)} - E^{2} - E p \\cos{\\left(\\theta \\right)} + E p - m^{2} \\cos{\\left(\\theta \\right)} + m^{2} + p \\sqrt{E^{2} - m^{2}} \\cos{\\left(\\theta \\right)} - p \\sqrt{E^{2} - m^{2}} - \\sqrt{E - m} \\sqrt{E + m} \\sqrt{E^{2} - m^{2}} \\cos{\\left(\\theta \\right)} + \\sqrt{E - m} \\sqrt{E + m} \\sqrt{E^{2} - m^{2}}\\right) \\cos{\\left(\\frac{\\theta}{2} \\right)}$"
      ],
      "text/plain": [
       "  ⎛                                                          _________        \n",
       "  ⎜ 2           2                       2           2       ╱  2    2         \n",
       "2⋅⎝E ⋅cos(θ) - E  - E⋅p⋅cos(θ) + E⋅p - m ⋅cos(θ) + m  + p⋅╲╱  E  - m  ⋅cos(θ) \n",
       "                                                                              \n",
       "\n",
       "       _________                          _________                           \n",
       "      ╱  2    2      _______   _______   ╱  2    2             _______   _____\n",
       "- p⋅╲╱  E  - m   - ╲╱ E - m ⋅╲╱ E + m ⋅╲╱  E  - m  ⋅cos(θ) + ╲╱ E - m ⋅╲╱ E + \n",
       "                                                                              \n",
       "\n",
       "      _________⎞       \n",
       "__   ╱  2    2 ⎟    ⎛θ⎞\n",
       "m ⋅╲╱  E  - m  ⎠⋅cos⎜─⎟\n",
       "                    ⎝2⎠"
      ]
     },
     "execution_count": 62,
     "metadata": {},
     "output_type": "execute_result"
    }
   ],
   "source": [
    "T7Uv1=expand_trig(hep.Ncomptu(ki, -1, pin, 1, kf, 1, pf, 1));T7Uv1"
   ]
  },
  {
   "cell_type": "code",
   "execution_count": 63,
   "metadata": {},
   "outputs": [
    {
     "data": {
      "image/png": "[encoded data removed]",
      "text/latex": [
       "$\\displaystyle 4 \\left(- E^{2} + E p + m^{2} - p \\sqrt{E^{2} - m^{2}} + \\sqrt{E - m} \\sqrt{E + m} \\sqrt{E^{2} - m^{2}}\\right) \\sin^{2}{\\left(\\frac{\\theta}{2} \\right)} \\cos{\\left(\\frac{\\theta}{2} \\right)}$"
      ],
      "text/plain": [
       "  ⎛                       _________                          _________⎞       \n",
       "  ⎜   2          2       ╱  2    2      _______   _______   ╱  2    2 ⎟    2⎛θ\n",
       "4⋅⎝- E  + E⋅p + m  - p⋅╲╱  E  - m   + ╲╱ E - m ⋅╲╱ E + m ⋅╲╱  E  - m  ⎠⋅sin ⎜─\n",
       "                                                                            ⎝2\n",
       "\n",
       "        \n",
       "⎞    ⎛θ⎞\n",
       "⎟⋅cos⎜─⎟\n",
       "⎠    ⎝2⎠"
      ]
     },
     "execution_count": 63,
     "metadata": {},
     "output_type": "execute_result"
    }
   ],
   "source": [
    "T7U=simplify(T7Uv1.subs(cos(theta),2*cos(theta/2)**2-1));T7U"
   ]
  },
  {
   "cell_type": "markdown",
   "metadata": {},
   "source": [
    "This looks like T4U"
   ]
  },
  {
   "cell_type": "code",
   "execution_count": 64,
   "metadata": {},
   "outputs": [
    {
     "data": {
      "image/png": "[encoded data removed]",
      "text/latex": [
       "$\\displaystyle - \\frac{2 m^{2} t \\sqrt{m^{2} t - s_{0} u_{0}}}{s_{0}^{2} u_{0}}$"
      ],
      "text/plain": [
       "           ______________ \n",
       "    2     ╱  2            \n",
       "-2⋅m ⋅t⋅╲╱  m ⋅t - s₀⋅u₀  \n",
       "──────────────────────────\n",
       "            2             \n",
       "          s₀ ⋅u₀          "
      ]
     },
     "execution_count": 64,
     "metadata": {},
     "output_type": "execute_result"
    }
   ],
   "source": [
    "T7=T4;T7"
   ]
  },
  {
   "cell_type": "code",
   "execution_count": 65,
   "metadata": {},
   "outputs": [
    {
     "data": {
      "image/png": "[encoded data removed]",
      "text/latex": [
       "$\\displaystyle \\frac{4 m^{4} t^{2} \\left(m^{2} t - s_{0} u_{0}\\right)}{s_{0}^{4} u_{0}^{2}}$"
      ],
      "text/plain": [
       "   4  2 ⎛ 2          ⎞\n",
       "4⋅m ⋅t ⋅⎝m ⋅t - s₀⋅u₀⎠\n",
       "──────────────────────\n",
       "         4   2        \n",
       "       s₀ ⋅u₀         "
      ]
     },
     "execution_count": 65,
     "metadata": {},
     "output_type": "execute_result"
    }
   ],
   "source": [
    "T7sq=T7**2;T7sq"
   ]
  },
  {
   "cell_type": "markdown",
   "metadata": {},
   "source": [
    "### 2.8) $T8=T_{+-;-+}$ :"
   ]
  },
  {
   "cell_type": "code",
   "execution_count": 66,
   "metadata": {},
   "outputs": [
    {
     "data": {
      "image/png": "[encoded data removed]",
      "text/latex": [
       "$\\displaystyle 0$"
      ],
      "text/plain": [
       "0"
      ]
     },
     "execution_count": 66,
     "metadata": {},
     "output_type": "execute_result"
    }
   ],
   "source": [
    "T8S=simplify(hep.Ncompts(ki, -1, pin, 1, kf, 1, pf, -1));T8S"
   ]
  },
  {
   "cell_type": "code",
   "execution_count": 67,
   "metadata": {},
   "outputs": [
    {
     "data": {
      "image/png": "[encoded data removed]",
      "text/latex": [
       "$\\displaystyle 2 m p \\left(\\cos{\\left(\\theta \\right)} - 1\\right) \\sin{\\left(\\frac{\\theta}{2} \\right)}$"
      ],
      "text/plain": [
       "                      ⎛θ⎞\n",
       "2⋅m⋅p⋅(cos(θ) - 1)⋅sin⎜─⎟\n",
       "                      ⎝2⎠"
      ]
     },
     "execution_count": 67,
     "metadata": {},
     "output_type": "execute_result"
    }
   ],
   "source": [
    "T8Uv1=simplify(hep.Ncomptu(ki, -1, pin, 1, kf, 1, pf, -1));T8Uv1"
   ]
  },
  {
   "cell_type": "code",
   "execution_count": 68,
   "metadata": {},
   "outputs": [
    {
     "data": {
      "image/png": "[encoded data removed]",
      "text/latex": [
       "$\\displaystyle \\frac{2 m s \\left(- t\\right)^{\\frac{3}{2}}}{s_{0}^{2} u_{0}}$"
      ],
      "text/plain": [
       "          3/2\n",
       "2⋅m⋅s⋅(-t)   \n",
       "─────────────\n",
       "      2      \n",
       "    s₀ ⋅u₀   "
      ]
     },
     "execution_count": 68,
     "metadata": {},
     "output_type": "execute_result"
    }
   ],
   "source": [
    "T8=simplify((4*m*p*sinthetahalf**3/u0).subs(p,pCM));T8"
   ]
  },
  {
   "cell_type": "code",
   "execution_count": 69,
   "metadata": {},
   "outputs": [
    {
     "data": {
      "image/png": "[encoded data removed]",
      "text/latex": [
       "$\\displaystyle - \\frac{4 m^{2} t^{3} \\left(m^{2} + s_{0}\\right)^{2}}{s_{0}^{4} u_{0}^{2}}$"
      ],
      "text/plain": [
       "                  2 \n",
       "    2  3 ⎛ 2     ⎞  \n",
       "-4⋅m ⋅t ⋅⎝m  + s₀⎠  \n",
       "────────────────────\n",
       "        4   2       \n",
       "      s₀ ⋅u₀        "
      ]
     },
     "execution_count": 69,
     "metadata": {},
     "output_type": "execute_result"
    }
   ],
   "source": [
    "T8sq=(T8.subs(s,s0+m**2))**2;T8sq"
   ]
  },
  {
   "cell_type": "markdown",
   "metadata": {},
   "source": [
    "The second set of small terms is given by the sum of the squared $T5$ to $T8$. Finally the small terms are\n",
    "collected."
   ]
  },
  {
   "cell_type": "code",
   "execution_count": 70,
   "metadata": {},
   "outputs": [
    {
     "data": {
      "image/png": "[encoded data removed]",
      "text/latex": [
       "$\\displaystyle \\frac{4 m^{2} t \\left(- 2 m^{2} t^{2} - 2 m^{2} t u_{0} - s_{0} t^{2} + 2 s_{0} u_{0}^{2}\\right)}{s_{0}^{3} u_{0}^{2}}$"
      ],
      "text/plain": [
       "   2   ⎛     2  2      2            2          2⎞\n",
       "4⋅m ⋅t⋅⎝- 2⋅m ⋅t  - 2⋅m ⋅t⋅u₀ - s₀⋅t  + 2⋅s₀⋅u₀ ⎠\n",
       "─────────────────────────────────────────────────\n",
       "                       3   2                     \n",
       "                     s₀ ⋅u₀                      "
      ]
     },
     "execution_count": 70,
     "metadata": {},
     "output_type": "execute_result"
    }
   ],
   "source": [
    "small2=simplify(T5sq+t_4sq+T7sq+T8sq);small2"
   ]
  },
  {
   "cell_type": "code",
   "execution_count": 71,
   "metadata": {},
   "outputs": [
    {
     "data": {
      "image/png": "[encoded data removed]",
      "text/latex": [
       "$\\displaystyle \\frac{16 m^{4}}{u_{0}^{2}} + \\frac{32 m^{4}}{s_{0} u_{0}} + \\frac{16 m^{4}}{s_{0}^{2}} + \\frac{16 m^{2}}{u_{0}} + \\frac{16 m^{2}}{s_{0}}$"
      ],
      "text/plain": [
       "    4       4       4       2       2\n",
       "16⋅m    32⋅m    16⋅m    16⋅m    16⋅m \n",
       "───── + ───── + ───── + ───── + ─────\n",
       "   2    s₀⋅u₀      2      u₀      s₀ \n",
       " u₀              s₀                  "
      ]
     },
     "execution_count": 71,
     "metadata": {},
     "output_type": "execute_result"
    }
   ],
   "source": [
    "tmp1=simplify(small1+small2)\n",
    "small=simplify(tmp1.subs(t,-s0-u0));small"
   ]
  },
  {
   "cell_type": "markdown",
   "metadata": {},
   "source": [
    "## 3) Cross section \n",
    "The small terms have a clear structure:"
   ]
  },
  {
   "cell_type": "code",
   "execution_count": 72,
   "metadata": {},
   "outputs": [
    {
     "name": "stdout",
     "output_type": "stream",
     "text": [
      "Define R\n"
     ]
    },
    {
     "data": {
      "image/png": "[encoded data removed]",
      "text/latex": [
       "$\\displaystyle \\frac{m^{2} \\left(s_{0} + u_{0}\\right)}{s_{0} u_{0}}$"
      ],
      "text/plain": [
       " 2          \n",
       "m ⋅(s₀ + u₀)\n",
       "────────────\n",
       "   s₀⋅u₀    "
      ]
     },
     "execution_count": 72,
     "metadata": {},
     "output_type": "execute_result"
    }
   ],
   "source": [
    "R=m**2/u0/s0*(s0+u0);print('Define R');R"
   ]
  },
  {
   "cell_type": "code",
   "execution_count": 73,
   "metadata": {
    "scrolled": true
   },
   "outputs": [
    {
     "data": {
      "image/png": "[encoded data removed]",
      "text/latex": [
       "$\\displaystyle 0$"
      ],
      "text/plain": [
       "0"
      ]
     },
     "execution_count": 73,
     "metadata": {},
     "output_type": "execute_result"
    }
   ],
   "source": [
    "simplify(small-16*(R+R**2))"
   ]
  },
  {
   "cell_type": "code",
   "execution_count": 74,
   "metadata": {},
   "outputs": [
    {
     "name": "stdout",
     "output_type": "stream",
     "text": [
      "simpler alternative expression for R\n"
     ]
    },
    {
     "data": {
      "image/png": "[encoded data removed]",
      "text/latex": [
       "$\\displaystyle - \\frac{m^{2} t}{s_{0} u_{0}}$"
      ],
      "text/plain": [
       "  2   \n",
       "-m ⋅t \n",
       "──────\n",
       "s₀⋅u₀ "
      ]
     },
     "execution_count": 74,
     "metadata": {},
     "output_type": "execute_result"
    }
   ],
   "source": [
    "R=-m**2*t/s0/u0;print('simpler alternative expression for R');R"
   ]
  },
  {
   "cell_type": "markdown",
   "metadata": {},
   "source": [
    "Putting all pieces together the sqared average of the amplitudes is given by "
   ]
  },
  {
   "cell_type": "code",
   "execution_count": 75,
   "metadata": {},
   "outputs": [
    {
     "name": "stdout",
     "output_type": "stream",
     "text": [
      "tsqav= \n"
     ]
    },
    {
     "data": {
      "image/png": "[encoded data removed]",
      "text/latex": [
       "$\\displaystyle \\frac{8 m^{4} t^{2}}{s_{0}^{2} u_{0}^{2}} - \\frac{8 m^{2} t}{s_{0} u_{0}} - \\frac{2 s_{0}}{u_{0}} - \\frac{2 u_{0}}{s_{0}}$"
      ],
      "text/plain": [
       "   4  2      2                \n",
       "8⋅m ⋅t    8⋅m ⋅t   2⋅s₀   2⋅u₀\n",
       "─────── - ────── - ──── - ────\n",
       "  2   2   s₀⋅u₀     u₀     s₀ \n",
       "s₀ ⋅u₀                        "
      ]
     },
     "execution_count": 75,
     "metadata": {},
     "output_type": "execute_result"
    }
   ],
   "source": [
    "tsqav=-2*u0/s0-2*s0/u0+8*(R+R**2);print('tsqav= ');tsqav"
   ]
  },
  {
   "cell_type": "markdown",
   "metadata": {},
   "source": [
    "i.e.\n",
    "\n",
    "$$\\overline{\\sum}{T_{fi}^2}=\\left(\\frac{-2u_0}{s_0}+\\frac{2s_0}{-u_0}\n",
    "+\\frac{-8m^2t}{s_0u_0}+\\frac{8m^4t^2}{s_0^2u_0^2}\\right)\\enspace .$$\n",
    "\n",
    "The cross section $d\\sigma/dt$ is obtained by multiplication with the kinematic factor $1/16\\pi s_0^2$ and the charge\n",
    "factor $e^4=16\\pi^2\\alpha^2$ with the final result\n",
    "\n",
    "$$\\frac{\\mathrm{d}\\sigma}{\\mathrm{d}t}(\\gamma e^{-}\\rightarrow\\gamma e^{-})=\\frac{2\\pi\\alpha^{2}}{s_0^{2}}\\left(\\frac{-u_0}{s_0}+\\frac{s_0}{-u_0}\n",
    "+\\frac{-4m^2t}{s_0u_0}+\\frac{4m^4t^2}{s_0^2u_0^2}\\right)\\enspace.$$\n",
    "or \n",
    "$$\\frac{\\mathrm{d}\\sigma}{\\mathrm{d}t}(\\gamma e^{-}\\rightarrow\\gamma e^{-})=\\frac{2\\pi\\alpha^{2}}{s_0^{2}}\\left(\\frac{-u_0}{s_0}+\\frac{s_0}{-u_0}\n",
    "-\\frac{1}{2}g(s,t)\\right)$$\n",
    "with $$g(s,t)= -8(R+R^2)=\\frac{8m^2t}{s_0u_0}-\\frac{8m^4t^2}{s_0^2u_0^2}\\enspace .$$\n",
    "$g(s,t)/2$ is sometimes (see e.g. S. Gasiorowicz, Elementary Particle Physics) quoted as\n",
    "$$g(s,t)=1-\\left(\\frac{s+m^{2}}{s-m^{2}}-\\frac{2m^{2}}{s+t-m^{2}}\\right)^{2}\\enspace,$$ which is of course \n",
    "equivalent to my definition.\n",
    "\n",
    "Proof:\n"
   ]
  },
  {
   "cell_type": "code",
   "execution_count": 76,
   "metadata": {},
   "outputs": [
    {
     "data": {
      "image/png": "[encoded data removed]",
      "text/latex": [
       "$\\displaystyle 0$"
      ],
      "text/plain": [
       "0"
      ]
     },
     "execution_count": 76,
     "metadata": {},
     "output_type": "execute_result"
    }
   ],
   "source": [
    "simplify((1-((s0+2*m**2)/s0+2*m**2/u0)**2+4*(R+R**2)).subs(t,-s0-u0))"
   ]
  },
  {
   "cell_type": "markdown",
   "metadata": {},
   "source": [
    "For photon scattering off an electron at rest (so called laboratory system) the cross section reads\n",
    "particullary simple. Let $\\omega,\\omega'$ denote the energy of the incoming and outgoing photon respectively and\n",
    "$\\theta$ its scattering angle. Then $s_0=2m\\omega,\\,\\,t=-4\\omega\\omega'\\sin^2(\\theta/2)$ and using the definition $u=(k_f-p_i)^2$ \n",
    "one gets $u_0=-2m\\omega'$. Without invoking computer algebra this leads to $R=-\\sin^2(\\theta/2)$ and \n",
    "$$\\frac{\\mathrm{d}\\sigma}{\\mathrm{dt}}=\\frac{\\pi\\alpha^{2}}{2m^{2}\\omega^2}\\left(\\frac{\\omega^{{\\prime}}}{\\omega}+\\frac{\\omega}{\\omega^{{\\prime}}}-\\sin^{2}\\theta\\right)\\enspace$$ or\n",
    "$$\\frac{\\mathrm{d}\\sigma}{\\mathrm{d}\\Omega}=\\frac{\\alpha^{2}}{2m^{2}}\\left(\\frac{\\omega^{{\\prime}}}{\\omega}\\right)^{2}\\left(\\frac{\\omega^{{\\prime}}}{\\omega}+\\frac{\\omega}{\\omega^{{\\prime}}}-\\sin^{2}\\theta\\right)\\enspace.$$\n",
    "\n",
    "At low energies $\\omega\\rightarrow\\omega^{{\\prime}}$ and therefore\n",
    "$$\\frac{\\mathrm{d}\\sigma}{\\mathrm{d}\\Omega}=\\frac{\\alpha^{2}}{2m^{2}}\\left(2-\\sin^{2}\\theta\\right)\\enspace,$$\n",
    "which is the result of classical physics (Thomson scattering)."
   ]
  },
  {
   "cell_type": "markdown",
   "metadata": {},
   "source": [
    "Sometimes it is usefull to express cross sections and amplitudes in terms of dimensionless invariants. Taking $s_0=xm^2$ and $y=1+u_0/s_0=-t/s_0$ yields\n",
    "$$y=\\frac{x\\sin^2(\\theta/2)}{1+x}$$\n",
    "and\n",
    "$$\\frac{u_0}{s_0}=\\frac{-(1+x\\cos^2(\\theta/2)}{1+x}$$\n",
    "in the CM system.\n",
    "\n",
    "The range of $x$ and $y$ is given by $1\\leq x<\\infty$ and $0\\leq y\\leq x/(1+x)$, where the\n",
    "second relation is read off the CM expression for $y$.\n",
    "Using these new variables we get nice alternative expressions  for $R$ and $\\overline{\\sum}{T_{fi}^2}$."
   ]
  },
  {
   "cell_type": "code",
   "execution_count": 77,
   "metadata": {},
   "outputs": [
    {
     "data": {
      "image/png": "[encoded data removed]",
      "text/latex": [
       "$\\displaystyle \\frac{y}{x \\left(y - 1\\right)}$"
      ],
      "text/plain": [
       "    y    \n",
       "─────────\n",
       "x⋅(y - 1)"
      ]
     },
     "execution_count": 77,
     "metadata": {},
     "output_type": "execute_result"
    }
   ],
   "source": [
    "altR=R.subs(u0,(y-1)*s0).subs(s0,x*m**2).subs(t,-m**2*x*y);altR"
   ]
  },
  {
   "cell_type": "code",
   "execution_count": 78,
   "metadata": {},
   "outputs": [
    {
     "data": {
      "image/png": "[encoded data removed]",
      "text/latex": [
       "$\\displaystyle \\frac{y \\left(x \\left(y - 1\\right) + y\\right)}{x^{2} \\left(y - 1\\right)^{2}}$"
      ],
      "text/plain": [
       "y⋅(x⋅(y - 1) + y)\n",
       "─────────────────\n",
       "    2        2   \n",
       "   x ⋅(y - 1)    "
      ]
     },
     "execution_count": 78,
     "metadata": {},
     "output_type": "execute_result"
    }
   ],
   "source": [
    "simplify(altR+altR**2)"
   ]
  },
  {
   "cell_type": "code",
   "execution_count": 79,
   "metadata": {},
   "outputs": [
    {
     "data": {
      "image/png": "[encoded data removed]",
      "text/latex": [
       "$\\displaystyle - 2 y + 2 + \\frac{2}{1 - y} + \\frac{8 y}{x \\left(y - 1\\right)} + \\frac{8 y^{2}}{x^{2} \\left(y - 1\\right)^{2}}$"
      ],
      "text/plain": [
       "                                      2   \n",
       "             2        8⋅y          8⋅y    \n",
       "-2⋅y + 2 + ───── + ───────── + ───────────\n",
       "           1 - y   x⋅(y - 1)    2        2\n",
       "                               x ⋅(y - 1) "
      ]
     },
     "execution_count": 79,
     "metadata": {},
     "output_type": "execute_result"
    }
   ],
   "source": [
    "tsqavV1=2*(1-y)+2/(1-y)+8*altR+8*altR**2;tsqavV1"
   ]
  },
  {
   "cell_type": "markdown",
   "metadata": {},
   "source": [
    "or even nicer\n",
    "$$\\overline{\\sum}{T_{fi}^2}=2(1-y)+\\frac{2}{1-y}-8\\frac{y}{x(1-y)}+8\\frac{y^2}{x^2(1-y)^2}$$"
   ]
  },
  {
   "cell_type": "markdown",
   "metadata": {},
   "source": [
    "## 4) Discussion\n",
    "The dependence of the cross section on $s,\\theta$ is not obvious. For a better understanding\n",
    "we plot $\\overline{\\sum}{T_{fi}^2}$ as function of $x,y$ where $y$ is expressed by the CM scattering angle $\\theta$."
   ]
  },
  {
   "cell_type": "code",
   "execution_count": 80,
   "metadata": {},
   "outputs": [
    {
     "data": {
      "image/png": "[encoded data removed]",
      "text/latex": [
       "$\\displaystyle \\frac{x \\sin^{2}{\\left(\\frac{\\theta}{2} \\right)}}{x + 1}$"
      ],
      "text/plain": [
       "     2⎛θ⎞\n",
       "x⋅sin ⎜─⎟\n",
       "      ⎝2⎠\n",
       "─────────\n",
       "  x + 1  "
      ]
     },
     "execution_count": 80,
     "metadata": {},
     "output_type": "execute_result"
    }
   ],
   "source": [
    "yCM=simplify((-tCM/s0).subs(s,s0+m**2).subs(s0,x*m**2));yCM"
   ]
  },
  {
   "cell_type": "markdown",
   "metadata": {},
   "source": [
    "As said above $T1=t_1+t_2$ with $t_1=2/\\sqrt{1-y}$ (which does not depend on $m^2$ explicitly), $t_2\\sim m^2$. Similarly $T6=t_3+t_4$ with $t_3=2\\sqrt{1-y}$ and\n",
    "$t_4\\sim m^2$. We might call $t_1,t_3$ the big amplitudes because the dont vanish in the limit\n",
    "$m^2\\rightarrow 0$. The contribution of the big and small parts to $\\overline{\\sum}{T_{fi}^2}$\n",
    "is written as function of $x,\\theta$ in the following cells:"
   ]
  },
  {
   "cell_type": "code",
   "execution_count": 81,
   "metadata": {},
   "outputs": [
    {
     "data": {
      "image/png": "[encoded data removed]",
      "text/latex": [
       "$\\displaystyle \\frac{2 \\left(x + 1\\right)^{2} + 2 \\left(x \\cos^{2}{\\left(\\frac{\\theta}{2} \\right)} + 1\\right)^{2}}{\\left(x + 1\\right) \\left(x \\cos^{2}{\\left(\\frac{\\theta}{2} \\right)} + 1\\right)}$"
      ],
      "text/plain": [
       "                              2\n",
       "         2     ⎛     2⎛θ⎞    ⎞ \n",
       "2⋅(x + 1)  + 2⋅⎜x⋅cos ⎜─⎟ + 1⎟ \n",
       "               ⎝      ⎝2⎠    ⎠ \n",
       "───────────────────────────────\n",
       "            ⎛     2⎛θ⎞    ⎞    \n",
       "    (x + 1)⋅⎜x⋅cos ⎜─⎟ + 1⎟    \n",
       "            ⎝      ⎝2⎠    ⎠    "
      ]
     },
     "execution_count": 81,
     "metadata": {},
     "output_type": "execute_result"
    }
   ],
   "source": [
    "bigplot=simplify((2*(1-yCM)**2+2)/(1-yCM));bigplot"
   ]
  },
  {
   "cell_type": "code",
   "execution_count": 82,
   "metadata": {},
   "outputs": [
    {
     "data": {
      "image/png": "[encoded data removed]",
      "text/latex": [
       "$\\displaystyle - \\frac{\\sin^{2}{\\left(\\frac{\\theta}{2} \\right)}}{x \\cos^{2}{\\left(\\frac{\\theta}{2} \\right)} + 1}$"
      ],
      "text/plain": [
       "      2⎛θ⎞   \n",
       "  -sin ⎜─⎟   \n",
       "       ⎝2⎠   \n",
       "─────────────\n",
       "     2⎛θ⎞    \n",
       "x⋅cos ⎜─⎟ + 1\n",
       "      ⎝2⎠    "
      ]
     },
     "execution_count": 82,
     "metadata": {},
     "output_type": "execute_result"
    }
   ],
   "source": [
    "Rplot=simplify(altR.subs(y,yCM));Rplot"
   ]
  },
  {
   "cell_type": "code",
   "execution_count": 83,
   "metadata": {},
   "outputs": [
    {
     "data": {
      "image/png": "[encoded data removed]",
      "text/latex": [
       "$\\displaystyle - \\frac{4 \\cdot \\left(1 - \\cos{\\left(2 \\theta \\right)}\\right) \\left(- x - 1\\right)}{\\left(x \\cos{\\left(\\theta \\right)} + x + 2\\right)^{2}}$"
      ],
      "text/plain": [
       "-4⋅(1 - cos(2⋅θ))⋅(-x - 1) \n",
       "───────────────────────────\n",
       "                      2    \n",
       "    (x⋅cos(θ) + x + 2)     "
      ]
     },
     "execution_count": 83,
     "metadata": {},
     "output_type": "execute_result"
    }
   ],
   "source": [
    "gplot=-8*simplify(Rplot+Rplot**2);gplot"
   ]
  },
  {
   "cell_type": "code",
   "execution_count": 84,
   "metadata": {},
   "outputs": [],
   "source": [
    "sigplot=bigplot-gplot"
   ]
  },
  {
   "cell_type": "markdown",
   "metadata": {},
   "source": [
    "The cross section peaks in backward direction (red curve in fig. 1). The fig also\n",
    "demonstrates that already for $\\theta > 150^\\circ$ $\\overline{\\sum}{T_{fi}^2}$ is very well approximated by $t_1^2/2=-2/(1-y)=-2s_0/u_0$ (green curve) alone. $y$ depends implicitly on $m^2$ (cell 80). In the limit $m^2\\rightarrow 0$ all small terms vanish and with $x\\rightarrow \\infty$ we get \n",
    "$t^2_1=4/\\cos^2(\\theta/2)$. The last equality leads, however, to a very bad approximation for $\\overline{\\sum}{T_{fi}^2}$ (blue curve). \n",
    "\n",
    "$x=50$ corresponds to $\\sqrt{s}\\approx$ 4 MeV, which is far in the relativistic regime. The reader is invited to vary the parameters.\n"
   ]
  },
  {
   "cell_type": "code",
   "execution_count": 85,
   "metadata": {},
   "outputs": [
    {
     "data": {
      "image/png": "[encoded data removed]",
      "text/plain": [
       "<Figure size 432x288 with 1 Axes>"
      ]
     },
     "metadata": {
      "needs_background": "light"
     },
     "output_type": "display_data"
    }
   ],
   "source": [
    "p1=plot(sigplot.subs(x,50),2/(1-yCM).subs(x,50),2/cos(theta/2)**2,(theta,0,pi),\n",
    "title='Fig1: Xsection and approximations',ylim=(0,110),show=False)\n",
    "p1[0].line_color='r'\n",
    "p1[1].line_color='g'\n",
    "p1[2].line_color='b'\n",
    "p1.show()"
   ]
  },
  {
   "cell_type": "markdown",
   "metadata": {},
   "source": [
    "We get more insight into the subtle cancellations taking place by inspecting $T1^2=T^2_{--;--}$:"
   ]
  },
  {
   "cell_type": "code",
   "execution_count": 86,
   "metadata": {},
   "outputs": [],
   "source": [
    "T1sqplot=simplify(T1sq.subs(t,-yCM*s0).subs(u0,(yCM-1)*s0).subs(s0,x*m**2))"
   ]
  },
  {
   "cell_type": "code",
   "execution_count": 87,
   "metadata": {},
   "outputs": [
    {
     "data": {
      "image/png": "[encoded data removed]",
      "text/plain": [
       "<Figure size 432x288 with 1 Axes>"
      ]
     },
     "metadata": {
      "needs_background": "light"
     },
     "output_type": "display_data"
    }
   ],
   "source": [
    "p2=plot(T1sqplot.subs(x,50)/2,2/(1-yCM).subs(x,50),\n",
    "(theta,0,pi),title='Fig2: Comparison of T1sq and t_1sq',show=False)\n",
    "p2[0].line_color='r'\n",
    "p2[1].line_color='g'\n",
    "p2.show()"
   ]
  },
  {
   "cell_type": "markdown",
   "metadata": {},
   "source": [
    "Angular momentum  conservation $\\Delta J_3=0$ requires $T_{--;--}=0$ at $\\theta=\\pi$. This is indeed the case, as is shown by the red curve in fig. 2 which bends over due to the large negative t_2sq. On the other hands side  $t_1^2/2$ which yields such a good approximation to $\\overline{\\sum}{T_{fi}^2}$ badly violates the\n",
    "request $T_{--;--}=0$ in the backward direction. The gap between the green and the red curve is miraculously filled by the angular momentum conserving helicity flip amplitudes \n",
    "$T_{++;--}=T3$ and $T_{+-;-+}=T8$."
   ]
  },
  {
   "cell_type": "code",
   "execution_count": 88,
   "metadata": {},
   "outputs": [
    {
     "data": {
      "image/png": "[encoded data removed]",
      "text/latex": [
       "$\\displaystyle \\frac{4 y^{3} \\left(\\left(x + 1\\right)^{2} + 1\\right)}{x^{3} \\left(y - 1\\right)^{2}}$"
      ],
      "text/plain": [
       "   3 ⎛       2    ⎞\n",
       "4⋅y ⋅⎝(x + 1)  + 1⎠\n",
       "───────────────────\n",
       "     3        2    \n",
       "    x ⋅(y - 1)     "
      ]
     },
     "execution_count": 88,
     "metadata": {},
     "output_type": "execute_result"
    }
   ],
   "source": [
    "Tflipsq=simplify((T3sq+T8sq).subs(t,-y*s0).subs(u0,(y-1)*s0).subs(s0,x*m**2));Tflipsq"
   ]
  },
  {
   "cell_type": "code",
   "execution_count": 89,
   "metadata": {},
   "outputs": [],
   "source": [
    "Tflipsqplot=Tflipsq.subs(y,yCM)"
   ]
  },
  {
   "cell_type": "code",
   "execution_count": 90,
   "metadata": {},
   "outputs": [],
   "source": [
    "t_2sqplot=simplify(t_2sq.subs(t,-yCM*s0).subs(u0,(yCM-1)*s0).subs(s0,x*m**2))"
   ]
  },
  {
   "cell_type": "code",
   "execution_count": 91,
   "metadata": {},
   "outputs": [
    {
     "data": {
      "image/png": "[encoded data removed]",
      "text/plain": [
       "<Figure size 432x288 with 1 Axes>"
      ]
     },
     "metadata": {
      "needs_background": "light"
     },
     "output_type": "display_data"
    }
   ],
   "source": [
    "p3=plot(Tflipsqplot.subs(x,50)/2,-t_2sqplot.subs(x,50)/2,\n",
    "-gplot.subs(x,50),(theta,0,pi),title='Fig3: small and not so small amplitudes',show=False)\n",
    "p3[0].line_color='r'\n",
    "p3[1].line_color='g'\n",
    "p3[2].line_color='b'\n",
    "p3.show()"
   ]
  },
  {
   "cell_type": "markdown",
   "metadata": {},
   "source": [
    "Looking at the green and red curve one finds indeed $t_2sq$ is approximately given by \n",
    "$T^2_{++;--}+T^2_{+-;-+}$. The lesson to be learned is that some of  the so called small amplitudes ($\\sim m^2$) are not at all small in the limit \n",
    "$\\theta\\rightarrow \\pi$ but of the order $2s_0/m^2$. The takeover of the \"small\" amplitudes\n",
    "(peak of the red curve in fig.2) occurs at $\\cos(\\theta/2)\\approx\\sqrt{m^2/s_0}=\\sqrt{1/x}$\n",
    "for $x>5$. Compare the really small $g(s_0,\\theta)$, plotted in blue.\n",
    "\n"
   ]
  },
  {
   "cell_type": "markdown",
   "metadata": {},
   "source": [
    "## 5) Polarization\n",
    "\n",
    "To begin with the transfer of circular polarization from the incoming to the outgoing\n",
    "photon is investgated in the CM system. It is given by \n",
    "$T1^2+T2^2+T5^2+T6^2-T3^2-T4^2-T7^2-T8^2$. We start with the small terms."
   ]
  },
  {
   "cell_type": "code",
   "execution_count": 92,
   "metadata": {},
   "outputs": [
    {
     "data": {
      "image/png": "[encoded data removed]",
      "text/latex": [
       "$\\displaystyle \\frac{8 y \\left(- y^{2} + 2 y - 2\\right)}{x \\left(y^{2} - 2 y + 1\\right)}$"
      ],
      "text/plain": [
       "    ⎛   2          ⎞\n",
       "8⋅y⋅⎝- y  + 2⋅y - 2⎠\n",
       "────────────────────\n",
       "    ⎛ 2          ⎞  \n",
       "  x⋅⎝y  - 2⋅y + 1⎠  "
      ]
     },
     "execution_count": 92,
     "metadata": {},
     "output_type": "execute_result"
    }
   ],
   "source": [
    "lpsmall=simplify((t_2sq+T2sq+T5sq+t_4sq\n",
    "-T3sq-T4sq-T7sq-T8sq).subs(t,-y*s0).subs(u0,(y-1)*s0).subs(s0,x*m**2));lpsmall"
   ]
  },
  {
   "cell_type": "code",
   "execution_count": 93,
   "metadata": {},
   "outputs": [
    {
     "data": {
      "image/png": "[encoded data removed]",
      "text/latex": [
       "$\\displaystyle - 4 y + 4 + \\frac{4}{1 - y} + \\frac{8 y \\left(- y^{2} + 2 y - 2\\right)}{x \\left(y^{2} - 2 y + 1\\right)}$"
      ],
      "text/plain": [
       "                       ⎛   2          ⎞\n",
       "             4     8⋅y⋅⎝- y  + 2⋅y - 2⎠\n",
       "-4⋅y + 4 + ───── + ────────────────────\n",
       "           1 - y       ⎛ 2          ⎞  \n",
       "                     x⋅⎝y  - 2⋅y + 1⎠  "
      ]
     },
     "execution_count": 93,
     "metadata": {},
     "output_type": "execute_result"
    }
   ],
   "source": [
    "lp=lpsmall+4*(1-y)+4/(1-y);lp"
   ]
  },
  {
   "cell_type": "markdown",
   "metadata": {},
   "source": [
    "The polarization degree of the outgoing photon is obtained by deviding lp by \n",
    "$2\\overline{\\sum}{T_{fi}^2}$"
   ]
  },
  {
   "cell_type": "code",
   "execution_count": 94,
   "metadata": {},
   "outputs": [
    {
     "data": {
      "image/png": "[encoded data removed]",
      "text/latex": [
       "$\\displaystyle \\frac{x \\left(x y^{3} - 3 x y^{2} + 4 x y - 2 x + 2 y^{3} - 4 y^{2} + 4 y\\right)}{x^{2} y^{3} - 3 x^{2} y^{2} + 4 x^{2} y - 2 x^{2} - 4 x y^{2} + 4 x y - 4 y^{2}}$"
      ],
      "text/plain": [
       "    ⎛   3        2                    3      2      ⎞  \n",
       "  x⋅⎝x⋅y  - 3⋅x⋅y  + 4⋅x⋅y - 2⋅x + 2⋅y  - 4⋅y  + 4⋅y⎠  \n",
       "───────────────────────────────────────────────────────\n",
       " 2  3      2  2      2        2        2              2\n",
       "x ⋅y  - 3⋅x ⋅y  + 4⋅x ⋅y - 2⋅x  - 4⋅x⋅y  + 4⋅x⋅y - 4⋅y "
      ]
     },
     "execution_count": 94,
     "metadata": {},
     "output_type": "execute_result"
    }
   ],
   "source": [
    "lpdeg=simplify(lp/2/tsqavV1);lpdeg"
   ]
  },
  {
   "cell_type": "code",
   "execution_count": 95,
   "metadata": {},
   "outputs": [],
   "source": [
    "lpdegplot=lpdeg.subs(y,yCM)"
   ]
  },
  {
   "cell_type": "code",
   "execution_count": 96,
   "metadata": {
    "scrolled": true
   },
   "outputs": [
    {
     "data": {
      "image/png": "[encoded data removed]",
      "text/plain": [
       "<Figure size 432x288 with 1 Axes>"
      ]
     },
     "metadata": {
      "needs_background": "light"
     },
     "output_type": "display_data"
    }
   ],
   "source": [
    "p4=plot(lpdegplot.subs(x,0.62),sigplot.subs(x,0.62),(theta,0,pi),\n",
    "title='Fig 4: CM xsection+ circular polarization transfer, x=0.62',show=False)\n",
    "p4[0].line_color='r'\n",
    "p4[1].line_color='g'\n",
    "p4.show()"
   ]
  },
  {
   "cell_type": "markdown",
   "metadata": {},
   "source": [
    "In the nonrelativistic regime (Thomson scattering) lefthanded photons flip to righthanded photons in the backward direction. $x=0.62$ corresponds to the scattering of laser photons by\n",
    "20 GeV electrons at SLAC producing high energy photons in the backward direction. Our result\n",
    "for $\\theta \\rightarrow \\pi$ remains valid because the Lorentz transformation is along the\n",
    "$z$-axis.\n",
    "\n",
    "In the relativistic regime (e.g. $x=10$, fig. 5) we also observe a flip of CM circular polarization in the\n",
    "backward direction where the cross section is largest. The flip again occurs at\n",
    "$\\cos(\\theta/2)\\approx\\sqrt{m^2/s_0}=\\sqrt{1/x}$."
   ]
  },
  {
   "cell_type": "code",
   "execution_count": 97,
   "metadata": {},
   "outputs": [
    {
     "data": {
      "image/png": "[encoded data removed]",
      "text/plain": [
       "<Figure size 432x288 with 1 Axes>"
      ]
     },
     "metadata": {
      "needs_background": "light"
     },
     "output_type": "display_data"
    }
   ],
   "source": [
    "p5=plot(lpdegplot.subs(x,10),sigplot.subs(x,10),(theta,0,pi),\n",
    "title='Fig.5: CM xsection+ circular polarization transfer, x=10',show=False)\n",
    "p5[0].line_color='r'\n",
    "p5[1].line_color='g'\n",
    "p5.show()"
   ]
  },
  {
   "cell_type": "markdown",
   "metadata": {},
   "source": [
    "Compton scattering may be used to measure the polarization of the incoming electrons. For electrons with helicity -1/2 scattering off photons with helicity -1\n",
    "one has $J_3=1/2$ and $\\sigma_{1/2}\\sim\\sum{T_{xx,--}^2}$ .\n",
    "For the scattering of \n",
    "positive helicity electrons  $\\sigma_{3/2}\\sim \\sum{T_{xx,-+}^2}$ holds."
   ]
  },
  {
   "cell_type": "code",
   "execution_count": 98,
   "metadata": {},
   "outputs": [
    {
     "data": {
      "image/png": "[encoded data removed]",
      "text/latex": [
       "$\\displaystyle \\frac{8 m^{4} t^{2}}{s_{0}^{2} u_{0}^{2}} + \\frac{4 m^{2} t}{u_{0}^{2}} - \\frac{8 m^{2} t}{s_{0} u_{0}} - \\frac{4 m^{2} t}{s_{0}^{2}} - \\frac{4 s_{0}}{u_{0}}$"
      ],
      "text/plain": [
       "   4  2      2        2        2         \n",
       "8⋅m ⋅t    4⋅m ⋅t   8⋅m ⋅t   4⋅m ⋅t   4⋅s₀\n",
       "─────── + ────── - ────── - ────── - ────\n",
       "  2   2      2     s₀⋅u₀       2      u₀ \n",
       "s₀ ⋅u₀     u₀                s₀          "
      ]
     },
     "execution_count": 98,
     "metadata": {},
     "output_type": "execute_result"
    }
   ],
   "source": [
    "sigonehalf=simplify(T1sq+T2sq+T3sq+T4sq);sigonehalf"
   ]
  },
  {
   "cell_type": "code",
   "execution_count": 99,
   "metadata": {},
   "outputs": [
    {
     "data": {
      "image/png": "[encoded data removed]",
      "text/latex": [
       "$\\displaystyle \\frac{4 \\left(- x^{2} y + x^{2} + x y^{3} - 2 x y + 2 y^{2}\\right)}{x^{2} \\left(y^{2} - 2 y + 1\\right)}$"
      ],
      "text/plain": [
       "  ⎛   2      2      3              2⎞\n",
       "4⋅⎝- x ⋅y + x  + x⋅y  - 2⋅x⋅y + 2⋅y ⎠\n",
       "─────────────────────────────────────\n",
       "           2 ⎛ 2          ⎞          \n",
       "          x ⋅⎝y  - 2⋅y + 1⎠          "
      ]
     },
     "execution_count": 99,
     "metadata": {},
     "output_type": "execute_result"
    }
   ],
   "source": [
    "sigonehalfv1=simplify(sigonehalf.subs(t,-y*s0).subs(u0,(y-1)*s0).subs(s0,x*m**2));sigonehalfv1"
   ]
  },
  {
   "cell_type": "code",
   "execution_count": 100,
   "metadata": {},
   "outputs": [
    {
     "data": {
      "image/png": "[encoded data removed]",
      "text/latex": [
       "$\\displaystyle \\frac{4 \\left(- 2 m^{4} t^{3} - 2 m^{4} t^{2} u_{0} - m^{2} s_{0} t^{3} + 2 m^{2} s_{0} t u_{0}^{2} - s_{0}^{2} u_{0}^{3}\\right)}{s_{0}^{3} u_{0}^{2}}$"
      ],
      "text/plain": [
       "  ⎛     4  3      4  2       2     3      2        2     2   3⎞\n",
       "4⋅⎝- 2⋅m ⋅t  - 2⋅m ⋅t ⋅u₀ - m ⋅s₀⋅t  + 2⋅m ⋅s₀⋅t⋅u₀  - s₀ ⋅u₀ ⎠\n",
       "───────────────────────────────────────────────────────────────\n",
       "                              3   2                            \n",
       "                            s₀ ⋅u₀                             "
      ]
     },
     "execution_count": 100,
     "metadata": {},
     "output_type": "execute_result"
    }
   ],
   "source": [
    "sigthreehalf=simplify(T5sq+T6sq+T7sq+T8sq);sigthreehalf"
   ]
  },
  {
   "cell_type": "code",
   "execution_count": 101,
   "metadata": {},
   "outputs": [
    {
     "data": {
      "image/png": "[encoded data removed]",
      "text/latex": [
       "$\\displaystyle - 4 y + 4 + \\frac{4 y^{3}}{x \\left(y - 1\\right)^{2}} - \\frac{8 y}{x} + \\frac{8 y^{2}}{x^{2} \\left(y - 1\\right)^{2}}$"
      ],
      "text/plain": [
       "                 3                   2   \n",
       "              4⋅y       8⋅y       8⋅y    \n",
       "-4⋅y + 4 + ────────── - ─── + ───────────\n",
       "                    2    x     2        2\n",
       "           x⋅(y - 1)          x ⋅(y - 1) "
      ]
     },
     "execution_count": 101,
     "metadata": {},
     "output_type": "execute_result"
    }
   ],
   "source": [
    "sigthreehalfv1=simplify(sigthreehalf.subs(t,-y*s0).subs(u0,(y-1)*s0).subs(s0,x*m**2));\n",
    "sigthreehalfv1"
   ]
  },
  {
   "cell_type": "markdown",
   "metadata": {},
   "source": [
    "In the planned international linear collider ILC a beam of $E=250$ GeV lefthanded electrons is foreseen. Its polarization may be determined by measuring the Compton cross section in backward direction (G. Mortgaat-Pick et al., Phys.Rept. 460, 131, 2008). A 532 nm laser beam ($\\omega=2.33$ eV) is directed along the negative $z$-axis versus the incoming electrons. Therefore $s_0=4\\omega E$ and $y=\\omega'/E\\sin^2(\\theta/2)$ which is approximately\n",
    "$\\omega'/E$ for photon scattering angles $\\theta$ near $\\theta=\\pi$. With $x=8.9$ we have $y_{max}=0.9$ resulting in\n",
    "photons of energy $\\omega'=225$ GeV or electrons of $E=25$ GeV along the positive $z$-axis. \n",
    "Fig.6 shows $\\sigma_{1/2}$ and $\\sigma_{3/2}$ plotted versus $y=\\omega'/E$ (again neglecting \n",
    "common factors needed to convert sqared amplitudes into cross sections). At high $y$\n",
    "a large difference between $\\sigma_{1/2}$ and $\\sigma_{3/2}$ is observed."
   ]
  },
  {
   "cell_type": "code",
   "execution_count": 102,
   "metadata": {},
   "outputs": [
    {
     "data": {
      "image/png": "[encoded data removed]",
      "text/plain": [
       "<Figure size 432x288 with 1 Axes>"
      ]
     },
     "metadata": {
      "needs_background": "light"
     },
     "output_type": "display_data"
    }
   ],
   "source": [
    "p6=plot(sigonehalfv1.subs(x,8.9),sigthreehalfv1.subs(x,8.9),(y,0,0.9),ylabel=' ',\n",
    "title='             Fig.6: J_3=1/2 and J_3=3/2 xsection for 250 GeV electrons,532 nm photons ',\n",
    "ylim=(0,40),xlim=(0,1),show=False)\n",
    "p6[0].line_color='g'\n",
    "p6[1].line_color='r'\n",
    "p6.show()\n"
   ]
  },
  {
   "cell_type": "markdown",
   "metadata": {},
   "source": [
    "$y_{max}$ is reached for $\\theta=\\pi$. However, due to the enormous Lorentz-boost all scattering angle are close to $\\pi$ and therefor $y$ depends very strongly on $\\theta$.\n",
    "This can be understood by squaring the fourmomentum conservation $k_i+p_i-k_f=p_f$ yielding\n",
    "$$k_i\\cdot p_i-k_i\\cdot k_f-k_f\\cdot p_i=0\\enspace ,$$\n",
    "which reads using the ILC kinematic variables ($\\beta E$ is the momentum of the incoming electron)\n",
    "$$\\omega E(1+\\beta)-\\omega\\omega' (1-\\cos\\theta)-\\omega' E(1+\\beta\\cos\\theta)=0\\enspace .$$\n",
    "We set $\\theta=\\pi-\\chi$ with a very small  angle $\\chi$. It is safe to set $\\beta=1$ in the first term and \n",
    "$\\cos\\theta=-1$ in the second term. The 3rd term requires more care. Using \n",
    "$\\beta\\approx 1-m^2/2E^2$ and $\\cos\\theta\\approx -1+\\chi^2/2$ one gets \n",
    "$1+\\beta\\cos\\theta=m^2/2E^2+\\chi^2/2$ resulting in\n",
    "$$y=\\frac{\\omega}{\\omega +\\frac{m^2}{4E}+\\frac{E\\chi^2}{4}}$$ or counting $\\chi$ in \n",
    "multiples $n\\chi_0$ of $\\chi_0=m/E$\n",
    "$$y=\\frac{1}{1 +\\frac{1}{x}+\\frac{n^2}{x}}=\\frac{x}{1 +n^2+x}\\enspace .$$\n",
    "Considering the extremely small value of $\\chi_0$ the outgoing photons and electrons\n",
    "travel along the $z$ axis together with the electron beam. Note that for practical reasons the laser beam is directed at a small angele (say 10 mrad) with respect to the $z$ axis. For measuring the Compton cross section it is probably easiest to magnetically separate the low energy electrons coresponding to the high $y$ cross section. \n",
    "\n",
    "For unpolarized beams the Compton cross section may be written as\n",
    "$\\sigma_U=(\\sigma_{1/2}+\\sigma_{3/2})/2$ whereas for partially polarized electron and photon beams the cross section is given by\n",
    "$$\\sigma_P=(1-P_eP_\\gamma)\\sigma_U+P_eP_\\gamma\\sigma_{1/2}$$\n",
    "or\n",
    "$$\\sigma_P=\\sigma_U(1+P_eP_\\gamma A)\\enspace ,$$\n",
    "where the analyzing power $A$ is given by\n",
    "$$A=\\frac{\\sigma_{1/2}-\\sigma_{3/2}}{\\sigma_{1/2}+\\sigma_{3/2}}\\enspace .$$\n",
    "This quantity is plotted in fig.7 for the example of fig.6."
   ]
  },
  {
   "cell_type": "code",
   "execution_count": 103,
   "metadata": {},
   "outputs": [
    {
     "data": {
      "image/png": "[encoded data removed]",
      "text/latex": [
       "$\\displaystyle \\frac{x y \\left(- x y^{2} + 3 x y - 2 x - 2 y^{2} + 4 y\\right)}{x^{2} y^{3} - 3 x^{2} y^{2} + 4 x^{2} y - 2 x^{2} - 4 x y^{2} + 4 x y - 4 y^{2}}$"
      ],
      "text/plain": [
       "            ⎛     2                    2      ⎞        \n",
       "        x⋅y⋅⎝- x⋅y  + 3⋅x⋅y - 2⋅x - 2⋅y  + 4⋅y⎠        \n",
       "───────────────────────────────────────────────────────\n",
       " 2  3      2  2      2        2        2              2\n",
       "x ⋅y  - 3⋅x ⋅y  + 4⋅x ⋅y - 2⋅x  - 4⋅x⋅y  + 4⋅x⋅y - 4⋅y "
      ]
     },
     "execution_count": 103,
     "metadata": {},
     "output_type": "execute_result"
    }
   ],
   "source": [
    "A=simplify((sigonehalfv1-sigthreehalfv1)/(sigonehalfv1+sigthreehalfv1));A"
   ]
  },
  {
   "cell_type": "code",
   "execution_count": 104,
   "metadata": {},
   "outputs": [
    {
     "data": {
      "image/png": "[encoded data removed]",
      "text/plain": [
       "<Figure size 432x288 with 1 Axes>"
      ]
     },
     "metadata": {
      "needs_background": "light"
     },
     "output_type": "display_data"
    }
   ],
   "source": [
    "p7=plot(A.subs(x,8.9),(y,0,0.9),ylim=(-1,1),xlim=(0,1),title=('Fig.7 Analyzing power, x=8.9'),\n",
    "ylabel=('A'))"
   ]
  },
  {
   "cell_type": "markdown",
   "metadata": {},
   "source": [
    "## 6) Related cross sections\n",
    "$\\overline{\\sum}{T_{fi}^2}$ for $\\gamma\\gamma\\rightarrow e^-e^+$ can be obtained  from\n",
    "the corresponing Compton scattering formula via the exchange $s \\leftrightarrow t$ plus multiplication by -1 (using the abbreviatons $s_0=s-m^2$ etc).\n",
    "$$\\overline{\\sum}{T_{fi}^2}=\\left(\\frac{2u_0}{t_0}+\\frac{2t_0}{u_0}\n",
    "+\\frac{8m^2s}{t_0u_0}-\\frac{8m^4s^2}{t_0^2u_0^2}\\right)\\enspace .$$\n",
    "Multiplication with the kinematic factor $1/16\\pi s(s-4m^2)$ and the charge\n",
    "factor $e^4=16\\pi^2\\alpha^2$ yields the formula for the differential cross section\n",
    "$$\\frac{\\mathrm{d}\\sigma}{\\mathrm{d}t}(\\gamma\\gamma\\rightarrow e^{-} e^{+})=\\frac{2\\pi\\alpha^2}{s(s-4m^2)}\\left(\\frac{u_0}{t_0}+\\frac{t_0}{u_0}\n",
    "+\\frac{4m^2s}{t_0u_0}-\\frac{4m^4s^2}{t_0^2u_0^2}\\right)$$\n",
    "and finally\n",
    "$$\\frac{\\mathrm{d}\\sigma}{\\mathrm{d}t}(e^{-} e^{+}\\rightarrow \\gamma\\gamma)=\\frac{2\\pi\\alpha^2}{s^2}\\left(\\frac{u_0}{t_0}+\\frac{t_0}{u_0}\n",
    "+\\frac{4m^2s}{t_0u_0}-\\frac{4m^4s^2}{t_0^2u_0^2}\\right)\\enspace .$$"
   ]
  },
  {
   "cell_type": "code",
   "execution_count": null,
   "metadata": {},
   "outputs": [],
   "source": []
  }
 ],
 "metadata": {
  "kernelspec": {
   "display_name": "Python 3 (ipykernel)",
   "language": "python",
   "name": "python3"
  },
  "language_info": {
   "codemirror_mode": {
    "name": "ipython",
    "version": 3
   },
   "file_extension": ".py",
   "mimetype": "text/x-python",
   "name": "python",
   "nbconvert_exporter": "python",
   "pygments_lexer": "ipython3",
   "version": "3.10.3"
  }
 },
 "nbformat": 4,
 "nbformat_minor": 2
}
