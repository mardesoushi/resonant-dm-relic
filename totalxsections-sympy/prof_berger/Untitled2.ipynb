{
 "cells": [
  {
   "cell_type": "code",
   "execution_count": 2,
   "id": "2a6a3bc5",
   "metadata": {},
   "outputs": [],
   "source": [
    "from sympy import *"
   ]
  },
  {
   "cell_type": "code",
   "execution_count": 3,
   "id": "f9e8dbf0",
   "metadata": {},
   "outputs": [
    {
     "name": "stdout",
     "output_type": "stream",
     "text": [
      "Reading heppackv0.py (july 2022)\n",
      "\n",
      "Done\n"
     ]
    }
   ],
   "source": [
    "import heppackv0 as hep"
   ]
  },
  {
   "cell_type": "code",
   "execution_count": 4,
   "id": "2978ef94",
   "metadata": {},
   "outputs": [
    {
     "name": "stdout",
     "output_type": "stream",
     "text": [
      "The CM system is used\n"
     ]
    }
   ],
   "source": [
    "print('The CM system is used')\n",
    "E0,E1,E2,E3,p1,p3,m,M,s,x,y,z,a=symbols('E0 E1 E2 E3 p1 p3 m M s x y z a',positive=True)\n",
    "theta, theta2,theta3=symbols('theta theta2 theta3')"
   ]
  },
  {
   "cell_type": "code",
   "execution_count": 6,
   "id": "971f5e25",
   "metadata": {},
   "outputs": [],
   "source": [
    "ki=[E0,0,0,0]\n",
    "pin=[E0,0,pi,pi]\n",
    "kf=[E0,0,theta,0]\n",
    "pf=[E0,0,pi-theta,pi]"
   ]
  },
  {
   "cell_type": "code",
   "execution_count": null,
   "id": "96cc737a",
   "metadata": {},
   "outputs": [],
   "source": []
  }
 ],
 "metadata": {
  "kernelspec": {
   "display_name": "Python 3 (ipykernel)",
   "language": "python",
   "name": "python3"
  },
  "language_info": {
   "codemirror_mode": {
    "name": "ipython",
    "version": 3
   },
   "file_extension": ".py",
   "mimetype": "text/x-python",
   "name": "python",
   "nbconvert_exporter": "python",
   "pygments_lexer": "ipython3",
   "version": "3.10.3"
  }
 },
 "nbformat": 4,
 "nbformat_minor": 5
}
