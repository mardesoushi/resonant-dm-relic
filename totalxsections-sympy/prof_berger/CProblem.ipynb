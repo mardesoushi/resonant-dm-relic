{
 "cells": [
  {
   "cell_type": "code",
   "execution_count": 1,
   "id": "3f1252c1-82ee-42ca-850d-396259a344bf",
   "metadata": {},
   "outputs": [
    {
     "name": "stdout",
     "output_type": "stream",
     "text": [
      "Reading heppackv0.py (july 2022)\n",
      "\n",
      "Done\n"
     ]
    }
   ],
   "source": [
    "import heppackv0 as hep\n",
    "import sympy as sy"
   ]
  },
  {
   "cell_type": "code",
   "execution_count": 2,
   "id": "3ae3ee8f-37b3-471b-862a-9878cc0141d0",
   "metadata": {},
   "outputs": [],
   "source": [
    "theta, phi, zeta = sy.symbols(\"theta phi zeta\",real=True)\n",
    "E,D,m = sy.symbols(\"E D m\",real=True,positive=True)\n",
    "a,b,c,d = sy.symbols(\"a b c d\",commutative=False)\n",
    "A,B,C,D = sy.symbols(\"A B C D\",commutative=False)"
   ]
  },
  {
   "cell_type": "markdown",
   "id": "2083a576-4f21-4db0-a997-f567cf8471c0",
   "metadata": {},
   "source": [
    "### Task: Calculate $\\overline{\\psi}^c \\psi^c$ and compare to $\\overline{\\psi} \\psi$"
   ]
  },
  {
   "cell_type": "markdown",
   "id": "eb8388cc-c531-460c-8816-2faff29bf1e1",
   "metadata": {},
   "source": [
    "### 1. Analytic calculation"
   ]
  },
  {
   "cell_type": "markdown",
   "id": "e79963f1-335f-45cf-a8cf-27e2798572ce",
   "metadata": {},
   "source": [
    "Die Lösung ist, dass man ein Minuszeichen beim Vertauschen von Fermionfeldern anbringen muss.\n",
    "\n",
    "Am Einfachsten kann man das so zeigen (mit $C = i \\gamma^2 \\gamma^0$)\n",
    "\n",
    "$\\psi^c = C \\,(\\overline{\\psi})^T = i \\gamma^2 \\psi^*\n",
    "= -i(\\bar\\psi \\gamma^0 \\gamma^2)^T$, (s. Test1) <br>\n",
    "$\\overline{\\psi^c} = - \\psi^T C^\\dagger$, (s. Test2)\n",
    "\n",
    "Damit folgt\n",
    "\n",
    "$\\overline{\\psi^c} \\psi^c = -\\psi^T C^\\dagger C\\bar{\\psi}^T = -\\psi^T\\bar{\\psi}^T = + (\\bar{\\psi} \\psi)^T = \\bar{\\psi} \\psi$,\n",
    "\n",
    "mit $C^\\dagger C = 1$, s. Test 3\n",
    "\n",
    "Das + Zeichen im vorletzten Schritt kommt vom Antikommutator beim Vertauschen von Fermionen. Da $\\bar{\\psi} \\psi$ ein Skalar ist, sind die letzten beiden Terme gleich.\n",
    "\n",
    "### Dieser Beweis, Peskin Schroeder, und alle meine Beweise kranken an der Tatsache, dass in der Anwendung auf freie Fermionen der erste Term in Deiner Gleichung $-2m$ und der letzte $+2m$ ergibt. Wo liegt der gedankliche Fehler?"
   ]
  },
  {
   "cell_type": "code",
   "execution_count": 3,
   "id": "1441b0c2",
   "metadata": {},
   "outputs": [],
   "source": [
    "pe=[E,m,theta,phi]"
   ]
  },
  {
   "cell_type": "code",
   "execution_count": 4,
   "id": "de2bc1ca",
   "metadata": {},
   "outputs": [],
   "source": [
    "C = sy.I*hep.g2*hep.g0\n",
    "uC=C*(hep.ubar(pe,1)).T\n",
    "uCbar=-hep.u(pe,1).T*C.T"
   ]
  },
  {
   "cell_type": "code",
   "execution_count": 5,
   "id": "74d266f8",
   "metadata": {},
   "outputs": [
    {
     "data": {
      "text/plain": [
       "True"
      ]
     },
     "execution_count": 5,
     "metadata": {},
     "output_type": "execute_result"
    }
   ],
   "source": [
    "uC==hep.v(pe,1)"
   ]
  },
  {
   "cell_type": "code",
   "execution_count": 6,
   "id": "af1d01ac",
   "metadata": {},
   "outputs": [
    {
     "data": {
      "text/plain": [
       "True"
      ]
     },
     "execution_count": 6,
     "metadata": {},
     "output_type": "execute_result"
    }
   ],
   "source": [
    "uCbar==hep.vbar(pe,1)"
   ]
  },
  {
   "cell_type": "code",
   "execution_count": 7,
   "id": "79d03b29",
   "metadata": {},
   "outputs": [
    {
     "data": {
      "text/plain": [
       "False"
      ]
     },
     "execution_count": 7,
     "metadata": {},
     "output_type": "execute_result"
    }
   ],
   "source": [
    "uCbar*uC==hep.ubar(pe,1)*hep.u(pe,1)"
   ]
  },
  {
   "cell_type": "markdown",
   "id": "af4ca9b1-30f3-47d7-84b9-925c9ea05d4f",
   "metadata": {},
   "source": [
    "#### Test 1: zeige $\\psi^c = C \\,(\\overline{\\psi})^T = i \\gamma^2 \\psi^*$"
   ]
  },
  {
   "cell_type": "code",
   "execution_count": 8,
   "id": "489f887e-36e6-4397-ad1b-fd17441387d8",
   "metadata": {},
   "outputs": [
    {
     "data": {
      "text/plain": [
       "'psic: '"
      ]
     },
     "metadata": {},
     "output_type": "display_data"
    },
    {
     "data": {
      "image/png": "[encoded data removed]",
      "text/latex": [
       "$\\displaystyle \\left[\\begin{matrix}\\overline{d}\\\\- \\overline{c}\\\\- \\overline{b}\\\\\\overline{a}\\end{matrix}\\right]$"
      ],
      "text/plain": [
       "⎡_ ⎤\n",
       "⎢d ⎥\n",
       "⎢  ⎥\n",
       "⎢ _⎥\n",
       "⎢-c⎥\n",
       "⎢  ⎥\n",
       "⎢ _⎥\n",
       "⎢-b⎥\n",
       "⎢  ⎥\n",
       "⎢_ ⎥\n",
       "⎣a ⎦"
      ]
     },
     "metadata": {},
     "output_type": "display_data"
    },
    {
     "data": {
      "text/plain": [
       "'psic2: '"
      ]
     },
     "metadata": {},
     "output_type": "display_data"
    },
    {
     "data": {
      "image/png": "[encoded data removed]",
      "text/latex": [
       "$\\displaystyle \\left[\\begin{matrix}\\overline{d}\\\\- \\overline{c}\\\\- \\overline{b}\\\\\\overline{a}\\end{matrix}\\right]$"
      ],
      "text/plain": [
       "⎡_ ⎤\n",
       "⎢d ⎥\n",
       "⎢  ⎥\n",
       "⎢ _⎥\n",
       "⎢-c⎥\n",
       "⎢  ⎥\n",
       "⎢ _⎥\n",
       "⎢-b⎥\n",
       "⎢  ⎥\n",
       "⎢_ ⎥\n",
       "⎣a ⎦"
      ]
     },
     "metadata": {},
     "output_type": "display_data"
    },
    {
     "data": {
      "text/plain": [
       "'psic3: '"
      ]
     },
     "metadata": {},
     "output_type": "display_data"
    },
    {
     "data": {
      "image/png": "[encoded data removed]",
      "text/latex": [
       "$\\displaystyle \\left[\\begin{matrix}\\overline{d}\\\\- \\overline{c}\\\\- \\overline{b}\\\\\\overline{a}\\end{matrix}\\right]$"
      ],
      "text/plain": [
       "⎡_ ⎤\n",
       "⎢d ⎥\n",
       "⎢  ⎥\n",
       "⎢ _⎥\n",
       "⎢-c⎥\n",
       "⎢  ⎥\n",
       "⎢ _⎥\n",
       "⎢-b⎥\n",
       "⎢  ⎥\n",
       "⎢_ ⎥\n",
       "⎣a ⎦"
      ]
     },
     "metadata": {},
     "output_type": "display_data"
    }
   ],
   "source": [
    "psi = sy.Matrix([[a],[b],[c],[d]])\n",
    "psibar = psi.D\n",
    "C = sy.I*hep.g2*hep.g0\n",
    "psic = sy.I*hep.g2*psi.C\n",
    "psic2 = C*psibar.T\n",
    "psic3 = sy.I*(psibar*hep.g0*hep.g2).T\n",
    "display(\"psic: \", psic)\n",
    "display(\"psic2: \", psic2)\n",
    "display(\"psic3: \", psic3)"
   ]
  },
  {
   "cell_type": "markdown",
   "id": "d65fccdd-24da-47eb-8806-339c8256bcd9",
   "metadata": {},
   "source": [
    "#### Test2:  zeige $\\overline{\\psi} = - \\psi^T C^\\dagger = (i\\gamma^0 \\gamma^2 \\psi)^T$ , \n",
    "last term is comparison with Schroeder, p. 70, \n",
    "he uses an additional minus sign, which I removed"
   ]
  },
  {
   "cell_type": "code",
   "execution_count": 9,
   "id": "ea435315-6086-499b-b913-9662be54c0ef",
   "metadata": {},
   "outputs": [
    {
     "data": {
      "text/plain": [
       "'psicbar: '"
      ]
     },
     "metadata": {},
     "output_type": "display_data"
    },
    {
     "data": {
      "image/png": "[encoded data removed]",
      "text/latex": [
       "$\\displaystyle \\left[\\begin{matrix}d & - c & b & - a\\end{matrix}\\right]$"
      ],
      "text/plain": [
       "[d  -c  b  -a]"
      ]
     },
     "metadata": {},
     "output_type": "display_data"
    },
    {
     "data": {
      "text/plain": [
       "'psicbar2: '"
      ]
     },
     "metadata": {},
     "output_type": "display_data"
    },
    {
     "data": {
      "image/png": "[encoded data removed]",
      "text/latex": [
       "$\\displaystyle \\left[\\begin{matrix}d & - c & b & - a\\end{matrix}\\right]$"
      ],
      "text/plain": [
       "[d  -c  b  -a]"
      ]
     },
     "metadata": {},
     "output_type": "display_data"
    },
    {
     "data": {
      "text/plain": [
       "'psicbar3: '"
      ]
     },
     "metadata": {},
     "output_type": "display_data"
    },
    {
     "data": {
      "image/png": "[encoded data removed]",
      "text/latex": [
       "$\\displaystyle \\left[\\begin{matrix}d & - c & b & - a\\end{matrix}\\right]$"
      ],
      "text/plain": [
       "[d  -c  b  -a]"
      ]
     },
     "metadata": {},
     "output_type": "display_data"
    },
    {
     "data": {
      "text/plain": [
       "'psicbar4: '"
      ]
     },
     "metadata": {},
     "output_type": "display_data"
    },
    {
     "data": {
      "image/png": "[encoded data removed]",
      "text/latex": [
       "$\\displaystyle \\left[\\begin{matrix}d & - c & b & - a\\end{matrix}\\right]$"
      ],
      "text/plain": [
       "[d  -c  b  -a]"
      ]
     },
     "metadata": {},
     "output_type": "display_data"
    }
   ],
   "source": [
    "psicbar = psic.D\n",
    "psicbar2 = -psi.T*C.H\n",
    "psicbar3 = (sy.I*hep.g0*hep.g2*psi).T\n",
    "psicbar4 =  sy.I*(hep.g0*hep.g2*psi).T\n",
    "display(\"psicbar: \", psicbar)\n",
    "display(\"psicbar2: \", psicbar2)\n",
    "display(\"psicbar3: \", psicbar3)\n",
    "display(\"psicbar4: \", psicbar4)"
   ]
  },
  {
   "cell_type": "markdown",
   "id": "8ab9fb38-e3f1-4cab-b595-ad0f7a74467c",
   "metadata": {},
   "source": [
    "#### Test 3: zeige $C^\\dagger C = 1$"
   ]
  },
  {
   "cell_type": "code",
   "execution_count": 10,
   "id": "8e9c7cb7-bcca-4f90-b296-160b91da831b",
   "metadata": {},
   "outputs": [
    {
     "data": {
      "image/png": "[encoded data removed]",
      "text/latex": [
       "$\\displaystyle \\left[\\begin{matrix}1 & 0 & 0 & 0\\\\0 & 1 & 0 & 0\\\\0 & 0 & 1 & 0\\\\0 & 0 & 0 & 1\\end{matrix}\\right]$"
      ],
      "text/plain": [
       "⎡1  0  0  0⎤\n",
       "⎢          ⎥\n",
       "⎢0  1  0  0⎥\n",
       "⎢          ⎥\n",
       "⎢0  0  1  0⎥\n",
       "⎢          ⎥\n",
       "⎣0  0  0  1⎦"
      ]
     },
     "execution_count": 10,
     "metadata": {},
     "output_type": "execute_result"
    }
   ],
   "source": [
    "C.H*C"
   ]
  },
  {
   "cell_type": "markdown",
   "id": "506b14c1-2dc3-4f43-97bc-ec111663b067",
   "metadata": {},
   "source": [
    "# Test"
   ]
  },
  {
   "cell_type": "code",
   "execution_count": 11,
   "id": "1ecb6199-8a9f-450b-8ce3-f3d6ba529878",
   "metadata": {},
   "outputs": [
    {
     "data": {
      "image/png": "[encoded data removed]",
      "text/latex": [
       "$\\displaystyle \\left[\\begin{matrix}- a \\overline{a} - b \\overline{b} + c \\overline{c} + d \\overline{d}\\end{matrix}\\right]$"
      ],
      "text/plain": [
       "⎡    _     _     _     _⎤\n",
       "⎣- a⋅a - b⋅b + c⋅c + d⋅d⎦"
      ]
     },
     "execution_count": 11,
     "metadata": {},
     "output_type": "execute_result"
    }
   ],
   "source": [
    "psicbar4*psic3"
   ]
  },
  {
   "cell_type": "code",
   "execution_count": 12,
   "id": "9bcc3913-ef4f-4f62-9784-8f97b949d228",
   "metadata": {},
   "outputs": [
    {
     "data": {
      "image/png": "[encoded data removed]",
      "text/latex": [
       "$\\displaystyle \\left[\\begin{matrix}- a \\overline{a} - b \\overline{b} + c \\overline{c} + d \\overline{d}\\end{matrix}\\right]$"
      ],
      "text/plain": [
       "⎡    _     _     _     _⎤\n",
       "⎣- a⋅a - b⋅b + c⋅c + d⋅d⎦"
      ]
     },
     "execution_count": 12,
     "metadata": {},
     "output_type": "execute_result"
    }
   ],
   "source": [
    "psicbar*psic"
   ]
  },
  {
   "cell_type": "code",
   "execution_count": null,
   "id": "d30f7a15-3034-4f4f-afb8-262c6db60f74",
   "metadata": {},
   "outputs": [],
   "source": []
  }
 ],
 "metadata": {
  "kernelspec": {
   "display_name": "Python 3 (ipykernel)",
   "language": "python",
   "name": "python3"
  },
  "language_info": {
   "codemirror_mode": {
    "name": "ipython",
    "version": 3
   },
   "file_extension": ".py",
   "mimetype": "text/x-python",
   "name": "python",
   "nbconvert_exporter": "python",
   "pygments_lexer": "ipython3",
   "version": "3.10.3"
  }
 },
 "nbformat": 4,
 "nbformat_minor": 5
}
