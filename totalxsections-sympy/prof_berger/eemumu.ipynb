{
 "cells": [
  {
   "attachments": {},
   "cell_type": "markdown",
   "metadata": {},
   "source": [
    "#### This notebook extends the calculations of chapter 3.2 of the book. The masses of the particles are not neglected. For some readers the discussion of polarization effects might be of interest.\n",
    "\n",
    "### 1) Introduction\n",
    "A jupyter notebook to calculate basic QED cross sections: electron positron annihilation into muon pairs and electron muon scattering. (If you want to run this notebook on your own system, you have to download heppackv0.py and the figure file Kap2fig8.jpg.) \n",
    "\n",
    "In the textbooks these processes are treated using the trace technique for obtaining the spin sums. We simply calculate each amplitude explicitly.\n",
    "As a first step the package sympy and the private package heppackv0 have to be imported. "
   ]
  },
  {
   "cell_type": "code",
   "execution_count": 25,
   "metadata": {},
   "outputs": [],
   "source": [
    "from sympy import *"
   ]
  },
  {
   "cell_type": "code",
   "execution_count": 26,
   "metadata": {},
   "outputs": [],
   "source": [
    "import heppackv0 as hep"
   ]
  },
  {
   "attachments": {},
   "cell_type": "markdown",
   "metadata": {},
   "source": [
    "Definition of the variables used: $p_1$=incoming electron, $p_2$ incoming positron,\n",
    "$p_3$ outgoing muon, $p_4$ outgoing antimuon. Each 4 momentum is characterized by energy, mass, polar angle azimuth angle. We use the CM system. Python requires definition of the symbols. "
   ]
  },
  {
   "cell_type": "code",
   "execution_count": 27,
   "metadata": {},
   "outputs": [],
   "source": [
    "E,M,m,theta,alpha=symbols('E M m theta alpha',real=True)\n",
    "t,t0,s,s0,phi,P,beta,p=symbols('t t0,s,s0,phi,P,beta,p',real=True)"
   ]
  },
  {
   "cell_type": "code",
   "execution_count": 28,
   "metadata": {},
   "outputs": [],
   "source": [
    "p1=[E,m,0,0]\n",
    "p2=[E,m,pi,pi]\n",
    "p3=[E,M,theta,0]\n",
    "p4=[E,M,pi-theta,pi]"
   ]
  },
  {
   "attachments": {},
   "cell_type": "markdown",
   "metadata": {},
   "source": [
    "### 2) The amplitudes \n",
    "The amplitudes are products of currents divided by the propagator. The products of currents are provided by\n",
    "heppackv0. There are 8 independent helicity amplitudes $T_{fi}=T(\\lambda_3 \\lambda_4;\\lambda_1 \\lambda_2)$ for incoming positrons with positive helicity $\\lambda_2$. The 8 amplitudes with negative helicity $\\lambda_2$ are not independent but are up to a possible phase factor given by $T(-\\lambda_3 -\\lambda_4;-\\lambda_1 -\\lambda_2)$ due to the parity invariance of the electromagnetic interaction.\n",
    "\n",
    "1) $T(-+;-+)$ :\n",
    "\n",
    "The amplitude \n",
    "$$t_1=-e^{2}\\bar{v}_+(p_2)\\gamma^{\\mu}u_-(p_1)\\bar{u}_-(p_3)\\gamma _{\\mu}v_+(p_4)\\frac{1}{q^{2}}$$\n",
    "is without the charge factor $e^2=4\\pi\\alpha$ given by"
   ]
  },
  {
   "cell_type": "code",
   "execution_count": 29,
   "metadata": {
    "scrolled": true
   },
   "outputs": [
    {
     "data": {
      "image/png": "[encoded data removed]",
      "text/latex": [
       "$\\displaystyle \\cos{\\left(\\theta \\right)} + 1$"
      ],
      "text/plain": [
       "cos(θ) + 1"
      ]
     },
     "execution_count": 29,
     "metadata": {},
     "output_type": "execute_result"
    }
   ],
   "source": [
    "t1=-hep.dotprod4(hep.vbu(p2,1,p1,-1),hep.ubv(p3,-1,p4,1))/4/E**2\n",
    "t1"
   ]
  },
  {
   "attachments": {},
   "cell_type": "markdown",
   "metadata": {},
   "source": [
    "and for the other combinations of helicities\n",
    "\n",
    "2) $T(--;-+)$ :"
   ]
  },
  {
   "cell_type": "code",
   "execution_count": 30,
   "metadata": {},
   "outputs": [
    {
     "data": {
      "image/png": "[encoded data removed]",
      "text/latex": [
       "$\\displaystyle \\frac{M \\sin{\\left(\\theta \\right)}}{E}$"
      ],
      "text/plain": [
       "M⋅sin(θ)\n",
       "────────\n",
       "   E    "
      ]
     },
     "execution_count": 30,
     "metadata": {},
     "output_type": "execute_result"
    }
   ],
   "source": [
    "t2=-hep.dotprod4(hep.vbu(p2,1,p1,-1),hep.ubv(p3,-1,p4,-1))/4/E**2\n",
    "t2"
   ]
  },
  {
   "attachments": {},
   "cell_type": "markdown",
   "metadata": {},
   "source": [
    "3) $T(++;-+)$ :"
   ]
  },
  {
   "cell_type": "code",
   "execution_count": 31,
   "metadata": {},
   "outputs": [
    {
     "data": {
      "image/png": "[encoded data removed]",
      "text/latex": [
       "$\\displaystyle \\frac{M \\sin{\\left(\\theta \\right)}}{E}$"
      ],
      "text/plain": [
       "M⋅sin(θ)\n",
       "────────\n",
       "   E    "
      ]
     },
     "execution_count": 31,
     "metadata": {},
     "output_type": "execute_result"
    }
   ],
   "source": [
    "t3=-hep.dotprod4(hep.vbu(p2,1,p1,-1),hep.ubv(p3,1,p4,1))/4/E**2\t\n",
    "t3"
   ]
  },
  {
   "attachments": {},
   "cell_type": "markdown",
   "metadata": {},
   "source": [
    "4) $T(+-;-+)$ :"
   ]
  },
  {
   "cell_type": "code",
   "execution_count": 32,
   "metadata": {},
   "outputs": [
    {
     "data": {
      "image/png": "[encoded data removed]",
      "text/latex": [
       "$\\displaystyle 1 - \\cos{\\left(\\theta \\right)}$"
      ],
      "text/plain": [
       "1 - cos(θ)"
      ]
     },
     "execution_count": 32,
     "metadata": {},
     "output_type": "execute_result"
    }
   ],
   "source": [
    "t4=-hep.dotprod4(hep.vbu(p2,1,p1,-1),hep.ubv(p3,1,p4,-1))/4/E**2\n",
    "t4"
   ]
  },
  {
   "attachments": {},
   "cell_type": "markdown",
   "metadata": {},
   "source": [
    "5) $T(-+;++)$ :"
   ]
  },
  {
   "cell_type": "code",
   "execution_count": 33,
   "metadata": {},
   "outputs": [
    {
     "data": {
      "image/png": "[encoded data removed]",
      "text/latex": [
       "$\\displaystyle - \\frac{m \\sin{\\left(\\theta \\right)}}{E}$"
      ],
      "text/plain": [
       "-m⋅sin(θ) \n",
       "──────────\n",
       "    E     "
      ]
     },
     "execution_count": 33,
     "metadata": {},
     "output_type": "execute_result"
    }
   ],
   "source": [
    "t5=-hep.dotprod4(hep.vbu(p2,1,p1,1),hep.ubv(p3,-1,p4,1))/4/E**2\n",
    "t5"
   ]
  },
  {
   "attachments": {},
   "cell_type": "markdown",
   "metadata": {},
   "source": [
    "6) $T(--;++)$ :"
   ]
  },
  {
   "cell_type": "code",
   "execution_count": 34,
   "metadata": {},
   "outputs": [
    {
     "data": {
      "image/png": "[encoded data removed]",
      "text/latex": [
       "$\\displaystyle \\frac{M m \\cos{\\left(\\theta \\right)}}{E^{2}}$"
      ],
      "text/plain": [
       "M⋅m⋅cos(θ)\n",
       "──────────\n",
       "     2    \n",
       "    E     "
      ]
     },
     "execution_count": 34,
     "metadata": {},
     "output_type": "execute_result"
    }
   ],
   "source": [
    "t6=-hep.dotprod4(hep.vbu(p2,1,p1,1),hep.ubv(p3,-1,p4,-1))/4/E**2\n",
    "t6"
   ]
  },
  {
   "attachments": {},
   "cell_type": "markdown",
   "metadata": {},
   "source": [
    "7) $T(++;++)$ :"
   ]
  },
  {
   "cell_type": "code",
   "execution_count": 35,
   "metadata": {},
   "outputs": [
    {
     "data": {
      "image/png": "[encoded data removed]",
      "text/latex": [
       "$\\displaystyle \\frac{M m \\cos{\\left(\\theta \\right)}}{E^{2}}$"
      ],
      "text/plain": [
       "M⋅m⋅cos(θ)\n",
       "──────────\n",
       "     2    \n",
       "    E     "
      ]
     },
     "execution_count": 35,
     "metadata": {},
     "output_type": "execute_result"
    }
   ],
   "source": [
    "t7=-hep.dotprod4(hep.vbu(p2,1,p1,1),hep.ubv(p3,1,p4,1))/4/E**2\n",
    "t7"
   ]
  },
  {
   "attachments": {},
   "cell_type": "markdown",
   "metadata": {},
   "source": [
    "8) $T(+-;++)$ :"
   ]
  },
  {
   "cell_type": "code",
   "execution_count": 36,
   "metadata": {},
   "outputs": [
    {
     "data": {
      "image/png": "[encoded data removed]",
      "text/latex": [
       "$\\displaystyle \\frac{m \\sin{\\left(\\theta \\right)}}{E}$"
      ],
      "text/plain": [
       "m⋅sin(θ)\n",
       "────────\n",
       "   E    "
      ]
     },
     "execution_count": 36,
     "metadata": {},
     "output_type": "execute_result"
    }
   ],
   "source": [
    "t8=-hep.dotprod4(hep.vbu(p2,1,p1,1),hep.ubv(p3,1,p4,-1))/4/E**2\n",
    "t8"
   ]
  },
  {
   "attachments": {},
   "cell_type": "markdown",
   "metadata": {},
   "source": [
    "The following two lines are used for tests:"
   ]
  },
  {
   "cell_type": "code",
   "execution_count": 37,
   "metadata": {},
   "outputs": [
    {
     "data": {
      "image/png": "[encoded data removed]",
      "text/latex": [
       "$\\displaystyle \\frac{M m \\cos{\\left(\\theta \\right)}}{E^{2}}$"
      ],
      "text/plain": [
       "M⋅m⋅cos(θ)\n",
       "──────────\n",
       "     2    \n",
       "    E     "
      ]
     },
     "execution_count": 37,
     "metadata": {},
     "output_type": "execute_result"
    }
   ],
   "source": [
    "test1=-hep.dotprod4(hep.vbu(p2,-1,p1,-1),hep.ubv(p3,1,p4,1))/4/E**2;test1"
   ]
  },
  {
   "cell_type": "code",
   "execution_count": 38,
   "metadata": {},
   "outputs": [
    {
     "data": {
      "image/png": "[encoded data removed]",
      "text/latex": [
       "$\\displaystyle - \\frac{M \\sin{\\left(\\theta \\right)}}{E}$"
      ],
      "text/plain": [
       "-M⋅sin(θ) \n",
       "──────────\n",
       "    E     "
      ]
     },
     "execution_count": 38,
     "metadata": {},
     "output_type": "execute_result"
    }
   ],
   "source": [
    "test2=-hep.dotprod4(hep.vbu(p2,-1,p1,1),hep.ubv(p3,1,p4,1))/4/E**2;test2"
   ]
  },
  {
   "attachments": {},
   "cell_type": "markdown",
   "metadata": {},
   "source": [
    "### 3) Cross sections\n",
    "Because of parity invariance the 8 amplitudes containing $ \\bar{v}_-$ need not to be calculated explicitly.\n",
    "Summing over outgoing and averaging over incoming helicities we thus get for the average of squared amplitudes"
   ]
  },
  {
   "cell_type": "code",
   "execution_count": 39,
   "metadata": {},
   "outputs": [
    {
     "name": "stdout",
     "output_type": "stream",
     "text": [
      "tsqav=\n"
     ]
    },
    {
     "data": {
      "image/png": "[encoded data removed]",
      "text/latex": [
       "$\\displaystyle \\cos^{2}{\\left(\\theta \\right)} + 1 + \\frac{M^{2} \\sin^{2}{\\left(\\theta \\right)}}{E^{2}} + \\frac{m^{2} \\sin^{2}{\\left(\\theta \\right)}}{E^{2}} + \\frac{M^{2} m^{2} \\cos^{2}{\\left(\\theta \\right)}}{E^{4}}$"
      ],
      "text/plain": [
       "               2    2       2    2       2  2    2   \n",
       "   2          M ⋅sin (θ)   m ⋅sin (θ)   M ⋅m ⋅cos (θ)\n",
       "cos (θ) + 1 + ────────── + ────────── + ─────────────\n",
       "                   2            2              4     \n",
       "                  E            E              E      "
      ]
     },
     "execution_count": 39,
     "metadata": {},
     "output_type": "execute_result"
    }
   ],
   "source": [
    "tsqav=simplify((t1**2+t2**2+t3**2+t4**2+t5**2+t6**2+t7**2+t8**2)/2)\n",
    "print('tsqav=')\n",
    "tsqav"
   ]
  },
  {
   "attachments": {},
   "cell_type": "markdown",
   "metadata": {},
   "source": [
    "This can be expressed by the invariants $s,t,t_0$ (remember $s$= CM energy squared, $t$=four momentum transfer squared, $t_0=t-m^2-M^2$):"
   ]
  },
  {
   "cell_type": "code",
   "execution_count": 40,
   "metadata": {},
   "outputs": [
    {
     "name": "stdout",
     "output_type": "stream",
     "text": [
      "tsqav_inv=\n"
     ]
    },
    {
     "data": {
      "image/png": "[encoded data removed]",
      "text/latex": [
       "$\\displaystyle \\frac{2 s^{2} + 4 s t + 4 t_{0}^{2}}{s^{2}}$"
      ],
      "text/plain": [
       "   2               2\n",
       "2⋅s  + 4⋅s⋅t + 4⋅t₀ \n",
       "────────────────────\n",
       "          2         \n",
       "         s          "
      ]
     },
     "execution_count": 40,
     "metadata": {},
     "output_type": "execute_result"
    }
   ],
   "source": [
    "tsqav_inv=2*(2*t0**2+s**2+2*t*s)/s**2\n",
    "print('tsqav_inv='); tsqav_inv"
   ]
  },
  {
   "attachments": {},
   "cell_type": "markdown",
   "metadata": {},
   "source": [
    "Proof: Calulate  $s,t,t_0$ by their CM values"
   ]
  },
  {
   "cell_type": "code",
   "execution_count": 41,
   "metadata": {},
   "outputs": [
    {
     "data": {
      "image/png": "[encoded data removed]",
      "text/latex": [
       "$\\displaystyle - 2 E^{2} + M^{2} + m^{2} + 2 \\sqrt{E^{2} - M^{2}} \\sqrt{E^{2} - m^{2}} \\cos{\\left(\\theta \\right)}$"
      ],
      "text/plain": [
       "                        _________    _________       \n",
       "     2    2    2       ╱  2    2    ╱  2    2        \n",
       "- 2⋅E  + M  + m  + 2⋅╲╱  E  - M  ⋅╲╱  E  - m  ⋅cos(θ)"
      ]
     },
     "execution_count": 41,
     "metadata": {},
     "output_type": "execute_result"
    }
   ],
   "source": [
    "tCM=m**2+M**2-2*E**2+2*sqrt(E**2-m**2)*sqrt(E**2-M**2)*cos(theta)\n",
    "tCM"
   ]
  },
  {
   "cell_type": "code",
   "execution_count": 42,
   "metadata": {},
   "outputs": [
    {
     "data": {
      "image/png": "[encoded data removed]",
      "text/latex": [
       "$\\displaystyle - 2 E^{2} + 2 \\sqrt{E^{2} - M^{2}} \\sqrt{E^{2} - m^{2}} \\cos{\\left(\\theta \\right)}$"
      ],
      "text/plain": [
       "              _________    _________       \n",
       "     2       ╱  2    2    ╱  2    2        \n",
       "- 2⋅E  + 2⋅╲╱  E  - M  ⋅╲╱  E  - m  ⋅cos(θ)"
      ]
     },
     "execution_count": 42,
     "metadata": {},
     "output_type": "execute_result"
    }
   ],
   "source": [
    "t0CM=tCM-m**2-M**2\n",
    "t0CM"
   ]
  },
  {
   "cell_type": "code",
   "execution_count": 43,
   "metadata": {},
   "outputs": [
    {
     "data": {
      "image/png": "[encoded data removed]",
      "text/latex": [
       "$\\displaystyle 4 E^{2}$"
      ],
      "text/plain": [
       "   2\n",
       "4⋅E "
      ]
     },
     "execution_count": 43,
     "metadata": {},
     "output_type": "execute_result"
    }
   ],
   "source": [
    "sCM=4*E**2\n",
    "sCM"
   ]
  },
  {
   "attachments": {},
   "cell_type": "markdown",
   "metadata": {},
   "source": [
    "and then:"
   ]
  },
  {
   "cell_type": "code",
   "execution_count": 44,
   "metadata": {},
   "outputs": [
    {
     "data": {
      "image/png": "[encoded data removed]",
      "text/latex": [
       "$\\displaystyle 0$"
      ],
      "text/plain": [
       "0"
      ]
     },
     "execution_count": 44,
     "metadata": {},
     "output_type": "execute_result"
    }
   ],
   "source": [
    "tsqav_invv1=tsqav_inv.subs(s,sCM)\n",
    "tsqav_invv2=tsqav_invv1.subs(t,tCM)\n",
    "tsqav_invv3=tsqav_invv2.subs(t0,t0CM)\n",
    "proof=simplify(tsqav_invv3-tsqav)\n",
    "proof"
   ]
  },
  {
   "attachments": {},
   "cell_type": "markdown",
   "metadata": {},
   "source": [
    "dsigma/dt is obtained by multipliying with the charge factor $e^4=16\\pi^2\\alpha^2$ and dividing by "
   ]
  },
  {
   "cell_type": "code",
   "execution_count": 45,
   "metadata": {},
   "outputs": [
    {
     "data": {
      "image/png": "[encoded data removed]",
      "text/latex": [
       "$\\displaystyle 16 \\pi s^{2} \\left(- \\frac{4 m^{2}}{s} + 1\\right)$"
      ],
      "text/plain": [
       "        ⎛     2    ⎞\n",
       "      2 ⎜  4⋅m     ⎟\n",
       "16⋅π⋅s ⋅⎜- ──── + 1⎟\n",
       "        ⎝   s      ⎠"
      ]
     },
     "execution_count": 45,
     "metadata": {},
     "output_type": "execute_result"
    }
   ],
   "source": [
    "factor=16*pi*s**2*(1-4*m**2/s)\n",
    "factor"
   ]
  },
  {
   "attachments": {},
   "cell_type": "markdown",
   "metadata": {},
   "source": [
    "resulting in"
   ]
  },
  {
   "cell_type": "code",
   "execution_count": 46,
   "metadata": {},
   "outputs": [
    {
     "data": {
      "image/png": "[encoded data removed]",
      "text/latex": [
       "$\\displaystyle \\frac{2 \\pi \\alpha^{2} \\cdot \\left(1 + \\frac{2 t}{s} + \\frac{2 t_{0}^{2}}{s^{2}}\\right)}{s^{2} \\left(- \\frac{4 m^{2}}{s} + 1\\right)}$"
      ],
      "text/plain": [
       "       ⎛              2⎞\n",
       "     2 ⎜    2⋅t   2⋅t₀ ⎟\n",
       "2⋅π⋅α ⋅⎜1 + ─── + ─────⎟\n",
       "       ⎜     s       2 ⎟\n",
       "       ⎝            s  ⎠\n",
       "────────────────────────\n",
       "       ⎛     2    ⎞     \n",
       "     2 ⎜  4⋅m     ⎟     \n",
       "    s ⋅⎜- ──── + 1⎟     \n",
       "       ⎝   s      ⎠     "
      ]
     },
     "execution_count": 46,
     "metadata": {},
     "output_type": "execute_result"
    }
   ],
   "source": [
    "dsigdt=2*pi*alpha**2/s**2*1/(1-4*m**2/s)*(1+2*t0**2/s**2+2*t/s)\n",
    "dsigdt"
   ]
  },
  {
   "cell_type": "code",
   "execution_count": 47,
   "metadata": {},
   "outputs": [
    {
     "data": {
      "image/png": "[encoded data removed]",
      "text/latex": [
       "$\\displaystyle 0$"
      ],
      "text/plain": [
       "0"
      ]
     },
     "execution_count": 47,
     "metadata": {},
     "output_type": "execute_result"
    }
   ],
   "source": [
    "proof=simplify(dsigdt-16*pi**2*alpha**2/factor*tsqav_inv)\n",
    "proof"
   ]
  },
  {
   "attachments": {},
   "cell_type": "markdown",
   "metadata": {},
   "source": [
    "That is\n",
    "$$\\frac{\\mathrm{d}\\sigma }{\\mathrm{d}t}=\\frac{2\\pi\\alpha^{2}}{s^{2}}\\frac{1}{1-4m^{2}/s}\\left(1+\\frac{2t_{0}^{2}}{s^{2}}+\\frac{2t}{s}\\right)\\enspace.$$\n",
    "Expressed in CM variables we get for  $m=0$:"
   ]
  },
  {
   "cell_type": "code",
   "execution_count": 48,
   "metadata": {},
   "outputs": [
    {
     "data": {
      "image/png": "[encoded data removed]",
      "text/latex": [
       "$\\displaystyle - \\sin^{2}{\\left(\\theta \\right)} + 2 + \\frac{M^{2} \\sin^{2}{\\left(\\theta \\right)}}{E^{2}}$"
      ],
      "text/plain": [
       "                 2    2   \n",
       "     2          M ⋅sin (θ)\n",
       "- sin (θ) + 2 + ──────────\n",
       "                     2    \n",
       "                    E     "
      ]
     },
     "execution_count": 48,
     "metadata": {},
     "output_type": "execute_result"
    }
   ],
   "source": [
    "tsqav_invv4=simplify(tsqav_invv3.subs(m,0))\n",
    "tsqav_invv4"
   ]
  },
  {
   "attachments": {},
   "cell_type": "markdown",
   "metadata": {},
   "source": [
    "$d\\sigma/d\\Omega$ is easily calculated:"
   ]
  },
  {
   "cell_type": "code",
   "execution_count": 49,
   "metadata": {},
   "outputs": [
    {
     "name": "stdout",
     "output_type": "stream",
     "text": [
      "dsigdtv1=\n"
     ]
    },
    {
     "data": {
      "image/png": "[encoded data removed]",
      "text/latex": [
       "$\\displaystyle \\frac{\\pi \\alpha^{2} \\left(- \\sin^{2}{\\left(\\theta \\right)} + 2 + \\frac{M^{2} \\sin^{2}{\\left(\\theta \\right)}}{E^{2}}\\right)}{16 E^{4}}$"
      ],
      "text/plain": [
       "     ⎛                 2    2   ⎞\n",
       "   2 ⎜     2          M ⋅sin (θ)⎟\n",
       "π⋅α ⋅⎜- sin (θ) + 2 + ──────────⎟\n",
       "     ⎜                     2    ⎟\n",
       "     ⎝                    E     ⎠\n",
       "─────────────────────────────────\n",
       "                  4              \n",
       "              16⋅E               "
      ]
     },
     "execution_count": 49,
     "metadata": {},
     "output_type": "execute_result"
    }
   ],
   "source": [
    "factor1=factor.subs(m,0)\n",
    "factor2=factor1.subs(s,sCM)\n",
    "dsigdtv1=16*pi**2*alpha**2/factor2*tsqav_invv4\n",
    "print('dsigdtv1='); dsigdtv1"
   ]
  },
  {
   "cell_type": "code",
   "execution_count": 50,
   "metadata": {},
   "outputs": [
    {
     "data": {
      "image/png": "[encoded data removed]",
      "text/latex": [
       "$\\displaystyle \\frac{\\alpha^{2} \\sqrt{1 - \\frac{M^{2}}{E^{2}}} \\left(- \\sin^{2}{\\left(\\theta \\right)} + 2 + \\frac{M^{2} \\sin^{2}{\\left(\\theta \\right)}}{E^{2}}\\right)}{16 E^{2}}$"
      ],
      "text/plain": [
       "         ________                             \n",
       "        ╱      2  ⎛                 2    2   ⎞\n",
       " 2     ╱      M   ⎜     2          M ⋅sin (θ)⎟\n",
       "α ⋅   ╱   1 - ── ⋅⎜- sin (θ) + 2 + ──────────⎟\n",
       "     ╱         2  ⎜                     2    ⎟\n",
       "   ╲╱         E   ⎝                    E     ⎠\n",
       "──────────────────────────────────────────────\n",
       "                        2                     \n",
       "                    16⋅E                      "
      ]
     },
     "execution_count": 50,
     "metadata": {},
     "output_type": "execute_result"
    }
   ],
   "source": [
    "dsigdOm=dsigdtv1*E**2*sqrt(1-M**2/E**2)/pi\n",
    "dsigdOm"
   ]
  },
  {
   "attachments": {},
   "cell_type": "markdown",
   "metadata": {},
   "source": [
    "or using $\\beta_{\\mu}=\\sqrt{1-M^2/E^2}$\n",
    "$$\\frac{\\mathrm{d}\\sigma}{\\mathrm{d}\\Omega}=\\frac{\\alpha^{2}\\beta _{\\mu}}{16E^{2}}\\left(1+\\frac{M^{2}}{E^{2}}+\\beta _{\\mu}^{2}\\cos^{2}\\Theta\\right)\\enspace.$$\n",
    "For $m=M=0$ we have\n",
    "$$\\frac{\\mathrm{d}\\sigma}{\\mathrm{d}t}=\\frac{2\\pi\\alpha^{2}}{s^{2}}\\left(\\frac{t^{2}+u^{2}}{s^{2}}\\right)\\enspace$$\n",
    "or"
   ]
  },
  {
   "cell_type": "code",
   "execution_count": 52,
   "metadata": {},
   "outputs": [
    {
     "data": {
      "image/png": "[encoded data removed]",
      "text/latex": [
       "$\\displaystyle \\frac{\\alpha^{2} \\cdot \\left(2 - \\sin^{2}{\\left(\\theta \\right)}\\right)}{16 E^{2}}$"
      ],
      "text/plain": [
       " 2 ⎛       2   ⎞\n",
       "α ⋅⎝2 - sin (θ)⎠\n",
       "────────────────\n",
       "         2      \n",
       "     16⋅E       "
      ]
     },
     "execution_count": 52,
     "metadata": {},
     "output_type": "execute_result"
    }
   ],
   "source": [
    "dsigdOmv1=dsigdOm.subs(M,0)\n",
    "dsigdOmv1"
   ]
  },
  {
   "attachments": {},
   "cell_type": "markdown",
   "metadata": {},
   "source": [
    "that is\n",
    "$$\\frac{\\mathrm{d}\\sigma}{\\mathrm{d}\\Omega}(e^{-}e^{+}\\rightarrow\\mu^{-}\\mu^{+})=\\frac{\\alpha^{2}}{16E^{2}}(1+\\cos^{2}\\Theta)$$\n",
    "with the total cross section"
   ]
  },
  {
   "cell_type": "code",
   "execution_count": 53,
   "metadata": {},
   "outputs": [
    {
     "name": "stdout",
     "output_type": "stream",
     "text": [
      "sigQED=\n"
     ]
    },
    {
     "data": {
      "image/png": "[encoded data removed]",
      "text/latex": [
       "$\\displaystyle \\frac{\\pi \\alpha^{2}}{3 E^{2}}$"
      ],
      "text/plain": [
       "   2\n",
       "π⋅α \n",
       "────\n",
       "   2\n",
       "3⋅E "
      ]
     },
     "execution_count": 53,
     "metadata": {},
     "output_type": "execute_result"
    }
   ],
   "source": [
    "sigQED=2*pi*integrate(sin(theta)*dsigdOmv1,(theta,0,pi))\n",
    "print('sigQED=')\n",
    "sigQED"
   ]
  },
  {
   "attachments": {},
   "cell_type": "markdown",
   "metadata": {},
   "source": [
    "or\n",
    "$$\\sigma_{QED}=\\frac{4\\pi\\alpha^{2}}{3s}\\enspace.$$\n"
   ]
  },
  {
   "attachments": {},
   "cell_type": "markdown",
   "metadata": {},
   "source": [
    "### 4)  Polarized beams\n",
    "It is also very interesting to study myon production by polarized electrons and positrons. In electron positron storage rings the beams become polarized after a while with the positron spin along the field (upward) and the electron spin downward. The standard method is again using traces and/or discussing general properties of products of currents. Having all amplitudes available the direct calculation is easy after understanding the kinematics.\n",
    "\n",
    "We take the field along the x-axis (see figure). \n",
    "![](Kap2fig8.jpg) \n",
    "\n",
    "Instead of calculating the production of myons in the direction $\\phi$ in the xy plane we consider the equivalent kinematical situation of $e^+$ incoming along $\\phi$, $e^-$ in the opposite direction, production of myons (antimyons) along the $z$ (-$z$) axis. Thus we don't need to set up new $\\phi$ dependent vectors $p_3,p_4$. \n",
    "\n",
    "x-axis upward spin states of positrons travelling in direction $\\phi$ in the xy plane are calculated from the first column of the transformation matrix \n",
    "$$D^{{1/2}}=\\left(\\begin{matrix}\\cos(\\theta/2)&-\\mathrm{e}^{{-\\mathrm{i}\\phi}}\\sin(\\theta/2)\\\\ \\mathrm{e}^{{\\mathrm{i}\\phi}}\\sin(\\theta/2)&\\cos(\\theta/2)\\end{matrix}\\right)\\enspace.$$\n",
    "i.e. with $\\theta=\\pi/2$\n",
    "$$\\left|\\uparrow\\right\\rangle={\\textstyle\\frac{1}{\\sqrt{2}}\\left(|\\frac{1}{2}\\rangle+\\mathrm{e}^{{\\mathrm{i}\\phi}}|\\frac{-1}{2}\\rangle\\right)}$$\n",
    "\n",
    "Likewise from the second column for electrons with spin down\n",
    "$$\\left|\\downarrow\\right\\rangle={\\textstyle\\frac{1}{\\sqrt{2}}\\left(-\\mathrm{e}^{{\\mathrm{-i}\\phi}}|\\frac{1}{2}\\rangle+|\\frac{-1}{2}\\rangle\\right)}$$\n",
    "\n",
    "The translation into helicity states on the right hand side results in (watch the flip for electrons travelling in the opposite direction):\n",
    "$$\\begin{array}[]{ll}\\left|e^+\\uparrow\\right\\rangle&={\\textstyle\\frac{1}{\\sqrt{2}}\\left(|e^+_+\\rangle+\\mathrm{e}^{{\\mathrm{i}\\phi}}|e^+_-\\rangle\\right)}\\\\ \\left|e^-\\downarrow\\right\\rangle&={\\textstyle\\frac{1}{\\sqrt{2}}\\left(-\\mathrm{e}^{{-\\mathrm{i}\\phi}}|e^-_-\\rangle+|e^-_+\\rangle\\right)}\\enspace.\\end{array}$$\n",
    "The initial state is given by the product of these states, for $m=0$ only the mixed states contribute to the current as can be seen from section 2. \n",
    "$$\\left|e^+\\uparrow\\right\\rangle\\left|e^-\\downarrow\\right\\rangle=\\textstyle\\frac{1}{2}\\left(-\\mathrm{e}^{{-\\mathrm{i}\\phi}}|e^-_-\\rangle|e^+_+\\rangle+\\mathrm{e}^{{\\mathrm{i}\\phi}}|e^-_+\\rangle|e^+_-\\rangle\\right)\\enspace .$$ Lets start with $\\mu^-_-\\mu^+_+$.\n",
    "Because of parity invariance the amplitude\n",
    "$$\\bar{v}_-(p_2)\\gamma^{\\mu}u_+(p_1)\\bar{u}_-(p_3)\\gamma _{\\mu}v_+(p_4)\\frac{1}{q^{2}}$$\n",
    "equals $t_4$ and therefore the amplitude pol1 for $\\mu^-_-\\mu^+_+$ production is\n"
   ]
  },
  {
   "cell_type": "code",
   "execution_count": 29,
   "metadata": {},
   "outputs": [
    {
     "data": {
      "image/png": "[encoded data removed]",
      "text/latex": [
       "$\\displaystyle \\frac{\\left(1 - \\cos{\\left(\\theta \\right)}\\right) e^{i \\phi}}{2} - \\frac{\\left(\\cos{\\left(\\theta \\right)} + 1\\right) e^{- i \\phi}}{2}$"
      ],
      "text/plain": [
       "              ⅈ⋅φ                 -ⅈ⋅φ\n",
       "(1 - cos(θ))⋅ℯ      (cos(θ) + 1)⋅ℯ    \n",
       "───────────────── - ──────────────────\n",
       "        2                   2         "
      ]
     },
     "execution_count": 29,
     "metadata": {},
     "output_type": "execute_result"
    }
   ],
   "source": [
    "pol1tmp=(-exp(-I*phi)*t1+exp(I*phi)*t4)/2\n",
    "pol1tmp"
   ]
  },
  {
   "cell_type": "code",
   "execution_count": 30,
   "metadata": {},
   "outputs": [
    {
     "name": "stdout",
     "output_type": "stream",
     "text": [
      "pol1=\n"
     ]
    },
    {
     "data": {
      "image/png": "[encoded data removed]",
      "text/latex": [
       "$\\displaystyle i \\sin{\\left(\\phi \\right)} - \\cos{\\left(\\phi \\right)} \\cos{\\left(\\theta \\right)}$"
      ],
      "text/plain": [
       "ⅈ⋅sin(φ) - cos(φ)⋅cos(θ)"
      ]
     },
     "execution_count": 30,
     "metadata": {},
     "output_type": "execute_result"
    }
   ],
   "source": [
    "pol1=-cos(phi)*cos(theta)+I*sin(phi);print('pol1='); pol1"
   ]
  },
  {
   "attachments": {},
   "cell_type": "markdown",
   "metadata": {},
   "source": [
    "Similarly for $\\mu^-_+\\mu^+_-$"
   ]
  },
  {
   "cell_type": "code",
   "execution_count": 31,
   "metadata": {},
   "outputs": [
    {
     "data": {
      "image/png": "[encoded data removed]",
      "text/latex": [
       "$\\displaystyle - \\frac{\\left(1 - \\cos{\\left(\\theta \\right)}\\right) e^{- i \\phi}}{2} + \\frac{\\left(\\cos{\\left(\\theta \\right)} + 1\\right) e^{i \\phi}}{2}$"
      ],
      "text/plain": [
       "                -ⅈ⋅φ                 ⅈ⋅φ\n",
       "  (1 - cos(θ))⋅ℯ       (cos(θ) + 1)⋅ℯ   \n",
       "- ────────────────── + ─────────────────\n",
       "          2                    2        "
      ]
     },
     "execution_count": 31,
     "metadata": {},
     "output_type": "execute_result"
    }
   ],
   "source": [
    "pol2tmp=(-exp(-I*phi)*t4+exp(I*phi)*t1)/2\n",
    "pol2tmp"
   ]
  },
  {
   "cell_type": "code",
   "execution_count": 32,
   "metadata": {},
   "outputs": [
    {
     "data": {
      "image/png": "[encoded data removed]",
      "text/latex": [
       "$\\displaystyle i \\sin{\\left(\\phi \\right)} + \\cos{\\left(\\phi \\right)} \\cos{\\left(\\theta \\right)}$"
      ],
      "text/plain": [
       "ⅈ⋅sin(φ) + cos(φ)⋅cos(θ)"
      ]
     },
     "execution_count": 32,
     "metadata": {},
     "output_type": "execute_result"
    }
   ],
   "source": [
    "pol2=cos(phi)*cos(theta)+I*sin(phi);pol2"
   ]
  },
  {
   "cell_type": "code",
   "execution_count": 33,
   "metadata": {},
   "outputs": [
    {
     "data": {
      "image/png": "[encoded data removed]",
      "text/latex": [
       "$\\displaystyle 2 \\sin^{2}{\\left(\\phi \\right)} + 2 \\cos^{2}{\\left(\\phi \\right)} \\cos^{2}{\\left(\\theta \\right)}$"
      ],
      "text/plain": [
       "     2           2       2   \n",
       "2⋅sin (φ) + 2⋅cos (φ)⋅cos (θ)"
      ]
     },
     "execution_count": 33,
     "metadata": {},
     "output_type": "execute_result"
    }
   ],
   "source": [
    "polsqP=2*simplify(pol1*conjugate(pol1))\n",
    "polsqP"
   ]
  },
  {
   "cell_type": "code",
   "execution_count": 34,
   "metadata": {},
   "outputs": [
    {
     "data": {
      "image/png": "[encoded data removed]",
      "text/latex": [
       "$\\displaystyle - 2 \\sin^{2}{\\left(\\theta \\right)} \\cos^{2}{\\left(\\phi \\right)} + 2$"
      ],
      "text/plain": [
       "       2       2       \n",
       "- 2⋅sin (θ)⋅cos (φ) + 2"
      ]
     },
     "execution_count": 34,
     "metadata": {},
     "output_type": "execute_result"
    }
   ],
   "source": [
    "polsqP=2-2*sin(theta)**2*cos(phi)**2;polsqP"
   ]
  },
  {
   "attachments": {},
   "cell_type": "markdown",
   "metadata": {},
   "source": [
    "For $M=0$ no other amplitudes contribute ($t_2=t_3=0$). The final result therefore reads\n",
    "$$\\frac{\\mathrm{d}\\sigma}{\\mathrm{d}\\Omega}(e^{-}_\\downarrow e^{+}_\\uparrow\\rightarrow\\mu^{-}\\mu^{+})=\\frac{\\alpha^{2}}{8E^{2}}(1-\\sin^{2}\\theta\\cos^{2}\\phi)\\enspace $$\n",
    "\n",
    "as in the standard reference Y.S.Tsai, PRD12, 3533 (1975).\n",
    "\n",
    "The polarization of the beams is never complete. Designing the product of polarizations by $P^2$ with\n",
    "$ 0\\leq P^2 \\leq 1$ we must add polsqP and polsqU in an obvious manner."
   ]
  },
  {
   "cell_type": "code",
   "execution_count": 35,
   "metadata": {},
   "outputs": [
    {
     "data": {
      "image/png": "[encoded data removed]",
      "text/latex": [
       "$\\displaystyle \\cos^{2}{\\left(\\theta \\right)} + 1$"
      ],
      "text/plain": [
       "   2       \n",
       "cos (θ) + 1"
      ]
     },
     "execution_count": 35,
     "metadata": {},
     "output_type": "execute_result"
    }
   ],
   "source": [
    "polsqU=1+cos(theta)**2;polsqU"
   ]
  },
  {
   "cell_type": "code",
   "execution_count": 36,
   "metadata": {},
   "outputs": [
    {
     "data": {
      "image/png": "[encoded data removed]",
      "text/latex": [
       "$\\displaystyle P^{2} \\left(- 2 \\sin^{2}{\\left(\\theta \\right)} \\cos^{2}{\\left(\\phi \\right)} + 2\\right) + \\left(1 - P^{2}\\right) \\left(\\cos^{2}{\\left(\\theta \\right)} + 1\\right)$"
      ],
      "text/plain": [
       " 2 ⎛       2       2       ⎞   ⎛     2⎞ ⎛   2       ⎞\n",
       "P ⋅⎝- 2⋅sin (θ)⋅cos (φ) + 2⎠ + ⎝1 - P ⎠⋅⎝cos (θ) + 1⎠"
      ]
     },
     "execution_count": 36,
     "metadata": {},
     "output_type": "execute_result"
    }
   ],
   "source": [
    "sig=P**2*polsqP+(1-P**2)*polsqU;sig"
   ]
  },
  {
   "cell_type": "code",
   "execution_count": 37,
   "metadata": {},
   "outputs": [
    {
     "data": {
      "image/png": "[encoded data removed]",
      "text/latex": [
       "$\\displaystyle 2 P^{2} \\left(- \\sin^{2}{\\left(\\theta \\right)} \\cos^{2}{\\left(\\phi \\right)} + 1\\right) + \\left(1 - P^{2}\\right) \\left(\\cos^{2}{\\left(\\theta \\right)} + 1\\right)$"
      ],
      "text/plain": [
       "   2 ⎛     2       2       ⎞   ⎛     2⎞ ⎛   2       ⎞\n",
       "2⋅P ⋅⎝- sin (θ)⋅cos (φ) + 1⎠ + ⎝1 - P ⎠⋅⎝cos (θ) + 1⎠"
      ]
     },
     "execution_count": 37,
     "metadata": {},
     "output_type": "execute_result"
    }
   ],
   "source": [
    "simplify(sig)"
   ]
  },
  {
   "attachments": {},
   "cell_type": "markdown",
   "metadata": {},
   "source": [
    "or alternatively"
   ]
  },
  {
   "cell_type": "code",
   "execution_count": 38,
   "metadata": {},
   "outputs": [
    {
     "data": {
      "image/png": "[encoded data removed]",
      "text/latex": [
       "$\\displaystyle - P^{2} \\sin^{2}{\\left(\\theta \\right)} \\cos{\\left(2 \\phi \\right)} + \\cos^{2}{\\left(\\theta \\right)} + 1$"
      ],
      "text/plain": [
       "   2    2                  2       \n",
       "- P ⋅sin (θ)⋅cos(2⋅φ) + cos (θ) + 1"
      ]
     },
     "execution_count": 38,
     "metadata": {},
     "output_type": "execute_result"
    }
   ],
   "source": [
    "sigalt=polsqU-P**2*sin(theta)**2*cos(2*phi);sigalt"
   ]
  },
  {
   "cell_type": "code",
   "execution_count": 39,
   "metadata": {},
   "outputs": [
    {
     "data": {
      "image/png": "[encoded data removed]",
      "text/latex": [
       "$\\displaystyle 0$"
      ],
      "text/plain": [
       "0"
      ]
     },
     "execution_count": 39,
     "metadata": {},
     "output_type": "execute_result"
    }
   ],
   "source": [
    "simplify(sig-sigalt)"
   ]
  },
  {
   "attachments": {},
   "cell_type": "markdown",
   "metadata": {},
   "source": [
    "Finally we follow the custom of the experimentalists, to take the storage ring plane spanned by the $x$ and $z$ axis  as scattering plane and the field along the $y$ axis. With $\\phi\\rightarrow \\pi/2-\\phi$ we get\n",
    "$$\\frac{\\mathrm{d}\\sigma}{\\mathrm{d}\\Omega}(e^{-}_\\downarrow e^{+}_\\uparrow\\rightarrow\\mu^{-}\\mu^{+})=\\frac{\\alpha^{2}}{16E^{2}}(1+\\cos^{2}\\theta +P^2\\sin^{2}\\theta\\cos 2\\phi)\\enspace $$\n",
    "\n"
   ]
  },
  {
   "attachments": {},
   "cell_type": "markdown",
   "metadata": {},
   "source": [
    "### 5) Mott and Rutherford scattering\n",
    "The cross section for electron myon scattering can be immediately obtained from tsqav_inv with the substitution $s\\leftrightarrow t$ following from crossing symmetry. "
   ]
  },
  {
   "cell_type": "code",
   "execution_count": 40,
   "metadata": {},
   "outputs": [
    {
     "name": "stdout",
     "output_type": "stream",
     "text": [
      "tsqav_sc=\n"
     ]
    },
    {
     "data": {
      "image/png": "[encoded data removed]",
      "text/latex": [
       "$\\displaystyle \\frac{4 s t + 4 s_{0}^{2} + 2 t^{2}}{t^{2}}$"
      ],
      "text/plain": [
       "            2      2\n",
       "4⋅s⋅t + 4⋅s₀  + 2⋅t \n",
       "────────────────────\n",
       "          2         \n",
       "         t          "
      ]
     },
     "execution_count": 40,
     "metadata": {},
     "output_type": "execute_result"
    }
   ],
   "source": [
    "tsqav_sc=2*(2*s0**2+t**2+2*t*s)/t**2\n",
    "print('tsqav_sc='); tsqav_sc"
   ]
  },
  {
   "cell_type": "code",
   "execution_count": 41,
   "metadata": {},
   "outputs": [
    {
     "data": {
      "image/png": "[encoded data removed]",
      "text/latex": [
       "$\\displaystyle \\frac{\\pi \\alpha^{2} \\cdot \\left(4 s t + 4 s_{0}^{2} + 2 t^{2}\\right)}{s_{0}^{2} t^{2} \\left(- \\frac{4 M^{2} m^{2}}{s_{0}^{2}} + 1\\right)}$"
      ],
      "text/plain": [
       "   2 ⎛            2      2⎞\n",
       "π⋅α ⋅⎝4⋅s⋅t + 4⋅s₀  + 2⋅t ⎠\n",
       "───────────────────────────\n",
       "          ⎛     2  2    ⎞  \n",
       "     2  2 ⎜  4⋅M ⋅m     ⎟  \n",
       "   s₀ ⋅t ⋅⎜- ─────── + 1⎟  \n",
       "          ⎜      2      ⎟  \n",
       "          ⎝    s₀       ⎠  "
      ]
     },
     "execution_count": 41,
     "metadata": {},
     "output_type": "execute_result"
    }
   ],
   "source": [
    "16*pi**2*alpha**2/(16*pi*s0**2*(1-4*m**2*M**2/s0**2))*tsqav_sc"
   ]
  },
  {
   "attachments": {},
   "cell_type": "markdown",
   "metadata": {},
   "source": [
    "$$\\frac{\\mathrm{d}\\sigma }{\\mathrm{d}t}(e\\mu\\rightarrow e\\mu)=\\frac{4\\pi\\alpha^{2}}{t^{2}}\n",
    "\\frac{1}{1-4m^{2}M^2/s_0^2}\\left(1+\\frac{t^{2}}{2s_0^{2}}+\\frac{ts}{s_0^2}\\right)\\enspace.$$"
   ]
  },
  {
   "attachments": {},
   "cell_type": "markdown",
   "metadata": {},
   "source": [
    "Scattering on muons at rest (Lab system) reads with $s_0=s-m^2-M^2=2EM$, $p=\\sqrt{E^2-m^2}$, $\\beta=p/E$"
   ]
  },
  {
   "cell_type": "code",
   "execution_count": 42,
   "metadata": {
    "scrolled": true
   },
   "outputs": [
    {
     "data": {
      "image/png": "[encoded data removed]",
      "text/latex": [
       "$\\displaystyle \\frac{4 \\pi \\alpha^{2} \\cdot \\left(1 + \\frac{s t}{4 E^{2} M^{2}} + \\frac{t^{2}}{8 E^{2} M^{2}}\\right)}{\\beta^{2} t^{2}}$"
      ],
      "text/plain": [
       "       ⎛                  2  ⎞\n",
       "     2 ⎜      s⋅t        t   ⎟\n",
       "4⋅π⋅α ⋅⎜1 + ─────── + ───────⎟\n",
       "       ⎜       2  2      2  2⎟\n",
       "       ⎝    4⋅E ⋅M    8⋅E ⋅M ⎠\n",
       "──────────────────────────────\n",
       "             2  2             \n",
       "            β ⋅t              "
      ]
     },
     "execution_count": 42,
     "metadata": {},
     "output_type": "execute_result"
    }
   ],
   "source": [
    "dsigdtLab=4*pi*alpha**2/t**2/beta**2*(1+t**2/8/E**2/M**2+t*s/4/E**2/M**2);dsigdtLab"
   ]
  },
  {
   "attachments": {},
   "cell_type": "markdown",
   "metadata": {},
   "source": [
    "An important application is $M\\rightarrow\\infty$ yielding the Mott cross section for \n",
    "electron scattering in a Coulomb field. For the scattering of low energy electrons $s\\approx M^2$\n",
    "holds, resulting in"
   ]
  },
  {
   "cell_type": "code",
   "execution_count": 43,
   "metadata": {},
   "outputs": [
    {
     "data": {
      "image/png": "[encoded data removed]",
      "text/latex": [
       "$\\displaystyle \\frac{4 \\pi \\alpha^{2} \\cdot \\left(1 + \\frac{t}{4 E^{2}}\\right)}{\\beta^{2} t^{2}}$"
      ],
      "text/plain": [
       "     2 ⎛     t  ⎞\n",
       "4⋅π⋅α ⋅⎜1 + ────⎟\n",
       "       ⎜       2⎟\n",
       "       ⎝    4⋅E ⎠\n",
       "─────────────────\n",
       "       2  2      \n",
       "      β ⋅t       "
      ]
     },
     "execution_count": 43,
     "metadata": {},
     "output_type": "execute_result"
    }
   ],
   "source": [
    "dsigdtMott=4*pi*alpha**2/t**2/beta**2*(1+t/4/E**2);dsigdtMott"
   ]
  },
  {
   "cell_type": "code",
   "execution_count": 44,
   "metadata": {},
   "outputs": [
    {
     "data": {
      "image/png": "[encoded data removed]",
      "text/latex": [
       "$\\displaystyle \\frac{\\pi \\alpha^{2} \\left(- \\beta^{2} \\sin^{2}{\\left(\\frac{\\theta}{2} \\right)} + 1\\right)}{4 E^{4} \\beta^{6} \\sin^{4}{\\left(\\frac{\\theta}{2} \\right)}}$"
      ],
      "text/plain": [
       "   2 ⎛   2    2⎛θ⎞    ⎞\n",
       "π⋅α ⋅⎜- β ⋅sin ⎜─⎟ + 1⎟\n",
       "     ⎝         ⎝2⎠    ⎠\n",
       "───────────────────────\n",
       "       4  6    4⎛θ⎞    \n",
       "    4⋅E ⋅β ⋅sin ⎜─⎟    \n",
       "                ⎝2⎠    "
      ]
     },
     "execution_count": 44,
     "metadata": {},
     "output_type": "execute_result"
    }
   ],
   "source": [
    "dsigdtMottv1=dsigdtMott.subs(t,-4*beta**2*E**2*sin(theta/2)**2);dsigdtMottv1"
   ]
  },
  {
   "cell_type": "code",
   "execution_count": 45,
   "metadata": {},
   "outputs": [
    {
     "data": {
      "image/png": "[encoded data removed]",
      "text/latex": [
       "$\\displaystyle \\frac{\\pi \\alpha^{2} \\left(- \\beta^{2} \\sin^{2}{\\left(\\frac{\\theta}{2} \\right)} + 1\\right)}{4 \\beta^{2} p^{4} \\sin^{4}{\\left(\\frac{\\theta}{2} \\right)}}$"
      ],
      "text/plain": [
       "   2 ⎛   2    2⎛θ⎞    ⎞\n",
       "π⋅α ⋅⎜- β ⋅sin ⎜─⎟ + 1⎟\n",
       "     ⎝         ⎝2⎠    ⎠\n",
       "───────────────────────\n",
       "       2  4    4⎛θ⎞    \n",
       "    4⋅β ⋅p ⋅sin ⎜─⎟    \n",
       "                ⎝2⎠    "
      ]
     },
     "execution_count": 45,
     "metadata": {},
     "output_type": "execute_result"
    }
   ],
   "source": [
    "dsigdtMottv1.subs(E,p/beta)"
   ]
  },
  {
   "attachments": {},
   "cell_type": "markdown",
   "metadata": {},
   "source": [
    "or finally with $dt=p^2d\\Omega/\\pi$ "
   ]
  },
  {
   "attachments": {},
   "cell_type": "markdown",
   "metadata": {},
   "source": [
    "$$\\left(\\frac{\\mathrm{d}\\sigma}{\\mathrm{d}\\Omega}\\right)_{\\rm Mott}\n",
    "=\\frac{\\alpha^{2}}{4{p}^{2}\\beta^{2}\\sin^{4}(\\theta/2)}\\left(1-\\beta^{2}\\sin^{2}(\\theta/2)\\right)$$"
   ]
  },
  {
   "attachments": {},
   "cell_type": "markdown",
   "metadata": {},
   "source": [
    "For $\\beta\\rightarrow 0$ one has $p\\rightarrow m\\beta$ and only the Rutherford cross section survives:\n",
    "\n",
    "$$\\left(\\frac{\\mathrm{d}\\sigma}{\\mathrm{d}\\Omega}\\right)_{\\rm Ruth}\n",
    "=\\frac{\\alpha^{2}}{4{m}^{2}\\beta^{4}\\sin^{4}(\\theta/2)}$$"
   ]
  },
  {
   "attachments": {},
   "cell_type": "markdown",
   "metadata": {},
   "source": [
    "Another important application of line 41 is myon scattering of electrons at rest. Using the second equality in\n",
    "$t=(p_a-p_e)^2=(k_a-k_e)^2$ we get $t=2(E-E')M$, withe $E'$ the energy of the outgoing myon. Defining the relative energy loss $y=-t/s_0=(E-E')/E$ we get\n",
    "\n",
    "$$\\frac{\\mathrm{d}\\sigma}{\\mathrm{d}y}(\\mu e\\rightarrow \\mu e)=\\frac{2\\pi\\alpha^{2}}{Em\\beta_\\mu^2 y^{2}}\\left(1-y\\frac{s}{s_{0}}+\\frac{y^{2}}{2}\\right)$$\n",
    "\n",
    "the starting point for calculating the energy loss of myons in matter."
   ]
  },
  {
   "cell_type": "code",
   "execution_count": null,
   "metadata": {},
   "outputs": [],
   "source": []
  }
 ],
 "metadata": {
  "kernelspec": {
   "display_name": "Python 3 (ipykernel)",
   "language": "python",
   "name": "python3"
  },
  "language_info": {
   "codemirror_mode": {
    "name": "ipython",
    "version": 3
   },
   "file_extension": ".py",
   "mimetype": "text/x-python",
   "name": "python",
   "nbconvert_exporter": "python",
   "pygments_lexer": "ipython3",
   "version": "3.10.12"
  }
 },
 "nbformat": 4,
 "nbformat_minor": 2
}
