{
 "cells": [
  {
   "cell_type": "code",
   "execution_count": null,
   "metadata": {},
   "outputs": [],
   "source": [
    "from sympy import *"
   ]
  },
  {
   "cell_type": "code",
   "execution_count": null,
   "metadata": {},
   "outputs": [],
   "source": [
    "import heppackv0 as hep"
   ]
  },
  {
   "cell_type": "code",
   "execution_count": null,
   "metadata": {},
   "outputs": [],
   "source": [
    "print('The CM system is used')\n",
    "E,E0,M,M1,M2,p,Delta,m=symbols('E E0 M M1 M2 p Delta m',positive=True)\n",
    "theta,alpha,omega,=symbols('theta alpha omega',real=True)"
   ]
  },
  {
   "cell_type": "markdown",
   "metadata": {},
   "source": [
    "We consider neutron decay $n\\rightarrow p e^-\\bar{\\nu_e}$ or $d$ quark decay\n",
    "$d\\rightarrow u e^-\\bar{\\nu_e}$ in the approximation where the recoil of the\n",
    "outgoing neutron ($u$ quark) is neglected."
   ]
  },
  {
   "cell_type": "code",
   "execution_count": null,
   "metadata": {},
   "outputs": [],
   "source": [
    "ki=[M,M,0,0]\n",
    "pout=[E,m,theta,0]\n",
    "kf=[M1,M1,0,0]\n",
    "pf=[omega,0,0,0]"
   ]
  },
  {
   "cell_type": "markdown",
   "metadata": {},
   "source": [
    "### 1) Neutrons as elementary fermions\n",
    "The matrix elements are calculated from\n",
    "$$T_{{fi}}=\\frac{4G_{{\\mathrm{F}}}}{\\sqrt{2}}\\bar{u}(k_f)\n",
    "\\gamma^{\\mu}\\frac{1-\\gamma^{5}}{2}u(k_i)\\bar{u}(p_{\\rm out})\\gamma _{\\mu}\\frac{1-\\gamma^{5}}{2}v(p_i)\n",
    "\\enspace .$$\n",
    "The weak currents, e.g. $\\bar{u}(k_f)\\gamma^{\\mu}\\frac{1-\\gamma^{5}}{2}u(k_i)$ are contained in the heppackv0 package. In this ansatz the neutrons are treated as elementary fermions. "
   ]
  },
  {
   "cell_type": "code",
   "execution_count": null,
   "metadata": {},
   "outputs": [],
   "source": [
    "dec11=simplify(hep.dotprod4(hep.ubvw(pout,-1,pf,1),hep.ubuw(kf,1,ki,1)));dec11"
   ]
  },
  {
   "cell_type": "code",
   "execution_count": null,
   "metadata": {},
   "outputs": [],
   "source": [
    "dec12=simplify(hep.dotprod4(hep.ubvw(pout,1,pf,1),hep.ubuw(kf,1,ki,1)));dec12"
   ]
  },
  {
   "cell_type": "code",
   "execution_count": null,
   "metadata": {},
   "outputs": [],
   "source": [
    "simplify(dec11**2+dec12**2)"
   ]
  },
  {
   "cell_type": "code",
   "execution_count": null,
   "metadata": {},
   "outputs": [],
   "source": [
    "F=8*omega*M*M1*(E+p*cos(theta));F"
   ]
  },
  {
   "cell_type": "code",
   "execution_count": null,
   "metadata": {},
   "outputs": [],
   "source": [
    "dec21=simplify(hep.dotprod4(hep.ubvw(pout,-1,pf,1),hep.ubuw(kf,-1,ki,1)));dec21"
   ]
  },
  {
   "cell_type": "code",
   "execution_count": null,
   "metadata": {},
   "outputs": [],
   "source": [
    "dec22=simplify(hep.dotprod4(hep.ubvw(pout,1,pf,1),hep.ubuw(kf,-1,ki,1)));dec22"
   ]
  },
  {
   "cell_type": "code",
   "execution_count": null,
   "metadata": {},
   "outputs": [],
   "source": [
    "simplify(dec21**2+dec22**2)"
   ]
  },
  {
   "cell_type": "code",
   "execution_count": null,
   "metadata": {},
   "outputs": [],
   "source": [
    "GT=8*omega*M*M1*(E-p*cos(theta));GT"
   ]
  },
  {
   "cell_type": "code",
   "execution_count": null,
   "metadata": {},
   "outputs": [],
   "source": [
    "Tsqav=simplify(F+GT)/2;Tsqav"
   ]
  },
  {
   "cell_type": "markdown",
   "metadata": {},
   "source": [
    "or including the $G_F$ term\n",
    "$$\\overline{\\sum_i}|T_i|^2=64G_F^2E\\omega MM_1\\enspace .$$\n",
    "The differential decay rate for a three body decay is calculated from\n",
    "$$\\mathrm{d}\\Gamma=\\frac{1}{2M}\\int|T_{{fi}}|^{2}\\mathrm{d}L$$\n",
    "with \n",
    "$$\\mathrm{d}L=(2\\pi)^{4}\\delta^{4}(P-p_{1}-p_{2}-p_{3})\\frac{\\mathrm{d}^{3}p_{1}}{(2\\pi)^{3}2E_{1}}\\frac{\\mathrm{d}^{3}p_{2}}{(2\\pi)^{3}2E_{2}}\\frac{\\mathrm{d}^{3}p_{3}}{(2\\pi)^{3}2E_{3}}\\enspace.$$\n",
    "\n",
    "In our case the formula for $\\mathrm{d}\\Gamma$ reduces to\n",
    "$$\\mathrm{d}\\Gamma=\\frac{4G_F^2}{(2\\pi)^5}\\int\n",
    "\\delta^{4}(k_i-p_{\\rm out}-p_{f}-k_{f})\\mathrm{d}^{3}p\\mathrm{d}^{3}p_{f}\n",
    "\\mathrm{d}^{3}k_{f}\\enspace .$$\n",
    "\n",
    "The integral can be evaluated without discussing the contours of the Dalitzplot.\n",
    "Integrating over $\\mathrm{d}^{3}k_{f}$ uses up 3 dimensions of the $\\delta$-function,\n",
    "$$\\mathrm{d}\\Gamma=\\frac{4G_F^2}{(2\\pi)^5}\\int\n",
    "\\delta(M-M_1-\\omega-E)\\mathrm{d}^{3}p\\mathrm{d}^{3}p_{f}\n",
    "\\enspace .$$\n",
    "\n",
    "Using $\\mathrm{d}^{3}p_{f}=|\\vec{p_f}|^2\\mathrm{d}|\\vec{p_f}|\n",
    "\\mathrm{d}\\Omega=4\\pi\\omega^2\\mathrm{d}\\omega$ the $\\mathrm{d}^{3}p_{f}$\n",
    "integral is easily performed\n",
    "\n",
    "$$\\mathrm{d}\\Gamma=\\frac{8G_F^2}{(2\\pi)^4}\\int(M-M_1-E)^2\n",
    "\\mathrm{d}^{3}p=\\frac{8G_F^2}{(2\\pi)^3}\\int(M-M_1-E)^2p^2\n",
    "\\mathrm{d}p\\mathrm{d}\\cos\\theta\n",
    "\\enspace .$$\n",
    "\n",
    "Finally using the abbreviation $M-M_1=\\Delta$ the electron energy spectrum is given by\n",
    "\n",
    "$$\\frac{\\mathrm{d}\\Gamma}{\\mathrm{d}p}=\\frac{2G_F^2}{\\pi^3}p^2(\\Delta-E)^2\n",
    "\\enspace .$$\n",
    "\n",
    "For massless electrons the total width is easily calculated:"
   ]
  },
  {
   "cell_type": "code",
   "execution_count": null,
   "metadata": {},
   "outputs": [],
   "source": [
    "Gam0=integrate(E**2*(Delta-E)**2,(E,0,Delta));Gam0"
   ]
  },
  {
   "cell_type": "markdown",
   "metadata": {},
   "source": [
    "resulting in\n",
    "$$\\Gamma_0=\\frac{G_F^2\\Delta^5}{15\\pi^3}\\enspace ,$$\n",
    "\n",
    "whereas the integral for finite $m$ looks ugly. "
   ]
  },
  {
   "cell_type": "code",
   "execution_count": null,
   "metadata": {},
   "outputs": [],
   "source": [
    "Gam=simplify(integrate(p**2*(Delta-sqrt(p**2+m**2))**2,\n",
    "(p,0,sqrt(Delta**2-m**2))));Gam"
   ]
  },
  {
   "cell_type": "code",
   "execution_count": null,
   "metadata": {},
   "outputs": [],
   "source": [
    "print('numerical evaluation for neutron decay')\n",
    "h1=Gam.subs(m,0.511).subs(Delta,1.3) ;h1"
   ]
  },
  {
   "cell_type": "code",
   "execution_count": null,
   "metadata": {},
   "outputs": [],
   "source": [
    "print('numerical evaluation for neutron decay with m=0')\n",
    "h2=Gam0.subs(Delta,1.3);h2"
   ]
  },
  {
   "cell_type": "code",
   "execution_count": null,
   "metadata": {},
   "outputs": [],
   "source": [
    "print('Correction factor for neutron decay')\n",
    "h1/h2"
   ]
  },
  {
   "cell_type": "markdown",
   "metadata": {},
   "source": [
    "### 2) Hadronic neutron currents \n",
    "The resulting formula\n",
    "\n",
    "$$\\Gamma_0=0.476\\frac{G_F^2\\Delta^5}{15\\pi^3}\\enspace $$\n",
    "\n",
    "is not in agreement with the measured neutron decay width. Leptonic weak currents differ from hadronic weak currents\n",
    "$$\\bar{u}(k_f)\n",
    "\\gamma^{\\mu}\\frac{1-\\alpha\\gamma^{5}}{2}u(k_i)\\enspace ,$$\n",
    "where $\\alpha$ is a number ${\\cal O}(1)$ to be taken from experiment.\n",
    "Weak currents of the general form \n",
    "$$\\bar{u}(k_f)\n",
    "\\gamma^{\\mu}\\frac{C_V-C_A\\gamma^{5}}{2}u(k_i)\\enspace ,$$\n",
    "are also contained in heppackv0.py. $C_V$ and $C_A$, respectively $1$ and $C_A/C_V$ \n",
    "have to be given as 5th and 6th argument"
   ]
  },
  {
   "cell_type": "code",
   "execution_count": null,
   "metadata": {},
   "outputs": [],
   "source": [
    "T11=simplify(hep.dotprod4(hep.ubvw(pout,-1,pf,1),\n",
    "hep.ubuva(kf,1,ki,1,1,alpha)));T11"
   ]
  },
  {
   "cell_type": "code",
   "execution_count": null,
   "metadata": {},
   "outputs": [],
   "source": [
    "T12=simplify(hep.dotprod4(hep.ubvw(pout,1,pf,1),\n",
    "hep.ubuva(kf,1,ki,1,1,alpha)));T12"
   ]
  },
  {
   "cell_type": "code",
   "execution_count": null,
   "metadata": {},
   "outputs": [],
   "source": [
    "simplify(T11**2+T12**2)"
   ]
  },
  {
   "cell_type": "code",
   "execution_count": null,
   "metadata": {},
   "outputs": [],
   "source": [
    "F1=2*(1+alpha)**2*omega*M*M1*(E+p*cos(theta));F1"
   ]
  },
  {
   "cell_type": "code",
   "execution_count": null,
   "metadata": {},
   "outputs": [],
   "source": [
    "T21=simplify(hep.dotprod4(hep.ubvw(pout,-1,pf,1),\n",
    "hep.ubuva(kf,-1,ki,1,1,alpha)));T21"
   ]
  },
  {
   "cell_type": "code",
   "execution_count": null,
   "metadata": {},
   "outputs": [],
   "source": [
    "T22=simplify(hep.dotprod4(hep.ubvw(pout,1,pf,1),\n",
    "hep.ubuva(kf,-1,ki,1,1,alpha)));T22"
   ]
  },
  {
   "cell_type": "code",
   "execution_count": null,
   "metadata": {},
   "outputs": [],
   "source": [
    "simplify(T21**2+T22**2)"
   ]
  },
  {
   "cell_type": "code",
   "execution_count": null,
   "metadata": {},
   "outputs": [],
   "source": [
    "GT1=8*omega*M*M1*alpha**2*(E-p*cos(theta));GT1"
   ]
  },
  {
   "cell_type": "code",
   "execution_count": null,
   "metadata": {},
   "outputs": [],
   "source": [
    "T31=simplify(hep.dotprod4(hep.ubvw(pout,-1,pf,1),\n",
    "hep.ubuva(kf,1,ki,-1,1,alpha)));T31"
   ]
  },
  {
   "cell_type": "code",
   "execution_count": null,
   "metadata": {},
   "outputs": [],
   "source": [
    "T32=simplify(hep.dotprod4(hep.ubvw(pout,1,pf,1),\n",
    "hep.ubuva(kf,1,ki,-1,1,alpha)));T32"
   ]
  },
  {
   "cell_type": "code",
   "execution_count": null,
   "metadata": {},
   "outputs": [],
   "source": [
    "T41=simplify(hep.dotprod4(hep.ubvw(pout,-1,pf,1),\n",
    "hep.ubuva(kf,-1,ki,-1,1,alpha)));T41"
   ]
  },
  {
   "cell_type": "code",
   "execution_count": null,
   "metadata": {},
   "outputs": [],
   "source": [
    "T42=simplify(hep.dotprod4(hep.ubvw(pout,1,pf,1),\n",
    "hep.ubuva(kf,-1,ki,-1,1,alpha)));T42"
   ]
  },
  {
   "cell_type": "code",
   "execution_count": null,
   "metadata": {},
   "outputs": [],
   "source": [
    "simplify(T41**2+T42**2)"
   ]
  },
  {
   "cell_type": "code",
   "execution_count": null,
   "metadata": {},
   "outputs": [],
   "source": [
    "F2=2*(1-alpha)**2*omega*M*M1*(E+p*cos(theta));F2"
   ]
  },
  {
   "cell_type": "code",
   "execution_count": null,
   "metadata": {},
   "outputs": [],
   "source": [
    "Tdecsq=simplify(F1+F2+GT1)/2;Tdecsq"
   ]
  },
  {
   "cell_type": "markdown",
   "metadata": {},
   "source": [
    "Repeating the discussion above the evaluation of $\\mathrm{d}\\Gamma/\\mathrm{d}p$ needs  a $\\mathrm{d}\\cos\\theta$ integration.\n",
    "With $\\int_{-1}^1\\cos\\theta\\mathrm{d}\\cos\\theta=0$ the formula for the momentum spectrum has simply to be multiplied by the ratio \n",
    "$$\\frac{2E\\omega MM_1(1+3\\alpha^2)}{8E\\omega MM_1}$$\n",
    "\n",
    "of the average matrix elements squared with the result\n",
    "$$\\frac{\\mathrm{d}\\Gamma}{\\mathrm{d}p}=\\frac{G_F^2}{2\\pi^3}\n",
    "(1+3\\alpha^2)p^2(\\Delta-E)^2\n",
    "\\enspace .$$\n",
    "and\n",
    "$$\\Gamma=0.476\\frac{G_F^2\\Delta^5}{60\\pi^3}(1+3\\alpha^2)\\enspace $$\n",
    "\n",
    "Finally taking the flavor structure of the weak currents into account the\n",
    "neutron decay width is given by\n",
    "\n",
    "$$\\Gamma=0.476\\frac{G_F^2\\Delta^5}{60\\pi^3}(1+3\\alpha^2)\n",
    "\\cos\\theta_{\\rm C}\\enspace , $$\n",
    "where $\\theta_{\\rm C}$ is the Cabbibo angle.\n",
    "\n",
    "### 3) Momentum spectrum and polarization of the decay electrons\n",
    "In the next step the momentum spectrum with a normalization close to $1$ is plotted:"
   ]
  },
  {
   "cell_type": "code",
   "execution_count": null,
   "metadata": {},
   "outputs": [],
   "source": [
    "gamplot=p**2*(Delta-sqrt(p**2+m**2))**2*30/Delta**5;gamplot"
   ]
  },
  {
   "cell_type": "code",
   "execution_count": null,
   "metadata": {},
   "outputs": [],
   "source": [
    "plot(gamplot.subs(m,0.511).subs(Delta,1.3),(p,0,1.2))"
   ]
  },
  {
   "cell_type": "markdown",
   "metadata": {},
   "source": [
    "The average polarization of the decay electrons can simply be calculated from the matrix elements given in chapter 1."
   ]
  },
  {
   "cell_type": "code",
   "execution_count": null,
   "metadata": {},
   "outputs": [],
   "source": [
    "polF=simplify(dec12**2-dec11**2);polF"
   ]
  },
  {
   "cell_type": "code",
   "execution_count": null,
   "metadata": {},
   "outputs": [],
   "source": [
    "polGT=simplify(dec22**2-dec21**2);polGT"
   ]
  },
  {
   "cell_type": "code",
   "execution_count": null,
   "metadata": {},
   "outputs": [],
   "source": [
    "pol=simplify((polF+polGT)/2/Tsqav);pol"
   ]
  },
  {
   "cell_type": "markdown",
   "metadata": {},
   "source": [
    "that is $-\\beta_e$."
   ]
  },
  {
   "cell_type": "code",
   "execution_count": null,
   "metadata": {},
   "outputs": [],
   "source": []
  }
 ],
 "metadata": {
  "kernelspec": {
   "display_name": "Python 3",
   "language": "python",
   "name": "python3"
  },
  "language_info": {
   "codemirror_mode": {
    "name": "ipython",
    "version": 3
   },
   "file_extension": ".py",
   "mimetype": "text/x-python",
   "name": "python",
   "nbconvert_exporter": "python",
   "pygments_lexer": "ipython3",
   "version": "3.7.2"
  }
 },
 "nbformat": 4,
 "nbformat_minor": 2
}
