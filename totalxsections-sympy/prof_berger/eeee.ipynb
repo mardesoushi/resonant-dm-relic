{
 "cells": [
  {
   "cell_type": "markdown",
   "metadata": {},
   "source": [
    "## Bhabha and Moller scattering (chapter 3.2 of the book)\n",
    "### 1) Introduction"
   ]
  },
  {
   "cell_type": "markdown",
   "metadata": {},
   "source": [
    "\n",
    "<img src=\"eetoee.jpg\" width=\"300\"/>\n",
    "\n",
    "In calculating the cross section $e^-e^+\\rightarrow e^-e^+$ (Bhabha scattering) the annihilation or $s$ channel \n",
    "amplitude $T_s$ (left figure) and the scattering or $t$ channel amplitude $T_t$ (right figure) both contribute. \n",
    "\n",
    "For installing this notebook on your system don't forget to download also the figure files eetoee.jpg and\n",
    "moller.jpg.\n",
    "Note that the time arrow in these figures is pointing upwards in contrast to the convention of the book. To distinguish in- and outgoing particles the indices $i$ and $f$ are used because the symbol $'$ has an operational meaning in python.\n",
    "\n",
    "Neglecting the charge factor ($-\\imath e^2$) one has\n",
    "$$T_{fi}=\\bar{v}(k_i)\\gamma^{\\mu}u(p_i)\\bar{u}(p_f)\\gamma _{\\mu}v(k_f)\\frac{1}{s}\n",
    "-\\bar{u}(p_f)\\gamma^{\\mu}u(p_i)\\bar{v}(k_i)\\gamma _{\\mu}v(k_f)\\frac{1}{t}$$\n",
    "\n",
    "The minus sign is requested by the Pauli principle. Its application is easier understood in the case of electron electron scattering.\n",
    "The Feynman rules interpret positrons as electrons of negative energy moving backward in time. This explains the use of the Pauli principle also here. Another approach to understand the minus sign is to calculate the scattering diagramm as scattering of an electron off a positively charged fermion, i.e $T_t =\\bar{u}(p_f)\\gamma^{\\mu}u(p_i)\\bar{u}(k_f)\\gamma _{\\mu}u(k_i)/t$ leading to charge factor which is the negative of the one used in the annihilation diagram."
   ]
  },
  {
   "cell_type": "markdown",
   "metadata": {},
   "source": [
    "### 2) Kinematics\n",
    "The CM system is used"
   ]
  },
  {
   "cell_type": "code",
   "execution_count": 1,
   "metadata": {},
   "outputs": [],
   "source": [
    "from sympy import *"
   ]
  },
  {
   "cell_type": "code",
   "execution_count": 2,
   "metadata": {},
   "outputs": [
    {
     "name": "stdout",
     "output_type": "stream",
     "text": [
      "Reading heppackv0.py (March 2023)\n",
      "\n",
      "Done\n"
     ]
    }
   ],
   "source": [
    "import heppackv0 as hep"
   ]
  },
  {
   "cell_type": "code",
   "execution_count": 3,
   "metadata": {},
   "outputs": [],
   "source": [
    "E,m,theta,pin,ki,pf,kf,alpha=symbols('E m theta pin ki pf kf alpha',real=True)\n",
    "u,t,t0,s,s0=symbols('u t t0,s,s0',real=True)"
   ]
  },
  {
   "cell_type": "code",
   "execution_count": 4,
   "metadata": {},
   "outputs": [],
   "source": [
    "pin=[E,m,0,0]\n",
    "ki=[E,m,pi,pi]\n",
    "pf=[E,m,theta,0]\n",
    "kf=[E,m,pi-theta,pi]"
   ]
  },
  {
   "cell_type": "markdown",
   "metadata": {},
   "source": [
    "From $t=(p_f-p_i)^2=-4p^2\\sin^2(\\theta/2)=(s-4m^2)\\sin^2(\\theta/2)$ we get"
   ]
  },
  {
   "cell_type": "code",
   "execution_count": 5,
   "metadata": {},
   "outputs": [],
   "source": [
    "sinthetahalf=sqrt(t/(4*m**2-s))"
   ]
  },
  {
   "cell_type": "code",
   "execution_count": 6,
   "metadata": {},
   "outputs": [],
   "source": [
    "costhetahalf=sqrt(u/(4*m**2-s))"
   ]
  },
  {
   "cell_type": "markdown",
   "metadata": {},
   "source": [
    "### 3) The amplitudes\n",
    "With $|T|^2=|T_s|^2+|T_t|^2-2T_sT_t$ we need explicit expressions for all amplitudes, although the average of the squared annihilation and scattering amplitudes could be taken from the eemumu notebook.  There are 8 independent helicity amplitudes $T_{fi}=T(\\lambda_3 \\lambda_4;\\lambda_1 \\lambda_2)$ for incoming positrons with positive helicity $\\lambda_2$. $T_{k,s}$ and $T_{k,t}$ are calculated separetely ($k=1..8$).\n",
    "\n",
    "1) $T(-+;-+)$ :"
   ]
  },
  {
   "cell_type": "code",
   "execution_count": 7,
   "metadata": {},
   "outputs": [
    {
     "data": {
      "image/png": "[encoded data removed]",
      "text/latex": [
       "$\\displaystyle - \\frac{4 E^{2} \\left(\\cos{\\left(\\theta \\right)} + 1\\right)}{s}$"
      ],
      "text/plain": [
       "    2              \n",
       "-4⋅E ⋅(cos(θ) + 1) \n",
       "───────────────────\n",
       "         s         "
      ]
     },
     "execution_count": 7,
     "metadata": {},
     "output_type": "execute_result"
    }
   ],
   "source": [
    "T1s=hep.dotprod4(hep.vbu(ki,1,pin,-1),hep.ubv(pf,-1,kf,1))/s\n",
    "T1s"
   ]
  },
  {
   "cell_type": "code",
   "execution_count": 8,
   "metadata": {},
   "outputs": [
    {
     "data": {
      "image/png": "[encoded data removed]",
      "text/latex": [
       "$\\displaystyle - 2 \\cos^{2}{\\left(\\frac{\\theta}{2} \\right)}$"
      ],
      "text/plain": [
       "      2⎛θ⎞\n",
       "-2⋅cos ⎜─⎟\n",
       "       ⎝2⎠"
      ]
     },
     "execution_count": 8,
     "metadata": {},
     "output_type": "execute_result"
    }
   ],
   "source": [
    "T1sv1=-2*cos(theta/2)**2;T1sv1"
   ]
  },
  {
   "cell_type": "code",
   "execution_count": 9,
   "metadata": {},
   "outputs": [
    {
     "data": {
      "image/png": "[encoded data removed]",
      "text/latex": [
       "$\\displaystyle - \\frac{2 u}{4 m^{2} - s}$"
      ],
      "text/plain": [
       " -2⋅u   \n",
       "────────\n",
       "   2    \n",
       "4⋅m  - s"
      ]
     },
     "execution_count": 9,
     "metadata": {},
     "output_type": "execute_result"
    }
   ],
   "source": [
    "T1s=T1sv1.subs(cos(theta/2),costhetahalf);T1s"
   ]
  },
  {
   "cell_type": "code",
   "execution_count": 10,
   "metadata": {},
   "outputs": [
    {
     "data": {
      "image/png": "[encoded data removed]",
      "text/latex": [
       "$\\displaystyle \\frac{\\left(8 E^{2} - 4 m^{2}\\right) \\cos^{2}{\\left(\\frac{\\theta}{2} \\right)}}{t}$"
      ],
      "text/plain": [
       "⎛   2      2⎞    2⎛θ⎞\n",
       "⎝8⋅E  - 4⋅m ⎠⋅cos ⎜─⎟\n",
       "                  ⎝2⎠\n",
       "─────────────────────\n",
       "          t          "
      ]
     },
     "execution_count": 10,
     "metadata": {},
     "output_type": "execute_result"
    }
   ],
   "source": [
    "T1tv1=hep.dotprod4(hep.ubu(pf,-1,pin,-1),hep.vbv(ki,1,kf,1))/t;T1tv1"
   ]
  },
  {
   "cell_type": "code",
   "execution_count": 11,
   "metadata": {},
   "outputs": [
    {
     "data": {
      "image/png": "[encoded data removed]",
      "text/latex": [
       "$\\displaystyle \\frac{2 u \\left(2 m^{2} - s\\right)}{t \\left(- 4 m^{2} + s\\right)}$"
      ],
      "text/plain": [
       "    ⎛   2    ⎞\n",
       "2⋅u⋅⎝2⋅m  - s⎠\n",
       "──────────────\n",
       "  ⎛     2    ⎞\n",
       "t⋅⎝- 4⋅m  + s⎠"
      ]
     },
     "execution_count": 11,
     "metadata": {},
     "output_type": "execute_result"
    }
   ],
   "source": [
    "T1t=simplify((2*s-4*m**2)*costhetahalf**2/t);T1t"
   ]
  },
  {
   "cell_type": "markdown",
   "metadata": {},
   "source": [
    "2) $T(-,-;-,+)$ :"
   ]
  },
  {
   "cell_type": "code",
   "execution_count": 12,
   "metadata": {},
   "outputs": [
    {
     "data": {
      "image/png": "[encoded data removed]",
      "text/latex": [
       "$\\displaystyle - \\frac{4 E m \\sin{\\left(\\theta \\right)}}{s}$"
      ],
      "text/plain": [
       "-4⋅E⋅m⋅sin(θ) \n",
       "──────────────\n",
       "      s       "
      ]
     },
     "execution_count": 12,
     "metadata": {},
     "output_type": "execute_result"
    }
   ],
   "source": [
    "T2sv1=hep.dotprod4(hep.vbu(ki,1,pin,-1),hep.ubv(pf,-1,kf,-1))/s;T2sv1"
   ]
  },
  {
   "cell_type": "code",
   "execution_count": 13,
   "metadata": {},
   "outputs": [
    {
     "data": {
      "image/png": "[encoded data removed]",
      "text/latex": [
       "$\\displaystyle - \\frac{4 m \\sqrt{\\frac{t}{4 m^{2} - s}} \\sqrt{\\frac{u}{4 m^{2} - s}}}{\\sqrt{s}}$"
      ],
      "text/plain": [
       "          __________      __________ \n",
       "         ╱    t          ╱    u      \n",
       "-4⋅m⋅   ╱  ──────── ⋅   ╱  ────────  \n",
       "       ╱      2        ╱      2      \n",
       "     ╲╱    4⋅m  - s  ╲╱    4⋅m  - s  \n",
       "─────────────────────────────────────\n",
       "                  √s                 "
      ]
     },
     "execution_count": 13,
     "metadata": {},
     "output_type": "execute_result"
    }
   ],
   "source": [
    "T2s=-8*m*sinthetahalf*costhetahalf/2/sqrt(s);T2s"
   ]
  },
  {
   "cell_type": "code",
   "execution_count": 14,
   "metadata": {},
   "outputs": [
    {
     "data": {
      "image/png": "[encoded data removed]",
      "text/latex": [
       "$\\displaystyle \\frac{2 E m \\sin{\\left(\\theta \\right)}}{t}$"
      ],
      "text/plain": [
       "2⋅E⋅m⋅sin(θ)\n",
       "────────────\n",
       "     t      "
      ]
     },
     "execution_count": 14,
     "metadata": {},
     "output_type": "execute_result"
    }
   ],
   "source": [
    "T2tv1=hep.dotprod4(hep.ubu(pf,-1,pin,-1),hep.vbv(ki,1,kf,-1))/t;T2tv1"
   ]
  },
  {
   "cell_type": "code",
   "execution_count": 15,
   "metadata": {},
   "outputs": [
    {
     "data": {
      "image/png": "[encoded data removed]",
      "text/latex": [
       "$\\displaystyle \\frac{2 m \\sqrt{s} \\sqrt{\\frac{t}{4 m^{2} - s}} \\sqrt{\\frac{u}{4 m^{2} - s}}}{t}$"
      ],
      "text/plain": [
       "            __________      __________\n",
       "           ╱    t          ╱    u     \n",
       "2⋅m⋅√s⋅   ╱  ──────── ⋅   ╱  ──────── \n",
       "         ╱      2        ╱      2     \n",
       "       ╲╱    4⋅m  - s  ╲╱    4⋅m  - s \n",
       "──────────────────────────────────────\n",
       "                  t                   "
      ]
     },
     "execution_count": 15,
     "metadata": {},
     "output_type": "execute_result"
    }
   ],
   "source": [
    "T2t=4*m*sinthetahalf*costhetahalf*sqrt(s)/2/t;T2t"
   ]
  },
  {
   "cell_type": "markdown",
   "metadata": {},
   "source": [
    "3) $T(+,+;-,+)$ :"
   ]
  },
  {
   "cell_type": "code",
   "execution_count": 16,
   "metadata": {},
   "outputs": [
    {
     "data": {
      "image/png": "[encoded data removed]",
      "text/latex": [
       "$\\displaystyle - \\frac{4 E m \\sin{\\left(\\theta \\right)}}{s}$"
      ],
      "text/plain": [
       "-4⋅E⋅m⋅sin(θ) \n",
       "──────────────\n",
       "      s       "
      ]
     },
     "execution_count": 16,
     "metadata": {},
     "output_type": "execute_result"
    }
   ],
   "source": [
    "T3s=hep.dotprod4(hep.vbu(ki,1,pin,-1),hep.ubv(pf,1,kf,1))/s;T3s"
   ]
  },
  {
   "cell_type": "code",
   "execution_count": 17,
   "metadata": {},
   "outputs": [
    {
     "data": {
      "image/png": "[encoded data removed]",
      "text/latex": [
       "$\\displaystyle - \\frac{4 m \\sqrt{\\frac{t}{4 m^{2} - s}} \\sqrt{\\frac{u}{4 m^{2} - s}}}{\\sqrt{s}}$"
      ],
      "text/plain": [
       "          __________      __________ \n",
       "         ╱    t          ╱    u      \n",
       "-4⋅m⋅   ╱  ──────── ⋅   ╱  ────────  \n",
       "       ╱      2        ╱      2      \n",
       "     ╲╱    4⋅m  - s  ╲╱    4⋅m  - s  \n",
       "─────────────────────────────────────\n",
       "                  √s                 "
      ]
     },
     "execution_count": 17,
     "metadata": {},
     "output_type": "execute_result"
    }
   ],
   "source": [
    "T3s=T2s;T3s"
   ]
  },
  {
   "cell_type": "code",
   "execution_count": 18,
   "metadata": {},
   "outputs": [
    {
     "data": {
      "image/png": "[encoded data removed]",
      "text/latex": [
       "$\\displaystyle \\frac{2 E m \\sin{\\left(\\theta \\right)}}{t}$"
      ],
      "text/plain": [
       "2⋅E⋅m⋅sin(θ)\n",
       "────────────\n",
       "     t      "
      ]
     },
     "execution_count": 18,
     "metadata": {},
     "output_type": "execute_result"
    }
   ],
   "source": [
    "T3t=hep.dotprod4(hep.ubu(pf,1,pin,-1),hep.vbv(ki,1,kf,1))/t;T3t"
   ]
  },
  {
   "cell_type": "code",
   "execution_count": 19,
   "metadata": {},
   "outputs": [
    {
     "data": {
      "image/png": "[encoded data removed]",
      "text/latex": [
       "$\\displaystyle \\frac{2 m \\sqrt{s} \\sqrt{\\frac{t}{4 m^{2} - s}} \\sqrt{\\frac{u}{4 m^{2} - s}}}{t}$"
      ],
      "text/plain": [
       "            __________      __________\n",
       "           ╱    t          ╱    u     \n",
       "2⋅m⋅√s⋅   ╱  ──────── ⋅   ╱  ──────── \n",
       "         ╱      2        ╱      2     \n",
       "       ╲╱    4⋅m  - s  ╲╱    4⋅m  - s \n",
       "──────────────────────────────────────\n",
       "                  t                   "
      ]
     },
     "execution_count": 19,
     "metadata": {},
     "output_type": "execute_result"
    }
   ],
   "source": [
    "T3t=T2t;T3t"
   ]
  },
  {
   "cell_type": "markdown",
   "metadata": {},
   "source": [
    "4) $T(+,-;-,+)$ :"
   ]
  },
  {
   "cell_type": "code",
   "execution_count": 20,
   "metadata": {},
   "outputs": [
    {
     "data": {
      "image/png": "[encoded data removed]",
      "text/latex": [
       "$\\displaystyle \\frac{4 E^{2} \\left(\\cos{\\left(\\theta \\right)} - 1\\right)}{s}$"
      ],
      "text/plain": [
       "   2             \n",
       "4⋅E ⋅(cos(θ) - 1)\n",
       "─────────────────\n",
       "        s        "
      ]
     },
     "execution_count": 20,
     "metadata": {},
     "output_type": "execute_result"
    }
   ],
   "source": [
    "T4sv1=hep.dotprod4(hep.vbu(ki,1,pin,-1),hep.ubv(pf,1,kf,-1))/s;T4sv1"
   ]
  },
  {
   "cell_type": "code",
   "execution_count": 21,
   "metadata": {},
   "outputs": [
    {
     "data": {
      "image/png": "[encoded data removed]",
      "text/latex": [
       "$\\displaystyle - \\frac{2 t}{4 m^{2} - s}$"
      ],
      "text/plain": [
       " -2⋅t   \n",
       "────────\n",
       "   2    \n",
       "4⋅m  - s"
      ]
     },
     "execution_count": 21,
     "metadata": {},
     "output_type": "execute_result"
    }
   ],
   "source": [
    "T4s=-2*sinthetahalf**2;T4s"
   ]
  },
  {
   "cell_type": "code",
   "execution_count": 22,
   "metadata": {},
   "outputs": [
    {
     "data": {
      "image/png": "[encoded data removed]",
      "text/latex": [
       "$\\displaystyle \\frac{4 m^{2} \\sin^{2}{\\left(\\frac{\\theta}{2} \\right)}}{t}$"
      ],
      "text/plain": [
       "   2    2⎛θ⎞\n",
       "4⋅m ⋅sin ⎜─⎟\n",
       "         ⎝2⎠\n",
       "────────────\n",
       "     t      "
      ]
     },
     "execution_count": 22,
     "metadata": {},
     "output_type": "execute_result"
    }
   ],
   "source": [
    "T4tv1=hep.dotprod4(hep.ubu(pf,1,pin,-1),hep.vbv(ki,1,kf,-1))/t;T4tv1"
   ]
  },
  {
   "cell_type": "code",
   "execution_count": 23,
   "metadata": {},
   "outputs": [
    {
     "data": {
      "image/png": "[encoded data removed]",
      "text/latex": [
       "$\\displaystyle \\frac{4 m^{2}}{4 m^{2} - s}$"
      ],
      "text/plain": [
       "     2  \n",
       "  4⋅m   \n",
       "────────\n",
       "   2    \n",
       "4⋅m  - s"
      ]
     },
     "execution_count": 23,
     "metadata": {},
     "output_type": "execute_result"
    }
   ],
   "source": [
    "T4t=4*m**2*sinthetahalf**2/t;T4t"
   ]
  },
  {
   "cell_type": "markdown",
   "metadata": {},
   "source": [
    "5) $T(-,+;+,+)$ :"
   ]
  },
  {
   "cell_type": "code",
   "execution_count": 24,
   "metadata": {},
   "outputs": [
    {
     "data": {
      "image/png": "[encoded data removed]",
      "text/latex": [
       "$\\displaystyle \\frac{4 E m \\sin{\\left(\\theta \\right)}}{s}$"
      ],
      "text/plain": [
       "4⋅E⋅m⋅sin(θ)\n",
       "────────────\n",
       "     s      "
      ]
     },
     "execution_count": 24,
     "metadata": {},
     "output_type": "execute_result"
    }
   ],
   "source": [
    "T5s=hep.dotprod4(hep.vbu(ki,1,pin,1),hep.ubv(pf,-1,kf,1))/s;T5s"
   ]
  },
  {
   "cell_type": "code",
   "execution_count": 25,
   "metadata": {},
   "outputs": [
    {
     "data": {
      "image/png": "[encoded data removed]",
      "text/latex": [
       "$\\displaystyle \\frac{4 m \\sqrt{\\frac{t}{4 m^{2} - s}} \\sqrt{\\frac{u}{4 m^{2} - s}}}{\\sqrt{s}}$"
      ],
      "text/plain": [
       "         __________      __________\n",
       "        ╱    t          ╱    u     \n",
       "4⋅m⋅   ╱  ──────── ⋅   ╱  ──────── \n",
       "      ╱      2        ╱      2     \n",
       "    ╲╱    4⋅m  - s  ╲╱    4⋅m  - s \n",
       "───────────────────────────────────\n",
       "                 √s                "
      ]
     },
     "execution_count": 25,
     "metadata": {},
     "output_type": "execute_result"
    }
   ],
   "source": [
    "T5s=-T2s;T5s"
   ]
  },
  {
   "cell_type": "code",
   "execution_count": 26,
   "metadata": {},
   "outputs": [
    {
     "data": {
      "image/png": "[encoded data removed]",
      "text/latex": [
       "$\\displaystyle - \\frac{2 E m \\sin{\\left(\\theta \\right)}}{t}$"
      ],
      "text/plain": [
       "-2⋅E⋅m⋅sin(θ) \n",
       "──────────────\n",
       "      t       "
      ]
     },
     "execution_count": 26,
     "metadata": {},
     "output_type": "execute_result"
    }
   ],
   "source": [
    "T5t=hep.dotprod4(hep.ubu(pf,-1,pin,1),hep.vbv(ki,1,kf,1))/t;T5t"
   ]
  },
  {
   "cell_type": "code",
   "execution_count": 27,
   "metadata": {},
   "outputs": [
    {
     "data": {
      "image/png": "[encoded data removed]",
      "text/latex": [
       "$\\displaystyle - \\frac{2 m \\sqrt{s} \\sqrt{\\frac{t}{4 m^{2} - s}} \\sqrt{\\frac{u}{4 m^{2} - s}}}{t}$"
      ],
      "text/plain": [
       "             __________      __________ \n",
       "            ╱    t          ╱    u      \n",
       "-2⋅m⋅√s⋅   ╱  ──────── ⋅   ╱  ────────  \n",
       "          ╱      2        ╱      2      \n",
       "        ╲╱    4⋅m  - s  ╲╱    4⋅m  - s  \n",
       "────────────────────────────────────────\n",
       "                   t                    "
      ]
     },
     "execution_count": 27,
     "metadata": {},
     "output_type": "execute_result"
    }
   ],
   "source": [
    "T5t=-T2t;T5t"
   ]
  },
  {
   "cell_type": "markdown",
   "metadata": {},
   "source": [
    "6) $T(-,-;+,+)$ :"
   ]
  },
  {
   "cell_type": "code",
   "execution_count": 28,
   "metadata": {},
   "outputs": [
    {
     "data": {
      "image/png": "[encoded data removed]",
      "text/latex": [
       "$\\displaystyle - \\frac{4 m^{2} \\cos{\\left(\\theta \\right)}}{s}$"
      ],
      "text/plain": [
       "    2        \n",
       "-4⋅m ⋅cos(θ) \n",
       "─────────────\n",
       "      s      "
      ]
     },
     "execution_count": 28,
     "metadata": {},
     "output_type": "execute_result"
    }
   ],
   "source": [
    "T6sv1=hep.dotprod4(hep.vbu(ki,1,pin,1),hep.ubv(pf,-1,kf,-1))/s\n",
    "T6sv1"
   ]
  },
  {
   "cell_type": "code",
   "execution_count": 29,
   "metadata": {},
   "outputs": [
    {
     "data": {
      "image/png": "[encoded data removed]",
      "text/latex": [
       "$\\displaystyle \\frac{4 m^{2} \\left(t - u\\right)}{s \\left(4 m^{2} - s\\right)}$"
      ],
      "text/plain": [
       "   2        \n",
       "4⋅m ⋅(t - u)\n",
       "────────────\n",
       "  ⎛   2    ⎞\n",
       "s⋅⎝4⋅m  - s⎠"
      ]
     },
     "execution_count": 29,
     "metadata": {},
     "output_type": "execute_result"
    }
   ],
   "source": [
    "T6s=simplify(-4*m**2*(costhetahalf**2-sinthetahalf**2)/s)\n",
    "T6s"
   ]
  },
  {
   "cell_type": "code",
   "execution_count": 30,
   "metadata": {},
   "outputs": [
    {
     "data": {
      "image/png": "[encoded data removed]",
      "text/latex": [
       "$\\displaystyle - \\frac{4 m^{2} \\sin^{2}{\\left(\\frac{\\theta}{2} \\right)}}{t}$"
      ],
      "text/plain": [
       "    2    2⎛θ⎞ \n",
       "-4⋅m ⋅sin ⎜─⎟ \n",
       "          ⎝2⎠ \n",
       "──────────────\n",
       "      t       "
      ]
     },
     "execution_count": 30,
     "metadata": {},
     "output_type": "execute_result"
    }
   ],
   "source": [
    "T6t=hep.dotprod4(hep.ubu(pf,-1,pin,1),hep.vbv(ki,1,kf,-1))/t;T6t"
   ]
  },
  {
   "cell_type": "code",
   "execution_count": 31,
   "metadata": {},
   "outputs": [
    {
     "data": {
      "image/png": "[encoded data removed]",
      "text/latex": [
       "$\\displaystyle - \\frac{4 m^{2}}{4 m^{2} - s}$"
      ],
      "text/plain": [
       "     2  \n",
       " -4⋅m   \n",
       "────────\n",
       "   2    \n",
       "4⋅m  - s"
      ]
     },
     "execution_count": 31,
     "metadata": {},
     "output_type": "execute_result"
    }
   ],
   "source": [
    "T6t=-T4t;T6t"
   ]
  },
  {
   "cell_type": "markdown",
   "metadata": {},
   "source": [
    "7) $T(+,+;+,+)$ :"
   ]
  },
  {
   "cell_type": "code",
   "execution_count": 32,
   "metadata": {},
   "outputs": [
    {
     "data": {
      "image/png": "[encoded data removed]",
      "text/latex": [
       "$\\displaystyle - \\frac{4 m^{2} \\cos{\\left(\\theta \\right)}}{s}$"
      ],
      "text/plain": [
       "    2        \n",
       "-4⋅m ⋅cos(θ) \n",
       "─────────────\n",
       "      s      "
      ]
     },
     "execution_count": 32,
     "metadata": {},
     "output_type": "execute_result"
    }
   ],
   "source": [
    "T7s=hep.dotprod4(hep.vbu(ki,1,pin,1),hep.ubv(pf,1,kf,1))/s;T7s"
   ]
  },
  {
   "cell_type": "code",
   "execution_count": 33,
   "metadata": {},
   "outputs": [
    {
     "data": {
      "image/png": "[encoded data removed]",
      "text/latex": [
       "$\\displaystyle \\frac{4 m^{2} \\left(t - u\\right)}{s \\left(4 m^{2} - s\\right)}$"
      ],
      "text/plain": [
       "   2        \n",
       "4⋅m ⋅(t - u)\n",
       "────────────\n",
       "  ⎛   2    ⎞\n",
       "s⋅⎝4⋅m  - s⎠"
      ]
     },
     "execution_count": 33,
     "metadata": {},
     "output_type": "execute_result"
    }
   ],
   "source": [
    "T7s=T6s;T7s"
   ]
  },
  {
   "cell_type": "code",
   "execution_count": 34,
   "metadata": {},
   "outputs": [
    {
     "data": {
      "image/png": "[encoded data removed]",
      "text/latex": [
       "$\\displaystyle \\frac{8 E^{2} - 4 m^{2} \\sin^{2}{\\left(\\frac{\\theta}{2} \\right)} - 4 m^{2}}{t}$"
      ],
      "text/plain": [
       "   2      2    2⎛θ⎞      2\n",
       "8⋅E  - 4⋅m ⋅sin ⎜─⎟ - 4⋅m \n",
       "                ⎝2⎠       \n",
       "──────────────────────────\n",
       "            t             "
      ]
     },
     "execution_count": 34,
     "metadata": {},
     "output_type": "execute_result"
    }
   ],
   "source": [
    "T7tv1=hep.dotprod4(hep.ubu(pf,1,pin,1),hep.vbv(ki,1,kf,1))/t;T7tv1"
   ]
  },
  {
   "cell_type": "code",
   "execution_count": 35,
   "metadata": {},
   "outputs": [
    {
     "data": {
      "image/png": "[encoded data removed]",
      "text/latex": [
       "$\\displaystyle \\frac{2 \\left(- 2 m^{2} t - \\left(2 m^{2} - s\\right) \\left(4 m^{2} - s\\right)\\right)}{t \\left(4 m^{2} - s\\right)}$"
      ],
      "text/plain": [
       "  ⎛     2     ⎛   2    ⎞ ⎛   2    ⎞⎞\n",
       "2⋅⎝- 2⋅m ⋅t - ⎝2⋅m  - s⎠⋅⎝4⋅m  - s⎠⎠\n",
       "────────────────────────────────────\n",
       "              ⎛   2    ⎞            \n",
       "            t⋅⎝4⋅m  - s⎠            "
      ]
     },
     "execution_count": 35,
     "metadata": {},
     "output_type": "execute_result"
    }
   ],
   "source": [
    "T7t=simplify((2*s-4*m**2*sinthetahalf**2-4*m**2)/t);T7t"
   ]
  },
  {
   "cell_type": "markdown",
   "metadata": {},
   "source": [
    "8) $T(+,-;+,+)$ :"
   ]
  },
  {
   "cell_type": "code",
   "execution_count": 36,
   "metadata": {},
   "outputs": [
    {
     "data": {
      "image/png": "[encoded data removed]",
      "text/latex": [
       "$\\displaystyle - \\frac{4 E m \\sin{\\left(\\theta \\right)}}{s}$"
      ],
      "text/plain": [
       "-4⋅E⋅m⋅sin(θ) \n",
       "──────────────\n",
       "      s       "
      ]
     },
     "execution_count": 36,
     "metadata": {},
     "output_type": "execute_result"
    }
   ],
   "source": [
    "T8sv1=hep.dotprod4(hep.vbu(ki,1,pin,1),hep.ubv(pf,1,kf,-1))/s;T8sv1"
   ]
  },
  {
   "cell_type": "code",
   "execution_count": 37,
   "metadata": {},
   "outputs": [
    {
     "data": {
      "image/png": "[encoded data removed]",
      "text/latex": [
       "$\\displaystyle - \\frac{4 m \\sqrt{\\frac{t}{4 m^{2} - s}} \\sqrt{\\frac{u}{4 m^{2} - s}}}{\\sqrt{s}}$"
      ],
      "text/plain": [
       "          __________      __________ \n",
       "         ╱    t          ╱    u      \n",
       "-4⋅m⋅   ╱  ──────── ⋅   ╱  ────────  \n",
       "       ╱      2        ╱      2      \n",
       "     ╲╱    4⋅m  - s  ╲╱    4⋅m  - s  \n",
       "─────────────────────────────────────\n",
       "                  √s                 "
      ]
     },
     "execution_count": 37,
     "metadata": {},
     "output_type": "execute_result"
    }
   ],
   "source": [
    "T8s=T2s;T8s"
   ]
  },
  {
   "cell_type": "code",
   "execution_count": 38,
   "metadata": {},
   "outputs": [
    {
     "data": {
      "image/png": "[encoded data removed]",
      "text/latex": [
       "$\\displaystyle \\frac{2 E m \\sin{\\left(\\theta \\right)}}{t}$"
      ],
      "text/plain": [
       "2⋅E⋅m⋅sin(θ)\n",
       "────────────\n",
       "     t      "
      ]
     },
     "execution_count": 38,
     "metadata": {},
     "output_type": "execute_result"
    }
   ],
   "source": [
    "T8tv1=hep.dotprod4(hep.ubu(pin,1,pf,1),hep.vbv(ki,1,kf,-1))/t;T8tv1"
   ]
  },
  {
   "cell_type": "code",
   "execution_count": 39,
   "metadata": {},
   "outputs": [
    {
     "data": {
      "image/png": "[encoded data removed]",
      "text/latex": [
       "$\\displaystyle \\frac{2 m \\sqrt{s} \\sqrt{\\frac{t}{4 m^{2} - s}} \\sqrt{\\frac{u}{4 m^{2} - s}}}{t}$"
      ],
      "text/plain": [
       "            __________      __________\n",
       "           ╱    t          ╱    u     \n",
       "2⋅m⋅√s⋅   ╱  ──────── ⋅   ╱  ──────── \n",
       "         ╱      2        ╱      2     \n",
       "       ╲╱    4⋅m  - s  ╲╱    4⋅m  - s \n",
       "──────────────────────────────────────\n",
       "                  t                   "
      ]
     },
     "execution_count": 39,
     "metadata": {},
     "output_type": "execute_result"
    }
   ],
   "source": [
    "T8t=T2t;T8t"
   ]
  },
  {
   "cell_type": "markdown",
   "metadata": {},
   "source": [
    "### 4) Cross sections\n",
    "Start with $\\frac{1}{2}\\sum_k |T_{s,k}|^2$"
   ]
  },
  {
   "cell_type": "code",
   "execution_count": 40,
   "metadata": {},
   "outputs": [
    {
     "data": {
      "image/png": "[encoded data removed]",
      "text/latex": [
       "$\\displaystyle \\frac{2 \\cdot \\left(8 m^{4} \\left(t - u\\right)^{2} + 16 m^{2} s t u + s^{2} \\left(t^{2} + u^{2}\\right)\\right)}{s^{2} \\left(4 m^{2} - s\\right)^{2}}$"
      ],
      "text/plain": [
       "  ⎛   4        2       2          2 ⎛ 2    2⎞⎞\n",
       "2⋅⎝8⋅m ⋅(t - u)  + 16⋅m ⋅s⋅t⋅u + s ⋅⎝t  + u ⎠⎠\n",
       "──────────────────────────────────────────────\n",
       "                             2                \n",
       "                 2 ⎛   2    ⎞                 \n",
       "                s ⋅⎝4⋅m  - s⎠                 "
      ]
     },
     "execution_count": 40,
     "metadata": {},
     "output_type": "execute_result"
    }
   ],
   "source": [
    "tsqavsv1=simplify(T1s**2+T2s**2+T3s**2+T4s**2+T5s**2+T6s**2+T7s**2+T8s**2)/2;tsqavsv1"
   ]
  },
  {
   "cell_type": "code",
   "execution_count": 41,
   "metadata": {},
   "outputs": [
    {
     "data": {
      "image/png": "[encoded data removed]",
      "text/latex": [
       "$\\displaystyle \\frac{2 \\cdot \\left(8 m^{4} - 8 m^{2} t + s^{2} + 2 s t + 2 t^{2}\\right)}{s^{2}}$"
      ],
      "text/plain": [
       "  ⎛   4      2      2              2⎞\n",
       "2⋅⎝8⋅m  - 8⋅m ⋅t + s  + 2⋅s⋅t + 2⋅t ⎠\n",
       "─────────────────────────────────────\n",
       "                   2                 \n",
       "                  s                  "
      ]
     },
     "execution_count": 41,
     "metadata": {},
     "output_type": "execute_result"
    }
   ],
   "source": [
    "tsqavsv2=simplify(tsqavsv1.subs(u,4*m**2-s-t));tsqavsv2"
   ]
  },
  {
   "cell_type": "code",
   "execution_count": 42,
   "metadata": {},
   "outputs": [
    {
     "data": {
      "image/png": "[encoded data removed]",
      "text/latex": [
       "$\\displaystyle \\frac{2 s^{2} + 4 s t + 4 t_{0}^{2}}{s^{2}}$"
      ],
      "text/plain": [
       "   2               2\n",
       "2⋅s  + 4⋅s⋅t + 4⋅t₀ \n",
       "────────────────────\n",
       "          2         \n",
       "         s          "
      ]
     },
     "execution_count": 42,
     "metadata": {},
     "output_type": "execute_result"
    }
   ],
   "source": [
    "tsqavs=2*(2*t0**2+s**2+2*s*t)/s**2;tsqavs"
   ]
  },
  {
   "cell_type": "markdown",
   "metadata": {},
   "source": [
    "This is the result of the eemumu notebook. An alternative form can be found in the textbook of Landau and Lifshitz:"
   ]
  },
  {
   "cell_type": "code",
   "execution_count": 43,
   "metadata": {},
   "outputs": [
    {
     "data": {
      "image/png": "[encoded data removed]",
      "text/latex": [
       "$\\displaystyle \\frac{16 m^{2} \\left(- m^{2} + s\\right) + 2 t^{2} + 2 u^{2}}{s^{2}}$"
      ],
      "text/plain": [
       "    2 ⎛   2    ⎞      2      2\n",
       "16⋅m ⋅⎝- m  + s⎠ + 2⋅t  + 2⋅u \n",
       "──────────────────────────────\n",
       "               2              \n",
       "              s               "
      ]
     },
     "execution_count": 43,
     "metadata": {},
     "output_type": "execute_result"
    }
   ],
   "source": [
    "tsqavsalt=2*(u**2+t**2+8*m**2*(s-m**2))/s**2;tsqavsalt"
   ]
  },
  {
   "cell_type": "code",
   "execution_count": 44,
   "metadata": {},
   "outputs": [
    {
     "data": {
      "image/png": "[encoded data removed]",
      "text/latex": [
       "$\\displaystyle 0$"
      ],
      "text/plain": [
       "0"
      ]
     },
     "execution_count": 44,
     "metadata": {},
     "output_type": "execute_result"
    }
   ],
   "source": [
    "check1=simplify((tsqavsv2-tsqavsalt).subs(u,4*m**2-s-t));check1"
   ]
  },
  {
   "cell_type": "markdown",
   "metadata": {},
   "source": [
    "Next step $\\frac{1}{2}\\sum_k |T_{t,k}|^2$:"
   ]
  },
  {
   "cell_type": "code",
   "execution_count": 45,
   "metadata": {},
   "outputs": [
    {
     "data": {
      "image/png": "[encoded data removed]",
      "text/latex": [
       "$\\displaystyle \\frac{2 \\cdot \\left(8 m^{4} t^{2} + 4 m^{2} s t u + u^{2} \\left(2 m^{2} - s\\right)^{2} + \\left(2 m^{2} t + \\left(2 m^{2} - s\\right) \\left(4 m^{2} - s\\right)\\right)^{2}\\right)}{t^{2} \\left(4 m^{2} - s\\right)^{2}}$"
      ],
      "text/plain": [
       "  ⎛                                    2                                   2⎞\n",
       "  ⎜   4  2      2          2 ⎛   2    ⎞    ⎛   2     ⎛   2    ⎞ ⎛   2    ⎞⎞ ⎟\n",
       "2⋅⎝8⋅m ⋅t  + 4⋅m ⋅s⋅t⋅u + u ⋅⎝2⋅m  - s⎠  + ⎝2⋅m ⋅t + ⎝2⋅m  - s⎠⋅⎝4⋅m  - s⎠⎠ ⎠\n",
       "─────────────────────────────────────────────────────────────────────────────\n",
       "                                             2                               \n",
       "                                 2 ⎛   2    ⎞                                \n",
       "                                t ⋅⎝4⋅m  - s⎠                                "
      ]
     },
     "execution_count": 45,
     "metadata": {},
     "output_type": "execute_result"
    }
   ],
   "source": [
    "tsqavtv1=simplify(T1t**2+T2t**2+T3t**2+T4t**2+T5t**2+T6t**2+T7t**2+T8t**2)/2;tsqavtv1"
   ]
  },
  {
   "cell_type": "code",
   "execution_count": 46,
   "metadata": {},
   "outputs": [
    {
     "data": {
      "image/png": "[encoded data removed]",
      "text/latex": [
       "$\\displaystyle \\frac{2 \\cdot \\left(8 m^{4} - 8 m^{2} s + 2 s^{2} + 2 s t + t^{2}\\right)}{t^{2}}$"
      ],
      "text/plain": [
       "  ⎛   4      2        2            2⎞\n",
       "2⋅⎝8⋅m  - 8⋅m ⋅s + 2⋅s  + 2⋅s⋅t + t ⎠\n",
       "─────────────────────────────────────\n",
       "                   2                 \n",
       "                  t                  "
      ]
     },
     "execution_count": 46,
     "metadata": {},
     "output_type": "execute_result"
    }
   ],
   "source": [
    "tsqavtv2=simplify(tsqavtv1.subs(u,4*m**2-s-t));tsqavtv2"
   ]
  },
  {
   "cell_type": "markdown",
   "metadata": {},
   "source": [
    "This is tsqavsv2 (line 43) with $s\\leftrightarrow t$ as it should be. The alternative expression of Landau Lifshitz is:"
   ]
  },
  {
   "cell_type": "code",
   "execution_count": 47,
   "metadata": {},
   "outputs": [
    {
     "data": {
      "image/png": "[encoded data removed]",
      "text/latex": [
       "$\\displaystyle \\frac{16 m^{2} \\left(- m^{2} + t\\right) + 2 s^{2} + 2 u^{2}}{t^{2}}$"
      ],
      "text/plain": [
       "    2 ⎛   2    ⎞      2      2\n",
       "16⋅m ⋅⎝- m  + t⎠ + 2⋅s  + 2⋅u \n",
       "──────────────────────────────\n",
       "               2              \n",
       "              t               "
      ]
     },
     "execution_count": 47,
     "metadata": {},
     "output_type": "execute_result"
    }
   ],
   "source": [
    "tsqavtalt=2*(u**2+s**2+8*m**2*(t-m**2))/t**2;tsqavtalt"
   ]
  },
  {
   "cell_type": "code",
   "execution_count": 48,
   "metadata": {},
   "outputs": [
    {
     "data": {
      "image/png": "[encoded data removed]",
      "text/latex": [
       "$\\displaystyle 0$"
      ],
      "text/plain": [
       "0"
      ]
     },
     "execution_count": 48,
     "metadata": {},
     "output_type": "execute_result"
    }
   ],
   "source": [
    "check2=simplify((tsqavtv2-tsqavtalt).subs(u,4*m**2-s-t));check2"
   ]
  },
  {
   "cell_type": "markdown",
   "metadata": {},
   "source": [
    "Finally the interference term -$\\sum_k T_{s,k}T_{t,k}$"
   ]
  },
  {
   "cell_type": "code",
   "execution_count": 49,
   "metadata": {},
   "outputs": [
    {
     "data": {
      "image/png": "[encoded data removed]",
      "text/latex": [
       "$\\displaystyle - \\frac{4 \\left(- 4 m^{4} t \\left(t - u\\right) - 2 m^{2} s t \\left(t + 4 u\\right) - 2 m^{2} \\left(t - u\\right) \\left(2 m^{2} t + \\left(2 m^{2} - s\\right) \\left(4 m^{2} - s\\right)\\right) + s u^{2} \\cdot \\left(2 m^{2} - s\\right)\\right)}{s t \\left(4 m^{2} - s\\right)^{2}}$"
      ],
      "text/plain": [
       "   ⎛     4                2                    2         ⎛   2     ⎛   2    ⎞ \n",
       "-4⋅⎝- 4⋅m ⋅t⋅(t - u) - 2⋅m ⋅s⋅t⋅(t + 4⋅u) - 2⋅m ⋅(t - u)⋅⎝2⋅m ⋅t + ⎝2⋅m  - s⎠⋅\n",
       "──────────────────────────────────────────────────────────────────────────────\n",
       "                                                             2                \n",
       "                                                   ⎛   2    ⎞                 \n",
       "                                               s⋅t⋅⎝4⋅m  - s⎠                 \n",
       "\n",
       "⎛   2    ⎞⎞      2 ⎛   2    ⎞⎞ \n",
       "⎝4⋅m  - s⎠⎠ + s⋅u ⋅⎝2⋅m  - s⎠⎠ \n",
       "───────────────────────────────\n",
       "                               \n",
       "                               \n",
       "                               "
      ]
     },
     "execution_count": 49,
     "metadata": {},
     "output_type": "execute_result"
    }
   ],
   "source": [
    "Tstv1=-simplify(T1s*T1t+T2s*T2t+T3s*T3t+T4s*T4t+T5s*T5t+T6s*T6t+T7s*T7t+T8s*T8t);Tstv1"
   ]
  },
  {
   "cell_type": "code",
   "execution_count": 50,
   "metadata": {},
   "outputs": [
    {
     "data": {
      "image/png": "[encoded data removed]",
      "text/latex": [
       "$\\displaystyle - \\frac{16 m^{4}}{s t} + \\frac{4 s}{t} + 8 + \\frac{4 t}{s}$"
      ],
      "text/plain": [
       "      4                \n",
       "  16⋅m    4⋅s       4⋅t\n",
       "- ───── + ─── + 8 + ───\n",
       "   s⋅t     t         s "
      ]
     },
     "execution_count": 50,
     "metadata": {},
     "output_type": "execute_result"
    }
   ],
   "source": [
    "Tst=simplify(Tstv1.subs(u,4*m**2-s-t));Tst"
   ]
  },
  {
   "cell_type": "code",
   "execution_count": 51,
   "metadata": {},
   "outputs": [
    {
     "name": "stdout",
     "output_type": "stream",
     "text": [
      "or\n"
     ]
    },
    {
     "data": {
      "image/png": "[encoded data removed]",
      "text/latex": [
       "$\\displaystyle \\frac{2 \\left(- 8 m^{4} + 2 \\left(4 m^{2} - u\\right)^{2}\\right)}{s t}$"
      ],
      "text/plain": [
       "  ⎛                     2⎞\n",
       "  ⎜     4     ⎛   2    ⎞ ⎟\n",
       "2⋅⎝- 8⋅m  + 2⋅⎝4⋅m  - u⎠ ⎠\n",
       "──────────────────────────\n",
       "           s⋅t            "
      ]
     },
     "execution_count": 51,
     "metadata": {},
     "output_type": "execute_result"
    }
   ],
   "source": [
    "print ('or'); Tstv2=2/s/t*(-8*m**4+2*(4*m**2-u)**2);Tstv2\n"
   ]
  },
  {
   "cell_type": "code",
   "execution_count": 52,
   "metadata": {},
   "outputs": [
    {
     "name": "stdout",
     "output_type": "stream",
     "text": [
      "or a la Landau Lifshitz \n"
     ]
    },
    {
     "data": {
      "image/png": "[encoded data removed]",
      "text/latex": [
       "$\\displaystyle \\frac{4 \\left(- 6 m^{2} + u\\right) \\left(- 2 m^{2} + u\\right)}{s t}$"
      ],
      "text/plain": [
       "  ⎛     2    ⎞ ⎛     2    ⎞\n",
       "4⋅⎝- 6⋅m  + u⎠⋅⎝- 2⋅m  + u⎠\n",
       "───────────────────────────\n",
       "            s⋅t            "
      ]
     },
     "execution_count": 52,
     "metadata": {},
     "output_type": "execute_result"
    }
   ],
   "source": [
    "print ('or a la Landau Lifshitz '); Tstalt=4/t/s*(u-2*m**2)*(u-6*m**2);Tstalt"
   ]
  },
  {
   "cell_type": "code",
   "execution_count": 53,
   "metadata": {},
   "outputs": [
    {
     "data": {
      "image/png": "[encoded data removed]",
      "text/latex": [
       "$\\displaystyle 0$"
      ],
      "text/plain": [
       "0"
      ]
     },
     "execution_count": 53,
     "metadata": {},
     "output_type": "execute_result"
    }
   ],
   "source": [
    "check3=simplify((Tstv2-Tstalt));check3"
   ]
  },
  {
   "cell_type": "markdown",
   "metadata": {},
   "source": [
    "Multiplying with the charge factor $16\\pi^2\\alpha^2$ and dividing by the kinematic factor \n",
    "$16\\pi s(s-4m^2)$ we obtain\n",
    "\n",
    "$$\\frac{\\mathrm{d}\\sigma }{\\mathrm{d}t}(e^-e^+\\rightarrow e^-e^+)\n",
    "=\\frac{2\\pi\\alpha^{2}}{s(s-4m^{2})}\\left(A+B+C\\right)\\enspace$$\n",
    "with \n",
    "$$A=1+2\\frac{t}{s}+2\\frac{t_0^2}{s^2}\\\\\n",
    "B=1+2\\frac{s}{t}+2\\frac{s_0^2}{t^2}\\\\\n",
    "C=2\\left(2+\\frac{s}{t}+\\frac{t}{s}-\\frac{4m^4}{st}\\right)$$\n",
    "using the abbreviatons $s_0=s-m^2$ and $t_0=t-m^2$.\n",
    "If you prefer the Landau Lifshitz version (Note their $A$ is our $B$ and vice versa), here it is:\n",
    "$$A=\\frac{1}{s^2}(t^2+u^2+8m^2s_0)\\\\\n",
    "B=\\frac{1}{t^2}(s^2+u^2+8m^2t_0)\\\\\n",
    "C=\\frac{2}{st}(u-2m^2)(u-6m^2)$$\n",
    "\n",
    "In calculating the cross section for electron electron scatterin $e^-e^-\\rightarrow e^-e^-$ (Moller scattering)\n",
    "the annihilation diagramm ($s$ channel)  has to be replaced by the  crossed exchange diagram with the\n",
    "photon propagator given by $1/u$ (so called $u$ channel).\n",
    "\n",
    "<img src=\"moller.jpg\" width=\"200\"/>\n",
    "\n",
    "If one is only interested in the cross section it suffices to replace $s\\leftrightarrow u$ in the formula for the\n",
    "average squared amplitudes, i.e.\n",
    "$$A'=1+2\\frac{t}{u}+2\\frac{t_0^2}{u^2}=\\frac{1}{u^2}(t^2+s^2+8m^2u_0^2)\\\\\n",
    "C'=2\\left(2+\\frac{u}{t}+\\frac{t}{u}-\\frac{4m^4}{ut}\\right)=\\frac{2}{ut}(s-2m^2)(s-6m^2)\\enspace .$$\n",
    "Obviously $B$ does not change.\n",
    "For later use the $u$ channel amplitudes are also explicitly given.\n",
    "\n",
    "1) $T_u(-,+;-,+)$ :"
   ]
  },
  {
   "cell_type": "code",
   "execution_count": 54,
   "metadata": {},
   "outputs": [
    {
     "data": {
      "image/png": "[encoded data removed]",
      "text/latex": [
       "$\\displaystyle \\frac{4 m^{2} \\cos^{2}{\\left(\\frac{\\theta}{2} \\right)}}{u}$"
      ],
      "text/plain": [
       "   2    2⎛θ⎞\n",
       "4⋅m ⋅cos ⎜─⎟\n",
       "         ⎝2⎠\n",
       "────────────\n",
       "     u      "
      ]
     },
     "execution_count": 54,
     "metadata": {},
     "output_type": "execute_result"
    }
   ],
   "source": [
    "T1uv1=hep.dotprod4(hep.ubu(kf,1,pin,-1),hep.ubu(pf,-1,ki,1))/u;T1uv1"
   ]
  },
  {
   "cell_type": "code",
   "execution_count": 55,
   "metadata": {},
   "outputs": [
    {
     "data": {
      "image/png": "[encoded data removed]",
      "text/latex": [
       "$\\displaystyle \\frac{4 m^{2}}{4 m^{2} - s}$"
      ],
      "text/plain": [
       "     2  \n",
       "  4⋅m   \n",
       "────────\n",
       "   2    \n",
       "4⋅m  - s"
      ]
     },
     "execution_count": 55,
     "metadata": {},
     "output_type": "execute_result"
    }
   ],
   "source": [
    "T1u=simplify(4*m**2*costhetahalf**2/u);T1u"
   ]
  },
  {
   "cell_type": "markdown",
   "metadata": {},
   "source": [
    "2) $T_u(-,-;-,+)$ :"
   ]
  },
  {
   "cell_type": "code",
   "execution_count": 56,
   "metadata": {},
   "outputs": [
    {
     "data": {
      "image/png": "[encoded data removed]",
      "text/latex": [
       "$\\displaystyle - \\frac{2 E m \\sin{\\left(\\theta \\right)}}{u}$"
      ],
      "text/plain": [
       "-2⋅E⋅m⋅sin(θ) \n",
       "──────────────\n",
       "      u       "
      ]
     },
     "execution_count": 56,
     "metadata": {},
     "output_type": "execute_result"
    }
   ],
   "source": [
    "T2uv1=hep.dotprod4(hep.ubu(kf,-1,pin,-1),hep.ubu(pf,-1,ki,1))/u;T2uv1"
   ]
  },
  {
   "cell_type": "code",
   "execution_count": 57,
   "metadata": {},
   "outputs": [
    {
     "data": {
      "image/png": "[encoded data removed]",
      "text/latex": [
       "$\\displaystyle - \\frac{2 m \\sqrt{s} \\sqrt{\\frac{t}{4 m^{2} - s}} \\sqrt{\\frac{u}{4 m^{2} - s}}}{u}$"
      ],
      "text/plain": [
       "             __________      __________ \n",
       "            ╱    t          ╱    u      \n",
       "-2⋅m⋅√s⋅   ╱  ──────── ⋅   ╱  ────────  \n",
       "          ╱      2        ╱      2      \n",
       "        ╲╱    4⋅m  - s  ╲╱    4⋅m  - s  \n",
       "────────────────────────────────────────\n",
       "                   u                    "
      ]
     },
     "execution_count": 57,
     "metadata": {},
     "output_type": "execute_result"
    }
   ],
   "source": [
    "T2u=-4*m*sinthetahalf*costhetahalf*sqrt(s)/2/u;T2u"
   ]
  },
  {
   "cell_type": "markdown",
   "metadata": {},
   "source": [
    "3) $T_u(+,+;-,+)$ :"
   ]
  },
  {
   "cell_type": "code",
   "execution_count": 58,
   "metadata": {},
   "outputs": [
    {
     "data": {
      "image/png": "[encoded data removed]",
      "text/latex": [
       "$\\displaystyle \\frac{2 E m \\sin{\\left(\\theta \\right)}}{u}$"
      ],
      "text/plain": [
       "2⋅E⋅m⋅sin(θ)\n",
       "────────────\n",
       "     u      "
      ]
     },
     "execution_count": 58,
     "metadata": {},
     "output_type": "execute_result"
    }
   ],
   "source": [
    "T3u=hep.dotprod4(hep.ubu(kf,1,pin,-1),hep.ubu(pf,1,ki,1))/u;T3u"
   ]
  },
  {
   "cell_type": "code",
   "execution_count": 59,
   "metadata": {},
   "outputs": [
    {
     "data": {
      "image/png": "[encoded data removed]",
      "text/latex": [
       "$\\displaystyle \\frac{2 m \\sqrt{s} \\sqrt{\\frac{t}{4 m^{2} - s}} \\sqrt{\\frac{u}{4 m^{2} - s}}}{u}$"
      ],
      "text/plain": [
       "            __________      __________\n",
       "           ╱    t          ╱    u     \n",
       "2⋅m⋅√s⋅   ╱  ──────── ⋅   ╱  ──────── \n",
       "         ╱      2        ╱      2     \n",
       "       ╲╱    4⋅m  - s  ╲╱    4⋅m  - s \n",
       "──────────────────────────────────────\n",
       "                  u                   "
      ]
     },
     "execution_count": 59,
     "metadata": {},
     "output_type": "execute_result"
    }
   ],
   "source": [
    "T3u=-T2u;T3u"
   ]
  },
  {
   "cell_type": "markdown",
   "metadata": {},
   "source": [
    "4) $T_u(+,-;-,+)$ :"
   ]
  },
  {
   "cell_type": "code",
   "execution_count": 60,
   "metadata": {},
   "outputs": [
    {
     "data": {
      "image/png": "[encoded data removed]",
      "text/latex": [
       "$\\displaystyle \\frac{\\left(- 8 E^{2} + 4 m^{2}\\right) \\sin^{2}{\\left(\\frac{\\theta}{2} \\right)}}{u}$"
      ],
      "text/plain": [
       "⎛     2      2⎞    2⎛θ⎞\n",
       "⎝- 8⋅E  + 4⋅m ⎠⋅sin ⎜─⎟\n",
       "                    ⎝2⎠\n",
       "───────────────────────\n",
       "           u           "
      ]
     },
     "execution_count": 60,
     "metadata": {},
     "output_type": "execute_result"
    }
   ],
   "source": [
    "T4uv1=hep.dotprod4(hep.ubu(kf,-1,pin,-1),hep.ubu(pf,1,ki,1))/u;T4uv1"
   ]
  },
  {
   "cell_type": "code",
   "execution_count": 61,
   "metadata": {},
   "outputs": [
    {
     "data": {
      "image/png": "[encoded data removed]",
      "text/latex": [
       "$\\displaystyle \\frac{t \\left(- 4 m^{2} + 2 s\\right)}{u \\left(4 m^{2} - s\\right)}$"
      ],
      "text/plain": [
       "  ⎛     2      ⎞\n",
       "t⋅⎝- 4⋅m  + 2⋅s⎠\n",
       "────────────────\n",
       "    ⎛   2    ⎞  \n",
       "  u⋅⎝4⋅m  - s⎠  "
      ]
     },
     "execution_count": 61,
     "metadata": {},
     "output_type": "execute_result"
    }
   ],
   "source": [
    "T4u=(2*s-4*m**2)*sinthetahalf**2/u;T4u"
   ]
  },
  {
   "cell_type": "code",
   "execution_count": 62,
   "metadata": {},
   "outputs": [
    {
     "data": {
      "image/png": "[encoded data removed]",
      "text/latex": [
       "$\\displaystyle - \\frac{2 t}{u}$"
      ],
      "text/plain": [
       "-2⋅t \n",
       "─────\n",
       "  u  "
      ]
     },
     "execution_count": 62,
     "metadata": {},
     "output_type": "execute_result"
    }
   ],
   "source": [
    "T4u.subs(m,0)"
   ]
  },
  {
   "cell_type": "markdown",
   "metadata": {},
   "source": [
    "5) $T_u(-,+;+,+)$ :"
   ]
  },
  {
   "cell_type": "code",
   "execution_count": 63,
   "metadata": {},
   "outputs": [
    {
     "data": {
      "image/png": "[encoded data removed]",
      "text/latex": [
       "$\\displaystyle - \\frac{2 E m \\sin{\\left(\\theta \\right)}}{u}$"
      ],
      "text/plain": [
       "-2⋅E⋅m⋅sin(θ) \n",
       "──────────────\n",
       "      u       "
      ]
     },
     "execution_count": 63,
     "metadata": {},
     "output_type": "execute_result"
    }
   ],
   "source": [
    "T5u=hep.dotprod4(hep.ubu(kf,1,pin,1),hep.ubu(pf,-1,ki,1))/u;T5u"
   ]
  },
  {
   "cell_type": "code",
   "execution_count": 64,
   "metadata": {},
   "outputs": [
    {
     "data": {
      "image/png": "[encoded data removed]",
      "text/latex": [
       "$\\displaystyle - \\frac{2 m \\sqrt{s} \\sqrt{\\frac{t}{4 m^{2} - s}} \\sqrt{\\frac{u}{4 m^{2} - s}}}{u}$"
      ],
      "text/plain": [
       "             __________      __________ \n",
       "            ╱    t          ╱    u      \n",
       "-2⋅m⋅√s⋅   ╱  ──────── ⋅   ╱  ────────  \n",
       "          ╱      2        ╱      2      \n",
       "        ╲╱    4⋅m  - s  ╲╱    4⋅m  - s  \n",
       "────────────────────────────────────────\n",
       "                   u                    "
      ]
     },
     "execution_count": 64,
     "metadata": {},
     "output_type": "execute_result"
    }
   ],
   "source": [
    "T5u=T2u;T5u"
   ]
  },
  {
   "cell_type": "markdown",
   "metadata": {},
   "source": [
    "6) $T_u(-,-;+,+)$ :"
   ]
  },
  {
   "cell_type": "code",
   "execution_count": 65,
   "metadata": {},
   "outputs": [
    {
     "data": {
      "image/png": "[encoded data removed]",
      "text/latex": [
       "$\\displaystyle - \\frac{4 m^{2} \\cos^{2}{\\left(\\frac{\\theta}{2} \\right)}}{u}$"
      ],
      "text/plain": [
       "    2    2⎛θ⎞ \n",
       "-4⋅m ⋅cos ⎜─⎟ \n",
       "          ⎝2⎠ \n",
       "──────────────\n",
       "      u       "
      ]
     },
     "execution_count": 65,
     "metadata": {},
     "output_type": "execute_result"
    }
   ],
   "source": [
    "T6u=hep.dotprod4(hep.ubu(kf,-1,pin,1),hep.ubu(pf,-1,ki,1))/u;T6u"
   ]
  },
  {
   "cell_type": "code",
   "execution_count": 66,
   "metadata": {},
   "outputs": [
    {
     "data": {
      "image/png": "[encoded data removed]",
      "text/latex": [
       "$\\displaystyle - \\frac{4 m^{2}}{4 m^{2} - s}$"
      ],
      "text/plain": [
       "     2  \n",
       " -4⋅m   \n",
       "────────\n",
       "   2    \n",
       "4⋅m  - s"
      ]
     },
     "execution_count": 66,
     "metadata": {},
     "output_type": "execute_result"
    }
   ],
   "source": [
    "T6u=-T1u;T6u"
   ]
  },
  {
   "cell_type": "markdown",
   "metadata": {},
   "source": [
    "7) $T_u(+,+;+,+)$ :"
   ]
  },
  {
   "cell_type": "code",
   "execution_count": 67,
   "metadata": {},
   "outputs": [
    {
     "data": {
      "image/png": "[encoded data removed]",
      "text/latex": [
       "$\\displaystyle \\frac{- 8 E^{2} + 4 m^{2} \\cos^{2}{\\left(\\frac{\\theta}{2} \\right)} + 4 m^{2}}{u}$"
      ],
      "text/plain": [
       "     2      2    2⎛θ⎞      2\n",
       "- 8⋅E  + 4⋅m ⋅cos ⎜─⎟ + 4⋅m \n",
       "                  ⎝2⎠       \n",
       "────────────────────────────\n",
       "             u              "
      ]
     },
     "execution_count": 67,
     "metadata": {},
     "output_type": "execute_result"
    }
   ],
   "source": [
    "T7uv1=hep.dotprod4(hep.ubu(kf,1,pin,1),hep.ubu(pf,1,ki,1))/u;T7uv1"
   ]
  },
  {
   "cell_type": "code",
   "execution_count": 68,
   "metadata": {},
   "outputs": [
    {
     "data": {
      "image/png": "[encoded data removed]",
      "text/latex": [
       "$\\displaystyle \\frac{2 \\cdot \\left(2 m^{2} u + \\left(2 m^{2} - s\\right) \\left(4 m^{2} - s\\right)\\right)}{u \\left(4 m^{2} - s\\right)}$"
      ],
      "text/plain": [
       "  ⎛   2     ⎛   2    ⎞ ⎛   2    ⎞⎞\n",
       "2⋅⎝2⋅m ⋅u + ⎝2⋅m  - s⎠⋅⎝4⋅m  - s⎠⎠\n",
       "──────────────────────────────────\n",
       "             ⎛   2    ⎞           \n",
       "           u⋅⎝4⋅m  - s⎠           "
      ]
     },
     "execution_count": 68,
     "metadata": {},
     "output_type": "execute_result"
    }
   ],
   "source": [
    "T7u=simplify((-2*s+4*m**2*costhetahalf**2+4*m**2)/u);T7u"
   ]
  },
  {
   "cell_type": "code",
   "execution_count": 69,
   "metadata": {},
   "outputs": [
    {
     "data": {
      "image/png": "[encoded data removed]",
      "text/latex": [
       "$\\displaystyle - \\frac{2 s}{u}$"
      ],
      "text/plain": [
       "-2⋅s \n",
       "─────\n",
       "  u  "
      ]
     },
     "execution_count": 69,
     "metadata": {},
     "output_type": "execute_result"
    }
   ],
   "source": [
    "T7u.subs(m,0)"
   ]
  },
  {
   "cell_type": "markdown",
   "metadata": {},
   "source": [
    "8) $T_u(+,-;+,+)$ :"
   ]
  },
  {
   "cell_type": "code",
   "execution_count": 70,
   "metadata": {},
   "outputs": [
    {
     "data": {
      "image/png": "[encoded data removed]",
      "text/latex": [
       "$\\displaystyle - \\frac{2 E m \\sin{\\left(\\theta \\right)}}{u}$"
      ],
      "text/plain": [
       "-2⋅E⋅m⋅sin(θ) \n",
       "──────────────\n",
       "      u       "
      ]
     },
     "execution_count": 70,
     "metadata": {},
     "output_type": "execute_result"
    }
   ],
   "source": [
    "T8uv1=hep.dotprod4(hep.ubu(kf,-1,pin,1),hep.ubu(pf,1,ki,1))/u;T8uv1"
   ]
  },
  {
   "cell_type": "code",
   "execution_count": 71,
   "metadata": {},
   "outputs": [
    {
     "data": {
      "image/png": "[encoded data removed]",
      "text/latex": [
       "$\\displaystyle - \\frac{2 m \\sqrt{s} \\sqrt{\\frac{t}{4 m^{2} - s}} \\sqrt{\\frac{u}{4 m^{2} - s}}}{u}$"
      ],
      "text/plain": [
       "             __________      __________ \n",
       "            ╱    t          ╱    u      \n",
       "-2⋅m⋅√s⋅   ╱  ──────── ⋅   ╱  ────────  \n",
       "          ╱      2        ╱      2      \n",
       "        ╲╱    4⋅m  - s  ╲╱    4⋅m  - s  \n",
       "────────────────────────────────────────\n",
       "                   u                    "
      ]
     },
     "execution_count": 71,
     "metadata": {},
     "output_type": "execute_result"
    }
   ],
   "source": [
    "T8u=T2u;T8u"
   ]
  },
  {
   "cell_type": "code",
   "execution_count": 72,
   "metadata": {},
   "outputs": [
    {
     "data": {
      "image/png": "[encoded data removed]",
      "text/latex": [
       "$\\displaystyle - \\frac{2 m \\sqrt{s} \\sqrt{\\frac{t}{4 m^{2} - s}} \\sqrt{\\frac{u}{4 m^{2} - s}}}{u}$"
      ],
      "text/plain": [
       "             __________      __________ \n",
       "            ╱    t          ╱    u      \n",
       "-2⋅m⋅√s⋅   ╱  ──────── ⋅   ╱  ────────  \n",
       "          ╱      2        ╱      2      \n",
       "        ╲╱    4⋅m  - s  ╲╱    4⋅m  - s  \n",
       "────────────────────────────────────────\n",
       "                   u                    "
      ]
     },
     "execution_count": 72,
     "metadata": {},
     "output_type": "execute_result"
    }
   ],
   "source": [
    "T8u"
   ]
  },
  {
   "cell_type": "code",
   "execution_count": null,
   "metadata": {},
   "outputs": [],
   "source": []
  }
 ],
 "metadata": {
  "kernelspec": {
   "display_name": "Python 3 (ipykernel)",
   "language": "python",
   "name": "python3"
  },
  "language_info": {
   "codemirror_mode": {
    "name": "ipython",
    "version": 3
   },
   "file_extension": ".py",
   "mimetype": "text/x-python",
   "name": "python",
   "nbconvert_exporter": "python",
   "pygments_lexer": "ipython3",
   "version": "3.10.3"
  }
 },
 "nbformat": 4,
 "nbformat_minor": 2
}
