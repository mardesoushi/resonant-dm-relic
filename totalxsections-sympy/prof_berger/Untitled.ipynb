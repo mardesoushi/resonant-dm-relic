{
 "cells": [
  {
   "cell_type": "code",
   "execution_count": 1,
   "id": "c2876ca7",
   "metadata": {},
   "outputs": [
    {
     "name": "stdout",
     "output_type": "stream",
     "text": [
      "Reading heppackv0.py (july 2022)\n",
      "\n",
      "Done\n"
     ]
    }
   ],
   "source": [
    "from sympy import *\n",
    "import heppackv0 as hep"
   ]
  },
  {
   "cell_type": "code",
   "execution_count": 2,
   "id": "9a8dd6fd",
   "metadata": {},
   "outputs": [
    {
     "data": {
      "image/png": "[encoded data removed]",
      "text/latex": [
       "$\\displaystyle \\left[\\begin{matrix}0 & 1\\\\1 & 0\\end{matrix}\\right]$"
      ],
      "text/plain": [
       "⎡0  1⎤\n",
       "⎢    ⎥\n",
       "⎣1  0⎦"
      ]
     },
     "execution_count": 2,
     "metadata": {},
     "output_type": "execute_result"
    }
   ],
   "source": [
    "hep.sig1"
   ]
  },
  {
   "cell_type": "code",
   "execution_count": 3,
   "id": "ca940c1f",
   "metadata": {},
   "outputs": [
    {
     "data": {
      "image/png": "[encoded data removed]",
      "text/latex": [
       "$\\displaystyle \\left[\\begin{matrix}0 & - i\\\\i & 0\\end{matrix}\\right]$"
      ],
      "text/plain": [
       "⎡0  -ⅈ⎤\n",
       "⎢     ⎥\n",
       "⎣ⅈ  0 ⎦"
      ]
     },
     "execution_count": 3,
     "metadata": {},
     "output_type": "execute_result"
    }
   ],
   "source": [
    "hep.sig2"
   ]
  },
  {
   "cell_type": "code",
   "execution_count": 4,
   "id": "6d4d6fae",
   "metadata": {},
   "outputs": [
    {
     "data": {
      "image/png": "[encoded data removed]",
      "text/latex": [
       "$\\displaystyle \\left[\\begin{matrix}1 & 0\\\\0 & -1\\end{matrix}\\right]$"
      ],
      "text/plain": [
       "⎡1  0 ⎤\n",
       "⎢     ⎥\n",
       "⎣0  -1⎦"
      ]
     },
     "execution_count": 4,
     "metadata": {},
     "output_type": "execute_result"
    }
   ],
   "source": [
    "hep.sig3"
   ]
  },
  {
   "cell_type": "code",
   "execution_count": 5,
   "id": "ac93bef0",
   "metadata": {},
   "outputs": [],
   "source": [
    "theta,phi=symbols('theta phi',real=True)"
   ]
  },
  {
   "cell_type": "code",
   "execution_count": 6,
   "id": "caff232e",
   "metadata": {},
   "outputs": [
    {
     "data": {
      "image/png": "[encoded data removed]",
      "text/latex": [
       "$\\displaystyle \\left( 1, \\  0, \\  \\theta, \\  0\\right)$"
      ],
      "text/plain": [
       "(1, 0, θ, 0)"
      ]
     },
     "execution_count": 6,
     "metadata": {},
     "output_type": "execute_result"
    }
   ],
   "source": [
    "nn=(1,0,theta,0);nn"
   ]
  },
  {
   "cell_type": "code",
   "execution_count": 7,
   "id": "34dba336",
   "metadata": {},
   "outputs": [
    {
     "data": {
      "image/png": "[encoded data removed]",
      "text/latex": [
       "$\\displaystyle \\left[ 1, \\  2 \\sin{\\left(\\frac{\\theta}{2} \\right)} \\cos{\\left(\\frac{\\theta}{2} \\right)}, \\  0, \\  - \\sin^{2}{\\left(\\frac{\\theta}{2} \\right)} + \\cos^{2}{\\left(\\frac{\\theta}{2} \\right)}\\right]$"
      ],
      "text/plain": [
       "⎡        ⎛θ⎞    ⎛θ⎞          2⎛θ⎞      2⎛θ⎞⎤\n",
       "⎢1, 2⋅sin⎜─⎟⋅cos⎜─⎟, 0, - sin ⎜─⎟ + cos ⎜─⎟⎥\n",
       "⎣        ⎝2⎠    ⎝2⎠           ⎝2⎠       ⎝2⎠⎦"
      ]
     },
     "execution_count": 7,
     "metadata": {},
     "output_type": "execute_result"
    }
   ],
   "source": [
    "nvec=hep.fourvec(nn);nvec"
   ]
  },
  {
   "cell_type": "code",
   "execution_count": 8,
   "id": "8fb1da98",
   "metadata": {},
   "outputs": [
    {
     "data": {
      "image/png": "[encoded data removed]",
      "text/latex": [
       "$\\displaystyle 2 \\sin{\\left(\\frac{\\theta}{2} \\right)} \\cos{\\left(\\frac{\\theta}{2} \\right)}$"
      ],
      "text/plain": [
       "     ⎛θ⎞    ⎛θ⎞\n",
       "2⋅sin⎜─⎟⋅cos⎜─⎟\n",
       "     ⎝2⎠    ⎝2⎠"
      ]
     },
     "execution_count": 8,
     "metadata": {},
     "output_type": "execute_result"
    }
   ],
   "source": [
    "nvec[1]"
   ]
  },
  {
   "cell_type": "code",
   "execution_count": 13,
   "id": "47ce04f9",
   "metadata": {},
   "outputs": [
    {
     "data": {
      "image/png": "[encoded data removed]",
      "text/latex": [
       "$\\displaystyle \\left[\\begin{matrix}- \\sin^{2}{\\left(\\frac{\\theta}{2} \\right)} + \\cos^{2}{\\left(\\frac{\\theta}{2} \\right)} & 2 \\sin{\\left(\\frac{\\theta}{2} \\right)} \\cos{\\left(\\frac{\\theta}{2} \\right)}\\\\2 \\sin{\\left(\\frac{\\theta}{2} \\right)} \\cos{\\left(\\frac{\\theta}{2} \\right)} & \\sin^{2}{\\left(\\frac{\\theta}{2} \\right)} - \\cos^{2}{\\left(\\frac{\\theta}{2} \\right)}\\end{matrix}\\right]$"
      ],
      "text/plain": [
       "⎡     2⎛θ⎞      2⎛θ⎞        ⎛θ⎞    ⎛θ⎞ ⎤\n",
       "⎢- sin ⎜─⎟ + cos ⎜─⎟   2⋅sin⎜─⎟⋅cos⎜─⎟ ⎥\n",
       "⎢      ⎝2⎠       ⎝2⎠        ⎝2⎠    ⎝2⎠ ⎥\n",
       "⎢                                      ⎥\n",
       "⎢       ⎛θ⎞    ⎛θ⎞       2⎛θ⎞      2⎛θ⎞⎥\n",
       "⎢  2⋅sin⎜─⎟⋅cos⎜─⎟    sin ⎜─⎟ - cos ⎜─⎟⎥\n",
       "⎣       ⎝2⎠    ⎝2⎠        ⎝2⎠       ⎝2⎠⎦"
      ]
     },
     "execution_count": 13,
     "metadata": {},
     "output_type": "execute_result"
    }
   ],
   "source": [
    "sigmaln=hep.sig1*nvec[1]+hep.sig2*nvec[2]+hep.sig3*nvec[3];sigmaln"
   ]
  },
  {
   "cell_type": "code",
   "execution_count": 12,
   "id": "247670fd",
   "metadata": {},
   "outputs": [
    {
     "data": {
      "image/png": "[encoded data removed]",
      "text/latex": [
       "$\\displaystyle \\left[\\begin{matrix}- e^{- i \\phi} \\sin{\\left(\\frac{\\theta}{2} \\right)}\\\\\\cos{\\left(\\frac{\\theta}{2} \\right)}\\end{matrix}\\right]$"
      ],
      "text/plain": [
       "⎡  -ⅈ⋅φ    ⎛θ⎞⎤\n",
       "⎢-ℯ    ⋅sin⎜─⎟⎥\n",
       "⎢          ⎝2⎠⎥\n",
       "⎢             ⎥\n",
       "⎢      ⎛θ⎞    ⎥\n",
       "⎢   cos⎜─⎟    ⎥\n",
       "⎣      ⎝2⎠    ⎦"
      ]
     },
     "execution_count": 12,
     "metadata": {},
     "output_type": "execute_result"
    }
   ],
   "source": [
    "hep.chi2(theta,phi)"
   ]
  },
  {
   "cell_type": "code",
   "execution_count": 15,
   "id": "1838b3c2",
   "metadata": {},
   "outputs": [
    {
     "data": {
      "image/png": "[encoded data removed]",
      "text/latex": [
       "$\\displaystyle \\left[\\begin{matrix}\\cos{\\left(\\frac{\\theta}{2} \\right)}\\\\\\sin{\\left(\\frac{\\theta}{2} \\right)}\\end{matrix}\\right]$"
      ],
      "text/plain": [
       "⎡   ⎛θ⎞⎤\n",
       "⎢cos⎜─⎟⎥\n",
       "⎢   ⎝2⎠⎥\n",
       "⎢      ⎥\n",
       "⎢   ⎛θ⎞⎥\n",
       "⎢sin⎜─⎟⎥\n",
       "⎣   ⎝2⎠⎦"
      ]
     },
     "execution_count": 15,
     "metadata": {},
     "output_type": "execute_result"
    }
   ],
   "source": [
    "simplify(sigmaln*hep.chi1(theta,0))"
   ]
  },
  {
   "cell_type": "code",
   "execution_count": null,
   "id": "f5c114f8",
   "metadata": {},
   "outputs": [],
   "source": []
  }
 ],
 "metadata": {
  "kernelspec": {
   "display_name": "Python 3 (ipykernel)",
   "language": "python",
   "name": "python3"
  },
  "language_info": {
   "codemirror_mode": {
    "name": "ipython",
    "version": 3
   },
   "file_extension": ".py",
   "mimetype": "text/x-python",
   "name": "python",
   "nbconvert_exporter": "python",
   "pygments_lexer": "ipython3",
   "version": "3.10.3"
  }
 },
 "nbformat": 4,
 "nbformat_minor": 5
}
