{
 "cells": [
  {
   "attachments": {},
   "cell_type": "markdown",
   "metadata": {},
   "source": [
    "## 1) Muon-neutrino electron  scattering\n",
    "\n",
    "<img src=\"mudecay.jpg\" width=\"400\"/>\n"
   ]
  },
  {
   "attachments": {},
   "cell_type": "markdown",
   "metadata": {},
   "source": [
    "Fig 1: Feynman diagrams, time axis bottom to top. a) $\\nu_\\mu e^-\\rightarrow \\mu^-\\nu_e \\hspace{1cm}$ b)$\\,\\, \\mu^-\\rightarrow e^-\\nu_\\mu\\bar{\\nu_e}$\n",
    "\n",
    "The amplitudes for the process $\\nu_\\mu+e^-\\rightarrow \\mu^-+\\nu_e$ \n",
    "(fig. 1a) with four momenta $k_i+p_i=k_f+p_f$ are calculated from \n",
    "\n",
    "$$ T_{{fi}}=-\\frac{g^{2}}{2}\\bar{u}(k_f)\\gamma^{\\mu}\\frac{1-\\gamma^{5}}{2}u(k_i)\\frac{g_{{\\mu\\nu}}-q_{{\\mu}}q_{{\\nu}}/M^{2}_{W}}{t-M^{2}_{W}}\\bar{u}(p_f)\\gamma^{\\nu}\\frac{1-\\gamma^{5}}{2}u(p_i)\\hspace{2cm}(1)$$\n",
    "\n",
    "For squared momentum transfers $t$ small compared to $M_W^2$ this reduces with $g^2=8G_FM_W^2/\\sqrt{2}$ to\n",
    "\n",
    "$$T_{{fi}}=\\frac{4G_{{\\mathrm{F}}}}{\\sqrt{2}}\\bar{u}(k_f)\\gamma^{\\mu}\\frac{1-\\gamma^{5}}{2}u(k_i)\\bar{u}(p_f)\\gamma _{\\mu}\\frac{1-\\gamma^{5}}{2}u(p_i)\\enspace ,$$\n",
    "\n",
    "where $G_{{\\mathrm{F}}}={1{,}16638}\\cdot 10^{{-5}}\\,{\\mathrm{GeV^{{-2}}}}$ is the Fermi constant."
   ]
  },
  {
   "cell_type": "code",
   "execution_count": 1,
   "metadata": {},
   "outputs": [],
   "source": [
    "from sympy import *"
   ]
  },
  {
   "cell_type": "code",
   "execution_count": 2,
   "metadata": {},
   "outputs": [
    {
     "name": "stdout",
     "output_type": "stream",
     "text": [
      "Reading heppackv0.py\n",
      "\n",
      "Done\n"
     ]
    }
   ],
   "source": [
    "import heppackv0 as hep"
   ]
  },
  {
   "cell_type": "code",
   "execution_count": 3,
   "metadata": {},
   "outputs": [
    {
     "name": "stdout",
     "output_type": "stream",
     "text": [
      "The CM system is used\n"
     ]
    }
   ],
   "source": [
    "print('The CM system is used')\n",
    "E0,E1,E2,E3,p1,p3,m,M,s,x,y,z,a=symbols('E0 E1 E2 E3 p1 p3 m M s x y z a',positive=True)\n",
    "theta, theta2,theta3=symbols('theta theta2 theta3')"
   ]
  },
  {
   "cell_type": "code",
   "execution_count": 4,
   "metadata": {},
   "outputs": [],
   "source": [
    "ki=[E0,0,0,0]\n",
    "pin=[E1,m,pi,pi]\n",
    "kf=[E3,M,theta,0]\n",
    "pf=[E2,0,pi-theta,pi]"
   ]
  },
  {
   "attachments": {},
   "cell_type": "markdown",
   "metadata": {},
   "source": [
    "The current products $\\bar{u}(k_f)\\gamma^{\\mu}\\frac{1-\\gamma^{5}}{2}u(k_i)\\bar{u}(p_f)\\gamma _{\\mu}\n",
    "\\frac{1-\\gamma^{5}}{2}u(p_i)$ are contained in the package heppackv0. Only the amplitude with all $h_i=-1/2$\n",
    "survives. Clearly here the direct evaluation of the helicity amplitudes is much easier than the standard method as\n",
    "e.g. used in the book \"Gauge theories in particle physics\" by Aitchison & Hey\n"
   ]
  },
  {
   "cell_type": "code",
   "execution_count": 5,
   "metadata": {},
   "outputs": [
    {
     "data": {
      "image/png": "[encoded data removed]",
      "text/latex": [
       "$$2 \\sqrt{E_{0}} \\sqrt{E_{2}} \\left(\\sqrt{E_{1} - m} + \\sqrt{E_{1} + m}\\right) \\left(\\sqrt{E_{3} - M} + \\sqrt{E_{3} + M}\\right)$$"
      ],
      "text/plain": [
       "    ____   ____ ⎛  ________     ________⎞ ⎛  ________     ________⎞\n",
       "2⋅╲╱ E₀ ⋅╲╱ E₂ ⋅⎝╲╱ E₁ - m  + ╲╱ E₁ + m ⎠⋅⎝╲╱ E₃ - M  + ╲╱ E₃ + M ⎠"
      ]
     },
     "execution_count": 5,
     "metadata": {},
     "output_type": "execute_result"
    }
   ],
   "source": [
    "t1=simplify(hep.dotprod4(hep.ubuw(pf,-1,pin,-1),hep.ubuw(kf,-1,ki,-1)));t1"
   ]
  },
  {
   "cell_type": "code",
   "execution_count": 6,
   "metadata": {},
   "outputs": [
    {
     "data": {
      "image/png": "[encoded data removed]",
      "text/latex": [
       "$$16 E_{0} E_{2} \\left(E_{1} E_{3} + E_{1} \\sqrt{E_{3}^{2} - M^{2}} + E_{3} \\sqrt{E_{1}^{2} - m^{2}} + \\sqrt{E_{1} - m} \\sqrt{E_{1} + m} \\sqrt{E_{3} - M} \\sqrt{E_{3} + M}\\right)$$"
      ],
      "text/plain": [
       "         ⎛              __________         __________                         \n",
       "         ⎜             ╱   2    2         ╱   2    2      ________   ________ \n",
       "16⋅E₀⋅E₂⋅⎝E₁⋅E₃ + E₁⋅╲╱  E₃  - M   + E₃⋅╲╱  E₁  - m   + ╲╱ E₁ - m ⋅╲╱ E₁ + m ⋅\n",
       "\n",
       "                     ⎞\n",
       "  ________   ________⎟\n",
       "╲╱ E₃ - M ⋅╲╱ E₃ + M ⎠"
      ]
     },
     "execution_count": 6,
     "metadata": {},
     "output_type": "execute_result"
    }
   ],
   "source": [
    "simplify(expand(t1*t1))"
   ]
  },
  {
   "attachments": {},
   "cell_type": "markdown",
   "metadata": {},
   "source": [
    "As usual the square roots are converted by hand, e.g. $\\sqrt{E_3^2-M^2}=p_3=E_2$. One line further the energies are\n",
    "expressed as functions of $s$, the CM energy squared."
   ]
  },
  {
   "cell_type": "code",
   "execution_count": 7,
   "metadata": {},
   "outputs": [
    {
     "data": {
      "image/png": "[encoded data removed]",
      "text/latex": [
       "$$16 E_{0} E_{2} \\left(E_{0} E_{2} + E_{0} E_{3} + E_{1} E_{2} + E_{1} E_{3}\\right)$$"
      ],
      "text/plain": [
       "16⋅E₀⋅E₂⋅(E₀⋅E₂ + E₀⋅E₃ + E₁⋅E₂ + E₁⋅E₃)"
      ]
     },
     "execution_count": 7,
     "metadata": {},
     "output_type": "execute_result"
    }
   ],
   "source": [
    "t1sqv1=16*E0*E2*(E1*E3+E1*E2+E3*E0+E0*E2);t1sqv1"
   ]
  },
  {
   "cell_type": "code",
   "execution_count": 8,
   "metadata": {},
   "outputs": [
    {
     "data": {
      "image/png": "[encoded data removed]",
      "text/latex": [
       "$$4 M^{2} m^{2} - 4 M^{2} s - 4 m^{2} s + 4 s^{2}$$"
      ],
      "text/plain": [
       "   2  2      2        2        2\n",
       "4⋅M ⋅m  - 4⋅M ⋅s - 4⋅m ⋅s + 4⋅s "
      ]
     },
     "execution_count": 8,
     "metadata": {},
     "output_type": "execute_result"
    }
   ],
   "source": [
    "t1sq=simplify(t1sqv1.subs(E0,(s-m*m)/2/sqrt(s)).subs(E1,(s+m*m)/2/sqrt(s)).subs(E2,(s-M*M)/2/sqrt(s))\n",
    ".subs(E3,(s+M*M)/2/sqrt(s)));t1sq"
   ]
  },
  {
   "attachments": {},
   "cell_type": "markdown",
   "metadata": {},
   "source": [
    "or t1sq$=4(s-m^2)(s-M^2)$\n",
    "which after including the coupling $(4G_F/\\sqrt{2})^2$ yields \n",
    "\n",
    "$$|T_1|^2=\\sum_i |T_i|^2=32G_F^2(s-M^2)(s-m^2)$$\n",
    "and for neutrino scattering off unpolarized electrons\n",
    "$$\\overline{\\sum_i}|T_i|^2=16G_F^2(s-M^2)(s-m^2)\\enspace .$$\n",
    "\n",
    "Finally the cross section is obtained by dividing the result by $16\\pi(s-m^2)^2$, that is\n",
    "$$\\frac{\\mathrm{d}\\sigma }{\\mathrm{d}t}(\\nu_\\mu+e^-\\rightarrow \\mu^-+\\nu_e)\n",
    "=\\frac{G_F^2}{\\pi(s-m^2)}(s-M^2)\\enspace .$$ \n",
    "\n",
    "Experimentally neutrinos are scattered off electrons at rest with $s=2E_0m+m^2$.\n",
    "\n",
    "Next \n",
    "$\\mathrm{d}\\sigma/\\mathrm{d}\\Omega$ is calculated by multiplying $\\overline{\\sum_i}|T_i|^2$\n",
    "with the usual kinematical factors\n",
    "\n",
    "\n"
   ]
  },
  {
   "cell_type": "code",
   "execution_count": 9,
   "metadata": {},
   "outputs": [
    {
     "data": {
      "image/png": "[encoded data removed]",
      "text/latex": [
       "$$\\frac{M^{4} - 2 M^{2} s + s^{2}}{32 \\pi^{2} s}$$"
      ],
      "text/plain": [
       " 4      2      2\n",
       "M  - 2⋅M ⋅s + s \n",
       "────────────────\n",
       "        2       \n",
       "    32⋅π ⋅s     "
      ]
     },
     "execution_count": 9,
     "metadata": {},
     "output_type": "execute_result"
    }
   ],
   "source": [
    "simplify(t1sq/2*(s-M**2)/(s-m**2)/s/64/pi/pi)"
   ]
  },
  {
   "attachments": {},
   "cell_type": "markdown",
   "metadata": {},
   "source": [
    "i.e. after including the coupling\n",
    "\n",
    "$$\\frac{\\mathrm{d}\\sigma }{\\mathrm{d}\\Omega}=\\frac{G_F^2}{4\\pi^2s}(s-M^2)^2$$\n",
    "with the total cross section\n",
    "$$\\sigma(\\nu_\\mu+e^-\\rightarrow \\mu^-+\\nu_e)=\\frac{G_F^2}{\\pi s}(s-M^2)^2$$\n",
    "which simplifies at high energies to\n",
    "\n",
    "$$\\sigma=\\frac{G_F^2}{\\pi}s\\enspace .$$\n",
    "The unlimited increase with $s$ violates unitarity.\n",
    "\n",
    "In order to find the unitarity limit we invoke the partial wave expansion of the scattering amplitude, which reads in the high energy limit (eq. 2.236 and 2.267 of the book, explanations in the text and table of the $d^J_{\\lambda,\\mu}$)\n",
    "$$\n",
    "T_{{\\lambda _{3}\\lambda _{4},\\lambda _{1}\\lambda _{2}}}=16\\pi\\sum _{J}(2J+1)t_{{\\lambda _{3}\\lambda _{4},\\lambda _{1}\\lambda _{2}}}^{J}(\\sqrt{s})d^J_{\\lambda,\\mu}(\\Theta)\\mathrm{e}^{{\\mathrm{i}(\\lambda-\\mu)\\phi}}\n",
    "$$\n",
    "\n",
    "For an isotropic amplitude the expansion reduces to one term \n",
    "$T_1=16\\pi t^0$, where we have ommitted the helicity indices of $t^0$. Like in the spinless case the representation\n",
    "$t^J=\\mathrm{e}^{{\\mathrm{i}\\delta _{J}}}\\sin\\delta _{J}$ restricts $|t^J|<1$ and $\\Re{(t^J)}<1/2$. The first order born approximation is ok for calculating $|T_{{fi}}|$\n",
    "without a possible phase $\\Phi$. In order to ensure $|T_{{fi}}|\\cos\\Phi<1/2$ for all values of $\\Phi$ \n",
    "the condition $|T_1|<8\\pi$ must therefor hold resulting in\n",
    "$$\\frac{4G_{{\\mathrm{F}}}}{\\sqrt{2}}2s<8\\pi$$\n",
    "or $$s\\lt \\frac{\\sqrt{2}\\pi}{G_F}$$ \n",
    "corresponding to a maximum neutrino energy of 310 GeV in the CM system. The violation of the unitarity limit is very much softened by including the $W$ boson propagator of fig.1. The propagator term in (1) contributes only for\n",
    "$t>8$ GeV$^2$ (i.e. for CM system energies $>10$ GeV) more than $1\\%$ to the cross section. At these energies the difference between muon momenta and energies is $\\cal{O}$ $(10^{-5})$ and therefor $t$ can be safely approximated\n",
    "by $-s(1-\\cos\\Theta)/2$. In addition the $q_\\mu q_\\nu/M_W^2$ term in the nominator can be neglected because with \n",
    "the help of the Dirac equation $q_\\nu\\gamma^\\nu u$ reduces to $Mu$. At these energies the amplitude $T_1$ is\n",
    "thus replaced by\n",
    "\n",
    "$$T_1=4\\sqrt{2}G_F\\frac{-sM_W^2}{M_W^2+s(1-\\cos\\Theta)/2}$$\n",
    "\n",
    "leading to\n",
    "\n",
    "$$\\frac{\\mathrm{d}\\sigma }{\\mathrm{d}\\Omega}=\\frac{G_F^2}{4\\pi^2}\n",
    "\\frac{sM_W^4}{(M_W^2+s(1-\\cos\\Theta)/2)^2}\\enspace .$$\n",
    "\n",
    "From this the total cross section is easily derived with the help of "
   ]
  },
  {
   "cell_type": "code",
   "execution_count": 10,
   "metadata": {},
   "outputs": [
    {
     "data": {
      "image/png": "[encoded data removed]",
      "text/latex": [
       "$$- \\frac{2}{a^{2} \\left(a^{2} + s\\right)}$$"
      ],
      "text/plain": [
       "    -2     \n",
       "───────────\n",
       " 2 ⎛ 2    ⎞\n",
       "a ⋅⎝a  + s⎠"
      ]
     },
     "execution_count": 10,
     "metadata": {},
     "output_type": "execute_result"
    }
   ],
   "source": [
    "simplify(integrate(1/(a**2+s/2*(1-z))**2,(z,1,-1)))"
   ]
  },
  {
   "attachments": {},
   "cell_type": "markdown",
   "metadata": {},
   "source": [
    "(here $ z=\\cos(\\Theta), a=M_W)$\n",
    "\n",
    "$$\\sigma=\\frac{G_F^2}{\\pi}\n",
    "\\frac{M_W^2s}{(M_W^2+s)}$$\n",
    "\n",
    "\n",
    "leading to the constant high energy limit\n",
    "\n",
    "$$\\sigma=\\frac{G_F^2M_W^2}{\\pi}\\enspace .$$\n",
    "\n",
    "The dependence of $T_1$ on $\\Theta$ obviously requires a superposition of many partial waves.\n",
    "Using $\\int d^J_{00}d\\cos\\Theta=0$for $J>1$ the $s$ wave can be easily calculated via integrating\n",
    "$T_{{\\lambda _{3}\\lambda _{4},\\lambda _{1}\\lambda _{2}}}=T_1$:"
   ]
  },
  {
   "cell_type": "code",
   "execution_count": 11,
   "metadata": {},
   "outputs": [
    {
     "data": {
      "image/png": "[encoded data removed]",
      "text/latex": [
       "$$- \\log{\\left (\\left(\\frac{a^{2}}{a^{2} + s}\\right)^{\\frac{2}{s}} \\right )}$$"
      ],
      "text/plain": [
       "    ⎛        2⎞\n",
       "    ⎜        ─⎟\n",
       "    ⎜        s⎟\n",
       "    ⎜⎛   2  ⎞ ⎟\n",
       "    ⎜⎜  a   ⎟ ⎟\n",
       "-log⎜⎜──────⎟ ⎟\n",
       "    ⎜⎜ 2    ⎟ ⎟\n",
       "    ⎝⎝a  + s⎠ ⎠"
      ]
     },
     "execution_count": 11,
     "metadata": {},
     "output_type": "execute_result"
    }
   ],
   "source": [
    "simplify(integrate(1/(a**2+s/2*(1-z)),(z,-1,1)))"
   ]
  },
  {
   "attachments": {},
   "cell_type": "markdown",
   "metadata": {},
   "source": [
    "leading to \n",
    "$$t^0=\\frac{G_FM_W^2}{2\\sqrt{2}\\pi}\\ln{\\left(1+\\frac{s}{M_W^2}\\right)}$$\n",
    "\n",
    "Surprisingly th amplitude again rises with $s$ but only logarithmitically. With a $W$ mass of 80.4 GeV the limit\n",
    "$t_0=1/2$ will only be reached at very high energies."
   ]
  },
  {
   "cell_type": "code",
   "execution_count": 12,
   "metadata": {},
   "outputs": [
    {
     "data": {
      "image/png": "[encoded data removed]",
      "text/latex": [
       "$$\\frac{0.0360700128 \\sqrt{2}}{\\pi}$$"
      ],
      "text/plain": [
       "0.0360700128⋅√2\n",
       "───────────────\n",
       "       π       "
      ]
     },
     "execution_count": 12,
     "metadata": {},
     "output_type": "execute_result"
    }
   ],
   "source": [
    "r=1.116e-5*80.4**2/sqrt(2)/pi;r"
   ]
  },
  {
   "cell_type": "code",
   "execution_count": 13,
   "metadata": {},
   "outputs": [
    {
     "data": {
      "image/png": "[encoded data removed]",
      "text/latex": [
       "$$1.89971596831086 \\cdot 10^{15}$$"
      ],
      "text/plain": [
       "1.89971596831086e+15"
      ]
     },
     "execution_count": 13,
     "metadata": {},
     "output_type": "execute_result"
    }
   ],
   "source": [
    "sqrtofs=80.4*sqrt((exp(1/r)).evalf());sqrtofs"
   ]
  },
  {
   "attachments": {},
   "cell_type": "markdown",
   "metadata": {},
   "source": [
    "that is, CM beam energies of $\\approx 10^{15}$ GeV or laboratory energies close to the Planck mass. This extremely\n",
    "weak violation of unitarity needs not concern us.\n",
    "\n",
    "Historically the unitarity argument was a major motivation in the search for an \"intermediate vector boson\"."
   ]
  },
  {
   "attachments": {},
   "cell_type": "markdown",
   "metadata": {},
   "source": [
    "## 2) Muon decay rate\n",
    "$\\overline{\\sum_i}|T_i|^2$ for muon decay can be directly taken from the scattering formula invoking crossing symmetry. Consider fig. 1a with the time arrow pointing from top to bottom and in addition bending the $\\nu_e$ \n",
    "line downward. Then the diagram describes the decay $\\mu^+\\rightarrow e^+\\nu_e\\bar{\\nu_\\mu}$, which is equivalent\n",
    "to the diagram in fig. 1b describing $\\mu^-\\rightarrow e^-\\bar{\\nu_e}\\nu_\\mu$ with the usual direction of time.\n",
    "The variable $s=(k_i+p_i)^2=(k_f+p_f)^2$ is with $p_f\\rightarrow -p_f$ transformed to $s'=(k_f-p_f)^2$. For a muon at\n",
    "rest $k_f=(M,0)$ and denoting the $\\nu_e$ energy again by $E_2$ it follows $s'=M^2-2ME_2$ resulting in\n",
    "\n",
    "$$\\overline{\\sum_i}|T_i|^2=16G_F^2(M^2-s')(s'-m^2)=32G_F^2ME_2(M^2-m^2 -2E_2M)=\n",
    "32G_F^2M^3E_2\\left(1-x -2\\frac{E_2}{M}\\right)\\enspace $$\n",
    "with $x=m^2/M^2$. The extra $(-)$ sign is according to the crossing symmetry rules due to the bending of one fermion line.\n",
    "\n",
    "The differential decay rate for the three body decay is given by\n",
    "$$\\frac{\\mathrm{d}^{2}\\Gamma(E_{1},E_{2})}{\\mathrm{d}E_{1}\\mathrm{d}E_{2}}=\\frac{1}{64\\pi^{3}M}\\overline{\\sum}|T_{{fi}}(E_{1},E_{2})|^{2}\\enspace$$\n",
    "\n",
    "i.e.\n",
    "$$\\frac{\\mathrm{d}^{2}\\Gamma(E_{1},E_{2})}{\\mathrm{d}E_{1}\\mathrm{d}E_{2}}=\n",
    "\\frac{G_F^2M^2}{2\\pi^{3}}E_2\\left(1-x -2\\frac{E_2}{M}\\right)$$\n",
    "\n",
    "In order to calculate the total decay rate, $dG=E_2\\left(1-x -2\\frac{E_2}{M}\\right)$ has to be inegrated over\n",
    "$E_2$ in the limits of the contour $E_2=f(E_1)$ in the $E_2,E_1$ plane, where $E_1$ is the energy of the electron."
   ]
  },
  {
   "cell_type": "code",
   "execution_count": 14,
   "metadata": {},
   "outputs": [
    {
     "data": {
      "image/png": "[encoded data removed]",
      "text/latex": [
       "$$E_{2} \\left(- \\frac{2 E_{2}}{M} - x + 1\\right)$$"
      ],
      "text/plain": [
       "   ⎛  2⋅E₂        ⎞\n",
       "E₂⋅⎜- ──── - x + 1⎟\n",
       "   ⎝   M          ⎠"
      ]
     },
     "execution_count": 14,
     "metadata": {},
     "output_type": "execute_result"
    }
   ],
   "source": [
    "dG=(E2*(1-2*E2/M-x));dG"
   ]
  },
  {
   "attachments": {},
   "cell_type": "markdown",
   "metadata": {},
   "source": [
    "The possible values of $E_1,E_2$ are restricted by 3-momentum conservation $\\vec{p_3}=-\\vec{p_1}-\\vec{p_2}$. Choosing the direction of $\\vec{p_1}$ as the $x$-axis of the coordinate system results in\n",
    "$p_3^2=p_1^2+p_2^2+2p_1p_2\\cos{\\theta_2}$. We express $\\cos{\\theta_2}$ as function of $E_1,E_2$ and solve the\n",
    "equation for $\\cos{\\theta_2}=\\pm 1$"
   ]
  },
  {
   "cell_type": "code",
   "execution_count": 15,
   "metadata": {},
   "outputs": [
    {
     "data": {
      "image/png": "[encoded data removed]",
      "text/latex": [
       "$$\\frac{E_{1} E_{2} - E_{1} M - E_{2} M + \\frac{M^{2} x}{2} + \\frac{M^{2}}{2}}{E_{2} \\sqrt{E_{1}^{2} - M^{2} x}}$$"
      ],
      "text/plain": [
       "                       2      2\n",
       "                      M ⋅x   M \n",
       "E₁⋅E₂ - E₁⋅M - E₂⋅M + ──── + ──\n",
       "                       2     2 \n",
       "───────────────────────────────\n",
       "             ____________      \n",
       "            ╱   2    2         \n",
       "       E₂⋅╲╱  E₁  - M ⋅x       "
      ]
     },
     "execution_count": 15,
     "metadata": {},
     "output_type": "execute_result"
    }
   ],
   "source": [
    "costheta2=simplify(expand((M-E1-E2)**2-(E1**2-M**2*x)-E2**2)/2/E2/sqrt(E1**2-M**2*x));costheta2"
   ]
  },
  {
   "cell_type": "code",
   "execution_count": 16,
   "metadata": {},
   "outputs": [
    {
     "data": {
      "image/png": "[encoded data removed]",
      "text/latex": [
       "$$\\frac{M \\left(- 2 E_{1} + M x + M\\right)}{2 \\left(- E_{1} + M + \\sqrt{E_{1}^{2} - M^{2} x}\\right)}$$"
      ],
      "text/plain": [
       "     M⋅(-2⋅E₁ + M⋅x + M)     \n",
       "─────────────────────────────\n",
       "  ⎛             ____________⎞\n",
       "  ⎜            ╱   2    2   ⎟\n",
       "2⋅⎝-E₁ + M + ╲╱  E₁  - M ⋅x ⎠"
      ]
     },
     "execution_count": 16,
     "metadata": {},
     "output_type": "execute_result"
    }
   ],
   "source": [
    "h1=solve(costheta2-1,E2)\n",
    "highlim=h1[0];highlim"
   ]
  },
  {
   "cell_type": "code",
   "execution_count": 17,
   "metadata": {},
   "outputs": [
    {
     "data": {
      "image/png": "[encoded data removed]",
      "text/latex": [
       "$$\\frac{M \\left(2 E_{1} - M x - M\\right)}{2 \\left(E_{1} - M + \\sqrt{E_{1}^{2} - M^{2} x}\\right)}$$"
      ],
      "text/plain": [
       "     M⋅(2⋅E₁ - M⋅x - M)     \n",
       "────────────────────────────\n",
       "  ⎛            ____________⎞\n",
       "  ⎜           ╱   2    2   ⎟\n",
       "2⋅⎝E₁ - M + ╲╱  E₁  - M ⋅x ⎠"
      ]
     },
     "execution_count": 17,
     "metadata": {},
     "output_type": "execute_result"
    }
   ],
   "source": [
    "h2=solve(costheta2+1,E2)\n",
    "lowlim=h2[0];lowlim"
   ]
  },
  {
   "cell_type": "code",
   "execution_count": 18,
   "metadata": {},
   "outputs": [
    {
     "data": {
      "image/png": "[encoded data removed]",
      "text/latex": [
       "$$\\frac{x - 1}{\\sqrt{x^{2} - 2 x + 1}}$$"
      ],
      "text/plain": [
       "      x - 1      \n",
       "─────────────────\n",
       "   ______________\n",
       "  ╱  2           \n",
       "╲╱  x  - 2⋅x + 1 "
      ]
     },
     "execution_count": 18,
     "metadata": {},
     "output_type": "execute_result"
    }
   ],
   "source": [
    "simplify(costheta2.subs(E1,M/2*(1+x)))"
   ]
  },
  {
   "cell_type": "code",
   "execution_count": 19,
   "metadata": {},
   "outputs": [
    {
     "data": {
      "image/png": "[encoded data removed]",
      "text/latex": [
       "$$-1$$"
      ],
      "text/plain": [
       "-1"
      ]
     },
     "execution_count": 19,
     "metadata": {},
     "output_type": "execute_result"
    }
   ],
   "source": [
    "simplify(costheta2.subs(x,0).subs(E1,M/2))"
   ]
  },
  {
   "attachments": {},
   "cell_type": "markdown",
   "metadata": {},
   "source": [
    "The vertical straight line at the upper limit of $E_1=M(1+x)/2$ satisfies $\\cos{\\theta_2}=-1$. The negative sign is proven in the limit $m=0$. Fig. 2 shows the resulting contour in red for fictitious masses $M=2,\\,m=\\sqrt{0.1}$.\n",
    "The blue triangle represents the the case $m=0$. "
   ]
  },
  {
   "cell_type": "code",
   "execution_count": 45,
   "metadata": {},
   "outputs": [
    {
     "data": {
      "image/png": "[encoded data removed]",
      "text/plain": [
       "<Figure size 432x288 with 1 Axes>"
      ]
     },
     "metadata": {
      "needs_background": "light"
     },
     "output_type": "display_data"
    }
   ],
   "source": [
    "# Start with the triangle representing the decay of a particle with \n",
    "#M=2 GeV into 3 massless particles. \n",
    "pl1=plot(1,1-E1,(E1,0,1),ylim=[0,1],ylabel=E2,title='Fig. 2 Dalitz plot contours',show=False)\n",
    "pl11=plot_implicit(Eq(x,1.0),(x,0,2),(y,0,1),show=False)\n",
    "# Now m=0.316\n",
    "pl2=plot(highlim.subs(M,2).subs(x,0.025),lowlim.subs(M,2).subs(x,0.025),\n",
    "(E1,0.3165,1.025),show=False)\n",
    "pl2[0].line_color='r'\n",
    "pl2[1].line_color='r'\n",
    "pl21=plot_implicit(Eq(x,1.025),(x,0,2),(y,0,0.975),show=False)\n",
    "pl21[0].line_color='r'\n",
    "pl2.append(pl21[0])\n",
    "pl1.append(pl11[0])\n",
    "pl1.extend(pl2)\n",
    "pl1.show()\n"
   ]
  },
  {
   "cell_type": "code",
   "execution_count": 21,
   "metadata": {},
   "outputs": [
    {
     "data": {
      "image/png": "[encoded data removed]",
      "text/latex": [
       "$$\\frac{\\sqrt{E_{1}^{2} - M^{2} x} \\left(- 4 E_{1}^{2} + 3 E_{1} M x + 3 E_{1} M - 2 M^{2} x\\right)}{6 M}$$"
      ],
      "text/plain": [
       "   ____________                                       \n",
       "  ╱   2    2    ⎛      2                          2  ⎞\n",
       "╲╱  E₁  - M ⋅x ⋅⎝- 4⋅E₁  + 3⋅E₁⋅M⋅x + 3⋅E₁⋅M - 2⋅M ⋅x⎠\n",
       "──────────────────────────────────────────────────────\n",
       "                         6⋅M                          "
      ]
     },
     "execution_count": 21,
     "metadata": {},
     "output_type": "execute_result"
    }
   ],
   "source": [
    "dGdE=simplify(integrate(dG,(E2,highlim,lowlim)));dGdE"
   ]
  },
  {
   "attachments": {},
   "cell_type": "markdown",
   "metadata": {},
   "source": [
    "Multiplying with $G_F^2M^2/2\\pi^3$ leads to\n",
    "$$\\frac{\\mathrm{d}\\Gamma}{\\mathrm{d}E_{1}}=\\frac{G_F^2M}{12\\pi^3}p_1(3E_1M(1+x)-4E_1^2-2M^2x)$$\n",
    "For muon decay $x=2.3\\cdot10^{-5}$ and can be set to $0$ in most cases."
   ]
  },
  {
   "cell_type": "code",
   "execution_count": 22,
   "metadata": {},
   "outputs": [
    {
     "data": {
      "image/png": "[encoded data removed]",
      "text/latex": [
       "$$\\frac{E_{1}^{2} \\left(- \\frac{2 E_{1}}{3} + \\frac{M}{2}\\right)}{M}$$"
      ],
      "text/plain": [
       "  2 ⎛  2⋅E₁   M⎞\n",
       "E₁ ⋅⎜- ──── + ─⎟\n",
       "    ⎝   3     2⎠\n",
       "────────────────\n",
       "       M        "
      ]
     },
     "execution_count": 22,
     "metadata": {},
     "output_type": "execute_result"
    }
   ],
   "source": [
    "dGdE0=simplify(dGdE.subs(x,0));dGdE0"
   ]
  },
  {
   "cell_type": "code",
   "execution_count": 23,
   "metadata": {},
   "outputs": [
    {
     "data": {
      "image/png": "[encoded data removed]",
      "text/latex": [
       "$$\\frac{M^{3}}{96}$$"
      ],
      "text/plain": [
       " 3\n",
       "M \n",
       "──\n",
       "96"
      ]
     },
     "execution_count": 23,
     "metadata": {},
     "output_type": "execute_result"
    }
   ],
   "source": [
    "integrate(dGdE0,(E1,0,M/2))"
   ]
  },
  {
   "attachments": {},
   "cell_type": "markdown",
   "metadata": {},
   "source": [
    "Thus, neglecting the electron mass the electron energy spectrum is given by\n",
    "$$\\frac{\\mathrm{d}\\Gamma_0}{\\mathrm{d}E_{1}}=\\frac{G_F^2M}{12\\pi^3}(3E_1^2M-4E_1^3)$$\n",
    "with the total decay rate\n",
    "$$\\Gamma_0=\\frac{G_F^2M^5}{192\\pi^3}$$\n",
    "The relative differential decay rates are defined by\n",
    "$$\\frac{\\mathrm{d}\\Gamma_0}{\\Gamma_0\\mathrm{d}E_{1}}=\\frac{16}{M^4}(3E_1^2M-4E_1^3)$$\n",
    "and\n",
    "$$\\frac{\\mathrm{d}\\Gamma}{\\Gamma_0\\mathrm{d}E_{1}}=\\frac{16}{M^4}p_1(3E_1M(1+x)-4E_1^2-2M^2x)$$"
   ]
  },
  {
   "cell_type": "code",
   "execution_count": 24,
   "metadata": {},
   "outputs": [
    {
     "data": {
      "image/png": "[encoded data removed]",
      "text/latex": [
       "$$\\frac{16 E_{1}^{2} \\left(- 4 E_{1} + 3 M\\right)}{M^{4}}$$"
      ],
      "text/plain": [
       "     2              \n",
       "16⋅E₁ ⋅(-4⋅E₁ + 3⋅M)\n",
       "────────────────────\n",
       "          4         \n",
       "         M          "
      ]
     },
     "execution_count": 24,
     "metadata": {},
     "output_type": "execute_result"
    }
   ],
   "source": [
    "G0plot=16/M**4*simplify(dGdE0*6*M);G0plot"
   ]
  },
  {
   "cell_type": "code",
   "execution_count": 25,
   "metadata": {},
   "outputs": [
    {
     "data": {
      "image/png": "[encoded data removed]",
      "text/latex": [
       "$$\\frac{16 \\sqrt{E_{1}^{2} - M^{2} x} \\left(- 4 E_{1}^{2} + 3 E_{1} M x + 3 E_{1} M - 2 M^{2} x\\right)}{M^{4}}$$"
      ],
      "text/plain": [
       "      ____________                                       \n",
       "     ╱   2    2    ⎛      2                          2  ⎞\n",
       "16⋅╲╱  E₁  - M ⋅x ⋅⎝- 4⋅E₁  + 3⋅E₁⋅M⋅x + 3⋅E₁⋅M - 2⋅M ⋅x⎠\n",
       "─────────────────────────────────────────────────────────\n",
       "                             4                           \n",
       "                            M                            "
      ]
     },
     "execution_count": 25,
     "metadata": {},
     "output_type": "execute_result"
    }
   ],
   "source": [
    "Gplot=16/M**4*dGdE*6*M;Gplot"
   ]
  },
  {
   "cell_type": "code",
   "execution_count": 26,
   "metadata": {},
   "outputs": [
    {
     "data": {
      "image/png": "[encoded data removed]",
      "text/plain": [
       "<Figure size 432x288 with 1 Axes>"
      ]
     },
     "metadata": {
      "needs_background": "light"
     },
     "output_type": "display_data"
    }
   ],
   "source": [
    "p2=plot(G0plot.subs(M,0.106),(E1,0,0.053),\n",
    "title='Fig.3 electron energy distribution in muon decay',\n",
    "show=False)\n",
    "p21=plot(Gplot.subs(M,0.106).subs(x,2.3E-5),(E1,0.001,0.053),show=False)\n",
    "p21[0].line_color='r'\n",
    "p2.append(p21[0])\n",
    "p2.show()"
   ]
  },
  {
   "cell_type": "code",
   "execution_count": 27,
   "metadata": {},
   "outputs": [
    {
     "data": {
      "image/png": "[encoded data removed]",
      "text/plain": [
       "<Figure size 432x288 with 1 Axes>"
      ]
     },
     "metadata": {
      "needs_background": "light"
     },
     "output_type": "display_data"
    }
   ],
   "source": [
    "p3=plot(G0plot.subs(M,1.78),(E1,0,0.89),\n",
    "title='Fig.4 electron energy distribution in tau decay',\n",
    "show=False)\n",
    "p31=plot(Gplot.subs(M,1.78).subs(x,3.5E-3),(E1,0.11,0.89),show=False)\n",
    "p31[0].line_color='r'\n",
    "p3.append(p31[0])\n",
    "p3.show()"
   ]
  },
  {
   "attachments": {},
   "cell_type": "markdown",
   "metadata": {},
   "source": [
    "For muon decay the curves for $m=0$ and $m=0.51$ MeV are practically identical except for very small $E_1$ (test it!), whereas for $\\tau\\rightarrow \\mu\\nu\\bar{\\nu}$ there is a marked difference. The integral $\\int\\frac{\\mathrm{d}\\Gamma}{\\mathrm{d}E_{1}}\\mathrm{d}E_1$ looks very ugly so we calculate $\\Gamma$ via\n",
    "$\\int\\frac{\\mathrm{d}\\Gamma}{\\mathrm{d}p_{1}}\\mathrm{d}p_1=\\int\\frac{\\mathrm{d}\\Gamma}{\\mathrm{d}E_{1}}\\frac{p_1}{E_1}\\mathrm{d}p_{1}$\n"
   ]
  },
  {
   "cell_type": "code",
   "execution_count": 28,
   "metadata": {},
   "outputs": [
    {
     "data": {
      "image/png": "[encoded data removed]",
      "text/latex": [
       "$$p_{1}^{2} \\left(- 4 E_{1} + 3 M \\left(x + 1\\right) - \\frac{2 M^{2} x}{E_{1}}\\right)$$"
      ],
      "text/plain": [
       "    ⎛                         2  ⎞\n",
       "  2 ⎜                      2⋅M ⋅x⎟\n",
       "p₁ ⋅⎜-4⋅E₁ + 3⋅M⋅(x + 1) - ──────⎟\n",
       "    ⎝                        E₁  ⎠"
      ]
     },
     "execution_count": 28,
     "metadata": {},
     "output_type": "execute_result"
    }
   ],
   "source": [
    "dgamdp=p1**2*(3*M*(1+x)-4*E1-2*M**2*x/E1);dgamdp"
   ]
  },
  {
   "cell_type": "code",
   "execution_count": 29,
   "metadata": {},
   "outputs": [
    {
     "data": {
      "image/png": "[encoded data removed]",
      "text/latex": [
       "$$p_{1}^{2} \\left(- \\frac{2 M^{2} x}{\\sqrt{m^{2} + p_{1}^{2}}} + 3 M \\left(x + 1\\right) - 4 \\sqrt{m^{2} + p_{1}^{2}}\\right)$$"
      ],
      "text/plain": [
       "    ⎛         2                           __________⎞\n",
       "  2 ⎜      2⋅M ⋅x                        ╱  2     2 ⎟\n",
       "p₁ ⋅⎜- ───────────── + 3⋅M⋅(x + 1) - 4⋅╲╱  m  + p₁  ⎟\n",
       "    ⎜     __________                                ⎟\n",
       "    ⎜    ╱  2     2                                 ⎟\n",
       "    ⎝  ╲╱  m  + p₁                                  ⎠"
      ]
     },
     "execution_count": 29,
     "metadata": {},
     "output_type": "execute_result"
    }
   ],
   "source": [
    "dgamdp1=dgamdp.subs(E1,sqrt(p1**2+m**2));dgamdp1"
   ]
  },
  {
   "cell_type": "code",
   "execution_count": 30,
   "metadata": {},
   "outputs": [
    {
     "data": {
      "image/png": "[encoded data removed]",
      "text/latex": [
       "$$- \\frac{M^{4} x \\left(x - 1\\right)^{3}}{8} - \\frac{M^{4} \\left(x - 1\\right)^{3}}{8} + \\frac{M^{3} x \\left(x - 1\\right) \\sqrt{M^{2} \\left(x - 1\\right)^{2} + 4 m^{2}}}{4} + \\frac{M^{3} \\left(x - 1\\right)^{3} \\sqrt{M^{2} \\left(x - 1\\right)^{2} + 4 m^{2}}}{16} - M^{2} m^{2} x \\operatorname{asinh}{\\left (\\frac{M \\left(x - 1\\right)}{2 m} \\right )} + \\frac{M m^{2} \\left(x - 1\\right) \\sqrt{M^{2} \\left(x - 1\\right)^{2} + 4 m^{2}}}{8} - \\frac{m^{4} \\operatorname{asinh}{\\left (\\frac{M \\left(x - 1\\right)}{2 m} \\right )}}{2}$$"
      ],
      "text/plain": [
       "                                                ____________________          \n",
       "   4          3    4        3    3             ╱  2        2      2     3     \n",
       "  M ⋅x⋅(x - 1)    M ⋅(x - 1)    M ⋅x⋅(x - 1)⋅╲╱  M ⋅(x - 1)  + 4⋅m     M ⋅(x -\n",
       "- ───────────── - ─────────── + ──────────────────────────────────── + ───────\n",
       "        8              8                         4                            \n",
       "\n",
       "        ____________________                                              ____\n",
       "   3   ╱  2        2      2                                  2           ╱  2 \n",
       " 1) ⋅╲╱  M ⋅(x - 1)  + 4⋅m      2  2        ⎛M⋅(x - 1)⎞   M⋅m ⋅(x - 1)⋅╲╱  M ⋅\n",
       "──────────────────────────── - M ⋅m ⋅x⋅asinh⎜─────────⎟ + ────────────────────\n",
       "          16                                ⎝   2⋅m   ⎠                    8  \n",
       "\n",
       "________________    4      ⎛M⋅(x - 1)⎞\n",
       "       2      2    m ⋅asinh⎜─────────⎟\n",
       "(x - 1)  + 4⋅m             ⎝   2⋅m   ⎠\n",
       "──────────────── - ───────────────────\n",
       "                            2         "
      ]
     },
     "execution_count": 30,
     "metadata": {},
     "output_type": "execute_result"
    }
   ],
   "source": [
    "Gam1=simplify(integrate(dgamdp1,(p1,0,M*(1-x)/2)));Gam1"
   ]
  },
  {
   "cell_type": "code",
   "execution_count": 31,
   "metadata": {},
   "outputs": [
    {
     "data": {
      "image/png": "[encoded data removed]",
      "text/latex": [
       "$$0$$"
      ],
      "text/plain": [
       "0"
      ]
     },
     "execution_count": 31,
     "metadata": {},
     "output_type": "execute_result"
    }
   ],
   "source": [
    "h1=simplify(M**2*(x-1)**2+4*m**2).subs(x,m**2/M**2);h1\n",
    "simplify(h1-(M**2*(1+x)**2).subs(x,m**2/M**2))"
   ]
  },
  {
   "attachments": {},
   "cell_type": "markdown",
   "metadata": {},
   "source": [
    "The complicated expression for $\\Gamma_1$ can be greatly simplified by realizing that the square-roots are given by\n",
    "$M(1+x)/2$, as proven in the last cell."
   ]
  },
  {
   "cell_type": "code",
   "execution_count": 32,
   "metadata": {},
   "outputs": [
    {
     "data": {
      "image/png": "[encoded data removed]",
      "text/latex": [
       "$$\\frac{M^{3} \\left(- x^{4} + 8 x^{3} - 24 x^{2} \\operatorname{asinh}{\\left (\\frac{x - 1}{2 \\sqrt{x}} \\right )} - 8 x + 1\\right)}{96}$$"
      ],
      "text/plain": [
       " 3 ⎛   4      3       2      ⎛x - 1⎞          ⎞\n",
       "M ⋅⎜- x  + 8⋅x  - 24⋅x ⋅asinh⎜─────⎟ - 8⋅x + 1⎟\n",
       "   ⎝                         ⎝ 2⋅√x⎠          ⎠\n",
       "───────────────────────────────────────────────\n",
       "                       96                      "
      ]
     },
     "execution_count": 32,
     "metadata": {},
     "output_type": "execute_result"
    }
   ],
   "source": [
    "simplify(Gam1.subs(sqrt(M**2*(x-1)**2+4*m**2),M*(1+x)).subs(m**2,x*M**2))/6/M"
   ]
  },
  {
   "attachments": {},
   "cell_type": "markdown",
   "metadata": {},
   "source": [
    "Setting $h_2=\\frac{x-1}{2\\sqrt{}x}$ we replace the ${\\rm asinh(h_2})$ by $\\ln{\\left(h_2+\\sqrt{1+h_2^2}\\right)}$ "
   ]
  },
  {
   "cell_type": "code",
   "execution_count": 33,
   "metadata": {},
   "outputs": [
    {
     "data": {
      "image/png": "[encoded data removed]",
      "text/latex": [
       "$$\\frac{x + \\sqrt{4 x + \\left(x - 1\\right)^{2}} - 1}{2 \\sqrt{x}}$$"
      ],
      "text/plain": [
       "       ________________    \n",
       "      ╱              2     \n",
       "x + ╲╱  4⋅x + (x - 1)   - 1\n",
       "───────────────────────────\n",
       "            2⋅√x           "
      ]
     },
     "execution_count": 33,
     "metadata": {},
     "output_type": "execute_result"
    }
   ],
   "source": [
    "h2=(x-1)/2/sqrt(x)\n",
    "h3=simplify(h2+sqrt(h2**2+1));h3"
   ]
  },
  {
   "attachments": {},
   "cell_type": "markdown",
   "metadata": {},
   "source": [
    "I cannot understand why sympy does not simplify the square-root to $1+x$ and thus the whole expression to $\\sqrt{x}$.\n",
    "Using $\\sinh^{-1}(h_2)=\\ln{\\sqrt{x}}$ we finally obtain the total decay rate $\\Gamma$:\n",
    "\n",
    "$$\\Gamma= \\frac{G_F^2M^5}{192\\pi^3}\\left(1-8x+8x^3-x^4-12x^2\\ln{x}\\right)$$\n",
    "which is mostly abbreviated by\n",
    "$$\\Gamma= \\frac{G_F^2M^5}{192\\pi^3}\\left(1-8x\\right)\\enspace .$$"
   ]
  },
  {
   "attachments": {},
   "cell_type": "markdown",
   "metadata": {},
   "source": [
    "## 3) Direct calculation of crossed amplitudes\n",
    "### a) Muon decay\n",
    "For those who don't appreciate the utilization of crossing symmetry we add a direct\n",
    "calculation of the muon decay matrix elements, \n",
    "$\\mu^-(k_i)\\rightarrow e^-(p_{\\rm out}) +\\bar{\\nu_e}(p_f)+\\nu_\\mu(k_f)$:"
   ]
  },
  {
   "cell_type": "code",
   "execution_count": 34,
   "metadata": {},
   "outputs": [],
   "source": [
    "ki=[M,M,0,0]\n",
    "pout=[E1,m,0,0]\n",
    "kf=[E3,0,theta3,0]\n",
    "pf=[E2,0,theta2,0]"
   ]
  },
  {
   "cell_type": "code",
   "execution_count": 35,
   "metadata": {},
   "outputs": [
    {
     "data": {
      "image/png": "[encoded data removed]",
      "text/latex": [
       "$$2 \\sqrt{2} \\sqrt{E_{2}} \\sqrt{E_{3}} \\sqrt{M} \\left(\\sqrt{E_{1} - m} + \\sqrt{E_{1} + m}\\right) \\sin{\\left (\\frac{\\theta_{2}}{2} \\right )} \\sin{\\left (\\frac{\\theta_{3}}{2} \\right )}$$"
      ],
      "text/plain": [
       "       ____   ____    ⎛  ________     ________⎞    ⎛θ₂⎞    ⎛θ₃⎞\n",
       "2⋅√2⋅╲╱ E₂ ⋅╲╱ E₃ ⋅√M⋅⎝╲╱ E₁ - m  + ╲╱ E₁ + m ⎠⋅sin⎜──⎟⋅sin⎜──⎟\n",
       "                                                   ⎝2 ⎠    ⎝2 ⎠"
      ]
     },
     "execution_count": 35,
     "metadata": {},
     "output_type": "execute_result"
    }
   ],
   "source": [
    "dec1=simplify(hep.dotprod4(hep.ubvw(pout,-1,pf,1),hep.ubuw(kf,-1,ki,-1)));dec1"
   ]
  },
  {
   "cell_type": "code",
   "execution_count": 36,
   "metadata": {},
   "outputs": [
    {
     "data": {
      "image/png": "[encoded data removed]",
      "text/latex": [
       "$$2 \\sqrt{2} \\sqrt{E_{2}} \\sqrt{E_{3}} \\sqrt{M} \\left(- \\sqrt{E_{1} - m} + \\sqrt{E_{1} + m}\\right) \\sin{\\left (\\frac{\\theta_{2}}{2} \\right )} \\cos{\\left (\\frac{\\theta_{3}}{2} \\right )}$$"
      ],
      "text/plain": [
       "       ____   ____    ⎛    ________     ________⎞    ⎛θ₂⎞    ⎛θ₃⎞\n",
       "2⋅√2⋅╲╱ E₂ ⋅╲╱ E₃ ⋅√M⋅⎝- ╲╱ E₁ - m  + ╲╱ E₁ + m ⎠⋅sin⎜──⎟⋅cos⎜──⎟\n",
       "                                                     ⎝2 ⎠    ⎝2 ⎠"
      ]
     },
     "execution_count": 36,
     "metadata": {},
     "output_type": "execute_result"
    }
   ],
   "source": [
    "dec2=simplify(hep.dotprod4(hep.ubvw(pout,1,pf,1),hep.ubuw(kf,-1,ki,-1)));dec2"
   ]
  },
  {
   "cell_type": "code",
   "execution_count": 37,
   "metadata": {},
   "outputs": [
    {
     "data": {
      "image/png": "[encoded data removed]",
      "text/latex": [
       "$$2 \\sqrt{2} \\sqrt{E_{2}} \\sqrt{E_{3}} \\sqrt{M} \\left(\\sqrt{E_{1} - m} + \\sqrt{E_{1} + m}\\right) \\sin{\\left (\\frac{\\theta_{3}}{2} \\right )} \\cos{\\left (\\frac{\\theta_{2}}{2} \\right )}$$"
      ],
      "text/plain": [
       "       ____   ____    ⎛  ________     ________⎞    ⎛θ₃⎞    ⎛θ₂⎞\n",
       "2⋅√2⋅╲╱ E₂ ⋅╲╱ E₃ ⋅√M⋅⎝╲╱ E₁ - m  + ╲╱ E₁ + m ⎠⋅sin⎜──⎟⋅cos⎜──⎟\n",
       "                                                   ⎝2 ⎠    ⎝2 ⎠"
      ]
     },
     "execution_count": 37,
     "metadata": {},
     "output_type": "execute_result"
    }
   ],
   "source": [
    "dec3=simplify(hep.dotprod4(hep.ubvw(pout,-1,pf,1),hep.ubuw(kf,-1,ki,1)));dec3"
   ]
  },
  {
   "cell_type": "code",
   "execution_count": 38,
   "metadata": {},
   "outputs": [
    {
     "data": {
      "image/png": "[encoded data removed]",
      "text/latex": [
       "$$2 \\sqrt{2} \\sqrt{E_{2}} \\sqrt{E_{3}} \\sqrt{M} \\left(- \\sqrt{E_{1} - m} + \\sqrt{E_{1} + m}\\right) \\cos{\\left (\\frac{\\theta_{2}}{2} \\right )} \\cos{\\left (\\frac{\\theta_{3}}{2} \\right )}$$"
      ],
      "text/plain": [
       "       ____   ____    ⎛    ________     ________⎞    ⎛θ₂⎞    ⎛θ₃⎞\n",
       "2⋅√2⋅╲╱ E₂ ⋅╲╱ E₃ ⋅√M⋅⎝- ╲╱ E₁ - m  + ╲╱ E₁ + m ⎠⋅cos⎜──⎟⋅cos⎜──⎟\n",
       "                                                     ⎝2 ⎠    ⎝2 ⎠"
      ]
     },
     "execution_count": 38,
     "metadata": {},
     "output_type": "execute_result"
    }
   ],
   "source": [
    "dec4=simplify(hep.dotprod4(hep.ubvw(pout,1,pf,1),hep.ubuw(kf,-1,ki,1)));dec4"
   ]
  },
  {
   "cell_type": "code",
   "execution_count": 39,
   "metadata": {},
   "outputs": [
    {
     "data": {
      "image/png": "[encoded data removed]",
      "text/latex": [
       "$$16 E_{2} E_{3} M \\left(E_{1} - 2 \\sqrt{E_{1}^{2} - m^{2}} \\cos^{2}{\\left (\\frac{\\theta_{3}}{2} \\right )} + \\sqrt{E_{1}^{2} - m^{2}}\\right)$$"
      ],
      "text/plain": [
       "           ⎛          __________               __________⎞\n",
       "           ⎜         ╱   2    2     2⎛θ₃⎞     ╱   2    2 ⎟\n",
       "16⋅E₂⋅E₃⋅M⋅⎜E₁ - 2⋅╲╱  E₁  - m  ⋅cos ⎜──⎟ + ╲╱  E₁  - m  ⎟\n",
       "           ⎝                         ⎝2 ⎠                ⎠"
      ]
     },
     "execution_count": 39,
     "metadata": {},
     "output_type": "execute_result"
    }
   ],
   "source": [
    "simplify(dec1**2+dec2**2+dec3**2+dec4**2)"
   ]
  },
  {
   "attachments": {},
   "cell_type": "markdown",
   "metadata": {},
   "source": [
    "$\\sum_i|{\\rm dec}_i|^2$ is proportional to the invariant  $p_{\\rm out}\\cdot k_f$."
   ]
  },
  {
   "cell_type": "code",
   "execution_count": 40,
   "metadata": {},
   "outputs": [
    {
     "data": {
      "image/png": "[encoded data removed]",
      "text/latex": [
       "$$E_{3} \\left(E_{1} - \\sqrt{E_{1}^{2} - m^{2}} \\cos{\\left (\\theta_{3} \\right )}\\right)$$"
      ],
      "text/plain": [
       "   ⎛        __________        ⎞\n",
       "   ⎜       ╱   2    2         ⎟\n",
       "E₃⋅⎝E₁ - ╲╱  E₁  - m  ⋅cos(θ₃)⎠"
      ]
     },
     "execution_count": 40,
     "metadata": {},
     "output_type": "execute_result"
    }
   ],
   "source": [
    "h4=hep.dotprod4(hep.fourvec(kf),hep.fourvec(pout));h4"
   ]
  },
  {
   "cell_type": "code",
   "execution_count": 41,
   "metadata": {},
   "outputs": [
    {
     "data": {
      "image/png": "[encoded data removed]",
      "text/latex": [
       "$$E_{1} E_{3} - 2 E_{3} \\sqrt{E_{1}^{2} - m^{2}} \\cos^{2}{\\left (\\frac{\\theta_{3}}{2} \\right )} + E_{3} \\sqrt{E_{1}^{2} - m^{2}}$$"
      ],
      "text/plain": [
       "                __________                  __________\n",
       "               ╱   2    2     2⎛θ₃⎞        ╱   2    2 \n",
       "E₁⋅E₃ - 2⋅E₃⋅╲╱  E₁  - m  ⋅cos ⎜──⎟ + E₃⋅╲╱  E₁  - m  \n",
       "                               ⎝2 ⎠                   "
      ]
     },
     "execution_count": 41,
     "metadata": {},
     "output_type": "execute_result"
    }
   ],
   "source": [
    "h4v1=E3*E1-2*E3*sqrt(E1**2-m**2)*cos(theta3/2)**2+E3*sqrt(E1**2-m**2);h4v1"
   ]
  },
  {
   "cell_type": "code",
   "execution_count": 42,
   "metadata": {},
   "outputs": [
    {
     "data": {
      "image/png": "[encoded data removed]",
      "text/latex": [
       "$$0$$"
      ],
      "text/plain": [
       "0"
      ]
     },
     "execution_count": 42,
     "metadata": {},
     "output_type": "execute_result"
    }
   ],
   "source": [
    "simplify(h4v1-h4)"
   ]
  },
  {
   "attachments": {},
   "cell_type": "markdown",
   "metadata": {},
   "source": [
    "With $\\sum_i|{\\rm dec}_i|^2=16E_2M(p_{\\rm out}\\cdot k_f)$ one obtains\n",
    "$$\\overline{\\sum_i}|T_i|^2=8G_F^2\\frac{1}{2}\\sum_i|{\\rm dec}_i|^2= 64G_F^2E_2M(p_{\\rm out}\\cdot k_f)$$\n",
    "and from $k_i=p_{\\rm out}+k_f+p_f$ follows $(p_{\\rm out}+k_f)^2=(k_i-p_f)^2$ or\n",
    "$m^2+2(p_{\\rm out}\\cdot k_f)=M^2-2E_2M$, that is $p_{\\rm out}\\cdot k_f=(M^2-m^2-2E_2M)/2$\n",
    "leading to\n",
    "$$\\overline{\\sum_i}|T_i|^2=32G_F^2E_2M(M^2-m^2-2E_2M)\\enspace .$$\n",
    "This confirms the result of the crossing method.\n",
    "\n",
    "### b) Anti-neutrino electron scattering\n",
    "\n",
    "<img src=\"nubarelectron.jpg\" width=\"150\"/>\n",
    "\n",
    "The amplitudes for the process $\\bar{\\nu}_\\mu+e^-\\rightarrow \\mu^-+\\bar{\\nu}_e$ \n",
    "with four momenta $p_i+k_i=p_f+k_f$ are for energies much smaller than $M_W$ calculated from \n",
    "\n",
    "$$T_{{fi}}=\\frac{4G_{{\\mathrm{F}}}}{\\sqrt{2}}\\bar{v}(k_i)\\gamma^{\\mu}\\frac{1-\\gamma^{5}}{2}u(p_i)\\bar{u}(p_f)\\gamma _{\\mu}\\frac{1-\\gamma^{5}}{2}v(k_f)\\enspace ,$$\n",
    "\n"
   ]
  },
  {
   "cell_type": "code",
   "execution_count": 43,
   "metadata": {},
   "outputs": [],
   "source": [
    "ki=[E0,0,pi,pi]\n",
    "pin=[E1,m,0,0]\n",
    "kf=[E2,0,pi-theta,pi]\n",
    "pf=[E3,M,theta,0]"
   ]
  },
  {
   "cell_type": "code",
   "execution_count": 44,
   "metadata": {},
   "outputs": [
    {
     "data": {
      "image/png": "[encoded data removed]",
      "text/latex": [
       "$$- \\sqrt{E_{0}} \\sqrt{E_{2}} \\left(\\sqrt{E_{1} - m} + \\sqrt{E_{1} + m}\\right) \\left(\\sqrt{E_{3} - M} + \\sqrt{E_{3} + M}\\right) \\left(\\cos{\\left (\\theta \\right )} + 1\\right)$$"
      ],
      "text/plain": [
       "   ____   ____ ⎛  ________     ________⎞ ⎛  ________     ________⎞            \n",
       "-╲╱ E₀ ⋅╲╱ E₂ ⋅⎝╲╱ E₁ - m  + ╲╱ E₁ + m ⎠⋅⎝╲╱ E₃ - M  + ╲╱ E₃ + M ⎠⋅(cos(θ) + 1\n",
       "\n",
       " \n",
       ")"
      ]
     },
     "execution_count": 44,
     "metadata": {},
     "output_type": "execute_result"
    }
   ],
   "source": [
    "t11=simplify(hep.dotprod4(hep.vbuw(ki,1,pin,-1),hep.ubvw(pf,-1,kf,1)));t11"
   ]
  },
  {
   "attachments": {},
   "cell_type": "markdown",
   "metadata": {},
   "source": [
    "All other amplitudes are 0.\n",
    "From comparing with line (5) it follows immediately\n",
    "\n",
    "$$T_1=\\frac{4G_{{\\mathrm{F}}}}{\\sqrt{2}}\\sqrt{(s-m^2)(s-M^2)}(1+\\cos\\Theta)$$\n",
    "and\n",
    "\n",
    "$$\\frac{\\mathrm{d}\\sigma }{\\mathrm{d}\\Omega}=\\frac{G_F^2}{16\\pi^2s}(s-M^2)^2(1+\\cos\\Theta)^2$$\n",
    "with the total cross section\n",
    "$$\\sigma(\\bar{\\nu}_\\mu+e^-\\rightarrow \\mu^-+\\bar{\\nu}_e)=\\frac{G_F^2}{3\\pi s}(s-M^2)^2$$\n",
    "which simplifies at high energies to\n",
    "\n",
    "$$\\sigma=\\frac{G_F^2}{3\\pi}s\\enspace .$$\n",
    "\n",
    "The unlimited increase with $s$ again violates unitarity. The amplitude is pure $p$ wave and reads at high energies\n",
    "\n",
    "$$T_1=\\frac{4G_{{\\mathrm{F}}}}{\\sqrt{2}}2sd^1_{11}$$\n",
    "leading to the condition\n",
    "\n",
    "$$\\frac{4G_{{\\mathrm{F}}}}{\\sqrt{2}}2s<24\\pi$$\n",
    "\n",
    "or $$s\\lt \\frac{3\\sqrt{2}\\pi}{G_F}$$ \n",
    "\n",
    "in Fermi's theory. For  the $s$-channel the  $W$-boson propagator has to be modified to \n",
    "\n",
    "$$\\frac{g_{{\\mu\\nu}}-q_{{\\mu}}q_{{\\nu}}/M^{2}_{W}}{s-M^{2}_{W}+\\mathrm{i}M_W\\Gamma_W}$$\n",
    "\n",
    "in order to avoid the pole at $s=M_W^2$.\n",
    "\n",
    "As a result the differential and total cross section have to be multiplied by \n",
    "$M_W^4f_{{\\mathrm{BW}}}^{{\\mathrm{r}}}$ where $f_{{\\mathrm{BW}}}^{{\\mathrm{r}}}$ is the relativistic \n",
    "Breit-Wigner function\n",
    "\n",
    "$$f_{{\\mathrm{BW}}}^{{\\mathrm{r}}}=\\frac{1}{(s-M_W^{2})^{2}+M_W^{2}\\Gamma_W^{2}}$$\n",
    "\n",
    "e.g.\n",
    "\n",
    "$$\\sigma(\\bar{\\nu}_\\mu+e^-\\rightarrow \\mu^-+\\bar{\\nu}_e)=\\frac{G_F^2}{3\\pi s}(s-M^2)^2\n",
    "\\frac{M_W^4}{(s-M_W^{2})^{2}+M_W^{2}\\Gamma_W^{2}}$$\n",
    "\n",
    "with the high energy limit\n",
    "\n",
    "$$\\sigma=\\frac{G_F^2M_W^4}{3\\pi s}\\enspace .$$"
   ]
  },
  {
   "cell_type": "code",
   "execution_count": null,
   "metadata": {},
   "outputs": [],
   "source": []
  }
 ],
 "metadata": {
  "kernelspec": {
   "display_name": "Python 3 (ipykernel)",
   "language": "python",
   "name": "python3"
  },
  "language_info": {
   "codemirror_mode": {
    "name": "ipython",
    "version": 3
   },
   "file_extension": ".py",
   "mimetype": "text/x-python",
   "name": "python",
   "nbconvert_exporter": "python",
   "pygments_lexer": "ipython3",
   "version": "3.10.3"
  }
 },
 "nbformat": 4,
 "nbformat_minor": 2
}
