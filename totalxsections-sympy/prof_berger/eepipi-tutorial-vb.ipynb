{
 "cells": [
  {
   "cell_type": "code",
   "execution_count": 1,
   "metadata": {},
   "outputs": [],
   "source": [
    "from sympy import *"
   ]
  },
  {
   "cell_type": "code",
   "execution_count": 2,
   "metadata": {},
   "outputs": [
    {
     "name": "stdout",
     "output_type": "stream",
     "text": [
      "Reading heppackv0.py (March 2023)\n",
      "\n",
      "Done\n"
     ]
    }
   ],
   "source": [
    "import heppackv0 as hep"
   ]
  },
  {
   "cell_type": "code",
   "execution_count": 3,
   "metadata": {},
   "outputs": [],
   "source": [
    "M,m,theta,phi, alpha=symbols('M m theta phi alpha',real=True)\n",
    "t,t0,s,s0,p=symbols('t t0,s,s0,p',real=True)\n",
    "E,P,beta,xi=symbols('E P beta xi',positive=True)"
   ]
  },
  {
   "attachments": {},
   "cell_type": "markdown",
   "metadata": {},
   "source": [
    "This tutorial will be less verbose than eemmuu-tutorial-vb.ipynb. Because the amplitudes are very simple we can afford to include a possible $\\phi$ dependence right from the beginning. Note that the pions are treated as structureless spin 0 particles. The hadronic nature of pions can be respected via multiplying all cross sections by a  squared form factor $F_\\pi ^2(t)$."
   ]
  },
  {
   "cell_type": "code",
   "execution_count": 4,
   "metadata": {},
   "outputs": [],
   "source": [
    "pin=[E,m,0,0]\n",
    "ki=[E,m,pi,pi]\n",
    "pf=[E,M,theta,phi]\n",
    "kf=[E,M,pi-theta,pi+phi]"
   ]
  },
  {
   "cell_type": "code",
   "execution_count": 5,
   "metadata": {},
   "outputs": [
    {
     "ename": "AttributeError",
     "evalue": "'list' object has no attribute 'replace'",
     "output_type": "error",
     "traceback": [
      "\u001b[0;31m---------------------------------------------------------------------------\u001b[0m",
      "\u001b[0;31mAttributeError\u001b[0m                            Traceback (most recent call last)",
      "Cell \u001b[0;32mIn[5], line 1\u001b[0m\n\u001b[0;32m----> 1\u001b[0m pf4\u001b[39m=\u001b[39msimplify(hep\u001b[39m.\u001b[39;49mfourvec(pf));pf4\n",
      "File \u001b[0;32m~/.local/lib/python3.10/site-packages/sympy/simplify/simplify.py:603\u001b[0m, in \u001b[0;36msimplify\u001b[0;34m(expr, ratio, measure, rational, inverse, doit, **kwargs)\u001b[0m\n\u001b[1;32m    600\u001b[0m \u001b[39mif\u001b[39;00m _eval_simplify \u001b[39mis\u001b[39;00m \u001b[39mnot\u001b[39;00m \u001b[39mNone\u001b[39;00m:\n\u001b[1;32m    601\u001b[0m     \u001b[39mreturn\u001b[39;00m _eval_simplify(\u001b[39m*\u001b[39m\u001b[39m*\u001b[39mkwargs)\n\u001b[0;32m--> 603\u001b[0m original_expr \u001b[39m=\u001b[39m expr \u001b[39m=\u001b[39m collect_abs(signsimp(expr))\n\u001b[1;32m    605\u001b[0m \u001b[39mif\u001b[39;00m \u001b[39mnot\u001b[39;00m \u001b[39misinstance\u001b[39m(expr, Basic) \u001b[39mor\u001b[39;00m \u001b[39mnot\u001b[39;00m expr\u001b[39m.\u001b[39margs:  \u001b[39m# XXX: temporary hack\u001b[39;00m\n\u001b[1;32m    606\u001b[0m     \u001b[39mreturn\u001b[39;00m expr\n",
      "File \u001b[0;32m~/.local/lib/python3.10/site-packages/sympy/simplify/radsimp.py:635\u001b[0m, in \u001b[0;36mcollect_abs\u001b[0;34m(expr)\u001b[0m\n\u001b[1;32m    632\u001b[0m   args\u001b[39m.\u001b[39mextend(nc)  \u001b[39m# nc always go last\u001b[39;00m\n\u001b[1;32m    633\u001b[0m   \u001b[39mreturn\u001b[39;00m Mul\u001b[39m.\u001b[39m_from_args(args, is_commutative\u001b[39m=\u001b[39m\u001b[39mnot\u001b[39;00m nc)\n\u001b[0;32m--> 635\u001b[0m \u001b[39mreturn\u001b[39;00m expr\u001b[39m.\u001b[39;49mreplace(\n\u001b[1;32m    636\u001b[0m     \u001b[39mlambda\u001b[39;00m x: \u001b[39misinstance\u001b[39m(x, Mul),\n\u001b[1;32m    637\u001b[0m     \u001b[39mlambda\u001b[39;00m x: _abs(x))\u001b[39m.\u001b[39mreplace(\n\u001b[1;32m    638\u001b[0m         \u001b[39mlambda\u001b[39;00m x: \u001b[39misinstance\u001b[39m(x, Pow),\n\u001b[1;32m    639\u001b[0m         \u001b[39mlambda\u001b[39;00m x: _abs(x))\n",
      "\u001b[0;31mAttributeError\u001b[0m: 'list' object has no attribute 'replace'"
     ]
    }
   ],
   "source": [
    "pf4=simplify(hep.fourvec(pf));pf4"
   ]
  },
  {
   "cell_type": "code",
   "execution_count": null,
   "metadata": {},
   "outputs": [],
   "source": [
    "kf4=hep.fourvec(kf);kf4"
   ]
  },
  {
   "attachments": {},
   "cell_type": "markdown",
   "metadata": {},
   "source": [
    "The Feynman rules require $p^\\mu_f-k^\\mu_f$ at the outgoing vertex. Here this is done by hand because Jupyter refuses subtraction of lists. One also learns that Jupyter starts the indexing of vectors etc with 0."
   ]
  },
  {
   "cell_type": "code",
   "execution_count": null,
   "metadata": {},
   "outputs": [],
   "source": [
    "p4=[0,2*simplify(hep.fourvec(pf)[1]),2*simplify(hep.fourvec(pf)[2]),2*simplify(hep.fourvec(pf)[3])];p4"
   ]
  },
  {
   "cell_type": "code",
   "execution_count": null,
   "metadata": {},
   "outputs": [],
   "source": [
    "tmp=hep.dotprod4(hep.vbu(ki,1,pin,-1),p4)/4/E**2;tmp"
   ]
  },
  {
   "cell_type": "code",
   "execution_count": null,
   "metadata": {},
   "outputs": [],
   "source": [
    "t1=tmp.subs(E**2-M**2,P**2);t1"
   ]
  },
  {
   "cell_type": "code",
   "execution_count": null,
   "metadata": {},
   "outputs": [],
   "source": [
    "t1sq=simplify((t1*conjugate(t1)).subs(P**2,E**2-M**2));t1sq"
   ]
  },
  {
   "cell_type": "code",
   "execution_count": null,
   "metadata": {},
   "outputs": [],
   "source": [
    "t2=hep.dotprod4(hep.vbu(ki,1,pin,1),p4)/4/E**2;t2"
   ]
  },
  {
   "attachments": {},
   "cell_type": "markdown",
   "metadata": {},
   "source": [
    "The amplitudes may depend on $\\phi$ but the cross section fpr unpolarized beams is independent of $\\phi$."
   ]
  },
  {
   "cell_type": "code",
   "execution_count": null,
   "metadata": {},
   "outputs": [],
   "source": [
    "t2sq=t2**2;t2sq"
   ]
  },
  {
   "cell_type": "code",
   "execution_count": null,
   "metadata": {},
   "outputs": [],
   "source": [
    "tsqav=simplify((t1sq+t2sq)/2);tsqav"
   ]
  },
  {
   "attachments": {},
   "cell_type": "markdown",
   "metadata": {},
   "source": [
    "The invariants $t,t_0,s$ expressed in CM variables:"
   ]
  },
  {
   "cell_type": "code",
   "execution_count": null,
   "metadata": {},
   "outputs": [],
   "source": [
    "tCM=m**2+M**2-2*E**2+2*sqrt(E**2-m**2)*sqrt(E**2-M**2)*cos(theta);tCM"
   ]
  },
  {
   "cell_type": "code",
   "execution_count": null,
   "metadata": {},
   "outputs": [],
   "source": [
    "t0CM=tCM-M**2-m**2;t0CM"
   ]
  },
  {
   "cell_type": "code",
   "execution_count": null,
   "metadata": {},
   "outputs": [],
   "source": [
    "sCM=4*E**2;sCM"
   ]
  },
  {
   "attachments": {},
   "cell_type": "markdown",
   "metadata": {},
   "source": [
    "Guessing from the results of eemumu we try"
   ]
  },
  {
   "cell_type": "code",
   "execution_count": null,
   "metadata": {},
   "outputs": [],
   "source": [
    "tsqav_inv=2*(s*m**2-s*t-t0**2)/s**2;tsqav_inv"
   ]
  },
  {
   "cell_type": "code",
   "execution_count": null,
   "metadata": {},
   "outputs": [],
   "source": [
    "tsqav_invv1=tsqav_inv.subs(s,sCM)\n",
    "tsqav_invv2=tsqav_invv1.subs(t,tCM)\n",
    "tsqav_invv3=tsqav_invv2.subs(t0,t0CM)\n",
    "proof=simplify(tsqav_invv3-tsqav)\n",
    "proof"
   ]
  },
  {
   "attachments": {},
   "cell_type": "markdown",
   "metadata": {},
   "source": [
    "and prove it. Another useful form is"
   ]
  },
  {
   "cell_type": "code",
   "execution_count": null,
   "metadata": {},
   "outputs": [],
   "source": [
    "tsqav_alt=beta**2*sin(theta)**2/2+m**2*beta**2*cos(theta)**2/2/E**2;tsqav_alt"
   ]
  },
  {
   "cell_type": "code",
   "execution_count": null,
   "metadata": {},
   "outputs": [],
   "source": [
    "simplify(tsqav_alt.subs(beta**2,1-M**2/E**2)-tsqav)"
   ]
  },
  {
   "attachments": {},
   "cell_type": "markdown",
   "metadata": {},
   "source": [
    "In contrast to the procedure in the eemumu notebook we here have pions travelling in the $\\theta,\\phi$ direction produced from positrons and electrons  with spins up and down along the $x$ axis. The columns of the transformation matrix yield for $\\theta=\\pi/2, \\phi=0$\n",
    "$$\\left|\\uparrow\\right\\rangle={\\textstyle\\frac{1}{\\sqrt{2}}\\left(|\\frac{1}{2}\\rangle+|\\frac{-1}{2}\\rangle\\right)}$$\n",
    "\n",
    "$$\\left|\\downarrow\\right\\rangle={\\textstyle\\frac{1}{\\sqrt{2}}\\left(-|\\frac{1}{2}\\rangle+|\\frac{-1}\n",
    "{2}\\rangle\\right)}$$\n",
    "leading to the helicity states \n",
    "\n",
    "$$\\begin{array}[]{ll}\\left|e^+\\uparrow\\right\\rangle&={\\textstyle\\frac{1}{\\sqrt{2}}\\left(|e^+,R\\rangle+|e^+,L\\rangle\\right)}\\\\ \\left|e^-\\downarrow\\right\\rangle&={\\textstyle\\frac{1}{\\sqrt{2}}\\left(-|e^-,L\\rangle+|e^-,R\\rangle\\right)}\\enspace.\\end{array}$$\n",
    "The incoming state is calculated from the product of the helicity staes. For $m=0$ unly\n",
    "$$\\left|e^+\\uparrow\\right\\rangle\\left|e^-\\downarrow\\right\\rangle=\\textstyle\\frac{1}{2}\\left(|e^+,L\\rangle|e^-,R\\rangle-|e^+,R\\rangle|e^-,L\\rangle\\right)\\enspace $$\n",
    "survives. Thus the incoming current has to be calculatet from \n",
    "$\\bar{v_L}(k_i)\\gamma^{\\mu}u_R(p_i)-\\bar{v_R}(k_i)\\gamma^{\\mu}u_L(p_i)$."
   ]
  },
  {
   "cell_type": "code",
   "execution_count": null,
   "metadata": {},
   "outputs": [],
   "source": [
    "hep.vbu(ki,-1,pin,1)"
   ]
  },
  {
   "cell_type": "code",
   "execution_count": null,
   "metadata": {},
   "outputs": [],
   "source": [
    "hep.vbu(ki,1,pin,-1)"
   ]
  },
  {
   "cell_type": "code",
   "execution_count": null,
   "metadata": {},
   "outputs": [],
   "source": [
    "vbudif=[0,-2*E,0,0];vbudif"
   ]
  },
  {
   "attachments": {},
   "cell_type": "markdown",
   "metadata": {},
   "source": [
    "The calculation of the amplitude is very simple via"
   ]
  },
  {
   "cell_type": "code",
   "execution_count": null,
   "metadata": {},
   "outputs": [],
   "source": [
    "tmp=simplify(vbudif[1]*p4[1])/4/E**2;tmp"
   ]
  },
  {
   "attachments": {},
   "cell_type": "markdown",
   "metadata": {},
   "source": [
    "which gives (up to kinematical factors) the polarized cross section after squaring and polishing"
   ]
  },
  {
   "cell_type": "code",
   "execution_count": null,
   "metadata": {},
   "outputs": [],
   "source": [
    "polsqP=tmp**2;polsqP"
   ]
  },
  {
   "cell_type": "code",
   "execution_count": null,
   "metadata": {},
   "outputs": [],
   "source": [
    "sigP=polsqP.subs(E**2-M**2,E**2*beta**2);sigP"
   ]
  },
  {
   "attachments": {},
   "cell_type": "markdown",
   "metadata": {},
   "source": [
    "which is the result of the standard reference Y.S.Tsai, PRD12, 3533 (1975). Combining with the unpolarized cross section (next line) we obtain the result for beams with \n",
    "a partial polarization $\\xi^2$"
   ]
  },
  {
   "cell_type": "code",
   "execution_count": null,
   "metadata": {},
   "outputs": [],
   "source": [
    "sigU=beta**2*sin(theta)**2/2;sigU"
   ]
  },
  {
   "cell_type": "code",
   "execution_count": null,
   "metadata": {},
   "outputs": [],
   "source": [
    "(1-xi**2)*sigU+xi**2*sigP"
   ]
  },
  {
   "cell_type": "code",
   "execution_count": null,
   "metadata": {},
   "outputs": [],
   "source": [
    "sig=sigU-(xi**2*beta**2*sin(theta)**2*cos(2*phi))/2;sig"
   ]
  },
  {
   "attachments": {},
   "cell_type": "markdown",
   "metadata": {},
   "source": [
    "and finally after conventionally switching to a magnetic field along the $y$ axis the cross section $d\\sigma/d\\Omega$ "
   ]
  },
  {
   "cell_type": "code",
   "execution_count": null,
   "metadata": {},
   "outputs": [],
   "source": [
    "dsigdOm=simplify(alpha**2/16/E**2*sig);print('dsigma/dOmega='); dsigdOm"
   ]
  },
  {
   "attachments": {},
   "cell_type": "markdown",
   "metadata": {},
   "source": [
    "The amplitudes squared for $e\\pi$ scattering is obtained via crossing $s\\leftrightarrow t$ with a minus sign because\n",
    "only one fermion line is crossed"
   ]
  },
  {
   "cell_type": "code",
   "execution_count": null,
   "metadata": {},
   "outputs": [],
   "source": [
    "tsqav_sc=-2*(t*m**2-s*t-s0**2)/t**2;tsqav_sc"
   ]
  },
  {
   "cell_type": "code",
   "execution_count": null,
   "metadata": {},
   "outputs": [],
   "source": [
    "dsigdt=16*pi**2*alpha**2/(16*pi*s0**2*(1-4*m**2*M**2/s0**2))*tsqav_sc;print('dsigma/dt='); dsigdt"
   ]
  },
  {
   "attachments": {},
   "cell_type": "markdown",
   "metadata": {},
   "source": [
    "The Mott cross section is obtained in the limit $M \\rightarrow\\infty$. It is identical to the result of eemumu notebook. The basic difference between pions and protons is the magnetic moment of the proton which is proportional to $1/M$."
   ]
  },
  {
   "cell_type": "code",
   "execution_count": null,
   "metadata": {},
   "outputs": [],
   "source": []
  }
 ],
 "metadata": {
  "kernelspec": {
   "display_name": "Python 3 (ipykernel)",
   "language": "python",
   "name": "python3"
  },
  "language_info": {
   "codemirror_mode": {
    "name": "ipython",
    "version": 3
   },
   "file_extension": ".py",
   "mimetype": "text/x-python",
   "name": "python",
   "nbconvert_exporter": "python",
   "pygments_lexer": "ipython3",
   "version": "3.10.12"
  }
 },
 "nbformat": 4,
 "nbformat_minor": 2
}
