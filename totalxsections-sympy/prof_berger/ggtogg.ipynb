{
 "cells": [
  {
   "cell_type": "code",
   "execution_count": 1,
   "metadata": {},
   "outputs": [
    {
     "name": "stdout",
     "output_type": "stream",
     "text": [
      "Reading heppackv0.py\n",
      "\n",
      "Done\n"
     ]
    }
   ],
   "source": [
    "from sympy import *\n",
    "import heppackv0 as hep"
   ]
  },
  {
   "cell_type": "code",
   "execution_count": 2,
   "metadata": {},
   "outputs": [],
   "source": [
    "s,theta=symbols('s theta',real=True)\n",
    "p=symbols('p',positive=True)\n",
    "u,t,s=symbols('u t s',real=True)"
   ]
  },
  {
   "cell_type": "code",
   "execution_count": 3,
   "metadata": {},
   "outputs": [],
   "source": [
    "p1=[p,0,0,0]\n",
    "p2=[p,0,pi,pi]\n",
    "p3=[p,0,theta,0]\n",
    "p4=[p,0,pi-theta,pi]"
   ]
  },
  {
   "cell_type": "code",
   "execution_count": 4,
   "metadata": {},
   "outputs": [
    {
     "data": {
      "image/png": "[encoded data removed]",
      "text/latex": [
       "$$4 p^{2}$$"
      ],
      "text/plain": [
       "   2\n",
       "4⋅p "
      ]
     },
     "execution_count": 4,
     "metadata": {},
     "output_type": "execute_result"
    }
   ],
   "source": [
    "sCM=4*p*p;sCM"
   ]
  },
  {
   "cell_type": "code",
   "execution_count": 5,
   "metadata": {},
   "outputs": [
    {
     "data": {
      "image/png": "[encoded data removed]",
      "text/latex": [
       "$$- 4 p^{2} \\sin^{2}{\\left (\\frac{\\theta}{2} \\right )}$$"
      ],
      "text/plain": [
       "    2    2⎛θ⎞\n",
       "-4⋅p ⋅sin ⎜─⎟\n",
       "          ⎝2⎠"
      ]
     },
     "execution_count": 5,
     "metadata": {},
     "output_type": "execute_result"
    }
   ],
   "source": [
    "tCM=-sCM*sin(theta/2)**2;tCM"
   ]
  },
  {
   "cell_type": "code",
   "execution_count": 6,
   "metadata": {},
   "outputs": [
    {
     "data": {
      "image/png": "[encoded data removed]",
      "text/latex": [
       "$$- 4 p^{2} \\cos^{2}{\\left (\\frac{\\theta}{2} \\right )}$$"
      ],
      "text/plain": [
       "    2    2⎛θ⎞\n",
       "-4⋅p ⋅cos ⎜─⎟\n",
       "          ⎝2⎠"
      ]
     },
     "execution_count": 6,
     "metadata": {},
     "output_type": "execute_result"
    }
   ],
   "source": [
    "uCM=-sCM*cos(theta/2)**2;uCM "
   ]
  },
  {
   "attachments": {},
   "cell_type": "markdown",
   "metadata": {},
   "source": [
    "## Basics\n",
    "There are 4 Feynman-Diagrams: a) $t$-channel, b) $u$-channel, c) $s$-channel, d) Four-Gluon-Vertex\n",
    "with their momenta and color indices:\n",
    "<img src=\"ggtogg.jpg\" width=\"600\"/>\n",
    "\n",
    "The color factors of the four-gluon Vertex correspond exactly to the color factors of the separate three-gluon-channels. The package heppackv0.py provides the necessary routines, which (hopefully) need no further comments.\n",
    "V3gtchannel calculates e.g. the amplitude a).\n",
    "There are 16 helicity amplitudes, 8 amplitudes are independent, further 8 amplitudes are related by parity invariance. As usual we omitt the coupling $g_S^2$"
   ]
  },
  {
   "attachments": {},
   "cell_type": "markdown",
   "metadata": {},
   "source": [
    "## The amplitudes\n",
    "###  1)  $T(g_-g_+\\rightarrow g_-g_-)$"
   ]
  },
  {
   "cell_type": "code",
   "execution_count": 7,
   "metadata": {},
   "outputs": [
    {
     "data": {
      "image/png": "[encoded data removed]",
      "text/latex": [
       "$$0$$"
      ],
      "text/plain": [
       "0"
      ]
     },
     "execution_count": 7,
     "metadata": {},
     "output_type": "execute_result"
    }
   ],
   "source": [
    "s11=hep.V3gschannel(p1,-1,p2,1,p3,-1,p4,-1)/sCM;s11"
   ]
  },
  {
   "cell_type": "code",
   "execution_count": 8,
   "metadata": {},
   "outputs": [
    {
     "data": {
      "image/png": "[encoded data removed]",
      "text/latex": [
       "$$0$$"
      ],
      "text/plain": [
       "0"
      ]
     },
     "execution_count": 8,
     "metadata": {},
     "output_type": "execute_result"
    }
   ],
   "source": [
    "s12=hep.V4gschannel(p1,-1,p2,1,p3,-1,p4,-1);s12"
   ]
  },
  {
   "cell_type": "code",
   "execution_count": 9,
   "metadata": {},
   "outputs": [
    {
     "data": {
      "image/png": "[encoded data removed]",
      "text/latex": [
       "$$- \\frac{\\left(- \\cos{\\left (\\theta \\right )} + 1\\right) \\sin^{2}{\\left (\\theta \\right )}}{8 \\sin^{2}{\\left (\\frac{\\theta}{2} \\right )}}$$"
      ],
      "text/plain": [
       "                  2    \n",
       "-(-cos(θ) + 1)⋅sin (θ) \n",
       "───────────────────────\n",
       "            2⎛θ⎞       \n",
       "       8⋅sin ⎜─⎟       \n",
       "             ⎝2⎠       "
      ]
     },
     "execution_count": 9,
     "metadata": {},
     "output_type": "execute_result"
    }
   ],
   "source": [
    "t11=hep.V3gtchannel(p1,-1,p2,1,p3,-1,p4,-1)/tCM;t11"
   ]
  },
  {
   "cell_type": "code",
   "execution_count": 10,
   "metadata": {},
   "outputs": [
    {
     "data": {
      "image/png": "[encoded data removed]",
      "text/latex": [
       "$$\\left(- \\frac{\\cos{\\left (\\theta \\right )}}{2} - \\frac{1}{2}\\right) \\left(\\frac{\\cos{\\left (\\theta \\right )}}{2} - \\frac{1}{2}\\right)$$"
      ],
      "text/plain": [
       "⎛  cos(θ)   1⎞ ⎛cos(θ)   1⎞\n",
       "⎜- ────── - ─⎟⋅⎜────── - ─⎟\n",
       "⎝    2      2⎠ ⎝  2      2⎠"
      ]
     },
     "execution_count": 10,
     "metadata": {},
     "output_type": "execute_result"
    }
   ],
   "source": [
    "t12=hep.V4gtchannel(p1,-1,p2,1,p3,-1,p4,-1);t12"
   ]
  },
  {
   "cell_type": "code",
   "execution_count": 11,
   "metadata": {},
   "outputs": [
    {
     "data": {
      "image/png": "[encoded data removed]",
      "text/latex": [
       "$$0$$"
      ],
      "text/plain": [
       "0"
      ]
     },
     "execution_count": 11,
     "metadata": {},
     "output_type": "execute_result"
    }
   ],
   "source": [
    "simplify(t11+t12)"
   ]
  },
  {
   "cell_type": "code",
   "execution_count": 12,
   "metadata": {},
   "outputs": [
    {
     "data": {
      "image/png": "[encoded data removed]",
      "text/latex": [
       "$$- \\frac{\\left(\\cos{\\left (\\theta \\right )} + 1\\right) \\sin^{2}{\\left (\\theta \\right )}}{8 \\cos^{2}{\\left (\\frac{\\theta}{2} \\right )}}$$"
      ],
      "text/plain": [
       "                 2    \n",
       "-(cos(θ) + 1)⋅sin (θ) \n",
       "──────────────────────\n",
       "           2⎛θ⎞       \n",
       "      8⋅cos ⎜─⎟       \n",
       "            ⎝2⎠       "
      ]
     },
     "execution_count": 12,
     "metadata": {},
     "output_type": "execute_result"
    }
   ],
   "source": [
    "u11=hep.V3guchannel(p1,-1,p2,1,p3,-1,p4,-1)/uCM;u11"
   ]
  },
  {
   "cell_type": "code",
   "execution_count": 13,
   "metadata": {},
   "outputs": [
    {
     "data": {
      "image/png": "[encoded data removed]",
      "text/latex": [
       "$$- \\left(- \\frac{\\cos{\\left (\\theta \\right )}}{2} - \\frac{1}{2}\\right) \\left(- \\frac{\\cos{\\left (\\theta \\right )}}{2} + \\frac{1}{2}\\right)$$"
      ],
      "text/plain": [
       " ⎛  cos(θ)   1⎞ ⎛  cos(θ)   1⎞\n",
       "-⎜- ────── - ─⎟⋅⎜- ────── + ─⎟\n",
       " ⎝    2      2⎠ ⎝    2      2⎠"
      ]
     },
     "execution_count": 13,
     "metadata": {},
     "output_type": "execute_result"
    }
   ],
   "source": [
    "u12=hep.V4guchannel(p1,-1,p2,1,p3,-1,p4,-1);u12"
   ]
  },
  {
   "cell_type": "code",
   "execution_count": 14,
   "metadata": {},
   "outputs": [
    {
     "data": {
      "image/png": "[encoded data removed]",
      "text/latex": [
       "$$0$$"
      ],
      "text/plain": [
       "0"
      ]
     },
     "execution_count": 14,
     "metadata": {},
     "output_type": "execute_result"
    }
   ],
   "source": [
    "simplify(u11+u12)"
   ]
  },
  {
   "attachments": {},
   "cell_type": "markdown",
   "metadata": {},
   "source": [
    "i.e. $T(g_-g_+\\rightarrow g_-g_-)=0$\n",
    "\n",
    "### 2) $T(g_-g_+\\rightarrow g_-g_+)$"
   ]
  },
  {
   "cell_type": "code",
   "execution_count": 15,
   "metadata": {},
   "outputs": [
    {
     "data": {
      "image/png": "[encoded data removed]",
      "text/latex": [
       "$$0$$"
      ],
      "text/plain": [
       "0"
      ]
     },
     "execution_count": 15,
     "metadata": {},
     "output_type": "execute_result"
    }
   ],
   "source": [
    "s21=hep.V3gschannel(p1,-1,p2,1,p3,-1,p4,1)/sCM;s21"
   ]
  },
  {
   "cell_type": "code",
   "execution_count": 16,
   "metadata": {},
   "outputs": [
    {
     "data": {
      "image/png": "[encoded data removed]",
      "text/latex": [
       "$$0$$"
      ],
      "text/plain": [
       "0"
      ]
     },
     "execution_count": 16,
     "metadata": {},
     "output_type": "execute_result"
    }
   ],
   "source": [
    "s22=hep.V4gschannel(p1,-1,p2,1,p3,-1,p4,1);s22"
   ]
  },
  {
   "attachments": {},
   "cell_type": "markdown",
   "metadata": {},
   "source": [
    "i.e. $T^s(g_-g_+\\rightarrow g_-g_+)=0$"
   ]
  },
  {
   "cell_type": "code",
   "execution_count": 17,
   "metadata": {},
   "outputs": [
    {
     "data": {
      "image/png": "[encoded data removed]",
      "text/latex": [
       "$$- \\frac{- 5 \\sin^{2}{\\left (\\theta \\right )} + \\cos^{3}{\\left (\\theta \\right )} + 7 \\cos{\\left (\\theta \\right )} + 8}{8 \\sin^{2}{\\left (\\frac{\\theta}{2} \\right )}}$$"
      ],
      "text/plain": [
       " ⎛       2         3                  ⎞ \n",
       "-⎝- 5⋅sin (θ) + cos (θ) + 7⋅cos(θ) + 8⎠ \n",
       "────────────────────────────────────────\n",
       "                    2⎛θ⎞                \n",
       "               8⋅sin ⎜─⎟                \n",
       "                     ⎝2⎠                "
      ]
     },
     "execution_count": 17,
     "metadata": {},
     "output_type": "execute_result"
    }
   ],
   "source": [
    "t21=hep.V3gtchannel(p1,-1,p2,1,p3,-1,p4,1)/tCM;t21"
   ]
  },
  {
   "cell_type": "code",
   "execution_count": 18,
   "metadata": {},
   "outputs": [
    {
     "data": {
      "image/png": "[encoded data removed]",
      "text/latex": [
       "$$\\left(- \\frac{\\cos{\\left (\\theta \\right )}}{2} - \\frac{1}{2}\\right) \\left(\\frac{\\cos{\\left (\\theta \\right )}}{2} + \\frac{1}{2}\\right)$$"
      ],
      "text/plain": [
       "⎛  cos(θ)   1⎞ ⎛cos(θ)   1⎞\n",
       "⎜- ────── - ─⎟⋅⎜────── + ─⎟\n",
       "⎝    2      2⎠ ⎝  2      2⎠"
      ]
     },
     "execution_count": 18,
     "metadata": {},
     "output_type": "execute_result"
    }
   ],
   "source": [
    "t22=hep.V4gtchannel(p1,-1,p2,1,p3,-1,p4,1);t22"
   ]
  },
  {
   "cell_type": "code",
   "execution_count": 19,
   "metadata": {},
   "outputs": [
    {
     "data": {
      "image/png": "[encoded data removed]",
      "text/latex": [
       "$$\\frac{4 \\cos{\\left (\\theta \\right )} + \\cos{\\left (2 \\theta \\right )} + 3}{2 \\cos{\\left (\\theta \\right )} - 2}$$"
      ],
      "text/plain": [
       "4⋅cos(θ) + cos(2⋅θ) + 3\n",
       "───────────────────────\n",
       "      2⋅cos(θ) - 2     "
      ]
     },
     "execution_count": 19,
     "metadata": {},
     "output_type": "execute_result"
    }
   ],
   "source": [
    "a1=simplify(t21+t22);a1"
   ]
  },
  {
   "attachments": {},
   "cell_type": "markdown",
   "metadata": {},
   "source": [
    "$a_1$ should be expressed by invariants. The proof of the following formula is easiest done by hand."
   ]
  },
  {
   "cell_type": "code",
   "execution_count": 20,
   "metadata": {},
   "outputs": [
    {
     "data": {
      "image/png": "[encoded data removed]",
      "text/latex": [
       "$$\\frac{2 u^{2}}{s t}$$"
      ],
      "text/plain": [
       "   2\n",
       "2⋅u \n",
       "────\n",
       "s⋅t "
      ]
     },
     "execution_count": 20,
     "metadata": {},
     "output_type": "execute_result"
    }
   ],
   "source": [
    "a1=2*u*u/t/s;a1"
   ]
  },
  {
   "attachments": {},
   "cell_type": "markdown",
   "metadata": {},
   "source": [
    "i.e. $T^t(g_-g_+\\rightarrow g_-g_+)=\\frac{2u^2}{ts}$"
   ]
  },
  {
   "cell_type": "code",
   "execution_count": 21,
   "metadata": {},
   "outputs": [
    {
     "data": {
      "image/png": "[encoded data removed]",
      "text/latex": [
       "$$- \\frac{\\frac{17 \\cos{\\left (\\theta \\right )}}{2} + \\cos{\\left (2 \\theta \\right )} - \\frac{\\cos{\\left (3 \\theta \\right )}}{2} + 7}{16 \\cos^{2}{\\left (\\frac{\\theta}{2} \\right )}}$$"
      ],
      "text/plain": [
       " ⎛17⋅cos(θ)              cos(3⋅θ)    ⎞ \n",
       "-⎜───────── + cos(2⋅θ) - ──────── + 7⎟ \n",
       " ⎝    2                     2        ⎠ \n",
       "───────────────────────────────────────\n",
       "                     2⎛θ⎞              \n",
       "               16⋅cos ⎜─⎟              \n",
       "                      ⎝2⎠              "
      ]
     },
     "execution_count": 21,
     "metadata": {},
     "output_type": "execute_result"
    }
   ],
   "source": [
    "u21=hep.V3guchannel(p1,-1,p2,1,p3,-1,p4,1)/uCM;u21"
   ]
  },
  {
   "cell_type": "code",
   "execution_count": 22,
   "metadata": {},
   "outputs": [
    {
     "data": {
      "image/png": "[encoded data removed]",
      "text/latex": [
       "$$- \\left(- \\frac{\\cos{\\left (\\theta \\right )}}{2} - \\frac{1}{2}\\right)^{2}$$"
      ],
      "text/plain": [
       "               2\n",
       " ⎛  cos(θ)   1⎞ \n",
       "-⎜- ────── - ─⎟ \n",
       " ⎝    2      2⎠ "
      ]
     },
     "execution_count": 22,
     "metadata": {},
     "output_type": "execute_result"
    }
   ],
   "source": [
    "u22=hep.V4guchannel(p1,-1,p2,1,p3,-1,p4,1);u22"
   ]
  },
  {
   "cell_type": "code",
   "execution_count": 23,
   "metadata": {},
   "outputs": [
    {
     "data": {
      "image/png": "[encoded data removed]",
      "text/latex": [
       "$$- \\frac{4 \\cos{\\left (\\theta \\right )} + \\cos{\\left (2 \\theta \\right )} + 3}{2 \\cos{\\left (\\theta \\right )} + 2}$$"
      ],
      "text/plain": [
       "-(4⋅cos(θ) + cos(2⋅θ) + 3) \n",
       "───────────────────────────\n",
       "        2⋅cos(θ) + 2       "
      ]
     },
     "execution_count": 23,
     "metadata": {},
     "output_type": "execute_result"
    }
   ],
   "source": [
    "simplify(u21+u22)"
   ]
  },
  {
   "cell_type": "code",
   "execution_count": 24,
   "metadata": {},
   "outputs": [
    {
     "data": {
      "image/png": "[encoded data removed]",
      "text/latex": [
       "$$\\frac{2 u}{s}$$"
      ],
      "text/plain": [
       "2⋅u\n",
       "───\n",
       " s "
      ]
     },
     "execution_count": 24,
     "metadata": {},
     "output_type": "execute_result"
    }
   ],
   "source": [
    "a2=2*u/s;a2"
   ]
  },
  {
   "attachments": {},
   "cell_type": "markdown",
   "metadata": {},
   "source": [
    "i.e. $T^u(g_-g_+\\rightarrow g_-g_+)=\\frac{2u}{s}$\n",
    "\n",
    "The following routine shows the nonvanishing color factors for $a=1$, which in python means $a=0$."
   ]
  },
  {
   "cell_type": "code",
   "execution_count": 25,
   "metadata": {},
   "outputs": [
    {
     "name": "stdout",
     "output_type": "stream",
     "text": [
      "1 2 2 1 1 0\n",
      "1 3 3 1 1 0\n",
      "1 4 4 1/4 1/4 0\n",
      "1 5 5 1/4 1/4 0\n",
      "1 6 6 1/4 1/4 0\n",
      "1 7 7 1/4 1/4 0\n",
      "2 1 2 0 -1 1\n",
      "2 2 1 -1 0 -1\n",
      "2 4 5 1/4 -1/4 1/2\n",
      "2 5 4 -1/4 1/4 -1/2\n",
      "2 6 7 -1/4 1/4 -1/2\n",
      "2 7 6 1/4 -1/4 1/2\n",
      "3 1 3 0 -1 1\n",
      "3 3 1 -1 0 -1\n",
      "3 4 6 -1/4 1/4 -1/2\n",
      "3 5 7 -1/4 1/4 -1/2\n",
      "3 6 4 1/4 -1/4 1/2\n",
      "3 7 5 1/4 -1/4 1/2\n",
      "4 1 4 0 -1/4 1/4\n",
      "4 2 5 1/2 1/4 1/4\n",
      "4 3 6 -1/2 -1/4 -1/4\n",
      "4 4 1 -1/4 0 -1/4\n",
      "4 5 2 1/4 1/2 -1/4\n",
      "4 6 3 -1/4 -1/2 1/4\n",
      "4 6 8 -sqrt(3)/4 0 -sqrt(3)/4\n",
      "4 8 6 0 -sqrt(3)/4 sqrt(3)/4\n",
      "5 1 5 0 -1/4 1/4\n",
      "5 2 4 -1/2 -1/4 -1/4\n",
      "5 3 7 -1/2 -1/4 -1/4\n",
      "5 4 2 -1/4 -1/2 1/4\n",
      "5 5 1 -1/4 0 -1/4\n",
      "5 7 3 -1/4 -1/2 1/4\n",
      "5 7 8 -sqrt(3)/4 0 -sqrt(3)/4\n",
      "5 8 7 0 -sqrt(3)/4 sqrt(3)/4\n",
      "6 1 6 0 -1/4 1/4\n",
      "6 2 7 -1/2 -1/4 -1/4\n",
      "6 3 4 1/2 1/4 1/4\n",
      "6 4 3 1/4 1/2 -1/4\n",
      "6 4 8 -sqrt(3)/4 0 -sqrt(3)/4\n",
      "6 6 1 -1/4 0 -1/4\n",
      "6 7 2 -1/4 -1/2 1/4\n",
      "6 8 4 0 -sqrt(3)/4 sqrt(3)/4\n",
      "7 1 7 0 -1/4 1/4\n",
      "7 2 6 1/2 1/4 1/4\n",
      "7 3 5 1/2 1/4 1/4\n",
      "7 5 3 1/4 1/2 -1/4\n",
      "7 5 8 -sqrt(3)/4 0 -sqrt(3)/4\n",
      "7 6 2 1/4 1/2 -1/4\n",
      "7 7 1 -1/4 0 -1/4\n",
      "7 8 5 0 -sqrt(3)/4 sqrt(3)/4\n",
      "8 4 6 sqrt(3)/4 sqrt(3)/4 0\n",
      "8 5 7 sqrt(3)/4 sqrt(3)/4 0\n",
      "8 6 4 sqrt(3)/4 sqrt(3)/4 0\n",
      "8 7 5 sqrt(3)/4 sqrt(3)/4 0\n"
     ]
    }
   ],
   "source": [
    "lamvec=[hep.lam1,hep.lam2,hep.lam3,hep.lam4,hep.lam5,hep.lam6,hep.lam7,hep.lam8]\n",
    "a=0\n",
    "ct=0\n",
    "cu=0\n",
    "cs=0\n",
    "reslst=[]\n",
    "#\n",
    "for b in range(8):\n",
    "    for c in range(8):\n",
    "        for d in range(8):\n",
    "            for i in range(8):\n",
    "                ctm=hep.fsu3(a,c,i)*hep.fsu3(b,d,i)\n",
    "                ct=ct+ctm\n",
    "                cum=hep.fsu3(a,d,i)*hep.fsu3(b,c,i)\n",
    "                cu=cu+cum\n",
    "                csm=hep.fsu3(a,b,i)*hep.fsu3(c,d,i)\n",
    "                cs=cs+csm\n",
    "            if ct!=0 or cu!=0 or cs!=0:\n",
    "                print(b+1,c+1,d+1,ct,cu,cs)\n",
    "            ct=0\n",
    "            cu=0\n",
    "            cs=0"
   ]
  },
  {
   "attachments": {},
   "cell_type": "markdown",
   "metadata": {},
   "source": [
    "All non vanishing squared matrix elements $|c_t T^t+c_u T^u|^2$ for $a=1$ are stored in the array reslst. The final result has to be multiplied by 8."
   ]
  },
  {
   "cell_type": "code",
   "execution_count": 26,
   "metadata": {},
   "outputs": [],
   "source": [
    "lamvec=[hep.lam1,hep.lam2,hep.lam3,hep.lam4,hep.lam5,hep.lam6,hep.lam7,hep.lam8]\n",
    "a=0\n",
    "ct=0\n",
    "cu=0\n",
    "#cs=0\n",
    "reslst=[]\n",
    "#\n",
    "for b in range(8):\n",
    "    for c in range(8):\n",
    "        for d in range(8):\n",
    "            for i in range(8):\n",
    "                ctm=hep.fsu3(a,c,i)*hep.fsu3(b,d,i)\n",
    "                ct=ct+ctm\n",
    "                cum=hep.fsu3(a,d,i)*hep.fsu3(b,c,i)\n",
    "                cu=cu+cum\n",
    "                #csm=hep.fsu3(a,b,i)*hep.fsu3(c,d,i)\n",
    "                #cs=cs+csm\n",
    "            if ct!=0 or cu!=0:\n",
    "                elm=a1*ct+a2*cu\n",
    "                #a1print(b,c,d,ct,cu)\n",
    "                reslst.append(elm*elm)\n",
    "            ct=0\n",
    "            cu=0"
   ]
  },
  {
   "cell_type": "code",
   "execution_count": 27,
   "metadata": {},
   "outputs": [
    {
     "data": {
      "image/png": "[encoded data removed]",
      "text/latex": [
       "$$\\left [ \\left(\\frac{2 u}{s} + \\frac{2 u^{2}}{s t}\\right)^{2}, \\quad \\left(\\frac{2 u}{s} + \\frac{2 u^{2}}{s t}\\right)^{2}, \\quad \\left(\\frac{u}{2 s} + \\frac{u^{2}}{2 s t}\\right)^{2}, \\quad \\left(\\frac{u}{2 s} + \\frac{u^{2}}{2 s t}\\right)^{2}, \\quad \\left(\\frac{u}{2 s} + \\frac{u^{2}}{2 s t}\\right)^{2}, \\quad \\left(\\frac{u}{2 s} + \\frac{u^{2}}{2 s t}\\right)^{2}, \\quad \\frac{4 u^{2}}{s^{2}}, \\quad \\frac{4 u^{4}}{s^{2} t^{2}}, \\quad \\left(- \\frac{u}{2 s} + \\frac{u^{2}}{2 s t}\\right)^{2}, \\quad \\left(\\frac{u}{2 s} - \\frac{u^{2}}{2 s t}\\right)^{2}, \\quad \\left(\\frac{u}{2 s} - \\frac{u^{2}}{2 s t}\\right)^{2}, \\quad \\left(- \\frac{u}{2 s} + \\frac{u^{2}}{2 s t}\\right)^{2}, \\quad \\frac{4 u^{2}}{s^{2}}, \\quad \\frac{4 u^{4}}{s^{2} t^{2}}, \\quad \\left(\\frac{u}{2 s} - \\frac{u^{2}}{2 s t}\\right)^{2}, \\quad \\left(\\frac{u}{2 s} - \\frac{u^{2}}{2 s t}\\right)^{2}, \\quad \\left(- \\frac{u}{2 s} + \\frac{u^{2}}{2 s t}\\right)^{2}, \\quad \\left(- \\frac{u}{2 s} + \\frac{u^{2}}{2 s t}\\right)^{2}, \\quad \\frac{u^{2}}{4 s^{2}}, \\quad \\left(\\frac{u}{2 s} + \\frac{u^{2}}{s t}\\right)^{2}, \\quad \\left(- \\frac{u}{2 s} - \\frac{u^{2}}{s t}\\right)^{2}, \\quad \\frac{u^{4}}{4 s^{2} t^{2}}, \\quad \\left(\\frac{u}{s} + \\frac{u^{2}}{2 s t}\\right)^{2}, \\quad \\left(- \\frac{u}{s} - \\frac{u^{2}}{2 s t}\\right)^{2}, \\quad \\frac{3 u^{4}}{4 s^{2} t^{2}}, \\quad \\frac{3 u^{2}}{4 s^{2}}, \\quad \\frac{u^{2}}{4 s^{2}}, \\quad \\left(- \\frac{u}{2 s} - \\frac{u^{2}}{s t}\\right)^{2}, \\quad \\left(- \\frac{u}{2 s} - \\frac{u^{2}}{s t}\\right)^{2}, \\quad \\left(- \\frac{u}{s} - \\frac{u^{2}}{2 s t}\\right)^{2}, \\quad \\frac{u^{4}}{4 s^{2} t^{2}}, \\quad \\left(- \\frac{u}{s} - \\frac{u^{2}}{2 s t}\\right)^{2}, \\quad \\frac{3 u^{4}}{4 s^{2} t^{2}}, \\quad \\frac{3 u^{2}}{4 s^{2}}, \\quad \\frac{u^{2}}{4 s^{2}}, \\quad \\left(- \\frac{u}{2 s} - \\frac{u^{2}}{s t}\\right)^{2}, \\quad \\left(\\frac{u}{2 s} + \\frac{u^{2}}{s t}\\right)^{2}, \\quad \\left(\\frac{u}{s} + \\frac{u^{2}}{2 s t}\\right)^{2}, \\quad \\frac{3 u^{4}}{4 s^{2} t^{2}}, \\quad \\frac{u^{4}}{4 s^{2} t^{2}}, \\quad \\left(- \\frac{u}{s} - \\frac{u^{2}}{2 s t}\\right)^{2}, \\quad \\frac{3 u^{2}}{4 s^{2}}, \\quad \\frac{u^{2}}{4 s^{2}}, \\quad \\left(\\frac{u}{2 s} + \\frac{u^{2}}{s t}\\right)^{2}, \\quad \\left(\\frac{u}{2 s} + \\frac{u^{2}}{s t}\\right)^{2}, \\quad \\left(\\frac{u}{s} + \\frac{u^{2}}{2 s t}\\right)^{2}, \\quad \\frac{3 u^{4}}{4 s^{2} t^{2}}, \\quad \\left(\\frac{u}{s} + \\frac{u^{2}}{2 s t}\\right)^{2}, \\quad \\frac{u^{4}}{4 s^{2} t^{2}}, \\quad \\frac{3 u^{2}}{4 s^{2}}, \\quad \\left(\\frac{\\sqrt{3} u}{2 s} + \\frac{\\sqrt{3} u^{2}}{2 s t}\\right)^{2}, \\quad \\left(\\frac{\\sqrt{3} u}{2 s} + \\frac{\\sqrt{3} u^{2}}{2 s t}\\right)^{2}, \\quad \\left(\\frac{\\sqrt{3} u}{2 s} + \\frac{\\sqrt{3} u^{2}}{2 s t}\\right)^{2}, \\quad \\left(\\frac{\\sqrt{3} u}{2 s} + \\frac{\\sqrt{3} u^{2}}{2 s t}\\right)^{2}\\right ]$$"
      ],
      "text/plain": [
       "⎡            2              2               2               2               2 \n",
       "⎢⎛         2⎞   ⎛         2⎞   ⎛         2 ⎞   ⎛         2 ⎞   ⎛         2 ⎞  \n",
       "⎢⎜2⋅u   2⋅u ⎟   ⎜2⋅u   2⋅u ⎟   ⎜ u      u  ⎟   ⎜ u      u  ⎟   ⎜ u      u  ⎟  \n",
       "⎢⎜─── + ────⎟ , ⎜─── + ────⎟ , ⎜─── + ─────⎟ , ⎜─── + ─────⎟ , ⎜─── + ─────⎟ ,\n",
       "⎢⎝ s    s⋅t ⎠   ⎝ s    s⋅t ⎠   ⎝2⋅s   2⋅s⋅t⎠   ⎝2⋅s   2⋅s⋅t⎠   ⎝2⋅s   2⋅s⋅t⎠  \n",
       "⎣                                                                             \n",
       "\n",
       "              2                              2               2               2\n",
       " ⎛         2 ⎞      2      4  ⎛           2 ⎞   ⎛         2 ⎞   ⎛         2 ⎞ \n",
       " ⎜ u      u  ⎟   4⋅u    4⋅u   ⎜   u      u  ⎟   ⎜ u      u  ⎟   ⎜ u      u  ⎟ \n",
       " ⎜─── + ─────⎟ , ────, ─────, ⎜- ─── + ─────⎟ , ⎜─── - ─────⎟ , ⎜─── - ─────⎟ \n",
       " ⎝2⋅s   2⋅s⋅t⎠     2    2  2  ⎝  2⋅s   2⋅s⋅t⎠   ⎝2⋅s   2⋅s⋅t⎠   ⎝2⋅s   2⋅s⋅t⎠ \n",
       "                  s    s ⋅t                                                   \n",
       "\n",
       "                 2                            2               2               \n",
       "  ⎛           2 ⎞      2      4  ⎛         2 ⎞   ⎛         2 ⎞   ⎛           2\n",
       "  ⎜   u      u  ⎟   4⋅u    4⋅u   ⎜ u      u  ⎟   ⎜ u      u  ⎟   ⎜   u      u \n",
       ", ⎜- ─── + ─────⎟ , ────, ─────, ⎜─── - ─────⎟ , ⎜─── - ─────⎟ , ⎜- ─── + ────\n",
       "  ⎝  2⋅s   2⋅s⋅t⎠     2    2  2  ⎝2⋅s   2⋅s⋅t⎠   ⎝2⋅s   2⋅s⋅t⎠   ⎝  2⋅s   2⋅s⋅\n",
       "                     s    s ⋅t                                                \n",
       "\n",
       "  2                 2                   2               2                     \n",
       " ⎞   ⎛           2 ⎞     2   ⎛        2⎞   ⎛          2⎞       4    ⎛       2 \n",
       " ⎟   ⎜   u      u  ⎟    u    ⎜ u     u ⎟   ⎜   u     u ⎟      u     ⎜u     u  \n",
       "─⎟ , ⎜- ─── + ─────⎟ , ────, ⎜─── + ───⎟ , ⎜- ─── - ───⎟ , ───────, ⎜─ + ─────\n",
       "t⎠   ⎝  2⋅s   2⋅s⋅t⎠      2  ⎝2⋅s   s⋅t⎠   ⎝  2⋅s   s⋅t⎠      2  2  ⎝s   2⋅s⋅t\n",
       "                       4⋅s                                 4⋅s ⋅t             \n",
       "\n",
       " 2               2                                    2               2       \n",
       "⎞   ⎛         2 ⎞        4      2    2   ⎛          2⎞   ⎛          2⎞   ⎛    \n",
       "⎟   ⎜  u     u  ⎟     3⋅u    3⋅u    u    ⎜   u     u ⎟   ⎜   u     u ⎟   ⎜  u \n",
       "⎟ , ⎜- ─ - ─────⎟ , ───────, ────, ────, ⎜- ─── - ───⎟ , ⎜- ─── - ───⎟ , ⎜- ─ \n",
       "⎠   ⎝  s   2⋅s⋅t⎠      2  2     2     2  ⎝  2⋅s   s⋅t⎠   ⎝  2⋅s   s⋅t⎠   ⎝  s \n",
       "                    4⋅s ⋅t   4⋅s   4⋅s                                        \n",
       "\n",
       "        2                        2                                    2       \n",
       "     2 ⎞       4    ⎛         2 ⎞        4      2    2   ⎛          2⎞   ⎛    \n",
       "    u  ⎟      u     ⎜  u     u  ⎟     3⋅u    3⋅u    u    ⎜   u     u ⎟   ⎜ u  \n",
       "- ─────⎟ , ───────, ⎜- ─ - ─────⎟ , ───────, ────, ────, ⎜- ─── - ───⎟ , ⎜─── \n",
       "  2⋅s⋅t⎠      2  2  ⎝  s   2⋅s⋅t⎠      2  2     2     2  ⎝  2⋅s   s⋅t⎠   ⎝2⋅s \n",
       "           4⋅s ⋅t                   4⋅s ⋅t   4⋅s   4⋅s                        \n",
       "\n",
       "      2             2                                 2                       \n",
       "    2⎞   ⎛       2 ⎞        4       4    ⎛         2 ⎞      2    2   ⎛        \n",
       "   u ⎟   ⎜u     u  ⎟     3⋅u       u     ⎜  u     u  ⎟   3⋅u    u    ⎜ u     u\n",
       "+ ───⎟ , ⎜─ + ─────⎟ , ───────, ───────, ⎜- ─ - ─────⎟ , ────, ────, ⎜─── + ──\n",
       "  s⋅t⎠   ⎝s   2⋅s⋅t⎠      2  2     2  2  ⎝  s   2⋅s⋅t⎠      2     2  ⎝2⋅s   s⋅\n",
       "                       4⋅s ⋅t   4⋅s ⋅t                   4⋅s   4⋅s            \n",
       "\n",
       "  2             2             2                      2                        \n",
       "2⎞   ⎛        2⎞   ⎛       2 ⎞        4   ⎛       2 ⎞       4       2  ⎛      \n",
       " ⎟   ⎜ u     u ⎟   ⎜u     u  ⎟     3⋅u    ⎜u     u  ⎟      u     3⋅u   ⎜√3⋅u  \n",
       "─⎟ , ⎜─── + ───⎟ , ⎜─ + ─────⎟ , ───────, ⎜─ + ─────⎟ , ───────, ────, ⎜──── +\n",
       "t⎠   ⎝2⋅s   s⋅t⎠   ⎝s   2⋅s⋅t⎠      2  2  ⎝s   2⋅s⋅t⎠      2  2     2  ⎝2⋅s   \n",
       "                                 4⋅s ⋅t                 4⋅s ⋅t   4⋅s          \n",
       "\n",
       "       2                2                2                2⎤\n",
       "     2⎞   ⎛           2⎞   ⎛           2⎞   ⎛           2⎞ ⎥\n",
       " √3⋅u ⎟   ⎜√3⋅u   √3⋅u ⎟   ⎜√3⋅u   √3⋅u ⎟   ⎜√3⋅u   √3⋅u ⎟ ⎥\n",
       " ─────⎟ , ⎜──── + ─────⎟ , ⎜──── + ─────⎟ , ⎜──── + ─────⎟ ⎥\n",
       " 2⋅s⋅t⎠   ⎝2⋅s    2⋅s⋅t⎠   ⎝2⋅s    2⋅s⋅t⎠   ⎝2⋅s    2⋅s⋅t⎠ ⎥\n",
       "                                                           ⎦"
      ]
     },
     "execution_count": 27,
     "metadata": {},
     "output_type": "execute_result"
    }
   ],
   "source": [
    "reslst"
   ]
  },
  {
   "cell_type": "code",
   "execution_count": 28,
   "metadata": {},
   "outputs": [
    {
     "data": {
      "image/png": "[encoded data removed]",
      "text/latex": [
       "$$\\frac{36 u^{2} \\left(t^{2} + t u + u^{2}\\right)}{s^{2} t^{2}}$$"
      ],
      "text/plain": [
       "    2 ⎛ 2          2⎞\n",
       "36⋅u ⋅⎝t  + t⋅u + u ⎠\n",
       "─────────────────────\n",
       "         2  2        \n",
       "        s ⋅t         "
      ]
     },
     "execution_count": 28,
     "metadata": {},
     "output_type": "execute_result"
    }
   ],
   "source": [
    "simplify(sum(reslst))"
   ]
  },
  {
   "attachments": {},
   "cell_type": "markdown",
   "metadata": {},
   "source": [
    "Using $2ut=s^2-t^2-u^2$ and multiplying by 8 we get the result for\n",
    "$|T(g_-g_+\\rightarrow g_-g_+)|^2$"
   ]
  },
  {
   "cell_type": "code",
   "execution_count": 29,
   "metadata": {},
   "outputs": [
    {
     "data": {
      "image/png": "[encoded data removed]",
      "text/latex": [
       "$$\\frac{144 u^{2} \\left(s^{2} + t^{2} + u^{2}\\right)}{s^{2} t^{2}}$$"
      ],
      "text/plain": [
       "     2 ⎛ 2    2    2⎞\n",
       "144⋅u ⋅⎝s  + t  + u ⎠\n",
       "─────────────────────\n",
       "         2  2        \n",
       "        s ⋅t         "
      ]
     },
     "execution_count": 29,
     "metadata": {},
     "output_type": "execute_result"
    }
   ],
   "source": [
    "144*u*u*(s*s+t*t+u*u)/s/s/t/t"
   ]
  },
  {
   "attachments": {},
   "cell_type": "markdown",
   "metadata": {},
   "source": [
    "### 3)  $T(g_-g_+\\rightarrow g_+g_-)$"
   ]
  },
  {
   "cell_type": "code",
   "execution_count": 30,
   "metadata": {},
   "outputs": [
    {
     "data": {
      "image/png": "[encoded data removed]",
      "text/latex": [
       "$$0$$"
      ],
      "text/plain": [
       "0"
      ]
     },
     "execution_count": 30,
     "metadata": {},
     "output_type": "execute_result"
    }
   ],
   "source": [
    "s31=hep.V3gschannel(p1,-1,p2,1,p3,1,p4,-1)/sCM;s31"
   ]
  },
  {
   "cell_type": "code",
   "execution_count": 31,
   "metadata": {},
   "outputs": [
    {
     "data": {
      "image/png": "[encoded data removed]",
      "text/latex": [
       "$$0$$"
      ],
      "text/plain": [
       "0"
      ]
     },
     "execution_count": 31,
     "metadata": {},
     "output_type": "execute_result"
    }
   ],
   "source": [
    "s32=hep.V4gschannel(p1,-1,p2,1,p3,1,p4,-1);s32"
   ]
  },
  {
   "cell_type": "code",
   "execution_count": 32,
   "metadata": {},
   "outputs": [
    {
     "data": {
      "image/png": "[encoded data removed]",
      "text/latex": [
       "$$- \\frac{- \\frac{17 \\cos{\\left (\\theta \\right )}}{2} + \\cos{\\left (2 \\theta \\right )} + \\frac{\\cos{\\left (3 \\theta \\right )}}{2} + 7}{16 \\sin^{2}{\\left (\\frac{\\theta}{2} \\right )}}$$"
      ],
      "text/plain": [
       " ⎛  17⋅cos(θ)              cos(3⋅θ)    ⎞ \n",
       "-⎜- ───────── + cos(2⋅θ) + ──────── + 7⎟ \n",
       " ⎝      2                     2        ⎠ \n",
       "─────────────────────────────────────────\n",
       "                      2⎛θ⎞               \n",
       "                16⋅sin ⎜─⎟               \n",
       "                       ⎝2⎠               "
      ]
     },
     "execution_count": 32,
     "metadata": {},
     "output_type": "execute_result"
    }
   ],
   "source": [
    "t31=hep.V3gtchannel(p1,-1,p2,1,p3,1,p4,-1)/tCM;t31"
   ]
  },
  {
   "cell_type": "code",
   "execution_count": 33,
   "metadata": {},
   "outputs": [
    {
     "data": {
      "image/png": "[encoded data removed]",
      "text/latex": [
       "$$\\left(- \\frac{\\cos{\\left (\\theta \\right )}}{2} + \\frac{1}{2}\\right) \\left(\\frac{\\cos{\\left (\\theta \\right )}}{2} - \\frac{1}{2}\\right)$$"
      ],
      "text/plain": [
       "⎛  cos(θ)   1⎞ ⎛cos(θ)   1⎞\n",
       "⎜- ────── + ─⎟⋅⎜────── - ─⎟\n",
       "⎝    2      2⎠ ⎝  2      2⎠"
      ]
     },
     "execution_count": 33,
     "metadata": {},
     "output_type": "execute_result"
    }
   ],
   "source": [
    "t32=hep.V4gtchannel(p1,-1,p2,1,p3,1,p4,-1);t32"
   ]
  },
  {
   "cell_type": "code",
   "execution_count": 34,
   "metadata": {},
   "outputs": [
    {
     "data": {
      "image/png": "[encoded data removed]",
      "text/latex": [
       "$$\\frac{- \\sin^{2}{\\left (\\theta \\right )} - 2 \\cos{\\left (\\theta \\right )} + 2}{\\cos{\\left (\\theta \\right )} - 1}$$"
      ],
      "text/plain": [
       "     2                  \n",
       "- sin (θ) - 2⋅cos(θ) + 2\n",
       "────────────────────────\n",
       "       cos(θ) - 1       "
      ]
     },
     "execution_count": 34,
     "metadata": {},
     "output_type": "execute_result"
    }
   ],
   "source": [
    "simplify(t31+t32)"
   ]
  },
  {
   "cell_type": "code",
   "execution_count": 35,
   "metadata": {},
   "outputs": [
    {
     "data": {
      "image/png": "[encoded data removed]",
      "text/latex": [
       "$$- \\frac{2 t}{s}$$"
      ],
      "text/plain": [
       "-2⋅t \n",
       "─────\n",
       "  s  "
      ]
     },
     "execution_count": 35,
     "metadata": {},
     "output_type": "execute_result"
    }
   ],
   "source": [
    "b1=-2*t/s;b1"
   ]
  },
  {
   "cell_type": "code",
   "execution_count": 36,
   "metadata": {},
   "outputs": [
    {
     "data": {
      "image/png": "[encoded data removed]",
      "text/latex": [
       "$$- \\frac{- 5 \\sin^{2}{\\left (\\theta \\right )} - \\cos^{3}{\\left (\\theta \\right )} - 7 \\cos{\\left (\\theta \\right )} + 8}{8 \\cos^{2}{\\left (\\frac{\\theta}{2} \\right )}}$$"
      ],
      "text/plain": [
       " ⎛       2         3                  ⎞ \n",
       "-⎝- 5⋅sin (θ) - cos (θ) - 7⋅cos(θ) + 8⎠ \n",
       "────────────────────────────────────────\n",
       "                    2⎛θ⎞                \n",
       "               8⋅cos ⎜─⎟                \n",
       "                     ⎝2⎠                "
      ]
     },
     "execution_count": 36,
     "metadata": {},
     "output_type": "execute_result"
    }
   ],
   "source": [
    "u31=hep.V3guchannel(p1,-1,p2,1,p3,1,p4,-1)/uCM;u31"
   ]
  },
  {
   "cell_type": "code",
   "execution_count": 37,
   "metadata": {},
   "outputs": [
    {
     "data": {
      "image/png": "[encoded data removed]",
      "text/latex": [
       "$$- \\left(- \\frac{\\cos{\\left (\\theta \\right )}}{2} + \\frac{1}{2}\\right)^{2}$$"
      ],
      "text/plain": [
       "               2\n",
       " ⎛  cos(θ)   1⎞ \n",
       "-⎜- ────── + ─⎟ \n",
       " ⎝    2      2⎠ "
      ]
     },
     "execution_count": 37,
     "metadata": {},
     "output_type": "execute_result"
    }
   ],
   "source": [
    "u32=hep.V4guchannel(p1,-1,p2,1,p3,1,p4,-1);u32"
   ]
  },
  {
   "cell_type": "code",
   "execution_count": 38,
   "metadata": {},
   "outputs": [
    {
     "data": {
      "image/png": "[encoded data removed]",
      "text/latex": [
       "$$\\frac{\\sin^{2}{\\left (\\theta \\right )} + 2 \\cos{\\left (\\theta \\right )} - 2}{\\cos{\\left (\\theta \\right )} + 1}$$"
      ],
      "text/plain": [
       "   2                  \n",
       "sin (θ) + 2⋅cos(θ) - 2\n",
       "──────────────────────\n",
       "      cos(θ) + 1      "
      ]
     },
     "execution_count": 38,
     "metadata": {},
     "output_type": "execute_result"
    }
   ],
   "source": [
    "simplify(u31+u32)"
   ]
  },
  {
   "cell_type": "code",
   "execution_count": 39,
   "metadata": {},
   "outputs": [
    {
     "data": {
      "image/png": "[encoded data removed]",
      "text/latex": [
       "$$- \\frac{2 t^{2}}{s u}$$"
      ],
      "text/plain": [
       "    2 \n",
       "-2⋅t  \n",
       "──────\n",
       " s⋅u  "
      ]
     },
     "execution_count": 39,
     "metadata": {},
     "output_type": "execute_result"
    }
   ],
   "source": [
    "b2=-2*t *t/u/s;b2"
   ]
  },
  {
   "cell_type": "code",
   "execution_count": 40,
   "metadata": {},
   "outputs": [],
   "source": [
    "lamvec=[hep.lam1,hep.lam2,hep.lam3,hep.lam4,hep.lam5,hep.lam6,hep.lam7,hep.lam8]\n",
    "a=0\n",
    "ct=0\n",
    "cu=0\n",
    "#cs=0\n",
    "reslst=[]\n",
    "#\n",
    "for b in range(8):\n",
    "    for c in range(8):\n",
    "        for d in range(8):\n",
    "            for i in range(8):\n",
    "                ctm=hep.fsu3(a,c,i)*hep.fsu3(b,d,i)\n",
    "                ct=ct+ctm\n",
    "                cum=hep.fsu3(a,d,i)*hep.fsu3(b,c,i)\n",
    "                cu=cu+cum\n",
    "                #csm=hep.fsu3(a,b,i)*hep.fsu3(c,d,i)\n",
    "                #cs=cs+csm\n",
    "            if ct!=0 or cu!=0:\n",
    "                elm=b1*ct+b2*cu\n",
    "                #a1print(b,c,d,ct,cu)\n",
    "                reslst.append(elm*elm)\n",
    "            ct=0\n",
    "            cu=0"
   ]
  },
  {
   "cell_type": "code",
   "execution_count": 41,
   "metadata": {},
   "outputs": [
    {
     "data": {
      "image/png": "[encoded data removed]",
      "text/latex": [
       "$$\\frac{36 t^{2} \\left(t^{2} + t u + u^{2}\\right)}{s^{2} u^{2}}$$"
      ],
      "text/plain": [
       "    2 ⎛ 2          2⎞\n",
       "36⋅t ⋅⎝t  + t⋅u + u ⎠\n",
       "─────────────────────\n",
       "         2  2        \n",
       "        s ⋅u         "
      ]
     },
     "execution_count": 41,
     "metadata": {},
     "output_type": "execute_result"
    }
   ],
   "source": [
    "simplify(sum(reslst))"
   ]
  },
  {
   "attachments": {},
   "cell_type": "markdown",
   "metadata": {},
   "source": [
    "i.e. $|T(g_-g_+\\rightarrow g_+g_-)|^2$ is given by"
   ]
  },
  {
   "cell_type": "code",
   "execution_count": 42,
   "metadata": {},
   "outputs": [
    {
     "data": {
      "image/png": "[encoded data removed]",
      "text/latex": [
       "$$\\frac{144 t^{2} \\left(s^{2} + t^{2} + u^{2}\\right)}{s^{2} u^{2}}$$"
      ],
      "text/plain": [
       "     2 ⎛ 2    2    2⎞\n",
       "144⋅t ⋅⎝s  + t  + u ⎠\n",
       "─────────────────────\n",
       "         2  2        \n",
       "        s ⋅u         "
      ]
     },
     "execution_count": 42,
     "metadata": {},
     "output_type": "execute_result"
    }
   ],
   "source": [
    "144*t*t*(s*s+t*t+u*u)/s/s/u/u"
   ]
  },
  {
   "attachments": {},
   "cell_type": "markdown",
   "metadata": {},
   "source": [
    "### 4)  $T(g_-g_+\\rightarrow g_+g_+)$"
   ]
  },
  {
   "cell_type": "code",
   "execution_count": 43,
   "metadata": {},
   "outputs": [
    {
     "data": {
      "image/png": "[encoded data removed]",
      "text/latex": [
       "$$0$$"
      ],
      "text/plain": [
       "0"
      ]
     },
     "execution_count": 43,
     "metadata": {},
     "output_type": "execute_result"
    }
   ],
   "source": [
    "s41=hep.V3gschannel(p1,-1,p2,1,p3,1,p4,1)/sCM;s41"
   ]
  },
  {
   "cell_type": "code",
   "execution_count": 44,
   "metadata": {},
   "outputs": [
    {
     "data": {
      "image/png": "[encoded data removed]",
      "text/latex": [
       "$$0$$"
      ],
      "text/plain": [
       "0"
      ]
     },
     "execution_count": 44,
     "metadata": {},
     "output_type": "execute_result"
    }
   ],
   "source": [
    "s42=hep.V4gschannel(p1,-1,p2,1,p3,1,p4,1);s42"
   ]
  },
  {
   "cell_type": "code",
   "execution_count": 45,
   "metadata": {},
   "outputs": [
    {
     "data": {
      "image/png": "[encoded data removed]",
      "text/latex": [
       "$$- \\frac{\\left(- \\cos{\\left (\\theta \\right )} + 1\\right) \\sin^{2}{\\left (\\theta \\right )}}{8 \\sin^{2}{\\left (\\frac{\\theta}{2} \\right )}}$$"
      ],
      "text/plain": [
       "                  2    \n",
       "-(-cos(θ) + 1)⋅sin (θ) \n",
       "───────────────────────\n",
       "            2⎛θ⎞       \n",
       "       8⋅sin ⎜─⎟       \n",
       "             ⎝2⎠       "
      ]
     },
     "execution_count": 45,
     "metadata": {},
     "output_type": "execute_result"
    }
   ],
   "source": [
    "t41=hep.V3gtchannel(p1,-1,p2,1,p3,1,p4,1)/tCM;t41"
   ]
  },
  {
   "cell_type": "code",
   "execution_count": 46,
   "metadata": {},
   "outputs": [
    {
     "data": {
      "image/png": "[encoded data removed]",
      "text/latex": [
       "$$\\left(- \\frac{\\cos{\\left (\\theta \\right )}}{2} + \\frac{1}{2}\\right) \\left(\\frac{\\cos{\\left (\\theta \\right )}}{2} + \\frac{1}{2}\\right)$$"
      ],
      "text/plain": [
       "⎛  cos(θ)   1⎞ ⎛cos(θ)   1⎞\n",
       "⎜- ────── + ─⎟⋅⎜────── + ─⎟\n",
       "⎝    2      2⎠ ⎝  2      2⎠"
      ]
     },
     "execution_count": 46,
     "metadata": {},
     "output_type": "execute_result"
    }
   ],
   "source": [
    "t42=hep.V4gtchannel(p1,-1,p2,1,p3,1,p4,1);t42"
   ]
  },
  {
   "cell_type": "code",
   "execution_count": 47,
   "metadata": {},
   "outputs": [
    {
     "data": {
      "image/png": "[encoded data removed]",
      "text/latex": [
       "$$0$$"
      ],
      "text/plain": [
       "0"
      ]
     },
     "execution_count": 47,
     "metadata": {},
     "output_type": "execute_result"
    }
   ],
   "source": [
    "simplify(t41+t42)"
   ]
  },
  {
   "cell_type": "code",
   "execution_count": 48,
   "metadata": {},
   "outputs": [
    {
     "data": {
      "image/png": "[encoded data removed]",
      "text/latex": [
       "$$- \\frac{\\left(\\cos{\\left (\\theta \\right )} + 1\\right) \\sin^{2}{\\left (\\theta \\right )}}{8 \\cos^{2}{\\left (\\frac{\\theta}{2} \\right )}}$$"
      ],
      "text/plain": [
       "                 2    \n",
       "-(cos(θ) + 1)⋅sin (θ) \n",
       "──────────────────────\n",
       "           2⎛θ⎞       \n",
       "      8⋅cos ⎜─⎟       \n",
       "            ⎝2⎠       "
      ]
     },
     "execution_count": 48,
     "metadata": {},
     "output_type": "execute_result"
    }
   ],
   "source": [
    "u41=hep.V3guchannel(p1,-1,p2,1,p3,1,p4,1)/uCM;u41"
   ]
  },
  {
   "cell_type": "code",
   "execution_count": 49,
   "metadata": {},
   "outputs": [
    {
     "data": {
      "image/png": "[encoded data removed]",
      "text/latex": [
       "$$- \\left(- \\frac{\\cos{\\left (\\theta \\right )}}{2} - \\frac{1}{2}\\right) \\left(- \\frac{\\cos{\\left (\\theta \\right )}}{2} + \\frac{1}{2}\\right)$$"
      ],
      "text/plain": [
       " ⎛  cos(θ)   1⎞ ⎛  cos(θ)   1⎞\n",
       "-⎜- ────── - ─⎟⋅⎜- ────── + ─⎟\n",
       " ⎝    2      2⎠ ⎝    2      2⎠"
      ]
     },
     "execution_count": 49,
     "metadata": {},
     "output_type": "execute_result"
    }
   ],
   "source": [
    "u42=hep.V4guchannel(p1,-1,p2,1,p3,1,p4,1);u42"
   ]
  },
  {
   "cell_type": "code",
   "execution_count": 50,
   "metadata": {},
   "outputs": [
    {
     "data": {
      "image/png": "[encoded data removed]",
      "text/latex": [
       "$$0$$"
      ],
      "text/plain": [
       "0"
      ]
     },
     "execution_count": 50,
     "metadata": {},
     "output_type": "execute_result"
    }
   ],
   "source": [
    "simplify(u41+u42)"
   ]
  },
  {
   "attachments": {},
   "cell_type": "markdown",
   "metadata": {},
   "source": [
    "i.e.  $T(g_-g_+\\rightarrow g_+g_+)=0$. \n",
    "\n",
    "Now follows the most complicated 3rd non vanishing amplitude\n",
    "\n",
    "### 5) $T(g_-g_-\\rightarrow g_-g_-)$"
   ]
  },
  {
   "cell_type": "code",
   "execution_count": 51,
   "metadata": {},
   "outputs": [
    {
     "data": {
      "image/png": "[encoded data removed]",
      "text/latex": [
       "$$\\cos{\\left (\\theta \\right )}$$"
      ],
      "text/plain": [
       "cos(θ)"
      ]
     },
     "execution_count": 51,
     "metadata": {},
     "output_type": "execute_result"
    }
   ],
   "source": [
    "s51=hep.V3gschannel(p1,-1,p2,-1,p3,-1,p4,-1)/sCM;s51"
   ]
  },
  {
   "cell_type": "code",
   "execution_count": 52,
   "metadata": {},
   "outputs": [
    {
     "data": {
      "image/png": "[encoded data removed]",
      "text/latex": [
       "$$\\left(- \\frac{\\cos{\\left (\\theta \\right )}}{2} - \\frac{1}{2}\\right)^{2} - \\left(- \\frac{\\cos{\\left (\\theta \\right )}}{2} + \\frac{1}{2}\\right)^{2}$$"
      ],
      "text/plain": [
       "              2                 2\n",
       "⎛  cos(θ)   1⎞    ⎛  cos(θ)   1⎞ \n",
       "⎜- ────── - ─⎟  - ⎜- ────── + ─⎟ \n",
       "⎝    2      2⎠    ⎝    2      2⎠ "
      ]
     },
     "execution_count": 52,
     "metadata": {},
     "output_type": "execute_result"
    }
   ],
   "source": [
    "s52=hep.V4gschannel(p1,-1,p2,-1,p3,-1,p4,-1);s52"
   ]
  },
  {
   "cell_type": "code",
   "execution_count": 53,
   "metadata": {},
   "outputs": [
    {
     "data": {
      "image/png": "[encoded data removed]",
      "text/latex": [
       "$$2 \\cos{\\left (\\theta \\right )}$$"
      ],
      "text/plain": [
       "2⋅cos(θ)"
      ]
     },
     "execution_count": 53,
     "metadata": {},
     "output_type": "execute_result"
    }
   ],
   "source": [
    "simplify(s51+s52)"
   ]
  },
  {
   "cell_type": "code",
   "execution_count": 54,
   "metadata": {},
   "outputs": [
    {
     "data": {
      "image/png": "[encoded data removed]",
      "text/latex": [
       "$$- \\frac{31 \\cos{\\left (\\theta \\right )} - 22 \\cos{\\left (2 \\theta \\right )} + \\cos{\\left (3 \\theta \\right )} + 54}{32 \\sin^{2}{\\left (\\frac{\\theta}{2} \\right )}}$$"
      ],
      "text/plain": [
       "-(31⋅cos(θ) - 22⋅cos(2⋅θ) + cos(3⋅θ) + 54) \n",
       "───────────────────────────────────────────\n",
       "                       2⎛θ⎞                \n",
       "                 32⋅sin ⎜─⎟                \n",
       "                        ⎝2⎠                "
      ]
     },
     "execution_count": 54,
     "metadata": {},
     "output_type": "execute_result"
    }
   ],
   "source": [
    "t51=hep.V3gtchannel(p1,-1,p2,-1,p3,-1,p4,-1)/tCM;t51"
   ]
  },
  {
   "cell_type": "code",
   "execution_count": 55,
   "metadata": {},
   "outputs": [
    {
     "data": {
      "image/png": "[encoded data removed]",
      "text/latex": [
       "$$\\left(- \\frac{\\cos{\\left (\\theta \\right )}}{2} + \\frac{1}{2}\\right) \\left(\\frac{\\cos{\\left (\\theta \\right )}}{2} - \\frac{1}{2}\\right) + \\sin^{4}{\\left (\\frac{\\theta}{2} \\right )} - \\sin^{2}{\\left (\\frac{\\theta}{2} \\right )} + \\frac{\\sin^{2}{\\left (\\theta \\right )}}{4} + 1$$"
      ],
      "text/plain": [
       "                                                     2       \n",
       "⎛  cos(θ)   1⎞ ⎛cos(θ)   1⎞      4⎛θ⎞      2⎛θ⎞   sin (θ)    \n",
       "⎜- ────── + ─⎟⋅⎜────── - ─⎟ + sin ⎜─⎟ - sin ⎜─⎟ + ─────── + 1\n",
       "⎝    2      2⎠ ⎝  2      2⎠       ⎝2⎠       ⎝2⎠      4       "
      ]
     },
     "execution_count": 55,
     "metadata": {},
     "output_type": "execute_result"
    }
   ],
   "source": [
    "t52=hep.V4gtchannel(p1,-1,p2,-1,p3,-1,p4,-1);t52"
   ]
  },
  {
   "cell_type": "code",
   "execution_count": 56,
   "metadata": {},
   "outputs": [
    {
     "data": {
      "image/png": "[encoded data removed]",
      "text/latex": [
       "$$\\frac{- 2 \\cos{\\left (\\theta \\right )} + \\cos{\\left (2 \\theta \\right )} - 3}{- \\cos{\\left (\\theta \\right )} + 1}$$"
      ],
      "text/plain": [
       "-2⋅cos(θ) + cos(2⋅θ) - 3\n",
       "────────────────────────\n",
       "      -cos(θ) + 1       "
      ]
     },
     "execution_count": 56,
     "metadata": {},
     "output_type": "execute_result"
    }
   ],
   "source": [
    "simplify(t51+t52)"
   ]
  },
  {
   "cell_type": "code",
   "execution_count": 57,
   "metadata": {},
   "outputs": [
    {
     "data": {
      "image/png": "[encoded data removed]",
      "text/latex": [
       "$$- \\frac{- 31 \\cos{\\left (\\theta \\right )} - 22 \\cos{\\left (2 \\theta \\right )} - \\cos{\\left (3 \\theta \\right )} + 54}{32 \\cos^{2}{\\left (\\frac{\\theta}{2} \\right )}}$$"
      ],
      "text/plain": [
       "-(-31⋅cos(θ) - 22⋅cos(2⋅θ) - cos(3⋅θ) + 54) \n",
       "────────────────────────────────────────────\n",
       "                       2⎛θ⎞                 \n",
       "                 32⋅cos ⎜─⎟                 \n",
       "                        ⎝2⎠                 "
      ]
     },
     "execution_count": 57,
     "metadata": {},
     "output_type": "execute_result"
    }
   ],
   "source": [
    "u51=hep.V3guchannel(p1,-1,p2,-1,p3,-1,p4,-1)/uCM;u51"
   ]
  },
  {
   "cell_type": "code",
   "execution_count": 58,
   "metadata": {},
   "outputs": [
    {
     "data": {
      "image/png": "[encoded data removed]",
      "text/latex": [
       "$$- \\left(- \\frac{\\cos{\\left (\\theta \\right )}}{2} - \\frac{1}{2}\\right)^{2} + \\sin^{4}{\\left (\\frac{\\theta}{2} \\right )} - \\sin^{2}{\\left (\\frac{\\theta}{2} \\right )} + \\frac{\\sin^{2}{\\left (\\theta \\right )}}{4} + 1$$"
      ],
      "text/plain": [
       "                2                          2       \n",
       "  ⎛  cos(θ)   1⎞       4⎛θ⎞      2⎛θ⎞   sin (θ)    \n",
       "- ⎜- ────── - ─⎟  + sin ⎜─⎟ - sin ⎜─⎟ + ─────── + 1\n",
       "  ⎝    2      2⎠        ⎝2⎠       ⎝2⎠      4       "
      ]
     },
     "execution_count": 58,
     "metadata": {},
     "output_type": "execute_result"
    }
   ],
   "source": [
    "u52=hep.V4guchannel(p1,-1,p2,-1,p3,-1,p4,-1);u52"
   ]
  },
  {
   "cell_type": "code",
   "execution_count": 59,
   "metadata": {},
   "outputs": [
    {
     "data": {
      "image/png": "[encoded data removed]",
      "text/latex": [
       "$$\\frac{2 \\cos{\\left (\\theta \\right )} + \\cos{\\left (2 \\theta \\right )} - 3}{\\cos{\\left (\\theta \\right )} + 1}$$"
      ],
      "text/plain": [
       "2⋅cos(θ) + cos(2⋅θ) - 3\n",
       "───────────────────────\n",
       "       cos(θ) + 1      "
      ]
     },
     "execution_count": 59,
     "metadata": {},
     "output_type": "execute_result"
    }
   ],
   "source": [
    "simplify(u51+u52)"
   ]
  },
  {
   "cell_type": "code",
   "execution_count": 60,
   "metadata": {
    "scrolled": true
   },
   "outputs": [
    {
     "data": {
      "image/png": "[encoded data removed]",
      "text/latex": [
       "$$\\frac{6 u}{s} + \\frac{2 u^{2}}{s t}$$"
      ],
      "text/plain": [
       "         2\n",
       "6⋅u   2⋅u \n",
       "─── + ────\n",
       " s    s⋅t "
      ]
     },
     "execution_count": 60,
     "metadata": {},
     "output_type": "execute_result"
    }
   ],
   "source": [
    "c1=2*u*u/t/s+6*u/s;c1"
   ]
  },
  {
   "cell_type": "code",
   "execution_count": 61,
   "metadata": {},
   "outputs": [
    {
     "data": {
      "image/png": "[encoded data removed]",
      "text/latex": [
       "$$\\frac{2 t^{2}}{s u} + \\frac{6 t}{s}$$"
      ],
      "text/plain": [
       "   2      \n",
       "2⋅t    6⋅t\n",
       "──── + ───\n",
       "s⋅u     s "
      ]
     },
     "execution_count": 61,
     "metadata": {},
     "output_type": "execute_result"
    }
   ],
   "source": [
    "c2=2*t*t/u/s+6*t/s;c2"
   ]
  },
  {
   "cell_type": "code",
   "execution_count": 62,
   "metadata": {},
   "outputs": [
    {
     "data": {
      "image/png": "[encoded data removed]",
      "text/latex": [
       "$$\\frac{2 t}{s} - \\frac{2 u}{s}$$"
      ],
      "text/plain": [
       "2⋅t   2⋅u\n",
       "─── - ───\n",
       " s     s "
      ]
     },
     "execution_count": 62,
     "metadata": {},
     "output_type": "execute_result"
    }
   ],
   "source": [
    "c3=-2*u/s+2*t/s;c3"
   ]
  },
  {
   "cell_type": "code",
   "execution_count": 63,
   "metadata": {},
   "outputs": [],
   "source": [
    "lamvec=[hep.lam1,hep.lam2,hep.lam3,hep.lam4,hep.lam5,hep.lam6,hep.lam7,hep.lam8]\n",
    "a=0\n",
    "ct=0\n",
    "cu=0\n",
    "cs=0\n",
    "reslst=[]\n",
    "#\n",
    "for b in range(8):\n",
    "    for c in range(8):\n",
    "        for d in range(8):\n",
    "            for i in range(8):\n",
    "                ctm=hep.fsu3(a,c,i)*hep.fsu3(b,d,i)\n",
    "                ct=ct+ctm\n",
    "                cum=hep.fsu3(a,d,i)*hep.fsu3(b,c,i)\n",
    "                cu=cu+cum\n",
    "                csm=hep.fsu3(a,b,i)*hep.fsu3(c,d,i)\n",
    "                cs=cs+csm\n",
    "            if ct!=0 or cu!=0 or cs!=0:\n",
    "                elm=c1*ct+c2*cu+c3*cs\n",
    "                #a1print(b,c,d,ct,cu)\n",
    "                reslst.append(elm*elm)\n",
    "            ct=0\n",
    "            cu=0\n",
    "            cs=0"
   ]
  },
  {
   "cell_type": "code",
   "execution_count": 64,
   "metadata": {},
   "outputs": [
    {
     "data": {
      "image/png": "[encoded data removed]",
      "text/latex": [
       "$$\\frac{36 \\left(t^{6} + 5 t^{5} u + 11 t^{4} u^{2} + 14 t^{3} u^{3} + 11 t^{2} u^{4} + 5 t u^{5} + u^{6}\\right)}{s^{2} t^{2} u^{2}}$$"
      ],
      "text/plain": [
       "   ⎛ 6      5         4  2       3  3       2  4        5    6⎞\n",
       "36⋅⎝t  + 5⋅t ⋅u + 11⋅t ⋅u  + 14⋅t ⋅u  + 11⋅t ⋅u  + 5⋅t⋅u  + u ⎠\n",
       "───────────────────────────────────────────────────────────────\n",
       "                             2  2  2                           \n",
       "                            s ⋅t ⋅u                            "
      ]
     },
     "execution_count": 64,
     "metadata": {},
     "output_type": "execute_result"
    }
   ],
   "source": [
    "h3=simplify(sum(reslst));h3\n"
   ]
  },
  {
   "cell_type": "code",
   "execution_count": 65,
   "metadata": {},
   "outputs": [
    {
     "data": {
      "image/png": "[encoded data removed]",
      "text/latex": [
       "$$t^{6} + 5 t^{5} u + 11 t^{4} u^{2} + 14 t^{3} u^{3} + 11 t^{2} u^{4} + 5 t u^{5} + u^{6}$$"
      ],
      "text/plain": [
       " 6      5         4  2       3  3       2  4        5    6\n",
       "t  + 5⋅t ⋅u + 11⋅t ⋅u  + 14⋅t ⋅u  + 11⋅t ⋅u  + 5⋅t⋅u  + u "
      ]
     },
     "execution_count": 65,
     "metadata": {},
     "output_type": "execute_result"
    }
   ],
   "source": [
    "h4=h3*s**2*t**2*u**2/36;h4"
   ]
  },
  {
   "cell_type": "code",
   "execution_count": 66,
   "metadata": {},
   "outputs": [
    {
     "data": {
      "image/png": "[encoded data removed]",
      "text/latex": [
       "$$s^{4} \\left(s^{2} + s u + u^{2}\\right)$$"
      ],
      "text/plain": [
       " 4 ⎛ 2          2⎞\n",
       "s ⋅⎝s  + s⋅u + u ⎠"
      ]
     },
     "execution_count": 66,
     "metadata": {},
     "output_type": "execute_result"
    }
   ],
   "source": [
    "h5=simplify(h4.subs(t,-s-u));h5"
   ]
  },
  {
   "cell_type": "code",
   "execution_count": 67,
   "metadata": {},
   "outputs": [
    {
     "data": {
      "image/png": "[encoded data removed]",
      "text/latex": [
       "$$\\frac{36 s^{2} \\left(s^{2} + s u + u^{2}\\right)}{t^{2} u^{2}}$$"
      ],
      "text/plain": [
       "    2 ⎛ 2          2⎞\n",
       "36⋅s ⋅⎝s  + s⋅u + u ⎠\n",
       "─────────────────────\n",
       "         2  2        \n",
       "        t ⋅u         "
      ]
     },
     "execution_count": 67,
     "metadata": {},
     "output_type": "execute_result"
    }
   ],
   "source": [
    "final=36*h5/s**2/t**2/u**2;final"
   ]
  },
  {
   "attachments": {},
   "cell_type": "markdown",
   "metadata": {},
   "source": [
    "i.e. $|T(g_-g_-\\rightarrow g_-g_-)|^2$ is given by"
   ]
  },
  {
   "cell_type": "code",
   "execution_count": 68,
   "metadata": {},
   "outputs": [
    {
     "data": {
      "image/png": "[encoded data removed]",
      "text/latex": [
       "$$\\frac{144 s^{2} \\left(s^{2} + t^{2} + u^{2}\\right)}{t^{2} u^{2}}$$"
      ],
      "text/plain": [
       "     2 ⎛ 2    2    2⎞\n",
       "144⋅s ⋅⎝s  + t  + u ⎠\n",
       "─────────────────────\n",
       "         2  2        \n",
       "        t ⋅u         "
      ]
     },
     "execution_count": 68,
     "metadata": {},
     "output_type": "execute_result"
    }
   ],
   "source": [
    "144*s*s*(s*s+t*t+u*u)/t**2/u**2"
   ]
  },
  {
   "attachments": {},
   "cell_type": "markdown",
   "metadata": {},
   "source": [
    "### 6) $T(g_-g_-\\rightarrow g_-g_+)$"
   ]
  },
  {
   "cell_type": "code",
   "execution_count": 69,
   "metadata": {},
   "outputs": [
    {
     "data": {
      "image/png": "[encoded data removed]",
      "text/latex": [
       "$$0$$"
      ],
      "text/plain": [
       "0"
      ]
     },
     "execution_count": 69,
     "metadata": {},
     "output_type": "execute_result"
    }
   ],
   "source": [
    "s61=hep.V3gschannel(p1,-1,p2,-1,p3,-1,p4,1)/sCM;s61"
   ]
  },
  {
   "cell_type": "code",
   "execution_count": 70,
   "metadata": {},
   "outputs": [
    {
     "data": {
      "image/png": "[encoded data removed]",
      "text/latex": [
       "$$0$$"
      ],
      "text/plain": [
       "0"
      ]
     },
     "execution_count": 70,
     "metadata": {},
     "output_type": "execute_result"
    }
   ],
   "source": [
    "s62=hep.V4gschannel(p1,-1,p2,-1,p3,-1,p4,1);s62"
   ]
  },
  {
   "cell_type": "code",
   "execution_count": 71,
   "metadata": {},
   "outputs": [
    {
     "data": {
      "image/png": "[encoded data removed]",
      "text/latex": [
       "$$- \\frac{\\left(- \\cos{\\left (\\theta \\right )} + 1\\right) \\sin^{2}{\\left (\\theta \\right )}}{8 \\sin^{2}{\\left (\\frac{\\theta}{2} \\right )}}$$"
      ],
      "text/plain": [
       "                  2    \n",
       "-(-cos(θ) + 1)⋅sin (θ) \n",
       "───────────────────────\n",
       "            2⎛θ⎞       \n",
       "       8⋅sin ⎜─⎟       \n",
       "             ⎝2⎠       "
      ]
     },
     "execution_count": 71,
     "metadata": {},
     "output_type": "execute_result"
    }
   ],
   "source": [
    "t61=hep.V3gtchannel(p1,-1,p2,-1,p3,-1,p4,1)/tCM;t61"
   ]
  },
  {
   "cell_type": "code",
   "execution_count": 72,
   "metadata": {},
   "outputs": [
    {
     "data": {
      "image/png": "[encoded data removed]",
      "text/latex": [
       "$$\\left(- \\frac{\\cos{\\left (\\theta \\right )}}{2} + \\frac{1}{2}\\right) \\left(\\frac{\\cos{\\left (\\theta \\right )}}{2} + \\frac{1}{2}\\right) + \\sin^{4}{\\left (\\frac{\\theta}{2} \\right )} - \\sin^{2}{\\left (\\frac{\\theta}{2} \\right )} + \\frac{\\sin^{2}{\\left (\\theta \\right )}}{4}$$"
      ],
      "text/plain": [
       "                                                     2   \n",
       "⎛  cos(θ)   1⎞ ⎛cos(θ)   1⎞      4⎛θ⎞      2⎛θ⎞   sin (θ)\n",
       "⎜- ────── + ─⎟⋅⎜────── + ─⎟ + sin ⎜─⎟ - sin ⎜─⎟ + ───────\n",
       "⎝    2      2⎠ ⎝  2      2⎠       ⎝2⎠       ⎝2⎠      4   "
      ]
     },
     "execution_count": 72,
     "metadata": {},
     "output_type": "execute_result"
    }
   ],
   "source": [
    "t62=hep.V4gtchannel(p1,-1,p2,-1,p3,-1,p4,1);t62"
   ]
  },
  {
   "cell_type": "code",
   "execution_count": 73,
   "metadata": {},
   "outputs": [
    {
     "data": {
      "image/png": "[encoded data removed]",
      "text/latex": [
       "$$0$$"
      ],
      "text/plain": [
       "0"
      ]
     },
     "execution_count": 73,
     "metadata": {},
     "output_type": "execute_result"
    }
   ],
   "source": [
    "simplify(t61+t62)"
   ]
  },
  {
   "cell_type": "code",
   "execution_count": 74,
   "metadata": {},
   "outputs": [
    {
     "data": {
      "image/png": "[encoded data removed]",
      "text/latex": [
       "$$- \\frac{\\left(\\cos{\\left (\\theta \\right )} + 1\\right) \\sin^{2}{\\left (\\theta \\right )}}{8 \\cos^{2}{\\left (\\frac{\\theta}{2} \\right )}}$$"
      ],
      "text/plain": [
       "                 2    \n",
       "-(cos(θ) + 1)⋅sin (θ) \n",
       "──────────────────────\n",
       "           2⎛θ⎞       \n",
       "      8⋅cos ⎜─⎟       \n",
       "            ⎝2⎠       "
      ]
     },
     "execution_count": 74,
     "metadata": {},
     "output_type": "execute_result"
    }
   ],
   "source": [
    "u61=hep.V3guchannel(p1,-1,p2,-1,p3,-1,p4,1)/uCM;u61"
   ]
  },
  {
   "cell_type": "code",
   "execution_count": 75,
   "metadata": {},
   "outputs": [
    {
     "data": {
      "image/png": "[encoded data removed]",
      "text/latex": [
       "$$- \\left(- \\frac{\\cos{\\left (\\theta \\right )}}{2} - \\frac{1}{2}\\right) \\left(- \\frac{\\cos{\\left (\\theta \\right )}}{2} + \\frac{1}{2}\\right) + \\sin^{4}{\\left (\\frac{\\theta}{2} \\right )} - \\sin^{2}{\\left (\\frac{\\theta}{2} \\right )} + \\frac{\\sin^{2}{\\left (\\theta \\right )}}{4}$$"
      ],
      "text/plain": [
       "                                                         2   \n",
       "  ⎛  cos(θ)   1⎞ ⎛  cos(θ)   1⎞      4⎛θ⎞      2⎛θ⎞   sin (θ)\n",
       "- ⎜- ────── - ─⎟⋅⎜- ────── + ─⎟ + sin ⎜─⎟ - sin ⎜─⎟ + ───────\n",
       "  ⎝    2      2⎠ ⎝    2      2⎠       ⎝2⎠       ⎝2⎠      4   "
      ]
     },
     "execution_count": 75,
     "metadata": {},
     "output_type": "execute_result"
    }
   ],
   "source": [
    "u62=hep.V4guchannel(p1,-1,p2,-1,p3,-1,p4,1);u62"
   ]
  },
  {
   "cell_type": "code",
   "execution_count": 76,
   "metadata": {},
   "outputs": [
    {
     "data": {
      "image/png": "[encoded data removed]",
      "text/latex": [
       "$$0$$"
      ],
      "text/plain": [
       "0"
      ]
     },
     "execution_count": 76,
     "metadata": {},
     "output_type": "execute_result"
    }
   ],
   "source": [
    "simplify(u61+u62)"
   ]
  },
  {
   "attachments": {},
   "cell_type": "markdown",
   "metadata": {},
   "source": [
    "i.e. $T(g_-g_-\\rightarrow g_-g_+)=0$\n",
    "\n",
    "### 7) $T(g_-g_-\\rightarrow g_+g_-)$"
   ]
  },
  {
   "cell_type": "code",
   "execution_count": 77,
   "metadata": {},
   "outputs": [
    {
     "data": {
      "image/png": "[encoded data removed]",
      "text/latex": [
       "$$0$$"
      ],
      "text/plain": [
       "0"
      ]
     },
     "execution_count": 77,
     "metadata": {},
     "output_type": "execute_result"
    }
   ],
   "source": [
    "s71=hep.V3gschannel(p1,-1,p2,-1,p3,1,p4,-1)/sCM;s71"
   ]
  },
  {
   "cell_type": "code",
   "execution_count": 78,
   "metadata": {},
   "outputs": [
    {
     "data": {
      "image/png": "[encoded data removed]",
      "text/latex": [
       "$$\\left [ 0, \\quad - 4 p \\left(- \\sin^{4}{\\left (\\frac{\\theta}{2} \\right )} + \\sin^{2}{\\left (\\frac{\\theta}{2} \\right )} - \\frac{\\sin^{2}{\\left (\\theta \\right )}}{4}\\right) \\sin{\\left (\\frac{\\theta}{2} \\right )} \\cos{\\left (\\frac{\\theta}{2} \\right )}, \\quad 0, \\quad \\left(- p \\left(- \\sin^{2}{\\left (\\frac{\\theta}{2} \\right )} + \\cos^{2}{\\left (\\frac{\\theta}{2} \\right )}\\right) + p \\left(\\sin^{2}{\\left (\\frac{\\theta}{2} \\right )} - \\cos^{2}{\\left (\\frac{\\theta}{2} \\right )}\\right)\\right) \\left(- \\sin^{4}{\\left (\\frac{\\theta}{2} \\right )} + \\sin^{2}{\\left (\\frac{\\theta}{2} \\right )} - \\frac{\\sin^{2}{\\left (\\theta \\right )}}{4}\\right)\\right ]$$"
      ],
      "text/plain": [
       "⎡        ⎛                         2   ⎞                                      \n",
       "⎢        ⎜     4⎛θ⎞      2⎛θ⎞   sin (θ)⎟    ⎛θ⎞    ⎛θ⎞     ⎛    ⎛     2⎛θ⎞    \n",
       "⎢0, -4⋅p⋅⎜- sin ⎜─⎟ + sin ⎜─⎟ - ───────⎟⋅sin⎜─⎟⋅cos⎜─⎟, 0, ⎜- p⋅⎜- sin ⎜─⎟ + c\n",
       "⎣        ⎝      ⎝2⎠       ⎝2⎠      4   ⎠    ⎝2⎠    ⎝2⎠     ⎝    ⎝      ⎝2⎠    \n",
       "\n",
       "                                 ⎛                         2   ⎞⎤\n",
       "  2⎛θ⎞⎞     ⎛   2⎛θ⎞      2⎛θ⎞⎞⎞ ⎜     4⎛θ⎞      2⎛θ⎞   sin (θ)⎟⎥\n",
       "os ⎜─⎟⎟ + p⋅⎜sin ⎜─⎟ - cos ⎜─⎟⎟⎟⋅⎜- sin ⎜─⎟ + sin ⎜─⎟ - ───────⎟⎥\n",
       "   ⎝2⎠⎠     ⎝    ⎝2⎠       ⎝2⎠⎠⎠ ⎝      ⎝2⎠       ⎝2⎠      4   ⎠⎦"
      ]
     },
     "execution_count": 78,
     "metadata": {},
     "output_type": "execute_result"
    }
   ],
   "source": [
    "h2=hep.V3gOutOut(p3,1,p4,-1);h2"
   ]
  },
  {
   "cell_type": "code",
   "execution_count": 79,
   "metadata": {},
   "outputs": [
    {
     "data": {
      "image/png": "[encoded data removed]",
      "text/latex": [
       "$$0$$"
      ],
      "text/plain": [
       "0"
      ]
     },
     "execution_count": 79,
     "metadata": {},
     "output_type": "execute_result"
    }
   ],
   "source": [
    "s72=simplify(hep.V4gschannel(p1,-1,p2,-1,p3,1,p4,-1));s72"
   ]
  },
  {
   "cell_type": "code",
   "execution_count": 80,
   "metadata": {},
   "outputs": [
    {
     "data": {
      "image/png": "[encoded data removed]",
      "text/latex": [
       "$$- \\frac{\\left(- \\cos{\\left (\\theta \\right )} + 1\\right) \\sin^{2}{\\left (\\theta \\right )}}{8 \\sin^{2}{\\left (\\frac{\\theta}{2} \\right )}}$$"
      ],
      "text/plain": [
       "                  2    \n",
       "-(-cos(θ) + 1)⋅sin (θ) \n",
       "───────────────────────\n",
       "            2⎛θ⎞       \n",
       "       8⋅sin ⎜─⎟       \n",
       "             ⎝2⎠       "
      ]
     },
     "execution_count": 80,
     "metadata": {},
     "output_type": "execute_result"
    }
   ],
   "source": [
    "t71=hep.V3gtchannel(p1,-1,p2,-1,p3,1,p4,-1)/tCM;t71"
   ]
  },
  {
   "cell_type": "code",
   "execution_count": 81,
   "metadata": {},
   "outputs": [
    {
     "data": {
      "image/png": "[encoded data removed]",
      "text/latex": [
       "$$\\left(- \\frac{\\cos{\\left (\\theta \\right )}}{2} - \\frac{1}{2}\\right) \\left(\\frac{\\cos{\\left (\\theta \\right )}}{2} - \\frac{1}{2}\\right) + \\sin^{4}{\\left (\\frac{\\theta}{2} \\right )} - \\sin^{2}{\\left (\\frac{\\theta}{2} \\right )} + \\frac{\\sin^{2}{\\left (\\theta \\right )}}{4}$$"
      ],
      "text/plain": [
       "                                                     2   \n",
       "⎛  cos(θ)   1⎞ ⎛cos(θ)   1⎞      4⎛θ⎞      2⎛θ⎞   sin (θ)\n",
       "⎜- ────── - ─⎟⋅⎜────── - ─⎟ + sin ⎜─⎟ - sin ⎜─⎟ + ───────\n",
       "⎝    2      2⎠ ⎝  2      2⎠       ⎝2⎠       ⎝2⎠      4   "
      ]
     },
     "execution_count": 81,
     "metadata": {},
     "output_type": "execute_result"
    }
   ],
   "source": [
    "t72=hep.V4gtchannel(p1,-1,p2,-1,p3,1,p4,-1);t72"
   ]
  },
  {
   "cell_type": "code",
   "execution_count": 82,
   "metadata": {},
   "outputs": [
    {
     "data": {
      "image/png": "[encoded data removed]",
      "text/latex": [
       "$$0$$"
      ],
      "text/plain": [
       "0"
      ]
     },
     "execution_count": 82,
     "metadata": {},
     "output_type": "execute_result"
    }
   ],
   "source": [
    "simplify(t71+t72)"
   ]
  },
  {
   "cell_type": "code",
   "execution_count": 83,
   "metadata": {},
   "outputs": [
    {
     "data": {
      "image/png": "[encoded data removed]",
      "text/latex": [
       "$$- \\frac{\\left(\\cos{\\left (\\theta \\right )} + 1\\right) \\sin^{2}{\\left (\\theta \\right )}}{8 \\cos^{2}{\\left (\\frac{\\theta}{2} \\right )}}$$"
      ],
      "text/plain": [
       "                 2    \n",
       "-(cos(θ) + 1)⋅sin (θ) \n",
       "──────────────────────\n",
       "           2⎛θ⎞       \n",
       "      8⋅cos ⎜─⎟       \n",
       "            ⎝2⎠       "
      ]
     },
     "execution_count": 83,
     "metadata": {},
     "output_type": "execute_result"
    }
   ],
   "source": [
    "u71=hep.V3guchannel(p1,-1,p2,-1,p3,1,p4,-1)/uCM;u71"
   ]
  },
  {
   "cell_type": "code",
   "execution_count": 84,
   "metadata": {},
   "outputs": [
    {
     "data": {
      "image/png": "[encoded data removed]",
      "text/latex": [
       "$$- \\left(- \\frac{\\cos{\\left (\\theta \\right )}}{2} - \\frac{1}{2}\\right) \\left(- \\frac{\\cos{\\left (\\theta \\right )}}{2} + \\frac{1}{2}\\right) + \\sin^{4}{\\left (\\frac{\\theta}{2} \\right )} - \\sin^{2}{\\left (\\frac{\\theta}{2} \\right )} + \\frac{\\sin^{2}{\\left (\\theta \\right )}}{4}$$"
      ],
      "text/plain": [
       "                                                         2   \n",
       "  ⎛  cos(θ)   1⎞ ⎛  cos(θ)   1⎞      4⎛θ⎞      2⎛θ⎞   sin (θ)\n",
       "- ⎜- ────── - ─⎟⋅⎜- ────── + ─⎟ + sin ⎜─⎟ - sin ⎜─⎟ + ───────\n",
       "  ⎝    2      2⎠ ⎝    2      2⎠       ⎝2⎠       ⎝2⎠      4   "
      ]
     },
     "execution_count": 84,
     "metadata": {},
     "output_type": "execute_result"
    }
   ],
   "source": [
    "u72=hep.V4guchannel(p1,-1,p2,-1,p3,1,p4,-1);u72"
   ]
  },
  {
   "cell_type": "code",
   "execution_count": 85,
   "metadata": {},
   "outputs": [
    {
     "data": {
      "image/png": "[encoded data removed]",
      "text/latex": [
       "$$0$$"
      ],
      "text/plain": [
       "0"
      ]
     },
     "execution_count": 85,
     "metadata": {},
     "output_type": "execute_result"
    }
   ],
   "source": [
    "simplify(u71+u72)"
   ]
  },
  {
   "attachments": {},
   "cell_type": "markdown",
   "metadata": {},
   "source": [
    "i.e. $T(g_-g_-\\rightarrow g_+g_-)=0$\n",
    "\n",
    "### 8) $T(g_-g_-\\rightarrow g_+g_+)$"
   ]
  },
  {
   "cell_type": "code",
   "execution_count": 86,
   "metadata": {},
   "outputs": [
    {
     "data": {
      "image/png": "[encoded data removed]",
      "text/latex": [
       "$$\\cos{\\left (\\theta \\right )}$$"
      ],
      "text/plain": [
       "cos(θ)"
      ]
     },
     "execution_count": 86,
     "metadata": {},
     "output_type": "execute_result"
    }
   ],
   "source": [
    "s81=hep.V3gschannel(p1,-1,p2,-1,p3,1,p4,1)/sCM;s81"
   ]
  },
  {
   "cell_type": "code",
   "execution_count": 87,
   "metadata": {},
   "outputs": [
    {
     "data": {
      "image/png": "[encoded data removed]",
      "text/latex": [
       "$$- \\cos{\\left (\\theta \\right )}$$"
      ],
      "text/plain": [
       "-cos(θ)"
      ]
     },
     "execution_count": 87,
     "metadata": {},
     "output_type": "execute_result"
    }
   ],
   "source": [
    "s82=simplify(hep.V4gschannel(p1,-1,p2,-1,p3,1,p4,1));s82"
   ]
  },
  {
   "cell_type": "code",
   "execution_count": 88,
   "metadata": {},
   "outputs": [
    {
     "data": {
      "image/png": "[encoded data removed]",
      "text/latex": [
       "$$- \\frac{- \\frac{17 \\cos{\\left (\\theta \\right )}}{2} + \\cos{\\left (2 \\theta \\right )} + \\frac{\\cos{\\left (3 \\theta \\right )}}{2} + 7}{16 \\sin^{2}{\\left (\\frac{\\theta}{2} \\right )}}$$"
      ],
      "text/plain": [
       " ⎛  17⋅cos(θ)              cos(3⋅θ)    ⎞ \n",
       "-⎜- ───────── + cos(2⋅θ) + ──────── + 7⎟ \n",
       " ⎝      2                     2        ⎠ \n",
       "─────────────────────────────────────────\n",
       "                      2⎛θ⎞               \n",
       "                16⋅sin ⎜─⎟               \n",
       "                       ⎝2⎠               "
      ]
     },
     "execution_count": 88,
     "metadata": {},
     "output_type": "execute_result"
    }
   ],
   "source": [
    "t81=hep.V3gtchannel(p1,-1,p2,-1,p3,1,p4,1)/tCM;t81"
   ]
  },
  {
   "cell_type": "code",
   "execution_count": 89,
   "metadata": {},
   "outputs": [
    {
     "data": {
      "image/png": "[encoded data removed]",
      "text/latex": [
       "$$\\left(- \\frac{\\cos{\\left (\\theta \\right )}}{2} - \\frac{1}{2}\\right) \\left(\\frac{\\cos{\\left (\\theta \\right )}}{2} + \\frac{1}{2}\\right) + \\sin^{4}{\\left (\\frac{\\theta}{2} \\right )} - \\sin^{2}{\\left (\\frac{\\theta}{2} \\right )} + \\frac{\\sin^{2}{\\left (\\theta \\right )}}{4} + 1$$"
      ],
      "text/plain": [
       "                                                     2       \n",
       "⎛  cos(θ)   1⎞ ⎛cos(θ)   1⎞      4⎛θ⎞      2⎛θ⎞   sin (θ)    \n",
       "⎜- ────── - ─⎟⋅⎜────── + ─⎟ + sin ⎜─⎟ - sin ⎜─⎟ + ─────── + 1\n",
       "⎝    2      2⎠ ⎝  2      2⎠       ⎝2⎠       ⎝2⎠      4       "
      ]
     },
     "execution_count": 89,
     "metadata": {},
     "output_type": "execute_result"
    }
   ],
   "source": [
    "t82=hep.V4gtchannel(p1,-1,p2,-1,p3,1,p4,1);t82"
   ]
  },
  {
   "cell_type": "code",
   "execution_count": 90,
   "metadata": {},
   "outputs": [
    {
     "data": {
      "image/png": "[encoded data removed]",
      "text/latex": [
       "$$0$$"
      ],
      "text/plain": [
       "0"
      ]
     },
     "execution_count": 90,
     "metadata": {},
     "output_type": "execute_result"
    }
   ],
   "source": [
    "simplify(t81+t82)"
   ]
  },
  {
   "cell_type": "code",
   "execution_count": 91,
   "metadata": {},
   "outputs": [
    {
     "data": {
      "image/png": "[encoded data removed]",
      "text/latex": [
       "$$- \\frac{\\frac{17 \\cos{\\left (\\theta \\right )}}{2} + \\cos{\\left (2 \\theta \\right )} - \\frac{\\cos{\\left (3 \\theta \\right )}}{2} + 7}{16 \\cos^{2}{\\left (\\frac{\\theta}{2} \\right )}}$$"
      ],
      "text/plain": [
       " ⎛17⋅cos(θ)              cos(3⋅θ)    ⎞ \n",
       "-⎜───────── + cos(2⋅θ) - ──────── + 7⎟ \n",
       " ⎝    2                     2        ⎠ \n",
       "───────────────────────────────────────\n",
       "                     2⎛θ⎞              \n",
       "               16⋅cos ⎜─⎟              \n",
       "                      ⎝2⎠              "
      ]
     },
     "execution_count": 91,
     "metadata": {},
     "output_type": "execute_result"
    }
   ],
   "source": [
    "u81=hep.V3guchannel(p1,-1,p2,-1,p3,1,p4,1)/uCM;u81"
   ]
  },
  {
   "cell_type": "code",
   "execution_count": 92,
   "metadata": {},
   "outputs": [
    {
     "data": {
      "image/png": "[encoded data removed]",
      "text/latex": [
       "$$- \\left(- \\frac{\\cos{\\left (\\theta \\right )}}{2} + \\frac{1}{2}\\right)^{2} + \\sin^{4}{\\left (\\frac{\\theta}{2} \\right )} - \\sin^{2}{\\left (\\frac{\\theta}{2} \\right )} + \\frac{\\sin^{2}{\\left (\\theta \\right )}}{4} + 1$$"
      ],
      "text/plain": [
       "                2                          2       \n",
       "  ⎛  cos(θ)   1⎞       4⎛θ⎞      2⎛θ⎞   sin (θ)    \n",
       "- ⎜- ────── + ─⎟  + sin ⎜─⎟ - sin ⎜─⎟ + ─────── + 1\n",
       "  ⎝    2      2⎠        ⎝2⎠       ⎝2⎠      4       "
      ]
     },
     "execution_count": 92,
     "metadata": {},
     "output_type": "execute_result"
    }
   ],
   "source": [
    "u82=hep.V4guchannel(p1,-1,p2,-1,p3,1,p4,1);u82"
   ]
  },
  {
   "cell_type": "code",
   "execution_count": 93,
   "metadata": {},
   "outputs": [
    {
     "data": {
      "image/png": "[encoded data removed]",
      "text/latex": [
       "$$0$$"
      ],
      "text/plain": [
       "0"
      ]
     },
     "execution_count": 93,
     "metadata": {},
     "output_type": "execute_result"
    }
   ],
   "source": [
    "simplify(u81+u82)"
   ]
  },
  {
   "attachments": {},
   "cell_type": "markdown",
   "metadata": {},
   "source": [
    "i.e. $T(g_-g_-\\rightarrow g_+g_+)=0$\n",
    "\n",
    "## The cross section\n",
    "Summing up the squared amplitudes, multiplying by 2 for the remaining 8 amplitudes, dividing by 4 for averaging over polarizations and dividing by 64 for averaging of colors we obtain the averaged sum of squared matrix elements"
   ]
  },
  {
   "cell_type": "code",
   "execution_count": 94,
   "metadata": {},
   "outputs": [
    {
     "data": {
      "image/png": "[encoded data removed]",
      "text/latex": [
       "$$\\frac{9 \\left(s^{2} + t^{2} + u^{2}\\right) \\left(\\frac{s^{2}}{t^{2} u^{2}} + \\frac{t^{2}}{s^{2} u^{2}} + \\frac{u^{2}}{s^{2} t^{2}}\\right)}{8}$$"
      ],
      "text/plain": [
       "                 ⎛   2       2       2 ⎞\n",
       "  ⎛ 2    2    2⎞ ⎜  s       t       u  ⎟\n",
       "9⋅⎝s  + t  + u ⎠⋅⎜───── + ───── + ─────⎟\n",
       "                 ⎜ 2  2    2  2    2  2⎟\n",
       "                 ⎝t ⋅u    s ⋅u    s ⋅t ⎠\n",
       "────────────────────────────────────────\n",
       "                   8                    "
      ]
     },
     "execution_count": 94,
     "metadata": {},
     "output_type": "execute_result"
    }
   ],
   "source": [
    "sig=(s**2/t**2/u**2+t**2/s**2/u**2+u**2/t**2/s**2)*(s**2+t**2+u**2)*9/8;sig"
   ]
  },
  {
   "cell_type": "code",
   "execution_count": 95,
   "metadata": {},
   "outputs": [
    {
     "data": {
      "image/png": "[encoded data removed]",
      "text/latex": [
       "$$- \\frac{s t}{u^{2}} - \\frac{s u}{t^{2}} + 3 - \\frac{t u}{s^{2}}$$"
      ],
      "text/plain": [
       "  s⋅t   s⋅u       t⋅u\n",
       "- ─── - ─── + 3 - ───\n",
       "    2     2         2\n",
       "   u     t         s "
      ]
     },
     "execution_count": 95,
     "metadata": {},
     "output_type": "execute_result"
    }
   ],
   "source": [
    "sigalt=(3-t*u/s**2-s*u/t**2-s*t/u**2);sigalt"
   ]
  },
  {
   "cell_type": "code",
   "execution_count": 96,
   "metadata": {},
   "outputs": [
    {
     "data": {
      "image/png": "[encoded data removed]",
      "text/latex": [
       "$$0$$"
      ],
      "text/plain": [
       "0"
      ]
     },
     "execution_count": 96,
     "metadata": {},
     "output_type": "execute_result"
    }
   ],
   "source": [
    "h7=sig-sigalt*9/2\n",
    "simplify(h7.subs(s,-t-u))"
   ]
  },
  {
   "cell_type": "code",
   "execution_count": null,
   "metadata": {},
   "outputs": [],
   "source": []
  }
 ],
 "metadata": {
  "kernelspec": {
   "display_name": "Python 3",
   "language": "python",
   "name": "python3"
  },
  "language_info": {
   "codemirror_mode": {
    "name": "ipython",
    "version": 3
   },
   "file_extension": ".py",
   "mimetype": "text/x-python",
   "name": "python",
   "nbconvert_exporter": "python",
   "pygments_lexer": "ipython3",
   "version": "3.7.2"
  }
 },
 "nbformat": 4,
 "nbformat_minor": 2
}
