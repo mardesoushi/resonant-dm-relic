{
 "cells": [
  {
   "cell_type": "markdown",
   "metadata": {},
   "source": [
    "#### This notebook should be used for own investigations around the Dirac equation e.g. in the context of chapter 3.1 of the book."
   ]
  },
  {
   "cell_type": "code",
   "execution_count": 1,
   "metadata": {},
   "outputs": [],
   "source": [
    "from sympy import *"
   ]
  },
  {
   "cell_type": "markdown",
   "metadata": {},
   "source": [
    "The module heppackv0.py should be available in the main notebook directory. It contains Pauli- and Dirac Matrizes, spinors like $u(p,s)$, currents like $\\bar{u}\\gamma^\\mu u$ etc."
   ]
  },
  {
   "cell_type": "code",
   "execution_count": 2,
   "metadata": {},
   "outputs": [
    {
     "name": "stdout",
     "output_type": "stream",
     "text": [
      "Reading heppackv0.py (july 2022)\n",
      "\n",
      "Done\n"
     ]
    }
   ],
   "source": [
    "import heppackv0 as hep"
   ]
  },
  {
   "cell_type": "code",
   "execution_count": 3,
   "metadata": {},
   "outputs": [],
   "source": [
    "theta,phi=symbols('theta phi',real=True)\n",
    "E,M,m,p,r=symbols('E M m p r',positive=True)"
   ]
  },
  {
   "cell_type": "markdown",
   "metadata": {},
   "source": [
    "Particles are characterized by an array containing their energy, mass, polar and azimuthal angle: $[E,m,\\theta,\\phi]$. \n",
    "We use pe= particle in xz plane, peneg=-pe, pez= particle along z xis, pexyz = general particle, pe0=particle at rest. "
   ]
  },
  {
   "cell_type": "code",
   "execution_count": 4,
   "metadata": {},
   "outputs": [],
   "source": [
    "pe=[E,m,theta,0]"
   ]
  },
  {
   "cell_type": "code",
   "execution_count": 5,
   "metadata": {},
   "outputs": [],
   "source": [
    "peneg=[E,m,pi-theta,pi]"
   ]
  },
  {
   "cell_type": "code",
   "execution_count": 6,
   "metadata": {},
   "outputs": [],
   "source": [
    "pez=[E,m,0,0]"
   ]
  },
  {
   "cell_type": "code",
   "execution_count": 7,
   "metadata": {},
   "outputs": [],
   "source": [
    "pexyz=[E,m,theta,phi]"
   ]
  },
  {
   "cell_type": "code",
   "execution_count": 8,
   "metadata": {},
   "outputs": [],
   "source": [
    "pe0=[m,m,0,0]"
   ]
  },
  {
   "cell_type": "markdown",
   "metadata": {},
   "source": [
    "These arrays can be converted into four vectors $[E,p_x,p_y,p_z]$. To make calculations easier, momenta are expressed as function of $\\theta/2$."
   ]
  },
  {
   "cell_type": "code",
   "execution_count": 9,
   "metadata": {},
   "outputs": [
    {
     "data": {
      "image/png": "[encoded data removed]",
      "text/latex": [
       "$\\displaystyle \\left[ E, \\  2 \\sqrt{E^{2} - m^{2}} \\sin{\\left(\\frac{\\theta}{2} \\right)} \\cos{\\left(\\phi \\right)} \\cos{\\left(\\frac{\\theta}{2} \\right)}, \\  2 \\sqrt{E^{2} - m^{2}} \\sin{\\left(\\phi \\right)} \\sin{\\left(\\frac{\\theta}{2} \\right)} \\cos{\\left(\\frac{\\theta}{2} \\right)}, \\  \\sqrt{E^{2} - m^{2}} \\left(- \\sin^{2}{\\left(\\frac{\\theta}{2} \\right)} + \\cos^{2}{\\left(\\frac{\\theta}{2} \\right)}\\right)\\right]$"
      ],
      "text/plain": [
       "⎡        _________                            _________                       \n",
       "⎢       ╱  2    2     ⎛θ⎞           ⎛θ⎞      ╱  2    2            ⎛θ⎞    ⎛θ⎞  \n",
       "⎢E, 2⋅╲╱  E  - m  ⋅sin⎜─⎟⋅cos(φ)⋅cos⎜─⎟, 2⋅╲╱  E  - m  ⋅sin(φ)⋅sin⎜─⎟⋅cos⎜─⎟, \n",
       "⎣                     ⎝2⎠           ⎝2⎠                           ⎝2⎠    ⎝2⎠  \n",
       "\n",
       "   _________                      ⎤\n",
       "  ╱  2    2  ⎛     2⎛θ⎞      2⎛θ⎞⎞⎥\n",
       "╲╱  E  - m  ⋅⎜- sin ⎜─⎟ + cos ⎜─⎟⎟⎥\n",
       "             ⎝      ⎝2⎠       ⎝2⎠⎠⎦"
      ]
     },
     "execution_count": 9,
     "metadata": {},
     "output_type": "execute_result"
    }
   ],
   "source": [
    "pe4xyz=hep.fourvec(pexyz);pe4xyz"
   ]
  },
  {
   "cell_type": "markdown",
   "metadata": {},
   "source": [
    "## 1) helicity spinors\n",
    "\n",
    "All calculations of the book are performed using spinors of defined positive or negative helicity, e.g. $u(pe,1)$ is a particle spinor with momentum $pe$ and positive helicity ($\\lambda=1/2$), $v(pe,-1)$ an antiparticle spinor with negative helicity ($\\lambda=-1/2$)."
   ]
  },
  {
   "cell_type": "code",
   "execution_count": 10,
   "metadata": {},
   "outputs": [
    {
     "data": {
      "image/png": "[encoded data removed]",
      "text/latex": [
       "$\\displaystyle \\left[\\begin{matrix}\\sqrt{E + m} \\cos{\\left(\\frac{\\theta}{2} \\right)}\\\\\\sqrt{E + m} \\sin{\\left(\\frac{\\theta}{2} \\right)}\\\\\\sqrt{E - m} \\cos{\\left(\\frac{\\theta}{2} \\right)}\\\\\\sqrt{E - m} \\sin{\\left(\\frac{\\theta}{2} \\right)}\\end{matrix}\\right]$"
      ],
      "text/plain": [
       "⎡  _______    ⎛θ⎞⎤\n",
       "⎢╲╱ E + m ⋅cos⎜─⎟⎥\n",
       "⎢             ⎝2⎠⎥\n",
       "⎢                ⎥\n",
       "⎢  _______    ⎛θ⎞⎥\n",
       "⎢╲╱ E + m ⋅sin⎜─⎟⎥\n",
       "⎢             ⎝2⎠⎥\n",
       "⎢                ⎥\n",
       "⎢  _______    ⎛θ⎞⎥\n",
       "⎢╲╱ E - m ⋅cos⎜─⎟⎥\n",
       "⎢             ⎝2⎠⎥\n",
       "⎢                ⎥\n",
       "⎢  _______    ⎛θ⎞⎥\n",
       "⎢╲╱ E - m ⋅sin⎜─⎟⎥\n",
       "⎣             ⎝2⎠⎦"
      ]
     },
     "execution_count": 10,
     "metadata": {},
     "output_type": "execute_result"
    }
   ],
   "source": [
    "hep.u(pe,1)"
   ]
  },
  {
   "cell_type": "code",
   "execution_count": 11,
   "metadata": {},
   "outputs": [
    {
     "data": {
      "image/png": "[encoded data removed]",
      "text/latex": [
       "$\\displaystyle \\left[\\begin{matrix}\\sqrt{E - m} \\cos{\\left(\\frac{\\theta}{2} \\right)}\\\\\\sqrt{E - m} e^{i \\phi} \\sin{\\left(\\frac{\\theta}{2} \\right)}\\\\\\sqrt{E + m} \\cos{\\left(\\frac{\\theta}{2} \\right)}\\\\\\sqrt{E + m} e^{i \\phi} \\sin{\\left(\\frac{\\theta}{2} \\right)}\\end{matrix}\\right]$"
      ],
      "text/plain": [
       "⎡    _______    ⎛θ⎞   ⎤\n",
       "⎢  ╲╱ E - m ⋅cos⎜─⎟   ⎥\n",
       "⎢               ⎝2⎠   ⎥\n",
       "⎢                     ⎥\n",
       "⎢  _______  ⅈ⋅φ    ⎛θ⎞⎥\n",
       "⎢╲╱ E - m ⋅ℯ   ⋅sin⎜─⎟⎥\n",
       "⎢                  ⎝2⎠⎥\n",
       "⎢                     ⎥\n",
       "⎢    _______    ⎛θ⎞   ⎥\n",
       "⎢  ╲╱ E + m ⋅cos⎜─⎟   ⎥\n",
       "⎢               ⎝2⎠   ⎥\n",
       "⎢                     ⎥\n",
       "⎢  _______  ⅈ⋅φ    ⎛θ⎞⎥\n",
       "⎢╲╱ E + m ⋅ℯ   ⋅sin⎜─⎟⎥\n",
       "⎣                  ⎝2⎠⎦"
      ]
     },
     "execution_count": 11,
     "metadata": {},
     "output_type": "execute_result"
    }
   ],
   "source": [
    "hep.v(pexyz,-1)"
   ]
  },
  {
   "cell_type": "code",
   "execution_count": 12,
   "metadata": {},
   "outputs": [
    {
     "data": {
      "image/png": "[encoded data removed]",
      "text/latex": [
       "$\\displaystyle \\left[\\begin{matrix}\\sqrt{E - m} \\sin{\\left(\\frac{\\theta}{2} \\right)} & - \\sqrt{E - m} \\cos{\\left(\\frac{\\theta}{2} \\right)} & \\sqrt{E + m} \\sin{\\left(\\frac{\\theta}{2} \\right)} & - \\sqrt{E + m} \\cos{\\left(\\frac{\\theta}{2} \\right)}\\end{matrix}\\right]$"
      ],
      "text/plain": [
       "⎡  _______    ⎛θ⎞     _______    ⎛θ⎞    _______    ⎛θ⎞     _______    ⎛θ⎞⎤\n",
       "⎢╲╱ E - m ⋅sin⎜─⎟  -╲╱ E - m ⋅cos⎜─⎟  ╲╱ E + m ⋅sin⎜─⎟  -╲╱ E + m ⋅cos⎜─⎟⎥\n",
       "⎣             ⎝2⎠                ⎝2⎠               ⎝2⎠                ⎝2⎠⎦"
      ]
     },
     "execution_count": 12,
     "metadata": {},
     "output_type": "execute_result"
    }
   ],
   "source": [
    "hep.vbar(pe,1)"
   ]
  },
  {
   "cell_type": "markdown",
   "metadata": {},
   "source": [
    "Check the normalization (not Bjorken Drell)"
   ]
  },
  {
   "cell_type": "code",
   "execution_count": 13,
   "metadata": {},
   "outputs": [
    {
     "data": {
      "image/png": "[encoded data removed]",
      "text/latex": [
       "$\\displaystyle \\left[\\begin{matrix}- \\left(E - m\\right) \\sin^{2}{\\left(\\frac{\\theta}{2} \\right)} - \\left(E - m\\right) \\cos^{2}{\\left(\\frac{\\theta}{2} \\right)} + \\left(E + m\\right) \\sin^{2}{\\left(\\frac{\\theta}{2} \\right)} + \\left(E + m\\right) \\cos^{2}{\\left(\\frac{\\theta}{2} \\right)}\\end{matrix}\\right]$"
      ],
      "text/plain": [
       "⎡             2⎛θ⎞              2⎛θ⎞              2⎛θ⎞              2⎛θ⎞⎤\n",
       "⎢- (E - m)⋅sin ⎜─⎟ - (E - m)⋅cos ⎜─⎟ + (E + m)⋅sin ⎜─⎟ + (E + m)⋅cos ⎜─⎟⎥\n",
       "⎣              ⎝2⎠               ⎝2⎠               ⎝2⎠               ⎝2⎠⎦"
      ]
     },
     "execution_count": 13,
     "metadata": {},
     "output_type": "execute_result"
    }
   ],
   "source": [
    "norm=hep.ubar(pe,1)*hep.u(pe,1);norm"
   ]
  },
  {
   "cell_type": "code",
   "execution_count": 14,
   "metadata": {},
   "outputs": [
    {
     "data": {
      "image/png": "[encoded data removed]",
      "text/latex": [
       "$\\displaystyle \\left[\\begin{matrix}2 m\\end{matrix}\\right]$"
      ],
      "text/plain": [
       "[2⋅m]"
      ]
     },
     "execution_count": 14,
     "metadata": {},
     "output_type": "execute_result"
    }
   ],
   "source": [
    "simplify(norm)"
   ]
  },
  {
   "cell_type": "markdown",
   "metadata": {},
   "source": [
    "## 2) Dirac Equation for spinors"
   ]
  },
  {
   "cell_type": "code",
   "execution_count": 15,
   "metadata": {},
   "outputs": [
    {
     "data": {
      "image/png": "[encoded data removed]",
      "text/latex": [
       "$\\displaystyle \\left[ E, \\  2 \\sqrt{E^{2} - m^{2}} \\sin{\\left(\\frac{\\theta}{2} \\right)} \\cos{\\left(\\frac{\\theta}{2} \\right)}, \\  0, \\  \\sqrt{E^{2} - m^{2}} \\left(- \\sin^{2}{\\left(\\frac{\\theta}{2} \\right)} + \\cos^{2}{\\left(\\frac{\\theta}{2} \\right)}\\right)\\right]$"
      ],
      "text/plain": [
       "⎡        _________                      _________                      ⎤\n",
       "⎢       ╱  2    2     ⎛θ⎞    ⎛θ⎞       ╱  2    2  ⎛     2⎛θ⎞      2⎛θ⎞⎞⎥\n",
       "⎢E, 2⋅╲╱  E  - m  ⋅sin⎜─⎟⋅cos⎜─⎟, 0, ╲╱  E  - m  ⋅⎜- sin ⎜─⎟ + cos ⎜─⎟⎟⎥\n",
       "⎣                     ⎝2⎠    ⎝2⎠                  ⎝      ⎝2⎠       ⎝2⎠⎠⎦"
      ]
     },
     "execution_count": 15,
     "metadata": {},
     "output_type": "execute_result"
    }
   ],
   "source": [
    "pe4=hep.fourvec(pe);pe4"
   ]
  },
  {
   "cell_type": "code",
   "execution_count": 16,
   "metadata": {},
   "outputs": [
    {
     "data": {
      "image/png": "[encoded data removed]",
      "text/latex": [
       "$\\displaystyle \\left[\\begin{matrix}\\left(E \\sqrt{E + m} - m \\sqrt{E + m} - \\sqrt{E - m} \\sqrt{E^{2} - m^{2}}\\right) \\cos{\\left(\\frac{\\theta}{2} \\right)}\\\\\\left(E \\sqrt{E + m} - m \\sqrt{E + m} - \\sqrt{E - m} \\sqrt{E^{2} - m^{2}}\\right) \\sin{\\left(\\frac{\\theta}{2} \\right)}\\\\\\left(- E \\sqrt{E - m} - m \\sqrt{E - m} + \\sqrt{E + m} \\sqrt{E^{2} - m^{2}}\\right) \\cos{\\left(\\frac{\\theta}{2} \\right)}\\\\\\left(- E \\sqrt{E - m} - m \\sqrt{E - m} + \\sqrt{E + m} \\sqrt{E^{2} - m^{2}}\\right) \\sin{\\left(\\frac{\\theta}{2} \\right)}\\end{matrix}\\right]$"
      ],
      "text/plain": [
       "⎡ ⎛                                         _________⎞        ⎤\n",
       "⎢ ⎜    _______       _______     _______   ╱  2    2 ⎟    ⎛θ⎞ ⎥\n",
       "⎢ ⎝E⋅╲╱ E + m  - m⋅╲╱ E + m  - ╲╱ E - m ⋅╲╱  E  - m  ⎠⋅cos⎜─⎟ ⎥\n",
       "⎢                                                         ⎝2⎠ ⎥\n",
       "⎢                                                             ⎥\n",
       "⎢ ⎛                                         _________⎞        ⎥\n",
       "⎢ ⎜    _______       _______     _______   ╱  2    2 ⎟    ⎛θ⎞ ⎥\n",
       "⎢ ⎝E⋅╲╱ E + m  - m⋅╲╱ E + m  - ╲╱ E - m ⋅╲╱  E  - m  ⎠⋅sin⎜─⎟ ⎥\n",
       "⎢                                                         ⎝2⎠ ⎥\n",
       "⎢                                                             ⎥\n",
       "⎢⎛                                           _________⎞       ⎥\n",
       "⎢⎜      _______       _______     _______   ╱  2    2 ⎟    ⎛θ⎞⎥\n",
       "⎢⎝- E⋅╲╱ E - m  - m⋅╲╱ E - m  + ╲╱ E + m ⋅╲╱  E  - m  ⎠⋅cos⎜─⎟⎥\n",
       "⎢                                                          ⎝2⎠⎥\n",
       "⎢                                                             ⎥\n",
       "⎢⎛                                           _________⎞       ⎥\n",
       "⎢⎜      _______       _______     _______   ╱  2    2 ⎟    ⎛θ⎞⎥\n",
       "⎢⎝- E⋅╲╱ E - m  - m⋅╲╱ E - m  + ╲╱ E + m ⋅╲╱  E  - m  ⎠⋅sin⎜─⎟⎥\n",
       "⎣                                                          ⎝2⎠⎦"
      ]
     },
     "execution_count": 16,
     "metadata": {},
     "output_type": "execute_result"
    }
   ],
   "source": [
    "dir=simplify(hep.dag(pe4)*hep.u(pe,1)-m*hep.u(pe,1));dir"
   ]
  },
  {
   "cell_type": "markdown",
   "metadata": {},
   "source": [
    "All algebraic programs have difficulties to simplify the factors multiplying the trigonometric functions   and thus proving $(\\not\\!{p}-m)u(p_e,1)=0$. One may for example assert $\\sqrt{E^2-m^2}=\\sqrt{E+m}\\sqrt{E-m}$ by hand:"
   ]
  },
  {
   "cell_type": "code",
   "execution_count": 17,
   "metadata": {},
   "outputs": [
    {
     "data": {
      "image/png": "[encoded data removed]",
      "text/latex": [
       "$\\displaystyle \\left[\\begin{matrix}0\\\\0\\\\0\\\\0\\end{matrix}\\right]$"
      ],
      "text/plain": [
       "⎡0⎤\n",
       "⎢ ⎥\n",
       "⎢0⎥\n",
       "⎢ ⎥\n",
       "⎢0⎥\n",
       "⎢ ⎥\n",
       "⎣0⎦"
      ]
     },
     "execution_count": 17,
     "metadata": {},
     "output_type": "execute_result"
    }
   ],
   "source": [
    "simplify(dir.subs(sqrt(E**2-m**2),sqrt(E+m)*sqrt(E-m)))"
   ]
  },
  {
   "cell_type": "markdown",
   "metadata": {},
   "source": [
    "## 3) Spin Matrices and more\n",
    "heppackv0.py provides explicit expressions for $\\gamma^\\mu$ and $\\gamma_5=\\gamma^5$:"
   ]
  },
  {
   "cell_type": "code",
   "execution_count": 18,
   "metadata": {},
   "outputs": [
    {
     "data": {
      "image/png": "[encoded data removed]",
      "text/latex": [
       "$\\displaystyle \\left[\\begin{matrix}1 & 0 & 0 & 0\\\\0 & 1 & 0 & 0\\\\0 & 0 & -1 & 0\\\\0 & 0 & 0 & -1\\end{matrix}\\right]$"
      ],
      "text/plain": [
       "⎡1  0  0   0 ⎤\n",
       "⎢            ⎥\n",
       "⎢0  1  0   0 ⎥\n",
       "⎢            ⎥\n",
       "⎢0  0  -1  0 ⎥\n",
       "⎢            ⎥\n",
       "⎣0  0  0   -1⎦"
      ]
     },
     "execution_count": 18,
     "metadata": {},
     "output_type": "execute_result"
    }
   ],
   "source": [
    "hep.g0"
   ]
  },
  {
   "cell_type": "code",
   "execution_count": 19,
   "metadata": {},
   "outputs": [
    {
     "data": {
      "image/png": "[encoded data removed]",
      "text/latex": [
       "$\\displaystyle \\left[\\begin{matrix}0 & 0 & 0 & - i\\\\0 & 0 & i & 0\\\\0 & i & 0 & 0\\\\- i & 0 & 0 & 0\\end{matrix}\\right]$"
      ],
      "text/plain": [
       "⎡0   0  0  -ⅈ⎤\n",
       "⎢            ⎥\n",
       "⎢0   0  ⅈ  0 ⎥\n",
       "⎢            ⎥\n",
       "⎢0   ⅈ  0  0 ⎥\n",
       "⎢            ⎥\n",
       "⎣-ⅈ  0  0  0 ⎦"
      ]
     },
     "execution_count": 19,
     "metadata": {},
     "output_type": "execute_result"
    }
   ],
   "source": [
    "hep.g2"
   ]
  },
  {
   "cell_type": "code",
   "execution_count": 20,
   "metadata": {},
   "outputs": [
    {
     "name": "stdout",
     "output_type": "stream",
     "text": [
      "conjugate,transpose:\n"
     ]
    },
    {
     "data": {
      "image/png": "[encoded data removed]",
      "text/latex": [
       "$\\displaystyle \\left[\\begin{matrix}0 & 0 & 0 & i\\\\0 & 0 & - i & 0\\\\0 & - i & 0 & 0\\\\i & 0 & 0 & 0\\end{matrix}\\right]$"
      ],
      "text/plain": [
       "⎡0  0   0   ⅈ⎤\n",
       "⎢            ⎥\n",
       "⎢0  0   -ⅈ  0⎥\n",
       "⎢            ⎥\n",
       "⎢0  -ⅈ  0   0⎥\n",
       "⎢            ⎥\n",
       "⎣ⅈ  0   0   0⎦"
      ]
     },
     "execution_count": 20,
     "metadata": {},
     "output_type": "execute_result"
    }
   ],
   "source": [
    "print('conjugate,transpose:')\n",
    "hep.g2.C.T"
   ]
  },
  {
   "cell_type": "code",
   "execution_count": 21,
   "metadata": {},
   "outputs": [
    {
     "data": {
      "image/png": "[encoded data removed]",
      "text/latex": [
       "$\\displaystyle \\left[\\begin{matrix}0 & 0 & 0 & i\\\\0 & 0 & - i & 0\\\\0 & i & 0 & 0\\\\- i & 0 & 0 & 0\\end{matrix}\\right]$"
      ],
      "text/plain": [
       "⎡0   0  0   ⅈ⎤\n",
       "⎢            ⎥\n",
       "⎢0   0  -ⅈ  0⎥\n",
       "⎢            ⎥\n",
       "⎢0   ⅈ  0   0⎥\n",
       "⎢            ⎥\n",
       "⎣-ⅈ  0  0   0⎦"
      ]
     },
     "execution_count": 21,
     "metadata": {},
     "output_type": "execute_result"
    }
   ],
   "source": [
    "hep.g2*hep.g0"
   ]
  },
  {
   "cell_type": "code",
   "execution_count": 22,
   "metadata": {},
   "outputs": [
    {
     "data": {
      "image/png": "[encoded data removed]",
      "text/latex": [
       "$\\displaystyle \\left[\\begin{matrix}0 & 0 & -1 & 0\\\\0 & 0 & 0 & -1\\\\1 & 0 & 0 & 0\\\\0 & 1 & 0 & 0\\end{matrix}\\right]$"
      ],
      "text/plain": [
       "⎡0  0  -1  0 ⎤\n",
       "⎢            ⎥\n",
       "⎢0  0  0   -1⎥\n",
       "⎢            ⎥\n",
       "⎢1  0  0   0 ⎥\n",
       "⎢            ⎥\n",
       "⎣0  1  0   0 ⎦"
      ]
     },
     "execution_count": 22,
     "metadata": {},
     "output_type": "execute_result"
    }
   ],
   "source": [
    "hep.g5*hep.g0"
   ]
  },
  {
   "cell_type": "markdown",
   "metadata": {},
   "source": [
    "The famous antisymmetric tensor $\\sigma^{\\mu\\nu}=\\frac{\\mathrm i}{2}(\\gamma^\\mu\\gamma^\\nu-\\gamma^\\nu\\gamma^\\mu)$ is easily calculated. For the spacelike components $i,j=1..3$ there are 3 nonvanishing elements $\\sigma^{ij}$."
   ]
  },
  {
   "cell_type": "code",
   "execution_count": 23,
   "metadata": {},
   "outputs": [
    {
     "data": {
      "image/png": "[encoded data removed]",
      "text/latex": [
       "$\\displaystyle \\left[\\begin{matrix}0 & 1 & 0 & 0\\\\1 & 0 & 0 & 0\\\\0 & 0 & 0 & 1\\\\0 & 0 & 1 & 0\\end{matrix}\\right]$"
      ],
      "text/plain": [
       "⎡0  1  0  0⎤\n",
       "⎢          ⎥\n",
       "⎢1  0  0  0⎥\n",
       "⎢          ⎥\n",
       "⎢0  0  0  1⎥\n",
       "⎢          ⎥\n",
       "⎣0  0  1  0⎦"
      ]
     },
     "execution_count": 23,
     "metadata": {},
     "output_type": "execute_result"
    }
   ],
   "source": [
    "S1=I/2*(hep.g2*hep.g3-hep.g3*hep.g2);S1"
   ]
  },
  {
   "cell_type": "code",
   "execution_count": 24,
   "metadata": {},
   "outputs": [
    {
     "data": {
      "image/png": "[encoded data removed]",
      "text/latex": [
       "$\\displaystyle \\left[\\begin{matrix}0 & - i & 0 & 0\\\\i & 0 & 0 & 0\\\\0 & 0 & 0 & - i\\\\0 & 0 & i & 0\\end{matrix}\\right]$"
      ],
      "text/plain": [
       "⎡0  -ⅈ  0  0 ⎤\n",
       "⎢            ⎥\n",
       "⎢ⅈ  0   0  0 ⎥\n",
       "⎢            ⎥\n",
       "⎢0  0   0  -ⅈ⎥\n",
       "⎢            ⎥\n",
       "⎣0  0   ⅈ  0 ⎦"
      ]
     },
     "execution_count": 24,
     "metadata": {},
     "output_type": "execute_result"
    }
   ],
   "source": [
    "S2=I/2*(hep.g3*hep.g1-hep.g1*hep.g3);S2"
   ]
  },
  {
   "cell_type": "code",
   "execution_count": 25,
   "metadata": {},
   "outputs": [
    {
     "data": {
      "image/png": "[encoded data removed]",
      "text/latex": [
       "$\\displaystyle \\left[\\begin{matrix}1 & 0 & 0 & 0\\\\0 & -1 & 0 & 0\\\\0 & 0 & 1 & 0\\\\0 & 0 & 0 & -1\\end{matrix}\\right]$"
      ],
      "text/plain": [
       "⎡1  0   0  0 ⎤\n",
       "⎢            ⎥\n",
       "⎢0  -1  0  0 ⎥\n",
       "⎢            ⎥\n",
       "⎢0  0   1  0 ⎥\n",
       "⎢            ⎥\n",
       "⎣0  0   0  -1⎦"
      ]
     },
     "execution_count": 25,
     "metadata": {},
     "output_type": "execute_result"
    }
   ],
   "source": [
    "S3=I/2*(hep.g1*hep.g2-hep.g2*hep.g1);S3"
   ]
  },
  {
   "cell_type": "markdown",
   "metadata": {},
   "source": [
    "The $S_i$ form a fourdimensional representation of the Pauli matrices. Proof:"
   ]
  },
  {
   "cell_type": "code",
   "execution_count": 26,
   "metadata": {},
   "outputs": [
    {
     "data": {
      "image/png": "[encoded data removed]",
      "text/latex": [
       "$\\displaystyle \\left[\\begin{matrix}3 & 0 & 0 & 0\\\\0 & 3 & 0 & 0\\\\0 & 0 & 3 & 0\\\\0 & 0 & 0 & 3\\end{matrix}\\right]$"
      ],
      "text/plain": [
       "⎡3  0  0  0⎤\n",
       "⎢          ⎥\n",
       "⎢0  3  0  0⎥\n",
       "⎢          ⎥\n",
       "⎢0  0  3  0⎥\n",
       "⎢          ⎥\n",
       "⎣0  0  0  3⎦"
      ]
     },
     "execution_count": 26,
     "metadata": {},
     "output_type": "execute_result"
    }
   ],
   "source": [
    "S1*S1+S2*S2+S3*S3"
   ]
  },
  {
   "cell_type": "code",
   "execution_count": 27,
   "metadata": {},
   "outputs": [
    {
     "data": {
      "image/png": "[encoded data removed]",
      "text/latex": [
       "$\\displaystyle \\left[\\begin{matrix}0 & 0 & 0 & 0\\\\0 & 0 & 0 & 0\\\\0 & 0 & 0 & 0\\\\0 & 0 & 0 & 0\\end{matrix}\\right]$"
      ],
      "text/plain": [
       "⎡0  0  0  0⎤\n",
       "⎢          ⎥\n",
       "⎢0  0  0  0⎥\n",
       "⎢          ⎥\n",
       "⎢0  0  0  0⎥\n",
       "⎢          ⎥\n",
       "⎣0  0  0  0⎦"
      ]
     },
     "execution_count": 27,
     "metadata": {},
     "output_type": "execute_result"
    }
   ],
   "source": [
    "I/2*(S1*S3-S3*S1)-S2"
   ]
  },
  {
   "cell_type": "markdown",
   "metadata": {},
   "source": [
    "$S_3/2=\\frac{\\mathrm i}{4}(\\gamma^1\\gamma^2-\\gamma^2\\gamma^1)$ may serve as the spin operator for solutions of the Dirac equation in the rest system. There are four solutions, the normalization factor $N_S=\\sqrt{2m}$ is already included. "
   ]
  },
  {
   "cell_type": "code",
   "execution_count": 28,
   "metadata": {},
   "outputs": [
    {
     "data": {
      "image/png": "[encoded data removed]",
      "text/latex": [
       "$\\displaystyle \\left[\\begin{matrix}\\sqrt{2} \\sqrt{m}\\\\0\\\\0\\\\0\\end{matrix}\\right]$"
      ],
      "text/plain": [
       "⎡√2⋅√m⎤\n",
       "⎢     ⎥\n",
       "⎢  0  ⎥\n",
       "⎢     ⎥\n",
       "⎢  0  ⎥\n",
       "⎢     ⎥\n",
       "⎣  0  ⎦"
      ]
     },
     "execution_count": 28,
     "metadata": {},
     "output_type": "execute_result"
    }
   ],
   "source": [
    "w1=sqrt(2*m)*Matrix([[1],[0],[0],[0]]);w1"
   ]
  },
  {
   "cell_type": "code",
   "execution_count": 29,
   "metadata": {},
   "outputs": [
    {
     "data": {
      "image/png": "[encoded data removed]",
      "text/latex": [
       "$\\displaystyle \\left[\\begin{matrix}0\\\\\\sqrt{2} \\sqrt{m}\\\\0\\\\0\\end{matrix}\\right]$"
      ],
      "text/plain": [
       "⎡  0  ⎤\n",
       "⎢     ⎥\n",
       "⎢√2⋅√m⎥\n",
       "⎢     ⎥\n",
       "⎢  0  ⎥\n",
       "⎢     ⎥\n",
       "⎣  0  ⎦"
      ]
     },
     "execution_count": 29,
     "metadata": {},
     "output_type": "execute_result"
    }
   ],
   "source": [
    "w2=sqrt(2*m)*Matrix([[0],[1],[0],[0]]);w2"
   ]
  },
  {
   "cell_type": "code",
   "execution_count": 30,
   "metadata": {},
   "outputs": [
    {
     "data": {
      "image/png": "[encoded data removed]",
      "text/latex": [
       "$\\displaystyle \\left[\\begin{matrix}0\\\\0\\\\\\sqrt{2} \\sqrt{m}\\\\0\\end{matrix}\\right]$"
      ],
      "text/plain": [
       "⎡  0  ⎤\n",
       "⎢     ⎥\n",
       "⎢  0  ⎥\n",
       "⎢     ⎥\n",
       "⎢√2⋅√m⎥\n",
       "⎢     ⎥\n",
       "⎣  0  ⎦"
      ]
     },
     "execution_count": 30,
     "metadata": {},
     "output_type": "execute_result"
    }
   ],
   "source": [
    "w3=sqrt(2*m)*Matrix([[0],[0],[1],[0]]);w3"
   ]
  },
  {
   "cell_type": "code",
   "execution_count": 31,
   "metadata": {},
   "outputs": [
    {
     "data": {
      "image/png": "[encoded data removed]",
      "text/latex": [
       "$\\displaystyle \\left[\\begin{matrix}0\\\\0\\\\0\\\\\\sqrt{2} \\sqrt{m}\\end{matrix}\\right]$"
      ],
      "text/plain": [
       "⎡  0  ⎤\n",
       "⎢     ⎥\n",
       "⎢  0  ⎥\n",
       "⎢     ⎥\n",
       "⎢  0  ⎥\n",
       "⎢     ⎥\n",
       "⎣√2⋅√m⎦"
      ]
     },
     "execution_count": 31,
     "metadata": {},
     "output_type": "execute_result"
    }
   ],
   "source": [
    "w4=sqrt(2*m)*Matrix([[0],[0],[0],[1]]);w4"
   ]
  },
  {
   "cell_type": "markdown",
   "metadata": {},
   "source": [
    "$w_1,w_2$ are solutions of positive energy and spins up and down along the z-axis."
   ]
  },
  {
   "cell_type": "code",
   "execution_count": 32,
   "metadata": {},
   "outputs": [
    {
     "data": {
      "text/plain": [
       "True"
      ]
     },
     "execution_count": 32,
     "metadata": {},
     "output_type": "execute_result"
    }
   ],
   "source": [
    "w1==hep.u(pe0,1)"
   ]
  },
  {
   "cell_type": "markdown",
   "metadata": {},
   "source": [
    "The antiparticle helicity spinor $v(p,-1)$ corresponds to an negative energy solution with spin up along the $z$ axis in the rest system. Vice versa for $v(p,1)$."
   ]
  },
  {
   "cell_type": "code",
   "execution_count": 33,
   "metadata": {},
   "outputs": [
    {
     "data": {
      "text/plain": [
       "True"
      ]
     },
     "execution_count": 33,
     "metadata": {},
     "output_type": "execute_result"
    }
   ],
   "source": [
    "w3==hep.v(pe0,-1)"
   ]
  },
  {
   "cell_type": "markdown",
   "metadata": {},
   "source": [
    "The spin assignment can be checked by equations like the following one:"
   ]
  },
  {
   "cell_type": "code",
   "execution_count": 34,
   "metadata": {},
   "outputs": [
    {
     "data": {
      "image/png": "[encoded data removed]",
      "text/latex": [
       "$\\displaystyle \\left[\\begin{matrix}0\\\\0\\\\0\\\\- \\sqrt{2} \\sqrt{m}\\end{matrix}\\right]$"
      ],
      "text/plain": [
       "⎡  0   ⎤\n",
       "⎢      ⎥\n",
       "⎢  0   ⎥\n",
       "⎢      ⎥\n",
       "⎢  0   ⎥\n",
       "⎢      ⎥\n",
       "⎣-√2⋅√m⎦"
      ]
     },
     "execution_count": 34,
     "metadata": {},
     "output_type": "execute_result"
    }
   ],
   "source": [
    "S3*w4"
   ]
  },
  {
   "cell_type": "markdown",
   "metadata": {},
   "source": [
    "The operator\n",
    "$-\\gamma_5\\!\\! \\not\\!s$ (where $s$ is the spin four vector) handles the helicity assignments properly. In the rest system we have $s^\\mu=(0,0,0,1)$ with $s^2=-1$.  The helicity operator $H_3$ in the z direction of the rest system is therefore (skipping the factor $1/2$):"
   ]
  },
  {
   "cell_type": "code",
   "execution_count": 35,
   "metadata": {},
   "outputs": [
    {
     "data": {
      "image/png": "[encoded data removed]",
      "text/latex": [
       "$\\displaystyle \\left[\\begin{matrix}1 & 0 & 0 & 0\\\\0 & -1 & 0 & 0\\\\0 & 0 & -1 & 0\\\\0 & 0 & 0 & 1\\end{matrix}\\right]$"
      ],
      "text/plain": [
       "⎡1  0   0   0⎤\n",
       "⎢            ⎥\n",
       "⎢0  -1  0   0⎥\n",
       "⎢            ⎥\n",
       "⎢0  0   -1  0⎥\n",
       "⎢            ⎥\n",
       "⎣0  0   0   1⎦"
      ]
     },
     "execution_count": 35,
     "metadata": {},
     "output_type": "execute_result"
    }
   ],
   "source": [
    "H3=-hep.g5*hep.g3;H3"
   ]
  },
  {
   "cell_type": "code",
   "execution_count": 36,
   "metadata": {},
   "outputs": [
    {
     "data": {
      "image/png": "[encoded data removed]",
      "text/latex": [
       "$\\displaystyle \\left[\\begin{matrix}0\\\\0\\\\- \\sqrt{2} \\sqrt{m}\\\\0\\end{matrix}\\right]$"
      ],
      "text/plain": [
       "⎡  0   ⎤\n",
       "⎢      ⎥\n",
       "⎢  0   ⎥\n",
       "⎢      ⎥\n",
       "⎢-√2⋅√m⎥\n",
       "⎢      ⎥\n",
       "⎣  0   ⎦"
      ]
     },
     "execution_count": 36,
     "metadata": {},
     "output_type": "execute_result"
    }
   ],
   "source": [
    "H3*hep.v(pe0,-1)"
   ]
  },
  {
   "cell_type": "markdown",
   "metadata": {},
   "source": [
    "$\\gamma_5\\!\\! \\not\\!s$  is written invariantly and consequently is also the proper helicity operator in the Lab.\n",
    "A Lorentz boost along he $z$-axis transforms the momentum fourvector of the restsystem to $(E,0,0,p)$ and the spin vector to $(p/m,0,0,E/m)$ with $p$ an abbreviation for $\\sqrt{E^2-m^2}$. Forgetting again the the factor 1/2 for convenience we get"
   ]
  },
  {
   "cell_type": "code",
   "execution_count": 37,
   "metadata": {},
   "outputs": [
    {
     "data": {
      "image/png": "[encoded data removed]",
      "text/latex": [
       "$\\displaystyle \\left[\\begin{matrix}\\frac{E}{m} & 0 & - \\frac{\\sqrt{E^{2} - m^{2}}}{m} & 0\\\\0 & - \\frac{E}{m} & 0 & - \\frac{\\sqrt{E^{2} - m^{2}}}{m}\\\\\\frac{\\sqrt{E^{2} - m^{2}}}{m} & 0 & - \\frac{E}{m} & 0\\\\0 & \\frac{\\sqrt{E^{2} - m^{2}}}{m} & 0 & \\frac{E}{m}\\end{matrix}\\right]$"
      ],
      "text/plain": [
       "⎡                                _________                 ⎤\n",
       "⎢                               ╱  2    2                  ⎥\n",
       "⎢     E                      -╲╱  E  - m                   ⎥\n",
       "⎢     ─             0        ──────────────        0       ⎥\n",
       "⎢     m                            m                       ⎥\n",
       "⎢                                                          ⎥\n",
       "⎢                                                _________ ⎥\n",
       "⎢                                               ╱  2    2  ⎥\n",
       "⎢                  -E                        -╲╱  E  - m   ⎥\n",
       "⎢     0            ───             0         ──────────────⎥\n",
       "⎢                   m                              m       ⎥\n",
       "⎢                                                          ⎥\n",
       "⎢   _________                                              ⎥\n",
       "⎢  ╱  2    2                                               ⎥\n",
       "⎢╲╱  E  - m                       -E                       ⎥\n",
       "⎢────────────       0             ───              0       ⎥\n",
       "⎢     m                            m                       ⎥\n",
       "⎢                                                          ⎥\n",
       "⎢                 _________                                ⎥\n",
       "⎢                ╱  2    2                                 ⎥\n",
       "⎢              ╲╱  E  - m                          E       ⎥\n",
       "⎢     0        ────────────        0               ─       ⎥\n",
       "⎣                   m                              m       ⎦"
      ]
     },
     "execution_count": 37,
     "metadata": {},
     "output_type": "execute_result"
    }
   ],
   "source": [
    "H3=hep.g5*hep.g0*sqrt(E**2-m**2)/m-hep.g5*hep.g3*E/m;H3"
   ]
  },
  {
   "cell_type": "code",
   "execution_count": 38,
   "metadata": {},
   "outputs": [
    {
     "data": {
      "image/png": "[encoded data removed]",
      "text/latex": [
       "$\\displaystyle \\left[\\begin{matrix}0\\\\- \\sqrt{E - m}\\\\0\\\\\\sqrt{E + m}\\end{matrix}\\right]$"
      ],
      "text/plain": [
       "⎡    0     ⎤\n",
       "⎢          ⎥\n",
       "⎢   _______⎥\n",
       "⎢-╲╱ E - m ⎥\n",
       "⎢          ⎥\n",
       "⎢    0     ⎥\n",
       "⎢          ⎥\n",
       "⎢  _______ ⎥\n",
       "⎣╲╱ E + m  ⎦"
      ]
     },
     "execution_count": 38,
     "metadata": {},
     "output_type": "execute_result"
    }
   ],
   "source": [
    "test=simplify(H3.subs(sqrt(E**2-m**2),sqrt(E-m)*sqrt(E+m))*hep.v(pez,1));test"
   ]
  },
  {
   "cell_type": "markdown",
   "metadata": {},
   "source": [
    "where we like in line 16 have helped a little bit by hand."
   ]
  },
  {
   "cell_type": "code",
   "execution_count": 39,
   "metadata": {},
   "outputs": [
    {
     "data": {
      "text/plain": [
       "True"
      ]
     },
     "execution_count": 39,
     "metadata": {},
     "output_type": "execute_result"
    }
   ],
   "source": [
    "test==hep.v(pez,1)"
   ]
  },
  {
   "cell_type": "markdown",
   "metadata": {},
   "source": [
    "The textbooks usually quote the helicity projection operator\n",
    "$\\Sigma=(1+\\gamma_5\\!\\! \\not\\!s)/2$. \n",
    "\n",
    "Another projection operator is $(1\\pm\\gamma_5)/2$ which selects  states with positive or negative chirality, i.e. eigenstates of $\\gamma_5$ withe eigenvalues $\\pm 1$. "
   ]
  },
  {
   "cell_type": "code",
   "execution_count": 40,
   "metadata": {},
   "outputs": [
    {
     "data": {
      "image/png": "[encoded data removed]",
      "text/latex": [
       "$\\displaystyle \\left[\\begin{matrix}- \\frac{\\sqrt{E - m} \\sin{\\left(\\frac{\\theta}{2} \\right)}}{2} - \\frac{\\sqrt{E + m} \\sin{\\left(\\frac{\\theta}{2} \\right)}}{2}\\\\\\frac{\\sqrt{E - m} \\cos{\\left(\\frac{\\theta}{2} \\right)}}{2} + \\frac{\\sqrt{E + m} \\cos{\\left(\\frac{\\theta}{2} \\right)}}{2}\\\\\\frac{\\sqrt{E - m} \\sin{\\left(\\frac{\\theta}{2} \\right)}}{2} + \\frac{\\sqrt{E + m} \\sin{\\left(\\frac{\\theta}{2} \\right)}}{2}\\\\- \\frac{\\sqrt{E - m} \\cos{\\left(\\frac{\\theta}{2} \\right)}}{2} - \\frac{\\sqrt{E + m} \\cos{\\left(\\frac{\\theta}{2} \\right)}}{2}\\end{matrix}\\right]$"
      ],
      "text/plain": [
       "⎡    _______    ⎛θ⎞     _______    ⎛θ⎞⎤\n",
       "⎢  ╲╱ E - m ⋅sin⎜─⎟   ╲╱ E + m ⋅sin⎜─⎟⎥\n",
       "⎢               ⎝2⎠                ⎝2⎠⎥\n",
       "⎢- ──────────────── - ────────────────⎥\n",
       "⎢         2                  2        ⎥\n",
       "⎢                                     ⎥\n",
       "⎢   _______    ⎛θ⎞     _______    ⎛θ⎞ ⎥\n",
       "⎢ ╲╱ E - m ⋅cos⎜─⎟   ╲╱ E + m ⋅cos⎜─⎟ ⎥\n",
       "⎢              ⎝2⎠                ⎝2⎠ ⎥\n",
       "⎢ ──────────────── + ──────────────── ⎥\n",
       "⎢        2                  2         ⎥\n",
       "⎢                                     ⎥\n",
       "⎢   _______    ⎛θ⎞     _______    ⎛θ⎞ ⎥\n",
       "⎢ ╲╱ E - m ⋅sin⎜─⎟   ╲╱ E + m ⋅sin⎜─⎟ ⎥\n",
       "⎢              ⎝2⎠                ⎝2⎠ ⎥\n",
       "⎢ ──────────────── + ──────────────── ⎥\n",
       "⎢        2                  2         ⎥\n",
       "⎢                                     ⎥\n",
       "⎢    _______    ⎛θ⎞     _______    ⎛θ⎞⎥\n",
       "⎢  ╲╱ E - m ⋅cos⎜─⎟   ╲╱ E + m ⋅cos⎜─⎟⎥\n",
       "⎢               ⎝2⎠                ⎝2⎠⎥\n",
       "⎢- ──────────────── - ────────────────⎥\n",
       "⎣         2                  2        ⎦"
      ]
     },
     "execution_count": 40,
     "metadata": {},
     "output_type": "execute_result"
    }
   ],
   "source": [
    "hep.projm*hep.u(pe,-1)"
   ]
  },
  {
   "cell_type": "code",
   "execution_count": 41,
   "metadata": {},
   "outputs": [
    {
     "data": {
      "image/png": "[encoded data removed]",
      "text/latex": [
       "$\\displaystyle \\left[\\begin{matrix}\\frac{\\sqrt{E - m} \\sin{\\left(\\frac{\\theta}{2} \\right)}}{2} + \\frac{\\sqrt{E + m} \\sin{\\left(\\frac{\\theta}{2} \\right)}}{2}\\\\- \\frac{\\sqrt{E - m} \\cos{\\left(\\frac{\\theta}{2} \\right)}}{2} - \\frac{\\sqrt{E + m} \\cos{\\left(\\frac{\\theta}{2} \\right)}}{2}\\\\- \\frac{\\sqrt{E - m} \\sin{\\left(\\frac{\\theta}{2} \\right)}}{2} - \\frac{\\sqrt{E + m} \\sin{\\left(\\frac{\\theta}{2} \\right)}}{2}\\\\\\frac{\\sqrt{E - m} \\cos{\\left(\\frac{\\theta}{2} \\right)}}{2} + \\frac{\\sqrt{E + m} \\cos{\\left(\\frac{\\theta}{2} \\right)}}{2}\\end{matrix}\\right]$"
      ],
      "text/plain": [
       "⎡   _______    ⎛θ⎞     _______    ⎛θ⎞ ⎤\n",
       "⎢ ╲╱ E - m ⋅sin⎜─⎟   ╲╱ E + m ⋅sin⎜─⎟ ⎥\n",
       "⎢              ⎝2⎠                ⎝2⎠ ⎥\n",
       "⎢ ──────────────── + ──────────────── ⎥\n",
       "⎢        2                  2         ⎥\n",
       "⎢                                     ⎥\n",
       "⎢    _______    ⎛θ⎞     _______    ⎛θ⎞⎥\n",
       "⎢  ╲╱ E - m ⋅cos⎜─⎟   ╲╱ E + m ⋅cos⎜─⎟⎥\n",
       "⎢               ⎝2⎠                ⎝2⎠⎥\n",
       "⎢- ──────────────── - ────────────────⎥\n",
       "⎢         2                  2        ⎥\n",
       "⎢                                     ⎥\n",
       "⎢    _______    ⎛θ⎞     _______    ⎛θ⎞⎥\n",
       "⎢  ╲╱ E - m ⋅sin⎜─⎟   ╲╱ E + m ⋅sin⎜─⎟⎥\n",
       "⎢               ⎝2⎠                ⎝2⎠⎥\n",
       "⎢- ──────────────── - ────────────────⎥\n",
       "⎢         2                  2        ⎥\n",
       "⎢                                     ⎥\n",
       "⎢   _______    ⎛θ⎞     _______    ⎛θ⎞ ⎥\n",
       "⎢ ╲╱ E - m ⋅cos⎜─⎟   ╲╱ E + m ⋅cos⎜─⎟ ⎥\n",
       "⎢              ⎝2⎠                ⎝2⎠ ⎥\n",
       "⎢ ──────────────── + ──────────────── ⎥\n",
       "⎣        2                  2         ⎦"
      ]
     },
     "execution_count": 41,
     "metadata": {},
     "output_type": "execute_result"
    }
   ],
   "source": [
    "hep.g5*hep.projm*hep.u(pe,-1)"
   ]
  },
  {
   "cell_type": "markdown",
   "metadata": {},
   "source": [
    "For massless fermions the chirality eigenstates are given by the heicity states. "
   ]
  },
  {
   "cell_type": "code",
   "execution_count": 42,
   "metadata": {},
   "outputs": [
    {
     "data": {
      "image/png": "[encoded data removed]",
      "text/latex": [
       "$\\displaystyle \\left[\\begin{matrix}\\sqrt{E} e^{- i \\phi} \\sin{\\left(\\frac{\\theta}{2} \\right)}\\\\- \\sqrt{E} \\cos{\\left(\\frac{\\theta}{2} \\right)}\\\\- \\sqrt{E} e^{- i \\phi} \\sin{\\left(\\frac{\\theta}{2} \\right)}\\\\\\sqrt{E} \\cos{\\left(\\frac{\\theta}{2} \\right)}\\end{matrix}\\right]$"
      ],
      "text/plain": [
       "⎡    -ⅈ⋅φ    ⎛θ⎞ ⎤\n",
       "⎢√E⋅ℯ    ⋅sin⎜─⎟ ⎥\n",
       "⎢            ⎝2⎠ ⎥\n",
       "⎢                ⎥\n",
       "⎢          ⎛θ⎞   ⎥\n",
       "⎢   -√E⋅cos⎜─⎟   ⎥\n",
       "⎢          ⎝2⎠   ⎥\n",
       "⎢                ⎥\n",
       "⎢     -ⅈ⋅φ    ⎛θ⎞⎥\n",
       "⎢-√E⋅ℯ    ⋅sin⎜─⎟⎥\n",
       "⎢             ⎝2⎠⎥\n",
       "⎢                ⎥\n",
       "⎢         ⎛θ⎞    ⎥\n",
       "⎢   √E⋅cos⎜─⎟    ⎥\n",
       "⎣         ⎝2⎠    ⎦"
      ]
     },
     "execution_count": 42,
     "metadata": {},
     "output_type": "execute_result"
    }
   ],
   "source": [
    "test=hep.g5*hep.u(pexyz,-1).subs(m,0);test"
   ]
  },
  {
   "cell_type": "code",
   "execution_count": 43,
   "metadata": {},
   "outputs": [
    {
     "data": {
      "text/plain": [
       "True"
      ]
     },
     "execution_count": 43,
     "metadata": {},
     "output_type": "execute_result"
    }
   ],
   "source": [
    "test==hep.g5*hep.u(pexyz,-1).subs(m,0)"
   ]
  },
  {
   "cell_type": "markdown",
   "metadata": {},
   "source": [
    "$\\gamma_5$ generically transforms a particle with negative helicity  into an antiparticle with positive helicity and vice versa:"
   ]
  },
  {
   "cell_type": "code",
   "execution_count": 44,
   "metadata": {},
   "outputs": [
    {
     "data": {
      "text/plain": [
       "True"
      ]
     },
     "execution_count": 44,
     "metadata": {},
     "output_type": "execute_result"
    }
   ],
   "source": [
    "hep.g5*hep.u(pexyz,-1)==hep.v(pexyz,1)"
   ]
  },
  {
   "cell_type": "markdown",
   "metadata": {},
   "source": [
    "## 4) C,P,T"
   ]
  },
  {
   "cell_type": "markdown",
   "metadata": {},
   "source": [
    "Charge conjugation  $C$ transforms a particle with given helicity into an antiparticle with the same helicity,\n",
    "$\\psi\\to\\psi_C={\\mathrm i}\\gamma^2\\psi^*$. Here as example $v(p,1)=\\imath\\gamma2 u^*(p,1)$. Not knowing how to force sympy tu assume $E-m >0$ I do the complex conjugate by hand."
   ]
  },
  {
   "cell_type": "code",
   "execution_count": 45,
   "metadata": {},
   "outputs": [
    {
     "data": {
      "image/png": "[encoded data removed]",
      "text/latex": [
       "$\\displaystyle \\left[\\begin{matrix}\\sqrt{E + m} \\cos{\\left(\\frac{\\theta}{2} \\right)}\\\\\\sqrt{E + m} e^{- i \\phi} \\sin{\\left(\\frac{\\theta}{2} \\right)}\\\\\\sqrt{E - m} \\cos{\\left(\\frac{\\theta}{2} \\right)}\\\\\\sqrt{E - m} e^{- i \\phi} \\sin{\\left(\\frac{\\theta}{2} \\right)}\\end{matrix}\\right]$"
      ],
      "text/plain": [
       "⎡     _______    ⎛θ⎞   ⎤\n",
       "⎢   ╲╱ E + m ⋅cos⎜─⎟   ⎥\n",
       "⎢                ⎝2⎠   ⎥\n",
       "⎢                      ⎥\n",
       "⎢  _______  -ⅈ⋅φ    ⎛θ⎞⎥\n",
       "⎢╲╱ E + m ⋅ℯ    ⋅sin⎜─⎟⎥\n",
       "⎢                   ⎝2⎠⎥\n",
       "⎢                      ⎥\n",
       "⎢     _______    ⎛θ⎞   ⎥\n",
       "⎢   ╲╱ E - m ⋅cos⎜─⎟   ⎥\n",
       "⎢                ⎝2⎠   ⎥\n",
       "⎢                      ⎥\n",
       "⎢  _______  -ⅈ⋅φ    ⎛θ⎞⎥\n",
       "⎢╲╱ E - m ⋅ℯ    ⋅sin⎜─⎟⎥\n",
       "⎣                   ⎝2⎠⎦"
      ]
     },
     "execution_count": 45,
     "metadata": {},
     "output_type": "execute_result"
    }
   ],
   "source": [
    "ustar=hep.u(pexyz,1).subs(phi,-phi);ustar "
   ]
  },
  {
   "cell_type": "code",
   "execution_count": 46,
   "metadata": {},
   "outputs": [
    {
     "data": {
      "image/png": "[encoded data removed]",
      "text/latex": [
       "$\\displaystyle \\left[\\begin{matrix}\\sqrt{E - m} e^{- i \\phi} \\sin{\\left(\\frac{\\theta}{2} \\right)}\\\\- \\sqrt{E - m} \\cos{\\left(\\frac{\\theta}{2} \\right)}\\\\- \\sqrt{E + m} e^{- i \\phi} \\sin{\\left(\\frac{\\theta}{2} \\right)}\\\\\\sqrt{E + m} \\cos{\\left(\\frac{\\theta}{2} \\right)}\\end{matrix}\\right]$"
      ],
      "text/plain": [
       "⎡  _______  -ⅈ⋅φ    ⎛θ⎞ ⎤\n",
       "⎢╲╱ E - m ⋅ℯ    ⋅sin⎜─⎟ ⎥\n",
       "⎢                   ⎝2⎠ ⎥\n",
       "⎢                       ⎥\n",
       "⎢      _______    ⎛θ⎞   ⎥\n",
       "⎢   -╲╱ E - m ⋅cos⎜─⎟   ⎥\n",
       "⎢                 ⎝2⎠   ⎥\n",
       "⎢                       ⎥\n",
       "⎢   _______  -ⅈ⋅φ    ⎛θ⎞⎥\n",
       "⎢-╲╱ E + m ⋅ℯ    ⋅sin⎜─⎟⎥\n",
       "⎢                    ⎝2⎠⎥\n",
       "⎢                       ⎥\n",
       "⎢     _______    ⎛θ⎞    ⎥\n",
       "⎢   ╲╱ E + m ⋅cos⎜─⎟    ⎥\n",
       "⎣                ⎝2⎠    ⎦"
      ]
     },
     "execution_count": 46,
     "metadata": {},
     "output_type": "execute_result"
    }
   ],
   "source": [
    "uC=I*hep.g2*ustar;uC"
   ]
  },
  {
   "cell_type": "code",
   "execution_count": 47,
   "metadata": {},
   "outputs": [
    {
     "data": {
      "text/plain": [
       "True"
      ]
     },
     "execution_count": 47,
     "metadata": {},
     "output_type": "execute_result"
    }
   ],
   "source": [
    "hep.v(pexyz,1)==uC"
   ]
  },
  {
   "cell_type": "markdown",
   "metadata": {},
   "source": [
    "We could define a charge conjugation operator $C=\\imath \\gamma_2$ acting on $\\psi^*$. In the literature this symbol is reserved to $C=\\imath \\gamma_2\\gamma_0$ acting on $\\bar{\\psi}^T$ ($T$ means \"transpose\"), therefore $\\psi_C=C\\bar{\\psi}^T$. Of course both definitions are equivalent."
   ]
  },
  {
   "cell_type": "code",
   "execution_count": 48,
   "metadata": {},
   "outputs": [
    {
     "data": {
      "image/png": "[encoded data removed]",
      "text/latex": [
       "$\\displaystyle \\left[\\begin{matrix}0 & 0 & 0 & -1\\\\0 & 0 & 1 & 0\\\\0 & -1 & 0 & 0\\\\1 & 0 & 0 & 0\\end{matrix}\\right]$"
      ],
      "text/plain": [
       "⎡0  0   0  -1⎤\n",
       "⎢            ⎥\n",
       "⎢0  0   1  0 ⎥\n",
       "⎢            ⎥\n",
       "⎢0  -1  0  0 ⎥\n",
       "⎢            ⎥\n",
       "⎣1  0   0  0 ⎦"
      ]
     },
     "execution_count": 48,
     "metadata": {},
     "output_type": "execute_result"
    }
   ],
   "source": [
    "C=I*hep.g2*hep.g0;C"
   ]
  },
  {
   "cell_type": "code",
   "execution_count": 49,
   "metadata": {},
   "outputs": [
    {
     "data": {
      "text/plain": [
       "True"
      ]
     },
     "execution_count": 49,
     "metadata": {},
     "output_type": "execute_result"
    }
   ],
   "source": [
    "uC==C*hep.ubar(pexyz,1).T"
   ]
  },
  {
   "cell_type": "markdown",
   "metadata": {},
   "source": [
    "Now $\\bar{\\psi}_C=-\\imath\\bar{\\psi}^*\\gamma_2=\\psi^TC$"
   ]
  },
  {
   "cell_type": "code",
   "execution_count": 50,
   "metadata": {},
   "outputs": [
    {
     "data": {
      "image/png": "[encoded data removed]",
      "text/latex": [
       "$\\displaystyle \\left[\\begin{matrix}\\sqrt{E + m} \\cos{\\left(\\frac{\\theta}{2} \\right)} & \\sqrt{E + m} e^{i \\phi} \\sin{\\left(\\frac{\\theta}{2} \\right)} & - \\sqrt{E - m} \\cos{\\left(\\frac{\\theta}{2} \\right)} & - \\sqrt{E - m} e^{i \\phi} \\sin{\\left(\\frac{\\theta}{2} \\right)}\\end{matrix}\\right]$"
      ],
      "text/plain": [
       "⎡  _______    ⎛θ⎞    _______  ⅈ⋅φ    ⎛θ⎞     _______    ⎛θ⎞     _______  ⅈ⋅φ  \n",
       "⎢╲╱ E + m ⋅cos⎜─⎟  ╲╱ E + m ⋅ℯ   ⋅sin⎜─⎟  -╲╱ E - m ⋅cos⎜─⎟  -╲╱ E - m ⋅ℯ   ⋅s\n",
       "⎣             ⎝2⎠                    ⎝2⎠                ⎝2⎠                   \n",
       "\n",
       "  ⎛θ⎞⎤\n",
       "in⎜─⎟⎥\n",
       "  ⎝2⎠⎦"
      ]
     },
     "execution_count": 50,
     "metadata": {},
     "output_type": "execute_result"
    }
   ],
   "source": [
    "ubarstar=hep.ubar(pexyz,1).subs(phi,-phi);ubarstar"
   ]
  },
  {
   "cell_type": "code",
   "execution_count": 51,
   "metadata": {},
   "outputs": [
    {
     "data": {
      "text/plain": [
       "True"
      ]
     },
     "execution_count": 51,
     "metadata": {},
     "output_type": "execute_result"
    }
   ],
   "source": [
    "hep.vbar(pexyz,1)==-ubarstar*I*hep.g2"
   ]
  },
  {
   "cell_type": "code",
   "execution_count": 52,
   "metadata": {},
   "outputs": [
    {
     "data": {
      "text/plain": [
       "True"
      ]
     },
     "execution_count": 52,
     "metadata": {},
     "output_type": "execute_result"
    }
   ],
   "source": [
    "hep.vbar(pexyz,1)==transpose(hep.u(pexyz,1))*C"
   ]
  },
  {
   "cell_type": "markdown",
   "metadata": {},
   "source": [
    "In the $x,z$-plane the spinors are real. Therefore charge conjugation  simplifies a lot."
   ]
  },
  {
   "cell_type": "code",
   "execution_count": 53,
   "metadata": {},
   "outputs": [
    {
     "data": {
      "text/plain": [
       "True"
      ]
     },
     "execution_count": 53,
     "metadata": {},
     "output_type": "execute_result"
    }
   ],
   "source": [
    "I*hep.g2*hep.u(pe,1)==hep.v(pe,1)"
   ]
  },
  {
   "cell_type": "markdown",
   "metadata": {},
   "source": [
    "that is $u(p_e,1)_C=v(p_e,1)$. \n",
    "\n",
    "The parity operation $P$ transforms $\\vec{p}\\rightarrow -\\vec{p}$ and \n",
    "$\\lambda\\rightarrow-\\lambda$. For spinors  $\\psi\\to\\psi_P =P\\psi$ with $P=\\gamma^0$ holds."
   ]
  },
  {
   "cell_type": "code",
   "execution_count": 54,
   "metadata": {},
   "outputs": [
    {
     "data": {
      "image/png": "[encoded data removed]",
      "text/latex": [
       "$\\displaystyle \\left[\\begin{matrix}1 & 0 & 0 & 0\\\\0 & 1 & 0 & 0\\\\0 & 0 & -1 & 0\\\\0 & 0 & 0 & -1\\end{matrix}\\right]$"
      ],
      "text/plain": [
       "⎡1  0  0   0 ⎤\n",
       "⎢            ⎥\n",
       "⎢0  1  0   0 ⎥\n",
       "⎢            ⎥\n",
       "⎢0  0  -1  0 ⎥\n",
       "⎢            ⎥\n",
       "⎣0  0  0   -1⎦"
      ]
     },
     "execution_count": 54,
     "metadata": {},
     "output_type": "execute_result"
    }
   ],
   "source": [
    "P=hep.g0;P"
   ]
  },
  {
   "cell_type": "code",
   "execution_count": 55,
   "metadata": {},
   "outputs": [
    {
     "data": {
      "image/png": "[encoded data removed]",
      "text/latex": [
       "$\\displaystyle \\left[\\begin{matrix}\\sqrt{E - m} \\sin{\\left(\\frac{\\theta}{2} \\right)}\\\\- \\sqrt{E - m} \\cos{\\left(\\frac{\\theta}{2} \\right)}\\\\\\sqrt{E + m} \\sin{\\left(\\frac{\\theta}{2} \\right)}\\\\- \\sqrt{E + m} \\cos{\\left(\\frac{\\theta}{2} \\right)}\\end{matrix}\\right]$"
      ],
      "text/plain": [
       "⎡  _______    ⎛θ⎞ ⎤\n",
       "⎢╲╱ E - m ⋅sin⎜─⎟ ⎥\n",
       "⎢             ⎝2⎠ ⎥\n",
       "⎢                 ⎥\n",
       "⎢   _______    ⎛θ⎞⎥\n",
       "⎢-╲╱ E - m ⋅cos⎜─⎟⎥\n",
       "⎢              ⎝2⎠⎥\n",
       "⎢                 ⎥\n",
       "⎢  _______    ⎛θ⎞ ⎥\n",
       "⎢╲╱ E + m ⋅sin⎜─⎟ ⎥\n",
       "⎢             ⎝2⎠ ⎥\n",
       "⎢                 ⎥\n",
       "⎢   _______    ⎛θ⎞⎥\n",
       "⎢-╲╱ E + m ⋅cos⎜─⎟⎥\n",
       "⎣              ⎝2⎠⎦"
      ]
     },
     "execution_count": 55,
     "metadata": {},
     "output_type": "execute_result"
    }
   ],
   "source": [
    "P*hep.v(pe,1)"
   ]
  },
  {
   "cell_type": "code",
   "execution_count": 56,
   "metadata": {},
   "outputs": [
    {
     "data": {
      "text/plain": [
       "True"
      ]
     },
     "execution_count": 56,
     "metadata": {},
     "output_type": "execute_result"
    }
   ],
   "source": [
    "hep.v(peneg,-1)==P*hep.v(pe,1)"
   ]
  },
  {
   "cell_type": "markdown",
   "metadata": {},
   "source": [
    "that is $Pv(E,\\vec{p},1)=v(E,-\\vec{p},-1)$. \n",
    "\n",
    "Time reversal $T$ transforms $\\vec{p}\\rightarrow -\\vec{p}$ leaving $\\lambda$ unchanged. In applying $T$ to spinors one has to consider the antiunitarian character of the time reversal operator. Ths means that $T=-\\gamma^1\\gamma^3$ has to be applied to the complex conjugate spinors (see Bjorken Drell), $\\psi\\to\\psi_T =T\\psi^*$."
   ]
  },
  {
   "cell_type": "code",
   "execution_count": 57,
   "metadata": {},
   "outputs": [
    {
     "data": {
      "image/png": "[encoded data removed]",
      "text/latex": [
       "$\\displaystyle \\left[\\begin{matrix}0 & -1 & 0 & 0\\\\1 & 0 & 0 & 0\\\\0 & 0 & 0 & -1\\\\0 & 0 & 1 & 0\\end{matrix}\\right]$"
      ],
      "text/plain": [
       "⎡0  -1  0  0 ⎤\n",
       "⎢            ⎥\n",
       "⎢1  0   0  0 ⎥\n",
       "⎢            ⎥\n",
       "⎢0  0   0  -1⎥\n",
       "⎢            ⎥\n",
       "⎣0  0   1  0 ⎦"
      ]
     },
     "execution_count": 57,
     "metadata": {},
     "output_type": "execute_result"
    }
   ],
   "source": [
    "T=-hep.g1*hep.g3;T"
   ]
  },
  {
   "cell_type": "code",
   "execution_count": 100,
   "metadata": {},
   "outputs": [
    {
     "data": {
      "image/png": "[encoded data removed]",
      "text/latex": [
       "$\\displaystyle \\left[\\begin{matrix}-1 & 0 & 0 & 0\\\\0 & -1 & 0 & 0\\\\0 & 0 & -1 & 0\\\\0 & 0 & 0 & -1\\end{matrix}\\right]$"
      ],
      "text/plain": [
       "⎡-1  0   0   0 ⎤\n",
       "⎢              ⎥\n",
       "⎢0   -1  0   0 ⎥\n",
       "⎢              ⎥\n",
       "⎢0   0   -1  0 ⎥\n",
       "⎢              ⎥\n",
       "⎣0   0   0   -1⎦"
      ]
     },
     "execution_count": 100,
     "metadata": {},
     "output_type": "execute_result"
    }
   ],
   "source": [
    "T*T"
   ]
  },
  {
   "cell_type": "markdown",
   "metadata": {},
   "source": [
    "In the xz plane complex conjugation is not relevant and thus:"
   ]
  },
  {
   "cell_type": "code",
   "execution_count": 96,
   "metadata": {},
   "outputs": [
    {
     "data": {
      "image/png": "[encoded data removed]",
      "text/latex": [
       "$\\displaystyle \\left[\\begin{matrix}- \\sqrt{E + m} \\sin{\\left(\\frac{\\theta}{2} \\right)}\\\\\\sqrt{E + m} \\cos{\\left(\\frac{\\theta}{2} \\right)}\\\\- \\sqrt{E - m} \\sin{\\left(\\frac{\\theta}{2} \\right)}\\\\\\sqrt{E - m} \\cos{\\left(\\frac{\\theta}{2} \\right)}\\end{matrix}\\right]$"
      ],
      "text/plain": [
       "⎡   _______    ⎛θ⎞⎤\n",
       "⎢-╲╱ E + m ⋅sin⎜─⎟⎥\n",
       "⎢              ⎝2⎠⎥\n",
       "⎢                 ⎥\n",
       "⎢  _______    ⎛θ⎞ ⎥\n",
       "⎢╲╱ E + m ⋅cos⎜─⎟ ⎥\n",
       "⎢             ⎝2⎠ ⎥\n",
       "⎢                 ⎥\n",
       "⎢   _______    ⎛θ⎞⎥\n",
       "⎢-╲╱ E - m ⋅sin⎜─⎟⎥\n",
       "⎢              ⎝2⎠⎥\n",
       "⎢                 ⎥\n",
       "⎢  _______    ⎛θ⎞ ⎥\n",
       "⎢╲╱ E - m ⋅cos⎜─⎟ ⎥\n",
       "⎣             ⎝2⎠ ⎦"
      ]
     },
     "execution_count": 96,
     "metadata": {},
     "output_type": "execute_result"
    }
   ],
   "source": [
    "T*hep.u(pe,1)"
   ]
  },
  {
   "cell_type": "code",
   "execution_count": 97,
   "metadata": {},
   "outputs": [
    {
     "data": {
      "image/png": "[encoded data removed]",
      "text/latex": [
       "$\\displaystyle \\left[\\begin{matrix}\\sqrt{E + m} \\sin{\\left(\\frac{\\theta}{2} \\right)}\\\\- \\sqrt{E + m} \\cos{\\left(\\frac{\\theta}{2} \\right)}\\\\\\sqrt{E - m} \\sin{\\left(\\frac{\\theta}{2} \\right)}\\\\- \\sqrt{E - m} \\cos{\\left(\\frac{\\theta}{2} \\right)}\\end{matrix}\\right]$"
      ],
      "text/plain": [
       "⎡  _______    ⎛θ⎞ ⎤\n",
       "⎢╲╱ E + m ⋅sin⎜─⎟ ⎥\n",
       "⎢             ⎝2⎠ ⎥\n",
       "⎢                 ⎥\n",
       "⎢   _______    ⎛θ⎞⎥\n",
       "⎢-╲╱ E + m ⋅cos⎜─⎟⎥\n",
       "⎢              ⎝2⎠⎥\n",
       "⎢                 ⎥\n",
       "⎢  _______    ⎛θ⎞ ⎥\n",
       "⎢╲╱ E - m ⋅sin⎜─⎟ ⎥\n",
       "⎢             ⎝2⎠ ⎥\n",
       "⎢                 ⎥\n",
       "⎢   _______    ⎛θ⎞⎥\n",
       "⎢-╲╱ E - m ⋅cos⎜─⎟⎥\n",
       "⎣              ⎝2⎠⎦"
      ]
     },
     "execution_count": 97,
     "metadata": {},
     "output_type": "execute_result"
    }
   ],
   "source": [
    "hep.u(peneg,1)"
   ]
  },
  {
   "cell_type": "code",
   "execution_count": 105,
   "metadata": {},
   "outputs": [
    {
     "data": {
      "text/plain": [
       "True"
      ]
     },
     "execution_count": 105,
     "metadata": {},
     "output_type": "execute_result"
    }
   ],
   "source": [
    "T*hep.u(pe,1)==-hep.u(peneg,1)"
   ]
  },
  {
   "cell_type": "code",
   "execution_count": 112,
   "metadata": {},
   "outputs": [
    {
     "data": {
      "image/png": "[encoded data removed]",
      "text/latex": [
       "$\\displaystyle \\left[\\begin{matrix}- \\sqrt{E + m} e^{i \\phi} \\sin{\\left(\\frac{\\theta}{2} \\right)}\\\\\\sqrt{E + m} \\cos{\\left(\\frac{\\theta}{2} \\right)}\\\\\\sqrt{E - m} e^{i \\phi} \\sin{\\left(\\frac{\\theta}{2} \\right)}\\\\- \\sqrt{E - m} \\cos{\\left(\\frac{\\theta}{2} \\right)}\\end{matrix}\\right]$"
      ],
      "text/plain": [
       "⎡   _______  ⅈ⋅φ    ⎛θ⎞⎤\n",
       "⎢-╲╱ E + m ⋅ℯ   ⋅sin⎜─⎟⎥\n",
       "⎢                   ⎝2⎠⎥\n",
       "⎢                      ⎥\n",
       "⎢     _______    ⎛θ⎞   ⎥\n",
       "⎢   ╲╱ E + m ⋅cos⎜─⎟   ⎥\n",
       "⎢                ⎝2⎠   ⎥\n",
       "⎢                      ⎥\n",
       "⎢  _______  ⅈ⋅φ    ⎛θ⎞ ⎥\n",
       "⎢╲╱ E - m ⋅ℯ   ⋅sin⎜─⎟ ⎥\n",
       "⎢                  ⎝2⎠ ⎥\n",
       "⎢                      ⎥\n",
       "⎢     _______    ⎛θ⎞   ⎥\n",
       "⎢  -╲╱ E - m ⋅cos⎜─⎟   ⎥\n",
       "⎣                ⎝2⎠   ⎦"
      ]
     },
     "execution_count": 112,
     "metadata": {},
     "output_type": "execute_result"
    }
   ],
   "source": [
    "hep.u(pexyz,-1).subs(phi,-phi)"
   ]
  },
  {
   "cell_type": "code",
   "execution_count": 103,
   "metadata": {},
   "outputs": [
    {
     "data": {
      "image/png": "[encoded data removed]",
      "text/latex": [
       "$\\displaystyle \\left[\\begin{matrix}- \\sqrt{E + m} e^{- i \\left(\\phi + \\pi\\right)} \\cos{\\left(\\frac{\\theta}{2} \\right)}\\\\\\sqrt{E + m} \\sin{\\left(\\frac{\\theta}{2} \\right)}\\\\\\sqrt{E - m} e^{- i \\left(\\phi + \\pi\\right)} \\cos{\\left(\\frac{\\theta}{2} \\right)}\\\\- \\sqrt{E - m} \\sin{\\left(\\frac{\\theta}{2} \\right)}\\end{matrix}\\right]$"
      ],
      "text/plain": [
       "⎡   _______  -ⅈ⋅(φ + π)    ⎛θ⎞⎤\n",
       "⎢-╲╱ E + m ⋅ℯ          ⋅cos⎜─⎟⎥\n",
       "⎢                          ⎝2⎠⎥\n",
       "⎢                             ⎥\n",
       "⎢        _______    ⎛θ⎞       ⎥\n",
       "⎢      ╲╱ E + m ⋅sin⎜─⎟       ⎥\n",
       "⎢                   ⎝2⎠       ⎥\n",
       "⎢                             ⎥\n",
       "⎢  _______  -ⅈ⋅(φ + π)    ⎛θ⎞ ⎥\n",
       "⎢╲╱ E - m ⋅ℯ          ⋅cos⎜─⎟ ⎥\n",
       "⎢                         ⎝2⎠ ⎥\n",
       "⎢                             ⎥\n",
       "⎢         _______    ⎛θ⎞      ⎥\n",
       "⎢      -╲╱ E - m ⋅sin⎜─⎟      ⎥\n",
       "⎣                    ⎝2⎠      ⎦"
      ]
     },
     "execution_count": 103,
     "metadata": {},
     "output_type": "execute_result"
    }
   ],
   "source": [
    "hep.u(pexyz,-1).subs(theta,pi-theta).subs(phi,pi+phi)"
   ]
  },
  {
   "cell_type": "code",
   "execution_count": null,
   "metadata": {},
   "outputs": [],
   "source": []
  },
  {
   "cell_type": "markdown",
   "metadata": {},
   "source": [
    "Combining the 3 transformation-matrices yields $TPC=\\gamma_5$"
   ]
  },
  {
   "cell_type": "code",
   "execution_count": 61,
   "metadata": {},
   "outputs": [
    {
     "data": {
      "image/png": "[encoded data removed]",
      "text/latex": [
       "$\\displaystyle \\left[\\begin{matrix}0 & 0 & 1 & 0\\\\0 & 0 & 0 & 1\\\\1 & 0 & 0 & 0\\\\0 & 1 & 0 & 0\\end{matrix}\\right]$"
      ],
      "text/plain": [
       "⎡0  0  1  0⎤\n",
       "⎢          ⎥\n",
       "⎢0  0  0  1⎥\n",
       "⎢          ⎥\n",
       "⎢1  0  0  0⎥\n",
       "⎢          ⎥\n",
       "⎣0  1  0  0⎦"
      ]
     },
     "execution_count": 61,
     "metadata": {},
     "output_type": "execute_result"
    }
   ],
   "source": [
    "cpt=T*P*I*hep.g2;cpt"
   ]
  },
  {
   "cell_type": "code",
   "execution_count": 62,
   "metadata": {},
   "outputs": [
    {
     "data": {
      "text/plain": [
       "True"
      ]
     },
     "execution_count": 62,
     "metadata": {},
     "output_type": "execute_result"
    }
   ],
   "source": [
    "cpt==hep.g5"
   ]
  },
  {
   "cell_type": "code",
   "execution_count": 63,
   "metadata": {},
   "outputs": [
    {
     "data": {
      "image/png": "[encoded data removed]",
      "text/latex": [
       "$\\displaystyle \\left[\\begin{matrix}- \\sqrt{E + m} e^{- i \\phi} \\sin{\\left(\\frac{\\theta}{2} \\right)}\\\\\\sqrt{E + m} \\cos{\\left(\\frac{\\theta}{2} \\right)}\\\\\\sqrt{E - m} e^{- i \\phi} \\sin{\\left(\\frac{\\theta}{2} \\right)}\\\\- \\sqrt{E - m} \\cos{\\left(\\frac{\\theta}{2} \\right)}\\end{matrix}\\right]$"
      ],
      "text/plain": [
       "⎡   _______  -ⅈ⋅φ    ⎛θ⎞⎤\n",
       "⎢-╲╱ E + m ⋅ℯ    ⋅sin⎜─⎟⎥\n",
       "⎢                    ⎝2⎠⎥\n",
       "⎢                       ⎥\n",
       "⎢     _______    ⎛θ⎞    ⎥\n",
       "⎢   ╲╱ E + m ⋅cos⎜─⎟    ⎥\n",
       "⎢                ⎝2⎠    ⎥\n",
       "⎢                       ⎥\n",
       "⎢  _______  -ⅈ⋅φ    ⎛θ⎞ ⎥\n",
       "⎢╲╱ E - m ⋅ℯ    ⋅sin⎜─⎟ ⎥\n",
       "⎢                   ⎝2⎠ ⎥\n",
       "⎢                       ⎥\n",
       "⎢      _______    ⎛θ⎞   ⎥\n",
       "⎢   -╲╱ E - m ⋅cos⎜─⎟   ⎥\n",
       "⎣                 ⎝2⎠   ⎦"
      ]
     },
     "execution_count": 63,
     "metadata": {},
     "output_type": "execute_result"
    }
   ],
   "source": [
    "test=cpt*hep.v(pexyz,1);test"
   ]
  },
  {
   "cell_type": "code",
   "execution_count": 64,
   "metadata": {},
   "outputs": [
    {
     "data": {
      "text/plain": [
       "True"
      ]
     },
     "execution_count": 64,
     "metadata": {},
     "output_type": "execute_result"
    }
   ],
   "source": [
    "test==hep.u(pexyz,-1)"
   ]
  },
  {
   "cell_type": "markdown",
   "metadata": {},
   "source": [
    "Applying $TPC$ to complex spinors is easy because the complex conjugation in the rules for $C$ and $T$ cancel\n",
    "each other. If you still have doubts, do it step by step: "
   ]
  },
  {
   "cell_type": "code",
   "execution_count": 65,
   "metadata": {},
   "outputs": [
    {
     "data": {
      "image/png": "[encoded data removed]",
      "text/latex": [
       "$\\displaystyle \\left[\\begin{matrix}\\sqrt{E - m} e^{- i \\phi} \\sin{\\left(\\frac{\\theta}{2} \\right)}\\\\- \\sqrt{E - m} \\cos{\\left(\\frac{\\theta}{2} \\right)}\\\\- \\sqrt{E + m} e^{- i \\phi} \\sin{\\left(\\frac{\\theta}{2} \\right)}\\\\\\sqrt{E + m} \\cos{\\left(\\frac{\\theta}{2} \\right)}\\end{matrix}\\right]$"
      ],
      "text/plain": [
       "⎡  _______  -ⅈ⋅φ    ⎛θ⎞ ⎤\n",
       "⎢╲╱ E - m ⋅ℯ    ⋅sin⎜─⎟ ⎥\n",
       "⎢                   ⎝2⎠ ⎥\n",
       "⎢                       ⎥\n",
       "⎢      _______    ⎛θ⎞   ⎥\n",
       "⎢   -╲╱ E - m ⋅cos⎜─⎟   ⎥\n",
       "⎢                 ⎝2⎠   ⎥\n",
       "⎢                       ⎥\n",
       "⎢   _______  -ⅈ⋅φ    ⎛θ⎞⎥\n",
       "⎢-╲╱ E + m ⋅ℯ    ⋅sin⎜─⎟⎥\n",
       "⎢                    ⎝2⎠⎥\n",
       "⎢                       ⎥\n",
       "⎢     _______    ⎛θ⎞    ⎥\n",
       "⎢   ╲╱ E + m ⋅cos⎜─⎟    ⎥\n",
       "⎣                ⎝2⎠    ⎦"
      ]
     },
     "execution_count": 65,
     "metadata": {},
     "output_type": "execute_result"
    }
   ],
   "source": [
    "step1=I*hep.g2*ustar;step1"
   ]
  },
  {
   "cell_type": "code",
   "execution_count": 66,
   "metadata": {},
   "outputs": [
    {
     "data": {
      "image/png": "[encoded data removed]",
      "text/latex": [
       "$\\displaystyle \\left[\\begin{matrix}\\sqrt{E - m} e^{- i \\phi} \\sin{\\left(\\frac{\\theta}{2} \\right)}\\\\- \\sqrt{E - m} \\cos{\\left(\\frac{\\theta}{2} \\right)}\\\\\\sqrt{E + m} e^{- i \\phi} \\sin{\\left(\\frac{\\theta}{2} \\right)}\\\\- \\sqrt{E + m} \\cos{\\left(\\frac{\\theta}{2} \\right)}\\end{matrix}\\right]$"
      ],
      "text/plain": [
       "⎡  _______  -ⅈ⋅φ    ⎛θ⎞⎤\n",
       "⎢╲╱ E - m ⋅ℯ    ⋅sin⎜─⎟⎥\n",
       "⎢                   ⎝2⎠⎥\n",
       "⎢                      ⎥\n",
       "⎢     _______    ⎛θ⎞   ⎥\n",
       "⎢  -╲╱ E - m ⋅cos⎜─⎟   ⎥\n",
       "⎢                ⎝2⎠   ⎥\n",
       "⎢                      ⎥\n",
       "⎢  _______  -ⅈ⋅φ    ⎛θ⎞⎥\n",
       "⎢╲╱ E + m ⋅ℯ    ⋅sin⎜─⎟⎥\n",
       "⎢                   ⎝2⎠⎥\n",
       "⎢                      ⎥\n",
       "⎢     _______    ⎛θ⎞   ⎥\n",
       "⎢  -╲╱ E + m ⋅cos⎜─⎟   ⎥\n",
       "⎣                ⎝2⎠   ⎦"
      ]
     },
     "execution_count": 66,
     "metadata": {},
     "output_type": "execute_result"
    }
   ],
   "source": [
    "step2=P*step1;step2"
   ]
  },
  {
   "cell_type": "code",
   "execution_count": 67,
   "metadata": {},
   "outputs": [
    {
     "data": {
      "image/png": "[encoded data removed]",
      "text/latex": [
       "$\\displaystyle \\left[\\begin{matrix}\\sqrt{E - m} \\cos{\\left(\\frac{\\theta}{2} \\right)}\\\\\\sqrt{E - m} e^{i \\phi} \\sin{\\left(\\frac{\\theta}{2} \\right)}\\\\\\sqrt{E + m} \\cos{\\left(\\frac{\\theta}{2} \\right)}\\\\\\sqrt{E + m} e^{i \\phi} \\sin{\\left(\\frac{\\theta}{2} \\right)}\\end{matrix}\\right]$"
      ],
      "text/plain": [
       "⎡    _______    ⎛θ⎞   ⎤\n",
       "⎢  ╲╱ E - m ⋅cos⎜─⎟   ⎥\n",
       "⎢               ⎝2⎠   ⎥\n",
       "⎢                     ⎥\n",
       "⎢  _______  ⅈ⋅φ    ⎛θ⎞⎥\n",
       "⎢╲╱ E - m ⋅ℯ   ⋅sin⎜─⎟⎥\n",
       "⎢                  ⎝2⎠⎥\n",
       "⎢                     ⎥\n",
       "⎢    _______    ⎛θ⎞   ⎥\n",
       "⎢  ╲╱ E + m ⋅cos⎜─⎟   ⎥\n",
       "⎢               ⎝2⎠   ⎥\n",
       "⎢                     ⎥\n",
       "⎢  _______  ⅈ⋅φ    ⎛θ⎞⎥\n",
       "⎢╲╱ E + m ⋅ℯ   ⋅sin⎜─⎟⎥\n",
       "⎣                  ⎝2⎠⎦"
      ]
     },
     "execution_count": 67,
     "metadata": {},
     "output_type": "execute_result"
    }
   ],
   "source": [
    "step2star=step2.subs(phi,-phi)\n",
    "step3=T*step2star;step3"
   ]
  },
  {
   "cell_type": "code",
   "execution_count": 68,
   "metadata": {},
   "outputs": [
    {
     "data": {
      "text/plain": [
       "True"
      ]
     },
     "execution_count": 68,
     "metadata": {},
     "output_type": "execute_result"
    }
   ],
   "source": [
    "step3==hep.v(pexyz,-1)"
   ]
  },
  {
   "cell_type": "markdown",
   "metadata": {},
   "source": [
    "The $S$ matrix is $CPT$ invariant ($CPT$ theorem). Therefore scattering amplitudes involving helicity spinors  are invariant with respect to replacing particles by antiparticles with reversed helicities."
   ]
  },
  {
   "cell_type": "markdown",
   "metadata": {},
   "source": [
    "## 5) Weyl representation"
   ]
  },
  {
   "cell_type": "markdown",
   "metadata": {},
   "source": [
    "The popular Weyl representation is reached by the unitary transformation"
   ]
  },
  {
   "cell_type": "code",
   "execution_count": 69,
   "metadata": {},
   "outputs": [
    {
     "data": {
      "image/png": "[encoded data removed]",
      "text/latex": [
       "$\\displaystyle \\left[\\begin{matrix}\\frac{\\sqrt{2}}{2} & 0 & - \\frac{\\sqrt{2}}{2} & 0\\\\0 & \\frac{\\sqrt{2}}{2} & 0 & - \\frac{\\sqrt{2}}{2}\\\\\\frac{\\sqrt{2}}{2} & 0 & \\frac{\\sqrt{2}}{2} & 0\\\\0 & \\frac{\\sqrt{2}}{2} & 0 & \\frac{\\sqrt{2}}{2}\\end{matrix}\\right]$"
      ],
      "text/plain": [
       "⎡√2      -√2       ⎤\n",
       "⎢──  0   ────   0  ⎥\n",
       "⎢2        2        ⎥\n",
       "⎢                  ⎥\n",
       "⎢    √2        -√2 ⎥\n",
       "⎢0   ──   0    ────⎥\n",
       "⎢    2          2  ⎥\n",
       "⎢                  ⎥\n",
       "⎢√2       √2       ⎥\n",
       "⎢──  0    ──    0  ⎥\n",
       "⎢2        2        ⎥\n",
       "⎢                  ⎥\n",
       "⎢    √2         √2 ⎥\n",
       "⎢0   ──   0     ── ⎥\n",
       "⎣    2          2  ⎦"
      ]
     },
     "execution_count": 69,
     "metadata": {},
     "output_type": "execute_result"
    }
   ],
   "source": [
    "U=(hep.one+hep.g5*hep.g0)/sqrt(2);U"
   ]
  },
  {
   "cell_type": "code",
   "execution_count": 70,
   "metadata": {},
   "outputs": [
    {
     "data": {
      "image/png": "[encoded data removed]",
      "text/latex": [
       "$\\displaystyle \\left[\\begin{matrix}\\frac{\\sqrt{2}}{2} & 0 & \\frac{\\sqrt{2}}{2} & 0\\\\0 & \\frac{\\sqrt{2}}{2} & 0 & \\frac{\\sqrt{2}}{2}\\\\- \\frac{\\sqrt{2}}{2} & 0 & \\frac{\\sqrt{2}}{2} & 0\\\\0 & - \\frac{\\sqrt{2}}{2} & 0 & \\frac{\\sqrt{2}}{2}\\end{matrix}\\right]$"
      ],
      "text/plain": [
       "⎡ √2         √2    ⎤\n",
       "⎢ ──    0    ──  0 ⎥\n",
       "⎢ 2          2     ⎥\n",
       "⎢                  ⎥\n",
       "⎢       √2       √2⎥\n",
       "⎢ 0     ──   0   ──⎥\n",
       "⎢       2        2 ⎥\n",
       "⎢                  ⎥\n",
       "⎢-√2         √2    ⎥\n",
       "⎢────   0    ──  0 ⎥\n",
       "⎢ 2          2     ⎥\n",
       "⎢                  ⎥\n",
       "⎢      -√2       √2⎥\n",
       "⎢ 0    ────  0   ──⎥\n",
       "⎣       2        2 ⎦"
      ]
     },
     "execution_count": 70,
     "metadata": {},
     "output_type": "execute_result"
    }
   ],
   "source": [
    "Uinv=U.inv();Uinv"
   ]
  },
  {
   "cell_type": "markdown",
   "metadata": {},
   "source": [
    "Basically $\\gamma_5$ and $\\gamma^0$ are interchanged"
   ]
  },
  {
   "cell_type": "code",
   "execution_count": 71,
   "metadata": {},
   "outputs": [
    {
     "data": {
      "image/png": "[encoded data removed]",
      "text/latex": [
       "$\\displaystyle \\left[\\begin{matrix}-1 & 0 & 0 & 0\\\\0 & -1 & 0 & 0\\\\0 & 0 & 1 & 0\\\\0 & 0 & 0 & 1\\end{matrix}\\right]$"
      ],
      "text/plain": [
       "⎡-1  0   0  0⎤\n",
       "⎢            ⎥\n",
       "⎢0   -1  0  0⎥\n",
       "⎢            ⎥\n",
       "⎢0   0   1  0⎥\n",
       "⎢            ⎥\n",
       "⎣0   0   0  1⎦"
      ]
     },
     "execution_count": 71,
     "metadata": {},
     "output_type": "execute_result"
    }
   ],
   "source": [
    "g5W=U*hep.g5*Uinv;g5W"
   ]
  },
  {
   "cell_type": "code",
   "execution_count": 72,
   "metadata": {},
   "outputs": [
    {
     "data": {
      "image/png": "[encoded data removed]",
      "text/latex": [
       "$\\displaystyle \\left[\\begin{matrix}0 & 0 & 1 & 0\\\\0 & 0 & 0 & 1\\\\1 & 0 & 0 & 0\\\\0 & 1 & 0 & 0\\end{matrix}\\right]$"
      ],
      "text/plain": [
       "⎡0  0  1  0⎤\n",
       "⎢          ⎥\n",
       "⎢0  0  0  1⎥\n",
       "⎢          ⎥\n",
       "⎢1  0  0  0⎥\n",
       "⎢          ⎥\n",
       "⎣0  1  0  0⎦"
      ]
     },
     "execution_count": 72,
     "metadata": {},
     "output_type": "execute_result"
    }
   ],
   "source": [
    "g0W=U*hep.g0*Uinv;g0W"
   ]
  },
  {
   "cell_type": "code",
   "execution_count": 73,
   "metadata": {},
   "outputs": [],
   "source": [
    "g1W=U*hep.g1*Uinv"
   ]
  },
  {
   "cell_type": "code",
   "execution_count": 74,
   "metadata": {},
   "outputs": [],
   "source": [
    "g2W=U*hep.g2*Uinv"
   ]
  },
  {
   "cell_type": "code",
   "execution_count": 75,
   "metadata": {},
   "outputs": [],
   "source": [
    "g3W=U*hep.g3*Uinv"
   ]
  },
  {
   "cell_type": "markdown",
   "metadata": {},
   "source": [
    "A typical Weyl spinor looks complicated at first sight"
   ]
  },
  {
   "cell_type": "code",
   "execution_count": 114,
   "metadata": {},
   "outputs": [
    {
     "data": {
      "image/png": "[encoded data removed]",
      "text/latex": [
       "$\\displaystyle \\left[\\begin{matrix}- \\frac{\\sqrt{2} \\sqrt{E - m} \\cos{\\left(\\frac{\\theta}{2} \\right)}}{2} + \\frac{\\sqrt{2} \\sqrt{E + m} \\cos{\\left(\\frac{\\theta}{2} \\right)}}{2}\\\\- \\frac{\\sqrt{2} \\sqrt{E - m} \\sin{\\left(\\frac{\\theta}{2} \\right)}}{2} + \\frac{\\sqrt{2} \\sqrt{E + m} \\sin{\\left(\\frac{\\theta}{2} \\right)}}{2}\\\\\\frac{\\sqrt{2} \\sqrt{E - m} \\cos{\\left(\\frac{\\theta}{2} \\right)}}{2} + \\frac{\\sqrt{2} \\sqrt{E + m} \\cos{\\left(\\frac{\\theta}{2} \\right)}}{2}\\\\\\frac{\\sqrt{2} \\sqrt{E - m} \\sin{\\left(\\frac{\\theta}{2} \\right)}}{2} + \\frac{\\sqrt{2} \\sqrt{E + m} \\sin{\\left(\\frac{\\theta}{2} \\right)}}{2}\\end{matrix}\\right]$"
      ],
      "text/plain": [
       "⎡       _______    ⎛θ⎞        _______    ⎛θ⎞⎤\n",
       "⎢  √2⋅╲╱ E - m ⋅cos⎜─⎟   √2⋅╲╱ E + m ⋅cos⎜─⎟⎥\n",
       "⎢                  ⎝2⎠                   ⎝2⎠⎥\n",
       "⎢- ─────────────────── + ───────────────────⎥\n",
       "⎢           2                     2         ⎥\n",
       "⎢                                           ⎥\n",
       "⎢       _______    ⎛θ⎞        _______    ⎛θ⎞⎥\n",
       "⎢  √2⋅╲╱ E - m ⋅sin⎜─⎟   √2⋅╲╱ E + m ⋅sin⎜─⎟⎥\n",
       "⎢                  ⎝2⎠                   ⎝2⎠⎥\n",
       "⎢- ─────────────────── + ───────────────────⎥\n",
       "⎢           2                     2         ⎥\n",
       "⎢                                           ⎥\n",
       "⎢      _______    ⎛θ⎞        _______    ⎛θ⎞ ⎥\n",
       "⎢ √2⋅╲╱ E - m ⋅cos⎜─⎟   √2⋅╲╱ E + m ⋅cos⎜─⎟ ⎥\n",
       "⎢                 ⎝2⎠                   ⎝2⎠ ⎥\n",
       "⎢ ─────────────────── + ─────────────────── ⎥\n",
       "⎢          2                     2          ⎥\n",
       "⎢                                           ⎥\n",
       "⎢      _______    ⎛θ⎞        _______    ⎛θ⎞ ⎥\n",
       "⎢ √2⋅╲╱ E - m ⋅sin⎜─⎟   √2⋅╲╱ E + m ⋅sin⎜─⎟ ⎥\n",
       "⎢                 ⎝2⎠                   ⎝2⎠ ⎥\n",
       "⎢ ─────────────────── + ─────────────────── ⎥\n",
       "⎣          2                     2          ⎦"
      ]
     },
     "execution_count": 114,
     "metadata": {},
     "output_type": "execute_result"
    }
   ],
   "source": [
    "uW=U*hep.u(pe,1);uW"
   ]
  },
  {
   "cell_type": "markdown",
   "metadata": {},
   "source": [
    "but with the help of e.g."
   ]
  },
  {
   "cell_type": "code",
   "execution_count": 77,
   "metadata": {},
   "outputs": [
    {
     "data": {
      "image/png": "[encoded data removed]",
      "text/latex": [
       "$\\displaystyle \\left(E - \\sqrt{E^{2} - m^{2}}\\right) \\cos^{2}{\\left(\\frac{\\theta}{2} \\right)}$"
      ],
      "text/plain": [
       "⎛       _________⎞        \n",
       "⎜      ╱  2    2 ⎟    2⎛θ⎞\n",
       "⎝E - ╲╱  E  - m  ⎠⋅cos ⎜─⎟\n",
       "                       ⎝2⎠"
      ]
     },
     "execution_count": 77,
     "metadata": {},
     "output_type": "execute_result"
    }
   ],
   "source": [
    "simplify(uW[0]**2)"
   ]
  },
  {
   "cell_type": "markdown",
   "metadata": {},
   "source": [
    "we obtain simple expressions for the 4 Weyl helicity spinors"
   ]
  },
  {
   "cell_type": "code",
   "execution_count": 78,
   "metadata": {},
   "outputs": [
    {
     "data": {
      "image/png": "[encoded data removed]",
      "text/latex": [
       "$\\displaystyle \\left[\\begin{matrix}\\sqrt{E - p} \\cos{\\left(\\frac{\\theta}{2} \\right)}\\\\\\sqrt{E - p} \\sin{\\left(\\frac{\\theta}{2} \\right)}\\\\\\sqrt{E + p} \\cos{\\left(\\frac{\\theta}{2} \\right)}\\\\\\sqrt{E + p} \\sin{\\left(\\frac{\\theta}{2} \\right)}\\end{matrix}\\right]$"
      ],
      "text/plain": [
       "⎡  _______    ⎛θ⎞⎤\n",
       "⎢╲╱ E - p ⋅cos⎜─⎟⎥\n",
       "⎢             ⎝2⎠⎥\n",
       "⎢                ⎥\n",
       "⎢  _______    ⎛θ⎞⎥\n",
       "⎢╲╱ E - p ⋅sin⎜─⎟⎥\n",
       "⎢             ⎝2⎠⎥\n",
       "⎢                ⎥\n",
       "⎢  _______    ⎛θ⎞⎥\n",
       "⎢╲╱ E + p ⋅cos⎜─⎟⎥\n",
       "⎢             ⎝2⎠⎥\n",
       "⎢                ⎥\n",
       "⎢  _______    ⎛θ⎞⎥\n",
       "⎢╲╱ E + p ⋅sin⎜─⎟⎥\n",
       "⎣             ⎝2⎠⎦"
      ]
     },
     "execution_count": 78,
     "metadata": {},
     "output_type": "execute_result"
    }
   ],
   "source": [
    "uWR=Matrix([[sqrt(E-p)*cos(theta/2)],[sqrt(E-p)*sin(theta/2)],\n",
    "             [sqrt(E+p)*cos(theta/2)],[sqrt(E+p)*sin(theta/2)]]);uWR"
   ]
  },
  {
   "cell_type": "code",
   "execution_count": 79,
   "metadata": {},
   "outputs": [
    {
     "data": {
      "image/png": "[encoded data removed]",
      "text/latex": [
       "$\\displaystyle \\left[\\begin{matrix}- \\sqrt{E + p} \\sin{\\left(\\frac{\\theta}{2} \\right)}\\\\\\sqrt{E + p} \\cos{\\left(\\frac{\\theta}{2} \\right)}\\\\- \\sqrt{E - p} \\sin{\\left(\\frac{\\theta}{2} \\right)}\\\\\\sqrt{E - p} \\cos{\\left(\\frac{\\theta}{2} \\right)}\\end{matrix}\\right]$"
      ],
      "text/plain": [
       "⎡   _______    ⎛θ⎞⎤\n",
       "⎢-╲╱ E + p ⋅sin⎜─⎟⎥\n",
       "⎢              ⎝2⎠⎥\n",
       "⎢                 ⎥\n",
       "⎢  _______    ⎛θ⎞ ⎥\n",
       "⎢╲╱ E + p ⋅cos⎜─⎟ ⎥\n",
       "⎢             ⎝2⎠ ⎥\n",
       "⎢                 ⎥\n",
       "⎢   _______    ⎛θ⎞⎥\n",
       "⎢-╲╱ E - p ⋅sin⎜─⎟⎥\n",
       "⎢              ⎝2⎠⎥\n",
       "⎢                 ⎥\n",
       "⎢  _______    ⎛θ⎞ ⎥\n",
       "⎢╲╱ E - p ⋅cos⎜─⎟ ⎥\n",
       "⎣             ⎝2⎠ ⎦"
      ]
     },
     "execution_count": 79,
     "metadata": {},
     "output_type": "execute_result"
    }
   ],
   "source": [
    "uWL=Matrix([[-sqrt(E+p)*sin(theta/2)],[sqrt(E+p)*cos(theta/2)],\n",
    "             [-sqrt(E-p)*sin(theta/2)],[sqrt(E-p)*cos(theta/2)]]);uWL"
   ]
  },
  {
   "cell_type": "code",
   "execution_count": 80,
   "metadata": {},
   "outputs": [
    {
     "data": {
      "image/png": "[encoded data removed]",
      "text/latex": [
       "$\\displaystyle \\left[\\begin{matrix}- \\sqrt{E - p} \\cos{\\left(\\frac{\\theta}{2} \\right)}\\\\- \\sqrt{E - p} \\sin{\\left(\\frac{\\theta}{2} \\right)}\\\\\\sqrt{E + p} \\cos{\\left(\\frac{\\theta}{2} \\right)}\\\\\\sqrt{E + p} \\sin{\\left(\\frac{\\theta}{2} \\right)}\\end{matrix}\\right]$"
      ],
      "text/plain": [
       "⎡   _______    ⎛θ⎞⎤\n",
       "⎢-╲╱ E - p ⋅cos⎜─⎟⎥\n",
       "⎢              ⎝2⎠⎥\n",
       "⎢                 ⎥\n",
       "⎢   _______    ⎛θ⎞⎥\n",
       "⎢-╲╱ E - p ⋅sin⎜─⎟⎥\n",
       "⎢              ⎝2⎠⎥\n",
       "⎢                 ⎥\n",
       "⎢  _______    ⎛θ⎞ ⎥\n",
       "⎢╲╱ E + p ⋅cos⎜─⎟ ⎥\n",
       "⎢             ⎝2⎠ ⎥\n",
       "⎢                 ⎥\n",
       "⎢  _______    ⎛θ⎞ ⎥\n",
       "⎢╲╱ E + p ⋅sin⎜─⎟ ⎥\n",
       "⎣             ⎝2⎠ ⎦"
      ]
     },
     "execution_count": 80,
     "metadata": {},
     "output_type": "execute_result"
    }
   ],
   "source": [
    "vWL=Matrix([[-sqrt(E-p)*cos(theta/2)],[-sqrt(E-p)*sin(theta/2)],\n",
    "             [sqrt(E+p)*cos(theta/2)],[sqrt(E+p)*sin(theta/2)]]);vWL"
   ]
  },
  {
   "cell_type": "code",
   "execution_count": 81,
   "metadata": {},
   "outputs": [
    {
     "data": {
      "image/png": "[encoded data removed]",
      "text/latex": [
       "$\\displaystyle \\left[\\begin{matrix}\\sqrt{E + p} \\sin{\\left(\\frac{\\theta}{2} \\right)}\\\\- \\sqrt{E + p} \\cos{\\left(\\frac{\\theta}{2} \\right)}\\\\- \\sqrt{E - p} \\sin{\\left(\\frac{\\theta}{2} \\right)}\\\\\\sqrt{E - p} \\cos{\\left(\\frac{\\theta}{2} \\right)}\\end{matrix}\\right]$"
      ],
      "text/plain": [
       "⎡  _______    ⎛θ⎞ ⎤\n",
       "⎢╲╱ E + p ⋅sin⎜─⎟ ⎥\n",
       "⎢             ⎝2⎠ ⎥\n",
       "⎢                 ⎥\n",
       "⎢   _______    ⎛θ⎞⎥\n",
       "⎢-╲╱ E + p ⋅cos⎜─⎟⎥\n",
       "⎢              ⎝2⎠⎥\n",
       "⎢                 ⎥\n",
       "⎢   _______    ⎛θ⎞⎥\n",
       "⎢-╲╱ E - p ⋅sin⎜─⎟⎥\n",
       "⎢              ⎝2⎠⎥\n",
       "⎢                 ⎥\n",
       "⎢  _______    ⎛θ⎞ ⎥\n",
       "⎢╲╱ E - p ⋅cos⎜─⎟ ⎥\n",
       "⎣             ⎝2⎠ ⎦"
      ]
     },
     "execution_count": 81,
     "metadata": {},
     "output_type": "execute_result"
    }
   ],
   "source": [
    "vWR=Matrix([[sqrt(E+p)*sin(theta/2)],[-sqrt(E+p)*cos(theta/2)],\n",
    "             [-sqrt(E-p)*sin(theta/2)],[sqrt(E-p)*cos(theta/2)]]);vWR"
   ]
  },
  {
   "cell_type": "markdown",
   "metadata": {},
   "source": [
    "The Weyl representation is particularly attractive for massless particles, because the spinors are reduced\n",
    "to 2 components only, the Dirac equation is replaced by 2 Weyl equations"
   ]
  },
  {
   "cell_type": "code",
   "execution_count": 82,
   "metadata": {},
   "outputs": [
    {
     "data": {
      "image/png": "[encoded data removed]",
      "text/latex": [
       "$\\displaystyle \\left[\\begin{matrix}- \\sqrt{2} \\sqrt{E} \\sin{\\left(\\frac{\\theta}{2} \\right)}\\\\\\sqrt{2} \\sqrt{E} \\cos{\\left(\\frac{\\theta}{2} \\right)}\\\\0\\\\0\\end{matrix}\\right]$"
      ],
      "text/plain": [
       "⎡          ⎛θ⎞⎤\n",
       "⎢-√2⋅√E⋅sin⎜─⎟⎥\n",
       "⎢          ⎝2⎠⎥\n",
       "⎢             ⎥\n",
       "⎢         ⎛θ⎞ ⎥\n",
       "⎢√2⋅√E⋅cos⎜─⎟ ⎥\n",
       "⎢         ⎝2⎠ ⎥\n",
       "⎢             ⎥\n",
       "⎢      0      ⎥\n",
       "⎢             ⎥\n",
       "⎣      0      ⎦"
      ]
     },
     "execution_count": 82,
     "metadata": {},
     "output_type": "execute_result"
    }
   ],
   "source": [
    "uWL.subs(p,E)"
   ]
  },
  {
   "cell_type": "code",
   "execution_count": 83,
   "metadata": {},
   "outputs": [
    {
     "data": {
      "image/png": "[encoded data removed]",
      "text/latex": [
       "$\\displaystyle \\left[\\begin{matrix}\\sqrt{2} \\sqrt{E} \\sin{\\left(\\frac{\\theta}{2} \\right)}\\\\- \\sqrt{2} \\sqrt{E} \\cos{\\left(\\frac{\\theta}{2} \\right)}\\\\0\\\\0\\end{matrix}\\right]$"
      ],
      "text/plain": [
       "⎡         ⎛θ⎞ ⎤\n",
       "⎢√2⋅√E⋅sin⎜─⎟ ⎥\n",
       "⎢         ⎝2⎠ ⎥\n",
       "⎢             ⎥\n",
       "⎢          ⎛θ⎞⎥\n",
       "⎢-√2⋅√E⋅cos⎜─⎟⎥\n",
       "⎢          ⎝2⎠⎥\n",
       "⎢             ⎥\n",
       "⎢      0      ⎥\n",
       "⎢             ⎥\n",
       "⎣      0      ⎦"
      ]
     },
     "execution_count": 83,
     "metadata": {},
     "output_type": "execute_result"
    }
   ],
   "source": [
    "vWR.subs(p,E)"
   ]
  },
  {
   "cell_type": "code",
   "execution_count": 116,
   "metadata": {},
   "outputs": [
    {
     "data": {
      "image/png": "[encoded data removed]",
      "text/latex": [
       "$\\displaystyle \\left[\\begin{matrix}- \\sqrt{E - p} \\sin{\\left(\\frac{\\theta}{2} \\right)}\\\\\\sqrt{E - p} \\cos{\\left(\\frac{\\theta}{2} \\right)}\\\\- \\sqrt{E + p} \\sin{\\left(\\frac{\\theta}{2} \\right)}\\\\\\sqrt{E + p} \\cos{\\left(\\frac{\\theta}{2} \\right)}\\end{matrix}\\right]$"
      ],
      "text/plain": [
       "⎡   _______    ⎛θ⎞⎤\n",
       "⎢-╲╱ E - p ⋅sin⎜─⎟⎥\n",
       "⎢              ⎝2⎠⎥\n",
       "⎢                 ⎥\n",
       "⎢  _______    ⎛θ⎞ ⎥\n",
       "⎢╲╱ E - p ⋅cos⎜─⎟ ⎥\n",
       "⎢             ⎝2⎠ ⎥\n",
       "⎢                 ⎥\n",
       "⎢   _______    ⎛θ⎞⎥\n",
       "⎢-╲╱ E + p ⋅sin⎜─⎟⎥\n",
       "⎢              ⎝2⎠⎥\n",
       "⎢                 ⎥\n",
       "⎢  _______    ⎛θ⎞ ⎥\n",
       "⎢╲╱ E + p ⋅cos⎜─⎟ ⎥\n",
       "⎣             ⎝2⎠ ⎦"
      ]
     },
     "execution_count": 116,
     "metadata": {},
     "output_type": "execute_result"
    }
   ],
   "source": [
    "-g1W*g3W*uWR"
   ]
  },
  {
   "cell_type": "code",
   "execution_count": 121,
   "metadata": {},
   "outputs": [
    {
     "data": {
      "image/png": "[encoded data removed]",
      "text/latex": [
       "$\\displaystyle \\left[\\begin{matrix}\\sqrt{E - p} \\cos{\\left(\\frac{\\theta}{2} \\right)}\\\\\\sqrt{E - p} \\sin{\\left(\\frac{\\theta}{2} \\right)}\\\\\\sqrt{E + p} \\cos{\\left(\\frac{\\theta}{2} \\right)}\\\\\\sqrt{E + p} \\sin{\\left(\\frac{\\theta}{2} \\right)}\\end{matrix}\\right]$"
      ],
      "text/plain": [
       "⎡  _______    ⎛θ⎞⎤\n",
       "⎢╲╱ E - p ⋅cos⎜─⎟⎥\n",
       "⎢             ⎝2⎠⎥\n",
       "⎢                ⎥\n",
       "⎢  _______    ⎛θ⎞⎥\n",
       "⎢╲╱ E - p ⋅sin⎜─⎟⎥\n",
       "⎢             ⎝2⎠⎥\n",
       "⎢                ⎥\n",
       "⎢  _______    ⎛θ⎞⎥\n",
       "⎢╲╱ E + p ⋅cos⎜─⎟⎥\n",
       "⎢             ⎝2⎠⎥\n",
       "⎢                ⎥\n",
       "⎢  _______    ⎛θ⎞⎥\n",
       "⎢╲╱ E + p ⋅sin⎜─⎟⎥\n",
       "⎣             ⎝2⎠⎦"
      ]
     },
     "execution_count": 121,
     "metadata": {},
     "output_type": "execute_result"
    }
   ],
   "source": [
    "uWR"
   ]
  },
  {
   "cell_type": "code",
   "execution_count": 115,
   "metadata": {},
   "outputs": [
    {
     "data": {
      "image/png": "[encoded data removed]",
      "text/latex": [
       "$\\displaystyle \\left[\\begin{matrix}0 & -1 & 0 & 0\\\\1 & 0 & 0 & 0\\\\0 & 0 & 0 & -1\\\\0 & 0 & 1 & 0\\end{matrix}\\right]$"
      ],
      "text/plain": [
       "⎡0  -1  0  0 ⎤\n",
       "⎢            ⎥\n",
       "⎢1  0   0  0 ⎥\n",
       "⎢            ⎥\n",
       "⎢0  0   0  -1⎥\n",
       "⎢            ⎥\n",
       "⎣0  0   1  0 ⎦"
      ]
     },
     "execution_count": 115,
     "metadata": {},
     "output_type": "execute_result"
    }
   ],
   "source": [
    "-g1W*g3W"
   ]
  },
  {
   "cell_type": "code",
   "execution_count": 122,
   "metadata": {},
   "outputs": [
    {
     "data": {
      "image/png": "[encoded data removed]",
      "text/latex": [
       "$\\displaystyle \\left[\\begin{matrix}\\sqrt{E - p} \\sin{\\left(\\frac{\\theta}{2} \\right)}\\\\\\sqrt{E - p} \\cos{\\left(\\frac{\\theta}{2} \\right)}\\\\\\sqrt{E + p} \\sin{\\left(\\frac{\\theta}{2} \\right)}\\\\\\sqrt{E + p} \\cos{\\left(\\frac{\\theta}{2} \\right)}\\end{matrix}\\right]$"
      ],
      "text/plain": [
       "⎡  _______    ⎛θ⎞⎤\n",
       "⎢╲╱ E - p ⋅sin⎜─⎟⎥\n",
       "⎢             ⎝2⎠⎥\n",
       "⎢                ⎥\n",
       "⎢  _______    ⎛θ⎞⎥\n",
       "⎢╲╱ E - p ⋅cos⎜─⎟⎥\n",
       "⎢             ⎝2⎠⎥\n",
       "⎢                ⎥\n",
       "⎢  _______    ⎛θ⎞⎥\n",
       "⎢╲╱ E + p ⋅sin⎜─⎟⎥\n",
       "⎢             ⎝2⎠⎥\n",
       "⎢                ⎥\n",
       "⎢  _______    ⎛θ⎞⎥\n",
       "⎢╲╱ E + p ⋅cos⎜─⎟⎥\n",
       "⎣             ⎝2⎠⎦"
      ]
     },
     "execution_count": 122,
     "metadata": {},
     "output_type": "execute_result"
    }
   ],
   "source": [
    "uWR.subs(theta,pi-theta)"
   ]
  },
  {
   "cell_type": "code",
   "execution_count": null,
   "metadata": {},
   "outputs": [],
   "source": []
  }
 ],
 "metadata": {
  "kernelspec": {
   "display_name": "Python 3 (ipykernel)",
   "language": "python",
   "name": "python3"
  },
  "language_info": {
   "codemirror_mode": {
    "name": "ipython",
    "version": 3
   },
   "file_extension": ".py",
   "mimetype": "text/x-python",
   "name": "python",
   "nbconvert_exporter": "python",
   "pygments_lexer": "ipython3",
   "version": "3.10.3"
  }
 },
 "nbformat": 4,
 "nbformat_minor": 2
}
