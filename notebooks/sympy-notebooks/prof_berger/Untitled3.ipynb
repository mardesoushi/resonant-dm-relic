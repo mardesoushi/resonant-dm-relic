{
 "cells": [
  {
   "cell_type": "code",
   "execution_count": 1,
   "id": "58d1f8d6",
   "metadata": {},
   "outputs": [],
   "source": [
    "from sympy import *"
   ]
  },
  {
   "cell_type": "code",
   "execution_count": 2,
   "id": "59d21862",
   "metadata": {},
   "outputs": [
    {
     "name": "stdout",
     "output_type": "stream",
     "text": [
      "Reading heppackv0.py (july 2022)\n",
      "\n",
      "Done\n"
     ]
    }
   ],
   "source": [
    "import heppackv0 as hep"
   ]
  },
  {
   "cell_type": "code",
   "execution_count": 3,
   "id": "b91eac15",
   "metadata": {},
   "outputs": [
    {
     "name": "stdout",
     "output_type": "stream",
     "text": [
      "The CM system is used\n"
     ]
    }
   ],
   "source": [
    "print('The CM system is used')\n",
    "E0,E1,E2,E3,p1,p3,m,M,s,x,y,z,a=symbols('E0 E1 E2 E3 p1 p3 m M s x y z a',positive=True)\n",
    "theta, theta2,theta3=symbols('theta theta2 theta3')"
   ]
  },
  {
   "cell_type": "code",
   "execution_count": 4,
   "id": "ce368121",
   "metadata": {},
   "outputs": [],
   "source": [
    "ki=[E0,0,0,0]\n",
    "pin=[E1,m,pi,pi]\n",
    "kf=[E0,0,theta,0]\n",
    "pf=[E1,m,pi-theta,pi]"
   ]
  },
  {
   "cell_type": "code",
   "execution_count": 8,
   "id": "14967498",
   "metadata": {},
   "outputs": [
    {
     "data": {
      "image/png": "[encoded data removed]",
      "text/latex": [
       "$\\displaystyle 4 E_{0} \\left(E_{1} + \\sqrt{E_{1}^{2} - m^{2}}\\right)$"
      ],
      "text/plain": [
       "     ⎛        __________⎞\n",
       "     ⎜       ╱   2    2 ⎟\n",
       "4⋅E₀⋅⎝E₁ + ╲╱  E₁  - m  ⎠"
      ]
     },
     "execution_count": 8,
     "metadata": {},
     "output_type": "execute_result"
    }
   ],
   "source": [
    "t1=simplify(hep.dotprod4(hep.ubuw(pf,-1,pin,-1),hep.ubuw(kf,-1,ki,-1)));t1"
   ]
  },
  {
   "cell_type": "code",
   "execution_count": null,
   "id": "b0161e98",
   "metadata": {},
   "outputs": [],
   "source": []
  }
 ],
 "metadata": {
  "kernelspec": {
   "display_name": "Python 3 (ipykernel)",
   "language": "python",
   "name": "python3"
  },
  "language_info": {
   "codemirror_mode": {
    "name": "ipython",
    "version": 3
   },
   "file_extension": ".py",
   "mimetype": "text/x-python",
   "name": "python",
   "nbconvert_exporter": "python",
   "pygments_lexer": "ipython3",
   "version": "3.10.3"
  }
 },
 "nbformat": 4,
 "nbformat_minor": 5
}
