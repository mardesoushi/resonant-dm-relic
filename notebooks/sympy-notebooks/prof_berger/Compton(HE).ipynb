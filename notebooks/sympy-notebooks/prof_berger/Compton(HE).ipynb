{
 "cells": [
  {
   "cell_type": "code",
   "execution_count": 1,
   "metadata": {},
   "outputs": [
    {
     "name": "stdout",
     "output_type": "stream",
     "text": [
      "Reading heppackv0.py (March 2023)\n",
      "\n",
      "Done\n"
     ]
    }
   ],
   "source": [
    "from sympy import *\n",
    "import heppackv0 as hep"
   ]
  },
  {
   "cell_type": "markdown",
   "metadata": {},
   "source": [
    "## 1) Kinematics\n",
    "\n",
    "Amplitudes and cross section for Compton scattering, $\\gamma+e\\rightarrow\\gamma+e$ in the high energy approximation,\n",
    "i.e. $m=0$ where $m$ is the electron mass. Energy momentum conservation reads $k_i+p_i=k_f+p_f$. The CM system is used, with photon energy and angle given by $p,\\theta$."
   ]
  },
  {
   "cell_type": "code",
   "execution_count": 2,
   "metadata": {},
   "outputs": [],
   "source": [
    "theta,u=symbols('theta u',real=True)\n",
    "s,p=symbols('s p',positive=True)"
   ]
  },
  {
   "cell_type": "code",
   "execution_count": 3,
   "metadata": {},
   "outputs": [],
   "source": [
    "ki=[p,0,0,0]\n",
    "pin=[p,0,pi,pi]\n",
    "kf=[p,0,theta,0]\n",
    "pf=[p,0,pi-theta,pi]"
   ]
  },
  {
   "cell_type": "markdown",
   "metadata": {},
   "source": [
    "CM energy squared $s=(k_i+p_i)^2$ and four momentum transfer squared to the recoil electron $u=(p_f-k_i)^2$ are expressed by CM variables:"
   ]
  },
  {
   "cell_type": "code",
   "execution_count": 4,
   "metadata": {},
   "outputs": [
    {
     "name": "stdout",
     "output_type": "stream",
     "text": [
      "sCM= \n"
     ]
    },
    {
     "data": {
      "image/png": "[encoded data removed]",
      "text/latex": [
       "$\\displaystyle 4 p^{2}$"
      ],
      "text/plain": [
       "   2\n",
       "4⋅p "
      ]
     },
     "execution_count": 4,
     "metadata": {},
     "output_type": "execute_result"
    }
   ],
   "source": [
    "sCM=4*p**2;print('sCM= ');sCM"
   ]
  },
  {
   "cell_type": "code",
   "execution_count": 5,
   "metadata": {},
   "outputs": [
    {
     "data": {
      "image/png": "[encoded data removed]",
      "text/latex": [
       "$\\displaystyle - 2 p^{2} \\left(\\cos{\\left(\\theta \\right)} + 1\\right)$"
      ],
      "text/plain": [
       "    2             \n",
       "-2⋅p ⋅(cos(θ) + 1)"
      ]
     },
     "execution_count": 5,
     "metadata": {},
     "output_type": "execute_result"
    }
   ],
   "source": [
    "uCM=-2*hep.dotprod4(hep.fourvec(ki),hep.fourvec(pf));uCM"
   ]
  },
  {
   "cell_type": "code",
   "execution_count": 6,
   "metadata": {},
   "outputs": [
    {
     "name": "stdout",
     "output_type": "stream",
     "text": [
      "uCM=\n"
     ]
    },
    {
     "data": {
      "image/png": "[encoded data removed]",
      "text/latex": [
       "$\\displaystyle - 4 p^{2} \\cos^{2}{\\left(\\frac{\\theta}{2} \\right)}$"
      ],
      "text/plain": [
       "    2    2⎛θ⎞\n",
       "-4⋅p ⋅cos ⎜─⎟\n",
       "          ⎝2⎠"
      ]
     },
     "execution_count": 6,
     "metadata": {},
     "output_type": "execute_result"
    }
   ],
   "source": [
    "uCM=-4*p**2*cos(theta/2)**2;print('uCM=');uCM"
   ]
  },
  {
   "cell_type": "markdown",
   "metadata": {},
   "source": [
    "## 2) Amplitudes and cross section\n",
    "\n",
    "The scattering amplitude is determined by the sum of the $s$ channel and $u$ channel Feynman graph:\n",
    "\n",
    "$$T_{{fi}}=e^{2}\\bar{u}(p_f,s_f)\\left(\\not\\!\\varepsilon_f^*\\frac{\\not\\! p_i+\\not\\! k_i+m}{(p_i+k_i)^{2}-m^{2}}\\not\\!\\varepsilon_i+\\not\\!\\varepsilon_i\\frac{\\not\\! p_i-\\not\\! k_f+m}{(p_i-k_f)^{2}-m^{2}}\\not\\!\\varepsilon_f^*\\right)u(p,s_i)$$\n",
    "\n",
    "The direct evaluation in the notebook is cumbersome. heppackv0.py contains the necessary procedures for the 8 (out of 16) independent helicity amplitudes $T_{fi}=T(\\lambda_3 \\lambda_4;\\lambda_1 \\lambda_2)$.\n",
    "\n",
    "1) $T(--;--):$"
   ]
  },
  {
   "cell_type": "code",
   "execution_count": 7,
   "metadata": {
    "scrolled": true
   },
   "outputs": [
    {
     "name": "stdout",
     "output_type": "stream",
     "text": [
      "t1=\n"
     ]
    },
    {
     "data": {
      "image/png": "[encoded data removed]",
      "text/latex": [
       "$\\displaystyle \\frac{4 \\cos{\\left(\\frac{\\theta}{2} \\right)}}{\\cos{\\left(\\theta \\right)} + 1}$"
      ],
      "text/plain": [
       "      ⎛θ⎞ \n",
       " 4⋅cos⎜─⎟ \n",
       "      ⎝2⎠ \n",
       "──────────\n",
       "cos(θ) + 1"
      ]
     },
     "execution_count": 7,
     "metadata": {},
     "output_type": "execute_result"
    }
   ],
   "source": [
    "t1=simplify(hep.compt(ki, -1, pin, -1, kf, -1, pf, -1));print('t1=');t1"
   ]
  },
  {
   "cell_type": "code",
   "execution_count": 8,
   "metadata": {},
   "outputs": [
    {
     "data": {
      "image/png": "[encoded data removed]",
      "text/latex": [
       "$\\displaystyle \\frac{2}{\\cos{\\left(\\frac{\\theta}{2} \\right)}}$"
      ],
      "text/plain": [
       "  2   \n",
       "──────\n",
       "   ⎛θ⎞\n",
       "cos⎜─⎟\n",
       "   ⎝2⎠"
      ]
     },
     "execution_count": 8,
     "metadata": {},
     "output_type": "execute_result"
    }
   ],
   "source": [
    "t1=2/cos(theta/2);t1"
   ]
  },
  {
   "cell_type": "code",
   "execution_count": 9,
   "metadata": {},
   "outputs": [
    {
     "data": {
      "image/png": "[encoded data removed]",
      "text/latex": [
       "$\\displaystyle 2 \\sqrt{s} \\sqrt{- \\frac{1}{u}}$"
      ],
      "text/plain": [
       "         _____\n",
       "        ╱ -1  \n",
       "2⋅√s⋅  ╱  ─── \n",
       "     ╲╱    u  "
      ]
     },
     "execution_count": 9,
     "metadata": {},
     "output_type": "execute_result"
    }
   ],
   "source": [
    "t1v1=2*sqrt(s/-u);t1v1"
   ]
  },
  {
   "cell_type": "markdown",
   "metadata": {},
   "source": [
    "2) $T(-+;--):$"
   ]
  },
  {
   "cell_type": "code",
   "execution_count": 10,
   "metadata": {},
   "outputs": [
    {
     "name": "stdout",
     "output_type": "stream",
     "text": [
      "t2\n"
     ]
    },
    {
     "data": {
      "image/png": "[encoded data removed]",
      "text/latex": [
       "$\\displaystyle 0$"
      ],
      "text/plain": [
       "0"
      ]
     },
     "execution_count": 10,
     "metadata": {},
     "output_type": "execute_result"
    }
   ],
   "source": [
    "t2=simplify(hep.compt(ki, -1, pin, -1, kf, -1, pf, 1));print('t2');t2"
   ]
  },
  {
   "cell_type": "markdown",
   "metadata": {},
   "source": [
    "3) $T(++;--):$"
   ]
  },
  {
   "cell_type": "code",
   "execution_count": 11,
   "metadata": {},
   "outputs": [
    {
     "name": "stdout",
     "output_type": "stream",
     "text": [
      "t3\n"
     ]
    },
    {
     "data": {
      "image/png": "[encoded data removed]",
      "text/latex": [
       "$\\displaystyle 0$"
      ],
      "text/plain": [
       "0"
      ]
     },
     "execution_count": 11,
     "metadata": {},
     "output_type": "execute_result"
    }
   ],
   "source": [
    "t3=simplify(hep.compt(ki, -1, pin, -1, kf, 1, pf, 1));print('t3');t3"
   ]
  },
  {
   "cell_type": "markdown",
   "metadata": {},
   "source": [
    "4) $T(+-;--):$"
   ]
  },
  {
   "cell_type": "code",
   "execution_count": 12,
   "metadata": {},
   "outputs": [
    {
     "name": "stdout",
     "output_type": "stream",
     "text": [
      "t4\n"
     ]
    },
    {
     "data": {
      "image/png": "[encoded data removed]",
      "text/latex": [
       "$\\displaystyle 0$"
      ],
      "text/plain": [
       "0"
      ]
     },
     "execution_count": 12,
     "metadata": {},
     "output_type": "execute_result"
    }
   ],
   "source": [
    "t4=simplify(hep.compt(ki, -1, pin, -1, kf, 1, pf, -1));print('t4');t4"
   ]
  },
  {
   "cell_type": "markdown",
   "metadata": {},
   "source": [
    "5) $T(--;+-):$"
   ]
  },
  {
   "cell_type": "code",
   "execution_count": 13,
   "metadata": {},
   "outputs": [
    {
     "name": "stdout",
     "output_type": "stream",
     "text": [
      "t5\n"
     ]
    },
    {
     "data": {
      "image/png": "[encoded data removed]",
      "text/latex": [
       "$\\displaystyle 0$"
      ],
      "text/plain": [
       "0"
      ]
     },
     "execution_count": 13,
     "metadata": {},
     "output_type": "execute_result"
    }
   ],
   "source": [
    "t5=simplify(hep.compt(ki, 1, pin, -1, kf, -1, pf, -1));print('t5');t5"
   ]
  },
  {
   "cell_type": "markdown",
   "metadata": {},
   "source": [
    "6) $T(-+;+-):$"
   ]
  },
  {
   "cell_type": "code",
   "execution_count": 14,
   "metadata": {},
   "outputs": [
    {
     "name": "stdout",
     "output_type": "stream",
     "text": [
      "t6\n"
     ]
    },
    {
     "data": {
      "image/png": "[encoded data removed]",
      "text/latex": [
       "$\\displaystyle 0$"
      ],
      "text/plain": [
       "0"
      ]
     },
     "execution_count": 14,
     "metadata": {},
     "output_type": "execute_result"
    }
   ],
   "source": [
    "t6=simplify(hep.compt(ki, 1, pin, -1, kf, -1, pf, 1));print('t6');t6"
   ]
  },
  {
   "cell_type": "markdown",
   "metadata": {},
   "source": [
    "7) $T(++;+-):$"
   ]
  },
  {
   "cell_type": "code",
   "execution_count": 15,
   "metadata": {},
   "outputs": [
    {
     "name": "stdout",
     "output_type": "stream",
     "text": [
      "t7\n"
     ]
    },
    {
     "data": {
      "image/png": "[encoded data removed]",
      "text/latex": [
       "$\\displaystyle 0$"
      ],
      "text/plain": [
       "0"
      ]
     },
     "execution_count": 15,
     "metadata": {},
     "output_type": "execute_result"
    }
   ],
   "source": [
    "t7=simplify(hep.compt(ki, 1, pin, -1, kf, 1, pf, 1));print('t7');t7"
   ]
  },
  {
   "cell_type": "markdown",
   "metadata": {},
   "source": [
    "8) $T(+-;+-):$"
   ]
  },
  {
   "cell_type": "code",
   "execution_count": 16,
   "metadata": {},
   "outputs": [
    {
     "name": "stdout",
     "output_type": "stream",
     "text": [
      "t8\n"
     ]
    },
    {
     "data": {
      "image/png": "[encoded data removed]",
      "text/latex": [
       "$\\displaystyle 2 \\cos{\\left(\\frac{\\theta}{2} \\right)}$"
      ],
      "text/plain": [
       "     ⎛θ⎞\n",
       "2⋅cos⎜─⎟\n",
       "     ⎝2⎠"
      ]
     },
     "execution_count": 16,
     "metadata": {},
     "output_type": "execute_result"
    }
   ],
   "source": [
    "t8=simplify(hep.compt(ki, 1, pin, -1, kf, 1, pf, -1));print('t8');t8"
   ]
  },
  {
   "cell_type": "code",
   "execution_count": 17,
   "metadata": {},
   "outputs": [
    {
     "name": "stdout",
     "output_type": "stream",
     "text": [
      "invariant t8v1= \n"
     ]
    },
    {
     "data": {
      "image/png": "[encoded data removed]",
      "text/latex": [
       "$\\displaystyle \\frac{2 \\sqrt{- u}}{\\sqrt{s}}$"
      ],
      "text/plain": [
       "    ____\n",
       "2⋅╲╱ -u \n",
       "────────\n",
       "   √s   "
      ]
     },
     "execution_count": 17,
     "metadata": {},
     "output_type": "execute_result"
    }
   ],
   "source": [
    "t8v1=2*sqrt(-u/s);print('invariant t8v1= ');t8v1"
   ]
  },
  {
   "cell_type": "markdown",
   "metadata": {},
   "source": [
    "Squaring and averaging yields "
   ]
  },
  {
   "cell_type": "code",
   "execution_count": 18,
   "metadata": {},
   "outputs": [
    {
     "data": {
      "image/png": "[encoded data removed]",
      "text/latex": [
       "$\\displaystyle - \\frac{2 s}{u} - \\frac{2 u}{s}$"
      ],
      "text/plain": [
       "  2⋅s   2⋅u\n",
       "- ─── - ───\n",
       "   u     s "
      ]
     },
     "execution_count": 18,
     "metadata": {},
     "output_type": "execute_result"
    }
   ],
   "source": [
    "Tsqav=(t1v1**2+t8v1**2)/2;Tsqav"
   ]
  },
  {
   "cell_type": "markdown",
   "metadata": {},
   "source": [
    "The cross section $d\\sigma/dt$ is obtained by multiplication with the kinematic factor $1/16\\pi s^2$ and the charge\n",
    "factor $e^4=16\\pi^2\\alpha^2$ with the final result\n",
    "\n",
    "$$\\frac{\\mathrm{d}\\sigma}{\\mathrm{d}t}(\\gamma e^{-}\\rightarrow\\gamma e^{-})=\\frac{2\\pi\\alpha^{2}}{s^{2}}\\left(\\frac{-u}{s}+\\frac{s}{-u}\\right)\\enspace.$$\n",
    "\n"
   ]
  },
  {
   "cell_type": "markdown",
   "metadata": {},
   "source": [
    "Addendum:  test of photon polarization vectors $\\epsilon^\\mu$"
   ]
  },
  {
   "cell_type": "code",
   "execution_count": 19,
   "metadata": {},
   "outputs": [],
   "source": [
    "phi=symbols('phi',real=True)"
   ]
  },
  {
   "cell_type": "code",
   "execution_count": 20,
   "metadata": {},
   "outputs": [
    {
     "data": {
      "image/png": "[encoded data removed]",
      "text/latex": [
       "$\\displaystyle \\left[ p, \\  0, \\  \\theta, \\  \\phi\\right]$"
      ],
      "text/plain": [
       "[p, 0, θ, φ]"
      ]
     },
     "execution_count": 20,
     "metadata": {},
     "output_type": "execute_result"
    }
   ],
   "source": [
    "ktest=[p,0,theta,phi];ktest"
   ]
  },
  {
   "cell_type": "code",
   "execution_count": 21,
   "metadata": {},
   "outputs": [
    {
     "data": {
      "image/png": "[encoded data removed]",
      "text/latex": [
       "$\\displaystyle \\left[ 0, \\  \\frac{\\sqrt{2} \\left(- \\sin^{2}{\\left(\\frac{\\theta}{2} \\right)} + \\cos^{2}{\\left(\\frac{\\theta}{2} \\right)}\\right) \\cos{\\left(\\phi \\right)}}{2} - \\frac{\\sqrt{2} i \\sin{\\left(\\phi \\right)}}{2}, \\  \\frac{\\sqrt{2} \\left(- \\sin^{2}{\\left(\\frac{\\theta}{2} \\right)} + \\cos^{2}{\\left(\\frac{\\theta}{2} \\right)}\\right) \\sin{\\left(\\phi \\right)}}{2} + \\frac{\\sqrt{2} i \\cos{\\left(\\phi \\right)}}{2}, \\  - \\sqrt{2} \\sin{\\left(\\frac{\\theta}{2} \\right)} \\cos{\\left(\\frac{\\theta}{2} \\right)}\\right]$"
      ],
      "text/plain": [
       "⎡      ⎛     2⎛θ⎞      2⎛θ⎞⎞                          ⎛     2⎛θ⎞      2⎛θ⎞⎞   \n",
       "⎢   √2⋅⎜- sin ⎜─⎟ + cos ⎜─⎟⎟⋅cos(φ)                √2⋅⎜- sin ⎜─⎟ + cos ⎜─⎟⎟⋅si\n",
       "⎢      ⎝      ⎝2⎠       ⎝2⎠⎠          √2⋅ⅈ⋅sin(φ)     ⎝      ⎝2⎠       ⎝2⎠⎠   \n",
       "⎢0, ─────────────────────────────── - ───────────, ───────────────────────────\n",
       "⎣                  2                       2                      2           \n",
       "\n",
       "                                     ⎤\n",
       "n(φ)                                 ⎥\n",
       "       √2⋅ⅈ⋅cos(φ)         ⎛θ⎞    ⎛θ⎞⎥\n",
       "──── + ───────────, -√2⋅sin⎜─⎟⋅cos⎜─⎟⎥\n",
       "            2              ⎝2⎠    ⎝2⎠⎦"
      ]
     },
     "execution_count": 21,
     "metadata": {},
     "output_type": "execute_result"
    }
   ],
   "source": [
    "hep.pol(ktest,1)"
   ]
  },
  {
   "cell_type": "code",
   "execution_count": 24,
   "metadata": {},
   "outputs": [
    {
     "data": {
      "image/png": "[encoded data removed]",
      "text/latex": [
       "$\\displaystyle \\left[ 0, \\  \\frac{\\sqrt{2}}{2}, \\  - \\frac{\\sqrt{2} i}{2}, \\  0\\right]$"
      ],
      "text/plain": [
       "⎡   √2  -√2⋅ⅈ    ⎤\n",
       "⎢0, ──, ──────, 0⎥\n",
       "⎣   2     2      ⎦"
      ]
     },
     "execution_count": 24,
     "metadata": {},
     "output_type": "execute_result"
    }
   ],
   "source": [
    "hep.polbar(ki,1)"
   ]
  },
  {
   "cell_type": "code",
   "execution_count": null,
   "metadata": {},
   "outputs": [],
   "source": []
  },
  {
   "cell_type": "code",
   "execution_count": null,
   "metadata": {},
   "outputs": [],
   "source": []
  }
 ],
 "metadata": {
  "kernelspec": {
   "display_name": "Python 3 (ipykernel)",
   "language": "python",
   "name": "python3"
  },
  "language_info": {
   "codemirror_mode": {
    "name": "ipython",
    "version": 3
   },
   "file_extension": ".py",
   "mimetype": "text/x-python",
   "name": "python",
   "nbconvert_exporter": "python",
   "pygments_lexer": "ipython3",
   "version": "3.10.3"
  }
 },
 "nbformat": 4,
 "nbformat_minor": 2
}
