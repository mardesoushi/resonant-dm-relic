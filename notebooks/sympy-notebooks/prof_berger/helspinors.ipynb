{
 "cells": [
  {
   "cell_type": "code",
   "execution_count": 1,
   "id": "d572d372",
   "metadata": {},
   "outputs": [
    {
     "name": "stdout",
     "output_type": "stream",
     "text": [
      "Reading heppackv0.py (july 2022)\n",
      "\n",
      "Done\n"
     ]
    }
   ],
   "source": [
    "from sympy import *\n",
    "import heppackv0 as hep"
   ]
  },
  {
   "cell_type": "code",
   "execution_count": 2,
   "id": "4020f255",
   "metadata": {},
   "outputs": [
    {
     "data": {
      "image/png": "[encoded data removed]",
      "text/latex": [
       "$\\displaystyle \\left[\\begin{matrix}0 & 1\\\\1 & 0\\end{matrix}\\right]$"
      ],
      "text/plain": [
       "⎡0  1⎤\n",
       "⎢    ⎥\n",
       "⎣1  0⎦"
      ]
     },
     "execution_count": 2,
     "metadata": {},
     "output_type": "execute_result"
    }
   ],
   "source": [
    "hep.sig1"
   ]
  },
  {
   "cell_type": "code",
   "execution_count": 3,
   "id": "7376442b",
   "metadata": {},
   "outputs": [
    {
     "data": {
      "image/png": "[encoded data removed]",
      "text/latex": [
       "$\\displaystyle \\left[\\begin{matrix}0 & - i\\\\i & 0\\end{matrix}\\right]$"
      ],
      "text/plain": [
       "⎡0  -ⅈ⎤\n",
       "⎢     ⎥\n",
       "⎣ⅈ  0 ⎦"
      ]
     },
     "execution_count": 3,
     "metadata": {},
     "output_type": "execute_result"
    }
   ],
   "source": [
    "hep.sig2"
   ]
  },
  {
   "cell_type": "code",
   "execution_count": 4,
   "id": "1f40849d",
   "metadata": {},
   "outputs": [
    {
     "data": {
      "image/png": "[encoded data removed]",
      "text/latex": [
       "$\\displaystyle \\left[\\begin{matrix}1 & 0\\\\0 & -1\\end{matrix}\\right]$"
      ],
      "text/plain": [
       "⎡1  0 ⎤\n",
       "⎢     ⎥\n",
       "⎣0  -1⎦"
      ]
     },
     "execution_count": 4,
     "metadata": {},
     "output_type": "execute_result"
    }
   ],
   "source": [
    "hep.sig3"
   ]
  },
  {
   "cell_type": "code",
   "execution_count": 35,
   "id": "e8d8c39c",
   "metadata": {},
   "outputs": [],
   "source": [
    "theta,phi,theta1,chi3=symbols('theta phi theta1 chi3',real=True)"
   ]
  },
  {
   "cell_type": "code",
   "execution_count": 12,
   "id": "1f155923",
   "metadata": {},
   "outputs": [
    {
     "data": {
      "image/png": "[encoded data removed]",
      "text/latex": [
       "$\\displaystyle \\left( 1, \\  0, \\  \\theta, \\  \\phi\\right)$"
      ],
      "text/plain": [
       "(1, 0, θ, φ)"
      ]
     },
     "execution_count": 12,
     "metadata": {},
     "output_type": "execute_result"
    }
   ],
   "source": [
    "nn=(1,0,theta,phi);nn"
   ]
  },
  {
   "cell_type": "code",
   "execution_count": 13,
   "id": "76b46633",
   "metadata": {},
   "outputs": [
    {
     "data": {
      "image/png": "[encoded data removed]",
      "text/latex": [
       "$\\displaystyle \\left[ 1, \\  2 \\sin{\\left(\\frac{\\theta}{2} \\right)} \\cos{\\left(\\phi \\right)} \\cos{\\left(\\frac{\\theta}{2} \\right)}, \\  2 \\sin{\\left(\\phi \\right)} \\sin{\\left(\\frac{\\theta}{2} \\right)} \\cos{\\left(\\frac{\\theta}{2} \\right)}, \\  - \\sin^{2}{\\left(\\frac{\\theta}{2} \\right)} + \\cos^{2}{\\left(\\frac{\\theta}{2} \\right)}\\right]$"
      ],
      "text/plain": [
       "⎡        ⎛θ⎞           ⎛θ⎞              ⎛θ⎞    ⎛θ⎞       2⎛θ⎞      2⎛θ⎞⎤\n",
       "⎢1, 2⋅sin⎜─⎟⋅cos(φ)⋅cos⎜─⎟, 2⋅sin(φ)⋅sin⎜─⎟⋅cos⎜─⎟, - sin ⎜─⎟ + cos ⎜─⎟⎥\n",
       "⎣        ⎝2⎠           ⎝2⎠              ⎝2⎠    ⎝2⎠        ⎝2⎠       ⎝2⎠⎦"
      ]
     },
     "execution_count": 13,
     "metadata": {},
     "output_type": "execute_result"
    }
   ],
   "source": [
    "nvec=hep.fourvec(nn);nvec"
   ]
  },
  {
   "cell_type": "code",
   "execution_count": 14,
   "id": "24343142",
   "metadata": {},
   "outputs": [
    {
     "data": {
      "image/png": "[encoded data removed]",
      "text/latex": [
       "$\\displaystyle 2 \\sin{\\left(\\frac{\\theta}{2} \\right)} \\cos{\\left(\\phi \\right)} \\cos{\\left(\\frac{\\theta}{2} \\right)}$"
      ],
      "text/plain": [
       "     ⎛θ⎞           ⎛θ⎞\n",
       "2⋅sin⎜─⎟⋅cos(φ)⋅cos⎜─⎟\n",
       "     ⎝2⎠           ⎝2⎠"
      ]
     },
     "execution_count": 14,
     "metadata": {},
     "output_type": "execute_result"
    }
   ],
   "source": [
    "nvec[1]"
   ]
  },
  {
   "cell_type": "code",
   "execution_count": 15,
   "id": "13b459a5",
   "metadata": {},
   "outputs": [
    {
     "data": {
      "image/png": "[encoded data removed]",
      "text/latex": [
       "$\\displaystyle \\left[\\begin{matrix}- \\sin^{2}{\\left(\\frac{\\theta}{2} \\right)} + \\cos^{2}{\\left(\\frac{\\theta}{2} \\right)} & - 2 i \\sin{\\left(\\phi \\right)} \\sin{\\left(\\frac{\\theta}{2} \\right)} \\cos{\\left(\\frac{\\theta}{2} \\right)} + 2 \\sin{\\left(\\frac{\\theta}{2} \\right)} \\cos{\\left(\\phi \\right)} \\cos{\\left(\\frac{\\theta}{2} \\right)}\\\\2 i \\sin{\\left(\\phi \\right)} \\sin{\\left(\\frac{\\theta}{2} \\right)} \\cos{\\left(\\frac{\\theta}{2} \\right)} + 2 \\sin{\\left(\\frac{\\theta}{2} \\right)} \\cos{\\left(\\phi \\right)} \\cos{\\left(\\frac{\\theta}{2} \\right)} & \\sin^{2}{\\left(\\frac{\\theta}{2} \\right)} - \\cos^{2}{\\left(\\frac{\\theta}{2} \\right)}\\end{matrix}\\right]$"
      ],
      "text/plain": [
       "⎡                    2⎛θ⎞      2⎛θ⎞                                 ⎛θ⎞    ⎛θ⎞\n",
       "⎢               - sin ⎜─⎟ + cos ⎜─⎟                 - 2⋅ⅈ⋅sin(φ)⋅sin⎜─⎟⋅cos⎜─⎟\n",
       "⎢                     ⎝2⎠       ⎝2⎠                                 ⎝2⎠    ⎝2⎠\n",
       "⎢                                                                             \n",
       "⎢              ⎛θ⎞    ⎛θ⎞        ⎛θ⎞           ⎛θ⎞                      2⎛θ⎞  \n",
       "⎢2⋅ⅈ⋅sin(φ)⋅sin⎜─⎟⋅cos⎜─⎟ + 2⋅sin⎜─⎟⋅cos(φ)⋅cos⎜─⎟                   sin ⎜─⎟ -\n",
       "⎣              ⎝2⎠    ⎝2⎠        ⎝2⎠           ⎝2⎠                       ⎝2⎠  \n",
       "\n",
       "        ⎛θ⎞           ⎛θ⎞⎤\n",
       " + 2⋅sin⎜─⎟⋅cos(φ)⋅cos⎜─⎟⎥\n",
       "        ⎝2⎠           ⎝2⎠⎥\n",
       "                         ⎥\n",
       "    2⎛θ⎞                 ⎥\n",
       " cos ⎜─⎟                 ⎥\n",
       "     ⎝2⎠                 ⎦"
      ]
     },
     "execution_count": 15,
     "metadata": {},
     "output_type": "execute_result"
    }
   ],
   "source": [
    "sigmaln=hep.sig1*nvec[1]+hep.sig2*nvec[2]+hep.sig3*nvec[3];sigmaln"
   ]
  },
  {
   "cell_type": "code",
   "execution_count": 39,
   "id": "329f24f9",
   "metadata": {},
   "outputs": [
    {
     "data": {
      "image/png": "[encoded data removed]",
      "text/latex": [
       "$\\displaystyle \\left[\\begin{matrix}\\cos{\\left(\\frac{\\theta}{2} \\right)}\\\\e^{i \\phi} \\sin{\\left(\\frac{\\theta}{2} \\right)}\\end{matrix}\\right]$"
      ],
      "text/plain": [
       "⎡     ⎛θ⎞   ⎤\n",
       "⎢  cos⎜─⎟   ⎥\n",
       "⎢     ⎝2⎠   ⎥\n",
       "⎢           ⎥\n",
       "⎢ ⅈ⋅φ    ⎛θ⎞⎥\n",
       "⎢ℯ   ⋅sin⎜─⎟⎥\n",
       "⎣        ⎝2⎠⎦"
      ]
     },
     "execution_count": 39,
     "metadata": {},
     "output_type": "execute_result"
    }
   ],
   "source": [
    "chi1=hep.chi1(theta,phi);chi1"
   ]
  },
  {
   "cell_type": "code",
   "execution_count": 24,
   "id": "6fe72932",
   "metadata": {},
   "outputs": [
    {
     "data": {
      "image/png": "[encoded data removed]",
      "text/latex": [
       "$\\displaystyle \\left[\\begin{matrix}\\left(\\sin^{2}{\\left(\\frac{\\theta}{2} \\right)} + \\cos^{2}{\\left(\\frac{\\theta}{2} \\right)}\\right) \\cos{\\left(\\frac{\\theta}{2} \\right)}\\\\\\left(2 e^{i \\phi} \\cos^{2}{\\left(\\frac{\\theta}{2} \\right)} - e^{i \\phi} \\cos{\\left(\\theta \\right)}\\right) \\sin{\\left(\\frac{\\theta}{2} \\right)}\\end{matrix}\\right]$"
      ],
      "text/plain": [
       "⎡     ⎛   2⎛θ⎞      2⎛θ⎞⎞    ⎛θ⎞      ⎤\n",
       "⎢     ⎜sin ⎜─⎟ + cos ⎜─⎟⎟⋅cos⎜─⎟      ⎥\n",
       "⎢     ⎝    ⎝2⎠       ⎝2⎠⎠    ⎝2⎠      ⎥\n",
       "⎢                                     ⎥\n",
       "⎢⎛   ⅈ⋅φ    2⎛θ⎞    ⅈ⋅φ       ⎞    ⎛θ⎞⎥\n",
       "⎢⎜2⋅ℯ   ⋅cos ⎜─⎟ - ℯ   ⋅cos(θ)⎟⋅sin⎜─⎟⎥\n",
       "⎣⎝           ⎝2⎠              ⎠    ⎝2⎠⎦"
      ]
     },
     "execution_count": 24,
     "metadata": {},
     "output_type": "execute_result"
    }
   ],
   "source": [
    "res=simplify(sigmaln*hep.chi1(theta,phi));res"
   ]
  },
  {
   "cell_type": "code",
   "execution_count": 25,
   "id": "6a2def24",
   "metadata": {},
   "outputs": [
    {
     "data": {
      "image/png": "[encoded data removed]",
      "text/latex": [
       "$\\displaystyle \\left(2 e^{i \\phi} \\cos^{2}{\\left(\\frac{\\theta}{2} \\right)} - e^{i \\phi} \\cos{\\left(\\theta \\right)}\\right) \\sin{\\left(\\frac{\\theta}{2} \\right)}$"
      ],
      "text/plain": [
       "⎛   ⅈ⋅φ    2⎛θ⎞    ⅈ⋅φ       ⎞    ⎛θ⎞\n",
       "⎜2⋅ℯ   ⋅cos ⎜─⎟ - ℯ   ⋅cos(θ)⎟⋅sin⎜─⎟\n",
       "⎝           ⎝2⎠              ⎠    ⎝2⎠"
      ]
     },
     "execution_count": 25,
     "metadata": {},
     "output_type": "execute_result"
    }
   ],
   "source": [
    "res[1]"
   ]
  },
  {
   "cell_type": "code",
   "execution_count": 26,
   "id": "37cc59ac",
   "metadata": {},
   "outputs": [
    {
     "data": {
      "image/png": "[encoded data removed]",
      "text/latex": [
       "$\\displaystyle e^{i \\phi} \\sin{\\left(\\frac{\\theta}{2} \\right)}$"
      ],
      "text/plain": [
       " ⅈ⋅φ    ⎛θ⎞\n",
       "ℯ   ⋅sin⎜─⎟\n",
       "        ⎝2⎠"
      ]
     },
     "execution_count": 26,
     "metadata": {},
     "output_type": "execute_result"
    }
   ],
   "source": [
    "simplify(res[1])"
   ]
  },
  {
   "cell_type": "code",
   "execution_count": 27,
   "id": "cb4f3f70",
   "metadata": {},
   "outputs": [
    {
     "data": {
      "image/png": "[encoded data removed]",
      "text/latex": [
       "$\\displaystyle \\left[\\begin{matrix}\\cos{\\left(\\frac{\\theta}{2} \\right)}\\\\e^{i \\phi} \\sin{\\left(\\frac{\\theta}{2} \\right)}\\end{matrix}\\right]$"
      ],
      "text/plain": [
       "⎡     ⎛θ⎞   ⎤\n",
       "⎢  cos⎜─⎟   ⎥\n",
       "⎢     ⎝2⎠   ⎥\n",
       "⎢           ⎥\n",
       "⎢ ⅈ⋅φ    ⎛θ⎞⎥\n",
       "⎢ℯ   ⋅sin⎜─⎟⎥\n",
       "⎣        ⎝2⎠⎦"
      ]
     },
     "execution_count": 27,
     "metadata": {},
     "output_type": "execute_result"
    }
   ],
   "source": [
    "simplify(res)"
   ]
  },
  {
   "cell_type": "code",
   "execution_count": 32,
   "id": "c23db6d4",
   "metadata": {},
   "outputs": [
    {
     "data": {
      "image/png": "[encoded data removed]",
      "text/latex": [
       "$\\displaystyle \\left[\\begin{matrix}\\cos{\\left(\\frac{\\theta}{2} \\right)}\\\\e^{i \\phi} \\sin{\\left(\\frac{\\theta}{2} \\right)}\\end{matrix}\\right]$"
      ],
      "text/plain": [
       "⎡     ⎛θ⎞   ⎤\n",
       "⎢  cos⎜─⎟   ⎥\n",
       "⎢     ⎝2⎠   ⎥\n",
       "⎢           ⎥\n",
       "⎢ ⅈ⋅φ    ⎛θ⎞⎥\n",
       "⎢ℯ   ⋅sin⎜─⎟⎥\n",
       "⎣        ⎝2⎠⎦"
      ]
     },
     "execution_count": 32,
     "metadata": {},
     "output_type": "execute_result"
    }
   ],
   "source": [
    "test=chi1;test"
   ]
  },
  {
   "cell_type": "code",
   "execution_count": 34,
   "id": "0d7710cc",
   "metadata": {},
   "outputs": [
    {
     "data": {
      "image/png": "[encoded data removed]",
      "text/latex": [
       "$\\displaystyle \\theta_{1}$"
      ],
      "text/plain": [
       "θ₁"
      ]
     },
     "execution_count": 34,
     "metadata": {},
     "output_type": "execute_result"
    }
   ],
   "source": [
    "test=theta1;test"
   ]
  },
  {
   "cell_type": "code",
   "execution_count": 36,
   "id": "d3cdcc84",
   "metadata": {},
   "outputs": [
    {
     "data": {
      "image/png": "[encoded data removed]",
      "text/latex": [
       "$\\displaystyle \\chi_{3}$"
      ],
      "text/plain": [
       "χ₃"
      ]
     },
     "execution_count": 36,
     "metadata": {},
     "output_type": "execute_result"
    }
   ],
   "source": [
    "test=chi3;test"
   ]
  },
  {
   "cell_type": "code",
   "execution_count": 42,
   "id": "dbe62646",
   "metadata": {},
   "outputs": [
    {
     "name": "stdout",
     "output_type": "stream",
     "text": [
      "theta1\n"
     ]
    }
   ],
   "source": [
    "print(theta1)"
   ]
  },
  {
   "cell_type": "code",
   "execution_count": null,
   "id": "3555b5ee",
   "metadata": {},
   "outputs": [],
   "source": []
  }
 ],
 "metadata": {
  "kernelspec": {
   "display_name": "Python 3 (ipykernel)",
   "language": "python",
   "name": "python3"
  },
  "language_info": {
   "codemirror_mode": {
    "name": "ipython",
    "version": 3
   },
   "file_extension": ".py",
   "mimetype": "text/x-python",
   "name": "python",
   "nbconvert_exporter": "python",
   "pygments_lexer": "ipython3",
   "version": "3.10.3"
  }
 },
 "nbformat": 4,
 "nbformat_minor": 5
}
