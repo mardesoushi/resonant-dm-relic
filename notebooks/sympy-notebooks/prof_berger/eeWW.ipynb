{
 "cells": [
  {
   "cell_type": "code",
   "execution_count": 1,
   "metadata": {},
   "outputs": [
    {
     "name": "stdout",
     "output_type": "stream",
     "text": [
      "Reading heppackv0.py\n",
      "\n",
      "Done\n"
     ]
    }
   ],
   "source": [
    "from sympy import *\n",
    "import heppackv0 as hep "
   ]
  },
  {
   "cell_type": "code",
   "execution_count": 2,
   "metadata": {},
   "outputs": [],
   "source": [
    "theta,u,t,r=symbols('theta u t r',real=True)\n",
    "s,p=symbols('s p',positive=True)\n",
    "M1,M2,m=symbols('M1 M2 m',real=True)\n",
    "g,c1,c2=symbols('g c1 c2')"
   ]
  },
  {
   "attachments": {},
   "cell_type": "markdown",
   "metadata": {},
   "source": [
    "Production of longitudinal $W$-Bosons, investigation of amplitudes violating unitarity.\n",
    "\n",
    "1) $e^-_+e^+_+\\to W^-_0W^+_0$ Standard weak interaction"
   ]
  },
  {
   "cell_type": "code",
   "execution_count": 3,
   "metadata": {},
   "outputs": [],
   "source": [
    "p1=[p,m,0,0]\n",
    "p2=[p,m,pi,pi]\n",
    "k1=[p,M1,theta,0]\n",
    "k2=[p,M1,pi-theta,pi]"
   ]
  },
  {
   "cell_type": "code",
   "execution_count": 4,
   "metadata": {},
   "outputs": [
    {
     "data": {
      "image/png": "[encoded data removed]",
      "text/latex": [
       "$$\\left [ p, \\quad 2 \\sqrt{- M_{1}^{2} + p^{2}} \\sin{\\left (\\frac{\\theta}{2} \\right )} \\cos{\\left (\\frac{\\theta}{2} \\right )}, \\quad 0, \\quad \\sqrt{- M_{1}^{2} + p^{2}} \\left(- \\sin^{2}{\\left (\\frac{\\theta}{2} \\right )} + \\cos^{2}{\\left (\\frac{\\theta}{2} \\right )}\\right)\\right ]$$"
      ],
      "text/plain": [
       "⎡        ____________                      ____________                      ⎤\n",
       "⎢       ╱     2    2     ⎛θ⎞    ⎛θ⎞       ╱     2    2  ⎛     2⎛θ⎞      2⎛θ⎞⎞⎥\n",
       "⎢p, 2⋅╲╱  - M₁  + p  ⋅sin⎜─⎟⋅cos⎜─⎟, 0, ╲╱  - M₁  + p  ⋅⎜- sin ⎜─⎟ + cos ⎜─⎟⎟⎥\n",
       "⎣                        ⎝2⎠    ⎝2⎠                     ⎝      ⎝2⎠       ⎝2⎠⎠⎦"
      ]
     },
     "execution_count": 4,
     "metadata": {},
     "output_type": "execute_result"
    }
   ],
   "source": [
    "pe=hep.fourvec(p1)\n",
    "ka=hep.fourvec(k1);ka"
   ]
  },
  {
   "cell_type": "code",
   "execution_count": 5,
   "metadata": {},
   "outputs": [],
   "source": [
    "qdag=hep.dag(ka)-hep.dag(pe)"
   ]
  },
  {
   "cell_type": "code",
   "execution_count": 6,
   "metadata": {},
   "outputs": [],
   "source": [
    "eps1dag=hep.dag(hep.polbar(k1,0))"
   ]
  },
  {
   "cell_type": "code",
   "execution_count": 7,
   "metadata": {},
   "outputs": [],
   "source": [
    "eps2dag=hep.dag(hep.polbar(k2,0))"
   ]
  },
  {
   "cell_type": "code",
   "execution_count": 8,
   "metadata": {},
   "outputs": [],
   "source": [
    "Kern2=eps2dag*qdag*eps1dag"
   ]
  },
  {
   "cell_type": "code",
   "execution_count": 9,
   "metadata": {},
   "outputs": [
    {
     "data": {
      "image/png": "[encoded data removed]",
      "text/latex": [
       "$$\\left[\\begin{matrix}- \\frac{m \\left(- 2 M_{1}^{2} \\sqrt{- M_{1}^{2} + p^{2}} \\sin^{2}{\\left (\\frac{\\theta}{2} \\right )} + M_{1}^{2} \\sqrt{- M_{1}^{2} + p^{2}} - M_{1}^{2} \\sqrt{- m^{2} + p^{2}} + 4 p^{2} \\sqrt{- M_{1}^{2} + p^{2}} \\sin^{2}{\\left (\\frac{\\theta}{2} \\right )} \\sin^{2}{\\left (\\theta \\right )} + 2 p^{2} \\sqrt{- M_{1}^{2} + p^{2}} \\sin^{2}{\\left (\\theta \\right )} \\cos{\\left (\\theta \\right )} - 2 p^{2} \\sqrt{- M_{1}^{2} + p^{2}} \\sin^{2}{\\left (\\theta \\right )} + 2 p^{2} \\sqrt{- m^{2} + p^{2}} \\sin^{2}{\\left (\\theta \\right )}\\right)}{M_{1}^{2}}\\end{matrix}\\right]$$"
      ],
      "text/plain": [
       "⎡   ⎛           ____________                  ____________          __________\n",
       "⎢   ⎜      2   ╱     2    2     2⎛θ⎞     2   ╱     2    2      2   ╱    2    2\n",
       "⎢-m⋅⎜- 2⋅M₁ ⋅╲╱  - M₁  + p  ⋅sin ⎜─⎟ + M₁ ⋅╲╱  - M₁  + p   - M₁ ⋅╲╱  - m  + p \n",
       "⎢   ⎝                            ⎝2⎠                                          \n",
       "⎢─────────────────────────────────────────────────────────────────────────────\n",
       "⎢                                                                             \n",
       "⎣                                                                             \n",
       "\n",
       "_           ____________                           ____________               \n",
       "       2   ╱     2    2     2⎛θ⎞    2         2   ╱     2    2     2          \n",
       "  + 4⋅p ⋅╲╱  - M₁  + p  ⋅sin ⎜─⎟⋅sin (θ) + 2⋅p ⋅╲╱  - M₁  + p  ⋅sin (θ)⋅cos(θ)\n",
       "                             ⎝2⎠                                              \n",
       "──────────────────────────────────────────────────────────────────────────────\n",
       "                                2                                             \n",
       "                              M₁                                              \n",
       "\n",
       "           ____________                   ___________        ⎞ ⎤\n",
       "      2   ╱     2    2     2         2   ╱    2    2     2   ⎟ ⎥\n",
       " - 2⋅p ⋅╲╱  - M₁  + p  ⋅sin (θ) + 2⋅p ⋅╲╱  - m  + p  ⋅sin (θ)⎟ ⎥\n",
       "                                                             ⎠ ⎥\n",
       "───────────────────────────────────────────────────────────────⎥\n",
       "                                                               ⎥\n",
       "                                                               ⎦"
      ]
     },
     "execution_count": 9,
     "metadata": {},
     "output_type": "execute_result"
    }
   ],
   "source": [
    "T1v1=simplify(hep.vbar(p2,1)*hep.projpl*Kern2*hep.u(p1,1));T1v1"
   ]
  },
  {
   "attachments": {},
   "cell_type": "markdown",
   "metadata": {},
   "source": [
    "High energy limit:"
   ]
  },
  {
   "cell_type": "code",
   "execution_count": 10,
   "metadata": {},
   "outputs": [
    {
     "data": {
      "image/png": "[encoded data removed]",
      "text/latex": [
       "$$- \\frac{2 m p^{3} \\sin^{2}{\\left (\\theta \\right )}}{M_{1}^{2}}$$"
      ],
      "text/plain": [
       "      3    2    \n",
       "-2⋅m⋅p ⋅sin (θ) \n",
       "────────────────\n",
       "        2       \n",
       "      M₁        "
      ]
     },
     "execution_count": 10,
     "metadata": {},
     "output_type": "execute_result"
    }
   ],
   "source": [
    "T1v2=-2*p**3*sin(theta)**2*m/M1**2;T1v2"
   ]
  },
  {
   "attachments": {},
   "cell_type": "markdown",
   "metadata": {},
   "source": [
    "Divide bei $q^2$ and multiply by $g^2/2$"
   ]
  },
  {
   "cell_type": "code",
   "execution_count": 11,
   "metadata": {},
   "outputs": [
    {
     "data": {
      "image/png": "[encoded data removed]",
      "text/latex": [
       "$$\\frac{g^{2} m p \\left(\\cos{\\left (\\theta \\right )} + 1\\right)}{2 M_{1}^{2}}$$"
      ],
      "text/plain": [
       " 2                 \n",
       "g ⋅m⋅p⋅(cos(θ) + 1)\n",
       "───────────────────\n",
       "           2       \n",
       "       2⋅M₁        "
      ]
     },
     "execution_count": 11,
     "metadata": {},
     "output_type": "execute_result"
    }
   ],
   "source": [
    "T1=g**2/2/M1**2*m*p*(1+cos(theta));T1"
   ]
  },
  {
   "attachments": {},
   "cell_type": "markdown",
   "metadata": {},
   "source": [
    "2) $e^-_+e^+_+\\to W^-_0W^-_0$ Scalar $\\phi $ in $s$-channel"
   ]
  },
  {
   "cell_type": "code",
   "execution_count": 27,
   "metadata": {},
   "outputs": [
    {
     "data": {
      "image/png": "[encoded data removed]",
      "text/latex": [
       "$$\\left[\\begin{matrix}\\left(-1 + \\frac{2 p^{2}}{M_{1}^{2}}\\right) \\left(- \\sqrt{p} \\sqrt{- m + p} - \\sqrt{p} \\sqrt{m + p}\\right)\\end{matrix}\\right]$$"
      ],
      "text/plain": [
       "⎡⎛        2⎞                                 ⎤\n",
       "⎢⎜     2⋅p ⎟ ⎛       ________        _______⎞⎥\n",
       "⎢⎜-1 + ────⎟⋅⎝- √p⋅╲╱ -m + p  - √p⋅╲╱ m + p ⎠⎥\n",
       "⎢⎜       2 ⎟                                 ⎥\n",
       "⎣⎝     M₁  ⎠                                 ⎦"
      ]
     },
     "execution_count": 27,
     "metadata": {},
     "output_type": "execute_result"
    }
   ],
   "source": [
    "T2v1=hep.vbar(p2,1)*hep.u(p1,1)*hep.dotprod4(hep.polbar(k1,0),hep.polbar(k2,0));T2v1"
   ]
  },
  {
   "attachments": {},
   "cell_type": "markdown",
   "metadata": {},
   "source": [
    "High energy limit, divide by denominator $s$ multiply with new couplings $c_1=c_{\\phi ee}$, $c_2=c_{\\phi WW}$"
   ]
  },
  {
   "cell_type": "code",
   "execution_count": 28,
   "metadata": {},
   "outputs": [
    {
     "data": {
      "image/png": "[encoded data removed]",
      "text/latex": [
       "$$- \\frac{c_{1} c_{2} p}{M_{1}^{2}}$$"
      ],
      "text/plain": [
       "-c₁⋅c₂⋅p \n",
       "─────────\n",
       "     2   \n",
       "   M₁    "
      ]
     },
     "execution_count": 28,
     "metadata": {},
     "output_type": "execute_result"
    }
   ],
   "source": [
    "T2=-c1*c2*p/M1**2;T2"
   ]
  },
  {
   "attachments": {},
   "cell_type": "markdown",
   "metadata": {},
   "source": [
    "3) $e^-_+\\bar{\\nu} \\rightarrow W^-_0 \\phi$\n",
    "\n",
    "a) $s$-channel, $g_{\\mu\\nu}$ Term in the propagator\n"
   ]
  },
  {
   "cell_type": "code",
   "execution_count": 14,
   "metadata": {},
   "outputs": [],
   "source": [
    "p1=[p,m,0,0]\n",
    "p2=[p,0,pi,pi]"
   ]
  },
  {
   "cell_type": "code",
   "execution_count": 15,
   "metadata": {},
   "outputs": [
    {
     "data": {
      "image/png": "[encoded data removed]",
      "text/latex": [
       "$$\\left [ \\sqrt{p} \\left(\\sqrt{- m + p} - \\sqrt{m + p}\\right), \\quad 0, \\quad 0, \\quad \\sqrt{p} \\left(- \\sqrt{- m + p} + \\sqrt{m + p}\\right)\\right ]$$"
      ],
      "text/plain": [
       "⎡   ⎛  ________     _______⎞           ⎛    ________     _______⎞⎤\n",
       "⎣√p⋅⎝╲╱ -m + p  - ╲╱ m + p ⎠, 0, 0, √p⋅⎝- ╲╱ -m + p  + ╲╱ m + p ⎠⎦"
      ]
     },
     "execution_count": 15,
     "metadata": {},
     "output_type": "execute_result"
    }
   ],
   "source": [
    "jweak=hep.vbuw(p2,1,p1,1);jweak"
   ]
  },
  {
   "cell_type": "code",
   "execution_count": 16,
   "metadata": {},
   "outputs": [
    {
     "data": {
      "image/png": "[encoded data removed]",
      "text/latex": [
       "$$\\left [ \\frac{\\sqrt{- M_{1}^{2} + p^{2}}}{M_{1}}, \\quad \\frac{p \\sin{\\left (\\theta \\right )}}{M_{1}}, \\quad 0, \\quad \\frac{p \\cos{\\left (\\theta \\right )}}{M_{1}}\\right ]$$"
      ],
      "text/plain": [
       "⎡   ____________                       ⎤\n",
       "⎢  ╱     2    2                        ⎥\n",
       "⎢╲╱  - M₁  + p    p⋅sin(θ)     p⋅cos(θ)⎥\n",
       "⎢───────────────, ────────, 0, ────────⎥\n",
       "⎣       M₁           M₁           M₁   ⎦"
      ]
     },
     "execution_count": 16,
     "metadata": {},
     "output_type": "execute_result"
    }
   ],
   "source": [
    "hep.polbar(k1,0)"
   ]
  },
  {
   "cell_type": "code",
   "execution_count": 17,
   "metadata": {},
   "outputs": [
    {
     "data": {
      "image/png": "[encoded data removed]",
      "text/latex": [
       "$$\\frac{\\sqrt{p} \\left(p \\cos{\\left (\\theta \\right )} + \\sqrt{- M_{1}^{2} + p^{2}}\\right) \\left(\\sqrt{- m + p} - \\sqrt{m + p}\\right)}{M_{1}}$$"
      ],
      "text/plain": [
       "   ⎛              ____________⎞                         \n",
       "   ⎜             ╱     2    2 ⎟ ⎛  ________     _______⎞\n",
       "√p⋅⎝p⋅cos(θ) + ╲╱  - M₁  + p  ⎠⋅⎝╲╱ -m + p  - ╲╱ m + p ⎠\n",
       "────────────────────────────────────────────────────────\n",
       "                           M₁                           "
      ]
     },
     "execution_count": 17,
     "metadata": {},
     "output_type": "execute_result"
    }
   ],
   "source": [
    "hep.dotprod4(jweak,hep.polbar(k1,0))"
   ]
  },
  {
   "cell_type": "code",
   "execution_count": 18,
   "metadata": {},
   "outputs": [
    {
     "data": {
      "image/png": "[encoded data removed]",
      "text/latex": [
       "$$\\frac{m p \\left(\\cos{\\left (\\theta \\right )} + 1\\right)}{M_{1}}$$"
      ],
      "text/plain": [
       "m⋅p⋅(cos(θ) + 1)\n",
       "────────────────\n",
       "       M₁       "
      ]
     },
     "execution_count": 18,
     "metadata": {},
     "output_type": "execute_result"
    }
   ],
   "source": [
    "T3v1=m*p*(1+cos(theta))/M1;T3v1"
   ]
  },
  {
   "attachments": {},
   "cell_type": "markdown",
   "metadata": {},
   "source": [
    "Dividing by $s=4p^2$ shows that this part of the amplitude is not divergent.\n",
    "One has to include the $q_\\mu q_\\nu/M_W^2$ term in the propagator"
   ]
  },
  {
   "cell_type": "code",
   "execution_count": 19,
   "metadata": {},
   "outputs": [
    {
     "data": {
      "image/png": "[encoded data removed]",
      "text/latex": [
       "$$\\left [ 2 p, \\quad 0, \\quad 0, \\quad 0\\right ]$$"
      ],
      "text/plain": [
       "[2⋅p, 0, 0, 0]"
      ]
     },
     "execution_count": 19,
     "metadata": {},
     "output_type": "execute_result"
    }
   ],
   "source": [
    "qvec=[2*p,0,0,0];qvec"
   ]
  },
  {
   "cell_type": "code",
   "execution_count": 20,
   "metadata": {
    "scrolled": true
   },
   "outputs": [
    {
     "data": {
      "image/png": "[encoded data removed]",
      "text/latex": [
       "$$\\frac{4 p^{\\frac{5}{2}} \\sqrt{- M_{1}^{2} + p^{2}} \\left(\\sqrt{- m + p} - \\sqrt{m + p}\\right)}{M_{1}^{3}}$$"
      ],
      "text/plain": [
       "          ____________                         \n",
       "   5/2   ╱     2    2  ⎛  ________     _______⎞\n",
       "4⋅p   ⋅╲╱  - M₁  + p  ⋅⎝╲╱ -m + p  - ╲╱ m + p ⎠\n",
       "───────────────────────────────────────────────\n",
       "                        3                      \n",
       "                      M₁                       "
      ]
     },
     "execution_count": 20,
     "metadata": {},
     "output_type": "execute_result"
    }
   ],
   "source": [
    "T3v2=hep.dotprod4(jweak,qvec)*hep.dotprod4(hep.polbar(k1,0),qvec)/M1**2;T3v2"
   ]
  },
  {
   "attachments": {},
   "cell_type": "markdown",
   "metadata": {},
   "source": [
    "High energy limit"
   ]
  },
  {
   "cell_type": "code",
   "execution_count": 29,
   "metadata": {},
   "outputs": [
    {
     "data": {
      "image/png": "[encoded data removed]",
      "text/latex": [
       "$$\\frac{4 p^{\\frac{7}{2}} \\left(\\sqrt{p} \\left(- \\frac{m}{2 p} + 1\\right) - \\sqrt{p} \\left(\\frac{m}{2 p} + 1\\right)\\right)}{M_{1}^{3}}$$"
      ],
      "text/plain": [
       "   7/2 ⎛   ⎛   m     ⎞      ⎛ m     ⎞⎞\n",
       "4⋅p   ⋅⎜√p⋅⎜- ─── + 1⎟ - √p⋅⎜─── + 1⎟⎟\n",
       "       ⎝   ⎝  2⋅p    ⎠      ⎝2⋅p    ⎠⎠\n",
       "──────────────────────────────────────\n",
       "                   3                  \n",
       "                 M₁                   "
      ]
     },
     "execution_count": 29,
     "metadata": {},
     "output_type": "execute_result"
    }
   ],
   "source": [
    "T3v3=T3v2.subs(sqrt(p-m),sqrt(p)*(1-m/2/p)).subs(sqrt(p+m),sqrt(p)*(1+m/2/p)).subs(sqrt(-M1**2+p**2),p);T3v3"
   ]
  },
  {
   "attachments": {},
   "cell_type": "markdown",
   "metadata": {},
   "source": [
    "Dividing by $s$  and including the couplings shows linear increase with $p$                 "
   ]
  },
  {
   "cell_type": "code",
   "execution_count": 22,
   "metadata": {},
   "outputs": [
    {
     "data": {
      "image/png": "[encoded data removed]",
      "text/latex": [
       "$$- \\frac{\\sqrt{2} c_{2} g m p}{2 M_{1}^{3}}$$"
      ],
      "text/plain": [
       "-√2⋅c₂⋅g⋅m⋅p \n",
       "─────────────\n",
       "        3    \n",
       "    2⋅M₁     "
      ]
     },
     "execution_count": 22,
     "metadata": {},
     "output_type": "execute_result"
    }
   ],
   "source": [
    "g/sqrt(2)*c2*simplify(T3v3)/4/p**2"
   ]
  },
  {
   "attachments": {},
   "cell_type": "markdown",
   "metadata": {},
   "source": [
    " 4) $e^-_+\\bar{\\nu} \\rightarrow W^-_0 \\phi$, $t$-channel"
   ]
  },
  {
   "cell_type": "code",
   "execution_count": 23,
   "metadata": {},
   "outputs": [],
   "source": [
    "Kern1=qdag*eps1dag"
   ]
  },
  {
   "cell_type": "code",
   "execution_count": 24,
   "metadata": {},
   "outputs": [
    {
     "data": {
      "image/png": "[encoded data removed]",
      "text/latex": [
       "$$\\left[\\begin{matrix}\\frac{\\sqrt{p} \\left(p \\left(\\sqrt{- M_{1}^{2} + p^{2}} - \\sqrt{- m^{2} + p^{2}} \\cos{\\left (\\theta \\right )}\\right) + \\sqrt{- M_{1}^{2} + p^{2}} \\left(- \\sqrt{- M_{1}^{2} + p^{2}} \\cos{\\left (\\theta \\right )} + \\sqrt{- m^{2} + p^{2}}\\right)\\right) \\left(\\sqrt{- m + p} + \\sqrt{m + p}\\right)}{M_{1}}\\end{matrix}\\right]$$"
      ],
      "text/plain": [
       "⎡   ⎛  ⎛   ____________      ___________       ⎞      ____________ ⎛     _____\n",
       "⎢   ⎜  ⎜  ╱     2    2      ╱    2    2        ⎟     ╱     2    2  ⎜    ╱     \n",
       "⎢√p⋅⎝p⋅⎝╲╱  - M₁  + p   - ╲╱  - m  + p  ⋅cos(θ)⎠ + ╲╱  - M₁  + p  ⋅⎝- ╲╱  - M₁\n",
       "⎢─────────────────────────────────────────────────────────────────────────────\n",
       "⎣                                                                   M₁        \n",
       "\n",
       "_______             ___________⎞⎞                         ⎤\n",
       "2    2             ╱    2    2 ⎟⎟ ⎛  ________     _______⎞⎥\n",
       "  + p  ⋅cos(θ) + ╲╱  - m  + p  ⎠⎠⋅⎝╲╱ -m + p  + ╲╱ m + p ⎠⎥\n",
       "──────────────────────────────────────────────────────────⎥\n",
       "                                                          ⎦"
      ]
     },
     "execution_count": 24,
     "metadata": {},
     "output_type": "execute_result"
    }
   ],
   "source": [
    "simplify(hep.vbar(p2,1)*Kern1*hep.u(p1,1))"
   ]
  },
  {
   "attachments": {},
   "cell_type": "markdown",
   "metadata": {},
   "source": [
    "High energy limit"
   ]
  },
  {
   "cell_type": "code",
   "execution_count": 25,
   "metadata": {},
   "outputs": [
    {
     "data": {
      "image/png": "[encoded data removed]",
      "text/latex": [
       "$$\\frac{4 p^{3} \\left(- \\cos{\\left (\\theta \\right )} + 1\\right)}{M_{1}}$$"
      ],
      "text/plain": [
       "   3              \n",
       "4⋅p ⋅(-cos(θ) + 1)\n",
       "──────────────────\n",
       "        M₁        "
      ]
     },
     "execution_count": 25,
     "metadata": {},
     "output_type": "execute_result"
    }
   ],
   "source": [
    "T4v1=4*p**3*(1-cos(theta))/M1;T4v1"
   ]
  },
  {
   "attachments": {},
   "cell_type": "markdown",
   "metadata": {},
   "source": [
    "Dividing by $q^2$ and including the couplings"
   ]
  },
  {
   "cell_type": "code",
   "execution_count": 26,
   "metadata": {},
   "outputs": [
    {
     "data": {
      "image/png": "[encoded data removed]",
      "text/latex": [
       "$$- \\frac{\\sqrt{2} c_{1} g p}{M_{1}}$$"
      ],
      "text/plain": [
       "-√2⋅c₁⋅g⋅p \n",
       "───────────\n",
       "     M₁    "
      ]
     },
     "execution_count": 26,
     "metadata": {},
     "output_type": "execute_result"
    }
   ],
   "source": [
    "T4=-2*g/sqrt(2)*c1*p/M1;T4"
   ]
  },
  {
   "cell_type": "code",
   "execution_count": null,
   "metadata": {},
   "outputs": [],
   "source": []
  }
 ],
 "metadata": {
  "kernelspec": {
   "display_name": "Python 3",
   "language": "python",
   "name": "python3"
  },
  "language_info": {
   "codemirror_mode": {
    "name": "ipython",
    "version": 3
   },
   "file_extension": ".py",
   "mimetype": "text/x-python",
   "name": "python",
   "nbconvert_exporter": "python",
   "pygments_lexer": "ipython3",
   "version": "3.7.2"
  }
 },
 "nbformat": 4,
 "nbformat_minor": 2
}
