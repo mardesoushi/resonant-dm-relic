{
 "cells": [
  {
   "cell_type": "code",
   "execution_count": 1,
   "metadata": {},
   "outputs": [
    {
     "name": "stdout",
     "output_type": "stream",
     "text": [
      "Reading heppackv0.py\n",
      "\n",
      "Done\n"
     ]
    }
   ],
   "source": [
    "from sympy import *\n",
    "import heppackv0 as hep"
   ]
  },
  {
   "cell_type": "code",
   "execution_count": 2,
   "metadata": {},
   "outputs": [],
   "source": [
    "theta,u,t,t0=symbols('theta u t t0',real=True)\n",
    "E1,E2,p,M,s,s0=symbols('E1 E2 p M s s0',positive=True)"
   ]
  },
  {
   "cell_type": "markdown",
   "metadata": {},
   "source": [
    "## 1) Kinematics\n",
    "Amplitudes and cross section for Compton scattering $\\gamma_V+e\\rightarrow\\gamma+e$ with an incoming virtual photon of mass $M$.\n",
    "Energy momentum conservation reads $k_i+p_i=k_f+p_f$. The CM system is used where  $E_2,\\theta$ denote the outgoing photon energy and scattering angle and $E_1$ the energy of the incoming electron. Obviously $E_2$ is also the energy of the outgoing electronand therefore $E_\\gamma=2E_2-E_1$ is taken from energy conservation. With $t=-4E_1E_2\\sin^2(\\theta/2)$, $u=-4E_1E_2\\cos^2(\\theta/2)$ and $s=4E_2^2$ we get\n",
    "\n",
    "$$ M^2=s+t+u=4E_2^2-4E_1E_2\\enspace ,$$ \n",
    "\n",
    "which in calling the Python routines is named $M_0$. We also use \n",
    "the abbreviation $s_0=s-M^2=4E_1E_2$. "
   ]
  },
  {
   "cell_type": "code",
   "execution_count": 3,
   "metadata": {},
   "outputs": [
    {
     "data": {
      "image/png": "[encoded data removed]",
      "text/latex": [
       "$$2 \\sqrt{- E_{1} E_{2} + E_{2}^{2}}$$"
      ],
      "text/plain": [
       "     ______________\n",
       "    ╱            2 \n",
       "2⋅╲╱  -E₁⋅E₂ + E₂  "
      ]
     },
     "execution_count": 3,
     "metadata": {},
     "output_type": "execute_result"
    }
   ],
   "source": [
    "M0=2*sqrt(E2**2-E1*E2);M0"
   ]
  },
  {
   "cell_type": "code",
   "execution_count": 4,
   "metadata": {},
   "outputs": [],
   "source": [
    "kin=[2*E2-E1,M0,0,0]\n",
    "kout=[E2,0,theta,0]\n",
    "pin=[E1,0,pi,pi]\n",
    "pout=[E2,0,pi-theta,pi]"
   ]
  },
  {
   "cell_type": "code",
   "execution_count": 5,
   "metadata": {},
   "outputs": [
    {
     "data": {
      "image/png": "[encoded data removed]",
      "text/latex": [
       "$$\\frac{s_{0}}{s}$$"
      ],
      "text/plain": [
       "s₀\n",
       "──\n",
       "s "
      ]
     },
     "execution_count": 5,
     "metadata": {},
     "output_type": "execute_result"
    }
   ],
   "source": [
    "E1divE2=s0/s;E1divE2"
   ]
  },
  {
   "cell_type": "code",
   "execution_count": 6,
   "metadata": {},
   "outputs": [
    {
     "data": {
      "image/png": "[encoded data removed]",
      "text/latex": [
       "$$\\frac{\\sqrt{- u}}{\\sqrt{s_{0}}}$$"
      ],
      "text/plain": [
       "  ____\n",
       "╲╱ -u \n",
       "──────\n",
       "  ____\n",
       "╲╱ s₀ "
      ]
     },
     "execution_count": 6,
     "metadata": {},
     "output_type": "execute_result"
    }
   ],
   "source": [
    "costhetahalf=sqrt(-u/s0);costhetahalf"
   ]
  },
  {
   "cell_type": "code",
   "execution_count": 7,
   "metadata": {},
   "outputs": [
    {
     "data": {
      "image/png": "[encoded data removed]",
      "text/latex": [
       "$$\\frac{\\sqrt{- t}}{\\sqrt{s_{0}}}$$"
      ],
      "text/plain": [
       "  ____\n",
       "╲╱ -t \n",
       "──────\n",
       "  ____\n",
       "╲╱ s₀ "
      ]
     },
     "execution_count": 7,
     "metadata": {},
     "output_type": "execute_result"
    }
   ],
   "source": [
    "sinthetahalf=sqrt(-t/s0);sinthetahalf"
   ]
  },
  {
   "cell_type": "code",
   "execution_count": 8,
   "metadata": {},
   "outputs": [
    {
     "data": {
      "image/png": "[encoded data removed]",
      "text/latex": [
       "$$\\frac{\\sqrt{s}}{2}$$"
      ],
      "text/plain": [
       "√s\n",
       "──\n",
       "2 "
      ]
     },
     "execution_count": 8,
     "metadata": {},
     "output_type": "execute_result"
    }
   ],
   "source": [
    "Etwo=sqrt(s)/2;Etwo"
   ]
  },
  {
   "cell_type": "markdown",
   "metadata": {},
   "source": [
    "## 2) The Amplitudes"
   ]
  },
  {
   "cell_type": "markdown",
   "metadata": {},
   "source": [
    "Due to the additional helicity $\\lambda_1=0$  for the incoming photons  we have now 12 independent amplitudes\n",
    "$T_{fi}=T_{\\lambda_3 \\lambda_4;\\lambda_1 \\lambda_2}$. The outgoung photon is real ($\\lambda_3 =\\pm 1$). \n",
    "Neglecting the mass of the electrons the calculation is easy.\n",
    "\n",
    "$T1=T_{--;--}$ :"
   ]
  },
  {
   "cell_type": "code",
   "execution_count": 9,
   "metadata": {},
   "outputs": [
    {
     "data": {
      "image/png": "[encoded data removed]",
      "text/latex": [
       "$$\\frac{4 \\sqrt{E_{1}} \\cos{\\left (\\frac{\\theta}{2} \\right )}}{\\sqrt{E_{2}} \\left(\\cos{\\left (\\theta \\right )} + 1\\right)}$$"
      ],
      "text/plain": [
       "      ____    ⎛θ⎞  \n",
       "  4⋅╲╱ E₁ ⋅cos⎜─⎟  \n",
       "              ⎝2⎠  \n",
       "───────────────────\n",
       "  ____             \n",
       "╲╱ E₂ ⋅(cos(θ) + 1)"
      ]
     },
     "execution_count": 9,
     "metadata": {},
     "output_type": "execute_result"
    }
   ],
   "source": [
    "h1=simplify(hep.compt(kin,-1,pin,-1,kout,-1,pout,-1));h1"
   ]
  },
  {
   "cell_type": "code",
   "execution_count": 10,
   "metadata": {},
   "outputs": [
    {
     "data": {
      "image/png": "[encoded data removed]",
      "text/latex": [
       "$$\\frac{2 \\sqrt{E_{1}}}{\\sqrt{E_{2}} \\cos{\\left (\\frac{\\theta}{2} \\right )}}$$"
      ],
      "text/plain": [
       "       ____  \n",
       "   2⋅╲╱ E₁   \n",
       "─────────────\n",
       "  ____    ⎛θ⎞\n",
       "╲╱ E₂ ⋅cos⎜─⎟\n",
       "          ⎝2⎠"
      ]
     },
     "execution_count": 10,
     "metadata": {},
     "output_type": "execute_result"
    }
   ],
   "source": [
    "h2=2*sqrt(E1)/sqrt(E2)/cos(theta/2);h2"
   ]
  },
  {
   "cell_type": "code",
   "execution_count": 11,
   "metadata": {},
   "outputs": [
    {
     "data": {
      "image/png": "[encoded data removed]",
      "text/latex": [
       "$$- \\frac{4 s_{0}^{2}}{s u}$$"
      ],
      "text/plain": [
       "     2 \n",
       "-4⋅s₀  \n",
       "───────\n",
       "  s⋅u  "
      ]
     },
     "execution_count": 11,
     "metadata": {},
     "output_type": "execute_result"
    }
   ],
   "source": [
    "T1sq=4*E1divE2/costhetahalf**2;T1sq"
   ]
  },
  {
   "cell_type": "markdown",
   "metadata": {},
   "source": [
    "$T2=T_{-+;--}$ :"
   ]
  },
  {
   "cell_type": "code",
   "execution_count": 12,
   "metadata": {},
   "outputs": [
    {
     "data": {
      "image/png": "[encoded data removed]",
      "text/latex": [
       "$$0$$"
      ],
      "text/plain": [
       "0"
      ]
     },
     "execution_count": 12,
     "metadata": {},
     "output_type": "execute_result"
    }
   ],
   "source": [
    "T2=simplify(hep.compt(kin,-1,pin,-1,kout,-1,pout,1));T2"
   ]
  },
  {
   "cell_type": "markdown",
   "metadata": {},
   "source": [
    "$T3=T_{++;--}$ :"
   ]
  },
  {
   "cell_type": "code",
   "execution_count": 13,
   "metadata": {},
   "outputs": [
    {
     "data": {
      "image/png": "[encoded data removed]",
      "text/latex": [
       "$$0$$"
      ],
      "text/plain": [
       "0"
      ]
     },
     "execution_count": 13,
     "metadata": {},
     "output_type": "execute_result"
    }
   ],
   "source": [
    "T3=simplify(hep.compt(kin,-1,pin,-1,kout,1,pout,1));T3"
   ]
  },
  {
   "cell_type": "markdown",
   "metadata": {},
   "source": [
    "$T4=T_{+-;--}$ :"
   ]
  },
  {
   "cell_type": "code",
   "execution_count": 14,
   "metadata": {},
   "outputs": [
    {
     "data": {
      "image/png": "[encoded data removed]",
      "text/latex": [
       "$$\\frac{4 \\left(E_{1} - E_{2}\\right) \\sin^{2}{\\left (\\frac{\\theta}{2} \\right )} \\cos{\\left (\\frac{\\theta}{2} \\right )}}{\\sqrt{E_{1}} \\sqrt{E_{2}} \\left(\\cos{\\left (\\theta \\right )} + 1\\right)}$$"
      ],
      "text/plain": [
       "               2⎛θ⎞    ⎛θ⎞\n",
       "4⋅(E₁ - E₂)⋅sin ⎜─⎟⋅cos⎜─⎟\n",
       "                ⎝2⎠    ⎝2⎠\n",
       "──────────────────────────\n",
       "  ____   ____             \n",
       "╲╱ E₁ ⋅╲╱ E₂ ⋅(cos(θ) + 1)"
      ]
     },
     "execution_count": 14,
     "metadata": {},
     "output_type": "execute_result"
    }
   ],
   "source": [
    "T4=simplify(hep.compt(kin,-1,pin,-1,kout,1,pout,-1));T4"
   ]
  },
  {
   "cell_type": "code",
   "execution_count": 15,
   "metadata": {},
   "outputs": [
    {
     "data": {
      "image/png": "[encoded data removed]",
      "text/latex": [
       "$$\\frac{2 t \\left(s - s_{0}\\right)}{\\sqrt{s} s_{0} \\sqrt{- u}}$$"
      ],
      "text/plain": [
       "2⋅t⋅(s - s₀)\n",
       "────────────\n",
       "        ____\n",
       "√s⋅s₀⋅╲╱ -u "
      ]
     },
     "execution_count": 15,
     "metadata": {},
     "output_type": "execute_result"
    }
   ],
   "source": [
    "T4=simplify(2*sinthetahalf**2/costhetahalf*(E1divE2-1)/sqrt(E1divE2));T4"
   ]
  },
  {
   "cell_type": "code",
   "execution_count": 16,
   "metadata": {},
   "outputs": [
    {
     "data": {
      "image/png": "[encoded data removed]",
      "text/latex": [
       "$$- \\frac{4 t^{2} \\left(s - s_{0}\\right)^{2}}{s s_{0}^{2} u}$$"
      ],
      "text/plain": [
       "    2         2 \n",
       "-4⋅t ⋅(s - s₀)  \n",
       "────────────────\n",
       "        2       \n",
       "    s⋅s₀ ⋅u     "
      ]
     },
     "execution_count": 16,
     "metadata": {},
     "output_type": "execute_result"
    }
   ],
   "source": [
    "T4sq=simplify(T4**2);T4sq"
   ]
  },
  {
   "cell_type": "code",
   "execution_count": 17,
   "metadata": {},
   "outputs": [
    {
     "data": {
      "image/png": "[encoded data removed]",
      "text/latex": [
       "$$- \\frac{4 M^{4} t^{2}}{s s_{0}^{2} u}$$"
      ],
      "text/plain": [
       "    4  2 \n",
       "-4⋅M ⋅t  \n",
       "─────────\n",
       "     2   \n",
       " s⋅s₀ ⋅u "
      ]
     },
     "execution_count": 17,
     "metadata": {},
     "output_type": "execute_result"
    }
   ],
   "source": [
    "T4sq=-4*t**2*M**4/s/s0**2/u;T4sq"
   ]
  },
  {
   "cell_type": "markdown",
   "metadata": {},
   "source": [
    "$T5=T_{--;+-}$ :"
   ]
  },
  {
   "cell_type": "code",
   "execution_count": 18,
   "metadata": {},
   "outputs": [
    {
     "data": {
      "image/png": "[encoded data removed]",
      "text/latex": [
       "$$0$$"
      ],
      "text/plain": [
       "0"
      ]
     },
     "execution_count": 18,
     "metadata": {},
     "output_type": "execute_result"
    }
   ],
   "source": [
    "T5=simplify(hep.compt(kin,1,pin,-1,kout,-1,pout,-1));T5"
   ]
  },
  {
   "cell_type": "markdown",
   "metadata": {},
   "source": [
    "$T6=T_{-+;+-}$ :"
   ]
  },
  {
   "cell_type": "code",
   "execution_count": 19,
   "metadata": {},
   "outputs": [
    {
     "data": {
      "image/png": "[encoded data removed]",
      "text/latex": [
       "$$0$$"
      ],
      "text/plain": [
       "0"
      ]
     },
     "execution_count": 19,
     "metadata": {},
     "output_type": "execute_result"
    }
   ],
   "source": [
    "T6=simplify(hep.compt(kin,1,pin,-1,kout,-1,pout,1));T6"
   ]
  },
  {
   "cell_type": "markdown",
   "metadata": {},
   "source": [
    "$T7=T_{++;+-}$ :"
   ]
  },
  {
   "cell_type": "code",
   "execution_count": 20,
   "metadata": {},
   "outputs": [
    {
     "data": {
      "image/png": "[encoded data removed]",
      "text/latex": [
       "$$0$$"
      ],
      "text/plain": [
       "0"
      ]
     },
     "execution_count": 20,
     "metadata": {},
     "output_type": "execute_result"
    }
   ],
   "source": [
    "T7=simplify(hep.compt(kin,1,pin,-1,kout,1,pout,1));T7"
   ]
  },
  {
   "cell_type": "markdown",
   "metadata": {},
   "source": [
    "$T8=T_{+-;+-}$ :"
   ]
  },
  {
   "cell_type": "code",
   "execution_count": 21,
   "metadata": {},
   "outputs": [
    {
     "data": {
      "image/png": "[encoded data removed]",
      "text/latex": [
       "$$\\frac{2 \\sqrt{E_{2}} \\cos{\\left (\\frac{\\theta}{2} \\right )}}{\\sqrt{E_{1}}}$$"
      ],
      "text/plain": [
       "    ____    ⎛θ⎞\n",
       "2⋅╲╱ E₂ ⋅cos⎜─⎟\n",
       "            ⎝2⎠\n",
       "───────────────\n",
       "       ____    \n",
       "     ╲╱ E₁     "
      ]
     },
     "execution_count": 21,
     "metadata": {},
     "output_type": "execute_result"
    }
   ],
   "source": [
    "T8=simplify(hep.compt(kin,1,pin,-1,kout,1,pout,-1));T8"
   ]
  },
  {
   "cell_type": "code",
   "execution_count": 22,
   "metadata": {},
   "outputs": [
    {
     "data": {
      "image/png": "[encoded data removed]",
      "text/latex": [
       "$$\\frac{4 E_{2} \\cos^{2}{\\left (\\frac{\\theta}{2} \\right )}}{E_{1}}$$"
      ],
      "text/plain": [
       "        2⎛θ⎞\n",
       "4⋅E₂⋅cos ⎜─⎟\n",
       "         ⎝2⎠\n",
       "────────────\n",
       "     E₁     "
      ]
     },
     "execution_count": 22,
     "metadata": {},
     "output_type": "execute_result"
    }
   ],
   "source": [
    "T8sq=4*E2*cos(theta/2)**2/E1;T8sq"
   ]
  },
  {
   "cell_type": "code",
   "execution_count": 23,
   "metadata": {},
   "outputs": [
    {
     "data": {
      "image/png": "[encoded data removed]",
      "text/latex": [
       "$$- \\frac{4 s u}{s_{0}^{2}}$$"
      ],
      "text/plain": [
       "-4⋅s⋅u \n",
       "───────\n",
       "    2  \n",
       "  s₀   "
      ]
     },
     "execution_count": 23,
     "metadata": {},
     "output_type": "execute_result"
    }
   ],
   "source": [
    "T8sq=simplify(4*costhetahalf**2/E1divE2);T8sq"
   ]
  },
  {
   "cell_type": "markdown",
   "metadata": {},
   "source": [
    "$T9=T_{--;0-}$ :"
   ]
  },
  {
   "cell_type": "code",
   "execution_count": 24,
   "metadata": {},
   "outputs": [
    {
     "data": {
      "image/png": "[encoded data removed]",
      "text/latex": [
       "$$\\frac{\\sqrt{2} \\left(4 E_{1} \\sin^{4}{\\left (\\frac{\\theta}{2} \\right )} - 12 E_{1} \\sin^{2}{\\left (\\frac{\\theta}{2} \\right )} + E_{1} \\sin^{2}{\\left (\\theta \\right )} - 4 E_{1} \\cos{\\left (\\theta \\right )} + 4 E_{1} - 4 E_{2} \\sin^{4}{\\left (\\frac{\\theta}{2} \\right )} + 4 E_{2} \\sin^{2}{\\left (\\frac{\\theta}{2} \\right )} - E_{2} \\sin^{2}{\\left (\\theta \\right )}\\right) \\sin{\\left (\\frac{\\theta}{2} \\right )}}{4 \\sqrt{E_{1}} \\sqrt{- E_{1} + E_{2}} \\left(\\cos{\\left (\\theta \\right )} + 1\\right)}$$"
      ],
      "text/plain": [
       "   ⎛        4⎛θ⎞            2⎛θ⎞         2                                   4\n",
       "√2⋅⎜4⋅E₁⋅sin ⎜─⎟ - 12⋅E₁⋅sin ⎜─⎟ + E₁⋅sin (θ) - 4⋅E₁⋅cos(θ) + 4⋅E₁ - 4⋅E₂⋅sin \n",
       "   ⎝         ⎝2⎠             ⎝2⎠                                              \n",
       "──────────────────────────────────────────────────────────────────────────────\n",
       "                                              ____   __________               \n",
       "                                          4⋅╲╱ E₁ ⋅╲╱ -E₁ + E₂ ⋅(cos(θ) + 1)  \n",
       "\n",
       "⎛θ⎞           2⎛θ⎞         2   ⎞    ⎛θ⎞\n",
       "⎜─⎟ + 4⋅E₂⋅sin ⎜─⎟ - E₂⋅sin (θ)⎟⋅sin⎜─⎟\n",
       "⎝2⎠            ⎝2⎠             ⎠    ⎝2⎠\n",
       "───────────────────────────────────────\n",
       "                                       \n",
       "                                       "
      ]
     },
     "execution_count": 24,
     "metadata": {},
     "output_type": "execute_result"
    }
   ],
   "source": [
    "T9=simplify(hep.compt(kin,0,pin,-1,kout,-1,pout,-1));T9"
   ]
  },
  {
   "cell_type": "markdown",
   "metadata": {},
   "source": [
    "It is hard to convince Sympy that the terms in the brackets of the numerator add up to 0. One does it by hand by collecting all trigonometric function multiplying $E_1$ and $E_2$ separately and proving that both are identical 0."
   ]
  },
  {
   "cell_type": "code",
   "execution_count": 25,
   "metadata": {},
   "outputs": [
    {
     "data": {
      "image/png": "[encoded data removed]",
      "text/latex": [
       "$$0$$"
      ],
      "text/plain": [
       "0"
      ]
     },
     "execution_count": 25,
     "metadata": {},
     "output_type": "execute_result"
    }
   ],
   "source": [
    "T9=0;T9"
   ]
  },
  {
   "cell_type": "markdown",
   "metadata": {},
   "source": [
    "$T10=T_{-+;0-}$ :"
   ]
  },
  {
   "cell_type": "code",
   "execution_count": 26,
   "metadata": {},
   "outputs": [
    {
     "data": {
      "image/png": "[encoded data removed]",
      "text/latex": [
       "$$0$$"
      ],
      "text/plain": [
       "0"
      ]
     },
     "execution_count": 26,
     "metadata": {},
     "output_type": "execute_result"
    }
   ],
   "source": [
    "T10=simplify(hep.compt(kin,0,pin,-1,kout,-1,pout,1));T10"
   ]
  },
  {
   "cell_type": "markdown",
   "metadata": {},
   "source": [
    "$T11=T_{++;0-}$ :"
   ]
  },
  {
   "cell_type": "code",
   "execution_count": 27,
   "metadata": {},
   "outputs": [
    {
     "data": {
      "image/png": "[encoded data removed]",
      "text/latex": [
       "$$0$$"
      ],
      "text/plain": [
       "0"
      ]
     },
     "execution_count": 27,
     "metadata": {},
     "output_type": "execute_result"
    }
   ],
   "source": [
    "T11=simplify(hep.compt(kin,0,pin,-1,kout,1,pout,1));T11"
   ]
  },
  {
   "cell_type": "markdown",
   "metadata": {},
   "source": [
    "$T12=T_{+-;0-}$ :"
   ]
  },
  {
   "cell_type": "code",
   "execution_count": 28,
   "metadata": {},
   "outputs": [
    {
     "data": {
      "image/png": "[encoded data removed]",
      "text/latex": [
       "$$- \\frac{2 \\sqrt{- 2 E_{1} + 2 E_{2}} \\sin{\\left (\\frac{\\theta}{2} \\right )}}{\\sqrt{E_{1}}}$$"
      ],
      "text/plain": [
       "     ______________    ⎛θ⎞ \n",
       "-2⋅╲╱ -2⋅E₁ + 2⋅E₂ ⋅sin⎜─⎟ \n",
       "                       ⎝2⎠ \n",
       "───────────────────────────\n",
       "             ____          \n",
       "           ╲╱ E₁           "
      ]
     },
     "execution_count": 28,
     "metadata": {},
     "output_type": "execute_result"
    }
   ],
   "source": [
    "h3=simplify(hep.compt(kin,0,pin,-1,kout,1,pout,-1));h3"
   ]
  },
  {
   "cell_type": "code",
   "execution_count": 29,
   "metadata": {},
   "outputs": [
    {
     "data": {
      "image/png": "[encoded data removed]",
      "text/latex": [
       "$$- \\frac{2 \\sqrt{2} \\sqrt{- t} \\sqrt{s - s_{0}}}{s_{0}}$$"
      ],
      "text/plain": [
       "        ____   ________ \n",
       "-2⋅√2⋅╲╱ -t ⋅╲╱ s - s₀  \n",
       "────────────────────────\n",
       "           s₀           "
      ]
     },
     "execution_count": 29,
     "metadata": {},
     "output_type": "execute_result"
    }
   ],
   "source": [
    "h4=-2*sqrt(2)*simplify(sqrt(1-E1divE2)*sinthetahalf/sqrt(E1divE2));h4"
   ]
  },
  {
   "cell_type": "code",
   "execution_count": 30,
   "metadata": {},
   "outputs": [
    {
     "data": {
      "image/png": "[encoded data removed]",
      "text/latex": [
       "$$- \\frac{8 t \\left(s - s_{0}\\right)}{s_{0}^{2}}$$"
      ],
      "text/plain": [
       "-8⋅t⋅(s - s₀) \n",
       "──────────────\n",
       "       2      \n",
       "     s₀       "
      ]
     },
     "execution_count": 30,
     "metadata": {},
     "output_type": "execute_result"
    }
   ],
   "source": [
    "T12sq=h4**2;T12sq"
   ]
  },
  {
   "cell_type": "code",
   "execution_count": 31,
   "metadata": {},
   "outputs": [
    {
     "data": {
      "image/png": "[encoded data removed]",
      "text/latex": [
       "$$- \\frac{8 M^{2} t}{s_{0}^{2}}$$"
      ],
      "text/plain": [
       "    2   \n",
       "-8⋅M ⋅t \n",
       "────────\n",
       "    2   \n",
       "  s₀    "
      ]
     },
     "execution_count": 31,
     "metadata": {},
     "output_type": "execute_result"
    }
   ],
   "source": [
    "T12sq=-8*t*M**2/s0**2;T12sq"
   ]
  },
  {
   "cell_type": "markdown",
   "metadata": {},
   "source": [
    "## 3) Cross section"
   ]
  },
  {
   "cell_type": "code",
   "execution_count": 32,
   "metadata": {},
   "outputs": [
    {
     "data": {
      "image/png": "[encoded data removed]",
      "text/latex": [
       "$$- \\frac{4 M^{4} t^{2}}{s s_{0}^{2} u} - \\frac{8 M^{2} t}{s_{0}^{2}} - \\frac{4 s u}{s_{0}^{2}} - \\frac{4 s_{0}^{2}}{s u}$$"
      ],
      "text/plain": [
       "     4  2      2                 2\n",
       "  4⋅M ⋅t    8⋅M ⋅t   4⋅s⋅u   4⋅s₀ \n",
       "- ─────── - ────── - ───── - ─────\n",
       "      2        2        2     s⋅u \n",
       "  s⋅s₀ ⋅u    s₀       s₀          "
      ]
     },
     "execution_count": 32,
     "metadata": {},
     "output_type": "execute_result"
    }
   ],
   "source": [
    "sig1=T1sq+T4sq+T8sq+T12sq;sig1"
   ]
  },
  {
   "cell_type": "code",
   "execution_count": 33,
   "metadata": {},
   "outputs": [
    {
     "data": {
      "image/png": "[encoded data removed]",
      "text/latex": [
       "$$\\frac{- 8 M^{4} + 8 M^{2} s + 8 M^{2} u - 4 s^{2} - 4 u^{2}}{s u}$$"
      ],
      "text/plain": [
       "     4      2        2        2      2\n",
       "- 8⋅M  + 8⋅M ⋅s + 8⋅M ⋅u - 4⋅s  - 4⋅u \n",
       "──────────────────────────────────────\n",
       "                 s⋅u                  "
      ]
     },
     "execution_count": 33,
     "metadata": {},
     "output_type": "execute_result"
    }
   ],
   "source": [
    "simplify(sig1.subs(t,-s0-u).subs(s0,s-M**2))"
   ]
  },
  {
   "cell_type": "code",
   "execution_count": 34,
   "metadata": {},
   "outputs": [
    {
     "data": {
      "image/png": "[encoded data removed]",
      "text/latex": [
       "$$- \\frac{8 M^{2} t}{s u} - \\frac{4 s}{u} - \\frac{4 u}{s}$$"
      ],
      "text/plain": [
       "     2              \n",
       "  8⋅M ⋅t   4⋅s   4⋅u\n",
       "- ────── - ─── - ───\n",
       "   s⋅u      u     s "
      ]
     },
     "execution_count": 34,
     "metadata": {},
     "output_type": "execute_result"
    }
   ],
   "source": [
    "sig=-8*M**2*t/s/u-4*s/u-4*u/s;sig"
   ]
  },
  {
   "cell_type": "code",
   "execution_count": null,
   "metadata": {},
   "outputs": [],
   "source": []
  }
 ],
 "metadata": {
  "kernelspec": {
   "display_name": "Python 3 (ipykernel)",
   "language": "python",
   "name": "python3"
  },
  "language_info": {
   "codemirror_mode": {
    "name": "ipython",
    "version": 3
   },
   "file_extension": ".py",
   "mimetype": "text/x-python",
   "name": "python",
   "nbconvert_exporter": "python",
   "pygments_lexer": "ipython3",
   "version": "3.10.3"
  }
 },
 "nbformat": 4,
 "nbformat_minor": 2
}
