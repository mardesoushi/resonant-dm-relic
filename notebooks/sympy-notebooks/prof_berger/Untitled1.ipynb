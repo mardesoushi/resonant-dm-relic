{
 "cells": [
  {
   "cell_type": "code",
   "execution_count": 1,
   "id": "d923ea7d",
   "metadata": {},
   "outputs": [],
   "source": [
    "from sympy import *"
   ]
  },
  {
   "cell_type": "code",
   "execution_count": 2,
   "id": "f9387177",
   "metadata": {},
   "outputs": [
    {
     "name": "stdout",
     "output_type": "stream",
     "text": [
      "Reading heppackv0.py (july 2022)\n",
      "\n",
      "Done\n"
     ]
    }
   ],
   "source": [
    "import heppackv0 as hep"
   ]
  },
  {
   "cell_type": "code",
   "execution_count": 4,
   "id": "7ff06729",
   "metadata": {},
   "outputs": [
    {
     "name": "stdout",
     "output_type": "stream",
     "text": [
      "The CM system is used\n"
     ]
    }
   ],
   "source": [
    "print('The CM system is used')\n",
    "E0,E1,E2,E3,p1,p3,m,M,s,x,y,z,a=symbols('E0 E1 E2 E3 p1 p3 m M s x y z a',positive=True)\n",
    "theta, theta2,theta3=symbols('theta theta2 theta3')"
   ]
  },
  {
   "cell_type": "code",
   "execution_count": 10,
   "id": "7342ebfe",
   "metadata": {},
   "outputs": [],
   "source": [
    "ki=[E0,0,0,0]\n",
    "pin=[E0,0,pi,pi]\n",
    "kf=[E0,0,theta,0]\n",
    "pf=[E0,0,pi-theta,pi]"
   ]
  },
  {
   "cell_type": "code",
   "execution_count": 11,
   "id": "6b04b79b",
   "metadata": {},
   "outputs": [
    {
     "data": {
      "image/png": "[encoded data removed]",
      "text/latex": [
       "$\\displaystyle 8 E_{0}^{2}$"
      ],
      "text/plain": [
       "    2\n",
       "8⋅E₀ "
      ]
     },
     "execution_count": 11,
     "metadata": {},
     "output_type": "execute_result"
    }
   ],
   "source": [
    "t1=simplify(hep.dotprod4(hep.ubuw(pf,-1,pin,-1),hep.ubuw(kf,-1,ki,-1)));t1"
   ]
  },
  {
   "cell_type": "code",
   "execution_count": 14,
   "id": "e3f31f86",
   "metadata": {},
   "outputs": [
    {
     "data": {
      "image/png": "[encoded data removed]",
      "text/latex": [
       "$\\displaystyle - 4 E_{0}^{2} \\left(\\cos{\\left(\\theta \\right)} + 1\\right)$"
      ],
      "text/plain": [
       "     2             \n",
       "-4⋅E₀ ⋅(cos(θ) + 1)"
      ]
     },
     "execution_count": 14,
     "metadata": {},
     "output_type": "execute_result"
    }
   ],
   "source": [
    "t2=simplify(hep.dotprod4(hep.ubvw(pf,-1,kf,1),hep.vbuw(ki,1,pin,-1)));t2"
   ]
  },
  {
   "cell_type": "code",
   "execution_count": 15,
   "id": "4345cf4c",
   "metadata": {},
   "outputs": [
    {
     "data": {
      "image/png": "[encoded data removed]",
      "text/latex": [
       "$\\displaystyle - 4 E_{0}^{2} \\left(\\cos{\\left(\\theta \\right)} + 1\\right)$"
      ],
      "text/plain": [
       "     2             \n",
       "-4⋅E₀ ⋅(cos(θ) + 1)"
      ]
     },
     "execution_count": 15,
     "metadata": {},
     "output_type": "execute_result"
    }
   ],
   "source": [
    "t3=simplify(hep.dotprod4(hep.ubv(pf,-1,kf,1),hep.vbu(ki,1,pin,-1)));t3"
   ]
  },
  {
   "cell_type": "code",
   "execution_count": null,
   "id": "0988b97a",
   "metadata": {},
   "outputs": [],
   "source": []
  }
 ],
 "metadata": {
  "kernelspec": {
   "display_name": "Python 3 (ipykernel)",
   "language": "python",
   "name": "python3"
  },
  "language_info": {
   "codemirror_mode": {
    "name": "ipython",
    "version": 3
   },
   "file_extension": ".py",
   "mimetype": "text/x-python",
   "name": "python",
   "nbconvert_exporter": "python",
   "pygments_lexer": "ipython3",
   "version": "3.10.3"
  }
 },
 "nbformat": 4,
 "nbformat_minor": 5
}
