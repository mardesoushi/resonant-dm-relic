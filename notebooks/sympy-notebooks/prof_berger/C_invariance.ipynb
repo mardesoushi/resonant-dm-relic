{
 "cells": [
  {
   "cell_type": "code",
   "execution_count": 1,
   "id": "3f1252c1-82ee-42ca-850d-396259a344bf",
   "metadata": {},
   "outputs": [],
   "source": [
    "import heppackv0 as hep\n",
    "import sympy as sy"
   ]
  },
  {
   "cell_type": "code",
   "execution_count": 2,
   "id": "3ae3ee8f-37b3-471b-862a-9878cc0141d0",
   "metadata": {},
   "outputs": [],
   "source": [
    "theta, phi = sy.symbols(\"theta phi\",real=True)\n",
    "E,D,m = sy.symbols(\"E D m\",real=True,positive=True)\n",
    "a,b,c,d = sy.symbols(\"a b c d\")"
   ]
  },
  {
   "cell_type": "markdown",
   "id": "2083a576-4f21-4db0-a997-f567cf8471c0",
   "metadata": {},
   "source": [
    "### Task: Calculate $\\overline{\\psi}^c \\psi^c$ and compare to $\\overline{\\psi} \\psi$"
   ]
  },
  {
   "cell_type": "markdown",
   "id": "eb8388cc-c531-460c-8816-2faff29bf1e1",
   "metadata": {},
   "source": [
    "### 1. Analytic calculation"
   ]
  },
  {
   "cell_type": "markdown",
   "id": "e79963f1-335f-45cf-a8cf-27e2798572ce",
   "metadata": {},
   "source": [
    "Mit  $\\overline{\\psi} = ((\\psi)^*)^T) \\gamma^0$ \n",
    "und $\\psi^c = i \\gamma^2 \\psi^*$ findet man <br>\n",
    "$\\overline{\\psi}^c = ((i \\gamma^2 \\psi^*)^*)^T \\gamma^0 = (-i\\gamma^{2*}\\psi)^T\\gamma^0 = -i\\psi^T (\\gamma^{2 *})^T \\gamma^0\n",
    "= -i \\psi^T\\gamma^0\\gamma^2$, \n",
    "\n",
    "wobei im letzten Schritt $(\\gamma^{2 *})^T = - \\gamma^2$ und $\\gamma^2\\gamma^0 = -\\gamma^0 \\gamma^2$ verwendet wurde. \n",
    "\n",
    "Mit  $\\gamma^2\\gamma^2 = -1$ folgt dann:\n",
    "\n",
    "$\\overline{\\psi}^c \\psi^c = -i \\psi^T\\gamma^0 \\gamma^2 (i \\gamma^2 \\psi^*) = - \\psi^T\\gamma^0 \\psi^+ = - (\\overline{\\psi} \\psi)^* = - \\overline{\\psi} \\psi$\n",
    "\n",
    "Ich denke, dass der letzte Schritt gilt, da $\\gamma^0$ eine Diagonalmatrix ist und\n",
    "jede Komponent in $\\psi$ mit dem komplex konjugierten multipliziert wird. \n",
    "\n",
    "Therefore\n",
    "$\\overline{\\psi} \\psi = 2m$ and $\\overline{\\psi}^c \\psi^c = -2m$.\n",
    "\n"
   ]
  },
  {
   "cell_type": "markdown",
   "id": "af4ca9b1-30f3-47d7-84b9-925c9ea05d4f",
   "metadata": {},
   "source": [
    "# Test 1: Darstellung von $\\psi$ als komplexer Spinor"
   ]
  },
  {
   "cell_type": "code",
   "execution_count": 3,
   "id": "489f887e-36e6-4397-ad1b-fd17441387d8",
   "metadata": {},
   "outputs": [
    {
     "data": {
      "text/plain": [
       "'psi: '"
      ]
     },
     "metadata": {},
     "output_type": "display_data"
    },
    {
     "data": {
      "image/png": "[encoded data removed]",
      "text/latex": [
       "$\\displaystyle \\left[\\begin{matrix}a\\\\b\\\\c\\\\d\\end{matrix}\\right]$"
      ],
      "text/plain": [
       "⎡a⎤\n",
       "⎢ ⎥\n",
       "⎢b⎥\n",
       "⎢ ⎥\n",
       "⎢c⎥\n",
       "⎢ ⎥\n",
       "⎣d⎦"
      ]
     },
     "metadata": {},
     "output_type": "display_data"
    },
    {
     "data": {
      "text/plain": [
       "'psibar: '"
      ]
     },
     "metadata": {},
     "output_type": "display_data"
    },
    {
     "data": {
      "image/png": "[encoded data removed]",
      "text/latex": [
       "$\\displaystyle \\left[\\begin{matrix}\\overline{a} & \\overline{b} & - \\overline{c} & - \\overline{d}\\end{matrix}\\right]$"
      ],
      "text/plain": [
       "⎡_  _   _   _⎤\n",
       "⎣a  b  -c  -d⎦"
      ]
     },
     "metadata": {},
     "output_type": "display_data"
    },
    {
     "data": {
      "text/plain": [
       "'psibar*psi: '"
      ]
     },
     "metadata": {},
     "output_type": "display_data"
    },
    {
     "data": {
      "image/png": "[encoded data removed]",
      "text/latex": [
       "$\\displaystyle \\left[\\begin{matrix}a \\overline{a} + b \\overline{b} - c \\overline{c} - d \\overline{d}\\end{matrix}\\right]$"
      ],
      "text/plain": [
       "⎡  _     _     _     _⎤\n",
       "⎣a⋅a + b⋅b - c⋅c - d⋅d⎦"
      ]
     },
     "metadata": {},
     "output_type": "display_data"
    }
   ],
   "source": [
    "psi = sy.Matrix([[a],[b],[c],[d]])\n",
    "psibar = psi.D  # D berechnet Dirac adjoint == bar\n",
    "display(\"psi: \", psi)\n",
    "display(\"psibar: \", psibar)\n",
    "psibar*psi\n",
    "display(\"psibar*psi: \", psibar*psi)"
   ]
  },
  {
   "cell_type": "code",
   "execution_count": 4,
   "id": "ea435315-6086-499b-b913-9662be54c0ef",
   "metadata": {},
   "outputs": [
    {
     "data": {
      "text/plain": [
       "'psic: '"
      ]
     },
     "metadata": {},
     "output_type": "display_data"
    },
    {
     "data": {
      "image/png": "[encoded data removed]",
      "text/latex": [
       "$\\displaystyle \\left[\\begin{matrix}\\overline{d}\\\\- \\overline{c}\\\\- \\overline{b}\\\\\\overline{a}\\end{matrix}\\right]$"
      ],
      "text/plain": [
       "⎡_ ⎤\n",
       "⎢d ⎥\n",
       "⎢  ⎥\n",
       "⎢ _⎥\n",
       "⎢-c⎥\n",
       "⎢  ⎥\n",
       "⎢ _⎥\n",
       "⎢-b⎥\n",
       "⎢  ⎥\n",
       "⎢_ ⎥\n",
       "⎣a ⎦"
      ]
     },
     "metadata": {},
     "output_type": "display_data"
    },
    {
     "data": {
      "text/plain": [
       "'psicbar: '"
      ]
     },
     "metadata": {},
     "output_type": "display_data"
    },
    {
     "data": {
      "image/png": "[encoded data removed]",
      "text/latex": [
       "$\\displaystyle \\left[\\begin{matrix}d & - c & b & - a\\end{matrix}\\right]$"
      ],
      "text/plain": [
       "[d  -c  b  -a]"
      ]
     },
     "metadata": {},
     "output_type": "display_data"
    },
    {
     "data": {
      "text/plain": [
       "'psicbar*psic: '"
      ]
     },
     "metadata": {},
     "output_type": "display_data"
    },
    {
     "data": {
      "image/png": "[encoded data removed]",
      "text/latex": [
       "$\\displaystyle \\left[\\begin{matrix}- a \\overline{a} - b \\overline{b} + c \\overline{c} + d \\overline{d}\\end{matrix}\\right]$"
      ],
      "text/plain": [
       "⎡    _     _     _     _⎤\n",
       "⎣- a⋅a - b⋅b + c⋅c + d⋅d⎦"
      ]
     },
     "metadata": {},
     "output_type": "display_data"
    }
   ],
   "source": [
    "psic = sy.I*hep.g2*psi.C\n",
    "psicbar = psic.D\n",
    "display(\"psic: \", psic)\n",
    "display(\"psicbar: \", psicbar)\n",
    "display(\"psicbar*psic: \", psicbar*psic)"
   ]
  },
  {
   "cell_type": "code",
   "execution_count": 5,
   "id": "88a96835-6243-4af5-98c7-7a0445aa9efa",
   "metadata": {},
   "outputs": [
    {
     "data": {
      "text/plain": [
       "True"
      ]
     },
     "execution_count": 5,
     "metadata": {},
     "output_type": "execute_result"
    }
   ],
   "source": [
    "psicbar*psic == - psibar*psi"
   ]
  },
  {
   "cell_type": "markdown",
   "id": "837cf6e3-3432-406e-84cb-2355e061283b",
   "metadata": {},
   "source": [
    "# Test 2: Berechnung mit heppackv0"
   ]
  },
  {
   "cell_type": "code",
   "execution_count": 6,
   "id": "23c4cde1-d03f-4d18-b84c-a7db3928d211",
   "metadata": {},
   "outputs": [],
   "source": [
    "ul = hep.u_l(E,m,theta, phi)\n",
    "ulbar = hep.u_lbar(E,m,theta, phi)\n",
    "vl = hep.v_l(E,m,theta, phi)\n",
    "vlbar = hep.v_lbar(E,m,theta, phi)"
   ]
  },
  {
   "cell_type": "code",
   "execution_count": 7,
   "id": "91740dca-e862-4548-acf9-3868d267a442",
   "metadata": {},
   "outputs": [
    {
     "data": {
      "image/png": "[encoded data removed]",
      "text/latex": [
       "$\\displaystyle \\left[\\begin{matrix}2 m\\end{matrix}\\right]$"
      ],
      "text/plain": [
       "[2⋅m]"
      ]
     },
     "execution_count": 7,
     "metadata": {},
     "output_type": "execute_result"
    }
   ],
   "source": [
    "sy.simplify(ulbar*ul)"
   ]
  },
  {
   "cell_type": "code",
   "execution_count": 8,
   "id": "d4ddc2bd-7980-453a-aa41-a280992e92cc",
   "metadata": {},
   "outputs": [
    {
     "data": {
      "image/png": "[encoded data removed]",
      "text/latex": [
       "$\\displaystyle \\left[\\begin{matrix}- 2 m\\end{matrix}\\right]$"
      ],
      "text/plain": [
       "[-2⋅m]"
      ]
     },
     "execution_count": 8,
     "metadata": {},
     "output_type": "execute_result"
    }
   ],
   "source": [
    "sy.simplify(vlbar*vl)"
   ]
  },
  {
   "cell_type": "code",
   "execution_count": 9,
   "id": "6af0ef3a-24c4-4003-bd64-1d03d0136886",
   "metadata": {},
   "outputs": [
    {
     "data": {
      "text/plain": [
       "True"
      ]
     },
     "execution_count": 9,
     "metadata": {},
     "output_type": "execute_result"
    }
   ],
   "source": [
    "ulbar*ul == - vlbar*vl"
   ]
  },
  {
   "cell_type": "markdown",
   "id": "c4028f8e-ef71-40c6-80f6-376cc15d4657",
   "metadata": {},
   "source": [
    "#### More General calculation with heppackv0"
   ]
  },
  {
   "cell_type": "code",
   "execution_count": 10,
   "id": "5f1d3f87-7bf2-4d63-8b9f-5e3a98bb5f20",
   "metadata": {},
   "outputs": [],
   "source": [
    "EE = D+m   # use D>0 instead of E to avoid problems with sqrt(E-m) in sympy. \n",
    "ul = hep.u_l(EE,m,theta, phi)\n",
    "ulbar = ul.D\n",
    "ulc = sy.I*hep.g2*ul.C\n",
    "ulcbar = ulc.D"
   ]
  },
  {
   "cell_type": "code",
   "execution_count": 11,
   "id": "116f4955-e08b-4e66-ba99-f5fa2652a310",
   "metadata": {},
   "outputs": [
    {
     "data": {
      "image/png": "[encoded data removed]",
      "text/latex": [
       "$\\displaystyle \\left[\\begin{matrix}2 m\\end{matrix}\\right]$"
      ],
      "text/plain": [
       "[2⋅m]"
      ]
     },
     "execution_count": 11,
     "metadata": {},
     "output_type": "execute_result"
    }
   ],
   "source": [
    "sy.simplify(ulbar*ul)"
   ]
  },
  {
   "cell_type": "code",
   "execution_count": 12,
   "id": "11824cfa-c940-4d3d-8630-9c779bbf63f6",
   "metadata": {},
   "outputs": [
    {
     "data": {
      "image/png": "[encoded data removed]",
      "text/latex": [
       "$\\displaystyle \\left[\\begin{matrix}- 2 m\\end{matrix}\\right]$"
      ],
      "text/plain": [
       "[-2⋅m]"
      ]
     },
     "execution_count": 12,
     "metadata": {},
     "output_type": "execute_result"
    }
   ],
   "source": [
    "sy.simplify((ulcbar*ulc).subs(D,E-m))"
   ]
  },
  {
   "cell_type": "code",
   "execution_count": 13,
   "id": "3737911a-f0ef-4a73-8583-c5e90161cda7",
   "metadata": {},
   "outputs": [
    {
     "data": {
      "text/plain": [
       "True"
      ]
     },
     "execution_count": 13,
     "metadata": {},
     "output_type": "execute_result"
    }
   ],
   "source": [
    "ulbar*ul == -ulcbar*ulc"
   ]
  },
  {
   "cell_type": "markdown",
   "id": "dd49e2f7-2398-46f3-8408-7f53e31c37eb",
   "metadata": {},
   "source": [
    "# Test"
   ]
  },
  {
   "cell_type": "code",
   "execution_count": 14,
   "id": "0cc541e8-dec8-4c2e-9bf9-952cef9f8559",
   "metadata": {},
   "outputs": [
    {
     "data": {
      "text/plain": [
       "True"
      ]
     },
     "execution_count": 14,
     "metadata": {},
     "output_type": "execute_result"
    }
   ],
   "source": [
    "hep.g2.C.T==-hep.g2"
   ]
  },
  {
   "cell_type": "code",
   "execution_count": 15,
   "id": "1639a0af-fcb3-4bca-9f47-1ab1fef49a72",
   "metadata": {},
   "outputs": [
    {
     "data": {
      "image/png": "[encoded data removed]",
      "text/latex": [
       "$\\displaystyle \\left[\\begin{matrix}-1 & 0 & 0 & 0\\\\0 & -1 & 0 & 0\\\\0 & 0 & -1 & 0\\\\0 & 0 & 0 & -1\\end{matrix}\\right]$"
      ],
      "text/plain": [
       "⎡-1  0   0   0 ⎤\n",
       "⎢              ⎥\n",
       "⎢0   -1  0   0 ⎥\n",
       "⎢              ⎥\n",
       "⎢0   0   -1  0 ⎥\n",
       "⎢              ⎥\n",
       "⎣0   0   0   -1⎦"
      ]
     },
     "execution_count": 15,
     "metadata": {},
     "output_type": "execute_result"
    }
   ],
   "source": [
    "hep.g2*hep.g2"
   ]
  },
  {
   "cell_type": "code",
   "execution_count": 16,
   "id": "a9d3d1c9-8970-4546-ad05-0c11cff3342e",
   "metadata": {},
   "outputs": [
    {
     "data": {
      "text/plain": [
       "True"
      ]
     },
     "execution_count": 16,
     "metadata": {},
     "output_type": "execute_result"
    }
   ],
   "source": [
    "hep.g0*hep.g2 == - hep.g2*hep.g0"
   ]
  }
 ],
 "metadata": {
  "kernelspec": {
   "display_name": "Python 3 (ipykernel)",
   "language": "python",
   "name": "python3"
  },
  "language_info": {
   "codemirror_mode": {
    "name": "ipython",
    "version": 3
   },
   "file_extension": ".py",
   "mimetype": "text/x-python",
   "name": "python",
   "nbconvert_exporter": "python",
   "pygments_lexer": "ipython3",
   "version": "3.10.3"
  }
 },
 "nbformat": 4,
 "nbformat_minor": 5
}
