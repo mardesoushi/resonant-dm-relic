{
 "cells": [
  {
   "cell_type": "code",
   "execution_count": 1,
   "id": "702fe4d9-8152-424d-8ddd-7bac2e4510a5",
   "metadata": {},
   "outputs": [
    {
     "name": "stdout",
     "output_type": "stream",
     "text": [
      "Reading heppackv0.py (july 2022)\n",
      "\n",
      "Done\n"
     ]
    }
   ],
   "source": [
    "import sympy as sy\n",
    "import heppackv0 as hep"
   ]
  },
  {
   "cell_type": "markdown",
   "id": "87cb5765-5f1b-4abc-9eef-12661703e121",
   "metadata": {},
   "source": [
    "Verify the following table with heppackv0\n",
    "$$\n",
    "\\begin{tabular}{ccccccc}\\\\ \n",
    "   & $u$ & $+p_z$ & $+s_z$ & $+\\lambda$ & $L$ & $R$\\\\ \n",
    "P & $u$ & $-p_z$ & $+s_z$ & $-\\lambda$   & $R$ & $L$ \\\\\n",
    "C & $v$ & $+p_z$ & $+s_z$ & $+\\lambda$ & $L$ & $R$ \\\\\n",
    "T & $u$ & $-p_z$ & $-s_z$ & $+\\lambda$ & $L$ & $R$ \\\\\n",
    "PT & $u$ & $+p_z$ & $-s_z$ & $-\\lambda$ & $R$ & $L$ \\\\\n",
    "CP & $v$ & $-p_z$ & $+s_z$ & $-\\lambda$ & $R$ & $L$\\\\\n",
    "CPT & $v$ & $+p_z$ & $-s_z$ & $-\\lambda$ & $R$ & $L$ \n",
    "\\end{tabular}\n",
    "$$"
   ]
  },
  {
   "cell_type": "code",
   "execution_count": 2,
   "id": "b2e1b850-f50c-4fff-bbca-7d7f428033a6",
   "metadata": {},
   "outputs": [],
   "source": [
    "E,m,theta,phi = sy.symbols(\"E,m,theta,phi\",positive=True)"
   ]
  },
  {
   "cell_type": "code",
   "execution_count": 3,
   "id": "3c5cfbe8-febb-4747-9809-a0ac9977ba69",
   "metadata": {},
   "outputs": [],
   "source": [
    "up = hep.u_r(E,m,theta,phi)\n",
    "upR = hep.projpl*up\n",
    "upL = hep.projm*up\n",
    "un = hep.u_l(E,m,theta,phi)\n",
    "unR = hep.projpl*un\n",
    "unL = hep.projm*un\n",
    "vp = hep.v_r(E,m,theta,phi)\n",
    "vpR = hep.projm*vp\n",
    "vpL = hep.projpl*vp\n",
    "vn = hep.v_l(E,m,theta,phi)\n",
    "vnR = hep.projm*vn\n",
    "vnL = hep.projpl*vn"
   ]
  },
  {
   "cell_type": "code",
   "execution_count": 4,
   "id": "176e2430",
   "metadata": {},
   "outputs": [
    {
     "data": {
      "image/png": "[encoded data removed]",
      "text/latex": [
       "$\\displaystyle \\left[\\begin{matrix}\\sqrt{E + m} \\cos{\\left(\\frac{\\theta}{2} \\right)}\\\\\\sqrt{E + m} e^{i \\phi} \\sin{\\left(\\frac{\\theta}{2} \\right)}\\\\\\sqrt{E - m} \\cos{\\left(\\frac{\\theta}{2} \\right)}\\\\\\sqrt{E - m} e^{i \\phi} \\sin{\\left(\\frac{\\theta}{2} \\right)}\\end{matrix}\\right]$"
      ],
      "text/plain": [
       "⎡    _______    ⎛θ⎞   ⎤\n",
       "⎢  ╲╱ E + m ⋅cos⎜─⎟   ⎥\n",
       "⎢               ⎝2⎠   ⎥\n",
       "⎢                     ⎥\n",
       "⎢  _______  ⅈ⋅φ    ⎛θ⎞⎥\n",
       "⎢╲╱ E + m ⋅ℯ   ⋅sin⎜─⎟⎥\n",
       "⎢                  ⎝2⎠⎥\n",
       "⎢                     ⎥\n",
       "⎢    _______    ⎛θ⎞   ⎥\n",
       "⎢  ╲╱ E - m ⋅cos⎜─⎟   ⎥\n",
       "⎢               ⎝2⎠   ⎥\n",
       "⎢                     ⎥\n",
       "⎢  _______  ⅈ⋅φ    ⎛θ⎞⎥\n",
       "⎢╲╱ E - m ⋅ℯ   ⋅sin⎜─⎟⎥\n",
       "⎣                  ⎝2⎠⎦"
      ]
     },
     "execution_count": 4,
     "metadata": {},
     "output_type": "execute_result"
    }
   ],
   "source": [
    "up"
   ]
  },
  {
   "cell_type": "code",
   "execution_count": 4,
   "id": "e77be692-7be0-4dae-b895-2b2c90bc75f6",
   "metadata": {},
   "outputs": [],
   "source": [
    "def spinor(uv, psign=1, sign=1, phase=0):\n",
    "    \"\"\"\n",
    "    Apply sign change in momentum and phase change of spinor\n",
    "    uv: spinor as given in heppackv0\n",
    "    psign: \n",
    "        -1: reverse momentum\n",
    "    sign:\n",
    "        multiply spinor with sign*sy.exp(phase*sy.I*phi)\n",
    "    \"\"\"\n",
    "    \n",
    "    r = sign * uv * sy.exp(phase*sy.I*phi)\n",
    "    if psign==-1:\n",
    "        r1 = r.subs(theta,sy.pi-theta).subs(phi,phi+sy.pi)\n",
    "    else:\n",
    "        r1 = r\n",
    "    r2 = sy.simplify(r1).expand()\n",
    "    return r2    "
   ]
  },
  {
   "cell_type": "code",
   "execution_count": 5,
   "id": "1b257b73-3702-42e2-acd6-d67079fe409b",
   "metadata": {},
   "outputs": [],
   "source": [
    "def P(uv):\n",
    "    \"\"\"\n",
    "    Calculate parity operation on spinor uv. \n",
    "    \"\"\"\n",
    "    r = hep.g0*uv\n",
    "    return sy.simplify(r).expand()"
   ]
  },
  {
   "cell_type": "code",
   "execution_count": 6,
   "id": "cda983ca-e286-4d4e-8512-597e4c6bb38a",
   "metadata": {},
   "outputs": [],
   "source": [
    "def C(uv):\n",
    "    r = sy.I*hep.g2*uv.subs(phi,-phi)\n",
    "    return sy.simplify(r).expand()"
   ]
  },
  {
   "cell_type": "code",
   "execution_count": 7,
   "id": "9c81089f-4649-48dd-9633-7df23fea2caa",
   "metadata": {},
   "outputs": [],
   "source": [
    "def T(uv):\n",
    "    r = hep.g1*hep.g3*uv.subs(phi,-phi)\n",
    "    return sy.simplify(r).expand()"
   ]
  },
  {
   "cell_type": "code",
   "execution_count": 15,
   "id": "89577179-a104-4bc3-99b3-7a660dd5f047",
   "metadata": {},
   "outputs": [
    {
     "data": {
      "text/plain": [
       "'P up(p) = un(-p): True'"
      ]
     },
     "metadata": {},
     "output_type": "display_data"
    },
    {
     "data": {
      "text/plain": [
       "'P un(p) = up(-p): True'"
      ]
     },
     "metadata": {},
     "output_type": "display_data"
    },
    {
     "data": {
      "text/plain": [
       "'P vp(p) = vn(-p): True'"
      ]
     },
     "metadata": {},
     "output_type": "display_data"
    },
    {
     "data": {
      "text/plain": [
       "'P vn(p) = vp(-p): True'"
      ]
     },
     "metadata": {},
     "output_type": "display_data"
    },
    {
     "data": {
      "text/plain": [
       "'With chiral states'"
      ]
     },
     "metadata": {},
     "output_type": "display_data"
    },
    {
     "data": {
      "text/plain": [
       "'P upR(p) == unL(-p): True'"
      ]
     },
     "metadata": {},
     "output_type": "display_data"
    },
    {
     "data": {
      "text/plain": [
       "'P upL(p) == unR(-p): True'"
      ]
     },
     "metadata": {},
     "output_type": "display_data"
    },
    {
     "data": {
      "text/plain": [
       "'P vpR(p) == vnL(-p): True'"
      ]
     },
     "metadata": {},
     "output_type": "display_data"
    },
    {
     "data": {
      "text/plain": [
       "'P vpL(p) == vnR(-p): True'"
      ]
     },
     "metadata": {},
     "output_type": "display_data"
    }
   ],
   "source": [
    "# Check parity \n",
    "rup = P(up) == spinor(un,psign=-1,sign=-1,phase=1)\n",
    "run = P(un) == spinor(up,psign=-1,sign=1,phase=-1)\n",
    "rvp = P(vp) == spinor(vn,psign=-1,sign=-1,phase=-1)\n",
    "rvp = P(vp) == spinor(vn,psign=-1,sign=-1,phase=-1)\n",
    "rvn = P(vn) == spinor(vp,psign=-1,sign=1,phase=1)\n",
    "#\n",
    "display(\"P up(p) == un(-p): \"+str(rup))\n",
    "display(\"P un(p) == up(-p): \"+str(run))\n",
    "display(\"P vp(p) == vn(-p): \"+str(rvp))\n",
    "display(\"P vn(p) == vp(-p): \"+str(rvn))\n",
    "display(\"With chiral states\")\n",
    "rupR = P(upR) == spinor(unL,psign=-1,sign=-1,phase=1)\n",
    "rupL = P(unL) == spinor(upR,psign=-1,sign=1,phase=-1)\n",
    "rvpR = P(vpR) == spinor(vnL,psign=-1,sign=-1,phase=-1)\n",
    "rvpL = P(vpL) == spinor(vnR,psign=-1,sign=-1,phase=-1)\n",
    "\n",
    "display(\"P upR(p) == unL(-p): \"+str(rupR))\n",
    "display(\"P upL(p) == unR(-p): \"+str(rupL))\n",
    "display(\"P vpR(p) == vnL(-p): \"+str(rvpR))\n",
    "display(\"P vpL(p) == vnR(-p): \"+str(rvpL))"
   ]
  },
  {
   "cell_type": "code",
   "execution_count": 16,
   "id": "316db94e-9a3b-4998-9097-e3726a9a5478",
   "metadata": {},
   "outputs": [
    {
     "data": {
      "text/plain": [
       "'C up(p) == vp(p): True'"
      ]
     },
     "metadata": {},
     "output_type": "display_data"
    },
    {
     "data": {
      "text/plain": [
       "'C un(p) == vn(p): True'"
      ]
     },
     "metadata": {},
     "output_type": "display_data"
    },
    {
     "data": {
      "text/plain": [
       "'C vp(p) == up(p): True'"
      ]
     },
     "metadata": {},
     "output_type": "display_data"
    },
    {
     "data": {
      "text/plain": [
       "'C vn(p) == un(p): True'"
      ]
     },
     "metadata": {},
     "output_type": "display_data"
    },
    {
     "data": {
      "text/plain": [
       "'With chiral states'"
      ]
     },
     "metadata": {},
     "output_type": "display_data"
    },
    {
     "data": {
      "text/plain": [
       "'C upR(p) == vpR(p): True'"
      ]
     },
     "metadata": {},
     "output_type": "display_data"
    },
    {
     "data": {
      "text/plain": [
       "'C upL(p) == vpL(p): True'"
      ]
     },
     "metadata": {},
     "output_type": "display_data"
    }
   ],
   "source": [
    "# check C\n",
    "rup = C(up) == spinor(vp,psign=1,sign=1,phase=0)\n",
    "run = C(un) == spinor(vn,psign=1,sign=-1,phase=0)\n",
    "rvp = C(vp) == spinor(up,psign=1,sign=1,phase=0)\n",
    "rvn = C(vn) == spinor(un,psign=1,sign=-1,phase=0)\n",
    "#\n",
    "rupR = C(upR) == spinor(vpR,psign=1,sign=1,phase=0)\n",
    "rupL = C(upL) == spinor(vpL,psign=1,sign=1,phase=0)\n",
    "#\n",
    "display(\"C up(p) == vp(p): \"+str(rup))\n",
    "display(\"C un(p) == vn(p): \"+str(run))\n",
    "display(\"C vp(p) == up(p): \"+str(rvp))\n",
    "display(\"C vn(p) == un(p): \"+str(rvn))\n",
    "display(\"With chiral states\")\n",
    "display(\"C upR(p) == vpR(p): \"+str(rupR))\n",
    "display(\"C upL(p) == vpL(p): \"+str(rupL))"
   ]
  },
  {
   "cell_type": "code",
   "execution_count": 17,
   "id": "17bfe772-e9ec-4d24-8cd2-9c71c3b84ed2",
   "metadata": {},
   "outputs": [
    {
     "data": {
      "text/plain": [
       "'T up(p) == up(-p): True'"
      ]
     },
     "metadata": {},
     "output_type": "display_data"
    },
    {
     "data": {
      "text/plain": [
       "'T un(p) == un(-p): True'"
      ]
     },
     "metadata": {},
     "output_type": "display_data"
    },
    {
     "data": {
      "text/plain": [
       "'T vp(p) == vp(-p): True'"
      ]
     },
     "metadata": {},
     "output_type": "display_data"
    },
    {
     "data": {
      "text/plain": [
       "'T vn(p) == vn(-p): True'"
      ]
     },
     "metadata": {},
     "output_type": "display_data"
    },
    {
     "data": {
      "text/plain": [
       "'With chiral states'"
      ]
     },
     "metadata": {},
     "output_type": "display_data"
    },
    {
     "data": {
      "text/plain": [
       "'T upR(p) == upR(-p): True'"
      ]
     },
     "metadata": {},
     "output_type": "display_data"
    },
    {
     "data": {
      "text/plain": [
       "'T upL(p) == upL(-p): True'"
      ]
     },
     "metadata": {},
     "output_type": "display_data"
    }
   ],
   "source": [
    "# check T\n",
    "rup = T(up) == spinor(up,psign=-1,sign=-1,phase=-1)\n",
    "run = T(un) == spinor(un,psign=-1,sign=-1,phase=1)\n",
    "rvp = T(vp) == spinor(vp,psign=-1,sign=-1,phase=1)\n",
    "rvn = T(vn) == spinor(vn,psign=-1,sign=-1,phase=-1)\n",
    "#\n",
    "rupR = T(upR) == spinor(upR,psign=-1,sign=-1,phase=-1)\n",
    "rupL = T(upL) == spinor(upL,psign=-1,sign=-1,phase=-1)\n",
    "#\n",
    "display(\"T up(p) == up(-p): \"+str(rup))\n",
    "display(\"T un(p) == un(-p): \"+str(run))\n",
    "display(\"T vp(p) == vp(-p): \"+str(rvp))\n",
    "display(\"T vn(p) == vn(-p): \"+str(rvn))\n",
    "display(\"With chiral states\")\n",
    "display(\"T upR(p) == upR(-p): \"+str(rupR))\n",
    "display(\"T upL(p) == upL(-p): \"+str(rupL))"
   ]
  },
  {
   "cell_type": "code",
   "execution_count": 18,
   "id": "f4dcbf95-e9ce-47b8-8c86-b53a9799b7d7",
   "metadata": {},
   "outputs": [
    {
     "data": {
      "text/plain": [
       "'PT up(p) == un(p): True'"
      ]
     },
     "metadata": {},
     "output_type": "display_data"
    },
    {
     "data": {
      "text/plain": [
       "'PT un(p) == up(p): True'"
      ]
     },
     "metadata": {},
     "output_type": "display_data"
    },
    {
     "data": {
      "text/plain": [
       "'PT vp(p) == vn(p): True'"
      ]
     },
     "metadata": {},
     "output_type": "display_data"
    },
    {
     "data": {
      "text/plain": [
       "'PT vn(p) == vp(p): True'"
      ]
     },
     "metadata": {},
     "output_type": "display_data"
    },
    {
     "data": {
      "text/plain": [
       "'With chiral states'"
      ]
     },
     "metadata": {},
     "output_type": "display_data"
    },
    {
     "data": {
      "text/plain": [
       "'PT upR(p) == unL(p): True'"
      ]
     },
     "metadata": {},
     "output_type": "display_data"
    },
    {
     "data": {
      "text/plain": [
       "'PT upL(p) == upR(p): True'"
      ]
     },
     "metadata": {},
     "output_type": "display_data"
    }
   ],
   "source": [
    "# check PT\n",
    "rup = P(T(up)) == spinor(un,psign=1,sign=-1,phase=0)\n",
    "run = P(T(un)) == spinor(up,psign=1,sign=1,phase=0)\n",
    "rvp = P(T(vp)) == spinor(vn,psign=1,sign=-1,phase=0)\n",
    "rvn = P(T(vn)) == spinor(vp,psign=1,sign=1,phase=0)\n",
    "#\n",
    "rupR = P(T(upR)) == spinor(unL,psign=1,sign=-1,phase=0)\n",
    "rupL = P(T(upL)) == spinor(unR,psign=1,sign=-1,phase=0)\n",
    "#\n",
    "display(\"PT up(p) == un(p): \"+str(rup))\n",
    "display(\"PT un(p) == up(p): \"+str(run))\n",
    "display(\"PT vp(p) == vn(p): \"+str(rvp))\n",
    "display(\"PT vn(p) == vp(p): \"+str(rvn))\n",
    "display(\"With chiral states\")\n",
    "display(\"PT upR(p) == unL(p): \"+str(rupR))\n",
    "display(\"PT upL(p) == upR(p): \"+str(rupL))"
   ]
  },
  {
   "cell_type": "code",
   "execution_count": 20,
   "id": "83ed966f-ee0e-48e0-8b30-77a2668b4566",
   "metadata": {},
   "outputs": [
    {
     "data": {
      "text/plain": [
       "'CP up(p) == vn(-p): True'"
      ]
     },
     "metadata": {},
     "output_type": "display_data"
    },
    {
     "data": {
      "text/plain": [
       "'CP un(p) == vp(-p): True'"
      ]
     },
     "metadata": {},
     "output_type": "display_data"
    },
    {
     "data": {
      "text/plain": [
       "'CP vp(p) == un(-p): True'"
      ]
     },
     "metadata": {},
     "output_type": "display_data"
    },
    {
     "data": {
      "text/plain": [
       "'CP vn(p) == up(-p): True'"
      ]
     },
     "metadata": {},
     "output_type": "display_data"
    },
    {
     "data": {
      "text/plain": [
       "'With chiral states'"
      ]
     },
     "metadata": {},
     "output_type": "display_data"
    },
    {
     "data": {
      "text/plain": [
       "'CP upR(p) == vnL(p): True'"
      ]
     },
     "metadata": {},
     "output_type": "display_data"
    },
    {
     "data": {
      "text/plain": [
       "'CP upL(p) == vnR(p): True'"
      ]
     },
     "metadata": {},
     "output_type": "display_data"
    }
   ],
   "source": [
    "# check CP\n",
    "rup = C(P(up)) == spinor(vn,psign=-1,sign=1,phase=-1)\n",
    "run = C(P(un)) == spinor(vp,psign=-1,sign=1,phase=1)\n",
    "rvp = C(P(vp)) == spinor(un,psign=-1,sign=1,phase=1)\n",
    "rvn = C(P(vn)) == spinor(up,psign=-1,sign=1,phase=-1)\n",
    "#\n",
    "rupR = C(P(upR)) == spinor(vnL,psign=-1,sign=1,phase=-1)\n",
    "rupL = C(P(upL)) == spinor(vnR,psign=-1,sign=1,phase=-1)\n",
    "#\n",
    "display(\"CP up(p) == vn(-p): \"+str(rup))\n",
    "display(\"CP un(p) == vp(-p): \"+str(run))\n",
    "display(\"CP vp(p) == un(-p): \"+str(rvp))\n",
    "display(\"CP vn(p) == up(-p): \"+str(rvn))\n",
    "display(\"With chiral states\")\n",
    "display(\"CP upR(p) == vnL(p): \"+str(rupR))\n",
    "display(\"CP upL(p) == vnR(p): \"+str(rupL))"
   ]
  },
  {
   "cell_type": "code",
   "execution_count": 21,
   "id": "1cba1746-a410-4408-8e76-6a12f94951c7",
   "metadata": {},
   "outputs": [
    {
     "data": {
      "text/plain": [
       "'CPT up(p) == vn(-p): True'"
      ]
     },
     "metadata": {},
     "output_type": "display_data"
    },
    {
     "data": {
      "text/plain": [
       "'CPT un(p) == vp(-p): True'"
      ]
     },
     "metadata": {},
     "output_type": "display_data"
    },
    {
     "data": {
      "text/plain": [
       "'CPT vp(p) == un(-p): True'"
      ]
     },
     "metadata": {},
     "output_type": "display_data"
    },
    {
     "data": {
      "text/plain": [
       "'CPT vn(p) == up(-p): True'"
      ]
     },
     "metadata": {},
     "output_type": "display_data"
    },
    {
     "data": {
      "text/plain": [
       "'With chiral states'"
      ]
     },
     "metadata": {},
     "output_type": "display_data"
    },
    {
     "data": {
      "text/plain": [
       "'CPT upR(p) == vnL(p): True'"
      ]
     },
     "metadata": {},
     "output_type": "display_data"
    },
    {
     "data": {
      "text/plain": [
       "'CPT upL(p) == vnR(p): True'"
      ]
     },
     "metadata": {},
     "output_type": "display_data"
    }
   ],
   "source": [
    "# check CPT\n",
    "rup = C(P(T(up))) == spinor(vn,psign=1,sign=1,phase=0)\n",
    "run = C(P(T(un))) == spinor(vp,psign=1,sign=1,phase=0)\n",
    "rvp = C(P(T(vp))) == spinor(un,psign=1,sign=1,phase=0)\n",
    "rvn = C(P(T(vn))) == spinor(up,psign=1,sign=1,phase=0)\n",
    "#\n",
    "rupR = C(P(T(upR))) == spinor(vnL,psign=1,sign=1,phase=0)\n",
    "rupL = C(P(T(upL))) == spinor(vnR,psign=1,sign=1,phase=0)\n",
    "#\n",
    "display(\"CPT up(p) == vn(-p): \"+str(rup))\n",
    "display(\"CPT un(p) == vp(-p): \"+str(run))\n",
    "display(\"CPT vp(p) == un(-p): \"+str(rvp))\n",
    "display(\"CPT vn(p) == up(-p): \"+str(rvn))\n",
    "display(\"With chiral states\")\n",
    "display(\"CPT upR(p) == vnL(p): \"+str(rupR))\n",
    "display(\"CPT upL(p) == vnR(p): \"+str(rupL))"
   ]
  },
  {
   "cell_type": "code",
   "execution_count": null,
   "id": "b954abea-726c-4a14-8536-a14a517dd0b8",
   "metadata": {},
   "outputs": [],
   "source": []
  }
 ],
 "metadata": {
  "kernelspec": {
   "display_name": "Python 3 (ipykernel)",
   "language": "python",
   "name": "python3"
  },
  "language_info": {
   "codemirror_mode": {
    "name": "ipython",
    "version": 3
   },
   "file_extension": ".py",
   "mimetype": "text/x-python",
   "name": "python",
   "nbconvert_exporter": "python",
   "pygments_lexer": "ipython3",
   "version": "3.10.3"
  }
 },
 "nbformat": 4,
 "nbformat_minor": 5
}
