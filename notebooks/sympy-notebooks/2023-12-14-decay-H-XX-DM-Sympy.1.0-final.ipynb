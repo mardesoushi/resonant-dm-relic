{
 "cells": [
  {
   "cell_type": "code",
   "execution_count": 1,
   "metadata": {},
   "outputs": [],
   "source": [
    "# SYMPY code for ee-Z-WW (s-channel) amplitude and total cross-section"
   ]
  },
  {
   "cell_type": "code",
   "execution_count": 2,
   "metadata": {},
   "outputs": [],
   "source": [
    "#!python -m pip install sympy"
   ]
  },
  {
   "cell_type": "code",
   "execution_count": 3,
   "metadata": {},
   "outputs": [
    {
     "name": "stdout",
     "output_type": "stream",
     "text": [
      "Reading heppackv0.py (March 2023)\n",
      "\n",
      "Done\n"
     ]
    }
   ],
   "source": [
    "## Custom libraries\n",
    "import sys\n",
    "sys.path.append('../../app')\n",
    "import packages.heppack as hep\n",
    "from modules.functions import  unify_symbols, find_symbol\n",
    "\n",
    "\n",
    "\n",
    "# Everything from sympy\n",
    "from sympy import *\n",
    "import numpy as np\n",
    "import pandas as pd\n",
    "import matplotlib.pyplot as plt\n"
   ]
  },
  {
   "attachments": {},
   "cell_type": "markdown",
   "metadata": {},
   "source": [
    "-> Modifications by me, for the original, see his notebooks. https://profchristophberger.com/lehrbuch-elementarteilchenphysik/python/"
   ]
  },
  {
   "attachments": {},
   "cell_type": "markdown",
   "metadata": {},
   "source": [
    "---\n",
    "---\n",
    "---\n",
    "\n",
    "## Process: $ H(q) \\to W^-_0(k_1)+W^+_0(k_2)$"
   ]
  },
  {
   "attachments": {},
   "cell_type": "markdown",
   "metadata": {},
   "source": [
    "### Symbols, vectors and constants\n"
   ]
  },
  {
   "cell_type": "code",
   "execution_count": 4,
   "metadata": {},
   "outputs": [],
   "source": [
    "## latex symbols doesn't need \"$\" \n",
    "theta, phi = symbols('theta phi', real=True, positive=True)\n",
    "\n",
    "s, t, u, p, s0, t0, u0, Gamma = symbols('s t u p s_0 t_0 u_0 Gamma', real=True, positive=True)\n",
    "\n",
    "Mmed, mf= symbols(r'M_{med} m_f', real=True, positive=True)\n",
    "\n",
    "## Extra terms\n",
    "\n",
    "Etot, E1, E2, m1, m2 = symbols(r'E_tot E_1 E_2 m_1 m_2', real=True, positive=True)\n",
    "\n",
    "# Electroweak constants\n",
    "#cv, ca, gz, gw, thetaw, gz_theta, gw_theta = symbols(r'c_v c_a g_Z g_W theta_W g_Z_theta g_W_theta', real=True, positive=True )\n",
    "\n",
    "\n",
    "#E1, E2, E3, E4, theta2, theta3, Mi, Mf, gx = symbols(r'E_1  E_2 E_3 E_4 theta_2 theta_3 M_i M_f g_{\\chi}', real=True, positive=True)\n"
   ]
  },
  {
   "attachments": {},
   "cell_type": "markdown",
   "metadata": {},
   "source": [
    "---\n",
    "# Decay width Z -> WW"
   ]
  },
  {
   "cell_type": "code",
   "execution_count": 5,
   "metadata": {},
   "outputs": [],
   "source": [
    "## Por conservação de momento de uma partícula decaindo em repouso, teremos que:\n",
    "# k = (M, 0, 0, 0)\n",
    "# M = E1 + E2\n",
    "# E2 = M - E1\n",
    "\n",
    "k = Matrix([0, Mmed, 0, 0])\n",
    "\n",
    "p3 = Matrix([sqrt(s)/2, mf,  theta,  0])\n",
    "p4 = Matrix([sqrt(s)/2, mf, -theta,  pi])\n"
   ]
  },
  {
   "cell_type": "code",
   "execution_count": 6,
   "metadata": {},
   "outputs": [],
   "source": [
    "# def smart_conjugate(expr):\n",
    "#     T1 = expr.subs((I), (-I))\n",
    "#     T2 = expr.subs((-I), (I))\n",
    "\n",
    "#     return (T1 + T2) / 2\n",
    "\n",
    "# def replace_sqrt_with_real_symbols(expr):\n",
    "#     # Create a copy of the expression\n",
    "#     new_expr = expr\n",
    "\n",
    "#     # Traverse the expression tree in preorder\n",
    "#     for i, sub_expr in enumerate(preorder_traversal(expr)):\n",
    "#         # Check if the sub-expression is a square root\n",
    "#         if isinstance(sub_expr, Pow) and sub_expr.exp == S.Half:\n",
    "#             # Create a new symbol with real=True\n",
    "#             inside_sub_expr =  list(preorder_traversal(sub_expr))[1]\n",
    "            \n",
    "#             real_symbol = Symbol(f'e{i}', real=True)\n",
    "\n",
    "#             # Replace the square root with the new symbol\n",
    "#             new_expr = new_expr.subs(sub_expr, real_symbol)\n",
    "\n",
    "#     return new_expr\n",
    "\n",
    "\n",
    "# def reverse(expr, expr_to_reverse):\n",
    "#     # Create a copy of the expression\n",
    "#     new_expr = expr\n",
    "\n",
    "#     # Traverse the expression tree in preorder\n",
    "#     for i, sub_expr in enumerate(preorder_traversal(expr)):\n",
    "#         # Check if the sub-expression is a square root\n",
    "#         if isinstance(sub_expr, Pow) and sub_expr.exp == S.Half:\n",
    "#             # Create a new symbol with real=True\n",
    "#             inside_sub_expr =  list(preorder_traversal(sub_expr))[1]\n",
    "#             print(inside_sub_expr)\n",
    "            \n",
    "#             real_symbol = Symbol(f'e{i}', real=True)\n",
    "\n",
    "#             # Replace the square root with the new symbol\n",
    "#             expr_to_reverse = expr_to_reverse.subs(real_symbol, sub_expr)\n",
    "\n",
    "#     return expr_to_reverse\n",
    "\n",
    "def get_amp_squared_Gamma(prop, u3, p3, u4, p4):\n",
    "    Tems_func = hep.decaimento_Gamma(prop, u3, p3, u4, p4) \n",
    "\n",
    "    beta, xi, lamb = symbols(r'beta xi lambda', real=True, positive=True)\n",
    "    \n",
    "\n",
    "    sum_terms = 0\n",
    "    for T in Tems_func:\n",
    "        T = T.subs(sqrt(- sqrt(s) + 2*mf), beta)\n",
    "        T = T.subs(sqrt(s - 4*mf**2), lamb)\n",
    "        sum_terms += T  * conjugate(T)\n",
    "        #sum_terms = reverse(T, sum_terms)\n",
    "\n",
    "    # Summing over outgoing and averaging over incoming helicities we thus get for the average of squared amplitudes\n",
    "    squared_result = sum_terms #/ 4 # Averaging over the incoming helicities\n",
    "\n",
    "    \n",
    "    # Reverse substitutions\n",
    "    squared_result = squared_result.subs(beta, sqrt(- sqrt(s) + 2*mf))\n",
    "    squared_result = squared_result.subs(lamb, sqrt(s - 4*mf**2))\n",
    "\n",
    "    squared_result = nsimplify(expand(squared_result))\n",
    "    # last simplification\n",
    "    #amp_squared = simplify(squared_result)\n",
    "    #amp_squared = collect(collect(amp_squared, s), mf)\n",
    "\n",
    "    return simplify(squared_result)"
   ]
  },
  {
   "cell_type": "code",
   "execution_count": 7,
   "metadata": {},
   "outputs": [],
   "source": [
    "def Gamma_decay(amp_squared):\n",
    "    # O prefator cinemático para gama é \n",
    "    prefact_decay = (1/(16*pi*Mmed))*sqrt(1 - (mf + mf)**2/Mmed**2)*sqrt(1 - (mf - mf)**2/Mmed**2)\n",
    "    # Portanto, teremos que \n",
    "\n",
    "    Gamma_expr = prefact_decay  * amp_squared #/4#/ (12) # averagin over the initial states\n",
    "\n",
    "    return Gamma_expr"
   ]
  },
  {
   "cell_type": "code",
   "execution_count": 8,
   "metadata": {},
   "outputs": [],
   "source": [
    "MW, v, MH, MZ, lamb, GF, gw, e, thetaw= symbols(r'M_W \\nu M_H M_Z \\lambda G_F g_W e theta_W', real=True, positive=True)"
   ]
  },
  {
   "cell_type": "markdown",
   "metadata": {},
   "source": [
    "---"
   ]
  },
  {
   "cell_type": "markdown",
   "metadata": {},
   "source": [
    "# Results"
   ]
  },
  {
   "cell_type": "code",
   "execution_count": 9,
   "metadata": {},
   "outputs": [],
   "source": [
    "GM = {}"
   ]
  },
  {
   "cell_type": "markdown",
   "metadata": {},
   "source": [
    "## Scalar DM"
   ]
  },
  {
   "cell_type": "code",
   "execution_count": 10,
   "metadata": {},
   "outputs": [
    {
     "data": {
      "image/png": "[encoded data removed]",
      "text/latex": [
       "$\\displaystyle 16 g_{s\\psi}^{2}$"
      ],
      "text/plain": [
       "          2\n",
       "16⋅g_s\\psi "
      ]
     },
     "execution_count": 10,
     "metadata": {},
     "output_type": "execute_result"
    }
   ],
   "source": [
    "amp_sqr = get_amp_squared_Gamma('scalar', 'phibar', p3, 'phi', p4) \n",
    "amp_sqr"
   ]
  },
  {
   "cell_type": "code",
   "execution_count": 11,
   "metadata": {},
   "outputs": [
    {
     "data": {
      "image/png": "[encoded data removed]",
      "text/latex": [
       "$\\displaystyle \\frac{g_{s\\psi}^{2} \\sqrt{1 - \\frac{4 m_{f}^{2}}{M_{med}^{2}}}}{\\pi M_{med}}$"
      ],
      "text/plain": [
       "               ______________\n",
       "              ╱           2  \n",
       "       2     ╱       4⋅m_f   \n",
       "g_s\\psi ⋅   ╱   1 - ──────── \n",
       "           ╱               2 \n",
       "         ╲╱         M_{med}  \n",
       "─────────────────────────────\n",
       "          π⋅M_{med}          "
      ]
     },
     "execution_count": 11,
     "metadata": {},
     "output_type": "execute_result"
    }
   ],
   "source": [
    "## Replace s = M²\n",
    "GM['scalar'] = Gamma_decay(amp_sqr).subs(theta, pi).subs(s, Mmed**2)\n",
    "GM['scalar']"
   ]
  },
  {
   "cell_type": "markdown",
   "metadata": {},
   "source": [
    "## Fermion DM"
   ]
  },
  {
   "cell_type": "code",
   "execution_count": 12,
   "metadata": {},
   "outputs": [
    {
     "data": {
      "image/png": "[encoded data removed]",
      "text/latex": [
       "$\\displaystyle g_{s\\psi}^{2} \\left(- 4 m_{f}^{2} \\sin^{4}{\\left(\\frac{\\theta}{2} \\right)} - 2 m_{f}^{2} \\sin^{2}{\\left(\\theta \\right)} - 4 m_{f}^{2} \\cos^{4}{\\left(\\frac{\\theta}{2} \\right)} + s \\sin^{4}{\\left(\\frac{\\theta}{2} \\right)} + \\frac{s \\sin^{2}{\\left(\\theta \\right)}}{2} + s \\cos^{4}{\\left(\\frac{\\theta}{2} \\right)}\\right)$"
      ],
      "text/plain": [
       "         ⎛                                                                    \n",
       "       2 ⎜       2    4⎛θ⎞        2    2           2    4⎛θ⎞        4⎛θ⎞   s⋅s\n",
       "g_s\\psi ⋅⎜- 4⋅m_f ⋅sin ⎜─⎟ - 2⋅m_f ⋅sin (θ) - 4⋅m_f ⋅cos ⎜─⎟ + s⋅sin ⎜─⎟ + ───\n",
       "         ⎝             ⎝2⎠                               ⎝2⎠         ⎝2⎠      \n",
       "\n",
       "  2               ⎞\n",
       "in (θ)        4⎛θ⎞⎟\n",
       "────── + s⋅cos ⎜─⎟⎟\n",
       " 2             ⎝2⎠⎠"
      ]
     },
     "execution_count": 12,
     "metadata": {},
     "output_type": "execute_result"
    }
   ],
   "source": [
    "amp_sqr = get_amp_squared_Gamma('scalar', 'ubar', p3, 'v', p4) \n",
    "amp_sqr\n"
   ]
  },
  {
   "cell_type": "code",
   "execution_count": 13,
   "metadata": {},
   "outputs": [
    {
     "data": {
      "image/png": "[encoded data removed]",
      "text/latex": [
       "$\\displaystyle \\frac{g_{s\\psi}^{2} \\left(M_{med}^{2} - 4 m_{f}^{2}\\right)^{\\frac{3}{2}}}{16 \\pi M_{med}^{2}}$"
      ],
      "text/plain": [
       "                            3/2\n",
       "       2 ⎛       2        2⎞   \n",
       "g_s\\psi ⋅⎝M_{med}  - 4⋅m_f ⎠   \n",
       "───────────────────────────────\n",
       "                     2         \n",
       "         16⋅π⋅M_{med}          "
      ]
     },
     "execution_count": 13,
     "metadata": {},
     "output_type": "execute_result"
    }
   ],
   "source": [
    "\n",
    "GM['fermion'] = simplify(Gamma_decay(amp_sqr).subs(theta, pi).subs(s, Mmed**2))\n",
    "GM['fermion']"
   ]
  },
  {
   "cell_type": "markdown",
   "metadata": {},
   "source": [
    "## Vector DM"
   ]
  },
  {
   "cell_type": "code",
   "execution_count": 14,
   "metadata": {},
   "outputs": [
    {
     "data": {
      "image/png": "[encoded data removed]",
      "text/latex": [
       "$\\displaystyle \\frac{g_{s\\psi}^{2} \\cdot \\left(16 m_{f}^{4} - 8 m_{f}^{2} s + s^{2}\\right)}{4 m_{f}^{4}}$"
      ],
      "text/plain": [
       "       2 ⎛      4        2      2⎞\n",
       "g_s\\psi ⋅⎝16⋅m_f  - 8⋅m_f ⋅s + s ⎠\n",
       "──────────────────────────────────\n",
       "                   4              \n",
       "              4⋅m_f               "
      ]
     },
     "execution_count": 14,
     "metadata": {},
     "output_type": "execute_result"
    }
   ],
   "source": [
    "amp_sqr = get_amp_squared_Gamma('scalar', 'polbar', -p3, 'pol', -p4) \n",
    "amp_sqr"
   ]
  },
  {
   "cell_type": "code",
   "execution_count": 15,
   "metadata": {},
   "outputs": [
    {
     "data": {
      "image/png": "[encoded data removed]",
      "text/latex": [
       "$\\displaystyle \\frac{g_{s\\psi}^{2} \\sqrt{M_{med}^{2} - 4 m_{f}^{2}} \\left(M_{med}^{4} - 8 M_{med}^{2} m_{f}^{2} + 16 m_{f}^{4}\\right)}{64 \\pi M_{med}^{2} m_{f}^{4}}$"
      ],
      "text/plain": [
       "            ___________________                                       \n",
       "       2   ╱        2        2  ⎛       4            2    2         4⎞\n",
       "g_s\\psi ⋅╲╱  M_{med}  - 4⋅m_f  ⋅⎝M_{med}  - 8⋅M_{med} ⋅m_f  + 16⋅m_f ⎠\n",
       "──────────────────────────────────────────────────────────────────────\n",
       "                                      2    4                          \n",
       "                          64⋅π⋅M_{med} ⋅m_f                           "
      ]
     },
     "execution_count": 15,
     "metadata": {},
     "output_type": "execute_result"
    }
   ],
   "source": [
    "\n",
    "GM['vector'] = simplify(Gamma_decay(amp_sqr).subs(theta, pi).subs(s, Mmed**2))\n",
    "GM['vector']"
   ]
  },
  {
   "cell_type": "code",
   "execution_count": null,
   "metadata": {},
   "outputs": [],
   "source": [
    "## que é a mesma expressão que tinhamos pro decaimento do fermion e também de outros processos, o que significa que a lógica do código esta correta. Basta avaliar mais cuidadosamente a cinemática definida nos vetores iniciais \n",
    "\n",
    "# TODO: Automatizar a criação das expressões\n",
    "# TODO: Usar as expressões automáticas para a criação de novos plots\n",
    "\n",
    "# TODO: Validar os cálculos da materia escura fermionica e escalar com o mediador vetorial com esse novo processo.\n",
    "# TODO: Criar uma ferramenta no streamlit [opcional]\n",
    "# TODO: Publicar!"
   ]
  },
  {
   "cell_type": "code",
   "execution_count": null,
   "metadata": {},
   "outputs": [],
   "source": []
  },
  {
   "cell_type": "code",
   "execution_count": 20,
   "metadata": {},
   "outputs": [
    {
     "name": "stdout",
     "output_type": "stream",
     "text": [
      "def _lambdifygenerated(s, M_med, m_f, Dummy_22):\n",
      "    return (1/192)*Dummy_22**2*(M_med**2 - 4*m_f**2)**(3/2)/(pi*m_f**2)\n",
      "\n"
     ]
    }
   ],
   "source": [
    "# Obtendo o código fonte da função\n",
    "codigo_fonte = {}\n",
    "\n",
    "\n",
    "#codigo_fonte['SM'] = sigma_SM_func\n",
    "codigo_fonte['DM'] = Gamma_func\n",
    "#codigo_fonte['DM_noqq'] = sigma_DM_noqq_func\n",
    "\n",
    "import inspect\n",
    "for name, func in codigo_fonte.items():\n",
    "\n",
    "    print(inspect.getsource(func))"
   ]
  },
  {
   "cell_type": "code",
   "execution_count": 121,
   "metadata": {},
   "outputs": [],
   "source": [
    "#Gamma_vec = nsimplify(expand(Gamma_vec))\n",
    "\n",
    "## Some functions to give a pretier expression\n",
    "Gamma_vec =  together((nsimplify(expand(Gamma_vec))))"
   ]
  },
  {
   "cell_type": "code",
   "execution_count": 128,
   "metadata": {},
   "outputs": [
    {
     "data": {
      "image/png": "[encoded data removed]",
      "text/latex": [
       "$\\displaystyle \\frac{g_{\\chi}^{2} s \\sqrt{\\left(M_{Z^\\prime}\\right)^{2} - 4 m_{f}^{2}} \\left(- \\left(M_{Z^\\prime}\\right)^{2} - 4 m_{f}^{2} + 2 s - 2 \\sqrt{- \\left(M_{Z^\\prime}\\right)^{2} + s} \\sqrt{- 4 m_{f}^{2} + s}\\right)}{16 \\pi \\left(M_{Z^\\prime}\\right)^{2} m_{f}^{2}}$"
      ],
      "text/plain": [
       "               ___________________________ ⎛                                  \n",
       "        2     ╱              2          2  ⎜               2          2       \n",
       "g_{\\chi} ⋅s⋅╲╱  M_{Z__\\prime}  - 4⋅m_{f}  ⋅⎝- M_{Z__\\prime}  - 4⋅m_{f}  + 2⋅s \n",
       "──────────────────────────────────────────────────────────────────────────────\n",
       "                                                                     2      2 \n",
       "                                                   16⋅π⋅M_{Z__\\prime} ⋅m_{f}  \n",
       "\n",
       "       ______________________    ________________⎞\n",
       "      ╱                2        ╱          2     ⎟\n",
       "- 2⋅╲╱  - M_{Z__\\prime}  + s ⋅╲╱  - 4⋅m_{f}  + s ⎠\n",
       "──────────────────────────────────────────────────\n",
       "                                                  \n",
       "                                                  "
      ]
     },
     "execution_count": 128,
     "metadata": {},
     "output_type": "execute_result"
    }
   ],
   "source": [
    "together(collect(expand(Gamma_vec), s )).subs(xi, sqrt(MZp **2 - 4))"
   ]
  },
  {
   "attachments": {},
   "cell_type": "markdown",
   "metadata": {},
   "source": [
    "###  "
   ]
  }
 ],
 "metadata": {
  "kernelspec": {
   "display_name": "Python 3",
   "language": "python",
   "name": "python3"
  },
  "language_info": {
   "codemirror_mode": {
    "name": "ipython",
    "version": 3
   },
   "file_extension": ".py",
   "mimetype": "text/x-python",
   "name": "python",
   "nbconvert_exporter": "python",
   "pygments_lexer": "ipython3",
   "version": "3.10.12"
  },
  "orig_nbformat": 4
 },
 "nbformat": 4,
 "nbformat_minor": 2
}
