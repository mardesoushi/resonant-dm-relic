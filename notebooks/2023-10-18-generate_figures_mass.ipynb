{
 "cells": [
  {
   "attachments": {},
   "cell_type": "markdown",
   "metadata": {},
   "source": [
    "# Import modules and parameters"
   ]
  },
  {
   "cell_type": "code",
   "execution_count": null,
   "metadata": {},
   "outputs": [],
   "source": [
    "# !f2py3.10 -c -m fortran_integral models/fortran_integral.f90\n",
    "# !f2py3.10 -c -m fortran_quad models/fortran_quad.f90"
   ]
  },
  {
   "cell_type": "code",
   "execution_count": null,
   "metadata": {},
   "outputs": [],
   "source": [
    "#!/usr/bin/pythonpy\n",
    "################################################################################\n",
    "# ------------------------------------------------------------------------------\n",
    "################################################################################\n",
    "import os\n",
    "import sys\n",
    "module_path = os.path.abspath(os.path.join('/lib/python3.10/site-packages'))\n",
    "\n",
    "\n",
    "\n",
    "import numpy as np\n",
    "from numpy import sqrt as sqrt\n",
    "from numpy import pi as pi\n",
    "\n",
    "import matplotlib.pyplot as plt\n",
    "from mpl_toolkits.axes_grid1 import ImageGrid\n",
    "import matplotlib.colorbar as colorb\n",
    "import pickle \n",
    "import datetime\n",
    "from matplotlib import colors\n",
    "\n",
    "# Total cross sections\n",
    "sys.path.append('../app/')\n",
    "if module_path not in sys.path:\n",
    "    sys.path.append(module_path)\n",
    "import utils.colorb_2D as cb2d\n",
    "import models.sigma0_xsections as sig0\n",
    "import models.general_parameters as gp\n",
    "import models.relic_density_calc as ohm\n",
    "import models.radiative_factorization as hp\n",
    "import models.pdf_integration as qcd\n",
    "import utils.colorb_2D as cb2d\n",
    "import lhapdf  \n",
    "\n",
    "#################################################\n",
    "#today = datetime.date.today().strftime('%Y-%m-%d')\n",
    "today = '2024-01-03' ##  for run vesions\n",
    "\n",
    "## Some configurations\n",
    "sigmaz = {}\n",
    "## Geral parameters\n",
    "brn = gp.brn\n",
    "\n",
    "\n",
    "smax = gp.smax\n",
    "me = gp.mvec[0]\n",
    "\n",
    "Mmed = gp.Mmed  # TeV\n",
    "mx  = gp.mx #  0.80 * Mmed/2  DM mass [TeV]\n",
    "Nf_ee = gp.Nf_ee \n",
    "Nf_qq = gp.Nf_qq\n",
    "\n",
    "\n",
    "newdm_list = ['Scalar', 'Fermion']\n"
   ]
  },
  {
   "cell_type": "markdown",
   "metadata": {},
   "source": [
    "## For plots, just load this"
   ]
  },
  {
   "cell_type": "code",
   "execution_count": null,
   "metadata": {},
   "outputs": [],
   "source": [
    "import os\n",
    "import sys\n",
    "module_path = os.path.abspath(os.path.join('/lib/python3.10/site-packages'))\n",
    "sys.path.append('../app/')\n",
    "if module_path not in sys.path:\n",
    "    sys.path.append(module_path)\n",
    "import utils.colorb_2D as cb2d\n",
    "import models.general_parameters as gp\n",
    "newdm_list = ['Scalar', 'Fermion']\n",
    "today = '2024-01-03' ##  for run vesions"
   ]
  },
  {
   "cell_type": "code",
   "execution_count": null,
   "metadata": {},
   "outputs": [],
   "source": [
    "# Define then ew colormap\n",
    "import matplotlib.pyplot as plt\n",
    "from matplotlib.colors import ListedColormap\n",
    "cmap = plt.colormaps['twilight']\n",
    "colorsmod = [cmap(i) for i in range(cmap.N)]\n",
    "new_colors = colorsmod[0:len(colorsmod) - 300] #= plt.get_cmap('Reds')(256)  # Change the last color to red\n",
    "new_cmap_ee = ListedColormap(new_colors, name='modified_twilight')"
   ]
  },
  {
   "attachments": {},
   "cell_type": "markdown",
   "metadata": {},
   "source": [
    "---\n",
    "# 1 -  Relic Density"
   ]
  },
  {
   "cell_type": "markdown",
   "metadata": {},
   "source": [
    "## Naive relic density calculation"
   ]
  },
  {
   "cell_type": "markdown",
   "metadata": {},
   "source": [
    "### ee "
   ]
  },
  {
   "cell_type": "code",
   "execution_count": null,
   "metadata": {},
   "outputs": [],
   "source": [
    "### Larger values will increase the processing time\n",
    "\n",
    "binsize_ohm = 100\n",
    "Nfermions = 6\n",
    "dM = 1/binsize_ohm \n",
    "dmx = 0.5/binsize_ohm \n",
    "#Mediator mass [Tev] # \n",
    "Mmed_min = 0.0001\n",
    "Mmed_max = 5.1\n",
    "Mmed_arr = np.arange(Mmed_min, Mmed_max, dM)\n",
    "\n",
    "# DM particle mass [Tev] #\n",
    "mx_min = 0.0001\n",
    "mx_max = 2.6\n",
    "mx_arr = np.arange(mx_min, mx_max, dmx)\n",
    "# Define a grid\n",
    "Mmed_grid_ohm, mx_grid_ohm = np.meshgrid(Mmed_arr, mx_arr) # grid formation for plot\n",
    "omegarelic_mass = {}\n",
    "\n",
    "# smax = 4*mx_grid_ohm**2\n",
    "\n",
    "\n",
    "process = 'ee'\n",
    "Nf_x = gp.Nf_ee if process == 'ee' else gp.Nf_qq\n",
    "gr0 = gp.gr0_e if process == 'ee' else gp.gr0_q\n",
    "\n",
    "\n",
    "gr0 = 0.01\n",
    "\n",
    "Tarr = np.linspace(ohm.T0, mx_grid_ohm/ohm.xf, 10)\n",
    "for fignumber, dmname in enumerate(newdm_list):\n",
    "\n",
    "    print(f'Doing {dmname}')\n",
    "    param_lst = [4*mx_grid_ohm**2, me, Mmed_grid_ohm, mx_grid_ohm, gr0, gr0, gp.gx0, dmname, Nf_x]\n",
    "    omegarelic_mass[f'{dmname}'] = {}\n",
    "    \n",
    "    omegarelic_mass[f'{dmname}']['data'] = ohm.super_naive(4*mx_grid_ohm**2, me, Mmed_grid_ohm, mx_grid_ohm, gr0, gr0, gp.gx0, dmname, Nf_x)\n",
    "\n",
    "    omegarelic_mass[f'{dmname}']['params'] = dict(zip(['s', 'mq', 'Mmed', 'mx', 'gr', 'gl', 'gx', 'dmname', 'Nf'], param_lst))\n",
    "    # saves the computed data for that DM scenario\n",
    "    gp.save_obj(omegarelic_mass[f'{dmname}'], f'./myruns/{today}_supernaive_omegarelic_mass_{process}_{dmname}_binsize_{binsize_ohm}_gr_{gr0}.pkl')\n",
    "    print(f'Done for {dmname}')"
   ]
  },
  {
   "cell_type": "markdown",
   "metadata": {},
   "source": [
    "\n",
    "### Gondolo Relic - $e^{+}e^{-}$ interaction"
   ]
  },
  {
   "cell_type": "code",
   "execution_count": null,
   "metadata": {},
   "outputs": [],
   "source": [
    "\n",
    "### Larger values will increase the processing time\n",
    "binsize_ohm = 70\n",
    "Nfermions = 6\n",
    "dM = 1/binsize_ohm \n",
    "dmx = 0.5/binsize_ohm \n",
    "#Mediator mass [Tev] # \n",
    "Mmed_min = 0.0001\n",
    "Mmed_max = 5.1\n",
    "Mmed_arr = np.arange(Mmed_min, Mmed_max, dM)\n",
    "\n",
    "# DM particle mass [Tev] #\n",
    "mx_min = 0.0001\n",
    "mx_max = 2.6\n",
    "mx_arr = np.arange(mx_min, mx_max, dmx)\n",
    "# Define a grid\n",
    "Mmed_grid_ohm, mx_grid_ohm = np.meshgrid(Mmed_arr, mx_arr) # grid formation for plot\n",
    "omegarelic_mass = {}\n",
    "\n",
    "process = 'ee'\n",
    "Nf_x = gp.Nf_ee if process == 'ee' else gp.Nf_qq\n",
    "#gr0 = gp.gr0_e if process == 'ee' else gp.gr0_q\n",
    "\n",
    "gr0 = 0.1\n",
    "\n",
    "for fignumber, dmname in enumerate(newdm_list):\n",
    "\n",
    "    print(f'Doing {dmname}')\n",
    "    param_lst = [Mmed_grid_ohm**2, me, Mmed_grid_ohm, mx_grid_ohm, gr0, gr0, gp.gx0, dmname, Nf_x]\n",
    "    omegarelic_mass[f'{dmname}'] = {}\n",
    "    \n",
    "    omegarelic_mass[f'{dmname}']['data'] = ohm.Ohm_numerical(Mmed_grid_ohm**2, me, Mmed_grid_ohm, mx_grid_ohm, gr0, gr0, gp.gx0, dmname, Nf_x)\n",
    "\n",
    "    omegarelic_mass[f'{dmname}']['params'] = dict(zip(['s', 'mq', 'Mmed', 'mx', 'gr', 'gl', 'gx', 'dmname', 'Nf'], param_lst))\n",
    "    # saves the computed data for that DM scenario\n",
    "    gp.save_obj(omegarelic_mass[f'{dmname}'], f'./myruns/{today}_omegarelic_mass_{process}_{dmname}_binsize_{binsize_ohm}_gr_{gr0}.pkl')\n",
    "    print(f'Done for {dmname}')\n",
    "\n",
    "#gp.save_obj(omegarelic_mass, f'../myruns/{today}_omegarelic_mass_ee_{dmname}_binsize_{binsize_ohm}.pkl')"
   ]
  },
  {
   "cell_type": "markdown",
   "metadata": {},
   "source": [
    "---\n",
    "---\n",
    "## ee - Plots"
   ]
  },
  {
   "cell_type": "markdown",
   "metadata": {},
   "source": [
    "### e+e- - gr =  0.01"
   ]
  },
  {
   "cell_type": "code",
   "execution_count": null,
   "metadata": {},
   "outputs": [],
   "source": [
    "## GONDOLO RESONANT RELIC\n",
    "binsize_ohm = 70\n",
    "process = 'ee'\n",
    "Nf_x = gp.Nf_ee if process == 'ee' else gp.Nf_qq\n",
    "\n",
    "gr0 = 0.01\n",
    "\n",
    "\n",
    "omegarelic_mass = {}\n",
    "for dmname in newdm_list:\n",
    "    omegarelic_mass[dmname]  = gp.load_obj(f'./myruns/{today}_omegarelic_mass_{process}_{dmname}_binsize_{binsize_ohm}_gr_{gr0}.pkl')\n",
    "#-------------------------------------------------------------------------------------------------------------------------------------------------------------------------------------\n",
    "\n",
    "## NAIVE RELIC \n",
    "binsize_ohm = 100\n",
    "process = 'ee'\n",
    "Nf_x = gp.Nf_ee if process == 'ee' else gp.Nf_qq\n",
    "#gr0 = gp.gr0_e if process == 'ee' else gp.gr0_q\n",
    "\n",
    "omegarelic_mass2 = {}\n",
    "for dmname in newdm_list:\n",
    "    omegarelic_mass2[dmname]  = gp.load_obj(f'./myruns/{today}_supernaive_omegarelic_mass_{process}_{dmname}_binsize_{binsize_ohm}_gr_{gr0}.pkl')\n",
    "#-------------------------------------------------------------------------------------------------------------------------------------------------------------------------------------\n",
    "\n",
    "\n",
    "## PLOT\n",
    "cb2d.cb_mass_relic(process, f'omega-relic-{process}-mass_gr_{gr0}', omegarelic_mass, newdm_list,  gr0, folder = '../figures', today = today, data_object2=omegarelic_mass2)"
   ]
  },
  {
   "cell_type": "markdown",
   "metadata": {},
   "source": [
    "### e+e- - gr = 0.1"
   ]
  },
  {
   "cell_type": "code",
   "execution_count": null,
   "metadata": {},
   "outputs": [],
   "source": [
    "## GONDOLO RESONANT RELIC\n",
    "binsize_ohm = 70\n",
    "process = 'ee'\n",
    "Nf_x = gp.Nf_ee if process == 'ee' else gp.Nf_qq\n",
    "#gr0 = gp.gr0_e if process == 'ee' else gp.gr0_q\n",
    "gr0 = 0.1\n",
    "omegarelic_mass = {}\n",
    "for dmname in newdm_list:\n",
    "    omegarelic_mass[dmname]  = gp.load_obj(f'./myruns/{today}_omegarelic_mass_{process}_{dmname}_binsize_{binsize_ohm}_gr_{gr0}.pkl')\n",
    "#-------------------------------------------------------------------------------------------------------------------------------------------------------------------------------------\n",
    "\n",
    "## NAIVE RELIC \n",
    "binsize_ohm = 100\n",
    "process = 'ee'\n",
    "Nf_x = gp.Nf_ee if process == 'ee' else gp.Nf_qq\n",
    "#gr0 = gp.gr0_e if process == 'ee' else gp.gr0_q\n",
    "gr0 = 0.1\n",
    "omegarelic_mass2 = {}\n",
    "for dmname in newdm_list:\n",
    "    omegarelic_mass2[dmname]  = gp.load_obj(f'./myruns/{today}_supernaive_omegarelic_mass_{process}_{dmname}_binsize_{binsize_ohm}_gr_{gr0}.pkl')\n",
    "#-------------------------------------------------------------------------------------------------------------------------------------------------------------------------------------\n",
    "\n",
    "\n",
    "## PLOT\n",
    "cb2d.cb_mass_relic(process, f'omega-relic-{process}-mass_gr_{gr0}', omegarelic_mass, newdm_list,  gr0, folder = '../figures', today = today, data_object2=omegarelic_mass2)"
   ]
  },
  {
   "attachments": {},
   "cell_type": "markdown",
   "metadata": {},
   "source": [
    "# 2 - XSEC Mass x Mass plot"
   ]
  },
  {
   "cell_type": "markdown",
   "metadata": {},
   "source": [
    "## ee xsec calculation"
   ]
  },
  {
   "cell_type": "code",
   "execution_count": null,
   "metadata": {},
   "outputs": [],
   "source": [
    "binsize = 100\n",
    "dM = 1/binsize\n",
    "dmx = 0.5/binsize\n",
    "#Mediator mass [Tev] # \n",
    "Mmed_min = 0.001\n",
    "Mmed_max = 5.1\n",
    "Mmed_arr = np.arange(Mmed_min, Mmed_max, dM)\n",
    "# DM particle mass [Tev] #\n",
    "mx_min = 0.001\n",
    "mx_max = 2.60\n",
    "mx_arr = np.arange(mx_min, mx_max, dmx)\n",
    "# Define a grid\n",
    "Mmed_grid, mx_grid = np.meshgrid(Mmed_arr, mx_arr) # grid formation for plot\n",
    "## CM total energy (14 TeV for HL-LHC)\n",
    "smax = (3)**2  \n",
    "\n",
    "process = 'ee'\n",
    "Nf_x = gp.Nf_ee if process == 'ee' else gp.Nf_qq\n",
    "gr0 = gp.gr0_e if process == 'ee' else gp.gr0_q\n",
    "gr0 = 0.1\n",
    "\n",
    "sigmaz = {}\n",
    "sighat_hphoton = {}\n",
    "for fignumber, dmname in enumerate(newdm_list):\n",
    "\n",
    "    #define pdf\n",
    "    print(f'Doing {dmname}')\n",
    "    param_lst = [smax, me, Mmed_grid, mx_grid, gr0, gr0, gp.gx0, dmname, Nf_x]\n",
    "    sigmaz[dmname] = {}\n",
    "\n",
    "    sigmaz[f'{dmname}']['data'] = hp.HPhsig(smax, me, Mmed_grid, mx_grid, gr0, gr0, gp.gx0, sig0.SFV(dmname).sig0, Nf_x)\n",
    "    sigmaz[f'{dmname}']['params'] = dict(zip(['s', 'mq', 'Mmed', 'mx', 'gr', 'gl', 'gx', 'dmname', 'Nf'], param_lst))\n",
    "    \n",
    "    # Saves the file\n",
    "    gp.save_obj(sigmaz[f'{dmname}'], f'./myruns/{today}_sigmaz_mass_{process}_{dmname}_binsize_{binsize}_gr_{gr0}.pkl')\n",
    "\n"
   ]
  },
  {
   "cell_type": "markdown",
   "metadata": {},
   "source": [
    "## ee - Plots"
   ]
  },
  {
   "cell_type": "markdown",
   "metadata": {},
   "source": [
    "### gr = 0.1"
   ]
  },
  {
   "cell_type": "code",
   "execution_count": null,
   "metadata": {},
   "outputs": [],
   "source": [
    "\n",
    "newdm_list \n",
    "\n",
    "process = 'ee'\n",
    "Nf_x = gp.Nf_ee if process == 'ee' else gp.Nf_qq\n",
    "gr0 = gp.gr0_e if process == 'ee' else gp.gr0_q\n",
    "gr0 = 0.1\n",
    "\n",
    "## CROSS SECTION\n",
    "binsize = 100\n",
    "sigmaz = {}\n",
    "for dmname in newdm_list:\n",
    "    sigmaz[dmname]  = gp.load_obj(f'./myruns/{today}_sigmaz_mass_{process}_{dmname}_binsize_{binsize}_gr_{gr0}.pkl')\n",
    "#-------------------------------------------------------------------------------------------------------------------------------------------------------------------------------------\n",
    "\n",
    "\n",
    "## RESONANT RELIC\n",
    "binsize_ohm = 200\n",
    "omegarelic_mass = {}\n",
    "for dmname in newdm_list:\n",
    "    omegarelic_mass[dmname]  = gp.load_obj(f'./myruns/{today}_omegarelic_mass_{process}_{dmname}_binsize_{binsize_ohm}_gr_{gr0}.pkl')\n",
    "#-------------------------------------------------------------------------------------------------------------------------------------------------------------------------------------\n",
    "\n",
    "\n",
    "\n",
    "## NAIVE RELIC \n",
    "binsize_ohm = 100\n",
    "process = 'ee'\n",
    "Nf_x = gp.Nf_ee if process == 'ee' else gp.Nf_qq\n",
    "omegarelic_mass2 = {}\n",
    "for dmname in newdm_list:\n",
    "    omegarelic_mass2[dmname]  = gp.load_obj(f'./myruns/{today}_supernaive_omegarelic_mass_{process}_{dmname}_binsize_{binsize_ohm}_gr_{gr0}.pkl')\n",
    "#-------------------------------------------------------------------------------------------------------------------------------------------------------------------------------------\n",
    "\n",
    "\n",
    "cb2d.cb_mass(process, f'massxmass-{process}-ISR_gr_{gr0}', sigmaz, omegarelic_mass, newdm_list, gr0, data_object2= omegarelic_mass2, fix_scale=True, cmap=new_cmap_ee, vmin=10**-4, vmax=10**10)"
   ]
  },
  {
   "cell_type": "markdown",
   "metadata": {},
   "source": [
    "### gr = 0.01"
   ]
  },
  {
   "cell_type": "code",
   "execution_count": null,
   "metadata": {},
   "outputs": [],
   "source": [
    "\n",
    "process = 'ee'\n",
    "Nf_x = gp.Nf_ee if process == 'ee' else gp.Nf_qq\n",
    "gr0 = gp.gr0_e if process == 'ee' else gp.gr0_q\n",
    "gr0 = 0.01\n",
    "\n",
    "## CROSS SECTION\n",
    "binsize = 100\n",
    "sigmaz = {}\n",
    "for dmname in newdm_list:\n",
    "    sigmaz[dmname]  = gp.load_obj(f'./myruns/{today}_sigmaz_mass_{process}_{dmname}_binsize_{binsize}_gr_{gr0}.pkl')\n",
    "#-------------------------------------------------------------------------------------------------------------------------------------------------------------------------------------\n",
    "\n",
    "\n",
    "## RESONANT RELIC\n",
    "binsize_ohm = 70\n",
    "omegarelic_mass = {}\n",
    "for dmname in newdm_list:\n",
    "    omegarelic_mass[dmname]  = gp.load_obj(f'./myruns/{today}_omegarelic_mass_{process}_{dmname}_binsize_{binsize_ohm}_gr_{gr0}.pkl')\n",
    "#-------------------------------------------------------------------------------------------------------------------------------------------------------------------------------------\n",
    "\n",
    "\n",
    "\n",
    "## NAIVE RELIC \n",
    "binsize_ohm = 100\n",
    "process = 'ee'\n",
    "Nf_x = gp.Nf_ee if process == 'ee' else gp.Nf_qq\n",
    "omegarelic_mass2 = {}\n",
    "for dmname in newdm_list:\n",
    "    omegarelic_mass2[dmname]  = gp.load_obj(f'./myruns/{today}_supernaive_omegarelic_mass_{process}_{dmname}_binsize_{binsize_ohm}_gr_{gr0}.pkl')\n",
    "#-------------------------------------------------------------------------------------------------------------------------------------------------------------------------------------\n",
    "\n",
    "\n",
    "cb2d.cb_mass(process, f'massxmass-{process}-ISR_gr_{gr0}', sigmaz, omegarelic_mass, newdm_list, gr0, data_object2= omegarelic_mass2,  fix_scale=True, cmap=new_cmap_ee, vmin=10**-4, vmax=10**10)"
   ]
  },
  {
   "attachments": {},
   "cell_type": "markdown",
   "metadata": {},
   "source": [
    "---\n",
    "---\n",
    "---\n",
    "# $q \\bar q$ interaction \n"
   ]
  },
  {
   "attachments": {},
   "cell_type": "markdown",
   "metadata": {},
   "source": [
    "## qq - Relic Density plot"
   ]
  },
  {
   "attachments": {},
   "cell_type": "markdown",
   "metadata": {},
   "source": [
    "### Naive relic"
   ]
  },
  {
   "cell_type": "code",
   "execution_count": null,
   "metadata": {},
   "outputs": [],
   "source": [
    "binsize_ohm = 300\n",
    "dM = 1/binsize_ohm \n",
    "dmx = 0.5/binsize_ohm \n",
    "#Mediator mass [Tev] # \n",
    "Mmed_min = 0.0001\n",
    "Mmed_max = 5.1\n",
    "Mmed_arr = np.linspace(Mmed_min, Mmed_max, binsize_ohm)\n",
    "\n",
    "# DM particle mass [Tev] #\n",
    "mx_min = 0.0001\n",
    "mx_max = 2.6\n",
    "mx_arr = np.linspace(mx_min, mx_max, binsize_ohm)\n",
    "\n",
    "# Define a grid\n",
    "Mmed_grid_ohm, mx_grid_ohm = np.meshgrid(Mmed_arr, mx_arr) # grid formation for plot\n",
    "\n",
    "print('Doing mass x mass...')\n",
    "omegarelic_mass = {}\n",
    "\n",
    "process = 'qq'\n",
    "Nf_x = gp.Nf_ee if process == 'ee' else gp.Nf_qq\n",
    "gr0 = gp.gr0_e if process == 'ee' else gp.gr0_q\n",
    "gr0 = 0.1\n",
    "\n",
    "for gr_i in [0.1, 0.25]:\n",
    "    for fignumber, dmname in enumerate(newdm_list):\n",
    "\n",
    "\n",
    "        print(f'Doing {dmname}')\n",
    "        param_lst = [Mmed_grid_ohm**2, gp.me, Mmed_grid_ohm, mx_grid_ohm, gr_i, gr_i, gp.gx0, dmname, Nf_x]\n",
    "        omegarelic_mass[f'{dmname}'] = {}\n",
    "        \n",
    "        #if dmname == 'Vector':\n",
    "        #omegarelic_mass[f'{dmname}']['data'] = ohm.Ohm_numerical(Mmed_grid_ohm**2, gp.me, Mmed_grid_ohm, mx_grid_ohm, gr0, gr0, gp.gx0, dmname, Nf_x) #super_naive\n",
    "        omegarelic_mass[f'{dmname}']['data'] = ohm.super_naive(4*mx_grid_ohm**2, gp.me, Mmed_grid_ohm, mx_grid_ohm, gr_i, gr_i, gp.gx0, dmname, Nf_x)\n",
    "        #else: \n",
    "        #    omegarelic_mass[f'{dmname}']['data'] = omegarelic_mass_old[f'{dmname}']\n",
    "\n",
    "        omegarelic_mass[f'{dmname}']['params'] = dict(zip(['s', 'mq', 'Mmed', 'mx', 'gr', 'gl', 'gx', 'dmname', 'Nf'], param_lst))\n",
    "        # saves the computed data for that DM scenario\n",
    "        gp.save_obj(omegarelic_mass[f'{dmname}'], f'./myruns/{today}_supernaive_omegarelic_mass_{process}_{dmname}_binsize_{binsize_ohm}_gr_{gr0}.pkl')\n",
    "        print(f'Done for {dmname}')\n",
    "\n",
    "#gp.save_obj(omegarelic_mass, f'../myruns/{today}_omegarelic_mass_ee_{dmname}_binsize_{binsize_ohm}.pkl')"
   ]
  },
  {
   "cell_type": "markdown",
   "metadata": {},
   "source": [
    "## qq - relic Plots"
   ]
  },
  {
   "attachments": {},
   "cell_type": "markdown",
   "metadata": {},
   "source": [
    "#### gq = 0.1"
   ]
  },
  {
   "cell_type": "code",
   "execution_count": null,
   "metadata": {},
   "outputs": [],
   "source": [
    "## GONDOLO RESONANT RELIC\n",
    "binsize_ohm = 70\n",
    "process = 'qq'\n",
    "Nf_x = gp.Nf_ee if process == 'ee' else gp.Nf_qq\n",
    "gr0 = 0.1\n",
    "omegarelic_mass = {}\n",
    "for dmname in newdm_list:\n",
    "    omegarelic_mass[dmname]  = gp.load_obj(f'./myruns/{today}_omegarelic_mass_{process}_{dmname}_binsize_{binsize_ohm}_gr_{gr0}.pkl')\n",
    "#-------------------------------------------------------------------------------------------------------------------------------------------------------------------------------------\n",
    "\n",
    "## NAIVE RELIC \n",
    "binsize_ohm = 300\n",
    "process = 'qq'\n",
    "Nf_x = gp.Nf_ee if process == 'ee' else gp.Nf_qq\n",
    "omegarelic_mass2 = {}\n",
    "for dmname in newdm_list:\n",
    "    omegarelic_mass2[dmname]  = gp.load_obj(f'./myruns/{today}_supernaive_omegarelic_mass_{process}_{dmname}_binsize_{binsize_ohm}_gr_{gr0}.pkl')\n",
    "#-------------------------------------------------------------------------------------------------------------------------------------------------------------------------------------\n",
    "\n",
    "\n",
    "## PLOT\n",
    "cb2d.cb_mass_relic(process, f'omega-relic-{process}-mass_gr_{gr0}', omegarelic_mass, newdm_list,  gr0, folder = '../figures', today = today, data_object2=omegarelic_mass2)"
   ]
  },
  {
   "cell_type": "markdown",
   "metadata": {},
   "source": [
    "### gr = 0.25"
   ]
  },
  {
   "cell_type": "code",
   "execution_count": null,
   "metadata": {},
   "outputs": [],
   "source": [
    "## GONDOLO RESONANT RELIC\n",
    "binsize_ohm = 70\n",
    "process = 'qq'\n",
    "Nf_x = gp.Nf_ee if process == 'ee' else gp.Nf_qq\n",
    "gr0 = 0.25\n",
    "omegarelic_mass = {}\n",
    "for dmname in newdm_list:\n",
    "    omegarelic_mass[dmname]  = gp.load_obj(f'./myruns/{today}_omegarelic_mass_{process}_{dmname}_binsize_{binsize_ohm}_gr_{gr0}.pkl')\n",
    "#-------------------------------------------------------------------------------------------------------------------------------------------------------------------------------------\n",
    "\n",
    "## NAIVE RELIC \n",
    "binsize_ohm = 300\n",
    "process = 'qq'\n",
    "Nf_x = gp.Nf_ee if process == 'ee' else gp.Nf_qq\n",
    "omegarelic_mass2 = {}\n",
    "for dmname in newdm_list:\n",
    "    omegarelic_mass2[dmname]  = gp.load_obj(f'./myruns/{today}_supernaive_omegarelic_mass_{process}_{dmname}_binsize_{binsize_ohm}_gr_{gr0}.pkl')\n",
    "#-------------------------------------------------------------------------------------------------------------------------------------------------------------------------------------\n",
    "\n",
    "\n",
    "## PLOT\n",
    "cb2d.cb_mass_relic(process, f'omega-relic-{process}-mass_gr_{gr0}', omegarelic_mass, newdm_list,  gr0, folder = '../figures', today = today, data_object2=omegarelic_mass2)"
   ]
  },
  {
   "attachments": {},
   "cell_type": "markdown",
   "metadata": {},
   "source": [
    "## XSEC Mass x Mass qq"
   ]
  },
  {
   "cell_type": "code",
   "execution_count": null,
   "metadata": {},
   "outputs": [],
   "source": [
    "binsize = 100\n",
    "dM = 1/binsize\n",
    "dmx = 0.5/binsize\n",
    "#Mediator mass [Tev] # \n",
    "Mmed_min = 0.001\n",
    "Mmed_max = 5.1\n",
    "Mmed_arr = np.arange(Mmed_min, Mmed_max, dM)\n",
    "# DM particle mass [Tev] #\n",
    "mx_min = 0.001\n",
    "mx_max = 2.60\n",
    "mx_arr = np.arange(mx_min, mx_max, dmx)\n",
    "# Define a grid\n",
    "Mmed_grid, mx_grid = np.meshgrid(Mmed_arr, mx_arr) # grid formation for plot\n",
    "## CM total energy (14 TeV for HL-LHC)\n",
    "s_max = (14)**2  \n",
    "\n",
    "process = 'qq'\n",
    "Nf_x = gp.Nf_ee if process == 'ee' else gp.Nf_qq\n",
    "gr0 = gp.gr0_e if process == 'ee' else gp.gr0_q\n",
    "\n",
    "for gr_i in [0.1, 0.25]:\n",
    "\n",
    "    ## Recalculates... \n",
    "    sigmaz = {}\n",
    "    sighat_hphoton = {}\n",
    "    for fignumber, dmname in enumerate(newdm_list):\n",
    "\n",
    "        #define pdf\n",
    "        print(f'Doing {dmname}')\n",
    "        PDF_sets = ['CT10', 'NNPDF31_lo_as_0118', 'CT18NLO', 'MMHT2014lo68cl', 'PDF4LHC15_nlo_100']\n",
    "        pdf = lhapdf.mkPDF(PDF_sets[1], 0)\n",
    "        param_lst = [Mmed_grid**2, me, Mmed_grid, mx_grid, gr_i, gr_i, gp.gx0, dmname, gp.Nf_qq]\n",
    "        sigmaz[dmname] = {}\n",
    "\n",
    "        sig0funcs = sig0.SFV(dmname).sig0\n",
    "        sighat_hphoton[f'{dmname}'] = hp.HPhsig(Mmed_grid**2, me, Mmed_grid, mx_grid, gr_i, gr_i, gp.gx0, sig0funcs, gp.Nf_qq)\n",
    "\n",
    "        sigmaz[f'{dmname}']['data'] = qcd.dsigdM2_ISR(pdf, s_max, (Mmed_grid)**2/s_max, Mmed_grid, 1, mx_grid, gr_i, gr_i, gp.gx0, sighat_hphoton[f'{dmname}'])\n",
    "        sigmaz[f'{dmname}']['data'] = np.array(list(sigmaz[f'{dmname}']['data'][:, :]), dtype=np.float)\n",
    "\n",
    "        sigmaz[f'{dmname}']['params'] = dict(zip(['s', 'mq', 'Mmed', 'mx', 'gr', 'gl', 'gx', 'dmname', 'Nf'], param_lst))\n",
    "        \n",
    "        # Saves the file\n",
    "        gp.save_obj(sigmaz[f'{dmname}'], f'./myruns/{today}_sigmaz_mass_{process}_{dmname}_binsize_{binsize}_gr_{gr0}.pkl')\n",
    "\n"
   ]
  },
  {
   "cell_type": "markdown",
   "metadata": {},
   "source": [
    "### xsec - Plots"
   ]
  },
  {
   "cell_type": "markdown",
   "metadata": {},
   "source": [
    "#### gr = 0.1"
   ]
  },
  {
   "cell_type": "code",
   "execution_count": null,
   "metadata": {},
   "outputs": [],
   "source": [
    "\n",
    "process = 'qq'\n",
    "Nf_x = gp.Nf_ee if process == 'ee' else gp.Nf_qq\n",
    "gr0 = gp.gr0_e if process == 'ee' else gp.gr0_q\n",
    "gr0 = 0.1\n",
    "\n",
    "## CROSS SECTION\n",
    "binsize = 100\n",
    "sigmaz = {}\n",
    "for dmname in newdm_list:\n",
    "    sigmaz[dmname]  = gp.load_obj(f'./myruns/{today}_sigmaz_mass_{process}_{dmname}_binsize_{binsize}_gr_{gr0}.pkl')\n",
    "#-------------------------------------------------------------------------------------------------------------------------------------------------------------------------------------\n",
    "\n",
    "\n",
    "## RESONANT RELIC\n",
    "binsize_ohm = 70\n",
    "omegarelic_mass = {}\n",
    "for dmname in newdm_list:\n",
    "    omegarelic_mass[dmname]  = gp.load_obj(f'./myruns/{today}_omegarelic_mass_{process}_{dmname}_binsize_{binsize_ohm}_gr_{gr0}.pkl')\n",
    "#-------------------------------------------------------------------------------------------------------------------------------------------------------------------------------------\n",
    "\n",
    "\n",
    "\n",
    "## NAIVE RELIC \n",
    "binsize_ohm = 300\n",
    "process = 'qq'\n",
    "Nf_x = gp.Nf_ee if process == 'ee' else gp.Nf_qq\n",
    "omegarelic_mass2 = {}\n",
    "for dmname in newdm_list:\n",
    "    omegarelic_mass2[dmname]  = gp.load_obj(f'./myruns/{today}_supernaive_omegarelic_mass_{process}_{dmname}_binsize_{binsize_ohm}_gr_{gr0}.pkl')\n",
    "#-------------------------------------------------------------------------------------------------------------------------------------------------------------------------------------\n",
    "\n",
    "\n",
    "cb2d.cb_mass(process, f'massxmass-{process}-ISR_gr_{gr0}', sigmaz, omegarelic_mass, newdm_list, gr0, data_object2= omegarelic_mass2, fix_scale=True, cmap=new_cmap_ee, vmin=10**-4, vmax=10**10)"
   ]
  },
  {
   "attachments": {},
   "cell_type": "markdown",
   "metadata": {},
   "source": [
    "#### gq = 0.25"
   ]
  },
  {
   "cell_type": "code",
   "execution_count": null,
   "metadata": {},
   "outputs": [],
   "source": [
    "\n",
    "process = 'qq'\n",
    "Nf_x = gp.Nf_ee if process == 'ee' else gp.Nf_qq\n",
    "gr0 = gp.gr0_e if process == 'ee' else gp.gr0_q\n",
    "gr0 = 0.25\n",
    "\n",
    "## CROSS SECTION\n",
    "binsize = 100\n",
    "sigmaz = {}\n",
    "for dmname in newdm_list:\n",
    "    sigmaz[dmname]  = gp.load_obj(f'./myruns/{today}_sigmaz_mass_{process}_{dmname}_binsize_{binsize}_gr_{gr0}.pkl')\n",
    "#-------------------------------------------------------------------------------------------------------------------------------------------------------------------------------------\n",
    "\n",
    "\n",
    "## RESONANT RELIC\n",
    "binsize_ohm = 70\n",
    "omegarelic_mass = {}\n",
    "for dmname in newdm_list:\n",
    "    omegarelic_mass[dmname]  = gp.load_obj(f'./myruns/{today}_omegarelic_mass_{process}_{dmname}_binsize_{binsize_ohm}_gr_{gr0}.pkl')\n",
    "#-------------------------------------------------------------------------------------------------------------------------------------------------------------------------------------\n",
    "\n",
    "\n",
    "\n",
    "## NAIVE RELIC \n",
    "binsize_ohm = 300\n",
    "process = 'qq'\n",
    "Nf_x = gp.Nf_ee if process == 'ee' else gp.Nf_qq\n",
    "omegarelic_mass2 = {}\n",
    "for dmname in newdm_list:\n",
    "    omegarelic_mass2[dmname]  = gp.load_obj(f'./myruns/{today}_supernaive_omegarelic_mass_{process}_{dmname}_binsize_{binsize_ohm}_gr_{gr0}.pkl')\n",
    "#-------------------------------------------------------------------------------------------------------------------------------------------------------------------------------------\n",
    "\n",
    "\n",
    "cb2d.cb_mass(process, f'massxmass-{process}-ISR_gr_{gr0}', sigmaz, omegarelic_mass, newdm_list, gr0, data_object2= omegarelic_mass2,  cmap=new_cmap_ee, vmin=10**-4, vmax=10**10)\n",
    "#cb2d.cb_plot3x1(process, f'11-massxmass-{process}-ISR', sigmaz, omegarelic_mass, newdm_list, gr0, cmap = 'twilight', fsize = 18, folder = '../figures')"
   ]
  }
 ],
 "metadata": {
  "kernelspec": {
   "display_name": "Python 3",
   "language": "python",
   "name": "python3"
  },
  "language_info": {
   "codemirror_mode": {
    "name": "ipython",
    "version": 3
   },
   "file_extension": ".py",
   "mimetype": "text/x-python",
   "name": "python",
   "nbconvert_exporter": "python",
   "pygments_lexer": "ipython3",
   "version": "3.10.12"
  },
  "orig_nbformat": 4,
  "vscode": {
   "interpreter": {
    "hash": "767d51c1340bd893661ea55ea3124f6de3c7a262a8b4abca0554b478b1e2ff90"
   }
  }
 },
 "nbformat": 4,
 "nbformat_minor": 2
}
